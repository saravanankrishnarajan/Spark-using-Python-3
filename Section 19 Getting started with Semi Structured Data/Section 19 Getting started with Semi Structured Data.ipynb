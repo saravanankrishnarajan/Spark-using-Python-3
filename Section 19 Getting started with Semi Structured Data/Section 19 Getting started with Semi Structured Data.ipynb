{
 "cells": [
  {
   "cell_type": "markdown",
   "id": "14edc45b",
   "metadata": {},
   "source": [
    "## Section 19 Getting started with Semi Structured Data"
   ]
  },
  {
   "cell_type": "code",
   "execution_count": 1,
   "id": "a858d503",
   "metadata": {},
   "outputs": [],
   "source": [
    "from pyspark.sql import SparkSession\n",
    "\n",
    "import getpass\n",
    "\n",
    "username = getpass.getuser()"
   ]
  },
  {
   "cell_type": "code",
   "execution_count": 2,
   "id": "2e179e02",
   "metadata": {},
   "outputs": [
    {
     "data": {
      "text/plain": [
       "'itv011204'"
      ]
     },
     "execution_count": 2,
     "metadata": {},
     "output_type": "execute_result"
    }
   ],
   "source": [
    "username"
   ]
  },
  {
   "cell_type": "code",
   "execution_count": 5,
   "id": "f887f882",
   "metadata": {},
   "outputs": [],
   "source": [
    "spark = SparkSession. \\\n",
    "    builder. \\\n",
    "    config('spark.ui.port','0'). \\\n",
    "    config('spark.sql.warehouse.dir',f'/user/{username}/warehouse'). \\\n",
    "    enableHiveSupport(). \\\n",
    "    appName(f'{username} | Section 19 Semi Structured Data'). \\\n",
    "    master('yarn'). \\\n",
    "    getOrCreate()\n",
    "    "
   ]
  },
  {
   "cell_type": "code",
   "execution_count": 6,
   "id": "765d5b60",
   "metadata": {},
   "outputs": [],
   "source": [
    "spark.conf.set('spark.sql.shuffle.partitions','2')"
   ]
  },
  {
   "cell_type": "code",
   "execution_count": 7,
   "id": "738555c6",
   "metadata": {},
   "outputs": [
    {
     "data": {
      "text/plain": [
       "[('spark.eventLog.enabled', 'true'),\n",
       " ('spark.sql.repl.eagerEval.enabled', 'true'),\n",
       " ('spark.app.name', 'itv011204 | Section 19 Semi Structured Data'),\n",
       " ('spark.eventLog.dir', 'hdfs:///spark-logs'),\n",
       " ('spark.dynamicAllocation.maxExecutors', '10'),\n",
       " ('spark.yarn.historyServer.address', 'm02.itversity.com:18080'),\n",
       " ('spark.yarn.jars', ''),\n",
       " ('spark.history.provider',\n",
       "  'org.apache.spark.deploy.history.FsHistoryProvider'),\n",
       " ('spark.serializer.objectStreamReset', '100'),\n",
       " ('spark.history.fs.logDirectory', 'hdfs:///spark-logs'),\n",
       " ('spark.submit.deployMode', 'client'),\n",
       " ('spark.history.fs.update.interval', '10s'),\n",
       " ('spark.driver.extraJavaOptions', '-Dderby.system.home=/tmp/derby/'),\n",
       " ('spark.org.apache.hadoop.yarn.server.webproxy.amfilter.AmIpFilter.param.PROXY_HOSTS',\n",
       "  'm02.itversity.com'),\n",
       " ('spark.ui.filters',\n",
       "  'org.apache.hadoop.yarn.server.webproxy.amfilter.AmIpFilter'),\n",
       " ('spark.driver.appUIAddress', 'http://g02.itversity.com:44379'),\n",
       " ('spark.executor.extraLibraryPath', '/opt/hadoop/lib/native'),\n",
       " ('spark.ui.proxyBase', '/proxy/application_1707552082651_8748'),\n",
       " ('spark.history.ui.port', '18080'),\n",
       " ('spark.shuffle.service.enabled', 'true'),\n",
       " ('spark.driver.host', 'g02.itversity.com'),\n",
       " ('spark.org.apache.hadoop.yarn.server.webproxy.amfilter.AmIpFilter.param.PROXY_URI_BASES',\n",
       "  'http://m02.itversity.com:19088/proxy/application_1707552082651_8748'),\n",
       " ('spark.dynamicAllocation.minExecutors', '2'),\n",
       " ('spark.executor.id', 'driver'),\n",
       " ('spark.sql.warehouse.dir', '/user/itv011204/warehouse'),\n",
       " ('spark.history.fs.cleaner.enabled', 'true'),\n",
       " ('spark.executorEnv.PYTHONPATH',\n",
       "  '/opt/spark-3.1.2-bin-hadoop3.2/python/lib/py4j-0.10.9-src.zip:/opt/spark-3.1.2-bin-hadoop3.2/python<CPS>{{PWD}}/pyspark.zip<CPS>{{PWD}}/py4j-0.10.9-src.zip'),\n",
       " ('spark.master', 'yarn'),\n",
       " ('spark.ui.port', '0'),\n",
       " ('spark.sql.catalogImplementation', 'hive'),\n",
       " ('spark.app.id', 'application_1707552082651_8748'),\n",
       " ('spark.rdd.compress', 'True'),\n",
       " ('spark.app.startTime', '1708465717619'),\n",
       " ('spark.submit.pyFiles', ''),\n",
       " ('spark.yarn.isPython', 'true'),\n",
       " ('spark.dynamicAllocation.enabled', 'true'),\n",
       " ('spark.driver.port', '34523'),\n",
       " ('spark.ui.showConsoleProgress', 'true')]"
      ]
     },
     "execution_count": 7,
     "metadata": {},
     "output_type": "execute_result"
    }
   ],
   "source": [
    "spark.sparkContext.getConf().getAll()"
   ]
  },
  {
   "cell_type": "code",
   "execution_count": 8,
   "id": "b0dd4bea",
   "metadata": {},
   "outputs": [],
   "source": [
    "spark.sparkContext.getConf().get('spark.sql.shuffle.partitions')"
   ]
  },
  {
   "cell_type": "code",
   "execution_count": 9,
   "id": "5b58df2c",
   "metadata": {},
   "outputs": [
    {
     "data": {
      "text/html": [
       "<table border='1'>\n",
       "<tr><th></th></tr>\n",
       "</table>\n"
      ],
      "text/plain": [
       "++\n",
       "||\n",
       "++\n",
       "++"
      ]
     },
     "execution_count": 9,
     "metadata": {},
     "output_type": "execute_result"
    }
   ],
   "source": [
    "spark.sql(f'CREATE DATABASE IF NOT EXISTS {username}_demo')"
   ]
  },
  {
   "cell_type": "code",
   "execution_count": 10,
   "id": "c36dc593",
   "metadata": {},
   "outputs": [
    {
     "data": {
      "text/html": [
       "<table border='1'>\n",
       "<tr><th></th></tr>\n",
       "</table>\n"
      ],
      "text/plain": [
       "++\n",
       "||\n",
       "++\n",
       "++"
      ]
     },
     "execution_count": 10,
     "metadata": {},
     "output_type": "execute_result"
    }
   ],
   "source": [
    "spark.sql(f'USE {username}_demo')"
   ]
  },
  {
   "cell_type": "code",
   "execution_count": 11,
   "id": "685edaf3",
   "metadata": {},
   "outputs": [
    {
     "data": {
      "text/html": [
       "<table border='1'>\n",
       "<tr><th></th></tr>\n",
       "</table>\n"
      ],
      "text/plain": [
       "++\n",
       "||\n",
       "++\n",
       "++"
      ]
     },
     "execution_count": 11,
     "metadata": {},
     "output_type": "execute_result"
    }
   ],
   "source": [
    "spark.sql('DROP TABLE IF EXISTS employees')"
   ]
  },
  {
   "cell_type": "code",
   "execution_count": 12,
   "id": "2a1f5553",
   "metadata": {},
   "outputs": [
    {
     "data": {
      "text/plain": [
       "list"
      ]
     },
     "execution_count": 12,
     "metadata": {},
     "output_type": "execute_result"
    }
   ],
   "source": [
    "# Array python list\n",
    "\n",
    "type(['+1 123 456 7890','+91 1234 567890'])"
   ]
  },
  {
   "cell_type": "code",
   "execution_count": 13,
   "id": "e05d8c48",
   "metadata": {},
   "outputs": [
    {
     "data": {
      "text/plain": [
       "list"
      ]
     },
     "execution_count": 13,
     "metadata": {},
     "output_type": "execute_result"
    }
   ],
   "source": [
    "# Array json list\n",
    "\n",
    "type([\"+1 123 456 7890\",\"+91 1234 567890\"])"
   ]
  },
  {
   "cell_type": "code",
   "execution_count": 14,
   "id": "6939932d",
   "metadata": {},
   "outputs": [
    {
     "data": {
      "text/plain": [
       "{'home': '+1 123 456 7890', 'business': '+91 1234 567890'}"
      ]
     },
     "execution_count": 14,
     "metadata": {},
     "output_type": "execute_result"
    }
   ],
   "source": [
    "{\"home\":\"+1 123 456 7890\",\"business\":\"+91 1234 567890\" }"
   ]
  },
  {
   "cell_type": "code",
   "execution_count": 15,
   "id": "4af5275f",
   "metadata": {},
   "outputs": [
    {
     "ename": "SyntaxError",
     "evalue": "invalid syntax (<ipython-input-15-205169211310>, line 1)",
     "output_type": "error",
     "traceback": [
      "\u001b[0;36m  File \u001b[0;32m\"<ipython-input-15-205169211310>\"\u001b[0;36m, line \u001b[0;32m1\u001b[0m\n\u001b[0;31m    {\"Street Address\": \"Street 1\":, \"City\":\"Round Rock\", \"State\":\"TX\", \"Zip Code\", 12345 }\u001b[0m\n\u001b[0m                                 ^\u001b[0m\n\u001b[0;31mSyntaxError\u001b[0m\u001b[0;31m:\u001b[0m invalid syntax\n"
     ]
    }
   ],
   "source": [
    "{\"Street Address\": \"Street 1\":, \"City\":\"Round Rock\", \"State\":\"TX\", \"Zip Code\", 12345 }"
   ]
  },
  {
   "cell_type": "code",
   "execution_count": 16,
   "id": "8f5d5605",
   "metadata": {},
   "outputs": [
    {
     "data": {
      "text/html": [
       "<table border='1'>\n",
       "<tr><th></th></tr>\n",
       "</table>\n"
      ],
      "text/plain": [
       "++\n",
       "||\n",
       "++\n",
       "++"
      ]
     },
     "execution_count": 16,
     "metadata": {},
     "output_type": "execute_result"
    }
   ],
   "source": [
    "spark.sql(\"\"\"\n",
    "    CREATE TABLE employees(\n",
    "        employee_id INT,\n",
    "        employee_first_name STRING,\n",
    "        employee_last_name STRING,\n",
    "        employee_salary FLOAT,\n",
    "        employee_nationality STRING,\n",
    "        employee_email_ids ARRAY<STRING>,\n",
    "        employee_phone_numbers MAP<STRING, STRING>,\n",
    "        employee_ssn STRING,\n",
    "        employee_address STRUCT<street: STRING, city: STRING, state: STRING, postal_code: INT>\n",
    "    )\n",
    "\"\"\")"
   ]
  },
  {
   "cell_type": "code",
   "execution_count": 17,
   "id": "e3e62ba5",
   "metadata": {},
   "outputs": [
    {
     "data": {
      "text/html": [
       "<table border='1'>\n",
       "<tr><th>database</th><th>tableName</th><th>isTemporary</th></tr>\n",
       "<tr><td>itv011204_demo</td><td>employees</td><td>false</td></tr>\n",
       "</table>\n"
      ],
      "text/plain": [
       "+--------------+---------+-----------+\n",
       "|      database|tableName|isTemporary|\n",
       "+--------------+---------+-----------+\n",
       "|itv011204_demo|employees|      false|\n",
       "+--------------+---------+-----------+"
      ]
     },
     "execution_count": 17,
     "metadata": {},
     "output_type": "execute_result"
    }
   ],
   "source": [
    "spark.sql(\"SHOW TABLES\")"
   ]
  },
  {
   "cell_type": "code",
   "execution_count": 18,
   "id": "4eecf755",
   "metadata": {
    "tags": []
   },
   "outputs": [
    {
     "name": "stdout",
     "output_type": "stream",
     "text": [
      "+----------------------+--------------------------------------------------------------+-------+\n",
      "|col_name              |data_type                                                     |comment|\n",
      "+----------------------+--------------------------------------------------------------+-------+\n",
      "|employee_id           |int                                                           |null   |\n",
      "|employee_first_name   |string                                                        |null   |\n",
      "|employee_last_name    |string                                                        |null   |\n",
      "|employee_salary       |float                                                         |null   |\n",
      "|employee_nationality  |string                                                        |null   |\n",
      "|employee_email_ids    |array<string>                                                 |null   |\n",
      "|employee_phone_numbers|map<string,string>                                            |null   |\n",
      "|employee_ssn          |string                                                        |null   |\n",
      "|employee_address      |struct<street:string,city:string,state:string,postal_code:int>|null   |\n",
      "+----------------------+--------------------------------------------------------------+-------+\n",
      "\n"
     ]
    }
   ],
   "source": [
    "spark.sql(\"DESCRIBE employees\").show(truncate=False)"
   ]
  },
  {
   "cell_type": "code",
   "execution_count": 19,
   "id": "66c58f87",
   "metadata": {},
   "outputs": [
    {
     "ename": "SyntaxError",
     "evalue": "invalid syntax (<ipython-input-19-f670835ac232>, line 1)",
     "output_type": "error",
     "traceback": [
      "\u001b[0;36m  File \u001b[0;32m\"<ipython-input-19-f670835ac232>\"\u001b[0;36m, line \u001b[0;32m1\u001b[0m\n\u001b[0;31m    MAP<STRING , ARRAY<STRING>>\u001b[0m\n\u001b[0m                               ^\u001b[0m\n\u001b[0;31mSyntaxError\u001b[0m\u001b[0;31m:\u001b[0m invalid syntax\n"
     ]
    }
   ],
   "source": [
    "MAP<STRING , ARRAY<STRING>>"
   ]
  },
  {
   "cell_type": "code",
   "execution_count": 20,
   "id": "37bcdd58",
   "metadata": {},
   "outputs": [
    {
     "data": {
      "text/html": [
       "<table border='1'>\n",
       "<tr><th></th></tr>\n",
       "</table>\n"
      ],
      "text/plain": [
       "++\n",
       "||\n",
       "++\n",
       "++"
      ]
     },
     "execution_count": 20,
     "metadata": {},
     "output_type": "execute_result"
    }
   ],
   "source": [
    "spark.sql(\"\"\"\n",
    "    INSERT INTO employees\n",
    "    VALUES(1, 'Scott', 'Tiger', 1000.0, 'United States',\n",
    "        ARRAY('scott@tiger.com','stiger@companyx.com'),\n",
    "        MAP('Home','+1 234 567 8901', 'Office','+1 345 678 9012'), '789 12 6118',\n",
    "        STRUCT('1234 ABC St', 'My City', 'My State', 13455)\n",
    "    )\n",
    "\"\"\")"
   ]
  },
  {
   "cell_type": "code",
   "execution_count": 21,
   "id": "9a606bea",
   "metadata": {},
   "outputs": [
    {
     "name": "stdout",
     "output_type": "stream",
     "text": [
      "+-----------+--------------------------------------+----------------------------------------------------+---------------------------------------+\n",
      "|employee_id|employee_email_ids                    |employee_phone_numbers                              |employee_address                       |\n",
      "+-----------+--------------------------------------+----------------------------------------------------+---------------------------------------+\n",
      "|1          |[scott@tiger.com, stiger@companyx.com]|{Home -> +1 234 567 8901, Office -> +1 345 678 9012}|{1234 ABC St, My City, My State, 13455}|\n",
      "+-----------+--------------------------------------+----------------------------------------------------+---------------------------------------+\n",
      "\n"
     ]
    }
   ],
   "source": [
    "spark.sql(\"SELECT employee_id, employee_email_ids, employee_phone_numbers, employee_address FROM employees\"). \\\n",
    "    show(truncate=False)"
   ]
  },
  {
   "cell_type": "code",
   "execution_count": 22,
   "id": "7c0a3ef6",
   "metadata": {},
   "outputs": [],
   "source": [
    "employees = [\n",
    "    (2, \"Henry\", \"Ford\", 1250.0, \"India\",\n",
    "     ['henry@ford.com', 'hford@companyx.com'],\n",
    "     {\"Home\": \"+91 234 567 8901\", \"Office\": \"+91 345 678 9012\"},\n",
    "     \"456 78 9123\",('111 BCD Cir', 'Some City', 'Some State', 500091)\n",
    "    ),\n",
    "    (3, \"Nick\", \"Junior\", 750.0, \"United Kingdom\",\n",
    "     ['nick@junior.com', 'njunior@companyx.com'],\n",
    "     {\"Home\": \"+44 111 111 1111\", \"Office\": \"+44 222 222 2222\"},\n",
    "     \"222 33 4444\",('222 Giant Cly', 'UK City', 'UK Province', None)\n",
    "    ),\n",
    "    (4, \"Bill\", \"Gomes\", 1500.0, \"Australia\",\n",
    "     ['bill@gomes.com','bgomes@companyx.com'],\n",
    "     {\"Home\":\"+61 987 654 3210\", \"Office\": \"+61 876 543 2109\"},\n",
    "     \"789 12 6118\", None\n",
    "    ),\n",
    "    (5, \"Saravanan\", \"Krishnarajan\", 1600.0, \"Sweden\",\n",
    "     ['saravanan@krishnarajan.com','skrishnarajan@companyx.com'],\n",
    "     {\"Home\":\"+46 987 654 3210\", \"Office\": \"+46 876 543 2109\",\"Mobile\":\"+46 222 222222\"},\n",
    "     \"789 12 6118\", None\n",
    "    )\n",
    "]"
   ]
  },
  {
   "cell_type": "code",
   "execution_count": 23,
   "id": "5de0c059",
   "metadata": {},
   "outputs": [
    {
     "data": {
      "text/plain": [
       "list"
      ]
     },
     "execution_count": 23,
     "metadata": {},
     "output_type": "execute_result"
    }
   ],
   "source": [
    "type(employees)"
   ]
  },
  {
   "cell_type": "code",
   "execution_count": 24,
   "id": "abd36a97",
   "metadata": {},
   "outputs": [
    {
     "data": {
      "text/plain": [
       "(2,\n",
       " 'Henry',\n",
       " 'Ford',\n",
       " 1250.0,\n",
       " 'India',\n",
       " ['henry@ford.com', 'hford@companyx.com'],\n",
       " {'Home': '+91 234 567 8901', 'Office': '+91 345 678 9012'},\n",
       " '456 78 9123',\n",
       " ('111 BCD Cir', 'Some City', 'Some State', 500091))"
      ]
     },
     "execution_count": 24,
     "metadata": {},
     "output_type": "execute_result"
    }
   ],
   "source": [
    "employees[0]"
   ]
  },
  {
   "cell_type": "code",
   "execution_count": 25,
   "id": "a45b6476",
   "metadata": {},
   "outputs": [
    {
     "data": {
      "text/plain": [
       "2"
      ]
     },
     "execution_count": 25,
     "metadata": {},
     "output_type": "execute_result"
    }
   ],
   "source": [
    "employees[0][0]"
   ]
  },
  {
   "cell_type": "code",
   "execution_count": 26,
   "id": "467798a3",
   "metadata": {},
   "outputs": [
    {
     "data": {
      "text/plain": [
       "'Henry'"
      ]
     },
     "execution_count": 26,
     "metadata": {},
     "output_type": "execute_result"
    }
   ],
   "source": [
    "employees[0][1]"
   ]
  },
  {
   "cell_type": "code",
   "execution_count": 27,
   "id": "01312ee9",
   "metadata": {},
   "outputs": [
    {
     "data": {
      "text/plain": [
       "(3,\n",
       " 'Nick',\n",
       " 'Junior',\n",
       " 750.0,\n",
       " 'United Kingdom',\n",
       " ['nick@junior.com', 'njunior@companyx.com'],\n",
       " {'Home': '+44 111 111 1111', 'Office': '+44 222 222 2222'},\n",
       " '222 33 4444',\n",
       " ('222 Giant Cly', 'UK City', 'UK Province', None))"
      ]
     },
     "execution_count": 27,
     "metadata": {},
     "output_type": "execute_result"
    }
   ],
   "source": [
    "employees[:][1]"
   ]
  },
  {
   "cell_type": "code",
   "execution_count": 28,
   "id": "d888b234",
   "metadata": {},
   "outputs": [],
   "source": [
    "employees_df = spark.createDataFrame(\n",
    "    employees,\n",
    "    schema = \"\"\"\n",
    "        employee_id INT, employee_first_name STRING, employee_last_name STRING, \n",
    "        employee_salary FLOAT, employee_nationality STRING,\n",
    "        employee_email_ids ARRAY<STRING>,\n",
    "        employee_phone_numbers MAP<STRING, STRING>,\n",
    "        employee_ssn STRING,\n",
    "        employee_address STRUCT<street: STRING, city: STRING, state: STRING, postal_code: INT>\n",
    "    \"\"\"\n",
    ")"
   ]
  },
  {
   "cell_type": "code",
   "execution_count": 29,
   "id": "76149e7e",
   "metadata": {},
   "outputs": [
    {
     "name": "stdout",
     "output_type": "stream",
     "text": [
      "root\n",
      " |-- employee_id: integer (nullable = true)\n",
      " |-- employee_first_name: string (nullable = true)\n",
      " |-- employee_last_name: string (nullable = true)\n",
      " |-- employee_salary: float (nullable = true)\n",
      " |-- employee_nationality: string (nullable = true)\n",
      " |-- employee_email_ids: array (nullable = true)\n",
      " |    |-- element: string (containsNull = true)\n",
      " |-- employee_phone_numbers: map (nullable = true)\n",
      " |    |-- key: string\n",
      " |    |-- value: string (valueContainsNull = true)\n",
      " |-- employee_ssn: string (nullable = true)\n",
      " |-- employee_address: struct (nullable = true)\n",
      " |    |-- street: string (nullable = true)\n",
      " |    |-- city: string (nullable = true)\n",
      " |    |-- state: string (nullable = true)\n",
      " |    |-- postal_code: integer (nullable = true)\n",
      "\n"
     ]
    }
   ],
   "source": [
    "employees_df.printSchema()"
   ]
  },
  {
   "cell_type": "code",
   "execution_count": 30,
   "id": "1ca8022e",
   "metadata": {},
   "outputs": [
    {
     "name": "stdout",
     "output_type": "stream",
     "text": [
      "+--------------------------------------------------------+\n",
      "|employee_email_ids                                      |\n",
      "+--------------------------------------------------------+\n",
      "|[henry@ford.com, hford@companyx.com]                    |\n",
      "|[nick@junior.com, njunior@companyx.com]                 |\n",
      "|[bill@gomes.com, bgomes@companyx.com]                   |\n",
      "|[saravanan@krishnarajan.com, skrishnarajan@companyx.com]|\n",
      "+--------------------------------------------------------+\n",
      "\n"
     ]
    }
   ],
   "source": [
    "employees_df.select('employee_email_ids').show(truncate=False)"
   ]
  },
  {
   "cell_type": "code",
   "execution_count": 31,
   "id": "9ead8b99",
   "metadata": {},
   "outputs": [
    {
     "name": "stdout",
     "output_type": "stream",
     "text": [
      "+--------------------------------------------------------------------------------+\n",
      "|employee_phone_numbers                                                          |\n",
      "+--------------------------------------------------------------------------------+\n",
      "|{Office -> +91 345 678 9012, Home -> +91 234 567 8901}                          |\n",
      "|{Office -> +44 222 222 2222, Home -> +44 111 111 1111}                          |\n",
      "|{Office -> +61 876 543 2109, Home -> +61 987 654 3210}                          |\n",
      "|{Office -> +46 876 543 2109, Mobile -> +46 222 222222, Home -> +46 987 654 3210}|\n",
      "+--------------------------------------------------------------------------------+\n",
      "\n"
     ]
    }
   ],
   "source": [
    "employees_df.select('employee_phone_numbers').show(truncate=False)"
   ]
  },
  {
   "cell_type": "code",
   "execution_count": 32,
   "id": "6b4f8f8c",
   "metadata": {},
   "outputs": [
    {
     "name": "stdout",
     "output_type": "stream",
     "text": [
      "+--------------------------------------------+\n",
      "|employee_address                            |\n",
      "+--------------------------------------------+\n",
      "|{111 BCD Cir, Some City, Some State, 500091}|\n",
      "|{222 Giant Cly, UK City, UK Province, null} |\n",
      "|null                                        |\n",
      "|null                                        |\n",
      "+--------------------------------------------+\n",
      "\n"
     ]
    }
   ],
   "source": [
    "employees_df.select('employee_address').show(truncate=False)"
   ]
  },
  {
   "cell_type": "code",
   "execution_count": 33,
   "id": "fb9909cf",
   "metadata": {},
   "outputs": [
    {
     "name": "stdout",
     "output_type": "stream",
     "text": [
      "+----------------------+--------------------------------------------------------------+-------+\n",
      "|col_name              |data_type                                                     |comment|\n",
      "+----------------------+--------------------------------------------------------------+-------+\n",
      "|employee_id           |int                                                           |null   |\n",
      "|employee_first_name   |string                                                        |null   |\n",
      "|employee_last_name    |string                                                        |null   |\n",
      "|employee_salary       |float                                                         |null   |\n",
      "|employee_nationality  |string                                                        |null   |\n",
      "|employee_email_ids    |array<string>                                                 |null   |\n",
      "|employee_phone_numbers|map<string,string>                                            |null   |\n",
      "|employee_ssn          |string                                                        |null   |\n",
      "|employee_address      |struct<street:string,city:string,state:string,postal_code:int>|null   |\n",
      "+----------------------+--------------------------------------------------------------+-------+\n",
      "\n"
     ]
    }
   ],
   "source": [
    "spark.sql(\"DESCRIBE employees\").show(truncate=False)"
   ]
  },
  {
   "cell_type": "code",
   "execution_count": 34,
   "id": "a1613d17",
   "metadata": {},
   "outputs": [],
   "source": [
    "employees_df.write.insertInto('employees')"
   ]
  },
  {
   "cell_type": "code",
   "execution_count": 35,
   "id": "d996bae2",
   "metadata": {},
   "outputs": [
    {
     "name": "stdout",
     "output_type": "stream",
     "text": [
      "+-----------+-------------------+------------------+---------------+--------------------+--------------------------------------------------------+--------------------------------------------------------------------------------+------------+--------------------------------------------+\n",
      "|employee_id|employee_first_name|employee_last_name|employee_salary|employee_nationality|employee_email_ids                                      |employee_phone_numbers                                                          |employee_ssn|employee_address                            |\n",
      "+-----------+-------------------+------------------+---------------+--------------------+--------------------------------------------------------+--------------------------------------------------------------------------------+------------+--------------------------------------------+\n",
      "|1          |Scott              |Tiger             |1000.0         |United States       |[scott@tiger.com, stiger@companyx.com]                  |{Home -> +1 234 567 8901, Office -> +1 345 678 9012}                            |789 12 6118 |{1234 ABC St, My City, My State, 13455}     |\n",
      "|2          |Henry              |Ford              |1250.0         |India               |[henry@ford.com, hford@companyx.com]                    |{Home -> +91 234 567 8901, Office -> +91 345 678 9012}                          |456 78 9123 |{111 BCD Cir, Some City, Some State, 500091}|\n",
      "|3          |Nick               |Junior            |750.0          |United Kingdom      |[nick@junior.com, njunior@companyx.com]                 |{Home -> +44 111 111 1111, Office -> +44 222 222 2222}                          |222 33 4444 |{222 Giant Cly, UK City, UK Province, null} |\n",
      "|4          |Bill               |Gomes             |1500.0         |Australia           |[bill@gomes.com, bgomes@companyx.com]                   |{Home -> +61 987 654 3210, Office -> +61 876 543 2109}                          |789 12 6118 |null                                        |\n",
      "|5          |Saravanan          |Krishnarajan      |1600.0         |Sweden              |[saravanan@krishnarajan.com, skrishnarajan@companyx.com]|{Home -> +46 987 654 3210, Mobile -> +46 222 222222, Office -> +46 876 543 2109}|789 12 6118 |null                                        |\n",
      "+-----------+-------------------+------------------+---------------+--------------------+--------------------------------------------------------+--------------------------------------------------------------------------------+------------+--------------------------------------------+\n",
      "\n"
     ]
    }
   ],
   "source": [
    "spark.read.table('employees').show(truncate=False)"
   ]
  },
  {
   "cell_type": "code",
   "execution_count": 36,
   "id": "2e1fb22b",
   "metadata": {},
   "outputs": [
    {
     "name": "stdout",
     "output_type": "stream",
     "text": [
      "+--------------------------------------------------------+\n",
      "|employee_email_ids                                      |\n",
      "+--------------------------------------------------------+\n",
      "|[scott@tiger.com, stiger@companyx.com]                  |\n",
      "|[henry@ford.com, hford@companyx.com]                    |\n",
      "|[nick@junior.com, njunior@companyx.com]                 |\n",
      "|[bill@gomes.com, bgomes@companyx.com]                   |\n",
      "|[saravanan@krishnarajan.com, skrishnarajan@companyx.com]|\n",
      "+--------------------------------------------------------+\n",
      "\n"
     ]
    }
   ],
   "source": [
    "spark.read.table('employees').select('employee_email_ids').show(truncate=False)"
   ]
  },
  {
   "cell_type": "code",
   "execution_count": 37,
   "id": "128caf5a",
   "metadata": {},
   "outputs": [
    {
     "name": "stdout",
     "output_type": "stream",
     "text": [
      "+--------------------------------------------------------------------------------+\n",
      "|employee_phone_numbers                                                          |\n",
      "+--------------------------------------------------------------------------------+\n",
      "|{Home -> +1 234 567 8901, Office -> +1 345 678 9012}                            |\n",
      "|{Home -> +91 234 567 8901, Office -> +91 345 678 9012}                          |\n",
      "|{Home -> +44 111 111 1111, Office -> +44 222 222 2222}                          |\n",
      "|{Home -> +61 987 654 3210, Office -> +61 876 543 2109}                          |\n",
      "|{Home -> +46 987 654 3210, Mobile -> +46 222 222222, Office -> +46 876 543 2109}|\n",
      "+--------------------------------------------------------------------------------+\n",
      "\n"
     ]
    }
   ],
   "source": [
    "spark.read.table('employees').select('employee_phone_numbers').show(truncate=False)"
   ]
  },
  {
   "cell_type": "code",
   "execution_count": 38,
   "id": "b4cdad27",
   "metadata": {},
   "outputs": [
    {
     "name": "stdout",
     "output_type": "stream",
     "text": [
      "+-----------+-------------------+------------------+---------------+--------------------+--------------------+----------------------+------------+--------------------+\n",
      "|employee_id|employee_first_name|employee_last_name|employee_salary|employee_nationality|  employee_email_ids|employee_phone_numbers|employee_ssn|    employee_address|\n",
      "+-----------+-------------------+------------------+---------------+--------------------+--------------------+----------------------+------------+--------------------+\n",
      "|          1|              Scott|             Tiger|         1000.0|       United States|[scott@tiger.com,...|  {Home -> +1 234 5...| 789 12 6118|{1234 ABC St, My ...|\n",
      "|          2|              Henry|              Ford|         1250.0|               India|[henry@ford.com, ...|  {Home -> +91 234 ...| 456 78 9123|{111 BCD Cir, Som...|\n",
      "|          3|               Nick|            Junior|          750.0|      United Kingdom|[nick@junior.com,...|  {Home -> +44 111 ...| 222 33 4444|{222 Giant Cly, U...|\n",
      "|          4|               Bill|             Gomes|         1500.0|           Australia|[bill@gomes.com, ...|  {Home -> +61 987 ...| 789 12 6118|                null|\n",
      "|          5|          Saravanan|      Krishnarajan|         1600.0|              Sweden|[saravanan@krishn...|  {Home -> +46 987 ...| 789 12 6118|                null|\n",
      "+-----------+-------------------+------------------+---------------+--------------------+--------------------+----------------------+------------+--------------------+\n",
      "\n"
     ]
    }
   ],
   "source": [
    "spark.sql(\"SELECT * FROM employees\").show()"
   ]
  },
  {
   "cell_type": "code",
   "execution_count": 39,
   "id": "e1b2c922",
   "metadata": {},
   "outputs": [
    {
     "name": "stdout",
     "output_type": "stream",
     "text": [
      "+-----------+--------------------------------------------------------+--------------------------------------------------------------------------------+--------------------------------------------+\n",
      "|employee_id|employee_email_ids                                      |employee_phone_numbers                                                          |employee_address                            |\n",
      "+-----------+--------------------------------------------------------+--------------------------------------------------------------------------------+--------------------------------------------+\n",
      "|1          |[scott@tiger.com, stiger@companyx.com]                  |{Home -> +1 234 567 8901, Office -> +1 345 678 9012}                            |{1234 ABC St, My City, My State, 13455}     |\n",
      "|2          |[henry@ford.com, hford@companyx.com]                    |{Home -> +91 234 567 8901, Office -> +91 345 678 9012}                          |{111 BCD Cir, Some City, Some State, 500091}|\n",
      "|3          |[nick@junior.com, njunior@companyx.com]                 |{Home -> +44 111 111 1111, Office -> +44 222 222 2222}                          |{222 Giant Cly, UK City, UK Province, null} |\n",
      "|5          |[saravanan@krishnarajan.com, skrishnarajan@companyx.com]|{Home -> +46 987 654 3210, Mobile -> +46 222 222222, Office -> +46 876 543 2109}|null                                        |\n",
      "+-----------+--------------------------------------------------------+--------------------------------------------------------------------------------+--------------------------------------------+\n",
      "\n"
     ]
    }
   ],
   "source": [
    "spark.sql(\"\"\"\n",
    "            SELECT employee_id, employee_email_ids, employee_phone_numbers, employee_address FROM employees\n",
    "            WHERE employee_id<>4\n",
    "          \"\"\").show(truncate=False)"
   ]
  },
  {
   "cell_type": "code",
   "execution_count": 40,
   "id": "601f4d0d",
   "metadata": {},
   "outputs": [
    {
     "name": "stdout",
     "output_type": "stream",
     "text": [
      "+-----------+--------------------------------------------------------+--------------------------------------------+\n",
      "|employee_id|employee_email_ids                                      |employee_address                            |\n",
      "+-----------+--------------------------------------------------------+--------------------------------------------+\n",
      "|1          |[scott@tiger.com, stiger@companyx.com]                  |{1234 ABC St, My City, My State, 13455}     |\n",
      "|2          |[henry@ford.com, hford@companyx.com]                    |{111 BCD Cir, Some City, Some State, 500091}|\n",
      "|3          |[nick@junior.com, njunior@companyx.com]                 |{222 Giant Cly, UK City, UK Province, null} |\n",
      "|4          |[bill@gomes.com, bgomes@companyx.com]                   |null                                        |\n",
      "|5          |[saravanan@krishnarajan.com, skrishnarajan@companyx.com]|null                                        |\n",
      "+-----------+--------------------------------------------------------+--------------------------------------------+\n",
      "\n"
     ]
    }
   ],
   "source": [
    "spark.sql(\"\"\"\n",
    "            SELECT employee_id, employee_email_ids, employee_address FROM employees\n",
    "          \"\"\").show(truncate=False)"
   ]
  },
  {
   "cell_type": "code",
   "execution_count": 41,
   "id": "965c5aec",
   "metadata": {},
   "outputs": [
    {
     "name": "stdout",
     "output_type": "stream",
     "text": [
      "Column<'employee_id'>\n",
      "Column<'employee_first_name'>\n",
      "Column<'employee_last_name'>\n",
      "Column<'employee_salary'>\n",
      "Column<'employee_nationality'>\n",
      "Column<'employee_email_ids'>\n",
      "Column<'employee_phone_numbers'>\n",
      "Column<'employee_ssn'>\n",
      "Column<'employee_address'>\n"
     ]
    }
   ],
   "source": [
    "for i in employees_df:\n",
    "    print(i)"
   ]
  },
  {
   "cell_type": "code",
   "execution_count": 42,
   "id": "e5351050",
   "metadata": {},
   "outputs": [
    {
     "data": {
      "text/plain": [
       "'{\"employee_id\":2,\"employee_first_name\":\"Henry\",\"employee_last_name\":\"Ford\",\"employee_salary\":1250.0,\"employee_nationality\":\"India\",\"employee_email_ids\":[\"henry@ford.com\",\"hford@companyx.com\"],\"employee_phone_numbers\":{\"Office\":\"+91 345 678 9012\",\"Home\":\"+91 234 567 8901\"},\"employee_ssn\":\"456 78 9123\",\"employee_address\":{\"street\":\"111 BCD Cir\",\"city\":\"Some City\",\"state\":\"Some State\",\"postal_code\":500091}}'"
      ]
     },
     "execution_count": 42,
     "metadata": {},
     "output_type": "execute_result"
    }
   ],
   "source": [
    "employees_df.toJSON().first()"
   ]
  },
  {
   "cell_type": "code",
   "execution_count": 43,
   "id": "0f50d9d2",
   "metadata": {},
   "outputs": [
    {
     "data": {
      "text/plain": [
       "'{\"employee_id\":2,\"employee_first_name\":\"Henry\",\"employee_last_name\":\"Ford\",\"employee_salary\":1250.0,\"employee_nationality\":\"India\",\"employee_email_ids\":[\"henry@ford.com\",\"hford@companyx.com\"],\"employee_phone_numbers\":{\"Office\":\"+91 345 678 9012\",\"Home\":\"+91 234 567 8901\"},\"employee_ssn\":\"456 78 9123\",\"employee_address\":{\"street\":\"111 BCD Cir\",\"city\":\"Some City\",\"state\":\"Some State\",\"postal_code\":500091}}'"
      ]
     },
     "execution_count": 43,
     "metadata": {},
     "output_type": "execute_result"
    }
   ],
   "source": [
    "employees_df.toJSON().first()"
   ]
  },
  {
   "cell_type": "code",
   "execution_count": 44,
   "id": "7ed45615",
   "metadata": {},
   "outputs": [
    {
     "data": {
      "text/plain": [
       "['{\"employee_id\":2,\"employee_first_name\":\"Henry\",\"employee_last_name\":\"Ford\",\"employee_salary\":1250.0,\"employee_nationality\":\"India\",\"employee_email_ids\":[\"henry@ford.com\",\"hford@companyx.com\"],\"employee_phone_numbers\":{\"Office\":\"+91 345 678 9012\",\"Home\":\"+91 234 567 8901\"},\"employee_ssn\":\"456 78 9123\",\"employee_address\":{\"street\":\"111 BCD Cir\",\"city\":\"Some City\",\"state\":\"Some State\",\"postal_code\":500091}}',\n",
       " '{\"employee_id\":3,\"employee_first_name\":\"Nick\",\"employee_last_name\":\"Junior\",\"employee_salary\":750.0,\"employee_nationality\":\"United Kingdom\",\"employee_email_ids\":[\"nick@junior.com\",\"njunior@companyx.com\"],\"employee_phone_numbers\":{\"Office\":\"+44 222 222 2222\",\"Home\":\"+44 111 111 1111\"},\"employee_ssn\":\"222 33 4444\",\"employee_address\":{\"street\":\"222 Giant Cly\",\"city\":\"UK City\",\"state\":\"UK Province\"}}',\n",
       " '{\"employee_id\":4,\"employee_first_name\":\"Bill\",\"employee_last_name\":\"Gomes\",\"employee_salary\":1500.0,\"employee_nationality\":\"Australia\",\"employee_email_ids\":[\"bill@gomes.com\",\"bgomes@companyx.com\"],\"employee_phone_numbers\":{\"Office\":\"+61 876 543 2109\",\"Home\":\"+61 987 654 3210\"},\"employee_ssn\":\"789 12 6118\"}',\n",
       " '{\"employee_id\":5,\"employee_first_name\":\"Saravanan\",\"employee_last_name\":\"Krishnarajan\",\"employee_salary\":1600.0,\"employee_nationality\":\"Sweden\",\"employee_email_ids\":[\"saravanan@krishnarajan.com\",\"skrishnarajan@companyx.com\"],\"employee_phone_numbers\":{\"Office\":\"+46 876 543 2109\",\"Mobile\":\"+46 222 222222\",\"Home\":\"+46 987 654 3210\"},\"employee_ssn\":\"789 12 6118\"}']"
      ]
     },
     "execution_count": 44,
     "metadata": {},
     "output_type": "execute_result"
    }
   ],
   "source": [
    "employees_df.toJSON().collect()"
   ]
  },
  {
   "cell_type": "code",
   "execution_count": 45,
   "id": "08b2945c",
   "metadata": {},
   "outputs": [
    {
     "name": "stdout",
     "output_type": "stream",
     "text": [
      "total 4\n",
      "drwxr-xr-x 3 itv011204 students 4096 Feb 20 16:48 employees\n"
     ]
    }
   ],
   "source": [
    "!ls -ltr ../data"
   ]
  },
  {
   "cell_type": "code",
   "execution_count": 49,
   "id": "4a25769f",
   "metadata": {},
   "outputs": [
    {
     "name": "stdout",
     "output_type": "stream",
     "text": [
      "Found 2 items\n",
      "-rw-r--r--   3 itversity itversity          0 2022-07-16 02:24 /user/itversity/employees/_SUCCESS\n",
      "-rw-r--r--   3 itversity itversity       1258 2022-07-16 02:24 /user/itversity/employees/part-00000-49b27c92-f756-4ae8-9791-21181c4f881a-c000.json\n"
     ]
    }
   ],
   "source": [
    "!hdfs dfs -ls /user/itversity/employees"
   ]
  },
  {
   "cell_type": "code",
   "execution_count": 64,
   "id": "d07cb7b6",
   "metadata": {},
   "outputs": [],
   "source": [
    "!hdfs dfs -put -f /home/itv011204/data/employees /user/`whoami`/"
   ]
  },
  {
   "cell_type": "code",
   "execution_count": 65,
   "id": "f7bd1325",
   "metadata": {},
   "outputs": [
    {
     "name": "stdout",
     "output_type": "stream",
     "text": [
      "Found 10 items\n",
      "drwx------   - itv011204 supergroup          0 2024-01-29 18:47 /user/itv011204/.Trash\n",
      "drwxr-xr-x   - itv011204 supergroup          0 2024-02-20 17:30 /user/itv011204/.sparkStaging\n",
      "drwxr-xr-x   - itv011204 supergroup          0 2024-02-14 17:26 /user/itv011204/airtraffic_all\n",
      "drwxr-xr-x   - itv011204 supergroup          0 2024-01-29 19:33 /user/itv011204/core\n",
      "drwxr-xr-x   - itv011204 supergroup          0 2024-01-29 08:16 /user/itv011204/df\n",
      "drwxr-xr-x   - itv011204 supergroup          0 2024-02-20 17:35 /user/itv011204/employees\n",
      "drwxr-xr-x   - itv011204 supergroup          0 2024-01-31 05:58 /user/itv011204/external\n",
      "drwxr-xr-x   - itv011204 supergroup          0 2024-01-31 07:26 /user/itv011204/nyse\n",
      "drwxr-xr-x   - itv011204 supergroup          0 2024-02-18 14:12 /user/itv011204/retail_db\n",
      "drwxr-xr-x   - itv011204 supergroup          0 2024-02-20 16:49 /user/itv011204/warehouse\n"
     ]
    }
   ],
   "source": [
    "!hdfs dfs -ls /user/itv011204"
   ]
  },
  {
   "cell_type": "code",
   "execution_count": 66,
   "id": "a02dcdde",
   "metadata": {},
   "outputs": [
    {
     "name": "stdout",
     "output_type": "stream",
     "text": [
      "Found 3 items\n",
      "drwxr-xr-x   - itv011204 supergroup          0 2024-02-20 17:35 /user/itv011204/employees/.ipynb_checkpoints\n",
      "-rw-r--r--   3 itv011204 supergroup          0 2024-02-20 17:35 /user/itv011204/employees/_SUCCESS\n",
      "-rw-r--r--   3 itv011204 supergroup       1258 2024-02-20 17:35 /user/itv011204/employees/part-00000-49b27c92-f756-4ae8-9791-21181c4f881a-c000.json\n"
     ]
    }
   ],
   "source": [
    "!hdfs dfs -ls /user/itv011204/employees"
   ]
  },
  {
   "cell_type": "code",
   "execution_count": 68,
   "id": "51852bba",
   "metadata": {},
   "outputs": [
    {
     "name": "stdout",
     "output_type": "stream",
     "text": [
      "Deleted /user/itv011204/employees/.ipynb_checkpoints\n"
     ]
    }
   ],
   "source": [
    "!hdfs dfs -rm -R -skipTrash /user/itv011204/employees/.ipynb_checkpoints"
   ]
  },
  {
   "cell_type": "code",
   "execution_count": 69,
   "id": "55dffe53",
   "metadata": {},
   "outputs": [
    {
     "name": "stdout",
     "output_type": "stream",
     "text": [
      "Found 2 items\n",
      "-rw-r--r--   3 itv011204 supergroup          0 2024-02-20 17:35 /user/itv011204/employees/_SUCCESS\n",
      "-rw-r--r--   3 itv011204 supergroup       1258 2024-02-20 17:35 /user/itv011204/employees/part-00000-49b27c92-f756-4ae8-9791-21181c4f881a-c000.json\n"
     ]
    }
   ],
   "source": [
    "!hdfs dfs -ls /user/itv011204/employees"
   ]
  },
  {
   "cell_type": "code",
   "execution_count": 2,
   "id": "8e613a7e",
   "metadata": {},
   "outputs": [],
   "source": [
    "from pyspark.sql import SparkSession\n",
    "\n",
    "import getpass\n",
    "\n",
    "username = getpass.getuser()"
   ]
  },
  {
   "cell_type": "code",
   "execution_count": 3,
   "id": "20ebe77a",
   "metadata": {},
   "outputs": [],
   "source": [
    "spark = SparkSession. \\\n",
    "    builder. \\\n",
    "    config('spark.ui.port','0'). \\\n",
    "    config('spark.sql.warehouse.dir',f'/user/{username}/warehouse'). \\\n",
    "    enableHiveSupport(). \\\n",
    "    appName(f'{username} | Section 19 Semi Structured Data'). \\\n",
    "    master('yarn'). \\\n",
    "    getOrCreate()\n",
    "    "
   ]
  },
  {
   "cell_type": "code",
   "execution_count": 4,
   "id": "a70a315a",
   "metadata": {},
   "outputs": [],
   "source": [
    "spark.conf.set('spark.sql.shuffle.partitions','2')"
   ]
  },
  {
   "cell_type": "code",
   "execution_count": 5,
   "id": "7b4970cb",
   "metadata": {},
   "outputs": [],
   "source": [
    "employees_df = spark.read.json(f'/user/{username}/employees')"
   ]
  },
  {
   "cell_type": "code",
   "execution_count": 6,
   "id": "9083a6ab",
   "metadata": {},
   "outputs": [
    {
     "name": "stdout",
     "output_type": "stream",
     "text": [
      "root\n",
      " |-- employee_address: struct (nullable = true)\n",
      " |    |-- city: string (nullable = true)\n",
      " |    |-- postal_code: long (nullable = true)\n",
      " |    |-- state: string (nullable = true)\n",
      " |    |-- street: string (nullable = true)\n",
      " |-- employee_email_ids: array (nullable = true)\n",
      " |    |-- element: string (containsNull = true)\n",
      " |-- employee_first_name: string (nullable = true)\n",
      " |-- employee_id: long (nullable = true)\n",
      " |-- employee_last_name: string (nullable = true)\n",
      " |-- employee_nationality: string (nullable = true)\n",
      " |-- employee_phone_numbers: struct (nullable = true)\n",
      " |    |-- Home: string (nullable = true)\n",
      " |    |-- Office: string (nullable = true)\n",
      " |-- employee_salary: double (nullable = true)\n",
      " |-- employee_ssn: string (nullable = true)\n",
      "\n"
     ]
    }
   ],
   "source": [
    "employees_df.printSchema()"
   ]
  },
  {
   "cell_type": "code",
   "execution_count": 8,
   "id": "cd27fcfb",
   "metadata": {},
   "outputs": [
    {
     "name": "stdout",
     "output_type": "stream",
     "text": [
      "+--------------------------------------------+---------------------------------------+-------------------+-----------+------------------+--------------------+------------------------------------+---------------+------------+\n",
      "|employee_address                            |employee_email_ids                     |employee_first_name|employee_id|employee_last_name|employee_nationality|employee_phone_numbers              |employee_salary|employee_ssn|\n",
      "+--------------------------------------------+---------------------------------------+-------------------+-----------+------------------+--------------------+------------------------------------+---------------+------------+\n",
      "|{Some City, 500091, Some State, 111 BCD Cir}|[henry@ford.com, hford@companyx.com]   |Henry              |2          |Ford              |India               |{+91 234 567 8901, +91 345 678 9012}|1250.0         |456 78 9123 |\n",
      "|{UK City, null, UK Province, 222 Giant Cly} |[nick@junior.com, njunior@companyx.com]|Nick               |3          |Junior            |United Kingdom      |{+44 111 111 1111, +44 222 222 2222}|750.0          |222 33 4444 |\n",
      "|null                                        |[bill@gomes.com, bgomes@companyx.com]  |Bill               |4          |Gomes             |Australia           |{+61 987 654 3210, +61 876 543 2109}|1500.0         |789 12 6118 |\n",
      "|null                                        |null                                   |Harry              |5          |Potter            |United States       |null                                |1800.0         |null        |\n",
      "+--------------------------------------------+---------------------------------------+-------------------+-----------+------------------+--------------------+------------------------------------+---------------+------------+\n",
      "\n"
     ]
    }
   ],
   "source": [
    "employees_df.show(truncate=False)"
   ]
  },
  {
   "cell_type": "code",
   "execution_count": 9,
   "id": "e03ca4fc",
   "metadata": {},
   "outputs": [
    {
     "name": "stdout",
     "output_type": "stream",
     "text": [
      "+---------------------------------------+\n",
      "|employee_email_ids                     |\n",
      "+---------------------------------------+\n",
      "|[henry@ford.com, hford@companyx.com]   |\n",
      "|[nick@junior.com, njunior@companyx.com]|\n",
      "|[bill@gomes.com, bgomes@companyx.com]  |\n",
      "|null                                   |\n",
      "+---------------------------------------+\n",
      "\n"
     ]
    }
   ],
   "source": [
    "employees_df.select('employee_email_ids').show(truncate=False)"
   ]
  },
  {
   "cell_type": "code",
   "execution_count": 10,
   "id": "b58f16ed",
   "metadata": {},
   "outputs": [
    {
     "data": {
      "text/plain": [
       "4"
      ]
     },
     "execution_count": 10,
     "metadata": {},
     "output_type": "execute_result"
    }
   ],
   "source": [
    "employees_df.count()"
   ]
  },
  {
   "cell_type": "code",
   "execution_count": 11,
   "id": "806749d9",
   "metadata": {},
   "outputs": [],
   "source": [
    "from pyspark.sql.functions import explode"
   ]
  },
  {
   "cell_type": "code",
   "execution_count": 12,
   "id": "054fb83b",
   "metadata": {},
   "outputs": [
    {
     "name": "stdout",
     "output_type": "stream",
     "text": [
      "+-----------+-------------------+---------------------------------------+\n",
      "|employee_id|employee_first_name|employee_email_ids                     |\n",
      "+-----------+-------------------+---------------------------------------+\n",
      "|2          |Henry              |[henry@ford.com, hford@companyx.com]   |\n",
      "|3          |Nick               |[nick@junior.com, njunior@companyx.com]|\n",
      "|4          |Bill               |[bill@gomes.com, bgomes@companyx.com]  |\n",
      "|5          |Harry              |null                                   |\n",
      "+-----------+-------------------+---------------------------------------+\n",
      "\n"
     ]
    }
   ],
   "source": [
    "employees_df.select('employee_id','employee_first_name','employee_email_ids').\\\n",
    "    show(truncate=False)"
   ]
  },
  {
   "cell_type": "code",
   "execution_count": 13,
   "id": "ed438aed",
   "metadata": {},
   "outputs": [
    {
     "name": "stdout",
     "output_type": "stream",
     "text": [
      "+-----------+-------------------+--------------------+\n",
      "|employee_id|employee_first_name|employee_email_id   |\n",
      "+-----------+-------------------+--------------------+\n",
      "|2          |Henry              |henry@ford.com      |\n",
      "|2          |Henry              |hford@companyx.com  |\n",
      "|3          |Nick               |nick@junior.com     |\n",
      "|3          |Nick               |njunior@companyx.com|\n",
      "|4          |Bill               |bill@gomes.com      |\n",
      "|4          |Bill               |bgomes@companyx.com |\n",
      "+-----------+-------------------+--------------------+\n",
      "\n"
     ]
    }
   ],
   "source": [
    "employees_df. \\\n",
    "    select(\n",
    "        'employee_id',\n",
    "        'employee_first_name',\n",
    "        explode('employee_email_ids').alias('employee_email_id')\n",
    "    ). \\\n",
    "    show(truncate=False)"
   ]
  },
  {
   "cell_type": "code",
   "execution_count": 14,
   "id": "efe32e71",
   "metadata": {},
   "outputs": [
    {
     "data": {
      "text/plain": [
       "6"
      ]
     },
     "execution_count": 14,
     "metadata": {},
     "output_type": "execute_result"
    }
   ],
   "source": [
    "employees_df.select('employee_id',explode('employee_email_ids')).count()"
   ]
  },
  {
   "cell_type": "code",
   "execution_count": 15,
   "id": "164df6b0",
   "metadata": {},
   "outputs": [],
   "source": [
    "from pyspark.sql.functions import explode_outer"
   ]
  },
  {
   "cell_type": "code",
   "execution_count": 16,
   "id": "3b4ff663",
   "metadata": {},
   "outputs": [
    {
     "name": "stdout",
     "output_type": "stream",
     "text": [
      "+-----------+-------------------+--------------------+\n",
      "|employee_id|employee_first_name|employee_email_id   |\n",
      "+-----------+-------------------+--------------------+\n",
      "|2          |Henry              |henry@ford.com      |\n",
      "|2          |Henry              |hford@companyx.com  |\n",
      "|3          |Nick               |nick@junior.com     |\n",
      "|3          |Nick               |njunior@companyx.com|\n",
      "|4          |Bill               |bill@gomes.com      |\n",
      "|4          |Bill               |bgomes@companyx.com |\n",
      "|5          |Harry              |null                |\n",
      "+-----------+-------------------+--------------------+\n",
      "\n"
     ]
    }
   ],
   "source": [
    "employees_df. \\\n",
    "    select(\n",
    "        'employee_id',\n",
    "        'employee_first_name',\n",
    "        explode_outer('employee_email_ids').alias('employee_email_id')\n",
    "    ). \\\n",
    "    show(truncate=False)"
   ]
  },
  {
   "cell_type": "code",
   "execution_count": 17,
   "id": "7f8f6a23",
   "metadata": {},
   "outputs": [
    {
     "data": {
      "text/plain": [
       "7"
      ]
     },
     "execution_count": 17,
     "metadata": {},
     "output_type": "execute_result"
    }
   ],
   "source": [
    "employees_df.select('employee_id',explode_outer('employee_email_ids')).count()"
   ]
  },
  {
   "cell_type": "code",
   "execution_count": 18,
   "id": "2ce7f4fb",
   "metadata": {},
   "outputs": [],
   "source": [
    "from pyspark.sql.functions import size"
   ]
  },
  {
   "cell_type": "code",
   "execution_count": 19,
   "id": "a8ffe7e1",
   "metadata": {},
   "outputs": [
    {
     "data": {
      "text/plain": [
       "\u001b[0;31mSignature:\u001b[0m \u001b[0msize\u001b[0m\u001b[0;34m(\u001b[0m\u001b[0mcol\u001b[0m\u001b[0;34m)\u001b[0m\u001b[0;34m\u001b[0m\u001b[0;34m\u001b[0m\u001b[0m\n",
       "\u001b[0;31mDocstring:\u001b[0m\n",
       "Collection function: returns the length of the array or map stored in the column.\n",
       "\n",
       ".. versionadded:: 1.5.0\n",
       "\n",
       "Parameters\n",
       "----------\n",
       "col : :class:`~pyspark.sql.Column` or str\n",
       "    name of column or expression\n",
       "\n",
       "Examples\n",
       "--------\n",
       ">>> df = spark.createDataFrame([([1, 2, 3],),([1],),([],)], ['data'])\n",
       ">>> df.select(size(df.data)).collect()\n",
       "[Row(size(data)=3), Row(size(data)=1), Row(size(data)=0)]\n",
       "\u001b[0;31mFile:\u001b[0m      /opt/spark-3.1.2-bin-hadoop3.2/python/pyspark/sql/functions.py\n",
       "\u001b[0;31mType:\u001b[0m      function\n"
      ]
     },
     "metadata": {},
     "output_type": "display_data"
    }
   ],
   "source": [
    "size?"
   ]
  },
  {
   "cell_type": "code",
   "execution_count": 20,
   "id": "6bdc81c3",
   "metadata": {},
   "outputs": [
    {
     "name": "stdout",
     "output_type": "stream",
     "text": [
      "+-----------+--------------------+\n",
      "|employee_id|employee_email_count|\n",
      "+-----------+--------------------+\n",
      "|          2|                   2|\n",
      "|          3|                   2|\n",
      "|          4|                   2|\n",
      "|          5|                  -1|\n",
      "+-----------+--------------------+\n",
      "\n"
     ]
    }
   ],
   "source": [
    "employees_df. \\\n",
    "    select(\n",
    "        'employee_id',\n",
    "        size('employee_email_ids').alias('employee_email_count')\n",
    "    ). \\\n",
    "    show()"
   ]
  },
  {
   "cell_type": "code",
   "execution_count": 23,
   "id": "b1428f77",
   "metadata": {},
   "outputs": [],
   "source": [
    "from pyspark.sql import functions as f"
   ]
  },
  {
   "cell_type": "code",
   "execution_count": 24,
   "id": "c5fc2b98",
   "metadata": {},
   "outputs": [
    {
     "data": {
      "text/plain": [
       "\u001b[0;31mSignature:\u001b[0m \u001b[0mf\u001b[0m\u001b[0;34m.\u001b[0m\u001b[0mcoalesce\u001b[0m\u001b[0;34m(\u001b[0m\u001b[0;34m*\u001b[0m\u001b[0mcols\u001b[0m\u001b[0;34m)\u001b[0m\u001b[0;34m\u001b[0m\u001b[0;34m\u001b[0m\u001b[0m\n",
       "\u001b[0;31mDocstring:\u001b[0m\n",
       "Returns the first column that is not null.\n",
       "\n",
       ".. versionadded:: 1.4.0\n",
       "\n",
       "Examples\n",
       "--------\n",
       ">>> cDf = spark.createDataFrame([(None, None), (1, None), (None, 2)], (\"a\", \"b\"))\n",
       ">>> cDf.show()\n",
       "+----+----+\n",
       "|   a|   b|\n",
       "+----+----+\n",
       "|null|null|\n",
       "|   1|null|\n",
       "|null|   2|\n",
       "+----+----+\n",
       "\n",
       ">>> cDf.select(coalesce(cDf[\"a\"], cDf[\"b\"])).show()\n",
       "+--------------+\n",
       "|coalesce(a, b)|\n",
       "+--------------+\n",
       "|          null|\n",
       "|             1|\n",
       "|             2|\n",
       "+--------------+\n",
       "\n",
       ">>> cDf.select('*', coalesce(cDf[\"a\"], lit(0.0))).show()\n",
       "+----+----+----------------+\n",
       "|   a|   b|coalesce(a, 0.0)|\n",
       "+----+----+----------------+\n",
       "|null|null|             0.0|\n",
       "|   1|null|             1.0|\n",
       "|null|   2|             0.0|\n",
       "+----+----+----------------+\n",
       "\u001b[0;31mFile:\u001b[0m      /opt/spark-3.1.2-bin-hadoop3.2/python/pyspark/sql/functions.py\n",
       "\u001b[0;31mType:\u001b[0m      function\n"
      ]
     },
     "metadata": {},
     "output_type": "display_data"
    }
   ],
   "source": [
    "f.coalesce?"
   ]
  },
  {
   "cell_type": "code",
   "execution_count": 25,
   "id": "2568c280",
   "metadata": {},
   "outputs": [],
   "source": [
    "from pyspark.sql.functions import coalesce"
   ]
  },
  {
   "cell_type": "code",
   "execution_count": 28,
   "id": "cdbc0c6b",
   "metadata": {},
   "outputs": [
    {
     "name": "stdout",
     "output_type": "stream",
     "text": [
      "+-----------+---------------------------------------+\n",
      "|employee_id|employee_email_ids                     |\n",
      "+-----------+---------------------------------------+\n",
      "|2          |[henry@ford.com, hford@companyx.com]   |\n",
      "|3          |[nick@junior.com, njunior@companyx.com]|\n",
      "|4          |[bill@gomes.com, bgomes@companyx.com]  |\n",
      "|5          |null                                   |\n",
      "+-----------+---------------------------------------+\n",
      "\n"
     ]
    }
   ],
   "source": [
    "employees_df. \\\n",
    "    select(\n",
    "        'employee_id',\n",
    "        coalesce('employee_email_ids').alias('employee_email_ids')\n",
    "    ). \\\n",
    "    show(truncate=False)"
   ]
  },
  {
   "cell_type": "code",
   "execution_count": 29,
   "id": "d5dfe577",
   "metadata": {},
   "outputs": [],
   "source": [
    "from pyspark.sql.functions import array"
   ]
  },
  {
   "cell_type": "code",
   "execution_count": 30,
   "id": "4bc8d2b8",
   "metadata": {},
   "outputs": [
    {
     "name": "stdout",
     "output_type": "stream",
     "text": [
      "+-----------+---------------------------------------+\n",
      "|employee_id|employee_email_ds                      |\n",
      "+-----------+---------------------------------------+\n",
      "|2          |[henry@ford.com, hford@companyx.com]   |\n",
      "|3          |[nick@junior.com, njunior@companyx.com]|\n",
      "|4          |[bill@gomes.com, bgomes@companyx.com]  |\n",
      "|5          |[]                                     |\n",
      "+-----------+---------------------------------------+\n",
      "\n"
     ]
    }
   ],
   "source": [
    "employees_df. \\\n",
    "    select(\n",
    "        'employee_id',\n",
    "        coalesce('employee_email_ids',array()).alias('employee_email_ds')\n",
    "    ). \\\n",
    "    show(truncate=False)"
   ]
  },
  {
   "cell_type": "code",
   "execution_count": 31,
   "id": "c67fab43",
   "metadata": {},
   "outputs": [
    {
     "name": "stdout",
     "output_type": "stream",
     "text": [
      "+-----------+-----------------+\n",
      "|employee_id|employee_email_ds|\n",
      "+-----------+-----------------+\n",
      "|2          |2                |\n",
      "|3          |2                |\n",
      "|4          |2                |\n",
      "|5          |0                |\n",
      "+-----------+-----------------+\n",
      "\n"
     ]
    }
   ],
   "source": [
    "employees_df. \\\n",
    "    select(\n",
    "        'employee_id',\n",
    "        size(coalesce('employee_email_ids',array())).alias('employee_email_ds')\n",
    "    ). \\\n",
    "    show(truncate=False)"
   ]
  },
  {
   "cell_type": "code",
   "execution_count": 42,
   "id": "056c4233",
   "metadata": {},
   "outputs": [],
   "source": [
    "from pyspark.sql.functions import lit"
   ]
  },
  {
   "cell_type": "code",
   "execution_count": 54,
   "id": "1636d7bb",
   "metadata": {},
   "outputs": [
    {
     "name": "stdout",
     "output_type": "stream",
     "text": [
      "+-----------+-----------------+\n",
      "|employee_id|employee_email_ds|\n",
      "+-----------+-----------------+\n",
      "|2          |2                |\n",
      "|3          |2                |\n",
      "|4          |2                |\n",
      "|5          |1                |\n",
      "+-----------+-----------------+\n",
      "\n"
     ]
    }
   ],
   "source": [
    "employees_df. \\\n",
    "    select(\n",
    "        'employee_id',\n",
    "        size(coalesce('employee_email_ids',array(lit('')))).alias('employee_email_ds')\n",
    "    ). \\\n",
    "    show(truncate=False)"
   ]
  },
  {
   "cell_type": "code",
   "execution_count": 40,
   "id": "8dd2cdc1",
   "metadata": {},
   "outputs": [
    {
     "data": {
      "text/plain": [
       "\u001b[0;31mSignature:\u001b[0m \u001b[0mcoalesce\u001b[0m\u001b[0;34m(\u001b[0m\u001b[0;34m*\u001b[0m\u001b[0mcols\u001b[0m\u001b[0;34m)\u001b[0m\u001b[0;34m\u001b[0m\u001b[0;34m\u001b[0m\u001b[0m\n",
       "\u001b[0;31mDocstring:\u001b[0m\n",
       "Returns the first column that is not null.\n",
       "\n",
       ".. versionadded:: 1.4.0\n",
       "\n",
       "Examples\n",
       "--------\n",
       ">>> cDf = spark.createDataFrame([(None, None), (1, None), (None, 2)], (\"a\", \"b\"))\n",
       ">>> cDf.show()\n",
       "+----+----+\n",
       "|   a|   b|\n",
       "+----+----+\n",
       "|null|null|\n",
       "|   1|null|\n",
       "|null|   2|\n",
       "+----+----+\n",
       "\n",
       ">>> cDf.select(coalesce(cDf[\"a\"], cDf[\"b\"])).show()\n",
       "+--------------+\n",
       "|coalesce(a, b)|\n",
       "+--------------+\n",
       "|          null|\n",
       "|             1|\n",
       "|             2|\n",
       "+--------------+\n",
       "\n",
       ">>> cDf.select('*', coalesce(cDf[\"a\"], lit(0.0))).show()\n",
       "+----+----+----------------+\n",
       "|   a|   b|coalesce(a, 0.0)|\n",
       "+----+----+----------------+\n",
       "|null|null|             0.0|\n",
       "|   1|null|             1.0|\n",
       "|null|   2|             0.0|\n",
       "+----+----+----------------+\n",
       "\u001b[0;31mFile:\u001b[0m      /opt/spark-3.1.2-bin-hadoop3.2/python/pyspark/sql/functions.py\n",
       "\u001b[0;31mType:\u001b[0m      function\n"
      ]
     },
     "metadata": {},
     "output_type": "display_data"
    }
   ],
   "source": [
    "coalesce?"
   ]
  },
  {
   "cell_type": "code",
   "execution_count": 7,
   "id": "bf885165",
   "metadata": {},
   "outputs": [
    {
     "name": "stdout",
     "output_type": "stream",
     "text": [
      "+-----------+---------------------------------------+\n",
      "|employee_id|employee_email_ids                     |\n",
      "+-----------+---------------------------------------+\n",
      "|2          |[henry@ford.com, hford@companyx.com]   |\n",
      "|3          |[nick@junior.com, njunior@companyx.com]|\n",
      "|4          |[bill@gomes.com, bgomes@companyx.com]  |\n",
      "|5          |null                                   |\n",
      "+-----------+---------------------------------------+\n",
      "\n"
     ]
    }
   ],
   "source": [
    "employees_df. \\\n",
    "    select(\n",
    "        'employee_id',\n",
    "        'employee_email_ids'\n",
    "    ). \\\n",
    "    show(truncate=False)"
   ]
  },
  {
   "cell_type": "code",
   "execution_count": 8,
   "id": "6106c2ac",
   "metadata": {},
   "outputs": [],
   "source": [
    "from pyspark.sql.functions import concat_ws"
   ]
  },
  {
   "cell_type": "code",
   "execution_count": 9,
   "id": "f73e140f",
   "metadata": {},
   "outputs": [
    {
     "data": {
      "text/plain": [
       "\u001b[0;31mSignature:\u001b[0m \u001b[0mconcat_ws\u001b[0m\u001b[0;34m(\u001b[0m\u001b[0msep\u001b[0m\u001b[0;34m,\u001b[0m \u001b[0;34m*\u001b[0m\u001b[0mcols\u001b[0m\u001b[0;34m)\u001b[0m\u001b[0;34m\u001b[0m\u001b[0;34m\u001b[0m\u001b[0m\n",
       "\u001b[0;31mDocstring:\u001b[0m\n",
       "Concatenates multiple input string columns together into a single string column,\n",
       "using the given separator.\n",
       "\n",
       ".. versionadded:: 1.5.0\n",
       "\n",
       "Examples\n",
       "--------\n",
       ">>> df = spark.createDataFrame([('abcd','123')], ['s', 'd'])\n",
       ">>> df.select(concat_ws('-', df.s, df.d).alias('s')).collect()\n",
       "[Row(s='abcd-123')]\n",
       "\u001b[0;31mFile:\u001b[0m      /opt/spark-3.1.2-bin-hadoop3.2/python/pyspark/sql/functions.py\n",
       "\u001b[0;31mType:\u001b[0m      function\n"
      ]
     },
     "metadata": {},
     "output_type": "display_data"
    }
   ],
   "source": [
    "concat_ws?"
   ]
  },
  {
   "cell_type": "code",
   "execution_count": 11,
   "id": "d28f4ef8",
   "metadata": {},
   "outputs": [
    {
     "name": "stdout",
     "output_type": "stream",
     "text": [
      "+-----------+-------------------------------------+\n",
      "|employee_id|concat_ws(, , employee_email_ids)    |\n",
      "+-----------+-------------------------------------+\n",
      "|2          |henry@ford.com, hford@companyx.com   |\n",
      "|3          |nick@junior.com, njunior@companyx.com|\n",
      "|4          |bill@gomes.com, bgomes@companyx.com  |\n",
      "|5          |                                     |\n",
      "+-----------+-------------------------------------+\n",
      "\n"
     ]
    }
   ],
   "source": [
    "employees_df. \\\n",
    "    select(\n",
    "        'employee_id',\n",
    "        concat_ws(', ','employee_email_ids')\n",
    "    ). \\\n",
    "    show(truncate=False)"
   ]
  },
  {
   "cell_type": "code",
   "execution_count": 13,
   "id": "bcbcf443",
   "metadata": {},
   "outputs": [
    {
     "data": {
      "text/plain": [
       "['{\"employee_address\":{\"city\":\"Some City\",\"postal_code\":500091,\"state\":\"Some State\",\"street\":\"111 BCD Cir\"},\"employee_email_ids\":[\"henry@ford.com\",\"hford@companyx.com\"],\"employee_first_name\":\"Henry\",\"employee_id\":2,\"employee_last_name\":\"Ford\",\"employee_nationality\":\"India\",\"employee_phone_numbers\":{\"Home\":\"+91 234 567 8901\",\"Office\":\"+91 345 678 9012\"},\"employee_salary\":1250.0,\"employee_ssn\":\"456 78 9123\"}',\n",
       " '{\"employee_address\":{\"city\":\"UK City\",\"state\":\"UK Province\",\"street\":\"222 Giant Cly\"},\"employee_email_ids\":[\"nick@junior.com\",\"njunior@companyx.com\"],\"employee_first_name\":\"Nick\",\"employee_id\":3,\"employee_last_name\":\"Junior\",\"employee_nationality\":\"United Kingdom\",\"employee_phone_numbers\":{\"Home\":\"+44 111 111 1111\",\"Office\":\"+44 222 222 2222\"},\"employee_salary\":750.0,\"employee_ssn\":\"222 33 4444\"}',\n",
       " '{\"employee_email_ids\":[\"bill@gomes.com\",\"bgomes@companyx.com\"],\"employee_first_name\":\"Bill\",\"employee_id\":4,\"employee_last_name\":\"Gomes\",\"employee_nationality\":\"Australia\",\"employee_phone_numbers\":{\"Home\":\"+61 987 654 3210\",\"Office\":\"+61 876 543 2109\"},\"employee_salary\":1500.0,\"employee_ssn\":\"789 12 6118\"}',\n",
       " '{\"employee_first_name\":\"Harry\",\"employee_id\":5,\"employee_last_name\":\"Potter\",\"employee_nationality\":\"United States\",\"employee_salary\":1800.0}']"
      ]
     },
     "execution_count": 13,
     "metadata": {},
     "output_type": "execute_result"
    }
   ],
   "source": [
    "employees_df.toJSON().collect()"
   ]
  },
  {
   "cell_type": "code",
   "execution_count": 17,
   "id": "4dc17e3e",
   "metadata": {},
   "outputs": [],
   "source": [
    "employees=[\n",
    "(2,\"Henry\",\"Ford\",1250.0,\"India\",\"henry@ford.com, hford@companyx.com\",{\"Home\":\"+91 234 567 8901\",\"Office\":\"+91 345 678 9012\"},\"456 78 9123\",(\"111 BCD Cir\",\"Some City\",\"Some State\",500091)),\n",
    "(3,\"Nick\",\"Junior\",750.0,\"United Kingdom\",\"nick@junior.com, njunior@companyx.com\",{\"Home\":\"+44 111 111 1111\", \"Office\":\"+44 222 222 2222\"},\"222 33 4444\",(\"222 Giant Cly\",\"UK City\",\"UK Province\",None)),\n",
    "(4,\"Bill\",\"Gomes\",1500.0,\"Australia\",\"bill@gomes.com, bgomes@companyx.com\",{\"Home\":\"+61 987 654 3210\",\"Office\":\"+61 876 543 2109\"},\"789 12 6118\",None),\n",
    "(5,\"Harry\",\"Potter\",1800.0,\"United States\",None,None,None,None)\n",
    "]"
   ]
  },
  {
   "cell_type": "code",
   "execution_count": 18,
   "id": "4fb5386f",
   "metadata": {},
   "outputs": [],
   "source": [
    "employees_df = spark.createDataFrame(\n",
    "    employees,\n",
    "    schema = \"\"\"\n",
    "        employee_id INT, employee_first_name STRING, employee_last_name STRING, \n",
    "        employee_salary FLOAT, employee_nationality STRING,\n",
    "        employee_email_ids STRING,\n",
    "        employee_phone_numbers MAP<STRING, STRING>,\n",
    "        employee_ssn STRING,\n",
    "        employee_address STRUCT<street: STRING, city: STRING, state: STRING, postal_code: INT>\n",
    "    \"\"\"\n",
    ")"
   ]
  },
  {
   "cell_type": "code",
   "execution_count": 20,
   "id": "fdee2764",
   "metadata": {},
   "outputs": [
    {
     "name": "stdout",
     "output_type": "stream",
     "text": [
      "+-----------+-------------------------------------+\n",
      "|employee_id|employee_email_ids                   |\n",
      "+-----------+-------------------------------------+\n",
      "|2          |henry@ford.com, hford@companyx.com   |\n",
      "|3          |nick@junior.com, njunior@companyx.com|\n",
      "|4          |bill@gomes.com, bgomes@companyx.com  |\n",
      "|5          |null                                 |\n",
      "+-----------+-------------------------------------+\n",
      "\n"
     ]
    }
   ],
   "source": [
    "employees_df.select('employee_id','employee_email_ids').show(truncate=False)"
   ]
  },
  {
   "cell_type": "code",
   "execution_count": 21,
   "id": "c6f8d869",
   "metadata": {},
   "outputs": [],
   "source": [
    "from pyspark.sql.functions import split"
   ]
  },
  {
   "cell_type": "code",
   "execution_count": 30,
   "id": "381f8918",
   "metadata": {},
   "outputs": [
    {
     "name": "stdout",
     "output_type": "stream",
     "text": [
      "+-----------+---------------------------------------+\n",
      "|employee_id|employee_email_ids                     |\n",
      "+-----------+---------------------------------------+\n",
      "|2          |[henry@ford.com, hford@companyx.com]   |\n",
      "|3          |[nick@junior.com, njunior@companyx.com]|\n",
      "|4          |[bill@gomes.com, bgomes@companyx.com]  |\n",
      "|5          |null                                   |\n",
      "+-----------+---------------------------------------+\n",
      "\n"
     ]
    }
   ],
   "source": [
    "employees_df. \\\n",
    "    select(\n",
    "        'employee_id',\n",
    "        split('employee_email_ids',', ').alias('employee_email_ids')\n",
    "    ). \\\n",
    "    show(truncate=False)"
   ]
  },
  {
   "cell_type": "code",
   "execution_count": 31,
   "id": "7003ab32",
   "metadata": {},
   "outputs": [
    {
     "name": "stdout",
     "output_type": "stream",
     "text": [
      "root\n",
      " |-- employee_id: integer (nullable = true)\n",
      " |-- employee_email_ids: array (nullable = true)\n",
      " |    |-- element: string (containsNull = true)\n",
      "\n"
     ]
    }
   ],
   "source": [
    "employees_df. \\\n",
    "    select(\n",
    "        'employee_id',\n",
    "        split('employee_email_ids',', ').alias('employee_email_ids')\n",
    "    ). \\\n",
    "    printSchema()"
   ]
  },
  {
   "cell_type": "code",
   "execution_count": 32,
   "id": "ab3a422f",
   "metadata": {},
   "outputs": [],
   "source": [
    "from pyspark.sql.functions import explode_outer"
   ]
  },
  {
   "cell_type": "code",
   "execution_count": 33,
   "id": "5b28a9b5",
   "metadata": {},
   "outputs": [
    {
     "name": "stdout",
     "output_type": "stream",
     "text": [
      "root\n",
      " |-- employee_id: integer (nullable = true)\n",
      " |-- employee_email_ids: string (nullable = true)\n",
      "\n"
     ]
    }
   ],
   "source": [
    "employees_df. \\\n",
    "    select(\n",
    "        'employee_id',\n",
    "        explode_outer(split('employee_email_ids',', ')).alias('employee_email_ids')\n",
    "    ). \\\n",
    "    printSchema()"
   ]
  },
  {
   "cell_type": "code",
   "execution_count": 34,
   "id": "af152da2",
   "metadata": {},
   "outputs": [
    {
     "name": "stdout",
     "output_type": "stream",
     "text": [
      "+-----------+--------------------+\n",
      "|employee_id|employee_email_ids  |\n",
      "+-----------+--------------------+\n",
      "|2          |henry@ford.com      |\n",
      "|2          |hford@companyx.com  |\n",
      "|3          |nick@junior.com     |\n",
      "|3          |njunior@companyx.com|\n",
      "|4          |bill@gomes.com      |\n",
      "|4          |bgomes@companyx.com |\n",
      "|5          |null                |\n",
      "+-----------+--------------------+\n",
      "\n"
     ]
    }
   ],
   "source": [
    "employees_df. \\\n",
    "    select(\n",
    "        'employee_id',\n",
    "        explode_outer(split('employee_email_ids',', ')).alias('employee_email_ids')\n",
    "    ). \\\n",
    "    show(truncate=False)"
   ]
  },
  {
   "cell_type": "code",
   "execution_count": 35,
   "id": "426b6829",
   "metadata": {},
   "outputs": [
    {
     "data": {
      "text/plain": [
       "\u001b[0;31mSignature:\u001b[0m \u001b[0mexplode_outer\u001b[0m\u001b[0;34m(\u001b[0m\u001b[0mcol\u001b[0m\u001b[0;34m)\u001b[0m\u001b[0;34m\u001b[0m\u001b[0;34m\u001b[0m\u001b[0m\n",
       "\u001b[0;31mDocstring:\u001b[0m\n",
       "Returns a new row for each element in the given array or map.\n",
       "Unlike explode, if the array/map is null or empty then null is produced.\n",
       "Uses the default column name `col` for elements in the array and\n",
       "`key` and `value` for elements in the map unless specified otherwise.\n",
       "\n",
       ".. versionadded:: 2.3.0\n",
       "\n",
       "Examples\n",
       "--------\n",
       ">>> df = spark.createDataFrame(\n",
       "...     [(1, [\"foo\", \"bar\"], {\"x\": 1.0}), (2, [], {}), (3, None, None)],\n",
       "...     (\"id\", \"an_array\", \"a_map\")\n",
       "... )\n",
       ">>> df.select(\"id\", \"an_array\", explode_outer(\"a_map\")).show()\n",
       "+---+----------+----+-----+\n",
       "| id|  an_array| key|value|\n",
       "+---+----------+----+-----+\n",
       "|  1|[foo, bar]|   x|  1.0|\n",
       "|  2|        []|null| null|\n",
       "|  3|      null|null| null|\n",
       "+---+----------+----+-----+\n",
       "\n",
       ">>> df.select(\"id\", \"a_map\", explode_outer(\"an_array\")).show()\n",
       "+---+----------+----+\n",
       "| id|     a_map| col|\n",
       "+---+----------+----+\n",
       "|  1|{x -> 1.0}| foo|\n",
       "|  1|{x -> 1.0}| bar|\n",
       "|  2|        {}|null|\n",
       "|  3|      null|null|\n",
       "+---+----------+----+\n",
       "\u001b[0;31mFile:\u001b[0m      /opt/spark-3.1.2-bin-hadoop3.2/python/pyspark/sql/functions.py\n",
       "\u001b[0;31mType:\u001b[0m      function\n"
      ]
     },
     "metadata": {},
     "output_type": "display_data"
    }
   ],
   "source": [
    "explode_outer?"
   ]
  },
  {
   "cell_type": "code",
   "execution_count": 1,
   "id": "c129dcc6",
   "metadata": {},
   "outputs": [],
   "source": [
    "from pyspark.sql import SparkSession\n",
    "\n",
    "import getpass\n",
    "\n",
    "username = getpass.getuser()"
   ]
  },
  {
   "cell_type": "code",
   "execution_count": 2,
   "id": "cf6fc950",
   "metadata": {},
   "outputs": [],
   "source": [
    "spark = SparkSession. \\\n",
    "    builder. \\\n",
    "    config('spark.ui.port','0'). \\\n",
    "    config('spark.sql.warehouse.dir',f'/user/{username}/warehouse'). \\\n",
    "    enableHiveSupport(). \\\n",
    "    appName(f'{username} | Section 19 Semi Structured Data'). \\\n",
    "    master('yarn'). \\\n",
    "    getOrCreate()\n",
    "    "
   ]
  },
  {
   "cell_type": "code",
   "execution_count": 3,
   "id": "50a63cbf",
   "metadata": {},
   "outputs": [],
   "source": [
    "spark.conf.set('spark.sql.shuffle.partitions','2')"
   ]
  },
  {
   "cell_type": "code",
   "execution_count": 5,
   "id": "50788803",
   "metadata": {},
   "outputs": [
    {
     "name": "stdout",
     "output_type": "stream",
     "text": [
      "total 4\n",
      "-rw-r--r-- 1 itv011204 students   0 Feb 21 04:59 _SUCCESS\n",
      "-rw-r--r-- 1 itv011204 students 774 Feb 21 04:59 part-00000-dfce426e-b1c1-4059-8979-e6e224f2fc19-c000.json\n"
     ]
    }
   ],
   "source": [
    "!ls -ltr ../data/employee_emails"
   ]
  },
  {
   "cell_type": "code",
   "execution_count": 7,
   "id": "5b1e7050",
   "metadata": {},
   "outputs": [
    {
     "name": "stdout",
     "output_type": "stream",
     "text": [
      "{\"employee_id\":2,\"employee_first_name\":\"Henry\",\"employee_last_name\":\"Ford\",\"employee_email_id\":\"henry@ford.com\"}\n",
      "{\"employee_id\":2,\"employee_first_name\":\"Henry\",\"employee_last_name\":\"Ford\",\"employee_email_id\":\"hford@companyx.com\"}\n",
      "{\"employee_id\":3,\"employee_first_name\":\"Nick\",\"employee_last_name\":\"Junior\",\"employee_email_id\":\"nick@junior.com\"}\n",
      "{\"employee_id\":3,\"employee_first_name\":\"Nick\",\"employee_last_name\":\"Junior\",\"employee_email_id\":\"njunior@companyx.com\"}\n",
      "{\"employee_id\":4,\"employee_first_name\":\"Bill\",\"employee_last_name\":\"Gomes\",\"employee_email_id\":\"bill@gomes.com\"}\n",
      "{\"employee_id\":4,\"employee_first_name\":\"Bill\",\"employee_last_name\":\"Gomes\",\"employee_email_id\":\"bgomes@companyx.com\"}\n",
      "{\"employee_id\":5,\"employee_first_name\":\"Harry\",\"employee_last_name\":\"Potter\"}\n"
     ]
    }
   ],
   "source": [
    "!cat ../data/employee_emails/part-00000-dfce426e-b1c1-4059-8979-e6e224f2fc19-c000.json"
   ]
  },
  {
   "cell_type": "code",
   "execution_count": 8,
   "id": "9ffb13ab",
   "metadata": {},
   "outputs": [],
   "source": [
    "!hdfs dfs -put -f ../data/employee_emails /user/`whoami`/"
   ]
  },
  {
   "cell_type": "code",
   "execution_count": 9,
   "id": "6dbf208d",
   "metadata": {},
   "outputs": [
    {
     "name": "stdout",
     "output_type": "stream",
     "text": [
      "Found 2 items\n",
      "-rw-r--r--   3 itv011204 supergroup          0 2024-02-21 05:04 /user/itv011204/employee_emails/_SUCCESS\n",
      "-rw-r--r--   3 itv011204 supergroup        774 2024-02-21 05:04 /user/itv011204/employee_emails/part-00000-dfce426e-b1c1-4059-8979-e6e224f2fc19-c000.json\n"
     ]
    }
   ],
   "source": [
    "!hdfs dfs -ls /user/`whoami`/employee_emails"
   ]
  },
  {
   "cell_type": "code",
   "execution_count": 10,
   "id": "a80ddf8a",
   "metadata": {},
   "outputs": [
    {
     "name": "stdout",
     "output_type": "stream",
     "text": [
      "rm: `/user/itv011204/employee_emails/.ipynb_checkpoints': No such file or directory\n"
     ]
    }
   ],
   "source": [
    "!hdfs dfs -rm -R -skipTrash /user/`whoami`/employee_emails/.ipynb_checkpoints"
   ]
  },
  {
   "cell_type": "code",
   "execution_count": 3,
   "id": "2ae625ec",
   "metadata": {},
   "outputs": [],
   "source": [
    "employee_emails_df = spark. \\\n",
    "                        read. \\\n",
    "                        json(f'/user/{username}/employee_emails')"
   ]
  },
  {
   "cell_type": "code",
   "execution_count": 5,
   "id": "bbe4001b",
   "metadata": {},
   "outputs": [
    {
     "name": "stdout",
     "output_type": "stream",
     "text": [
      "root\n",
      " |-- employee_email_id: string (nullable = true)\n",
      " |-- employee_first_name: string (nullable = true)\n",
      " |-- employee_id: long (nullable = true)\n",
      " |-- employee_last_name: string (nullable = true)\n",
      "\n"
     ]
    }
   ],
   "source": [
    "employee_emails_df.printSchema()"
   ]
  },
  {
   "cell_type": "code",
   "execution_count": 6,
   "id": "97f3573e",
   "metadata": {},
   "outputs": [
    {
     "name": "stdout",
     "output_type": "stream",
     "text": [
      "+--------------------+-------------------+-----------+------------------+\n",
      "|employee_email_id   |employee_first_name|employee_id|employee_last_name|\n",
      "+--------------------+-------------------+-----------+------------------+\n",
      "|henry@ford.com      |Henry              |2          |Ford              |\n",
      "|hford@companyx.com  |Henry              |2          |Ford              |\n",
      "|nick@junior.com     |Nick               |3          |Junior            |\n",
      "|njunior@companyx.com|Nick               |3          |Junior            |\n",
      "|bill@gomes.com      |Bill               |4          |Gomes             |\n",
      "|bgomes@companyx.com |Bill               |4          |Gomes             |\n",
      "|null                |Harry              |5          |Potter            |\n",
      "+--------------------+-------------------+-----------+------------------+\n",
      "\n"
     ]
    }
   ],
   "source": [
    "employee_emails_df.show(truncate=False)"
   ]
  },
  {
   "cell_type": "code",
   "execution_count": 7,
   "id": "f908a685",
   "metadata": {},
   "outputs": [],
   "source": [
    "from pyspark.sql.functions import count"
   ]
  },
  {
   "cell_type": "code",
   "execution_count": 10,
   "id": "f7945990",
   "metadata": {},
   "outputs": [
    {
     "name": "stdout",
     "output_type": "stream",
     "text": [
      "+-----------+-------------------+------------------+--------------+\n",
      "|employee_id|employee_first_name|employee_last_name|employee_count|\n",
      "+-----------+-------------------+------------------+--------------+\n",
      "|          3|               Nick|            Junior|             2|\n",
      "|          4|               Bill|             Gomes|             2|\n",
      "|          5|              Harry|            Potter|             1|\n",
      "|          2|              Henry|              Ford|             2|\n",
      "+-----------+-------------------+------------------+--------------+\n",
      "\n"
     ]
    }
   ],
   "source": [
    "employee_emails_df. \\\n",
    "    groupBy('employee_id','employee_first_name','employee_last_name'). \\\n",
    "    agg(count('*').alias('employee_count')). \\\n",
    "    show()"
   ]
  },
  {
   "cell_type": "code",
   "execution_count": 14,
   "id": "c6b00289",
   "metadata": {},
   "outputs": [],
   "source": [
    "from pyspark.sql.functions import lit"
   ]
  },
  {
   "cell_type": "code",
   "execution_count": 15,
   "id": "d0bb71c1",
   "metadata": {},
   "outputs": [
    {
     "name": "stdout",
     "output_type": "stream",
     "text": [
      "+-----------+-------------------+------------------+--------------+\n",
      "|employee_id|employee_first_name|employee_last_name|employee_count|\n",
      "+-----------+-------------------+------------------+--------------+\n",
      "|          3|               Nick|            Junior|             2|\n",
      "|          4|               Bill|             Gomes|             2|\n",
      "|          5|              Harry|            Potter|             1|\n",
      "|          2|              Henry|              Ford|             2|\n",
      "+-----------+-------------------+------------------+--------------+\n",
      "\n"
     ]
    }
   ],
   "source": [
    "employee_emails_df. \\\n",
    "    groupBy('employee_id','employee_first_name','employee_last_name'). \\\n",
    "    agg(count(lit('1')).alias('employee_count')). \\\n",
    "    show()"
   ]
  },
  {
   "cell_type": "code",
   "execution_count": 16,
   "id": "180112b4",
   "metadata": {},
   "outputs": [
    {
     "name": "stdout",
     "output_type": "stream",
     "text": [
      "+-----------+-------------------+------------------+--------------+\n",
      "|employee_id|employee_first_name|employee_last_name|employee_count|\n",
      "+-----------+-------------------+------------------+--------------+\n",
      "|          3|               Nick|            Junior|             2|\n",
      "|          4|               Bill|             Gomes|             2|\n",
      "|          5|              Harry|            Potter|             0|\n",
      "|          2|              Henry|              Ford|             2|\n",
      "+-----------+-------------------+------------------+--------------+\n",
      "\n"
     ]
    }
   ],
   "source": [
    "employee_emails_df. \\\n",
    "    groupBy('employee_id','employee_first_name','employee_last_name'). \\\n",
    "    agg(count('employee_email_id').alias('employee_count')). \\\n",
    "    show()"
   ]
  },
  {
   "cell_type": "code",
   "execution_count": 18,
   "id": "af57adeb",
   "metadata": {},
   "outputs": [],
   "source": [
    "from pyspark.sql.functions import collect_set, count, lit"
   ]
  },
  {
   "cell_type": "code",
   "execution_count": 21,
   "id": "4010f867",
   "metadata": {},
   "outputs": [
    {
     "name": "stdout",
     "output_type": "stream",
     "text": [
      "+-----------+-------------------+------------------+--------------+---------------------------------------+\n",
      "|employee_id|employee_first_name|employee_last_name|employee_count|employee_email_ids                     |\n",
      "+-----------+-------------------+------------------+--------------+---------------------------------------+\n",
      "|3          |Nick               |Junior            |2             |[njunior@companyx.com, nick@junior.com]|\n",
      "|4          |Bill               |Gomes             |2             |[bill@gomes.com, bgomes@companyx.com]  |\n",
      "|5          |Harry              |Potter            |0             |[]                                     |\n",
      "|2          |Henry              |Ford              |2             |[henry@ford.com, hford@companyx.com]   |\n",
      "+-----------+-------------------+------------------+--------------+---------------------------------------+\n",
      "\n"
     ]
    }
   ],
   "source": [
    "employee_emails_df. \\\n",
    "    groupBy('employee_id','employee_first_name','employee_last_name'). \\\n",
    "    agg(\n",
    "        count('employee_email_id').alias('employee_count'), \n",
    "        collect_set('employee_email_id').alias('employee_email_ids')\n",
    "    ). \\\n",
    "    show(truncate=False)"
   ]
  },
  {
   "cell_type": "code",
   "execution_count": 1,
   "id": "eafff178",
   "metadata": {},
   "outputs": [],
   "source": [
    "from pyspark.sql import SparkSession\n",
    "\n",
    "import getpass\n",
    "\n",
    "username = getpass.getuser()"
   ]
  },
  {
   "cell_type": "code",
   "execution_count": 2,
   "id": "51bfe456",
   "metadata": {},
   "outputs": [],
   "source": [
    "spark = SparkSession. \\\n",
    "    builder. \\\n",
    "    config('spark.ui.port','0'). \\\n",
    "    config('spark.sql.warehouse.dir',f'/user/{username}/warehouse'). \\\n",
    "    enableHiveSupport(). \\\n",
    "    appName(f'{username} | Section 19 Semi Structured Data'). \\\n",
    "    master('yarn'). \\\n",
    "    getOrCreate()\n",
    "    "
   ]
  },
  {
   "cell_type": "code",
   "execution_count": 3,
   "id": "aea6676b",
   "metadata": {},
   "outputs": [],
   "source": [
    "spark.conf.set('spark.sql.shuffle.partitions','2')"
   ]
  },
  {
   "cell_type": "code",
   "execution_count": 4,
   "id": "219c7f4c",
   "metadata": {},
   "outputs": [
    {
     "name": "stdout",
     "output_type": "stream",
     "text": [
      "{\"employee_id\":2,\"employee_first_name\":\"Henry\",\"employee_last_name\":\"Ford\",\"employee_salary\":1250.0,\"employee_nationality\":\"India\",\"employee_email_ids\":[\"henry@ford.com\",\"hford@companyx.com\"],\"employee_phone_numbers\":{\"Office\":\"+91 345 678 9012\",\"Home\":\"+91 234 567 8901\"},\"employee_ssn\":\"456 78 9123\",\"employee_address\":{\"street\":\"111 BCD Cir\",\"city\":\"Some City\",\"state\":\"Some State\",\"postal_code\":500091}}\n",
      "{\"employee_id\":3,\"employee_first_name\":\"Nick\",\"employee_last_name\":\"Junior\",\"employee_salary\":750.0,\"employee_nationality\":\"United Kingdom\",\"employee_email_ids\":[\"nick@junior.com\",\"njunior@companyx.com\"],\"employee_phone_numbers\":{\"Office\":\"+44 222 222 2222\",\"Home\":\"+44 111 111 1111\"},\"employee_ssn\":\"222 33 4444\",\"employee_address\":{\"street\":\"222 Giant Cly\",\"city\":\"UK City\",\"state\":\"UK Province\"}}\n",
      "{\"employee_id\":4,\"employee_first_name\":\"Bill\",\"employee_last_name\":\"Gomes\",\"employee_salary\":1500.0,\"employee_nationality\":\"Australia\",\"employee_email_ids\":[\"bill@gomes.com\",\"bgomes@companyx.com\"],\"employee_phone_numbers\":{\"Office\":\"+61 876 543 2109\",\"Home\":\"+61 987 654 3210\"},\"employee_ssn\":\"789 12 6118\"}\n",
      "{\"employee_id\":5,\"employee_first_name\":\"Harry\",\"employee_last_name\":\"Potter\",\"employee_salary\":1800.0,\"employee_nationality\":\"United States\"}\n"
     ]
    }
   ],
   "source": [
    "!cat ../data/employees/part-00000-49b27c92-f756-4ae8-9791-21181c4f881a-c000.json"
   ]
  },
  {
   "cell_type": "code",
   "execution_count": 5,
   "id": "51acc004",
   "metadata": {},
   "outputs": [],
   "source": [
    "employees_df = spark.read.json(f'/user/{username}/employees')"
   ]
  },
  {
   "cell_type": "code",
   "execution_count": 6,
   "id": "dd03cf24",
   "metadata": {},
   "outputs": [
    {
     "name": "stdout",
     "output_type": "stream",
     "text": [
      "root\n",
      " |-- employee_address: struct (nullable = true)\n",
      " |    |-- city: string (nullable = true)\n",
      " |    |-- postal_code: long (nullable = true)\n",
      " |    |-- state: string (nullable = true)\n",
      " |    |-- street: string (nullable = true)\n",
      " |-- employee_email_ids: array (nullable = true)\n",
      " |    |-- element: string (containsNull = true)\n",
      " |-- employee_first_name: string (nullable = true)\n",
      " |-- employee_id: long (nullable = true)\n",
      " |-- employee_last_name: string (nullable = true)\n",
      " |-- employee_nationality: string (nullable = true)\n",
      " |-- employee_phone_numbers: struct (nullable = true)\n",
      " |    |-- Home: string (nullable = true)\n",
      " |    |-- Office: string (nullable = true)\n",
      " |-- employee_salary: double (nullable = true)\n",
      " |-- employee_ssn: string (nullable = true)\n",
      "\n"
     ]
    }
   ],
   "source": [
    "employees_df.printSchema()"
   ]
  },
  {
   "cell_type": "code",
   "execution_count": 7,
   "id": "fe292db0",
   "metadata": {},
   "outputs": [
    {
     "name": "stdout",
     "output_type": "stream",
     "text": [
      "+-----------+--------------------------------------------+\n",
      "|employee_id|employee_address                            |\n",
      "+-----------+--------------------------------------------+\n",
      "|2          |{Some City, 500091, Some State, 111 BCD Cir}|\n",
      "|3          |{UK City, null, UK Province, 222 Giant Cly} |\n",
      "|4          |null                                        |\n",
      "|5          |null                                        |\n",
      "+-----------+--------------------------------------------+\n",
      "\n"
     ]
    }
   ],
   "source": [
    "employees_df. \\\n",
    "    select('employee_id','employee_address'). \\\n",
    "    show(truncate=False)"
   ]
  },
  {
   "cell_type": "code",
   "execution_count": 8,
   "id": "8fee19c7",
   "metadata": {},
   "outputs": [
    {
     "name": "stdout",
     "output_type": "stream",
     "text": [
      "root\n",
      " |-- employee_id: long (nullable = true)\n",
      " |-- employee_address: struct (nullable = true)\n",
      " |    |-- city: string (nullable = true)\n",
      " |    |-- postal_code: long (nullable = true)\n",
      " |    |-- state: string (nullable = true)\n",
      " |    |-- street: string (nullable = true)\n",
      "\n"
     ]
    }
   ],
   "source": [
    "employees_df. \\\n",
    "    select('employee_id','employee_address'). \\\n",
    "    printSchema()"
   ]
  },
  {
   "cell_type": "code",
   "execution_count": 9,
   "id": "b87249df",
   "metadata": {},
   "outputs": [
    {
     "name": "stdout",
     "output_type": "stream",
     "text": [
      "root\n",
      " |-- employee_id: long (nullable = true)\n",
      " |-- city: string (nullable = true)\n",
      " |-- postal_code: long (nullable = true)\n",
      " |-- state: string (nullable = true)\n",
      " |-- street: string (nullable = true)\n",
      "\n"
     ]
    }
   ],
   "source": [
    "employees_df. \\\n",
    "    select('employee_id','employee_address.*'). \\\n",
    "    printSchema()"
   ]
  },
  {
   "cell_type": "code",
   "execution_count": 10,
   "id": "f35d5be2",
   "metadata": {},
   "outputs": [
    {
     "name": "stdout",
     "output_type": "stream",
     "text": [
      "+-----------+---------+-----------+-----------+-------------+\n",
      "|employee_id|city     |postal_code|state      |street       |\n",
      "+-----------+---------+-----------+-----------+-------------+\n",
      "|2          |Some City|500091     |Some State |111 BCD Cir  |\n",
      "|3          |UK City  |null       |UK Province|222 Giant Cly|\n",
      "|4          |null     |null       |null       |null         |\n",
      "|5          |null     |null       |null       |null         |\n",
      "+-----------+---------+-----------+-----------+-------------+\n",
      "\n"
     ]
    }
   ],
   "source": [
    "employees_df. \\\n",
    "    select('employee_id','employee_address.*'). \\\n",
    "    show(truncate=False)"
   ]
  },
  {
   "cell_type": "code",
   "execution_count": 11,
   "id": "719106c6",
   "metadata": {},
   "outputs": [
    {
     "name": "stdout",
     "output_type": "stream",
     "text": [
      "+-----------+---------+\n",
      "|employee_id|city     |\n",
      "+-----------+---------+\n",
      "|2          |Some City|\n",
      "|3          |UK City  |\n",
      "|4          |null     |\n",
      "|5          |null     |\n",
      "+-----------+---------+\n",
      "\n"
     ]
    }
   ],
   "source": [
    "employees_df. \\\n",
    "    select('employee_id','employee_address.city'). \\\n",
    "    show(truncate=False)"
   ]
  },
  {
   "cell_type": "code",
   "execution_count": 12,
   "id": "df71450e",
   "metadata": {},
   "outputs": [
    {
     "name": "stdout",
     "output_type": "stream",
     "text": [
      "+-----------+---------+-----------+\n",
      "|employee_id|city     |postal_code|\n",
      "+-----------+---------+-----------+\n",
      "|2          |Some City|500091     |\n",
      "|3          |UK City  |null       |\n",
      "|4          |null     |null       |\n",
      "|5          |null     |null       |\n",
      "+-----------+---------+-----------+\n",
      "\n"
     ]
    }
   ],
   "source": [
    "employees_df. \\\n",
    "    select('employee_id','employee_address.city','employee_address.postal_code'). \\\n",
    "    show(truncate=False)"
   ]
  },
  {
   "cell_type": "code",
   "execution_count": 13,
   "id": "9aa3f257",
   "metadata": {},
   "outputs": [],
   "source": [
    "from pyspark.sql.functions import concat_ws"
   ]
  },
  {
   "cell_type": "code",
   "execution_count": 14,
   "id": "995c8dc0",
   "metadata": {},
   "outputs": [
    {
     "data": {
      "text/plain": [
       "\u001b[0;31mSignature:\u001b[0m \u001b[0mconcat_ws\u001b[0m\u001b[0;34m(\u001b[0m\u001b[0msep\u001b[0m\u001b[0;34m,\u001b[0m \u001b[0;34m*\u001b[0m\u001b[0mcols\u001b[0m\u001b[0;34m)\u001b[0m\u001b[0;34m\u001b[0m\u001b[0;34m\u001b[0m\u001b[0m\n",
       "\u001b[0;31mDocstring:\u001b[0m\n",
       "Concatenates multiple input string columns together into a single string column,\n",
       "using the given separator.\n",
       "\n",
       ".. versionadded:: 1.5.0\n",
       "\n",
       "Examples\n",
       "--------\n",
       ">>> df = spark.createDataFrame([('abcd','123')], ['s', 'd'])\n",
       ">>> df.select(concat_ws('-', df.s, df.d).alias('s')).collect()\n",
       "[Row(s='abcd-123')]\n",
       "\u001b[0;31mFile:\u001b[0m      /opt/spark-3.1.2-bin-hadoop3.2/python/pyspark/sql/functions.py\n",
       "\u001b[0;31mType:\u001b[0m      function\n"
      ]
     },
     "metadata": {},
     "output_type": "display_data"
    }
   ],
   "source": [
    "concat_ws?"
   ]
  },
  {
   "cell_type": "code",
   "execution_count": 15,
   "id": "88d2f7be",
   "metadata": {},
   "outputs": [
    {
     "name": "stdout",
     "output_type": "stream",
     "text": [
      "+-----------+----------------------+\n",
      "|employee_id|employee_address      |\n",
      "+-----------+----------------------+\n",
      "|2          |111 BCD Cir, Some City|\n",
      "|3          |222 Giant Cly, UK City|\n",
      "|4          |                      |\n",
      "|5          |                      |\n",
      "+-----------+----------------------+\n",
      "\n"
     ]
    }
   ],
   "source": [
    "employees_df. \\\n",
    "    select('employee_id',\n",
    "        concat_ws(', ','employee_address.street','employee_address.city').alias('employee_address')\n",
    "    ). \\\n",
    "    show(truncate=False)"
   ]
  },
  {
   "cell_type": "code",
   "execution_count": 16,
   "id": "b28155bd",
   "metadata": {},
   "outputs": [
    {
     "name": "stdout",
     "output_type": "stream",
     "text": [
      "+-----------+------------------------------+\n",
      "|employee_id|employee_address              |\n",
      "+-----------+------------------------------+\n",
      "|2          |111 BCD Cir, Some City, 500091|\n",
      "|3          |222 Giant Cly, UK City        |\n",
      "|4          |                              |\n",
      "|5          |                              |\n",
      "+-----------+------------------------------+\n",
      "\n"
     ]
    }
   ],
   "source": [
    "employees_df. \\\n",
    "    select('employee_id',\n",
    "        concat_ws(', ','employee_address.street','employee_address.city','employee_address.postal_code').alias('employee_address')\n",
    "    ). \\\n",
    "    show(truncate=False)"
   ]
  },
  {
   "cell_type": "code",
   "execution_count": 17,
   "id": "80ce861a",
   "metadata": {},
   "outputs": [
    {
     "name": "stdout",
     "output_type": "stream",
     "text": [
      "+-----------+--------------------------------------------+\n",
      "|employee_id|employee_address                            |\n",
      "+-----------+--------------------------------------------+\n",
      "|2          |{Some City, 500091, Some State, 111 BCD Cir}|\n",
      "|3          |{UK City, null, UK Province, 222 Giant Cly} |\n",
      "|4          |null                                        |\n",
      "|5          |null                                        |\n",
      "+-----------+--------------------------------------------+\n",
      "\n"
     ]
    }
   ],
   "source": [
    "employees_df. \\\n",
    "    select('employee_id','employee_address'). \\\n",
    "    show(truncate=False)"
   ]
  },
  {
   "cell_type": "code",
   "execution_count": 18,
   "id": "7e3cbf6d",
   "metadata": {},
   "outputs": [
    {
     "name": "stdout",
     "output_type": "stream",
     "text": [
      "+--------------------------------------------+------------------------------------+-------------------+-----------+------------------+--------------------+------------------------------------+---------------+------------+\n",
      "|employee_address                            |employee_email_ids                  |employee_first_name|employee_id|employee_last_name|employee_nationality|employee_phone_numbers              |employee_salary|employee_ssn|\n",
      "+--------------------------------------------+------------------------------------+-------------------+-----------+------------------+--------------------+------------------------------------+---------------+------------+\n",
      "|{Some City, 500091, Some State, 111 BCD Cir}|[henry@ford.com, hford@companyx.com]|Henry              |2          |Ford              |India               |{+91 234 567 8901, +91 345 678 9012}|1250.0         |456 78 9123 |\n",
      "+--------------------------------------------+------------------------------------+-------------------+-----------+------------------+--------------------+------------------------------------+---------------+------------+\n",
      "\n"
     ]
    }
   ],
   "source": [
    "employees_df. \\\n",
    "    filter('employee_address.postal_code IS NOT NULL'). \\\n",
    "    show(truncate=False)"
   ]
  },
  {
   "cell_type": "code",
   "execution_count": 42,
   "id": "863cd57f",
   "metadata": {},
   "outputs": [],
   "source": [
    "from pyspark.sql.functions import lit,col"
   ]
  },
  {
   "cell_type": "code",
   "execution_count": 43,
   "id": "9974508a",
   "metadata": {},
   "outputs": [
    {
     "name": "stdout",
     "output_type": "stream",
     "text": [
      "+-----------+-------------------+---------+-----------+-----------+-------------+\n",
      "|employee_id|employee_first_name|city     |postal_code|state      |street       |\n",
      "+-----------+-------------------+---------+-----------+-----------+-------------+\n",
      "|2          |Henry              |Some City|500091     |Some State |111 BCD Cir  |\n",
      "|3          |Nick               |UK City  |null       |UK Province|222 Giant Cly|\n",
      "|4          |Bill               |null     |null       |null       |null         |\n",
      "|5          |Harry              |null     |null       |null       |null         |\n",
      "+-----------+-------------------+---------+-----------+-----------+-------------+\n",
      "\n"
     ]
    }
   ],
   "source": [
    "employees_df. \\\n",
    "    select('employee_id','employee_first_name','employee_address.*'). \\\n",
    "    show(truncate=False)"
   ]
  },
  {
   "cell_type": "code",
   "execution_count": 45,
   "id": "80977653",
   "metadata": {},
   "outputs": [
    {
     "name": "stdout",
     "output_type": "stream",
     "text": [
      "+-----------+-------------------+---------+-----------+----------+-----------+\n",
      "|employee_id|employee_first_name|city     |postal_code|state     |street     |\n",
      "+-----------+-------------------+---------+-----------+----------+-----------+\n",
      "|2          |Henry              |Some City|500091     |Some State|111 BCD Cir|\n",
      "+-----------+-------------------+---------+-----------+----------+-----------+\n",
      "\n"
     ]
    }
   ],
   "source": [
    "employees_df. \\\n",
    "    filter(col('employee_id')==lit(2)). \\\n",
    "    select('employee_id','employee_first_name','employee_address.*'). \\\n",
    "    show(truncate=False)"
   ]
  },
  {
   "cell_type": "code",
   "execution_count": 50,
   "id": "dd48b0ee",
   "metadata": {},
   "outputs": [
    {
     "name": "stdout",
     "output_type": "stream",
     "text": [
      "+-----------+-------------------+---------+-----------+----------+-----------+\n",
      "|employee_id|employee_first_name|city     |postal_code|state     |street     |\n",
      "+-----------+-------------------+---------+-----------+----------+-----------+\n",
      "|2          |Henry              |Some City|500091     |Some State|111 BCD Cir|\n",
      "+-----------+-------------------+---------+-----------+----------+-----------+\n",
      "\n"
     ]
    }
   ],
   "source": [
    "employees_df. \\\n",
    "    filter('employee_address.postal_code IS NOT NULL'). \\\n",
    "    select('employee_id','employee_first_name','employee_address.*'). \\\n",
    "    show(truncate=False)"
   ]
  },
  {
   "cell_type": "code",
   "execution_count": 52,
   "id": "074fc071",
   "metadata": {},
   "outputs": [
    {
     "name": "stdout",
     "output_type": "stream",
     "text": [
      "+-----------+-------------------+---------+-----------+----------+-----------+\n",
      "|employee_id|employee_first_name|city     |postal_code|state     |street     |\n",
      "+-----------+-------------------+---------+-----------+----------+-----------+\n",
      "|2          |Henry              |Some City|500091     |Some State|111 BCD Cir|\n",
      "+-----------+-------------------+---------+-----------+----------+-----------+\n",
      "\n"
     ]
    }
   ],
   "source": [
    "employees_df. \\\n",
    "    filter('employee_address.postal_code IS NOT NULL AND employee_first_name=\"Henry\"'). \\\n",
    "    select('employee_id','employee_first_name','employee_address.*'). \\\n",
    "    show(truncate=False)"
   ]
  },
  {
   "cell_type": "code",
   "execution_count": 56,
   "id": "26527989",
   "metadata": {},
   "outputs": [
    {
     "name": "stdout",
     "output_type": "stream",
     "text": [
      "+-----------+-------------------+----+-----------+-----+------+\n",
      "|employee_id|employee_first_name|city|postal_code|state|street|\n",
      "+-----------+-------------------+----+-----------+-----+------+\n",
      "+-----------+-------------------+----+-----------+-----+------+\n",
      "\n"
     ]
    }
   ],
   "source": [
    "employees_df. \\\n",
    "    filter((col('employee_address.postal_code').isNull()) & (col('employee_first_name')==\"Henry\")). \\\n",
    "    select('employee_id','employee_first_name','employee_address.*'). \\\n",
    "    show(truncate=False)"
   ]
  },
  {
   "cell_type": "code",
   "execution_count": 57,
   "id": "5d5b3c12",
   "metadata": {},
   "outputs": [
    {
     "name": "stdout",
     "output_type": "stream",
     "text": [
      "+-----------+-------------------+---------+-----------+----------+-----------+\n",
      "|employee_id|employee_first_name|city     |postal_code|state     |street     |\n",
      "+-----------+-------------------+---------+-----------+----------+-----------+\n",
      "|2          |Henry              |Some City|500091     |Some State|111 BCD Cir|\n",
      "+-----------+-------------------+---------+-----------+----------+-----------+\n",
      "\n"
     ]
    }
   ],
   "source": [
    "employees_df. \\\n",
    "    filter((~(col('employee_address.postal_code').isNull())) & (col('employee_first_name')==\"Henry\")). \\\n",
    "    select('employee_id','employee_first_name','employee_address.*'). \\\n",
    "    show(truncate=False)"
   ]
  },
  {
   "cell_type": "code",
   "execution_count": 59,
   "id": "14c2d304",
   "metadata": {},
   "outputs": [
    {
     "name": "stdout",
     "output_type": "stream",
     "text": [
      "+-----------+-------------------+---------+-----------+----------+-----------+\n",
      "|employee_id|employee_first_name|city     |postal_code|state     |street     |\n",
      "+-----------+-------------------+---------+-----------+----------+-----------+\n",
      "|2          |Henry              |Some City|500091     |Some State|111 BCD Cir|\n",
      "+-----------+-------------------+---------+-----------+----------+-----------+\n",
      "\n"
     ]
    }
   ],
   "source": [
    "employees_df. \\\n",
    "    filter(~(employees_df.employee_address.postal_code.isNull()) & (employees_df.employee_first_name==\"Henry\")). \\\n",
    "    select('employee_id','employee_first_name','employee_address.*'). \\\n",
    "    show(truncate=False)"
   ]
  },
  {
   "cell_type": "code",
   "execution_count": 1,
   "id": "464aa798",
   "metadata": {},
   "outputs": [],
   "source": [
    "from pyspark.sql import SparkSession\n",
    "\n",
    "import getpass\n",
    "\n",
    "username = getpass.getuser()"
   ]
  },
  {
   "cell_type": "code",
   "execution_count": 2,
   "id": "5321212d",
   "metadata": {},
   "outputs": [],
   "source": [
    "spark = SparkSession. \\\n",
    "    builder. \\\n",
    "    config('spark.ui.port','0'). \\\n",
    "    config('spark.sql.warehouse.dir',f'/user/{username}/warehouse'). \\\n",
    "    enableHiveSupport(). \\\n",
    "    appName(f'{username} | Section 19 Semi Structured Data'). \\\n",
    "    master('yarn'). \\\n",
    "    getOrCreate()\n",
    "    "
   ]
  },
  {
   "cell_type": "code",
   "execution_count": 3,
   "id": "2530df0e",
   "metadata": {},
   "outputs": [],
   "source": [
    "spark.conf.set('spark.sql.shuffle.partitions','2')"
   ]
  },
  {
   "cell_type": "code",
   "execution_count": 4,
   "id": "f9404198",
   "metadata": {},
   "outputs": [
    {
     "name": "stdout",
     "output_type": "stream",
     "text": [
      "{\"employee_id\":2,\"employee_first_name\":\"Henry\",\"employee_last_name\":\"Ford\",\"employee_salary\":1250.0,\"employee_nationality\":\"India\",\"employee_email_ids\":[\"henry@ford.com\",\"hford@companyx.com\"],\"employee_phone_numbers\":{\"Office\":\"+91 345 678 9012\",\"Home\":\"+91 234 567 8901\"},\"employee_ssn\":\"456 78 9123\",\"employee_address\":{\"street\":\"111 BCD Cir\",\"city\":\"Some City\",\"state\":\"Some State\",\"postal_code\":500091}}\n",
      "{\"employee_id\":3,\"employee_first_name\":\"Nick\",\"employee_last_name\":\"Junior\",\"employee_salary\":750.0,\"employee_nationality\":\"United Kingdom\",\"employee_email_ids\":[\"nick@junior.com\",\"njunior@companyx.com\"],\"employee_phone_numbers\":{\"Office\":\"+44 222 222 2222\",\"Home\":\"+44 111 111 1111\"},\"employee_ssn\":\"222 33 4444\",\"employee_address\":{\"street\":\"222 Giant Cly\",\"city\":\"UK City\",\"state\":\"UK Province\"}}\n",
      "{\"employee_id\":4,\"employee_first_name\":\"Bill\",\"employee_last_name\":\"Gomes\",\"employee_salary\":1500.0,\"employee_nationality\":\"Australia\",\"employee_email_ids\":[\"bill@gomes.com\",\"bgomes@companyx.com\"],\"employee_phone_numbers\":{\"Office\":\"+61 876 543 2109\",\"Home\":\"+61 987 654 3210\"},\"employee_ssn\":\"789 12 6118\"}\n",
      "{\"employee_id\":5,\"employee_first_name\":\"Harry\",\"employee_last_name\":\"Potter\",\"employee_salary\":1800.0,\"employee_nationality\":\"United States\"}\n"
     ]
    }
   ],
   "source": [
    "!cat ../data/employees/part-00000-49b27c92-f756-4ae8-9791-21181c4f881a-c000.json"
   ]
  },
  {
   "cell_type": "code",
   "execution_count": 3,
   "id": "25efc3d3",
   "metadata": {},
   "outputs": [],
   "source": [
    "employees_df = spark.read.json(f'/user/{username}/employees')"
   ]
  },
  {
   "cell_type": "code",
   "execution_count": 5,
   "id": "0303ee8d",
   "metadata": {},
   "outputs": [
    {
     "name": "stdout",
     "output_type": "stream",
     "text": [
      "root\n",
      " |-- employee_address: struct (nullable = true)\n",
      " |    |-- city: string (nullable = true)\n",
      " |    |-- postal_code: long (nullable = true)\n",
      " |    |-- state: string (nullable = true)\n",
      " |    |-- street: string (nullable = true)\n",
      " |-- employee_email_ids: array (nullable = true)\n",
      " |    |-- element: string (containsNull = true)\n",
      " |-- employee_first_name: string (nullable = true)\n",
      " |-- employee_id: long (nullable = true)\n",
      " |-- employee_last_name: string (nullable = true)\n",
      " |-- employee_nationality: string (nullable = true)\n",
      " |-- employee_phone_numbers: struct (nullable = true)\n",
      " |    |-- Home: string (nullable = true)\n",
      " |    |-- Office: string (nullable = true)\n",
      " |-- employee_salary: double (nullable = true)\n",
      " |-- employee_ssn: string (nullable = true)\n",
      "\n"
     ]
    }
   ],
   "source": [
    "employees_df.printSchema()"
   ]
  },
  {
   "cell_type": "code",
   "execution_count": 6,
   "id": "e7fb0ffc",
   "metadata": {},
   "outputs": [],
   "source": [
    "from pyspark.sql.functions import map_keys, map_values"
   ]
  },
  {
   "cell_type": "code",
   "execution_count": 7,
   "id": "0e740676",
   "metadata": {},
   "outputs": [
    {
     "name": "stdout",
     "output_type": "stream",
     "text": [
      "+-----------+------------------------------------+\n",
      "|employee_id|employee_phone_numbers              |\n",
      "+-----------+------------------------------------+\n",
      "|2          |{+91 234 567 8901, +91 345 678 9012}|\n",
      "|3          |{+44 111 111 1111, +44 222 222 2222}|\n",
      "|4          |{+61 987 654 3210, +61 876 543 2109}|\n",
      "|5          |null                                |\n",
      "+-----------+------------------------------------+\n",
      "\n"
     ]
    }
   ],
   "source": [
    "employees_df. \\\n",
    "    select(\n",
    "        'employee_id','employee_phone_numbers'\n",
    "    ). \\\n",
    "    show(truncate=False)"
   ]
  },
  {
   "cell_type": "code",
   "execution_count": 8,
   "id": "b96c63dc",
   "metadata": {
    "collapsed": true,
    "jupyter": {
     "outputs_hidden": true
    }
   },
   "outputs": [
    {
     "ename": "AnalysisException",
     "evalue": "cannot resolve 'map_keys(`employee_phone_numbers`)' due to data type mismatch: argument 1 requires map type, however, '`employee_phone_numbers`' is of struct<Home:string,Office:string> type.;\n'Project [employee_id#10L, map_keys(employee_phone_numbers#13) AS employee_phone_numbers_keys#38]\n+- Relation[employee_address#7,employee_email_ids#8,employee_first_name#9,employee_id#10L,employee_last_name#11,employee_nationality#12,employee_phone_numbers#13,employee_salary#14,employee_ssn#15] json\n",
     "output_type": "error",
     "traceback": [
      "\u001b[0;31m---------------------------------------------------------------------------\u001b[0m",
      "\u001b[0;31mAnalysisException\u001b[0m                         Traceback (most recent call last)",
      "\u001b[0;32m<ipython-input-8-69d4cb2dc890>\u001b[0m in \u001b[0;36m<module>\u001b[0;34m\u001b[0m\n\u001b[1;32m      1\u001b[0m \u001b[0memployees_df\u001b[0m\u001b[0;34m.\u001b[0m\u001b[0;31m \u001b[0m\u001b[0;31m\\\u001b[0m\u001b[0;34m\u001b[0m\u001b[0;34m\u001b[0m\u001b[0m\n\u001b[1;32m      2\u001b[0m     select(\n\u001b[0;32m----> 3\u001b[0;31m         \u001b[0;34m'employee_id'\u001b[0m\u001b[0;34m,\u001b[0m\u001b[0mmap_keys\u001b[0m\u001b[0;34m(\u001b[0m\u001b[0;34m'employee_phone_numbers'\u001b[0m\u001b[0;34m)\u001b[0m\u001b[0;34m.\u001b[0m\u001b[0malias\u001b[0m\u001b[0;34m(\u001b[0m\u001b[0;34m'employee_phone_numbers_keys'\u001b[0m\u001b[0;34m)\u001b[0m\u001b[0;34m\u001b[0m\u001b[0;34m\u001b[0m\u001b[0m\n\u001b[0m\u001b[1;32m      4\u001b[0m     ). \\\n\u001b[1;32m      5\u001b[0m     \u001b[0mshow\u001b[0m\u001b[0;34m(\u001b[0m\u001b[0mtruncate\u001b[0m\u001b[0;34m=\u001b[0m\u001b[0;32mFalse\u001b[0m\u001b[0;34m)\u001b[0m\u001b[0;34m\u001b[0m\u001b[0;34m\u001b[0m\u001b[0m\n",
      "\u001b[0;32m/opt/spark-3.1.2-bin-hadoop3.2/python/pyspark/sql/dataframe.py\u001b[0m in \u001b[0;36mselect\u001b[0;34m(self, *cols)\u001b[0m\n\u001b[1;32m   1667\u001b[0m         \u001b[0;34m[\u001b[0m\u001b[0mRow\u001b[0m\u001b[0;34m(\u001b[0m\u001b[0mname\u001b[0m\u001b[0;34m=\u001b[0m\u001b[0;34m'Alice'\u001b[0m\u001b[0;34m,\u001b[0m \u001b[0mage\u001b[0m\u001b[0;34m=\u001b[0m\u001b[0;36m12\u001b[0m\u001b[0;34m)\u001b[0m\u001b[0;34m,\u001b[0m \u001b[0mRow\u001b[0m\u001b[0;34m(\u001b[0m\u001b[0mname\u001b[0m\u001b[0;34m=\u001b[0m\u001b[0;34m'Bob'\u001b[0m\u001b[0;34m,\u001b[0m \u001b[0mage\u001b[0m\u001b[0;34m=\u001b[0m\u001b[0;36m15\u001b[0m\u001b[0;34m)\u001b[0m\u001b[0;34m]\u001b[0m\u001b[0;34m\u001b[0m\u001b[0;34m\u001b[0m\u001b[0m\n\u001b[1;32m   1668\u001b[0m         \"\"\"\n\u001b[0;32m-> 1669\u001b[0;31m         \u001b[0mjdf\u001b[0m \u001b[0;34m=\u001b[0m \u001b[0mself\u001b[0m\u001b[0;34m.\u001b[0m\u001b[0m_jdf\u001b[0m\u001b[0;34m.\u001b[0m\u001b[0mselect\u001b[0m\u001b[0;34m(\u001b[0m\u001b[0mself\u001b[0m\u001b[0;34m.\u001b[0m\u001b[0m_jcols\u001b[0m\u001b[0;34m(\u001b[0m\u001b[0;34m*\u001b[0m\u001b[0mcols\u001b[0m\u001b[0;34m)\u001b[0m\u001b[0;34m)\u001b[0m\u001b[0;34m\u001b[0m\u001b[0;34m\u001b[0m\u001b[0m\n\u001b[0m\u001b[1;32m   1670\u001b[0m         \u001b[0;32mreturn\u001b[0m \u001b[0mDataFrame\u001b[0m\u001b[0;34m(\u001b[0m\u001b[0mjdf\u001b[0m\u001b[0;34m,\u001b[0m \u001b[0mself\u001b[0m\u001b[0;34m.\u001b[0m\u001b[0msql_ctx\u001b[0m\u001b[0;34m)\u001b[0m\u001b[0;34m\u001b[0m\u001b[0;34m\u001b[0m\u001b[0m\n\u001b[1;32m   1671\u001b[0m \u001b[0;34m\u001b[0m\u001b[0m\n",
      "\u001b[0;32m/opt/spark-3.1.2-bin-hadoop3.2/python/lib/py4j-0.10.9-src.zip/py4j/java_gateway.py\u001b[0m in \u001b[0;36m__call__\u001b[0;34m(self, *args)\u001b[0m\n\u001b[1;32m   1303\u001b[0m         \u001b[0manswer\u001b[0m \u001b[0;34m=\u001b[0m \u001b[0mself\u001b[0m\u001b[0;34m.\u001b[0m\u001b[0mgateway_client\u001b[0m\u001b[0;34m.\u001b[0m\u001b[0msend_command\u001b[0m\u001b[0;34m(\u001b[0m\u001b[0mcommand\u001b[0m\u001b[0;34m)\u001b[0m\u001b[0;34m\u001b[0m\u001b[0;34m\u001b[0m\u001b[0m\n\u001b[1;32m   1304\u001b[0m         return_value = get_return_value(\n\u001b[0;32m-> 1305\u001b[0;31m             answer, self.gateway_client, self.target_id, self.name)\n\u001b[0m\u001b[1;32m   1306\u001b[0m \u001b[0;34m\u001b[0m\u001b[0m\n\u001b[1;32m   1307\u001b[0m         \u001b[0;32mfor\u001b[0m \u001b[0mtemp_arg\u001b[0m \u001b[0;32min\u001b[0m \u001b[0mtemp_args\u001b[0m\u001b[0;34m:\u001b[0m\u001b[0;34m\u001b[0m\u001b[0;34m\u001b[0m\u001b[0m\n",
      "\u001b[0;32m/opt/spark-3.1.2-bin-hadoop3.2/python/pyspark/sql/utils.py\u001b[0m in \u001b[0;36mdeco\u001b[0;34m(*a, **kw)\u001b[0m\n\u001b[1;32m    115\u001b[0m                 \u001b[0;31m# Hide where the exception came from that shows a non-Pythonic\u001b[0m\u001b[0;34m\u001b[0m\u001b[0;34m\u001b[0m\u001b[0;34m\u001b[0m\u001b[0m\n\u001b[1;32m    116\u001b[0m                 \u001b[0;31m# JVM exception message.\u001b[0m\u001b[0;34m\u001b[0m\u001b[0;34m\u001b[0m\u001b[0;34m\u001b[0m\u001b[0m\n\u001b[0;32m--> 117\u001b[0;31m                 \u001b[0;32mraise\u001b[0m \u001b[0mconverted\u001b[0m \u001b[0;32mfrom\u001b[0m \u001b[0;32mNone\u001b[0m\u001b[0;34m\u001b[0m\u001b[0;34m\u001b[0m\u001b[0m\n\u001b[0m\u001b[1;32m    118\u001b[0m             \u001b[0;32melse\u001b[0m\u001b[0;34m:\u001b[0m\u001b[0;34m\u001b[0m\u001b[0;34m\u001b[0m\u001b[0m\n\u001b[1;32m    119\u001b[0m                 \u001b[0;32mraise\u001b[0m\u001b[0;34m\u001b[0m\u001b[0;34m\u001b[0m\u001b[0m\n",
      "\u001b[0;31mAnalysisException\u001b[0m: cannot resolve 'map_keys(`employee_phone_numbers`)' due to data type mismatch: argument 1 requires map type, however, '`employee_phone_numbers`' is of struct<Home:string,Office:string> type.;\n'Project [employee_id#10L, map_keys(employee_phone_numbers#13) AS employee_phone_numbers_keys#38]\n+- Relation[employee_address#7,employee_email_ids#8,employee_first_name#9,employee_id#10L,employee_last_name#11,employee_nationality#12,employee_phone_numbers#13,employee_salary#14,employee_ssn#15] json\n"
     ]
    }
   ],
   "source": [
    "employees_df. \\\n",
    "    select(\n",
    "        'employee_id',map_keys('employee_phone_numbers').alias('employee_phone_numbers_keys')\n",
    "    ). \\\n",
    "    show(truncate=False)"
   ]
  },
  {
   "cell_type": "code",
   "execution_count": 9,
   "id": "870a6962",
   "metadata": {},
   "outputs": [],
   "source": [
    "employees_df = spark. \\\n",
    "                read. \\\n",
    "                json(\n",
    "                    f'/user/{username}/employees',\n",
    "                    schema = \"\"\"\n",
    "                        employee_id INT, employee_first_name STRING, employee_last_name STRING, \n",
    "                        employee_salary FLOAT, employee_nationality STRING,\n",
    "                        employee_email_ids ARRAY<STRING>,\n",
    "                        employee_phone_numbers MAP<STRING, STRING>,\n",
    "                        employee_ssn STRING,\n",
    "                        employee_address STRUCT<street: STRING, city: STRING, state: STRING, postal_code: INT>\n",
    "                    \"\"\"\n",
    "                )"
   ]
  },
  {
   "cell_type": "code",
   "execution_count": 10,
   "id": "c3995896",
   "metadata": {},
   "outputs": [
    {
     "name": "stdout",
     "output_type": "stream",
     "text": [
      "root\n",
      " |-- employee_id: integer (nullable = true)\n",
      " |-- employee_first_name: string (nullable = true)\n",
      " |-- employee_last_name: string (nullable = true)\n",
      " |-- employee_salary: float (nullable = true)\n",
      " |-- employee_nationality: string (nullable = true)\n",
      " |-- employee_email_ids: array (nullable = true)\n",
      " |    |-- element: string (containsNull = true)\n",
      " |-- employee_phone_numbers: map (nullable = true)\n",
      " |    |-- key: string\n",
      " |    |-- value: string (valueContainsNull = true)\n",
      " |-- employee_ssn: string (nullable = true)\n",
      " |-- employee_address: struct (nullable = true)\n",
      " |    |-- street: string (nullable = true)\n",
      " |    |-- city: string (nullable = true)\n",
      " |    |-- state: string (nullable = true)\n",
      " |    |-- postal_code: integer (nullable = true)\n",
      "\n"
     ]
    }
   ],
   "source": [
    "employees_df.printSchema()"
   ]
  },
  {
   "cell_type": "code",
   "execution_count": 11,
   "id": "cdf5c8dc",
   "metadata": {},
   "outputs": [
    {
     "name": "stdout",
     "output_type": "stream",
     "text": [
      "+-----------+------------------------------------------------------+\n",
      "|employee_id|employee_phone_numbers                                |\n",
      "+-----------+------------------------------------------------------+\n",
      "|2          |{Office -> +91 345 678 9012, Home -> +91 234 567 8901}|\n",
      "|3          |{Office -> +44 222 222 2222, Home -> +44 111 111 1111}|\n",
      "|4          |{Office -> +61 876 543 2109, Home -> +61 987 654 3210}|\n",
      "|5          |null                                                  |\n",
      "+-----------+------------------------------------------------------+\n",
      "\n"
     ]
    }
   ],
   "source": [
    "employees_df. \\\n",
    "    select(\n",
    "        'employee_id','employee_phone_numbers'\n",
    "    ). \\\n",
    "    show(truncate=False)"
   ]
  },
  {
   "cell_type": "code",
   "execution_count": 12,
   "id": "50dbd3a5",
   "metadata": {},
   "outputs": [],
   "source": [
    "from pyspark.sql.functions import map_keys, map_values"
   ]
  },
  {
   "cell_type": "code",
   "execution_count": 13,
   "id": "6b3fa2cd",
   "metadata": {},
   "outputs": [
    {
     "name": "stdout",
     "output_type": "stream",
     "text": [
      "+-----------+--------------------------+\n",
      "|employee_id|employee_phone_number_keys|\n",
      "+-----------+--------------------------+\n",
      "|          2|            [Office, Home]|\n",
      "|          3|            [Office, Home]|\n",
      "|          4|            [Office, Home]|\n",
      "|          5|                      null|\n",
      "+-----------+--------------------------+\n",
      "\n"
     ]
    }
   ],
   "source": [
    "employees_df. \\\n",
    "    select(\n",
    "        'employee_id', map_keys('employee_phone_numbers').alias('employee_phone_number_keys')\n",
    "    ). \\\n",
    "    show()"
   ]
  },
  {
   "cell_type": "code",
   "execution_count": 14,
   "id": "c97fc902",
   "metadata": {},
   "outputs": [
    {
     "name": "stdout",
     "output_type": "stream",
     "text": [
      "+-----------+----------------------------+\n",
      "|employee_id|employee_phone_number_values|\n",
      "+-----------+----------------------------+\n",
      "|          2|        [+91 345 678 9012...|\n",
      "|          3|        [+44 222 222 2222...|\n",
      "|          4|        [+61 876 543 2109...|\n",
      "|          5|                        null|\n",
      "+-----------+----------------------------+\n",
      "\n"
     ]
    }
   ],
   "source": [
    "employees_df. \\\n",
    "    select(\n",
    "        'employee_id', map_values('employee_phone_numbers').alias('employee_phone_number_values')\n",
    "    ). \\\n",
    "    show()"
   ]
  },
  {
   "cell_type": "code",
   "execution_count": 16,
   "id": "778f2c60",
   "metadata": {},
   "outputs": [
    {
     "name": "stdout",
     "output_type": "stream",
     "text": [
      "+-----------+----------------+\n",
      "|employee_id|            Home|\n",
      "+-----------+----------------+\n",
      "|          2|+91 234 567 8901|\n",
      "|          3|+44 111 111 1111|\n",
      "|          4|+61 987 654 3210|\n",
      "|          5|            null|\n",
      "+-----------+----------------+\n",
      "\n"
     ]
    }
   ],
   "source": [
    "employees_df. \\\n",
    "    select(\n",
    "        'employee_id', 'employee_phone_numbers.Home'\n",
    "    ). \\\n",
    "    show()"
   ]
  },
  {
   "cell_type": "code",
   "execution_count": 17,
   "id": "8772e2e0",
   "metadata": {},
   "outputs": [
    {
     "name": "stdout",
     "output_type": "stream",
     "text": [
      "+-----------+----------------+\n",
      "|employee_id|          Office|\n",
      "+-----------+----------------+\n",
      "|          2|+91 345 678 9012|\n",
      "|          3|+44 222 222 2222|\n",
      "|          4|+61 876 543 2109|\n",
      "|          5|            null|\n",
      "+-----------+----------------+\n",
      "\n"
     ]
    }
   ],
   "source": [
    "employees_df. \\\n",
    "    select(\n",
    "        'employee_id', 'employee_phone_numbers.Office'\n",
    "    ). \\\n",
    "    show()"
   ]
  },
  {
   "cell_type": "code",
   "execution_count": 18,
   "id": "94d91dac",
   "metadata": {
    "collapsed": true,
    "jupyter": {
     "outputs_hidden": true
    }
   },
   "outputs": [
    {
     "ename": "AnalysisException",
     "evalue": "Can only star expand struct data types. Attribute: `ArrayBuffer(employee_phone_numbers)`",
     "output_type": "error",
     "traceback": [
      "\u001b[0;31m---------------------------------------------------------------------------\u001b[0m",
      "\u001b[0;31mAnalysisException\u001b[0m                         Traceback (most recent call last)",
      "\u001b[0;32m<ipython-input-18-abda769f350f>\u001b[0m in \u001b[0;36m<module>\u001b[0;34m\u001b[0m\n\u001b[1;32m      1\u001b[0m \u001b[0memployees_df\u001b[0m\u001b[0;34m.\u001b[0m\u001b[0;31m \u001b[0m\u001b[0;31m\\\u001b[0m\u001b[0;34m\u001b[0m\u001b[0;34m\u001b[0m\u001b[0m\n\u001b[1;32m      2\u001b[0m     select(\n\u001b[0;32m----> 3\u001b[0;31m         \u001b[0;34m'employee_id'\u001b[0m\u001b[0;34m,\u001b[0m \u001b[0;34m'employee_phone_numbers.*'\u001b[0m\u001b[0;34m\u001b[0m\u001b[0;34m\u001b[0m\u001b[0m\n\u001b[0m\u001b[1;32m      4\u001b[0m     ). \\\n\u001b[1;32m      5\u001b[0m     \u001b[0mshow\u001b[0m\u001b[0;34m(\u001b[0m\u001b[0;34m)\u001b[0m\u001b[0;34m\u001b[0m\u001b[0;34m\u001b[0m\u001b[0m\n",
      "\u001b[0;32m/opt/spark-3.1.2-bin-hadoop3.2/python/pyspark/sql/dataframe.py\u001b[0m in \u001b[0;36mselect\u001b[0;34m(self, *cols)\u001b[0m\n\u001b[1;32m   1667\u001b[0m         \u001b[0;34m[\u001b[0m\u001b[0mRow\u001b[0m\u001b[0;34m(\u001b[0m\u001b[0mname\u001b[0m\u001b[0;34m=\u001b[0m\u001b[0;34m'Alice'\u001b[0m\u001b[0;34m,\u001b[0m \u001b[0mage\u001b[0m\u001b[0;34m=\u001b[0m\u001b[0;36m12\u001b[0m\u001b[0;34m)\u001b[0m\u001b[0;34m,\u001b[0m \u001b[0mRow\u001b[0m\u001b[0;34m(\u001b[0m\u001b[0mname\u001b[0m\u001b[0;34m=\u001b[0m\u001b[0;34m'Bob'\u001b[0m\u001b[0;34m,\u001b[0m \u001b[0mage\u001b[0m\u001b[0;34m=\u001b[0m\u001b[0;36m15\u001b[0m\u001b[0;34m)\u001b[0m\u001b[0;34m]\u001b[0m\u001b[0;34m\u001b[0m\u001b[0;34m\u001b[0m\u001b[0m\n\u001b[1;32m   1668\u001b[0m         \"\"\"\n\u001b[0;32m-> 1669\u001b[0;31m         \u001b[0mjdf\u001b[0m \u001b[0;34m=\u001b[0m \u001b[0mself\u001b[0m\u001b[0;34m.\u001b[0m\u001b[0m_jdf\u001b[0m\u001b[0;34m.\u001b[0m\u001b[0mselect\u001b[0m\u001b[0;34m(\u001b[0m\u001b[0mself\u001b[0m\u001b[0;34m.\u001b[0m\u001b[0m_jcols\u001b[0m\u001b[0;34m(\u001b[0m\u001b[0;34m*\u001b[0m\u001b[0mcols\u001b[0m\u001b[0;34m)\u001b[0m\u001b[0;34m)\u001b[0m\u001b[0;34m\u001b[0m\u001b[0;34m\u001b[0m\u001b[0m\n\u001b[0m\u001b[1;32m   1670\u001b[0m         \u001b[0;32mreturn\u001b[0m \u001b[0mDataFrame\u001b[0m\u001b[0;34m(\u001b[0m\u001b[0mjdf\u001b[0m\u001b[0;34m,\u001b[0m \u001b[0mself\u001b[0m\u001b[0;34m.\u001b[0m\u001b[0msql_ctx\u001b[0m\u001b[0;34m)\u001b[0m\u001b[0;34m\u001b[0m\u001b[0;34m\u001b[0m\u001b[0m\n\u001b[1;32m   1671\u001b[0m \u001b[0;34m\u001b[0m\u001b[0m\n",
      "\u001b[0;32m/opt/spark-3.1.2-bin-hadoop3.2/python/lib/py4j-0.10.9-src.zip/py4j/java_gateway.py\u001b[0m in \u001b[0;36m__call__\u001b[0;34m(self, *args)\u001b[0m\n\u001b[1;32m   1303\u001b[0m         \u001b[0manswer\u001b[0m \u001b[0;34m=\u001b[0m \u001b[0mself\u001b[0m\u001b[0;34m.\u001b[0m\u001b[0mgateway_client\u001b[0m\u001b[0;34m.\u001b[0m\u001b[0msend_command\u001b[0m\u001b[0;34m(\u001b[0m\u001b[0mcommand\u001b[0m\u001b[0;34m)\u001b[0m\u001b[0;34m\u001b[0m\u001b[0;34m\u001b[0m\u001b[0m\n\u001b[1;32m   1304\u001b[0m         return_value = get_return_value(\n\u001b[0;32m-> 1305\u001b[0;31m             answer, self.gateway_client, self.target_id, self.name)\n\u001b[0m\u001b[1;32m   1306\u001b[0m \u001b[0;34m\u001b[0m\u001b[0m\n\u001b[1;32m   1307\u001b[0m         \u001b[0;32mfor\u001b[0m \u001b[0mtemp_arg\u001b[0m \u001b[0;32min\u001b[0m \u001b[0mtemp_args\u001b[0m\u001b[0;34m:\u001b[0m\u001b[0;34m\u001b[0m\u001b[0;34m\u001b[0m\u001b[0m\n",
      "\u001b[0;32m/opt/spark-3.1.2-bin-hadoop3.2/python/pyspark/sql/utils.py\u001b[0m in \u001b[0;36mdeco\u001b[0;34m(*a, **kw)\u001b[0m\n\u001b[1;32m    115\u001b[0m                 \u001b[0;31m# Hide where the exception came from that shows a non-Pythonic\u001b[0m\u001b[0;34m\u001b[0m\u001b[0;34m\u001b[0m\u001b[0;34m\u001b[0m\u001b[0m\n\u001b[1;32m    116\u001b[0m                 \u001b[0;31m# JVM exception message.\u001b[0m\u001b[0;34m\u001b[0m\u001b[0;34m\u001b[0m\u001b[0;34m\u001b[0m\u001b[0m\n\u001b[0;32m--> 117\u001b[0;31m                 \u001b[0;32mraise\u001b[0m \u001b[0mconverted\u001b[0m \u001b[0;32mfrom\u001b[0m \u001b[0;32mNone\u001b[0m\u001b[0;34m\u001b[0m\u001b[0;34m\u001b[0m\u001b[0m\n\u001b[0m\u001b[1;32m    118\u001b[0m             \u001b[0;32melse\u001b[0m\u001b[0;34m:\u001b[0m\u001b[0;34m\u001b[0m\u001b[0;34m\u001b[0m\u001b[0m\n\u001b[1;32m    119\u001b[0m                 \u001b[0;32mraise\u001b[0m\u001b[0;34m\u001b[0m\u001b[0;34m\u001b[0m\u001b[0m\n",
      "\u001b[0;31mAnalysisException\u001b[0m: Can only star expand struct data types. Attribute: `ArrayBuffer(employee_phone_numbers)`"
     ]
    }
   ],
   "source": [
    "employees_df. \\\n",
    "    select(\n",
    "        'employee_id', 'employee_phone_numbers.*'\n",
    "    ). \\\n",
    "    show()"
   ]
  },
  {
   "cell_type": "code",
   "execution_count": 19,
   "id": "ae1a5277",
   "metadata": {},
   "outputs": [],
   "source": [
    "from pyspark.sql.functions import col"
   ]
  },
  {
   "cell_type": "code",
   "execution_count": 20,
   "id": "510bd43b",
   "metadata": {},
   "outputs": [
    {
     "name": "stdout",
     "output_type": "stream",
     "text": [
      "+-----------+-----------------+-------------------+\n",
      "|employee_id|home_phone_number|office_phone_number|\n",
      "+-----------+-----------------+-------------------+\n",
      "|          2| +91 234 567 8901|   +91 345 678 9012|\n",
      "|          3| +44 111 111 1111|   +44 222 222 2222|\n",
      "|          4| +61 987 654 3210|   +61 876 543 2109|\n",
      "|          5|             null|               null|\n",
      "+-----------+-----------------+-------------------+\n",
      "\n"
     ]
    }
   ],
   "source": [
    "employees_df. \\\n",
    "    select(\n",
    "        'employee_id', \n",
    "        col('employee_phone_numbers.Home').alias('home_phone_number'), \n",
    "        col('employee_phone_numbers.Office').alias('office_phone_number')\n",
    "    ). \\\n",
    "    show()"
   ]
  },
  {
   "cell_type": "code",
   "execution_count": null,
   "id": "02f83cf9",
   "metadata": {},
   "outputs": [],
   "source": []
  }
 ],
 "metadata": {
  "kernelspec": {
   "display_name": "Pyspark 3",
   "language": "python",
   "name": "pyspark3"
  },
  "language_info": {
   "codemirror_mode": {
    "name": "ipython",
    "version": 3
   },
   "file_extension": ".py",
   "mimetype": "text/x-python",
   "name": "python",
   "nbconvert_exporter": "python",
   "pygments_lexer": "ipython3",
   "version": "3.6.12"
  }
 },
 "nbformat": 4,
 "nbformat_minor": 5
}
