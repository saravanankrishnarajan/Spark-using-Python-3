{
 "cells": [
  {
   "cell_type": "code",
   "execution_count": 1,
   "id": "f71da94c",
   "metadata": {},
   "outputs": [],
   "source": [
    "### Problems and Solutions"
   ]
  },
  {
   "cell_type": "code",
   "execution_count": 2,
   "id": "210a7be2",
   "metadata": {},
   "outputs": [],
   "source": [
    "## 198 Problem 1 - Get total Aggregations"
   ]
  },
  {
   "cell_type": "code",
   "execution_count": 1,
   "id": "5b1ec37d",
   "metadata": {},
   "outputs": [],
   "source": [
    "from pyspark.sql import SparkSession\n",
    "import getpass\n",
    "\n",
    "username = getpass.getuser()\n",
    "\n",
    "spark = SparkSession. \\\n",
    "        builder. \\\n",
    "        config('spark.ui.port','0'). \\\n",
    "        config('spark.sql.warehouse.dir', f'/user/{username}/warehouse/'). \\\n",
    "        config('spark.shuffle.io.connectionTimeout','6000'). \\\n",
    "        config(\"spark.driver.memory\", '6g'). \\\n",
    "        config('spark.executor.memory', '6g'). \\\n",
    "        enableHiveSupport(). \\\n",
    "        appName(f'{username} | Python - Basic Transformations'). \\\n",
    "        master('yarn'). \\\n",
    "        getOrCreate()\n",
    "\n",
    "#        config('spark.executor.heartbeatInterval','20s'). \\\n",
    "#         config('spark.network.timeout','6000'). \\"
   ]
  },
  {
   "cell_type": "code",
   "execution_count": 2,
   "id": "94f424a5",
   "metadata": {},
   "outputs": [],
   "source": [
    "airtraffic_path = '/public/airlines_all/airlines-part/flightmonth=200801'"
   ]
  },
  {
   "cell_type": "code",
   "execution_count": 3,
   "id": "d6151c72",
   "metadata": {},
   "outputs": [],
   "source": [
    "airtraffic = spark.read.parquet(airtraffic_path)"
   ]
  },
  {
   "cell_type": "code",
   "execution_count": 4,
   "id": "bdace68f",
   "metadata": {},
   "outputs": [
    {
     "name": "stdout",
     "output_type": "stream",
     "text": [
      "root\n",
      " |-- Year: integer (nullable = true)\n",
      " |-- Month: integer (nullable = true)\n",
      " |-- DayofMonth: integer (nullable = true)\n",
      " |-- DayOfWeek: integer (nullable = true)\n",
      " |-- DepTime: string (nullable = true)\n",
      " |-- CRSDepTime: integer (nullable = true)\n",
      " |-- ArrTime: string (nullable = true)\n",
      " |-- CRSArrTime: integer (nullable = true)\n",
      " |-- UniqueCarrier: string (nullable = true)\n",
      " |-- FlightNum: integer (nullable = true)\n",
      " |-- TailNum: string (nullable = true)\n",
      " |-- ActualElapsedTime: string (nullable = true)\n",
      " |-- CRSElapsedTime: integer (nullable = true)\n",
      " |-- AirTime: string (nullable = true)\n",
      " |-- ArrDelay: string (nullable = true)\n",
      " |-- DepDelay: string (nullable = true)\n",
      " |-- Origin: string (nullable = true)\n",
      " |-- Dest: string (nullable = true)\n",
      " |-- Distance: string (nullable = true)\n",
      " |-- TaxiIn: string (nullable = true)\n",
      " |-- TaxiOut: string (nullable = true)\n",
      " |-- Cancelled: integer (nullable = true)\n",
      " |-- CancellationCode: string (nullable = true)\n",
      " |-- Diverted: integer (nullable = true)\n",
      " |-- CarrierDelay: string (nullable = true)\n",
      " |-- WeatherDelay: string (nullable = true)\n",
      " |-- NASDelay: string (nullable = true)\n",
      " |-- SecurityDelay: string (nullable = true)\n",
      " |-- LateAircraftDelay: string (nullable = true)\n",
      " |-- IsArrDelayed: string (nullable = true)\n",
      " |-- IsDepDelayed: string (nullable = true)\n",
      "\n"
     ]
    }
   ],
   "source": [
    "airtraffic.printSchema()"
   ]
  },
  {
   "cell_type": "code",
   "execution_count": 5,
   "id": "6edbdec7",
   "metadata": {},
   "outputs": [
    {
     "name": "stdout",
     "output_type": "stream",
     "text": [
      "+----+-----+----------+---------+-------+----------+-------+----------+-------------+---------+-------+-----------------+--------------+-------+--------+--------+------+----+--------+------+-------+---------+----------------+--------+------------+------------+--------+-------------+-----------------+------------+------------+\n",
      "|Year|Month|DayofMonth|DayOfWeek|DepTime|CRSDepTime|ArrTime|CRSArrTime|UniqueCarrier|FlightNum|TailNum|ActualElapsedTime|CRSElapsedTime|AirTime|ArrDelay|DepDelay|Origin|Dest|Distance|TaxiIn|TaxiOut|Cancelled|CancellationCode|Diverted|CarrierDelay|WeatherDelay|NASDelay|SecurityDelay|LateAircraftDelay|IsArrDelayed|IsDepDelayed|\n",
      "+----+-----+----------+---------+-------+----------+-------+----------+-------------+---------+-------+-----------------+--------------+-------+--------+--------+------+----+--------+------+-------+---------+----------------+--------+------------+------------+--------+-------------+-----------------+------------+------------+\n",
      "|2008|    1|        16|        3|   1725|      1735|   1959|      2021|           OH|     5367| N716CA|              154|           166|    146|     -22|     -10|   BGR| CVG|     906|     1|      7|        0|            null|       0|          NA|          NA|      NA|           NA|               NA|          NO|          NO|\n",
      "|2008|    1|        17|        4|   1717|      1701|   1915|      1855|           OH|     4977| N967CA|              118|           114|    101|      20|      16|   SYR| CVG|     527|     2|     15|        0|            null|       0|          16|           0|       4|            0|                0|         YES|         YES|\n",
      "|2008|    1|        17|        4|   1220|      1225|   1440|      1504|           OH|     5352| N709CA|              140|           159|    117|     -24|      -5|   SAV| BOS|     901|     8|     15|        0|            null|       0|          NA|          NA|      NA|           NA|               NA|          NO|          NO|\n",
      "|2008|    1|        17|        4|   1530|      1530|   1645|      1637|           OH|     5426| N779CA|               75|            67|     45|       8|       0|   CVG| GRR|     268|     5|     25|        0|            null|       0|          NA|          NA|      NA|           NA|               NA|         YES|          NO|\n",
      "|2008|    1|        17|        4|   1203|      1205|   1429|      1429|           OH|     5441| N809CA|               86|            84|     58|       0|      -2|   STL| CVG|     307|     3|     25|        0|            null|       0|          NA|          NA|      NA|           NA|               NA|          NO|          NO|\n",
      "+----+-----+----------+---------+-------+----------+-------+----------+-------------+---------+-------+-----------------+--------------+-------+--------+--------+------+----+--------+------+-------+---------+----------------+--------+------------+------------+--------+-------------+-----------------+------------+------------+\n",
      "only showing top 5 rows\n",
      "\n"
     ]
    }
   ],
   "source": [
    "airtraffic.show(5)"
   ]
  },
  {
   "cell_type": "code",
   "execution_count": 6,
   "id": "8d47e2c9",
   "metadata": {},
   "outputs": [
    {
     "name": "stdout",
     "output_type": "stream",
     "text": [
      "+----+-----+----------+---------+-------+----------+-------+----------+-------------+---------+-------+-----------------+--------------+-------+--------+--------+------+----+--------+------+-------+---------+----------------+--------+------------+------------+--------+-------------+-----------------+------------+------------+\n",
      "|Year|Month|DayofMonth|DayOfWeek|DepTime|CRSDepTime|ArrTime|CRSArrTime|UniqueCarrier|FlightNum|TailNum|ActualElapsedTime|CRSElapsedTime|AirTime|ArrDelay|DepDelay|Origin|Dest|Distance|TaxiIn|TaxiOut|Cancelled|CancellationCode|Diverted|CarrierDelay|WeatherDelay|NASDelay|SecurityDelay|LateAircraftDelay|IsArrDelayed|IsDepDelayed|\n",
      "+----+-----+----------+---------+-------+----------+-------+----------+-------------+---------+-------+-----------------+--------------+-------+--------+--------+------+----+--------+------+-------+---------+----------------+--------+------------+------------+--------+-------------+-----------------+------------+------------+\n",
      "|2008|    1|        17|        4|   1717|      1701|   1915|      1855|           OH|     4977| N967CA|              118|           114|    101|      20|      16|   SYR| CVG|     527|     2|     15|        0|            null|       0|          16|           0|       4|            0|                0|         YES|         YES|\n",
      "|2008|    1|        17|        4|   1530|      1530|   1645|      1637|           OH|     5426| N779CA|               75|            67|     45|       8|       0|   CVG| GRR|     268|     5|     25|        0|            null|       0|          NA|          NA|      NA|           NA|               NA|         YES|          NO|\n",
      "|2008|    1|        18|        5|   1215|      1009|   1540|      1251|           OH|     5260| N446CA|              145|           102|    140|     169|     126|   MCI| CVG|     539|     2|      3|        0|            null|       0|         126|           0|      43|            0|                0|         YES|         YES|\n",
      "|2008|    1|        19|        6|    835|       835|   1145|      1130|           OH|     5276| N523CA|              130|           115|     83|      15|       0|   TUL| CVG|     646|     4|     43|        0|            null|       0|           0|           0|      15|            0|                0|         YES|          NO|\n",
      "|2008|    1|        20|        7|   1925|      1935|   2148|      2124|           OH|     5215| N729CA|              143|           109|     34|      24|     -10|   JFK| PHL|      94|     5|    104|        0|            null|       0|           0|           0|      24|            0|                0|         YES|          NO|\n",
      "+----+-----+----------+---------+-------+----------+-------+----------+-------------+---------+-------+-----------------+--------------+-------+--------+--------+------+----+--------+------+-------+---------+----------------+--------+------------+------------+--------+-------------+-----------------+------------+------------+\n",
      "only showing top 5 rows\n",
      "\n"
     ]
    }
   ],
   "source": [
    "airtraffic.filter(\"IsArrDelayed='YES' AND Cancelled=0\").show(5)"
   ]
  },
  {
   "cell_type": "code",
   "execution_count": 7,
   "id": "9a2ad9d2",
   "metadata": {},
   "outputs": [
    {
     "name": "stdout",
     "output_type": "stream",
     "text": [
      "+----+-----+----------+---------+-------+----------+-------+----------+-------------+---------+-------+-----------------+--------------+-------+--------+--------+------+----+--------+------+-------+---------+----------------+--------+------------+------------+--------+-------------+-----------------+------------+------------+\n",
      "|Year|Month|DayofMonth|DayOfWeek|DepTime|CRSDepTime|ArrTime|CRSArrTime|UniqueCarrier|FlightNum|TailNum|ActualElapsedTime|CRSElapsedTime|AirTime|ArrDelay|DepDelay|Origin|Dest|Distance|TaxiIn|TaxiOut|Cancelled|CancellationCode|Diverted|CarrierDelay|WeatherDelay|NASDelay|SecurityDelay|LateAircraftDelay|IsArrDelayed|IsDepDelayed|\n",
      "+----+-----+----------+---------+-------+----------+-------+----------+-------------+---------+-------+-----------------+--------------+-------+--------+--------+------+----+--------+------+-------+---------+----------------+--------+------------+------------+--------+-------------+-----------------+------------+------------+\n",
      "|2008|    1|        17|        4|   1717|      1701|   1915|      1855|           OH|     4977| N967CA|              118|           114|    101|      20|      16|   SYR| CVG|     527|     2|     15|        0|            null|       0|          16|           0|       4|            0|                0|         YES|         YES|\n",
      "|2008|    1|        17|        4|   1530|      1530|   1645|      1637|           OH|     5426| N779CA|               75|            67|     45|       8|       0|   CVG| GRR|     268|     5|     25|        0|            null|       0|          NA|          NA|      NA|           NA|               NA|         YES|          NO|\n",
      "|2008|    1|        18|        5|   1215|      1009|   1540|      1251|           OH|     5260| N446CA|              145|           102|    140|     169|     126|   MCI| CVG|     539|     2|      3|        0|            null|       0|         126|           0|      43|            0|                0|         YES|         YES|\n",
      "|2008|    1|        19|        6|    835|       835|   1145|      1130|           OH|     5276| N523CA|              130|           115|     83|      15|       0|   TUL| CVG|     646|     4|     43|        0|            null|       0|           0|           0|      15|            0|                0|         YES|          NO|\n",
      "|2008|    1|        20|        7|   1925|      1935|   2148|      2124|           OH|     5215| N729CA|              143|           109|     34|      24|     -10|   JFK| PHL|      94|     5|    104|        0|            null|       0|           0|           0|      24|            0|                0|         YES|          NO|\n",
      "+----+-----+----------+---------+-------+----------+-------+----------+-------------+---------+-------+-----------------+--------------+-------+--------+--------+------+----+--------+------+-------+---------+----------------+--------+------------+------------+--------+-------------+-----------------+------------+------------+\n",
      "only showing top 5 rows\n",
      "\n"
     ]
    }
   ],
   "source": [
    "airtraffic.filter((airtraffic['IsArrDelayed']=='YES') & (airtraffic['Cancelled']==0)).show(5)"
   ]
  },
  {
   "cell_type": "code",
   "execution_count": 8,
   "id": "1b9057ee",
   "metadata": {},
   "outputs": [
    {
     "name": "stdout",
     "output_type": "stream",
     "text": [
      "+----+-----+----------+---------+-------+----------+-------+----------+-------------+---------+-------+-----------------+--------------+-------+--------+--------+------+----+--------+------+-------+---------+----------------+--------+------------+------------+--------+-------------+-----------------+------------+------------+\n",
      "|Year|Month|DayofMonth|DayOfWeek|DepTime|CRSDepTime|ArrTime|CRSArrTime|UniqueCarrier|FlightNum|TailNum|ActualElapsedTime|CRSElapsedTime|AirTime|ArrDelay|DepDelay|Origin|Dest|Distance|TaxiIn|TaxiOut|Cancelled|CancellationCode|Diverted|CarrierDelay|WeatherDelay|NASDelay|SecurityDelay|LateAircraftDelay|IsArrDelayed|IsDepDelayed|\n",
      "+----+-----+----------+---------+-------+----------+-------+----------+-------------+---------+-------+-----------------+--------------+-------+--------+--------+------+----+--------+------+-------+---------+----------------+--------+------------+------------+--------+-------------+-----------------+------------+------------+\n",
      "|2008|    1|        17|        4|   1717|      1701|   1915|      1855|           OH|     4977| N967CA|              118|           114|    101|      20|      16|   SYR| CVG|     527|     2|     15|        0|            null|       0|          16|           0|       4|            0|                0|         YES|         YES|\n",
      "|2008|    1|        17|        4|   1530|      1530|   1645|      1637|           OH|     5426| N779CA|               75|            67|     45|       8|       0|   CVG| GRR|     268|     5|     25|        0|            null|       0|          NA|          NA|      NA|           NA|               NA|         YES|          NO|\n",
      "|2008|    1|        18|        5|   1215|      1009|   1540|      1251|           OH|     5260| N446CA|              145|           102|    140|     169|     126|   MCI| CVG|     539|     2|      3|        0|            null|       0|         126|           0|      43|            0|                0|         YES|         YES|\n",
      "|2008|    1|        19|        6|    835|       835|   1145|      1130|           OH|     5276| N523CA|              130|           115|     83|      15|       0|   TUL| CVG|     646|     4|     43|        0|            null|       0|           0|           0|      15|            0|                0|         YES|          NO|\n",
      "|2008|    1|        20|        7|   1925|      1935|   2148|      2124|           OH|     5215| N729CA|              143|           109|     34|      24|     -10|   JFK| PHL|      94|     5|    104|        0|            null|       0|           0|           0|      24|            0|                0|         YES|          NO|\n",
      "+----+-----+----------+---------+-------+----------+-------+----------+-------------+---------+-------+-----------------+--------------+-------+--------+--------+------+----+--------+------+-------+---------+----------------+--------+------------+------------+--------+-------------+-----------------+------------+------------+\n",
      "only showing top 5 rows\n",
      "\n"
     ]
    }
   ],
   "source": [
    "airtraffic.filter((airtraffic.IsArrDelayed=='YES') & (airtraffic.Cancelled==0)).show(5)"
   ]
  },
  {
   "cell_type": "code",
   "execution_count": 9,
   "id": "c5df5b6e",
   "metadata": {},
   "outputs": [],
   "source": [
    "from pyspark.sql.functions import col, lit, count,sum, expr"
   ]
  },
  {
   "cell_type": "code",
   "execution_count": 10,
   "id": "67c26bb1",
   "metadata": {},
   "outputs": [
    {
     "name": "stdout",
     "output_type": "stream",
     "text": [
      "+-----------+---------------+---------------+\n",
      "|FlightCount|DepDelayedCount|ARRDelayedCount|\n",
      "+-----------+---------------+---------------+\n",
      "|     588366|         247905|         280663|\n",
      "+-----------+---------------+---------------+\n",
      "\n"
     ]
    }
   ],
   "source": [
    "airtraffic. \\\n",
    "    filter('Cancelled = 0'). \\\n",
    "    agg(\n",
    "        count(lit(1)).alias('FlightCount'),\n",
    "        sum(expr(\"CASE WHEN IsDepDelayed='YES' THEN 1 ELSE 0 END\")).alias(\"DepDelayedCount\"),\n",
    "        sum(expr(\"CASE WHEN IsArrDelayed='YES' THEN 1 ELSE 0 END\")).alias(\"ARRDelayedCount\")\n",
    "    ). \\\n",
    "    show()"
   ]
  },
  {
   "cell_type": "code",
   "execution_count": 11,
   "id": "82aa89e0",
   "metadata": {},
   "outputs": [
    {
     "data": {
      "text/plain": [
       "528568"
      ]
     },
     "execution_count": 11,
     "metadata": {},
     "output_type": "execute_result"
    }
   ],
   "source": [
    "247905+280663"
   ]
  },
  {
   "cell_type": "code",
   "execution_count": 12,
   "id": "98dd2304",
   "metadata": {},
   "outputs": [],
   "source": [
    "from pyspark.sql.functions import when"
   ]
  },
  {
   "cell_type": "code",
   "execution_count": 13,
   "id": "9677d287",
   "metadata": {},
   "outputs": [
    {
     "name": "stdout",
     "output_type": "stream",
     "text": [
      "+-----------+---------------+---------------+\n",
      "|FlightCount|DepDelayedCount|ARRDelayedCount|\n",
      "+-----------+---------------+---------------+\n",
      "|     588366|         247905|         280663|\n",
      "+-----------+---------------+---------------+\n",
      "\n"
     ]
    }
   ],
   "source": [
    "airtraffic. \\\n",
    "    filter('Cancelled = 0'). \\\n",
    "    agg(\n",
    "        count(lit(1)).alias('FlightCount'),\n",
    "        sum(when(col('IsDepDelayed') == lit('YES'),1).otherwise(0)).alias(\"DepDelayedCount\"),\n",
    "        sum(when(col('IsArrDelayed') == lit('YES'),1).otherwise(0)).alias(\"ARRDelayedCount\")\n",
    "    ). \\\n",
    "    show()"
   ]
  },
  {
   "cell_type": "code",
   "execution_count": 14,
   "id": "ec893a8b",
   "metadata": {},
   "outputs": [
    {
     "name": "stdout",
     "output_type": "stream",
     "text": [
      "+-----------+---------------+---------------+\n",
      "|FlightCount|DepDelayedCount|ARRDelayedCount|\n",
      "+-----------+---------------+---------------+\n",
      "|     588366|         247905|         280663|\n",
      "+-----------+---------------+---------------+\n",
      "\n"
     ]
    }
   ],
   "source": [
    "airtraffic. \\\n",
    "    filter('Cancelled = 0'). \\\n",
    "    agg(\n",
    "        count(lit(1)).alias('FlightCount'),\n",
    "        sum(when(col('IsDepDelayed') == 'YES',1).otherwise(0)).alias(\"DepDelayedCount\"),\n",
    "        sum(when(col('IsArrDelayed') == 'YES',1).otherwise(0)).alias(\"ARRDelayedCount\")\n",
    "    ). \\\n",
    "    show()"
   ]
  },
  {
   "cell_type": "code",
   "execution_count": 15,
   "id": "25bce9f6",
   "metadata": {},
   "outputs": [],
   "source": [
    "from pyspark.sql.functions import concat,lpad,col,lit,expr"
   ]
  },
  {
   "cell_type": "code",
   "execution_count": 16,
   "id": "7334aa14",
   "metadata": {},
   "outputs": [
    {
     "name": "stdout",
     "output_type": "stream",
     "text": [
      "+----------+-----------+---------------+---------------+\n",
      "|FlightDate|FlightCount|DepDelayedCount|ArrDelayedCount|\n",
      "+----------+-----------+---------------+---------------+\n",
      "|2008-01-15|      19204|           5304|           6389|\n",
      "|2008-01-21|      19658|          10055|          11032|\n",
      "|2008-01-11|      19825|           7255|           8164|\n",
      "|2008-01-19|      15373|           6399|           6810|\n",
      "|2008-01-02|      20442|          13294|          13749|\n",
      "|2008-01-06|      19210|          10542|          10705|\n",
      "|2008-01-29|      18596|           6324|           8370|\n",
      "|2008-01-30|      19072|           6655|           7814|\n",
      "|2008-01-17|      19401|           9635|          11229|\n",
      "|2008-01-31|      19179|           9127|          11304|\n",
      "|2008-01-01|      18623|          10501|          11173|\n",
      "|2008-01-24|      19935|           8112|           9972|\n",
      "|2008-01-07|      19762|           8122|           8683|\n",
      "|2008-01-09|      19443|           5962|           6857|\n",
      "|2008-01-04|      20160|           9406|           9824|\n",
      "|2008-01-08|      19140|           7483|           8938|\n",
      "|2008-01-05|      17610|           9051|           9345|\n",
      "|2008-01-25|      19787|           8826|          10479|\n",
      "|2008-01-26|      15860|           5740|           7163|\n",
      "|2008-01-12|      16346|           3902|           4078|\n",
      "+----------+-----------+---------------+---------------+\n",
      "only showing top 20 rows\n",
      "\n"
     ]
    }
   ],
   "source": [
    "## 199 Solution Problem 2 Get Total Agregations by FlightDate\n",
    "\n",
    "\n",
    "airtraffic.\\\n",
    "    filter('Cancelled=0'). \\\n",
    "    groupBy(\n",
    "        concat(\n",
    "            'Year',lit('-'),\n",
    "            lpad(col('Month'),2,'0'),lit('-'),\n",
    "            lpad(col('DayOfMonth'),2,'0')\n",
    "        ).alias(\"FlightDate\")\n",
    "    ). \\\n",
    "    agg(\n",
    "        count(lit(1)).alias(\"FlightCount\"),\n",
    "        sum(expr(\"CASE WHEN IsDepDelayed='YES' THEN 1 ELSE 0 END\")).alias(\"DepDelayedCount\"),\n",
    "        sum(expr(\"CASE WHEN IsArrDelayed='YES' THEN 1 ELSE 0 END\")).alias(\"ArrDelayedCount\")\n",
    "       ). \\\n",
    "    show()\n",
    "    "
   ]
  },
  {
   "cell_type": "code",
   "execution_count": 22,
   "id": "b1e3f19f",
   "metadata": {},
   "outputs": [
    {
     "name": "stdout",
     "output_type": "stream",
     "text": [
      "+----------+-----------+---------------+---------------+\n",
      "|FlightDate|FlightCount|DepDelayedCount|ArrDelayedCount|\n",
      "+----------+-----------+---------------+---------------+\n",
      "|2008-01-15|      19204|           5304|           6389|\n",
      "|2008-01-21|      19658|          10055|          11032|\n",
      "|2008-01-11|      19825|           7255|           8164|\n",
      "|2008-01-19|      15373|           6399|           6810|\n",
      "|2008-01-02|      20442|          13294|          13749|\n",
      "|2008-01-06|      19210|          10542|          10705|\n",
      "|2008-01-29|      18596|           6324|           8370|\n",
      "|2008-01-30|      19072|           6655|           7814|\n",
      "|2008-01-17|      19401|           9635|          11229|\n",
      "|2008-01-31|      19179|           9127|          11304|\n",
      "|2008-01-01|      18623|          10501|          11173|\n",
      "|2008-01-24|      19935|           8112|           9972|\n",
      "|2008-01-07|      19762|           8122|           8683|\n",
      "|2008-01-09|      19443|           5962|           6857|\n",
      "|2008-01-04|      20160|           9406|           9824|\n",
      "|2008-01-08|      19140|           7483|           8938|\n",
      "|2008-01-05|      17610|           9051|           9345|\n",
      "|2008-01-25|      19787|           8826|          10479|\n",
      "|2008-01-26|      15860|           5740|           7163|\n",
      "|2008-01-12|      16346|           3902|           4078|\n",
      "+----------+-----------+---------------+---------------+\n",
      "only showing top 20 rows\n",
      "\n"
     ]
    }
   ],
   "source": [
    "airtraffic.\\\n",
    "    filter('Cancelled=0'). \\\n",
    "    groupBy(\n",
    "        concat(\n",
    "            'Year',lit('-'),\n",
    "            lpad(col('Month'),2,'0'),lit('-'),\n",
    "            lpad(col('DayOfMonth'),2,'0')\n",
    "        ).alias(\"FlightDate\")\n",
    "    ). \\\n",
    "    agg(\n",
    "        count(lit(1)).alias(\"FlightCount\"),\n",
    "        sum(when(col('IsDepDelayed')=='YES',1).otherwise(0)).alias(\"DepDelayedCount\"),\n",
    "        sum(when(col('IsArrDelayed')=='YES',1).otherwise(0)).alias(\"ArrDelayedCount\")\n",
    "       ). \\\n",
    "    show()"
   ]
  },
  {
   "cell_type": "code",
   "execution_count": 23,
   "id": "4ba37647",
   "metadata": {},
   "outputs": [
    {
     "name": "stdout",
     "output_type": "stream",
     "text": [
      "+----------+-----------+---------------+---------------+\n",
      "|FlightDate|FlightCount|DepDelayedCount|ArrDelayedCount|\n",
      "+----------+-----------+---------------+---------------+\n",
      "|2008-01-01|      18623|          10501|          11173|\n",
      "|2008-01-02|      20442|          13294|          13749|\n",
      "|2008-01-03|      20462|          11819|          12013|\n",
      "|2008-01-04|      20160|           9406|           9824|\n",
      "|2008-01-05|      17610|           9051|           9345|\n",
      "|2008-01-06|      19210|          10542|          10705|\n",
      "|2008-01-07|      19762|           8122|           8683|\n",
      "|2008-01-08|      19140|           7483|           8938|\n",
      "|2008-01-09|      19443|           5962|           6857|\n",
      "|2008-01-10|      19956|           7033|           8565|\n",
      "|2008-01-11|      19825|           7255|           8164|\n",
      "|2008-01-12|      16346|           3902|           4078|\n",
      "|2008-01-13|      18587|           6634|           7473|\n",
      "|2008-01-14|      19267|           5921|           7104|\n",
      "|2008-01-15|      19204|           5304|           6389|\n",
      "|2008-01-16|      19232|           5102|           6228|\n",
      "|2008-01-17|      19401|           9635|          11229|\n",
      "|2008-01-18|      20117|          10038|          10860|\n",
      "|2008-01-19|      15373|           6399|           6810|\n",
      "|2008-01-20|      18406|           6700|           7005|\n",
      "+----------+-----------+---------------+---------------+\n",
      "only showing top 20 rows\n",
      "\n"
     ]
    }
   ],
   "source": [
    "airtraffic.\\\n",
    "    filter('Cancelled=0'). \\\n",
    "    groupBy(\n",
    "        concat(\n",
    "            'Year',lit('-'),\n",
    "            lpad(col('Month'),2,'0'),lit('-'),\n",
    "            lpad(col('DayOfMonth'),2,'0')\n",
    "        ).alias(\"FlightDate\")\n",
    "    ). \\\n",
    "    agg(\n",
    "        count(lit(1)).alias(\"FlightCount\"),\n",
    "        sum(when(col('IsDepDelayed')=='YES',1).otherwise(0)).alias(\"DepDelayedCount\"),\n",
    "        sum(when(col('IsArrDelayed')=='YES',1).otherwise(0)).alias(\"ArrDelayedCount\")\n",
    "       ). \\\n",
    "    orderBy('FlightDate'). \\\n",
    "    show()"
   ]
  },
  {
   "cell_type": "code",
   "execution_count": 24,
   "id": "1fb2159b",
   "metadata": {},
   "outputs": [
    {
     "name": "stdout",
     "output_type": "stream",
     "text": [
      "+----------+-----------+---------------+---------------+\n",
      "|FlightDate|FlightCount|DepDelayedCount|ArrDelayedCount|\n",
      "+----------+-----------+---------------+---------------+\n",
      "|2008-01-31|      19179|           9127|          11304|\n",
      "|2008-01-30|      19072|           6655|           7814|\n",
      "|2008-01-29|      18596|           6324|           8370|\n",
      "|2008-01-28|      19493|           7580|           9013|\n",
      "|2008-01-27|      18265|           8905|          10331|\n",
      "|2008-01-26|      15860|           5740|           7163|\n",
      "|2008-01-25|      19787|           8826|          10479|\n",
      "|2008-01-24|      19935|           8112|           9972|\n",
      "|2008-01-23|      19239|           7349|           9324|\n",
      "|2008-01-22|      18716|           9129|          10669|\n",
      "|2008-01-21|      19658|          10055|          11032|\n",
      "|2008-01-20|      18406|           6700|           7005|\n",
      "|2008-01-19|      15373|           6399|           6810|\n",
      "|2008-01-18|      20117|          10038|          10860|\n",
      "|2008-01-17|      19401|           9635|          11229|\n",
      "|2008-01-16|      19232|           5102|           6228|\n",
      "|2008-01-15|      19204|           5304|           6389|\n",
      "|2008-01-14|      19267|           5921|           7104|\n",
      "|2008-01-13|      18587|           6634|           7473|\n",
      "|2008-01-12|      16346|           3902|           4078|\n",
      "+----------+-----------+---------------+---------------+\n",
      "only showing top 20 rows\n",
      "\n"
     ]
    }
   ],
   "source": [
    "airtraffic.\\\n",
    "    filter('Cancelled=0'). \\\n",
    "    groupBy(\n",
    "        concat(\n",
    "            'Year',lit('-'),\n",
    "            lpad(col('Month'),2,'0'),lit('-'),\n",
    "            lpad(col('DayOfMonth'),2,'0')\n",
    "        ).alias(\"FlightDate\")\n",
    "    ). \\\n",
    "    agg(\n",
    "        count(lit(1)).alias(\"FlightCount\"),\n",
    "        sum(when(col('IsDepDelayed')=='YES',1).otherwise(0)).alias(\"DepDelayedCount\"),\n",
    "        sum(when(col('IsArrDelayed')=='YES',1).otherwise(0)).alias(\"ArrDelayedCount\")\n",
    "       ). \\\n",
    "    orderBy(col('FlightDate').desc()). \\\n",
    "    show()"
   ]
  },
  {
   "cell_type": "code",
   "execution_count": null,
   "id": "bf35bad9",
   "metadata": {},
   "outputs": [],
   "source": []
  }
 ],
 "metadata": {
  "kernelspec": {
   "display_name": "Pyspark 3",
   "language": "python",
   "name": "pyspark3"
  },
  "language_info": {
   "codemirror_mode": {
    "name": "ipython",
    "version": 3
   },
   "file_extension": ".py",
   "mimetype": "text/x-python",
   "name": "python",
   "nbconvert_exporter": "python",
   "pygments_lexer": "ipython3",
   "version": "3.6.12"
  }
 },
 "nbformat": 4,
 "nbformat_minor": 5
}
