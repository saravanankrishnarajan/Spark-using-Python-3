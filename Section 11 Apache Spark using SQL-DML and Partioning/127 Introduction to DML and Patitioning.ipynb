{
 "cells": [
  {
   "cell_type": "markdown",
   "id": "dc987176-edcc-4734-94f3-721ca2a50646",
   "metadata": {},
   "source": [
    "## 127 Introduction to DML and Patitioning"
   ]
  },
  {
   "cell_type": "code",
   "execution_count": 3,
   "id": "278af0f8-b7b3-404a-b5d3-a24ee2163d3c",
   "metadata": {},
   "outputs": [
    {
     "data": {
      "text/plain": [
       "username = itversity\n"
      ]
     },
     "metadata": {},
     "output_type": "display_data",
     "source": "user"
    },
    {
     "data": {
      "text/plain": [
       "itversity"
      ]
     },
     "execution_count": 3,
     "metadata": {},
     "output_type": "execute_result"
    }
   ],
   "source": [
    "val username = System.getProperty(\"user.name\")"
   ]
  },
  {
   "cell_type": "code",
   "execution_count": 4,
   "id": "11ea8923-2dc7-47a0-be69-d5087dbb3cc2",
   "metadata": {},
   "outputs": [
    {
     "data": {
      "text/plain": [
       "spark = org.apache.spark.sql.SparkSession@cc40928\n"
      ]
     },
     "metadata": {},
     "output_type": "display_data",
     "source": "user"
    },
    {
     "data": {
      "text/plain": [
       "org.apache.spark.sql.SparkSession@cc40928"
      ]
     },
     "execution_count": 4,
     "metadata": {},
     "output_type": "execute_result"
    }
   ],
   "source": [
    "import org.apache.spark.sql.SparkSession\n",
    "\n",
    "val spark = SparkSession.builder.enableHiveSupport.appName(\"127 DML and Partitioning\").getOrCreate"
   ]
  },
  {
   "cell_type": "code",
   "execution_count": 6,
   "id": "9b4af150-747f-4c87-af33-19ac2217e12a",
   "metadata": {},
   "outputs": [
    {
     "data": {
      "text/plain": [
       "++\n",
       "||\n",
       "++\n",
       "++\n",
       "\n"
      ]
     },
     "execution_count": 6,
     "metadata": {},
     "output_type": "execute_result"
    }
   ],
   "source": [
    "%%sql\n",
    "\n",
    "USE itversity_retail"
   ]
  },
  {
   "cell_type": "code",
   "execution_count": 7,
   "id": "aa96fe77-a3ea-4a64-8c6f-75f6b754af3f",
   "metadata": {},
   "outputs": [
    {
     "data": {
      "text/plain": [
       "+----------------+-----------+-----------+\n",
       "|        database|  tableName|isTemporary|\n",
       "+----------------+-----------+-----------+\n",
       "|itversity_retail|order_items|      false|\n",
       "|itversity_retail|     orders|      false|\n",
       "|itversity_retail|   students|      false|\n",
       "+----------------+-----------+-----------+\n",
       "\n"
      ]
     },
     "execution_count": 7,
     "metadata": {},
     "output_type": "execute_result"
    }
   ],
   "source": [
    "%%sql\n",
    "\n",
    "SHOW TABLES"
   ]
  },
  {
   "cell_type": "code",
   "execution_count": 8,
   "id": "e521dcac-bcee-4949-adf8-99d2502f59f0",
   "metadata": {},
   "outputs": [
    {
     "data": {
      "text/plain": [
       "++\n",
       "||\n",
       "++\n",
       "++\n",
       "\n"
      ]
     },
     "execution_count": 8,
     "metadata": {},
     "output_type": "execute_result"
    }
   ],
   "source": [
    "%%sql\n",
    "\n",
    "DROP TABLE orders"
   ]
  },
  {
   "cell_type": "code",
   "execution_count": 11,
   "id": "072239c2-0ec7-49e8-b97c-6f3a395743a8",
   "metadata": {},
   "outputs": [
    {
     "data": {
      "text/plain": [
       "++\n",
       "||\n",
       "++\n",
       "++\n",
       "\n"
      ]
     },
     "execution_count": 11,
     "metadata": {},
     "output_type": "execute_result"
    }
   ],
   "source": [
    "%%sql\n",
    "\n",
    "CREATE TABLE orders(\n",
    "    order_id INT,\n",
    "    order_date STRING,\n",
    "    order_customer_id INT,\n",
    "    order_status STRING\n",
    ")ROW FORMAT DELIMITED FIELDS TERMINATED BY ','"
   ]
  },
  {
   "cell_type": "code",
   "execution_count": 13,
   "id": "31a01bd4-2215-4206-9088-6a7ff7e32daa",
   "metadata": {},
   "outputs": [
    {
     "data": {
      "text/plain": [
       "+------------------+\n",
       "|current_database()|\n",
       "+------------------+\n",
       "|  itversity_retail|\n",
       "+------------------+\n",
       "\n"
      ]
     },
     "execution_count": 13,
     "metadata": {},
     "output_type": "execute_result"
    }
   ],
   "source": [
    "%%sql\n",
    "\n",
    "SELECT current_database()"
   ]
  },
  {
   "cell_type": "code",
   "execution_count": 14,
   "id": "af427751-383f-491e-a0ac-74cb6591c017",
   "metadata": {},
   "outputs": [
    {
     "data": {
      "text/plain": [
       "++\n",
       "||\n",
       "++\n",
       "++\n",
       "\n"
      ]
     },
     "execution_count": 14,
     "metadata": {},
     "output_type": "execute_result"
    }
   ],
   "source": [
    "%%SQL\n",
    "\n",
    "LOAD DATA LOCAL INPATH '/data/retail_db/orders' INTO TABLE orders"
   ]
  },
  {
   "cell_type": "code",
   "execution_count": 15,
   "id": "32f4e862-e4ca-4685-94b6-af5fa1728171",
   "metadata": {},
   "outputs": [
    {
     "data": {
      "text/plain": [
       "+--------+\n",
       "|count(1)|\n",
       "+--------+\n",
       "|   68883|\n",
       "+--------+\n",
       "\n"
      ]
     },
     "execution_count": 15,
     "metadata": {},
     "output_type": "execute_result"
    }
   ],
   "source": [
    "%%sql\n",
    "\n",
    "select count(1) from orders"
   ]
  },
  {
   "cell_type": "markdown",
   "id": "b8284684-85f7-4c70-8d30-6217f69cd9bc",
   "metadata": {},
   "source": [
    "## 128 Introduction to Partitioning"
   ]
  },
  {
   "cell_type": "code",
   "execution_count": 17,
   "id": "d8a74656-9ca4-424d-974b-dd224ebff219",
   "metadata": {},
   "outputs": [
    {
     "data": {
      "text/plain": [
       "+----------------+-----------+-----------+\n",
       "|        database|  tableName|isTemporary|\n",
       "+----------------+-----------+-----------+\n",
       "|itversity_retail|order_items|      false|\n",
       "|itversity_retail|     orders|      false|\n",
       "|itversity_retail|   students|      false|\n",
       "+----------------+-----------+-----------+\n",
       "\n"
      ]
     },
     "execution_count": 17,
     "metadata": {},
     "output_type": "execute_result"
    }
   ],
   "source": [
    "%%sql\n",
    "\n",
    "SHOW TABLES"
   ]
  },
  {
   "cell_type": "code",
   "execution_count": 18,
   "id": "a250282c-41e6-4451-81fa-0bd89791f70f",
   "metadata": {},
   "outputs": [
    {
     "data": {
      "text/plain": [
       "++\n",
       "||\n",
       "++\n",
       "++\n",
       "\n"
      ]
     },
     "execution_count": 18,
     "metadata": {},
     "output_type": "execute_result"
    }
   ],
   "source": [
    " %%sql\n",
    "\n",
    "DROP TABLE if exists order_items "
   ]
  },
  {
   "cell_type": "code",
   "execution_count": 19,
   "id": "6db86785-8cef-46b7-9b55-412bcfd19717",
   "metadata": {},
   "outputs": [
    {
     "data": {
      "text/plain": [
       "++\n",
       "||\n",
       "++\n",
       "++\n",
       "\n"
      ]
     },
     "execution_count": 19,
     "metadata": {},
     "output_type": "execute_result"
    }
   ],
   "source": [
    "%%sql\n",
    "\n",
    "CREATE TABLE order_items(\n",
    "    order_item_id INT,\n",
    "    order_item_order_id INT,\n",
    "    order_item_product_id INT,\n",
    "    order_item_quantity INT,\n",
    "    order_item_subtotal FLOAT,\n",
    "    order_item_product_price FLOAT\n",
    ")stored as parquet"
   ]
  },
  {
   "cell_type": "code",
   "execution_count": 20,
   "id": "461e9da7-099a-43f0-bd2e-c05b552f726c",
   "metadata": {},
   "outputs": [
    {
     "name": "stdout",
     "output_type": "stream",
     "text": [
      "+----------------------------+------------------------------------------------------------------------------+-------+\n",
      "|col_name                    |data_type                                                                     |comment|\n",
      "+----------------------------+------------------------------------------------------------------------------+-------+\n",
      "|order_item_id               |int                                                                           |null   |\n",
      "|order_item_order_id         |int                                                                           |null   |\n",
      "|order_item_product_id       |int                                                                           |null   |\n",
      "|order_item_quantity         |int                                                                           |null   |\n",
      "|order_item_subtotal         |float                                                                         |null   |\n",
      "|order_item_product_price    |float                                                                         |null   |\n",
      "|                            |                                                                              |       |\n",
      "|# Detailed Table Information|                                                                              |       |\n",
      "|Database                    |itversity_retail                                                              |       |\n",
      "|Table                       |order_items                                                                   |       |\n",
      "|Owner                       |itversity                                                                     |       |\n",
      "|Created Time                |Fri Feb 02 09:07:48 GMT 2024                                                  |       |\n",
      "|Last Access                 |Thu Jan 01 00:00:00 GMT 1970                                                  |       |\n",
      "|Created By                  |Spark 2.4.8                                                                   |       |\n",
      "|Type                        |MANAGED                                                                       |       |\n",
      "|Provider                    |hive                                                                          |       |\n",
      "|Table Properties            |[transient_lastDdlTime=1706864868]                                            |       |\n",
      "|Location                    |hdfs://localhost:9000/user/itversity/warehouse/itversity_retail.db/order_items|       |\n",
      "|Serde Library               |org.apache.hadoop.hive.ql.io.parquet.serde.ParquetHiveSerDe                   |       |\n",
      "|InputFormat                 |org.apache.hadoop.hive.ql.io.parquet.MapredParquetInputFormat                 |       |\n",
      "|OutputFormat                |org.apache.hadoop.hive.ql.io.parquet.MapredParquetOutputFormat                |       |\n",
      "|Storage Properties          |[serialization.format=1]                                                      |       |\n",
      "|Partition Provider          |Catalog                                                                       |       |\n",
      "+----------------------------+------------------------------------------------------------------------------+-------+\n",
      "\n"
     ]
    }
   ],
   "source": [
    "spark.sql(\"DESCRIBE FORMATTED order_items\").show(200,false)"
   ]
  },
  {
   "cell_type": "code",
   "execution_count": 23,
   "id": "5f5e09a8-e811-4e64-9237-e1118ac6d45c",
   "metadata": {},
   "outputs": [
    {
     "data": {
      "text/plain": [
       "warning: there was one feature warning; re-run with -feature for details\n"
      ]
     },
     "metadata": {},
     "output_type": "display_data",
     "source": "user"
    },
    {
     "data": {
      "text/plain": [
       "0"
      ]
     },
     "execution_count": 23,
     "metadata": {},
     "output_type": "execute_result"
    }
   ],
   "source": [
    "import sys.process._\n",
    "\n",
    "s\"hdfs dfs -ls /user/${username}/warehouse/${username}_retail.db/order_items\"!"
   ]
  },
  {
   "cell_type": "markdown",
   "id": "5d3de7b6-083a-455e-bff8-82ae88801e05",
   "metadata": {},
   "source": [
    "## Difference between Load and Insert"
   ]
  },
  {
   "cell_type": "code",
   "execution_count": 27,
   "id": "e223c0c3-ce44-4378-9bf6-b0cd4d16de7f",
   "metadata": {},
   "outputs": [
    {
     "data": {
      "text/plain": [
       "++\n",
       "||\n",
       "++\n",
       "++\n",
       "\n"
      ]
     },
     "execution_count": 27,
     "metadata": {},
     "output_type": "execute_result"
    }
   ],
   "source": [
    "%%sql\n",
    "\n",
    "load data LOCAL INPATH '/data/retail_db/order_items/' INTO TABLE order_items"
   ]
  },
  {
   "cell_type": "code",
   "execution_count": 29,
   "id": "72413fe3-5880-498c-87a9-fb54c175fbde",
   "metadata": {},
   "outputs": [
    {
     "data": {
      "text/plain": [
       "\tat org.apache.parquet.hadoop.ParquetFileReader.re...\n"
      ]
     },
     "metadata": {},
     "output_type": "display_data",
     "source": "user"
    },
    {
     "data": {
      "text/plain": [
       "Magic sql failed to execute with error: \n",
       "Job aborted due to stage failure: Task 0 in stage 5.0 failed 4 times, most recent failure: Lost task 0.3 in stage 5.0 (TID 18, itvdelab, executor 2): java.lang.RuntimeException: hdfs://localhost:9000/user/itversity/warehouse/itversity_retail.db/order_items/part-00000 is not a Parquet file. expected magic number at tail [80, 65, 82, 49] but found [48, 46, 48, 10]\n",
       "\tat org.apache.parquet.hadoop.ParquetFileReader.readFooter(ParquetFileReader.java:524)\n",
       "\tat org.apache.parquet.hadoop.ParquetFileReader.readFooter(ParquetFileReader.java:505)\n",
       "\tat org.apache.parquet.hadoop.ParquetFileReader.readFooter(ParquetFileReader.java:499)\n",
       "\tat org.apache.parquet.hadoop.ParquetFileReader.readFooter(ParquetFileReader.java:448)\n",
       "\tat org.apache.spark.sql.execution.datasources.parquet.ParquetFileFormat$$anonfun$buildReaderWithPartitionValues$1.footerFileMetaData$lzycompute$1(ParquetFileFormat.scala:371)\n",
       "\tat org.apache.spark.sql.execution.datasources.parquet.ParquetFileFormat$$anonfun$buildReaderWithPartitionValues$1.footerFileMetaData$1(ParquetFileFormat.scala:370)\n",
       "\tat org.apache.spark.sql.execution.datasources.parquet.ParquetFileFormat$$anonfun$buildReaderWithPartitionValues$1.apply(ParquetFileFormat.scala:374)\n",
       "\tat org.apache.spark.sql.execution.datasources.parquet.ParquetFileFormat$$anonfun$buildReaderWithPartitionValues$1.apply(ParquetFileFormat.scala:352)\n",
       "\tat org.apache.spark.sql.execution.datasources.FileScanRDD$$anon$1.org$apache$spark$sql$execution$datasources$FileScanRDD$$anon$$readCurrentFile(FileScanRDD.scala:124)\n",
       "\tat org.apache.spark.sql.execution.datasources.FileScanRDD$$anon$1.nextIterator(FileScanRDD.scala:177)\n",
       "\tat org.apache.spark.sql.execution.datasources.FileScanRDD$$anon$1.hasNext(FileScanRDD.scala:101)\n",
       "\tat org.apache.spark.sql.catalyst.expressions.GeneratedClass$GeneratedIteratorForCodegenStage1.scan_nextBatch_0$(Unknown Source)\n",
       "\tat org.apache.spark.sql.catalyst.expressions.GeneratedClass$GeneratedIteratorForCodegenStage1.processNext(Unknown Source)\n",
       "\tat org.apache.spark.sql.execution.BufferedRowIterator.hasNext(BufferedRowIterator.java:43)\n",
       "\tat org.apache.spark.sql.execution.WholeStageCodegenExec$$anonfun$13$$anon$1.hasNext(WholeStageCodegenExec.scala:636)\n",
       "\tat scala.collection.Iterator$$anon$11.hasNext(Iterator.scala:409)\n",
       "\tat org.apache.spark.shuffle.sort.BypassMergeSortShuffleWriter.write(BypassMergeSortShuffleWriter.java:125)\n",
       "\tat org.apache.spark.scheduler.ShuffleMapTask.runTask(ShuffleMapTask.scala:99)\n",
       "\tat org.apache.spark.scheduler.ShuffleMapTask.runTask(ShuffleMapTask.scala:55)\n",
       "\tat org.apache.spark.scheduler.Task.run(Task.scala:123)\n",
       "\tat org.apache.spark.executor.Executor$TaskRunner$$anonfun$10.apply(Executor.scala:411)\n",
       "\tat org.apache.spark.util.Utils$.tryWithSafeFinally(Utils.scala:1360)\n",
       "\tat org.apache.spark.executor.Executor$TaskRunner.run(Executor.scala:417)\n",
       "\tat java.util.concurrent.ThreadPoolExecutor.runWorker(ThreadPoolExecutor.java:1149)\n",
       "\tat java.util.concurrent.ThreadPoolExecutor$Worker.run(ThreadPoolExecutor.java:624)\n",
       "\tat java.lang.Thread.run(Thread.java:748)\n",
       "\n",
       "Driver stacktrace:"
      ]
     },
     "execution_count": 29,
     "metadata": {},
     "output_type": "execute_result"
    }
   ],
   "source": [
    "%%sql\n",
    "SELECT * FROM order_items limit 10"
   ]
  },
  {
   "cell_type": "markdown",
   "id": "027ac263-174a-4924-b12e-7bd350b682e2",
   "metadata": {},
   "source": [
    "## 131 Inserting Data using stage table leveraging"
   ]
  },
  {
   "cell_type": "code",
   "execution_count": 30,
   "id": "833a172b-4ae2-4b92-8825-5203d2b9695e",
   "metadata": {},
   "outputs": [
    {
     "data": {
      "text/plain": [
       "++\n",
       "||\n",
       "++\n",
       "++\n",
       "\n"
      ]
     },
     "execution_count": 30,
     "metadata": {},
     "output_type": "execute_result"
    }
   ],
   "source": [
    "%%sql\n",
    "\n",
    "truncate table order_items"
   ]
  },
  {
   "cell_type": "code",
   "execution_count": 31,
   "id": "c1c6874e-6108-4c2e-9fcc-ad69d7819ee5",
   "metadata": {},
   "outputs": [
    {
     "data": {
      "text/plain": [
       "+--------+\n",
       "|count(1)|\n",
       "+--------+\n",
       "|       0|\n",
       "+--------+\n",
       "\n"
      ]
     },
     "execution_count": 31,
     "metadata": {},
     "output_type": "execute_result"
    }
   ],
   "source": [
    "%%sql\n",
    "SELECT COUNT(1) FROM order_items"
   ]
  },
  {
   "cell_type": "code",
   "execution_count": 35,
   "id": "79e815ba-d6f5-4104-9d2f-2cee9dfe2d78",
   "metadata": {},
   "outputs": [
    {
     "data": {
      "text/plain": [
       "++\n",
       "||\n",
       "++\n",
       "++\n",
       "\n"
      ]
     },
     "execution_count": 35,
     "metadata": {},
     "output_type": "execute_result"
    }
   ],
   "source": [
    "%%sql\n",
    "\n",
    "CREATE TABLE order_items_stage(\n",
    "    order_item_id INT,\n",
    "    order_item_order_id INT,\n",
    "    order_item_product_id INT,\n",
    "    order_item_quantity INT,\n",
    "    order_item_subtotal FLOAT,\n",
    "    order_item_product_price FLOAT\n",
    ")ROW FORMAT DELIMITED FIELDS TERMINATED BY ','"
   ]
  },
  {
   "cell_type": "code",
   "execution_count": 40,
   "id": "c7dec39e-ad30-4212-9f43-c7cffc94ff31",
   "metadata": {},
   "outputs": [
    {
     "name": "stdout",
     "output_type": "stream",
     "text": [
      "+----------------------------+------------------------------------------------------------------------------------+-------+\n",
      "|col_name                    |data_type                                                                           |comment|\n",
      "+----------------------------+------------------------------------------------------------------------------------+-------+\n",
      "|order_item_id               |int                                                                                 |null   |\n",
      "|order_item_order_id         |int                                                                                 |null   |\n",
      "|order_item_product_id       |int                                                                                 |null   |\n",
      "|order_item_quantity         |int                                                                                 |null   |\n",
      "|order_item_subtotal         |float                                                                               |null   |\n",
      "|order_item_product_price    |float                                                                               |null   |\n",
      "|                            |                                                                                    |       |\n",
      "|# Detailed Table Information|                                                                                    |       |\n",
      "|Database                    |itversity_retail                                                                    |       |\n",
      "|Table                       |order_items_stage                                                                   |       |\n",
      "|Owner                       |itversity                                                                           |       |\n",
      "|Created Time                |Fri Feb 02 10:13:38 GMT 2024                                                        |       |\n",
      "|Last Access                 |Thu Jan 01 00:00:00 GMT 1970                                                        |       |\n",
      "|Created By                  |Spark 2.4.8                                                                         |       |\n",
      "|Type                        |MANAGED                                                                             |       |\n",
      "|Provider                    |hive                                                                                |       |\n",
      "|Table Properties            |[transient_lastDdlTime=1706868831]                                                  |       |\n",
      "|Statistics                  |5408880 bytes                                                                       |       |\n",
      "|Location                    |hdfs://localhost:9000/user/itversity/warehouse/itversity_retail.db/order_items_stage|       |\n",
      "|Serde Library               |org.apache.hadoop.hive.serde2.lazy.LazySimpleSerDe                                  |       |\n",
      "|InputFormat                 |org.apache.hadoop.mapred.TextInputFormat                                            |       |\n",
      "|OutputFormat                |org.apache.hadoop.hive.ql.io.HiveIgnoreKeyTextOutputFormat                          |       |\n",
      "|Storage Properties          |[field.delim=,, serialization.format=,]                                             |       |\n",
      "|Partition Provider          |Catalog                                                                             |       |\n",
      "+----------------------------+------------------------------------------------------------------------------------+-------+\n",
      "\n"
     ]
    }
   ],
   "source": [
    "spark.sql(\"DESCRIBE FORMATTED order_items_stage\").show(200,false)"
   ]
  },
  {
   "cell_type": "code",
   "execution_count": 42,
   "id": "e9888734-470f-4bd3-ae6d-bc0fb7ef4f96",
   "metadata": {},
   "outputs": [
    {
     "data": {
      "text/plain": [
       "++\n",
       "||\n",
       "++\n",
       "++\n",
       "\n"
      ]
     },
     "execution_count": 42,
     "metadata": {},
     "output_type": "execute_result"
    }
   ],
   "source": [
    "%%sql\n",
    "\n",
    "truncate table order_items_stage"
   ]
  },
  {
   "cell_type": "code",
   "execution_count": 43,
   "id": "3f9eb4d9-855e-473c-b658-50df6886d7eb",
   "metadata": {},
   "outputs": [
    {
     "data": {
      "text/plain": [
       "++\n",
       "||\n",
       "++\n",
       "++\n",
       "\n"
      ]
     },
     "execution_count": 43,
     "metadata": {},
     "output_type": "execute_result"
    }
   ],
   "source": [
    "%%sql\n",
    "\n",
    "load data LOCAL INPATH '/data/retail_db/order_items/' INTO TABLE order_items_stage"
   ]
  },
  {
   "cell_type": "code",
   "execution_count": 44,
   "id": "55d137e1-ab8e-4dd2-9573-b9c345738505",
   "metadata": {},
   "outputs": [
    {
     "data": {
      "text/plain": [
       "|        87945|              35212|                 1014|                  1|              49.98|    ...\n"
      ]
     },
     "metadata": {},
     "output_type": "display_data",
     "source": "user"
    },
    {
     "data": {
      "text/plain": [
       "+-------------+-------------------+---------------------+-------------------+-------------------+------------------------+\n",
       "|order_item_id|order_item_order_id|order_item_product_id|order_item_quantity|order_item_subtotal|order_item_product_price|\n",
       "+-------------+-------------------+---------------------+-------------------+-------------------+------------------------+\n",
       "|        87943|              35210|                 1014|                  4|             199.92|                   49.98|\n",
       "|        87944|              35211|                  365|                  4|             239.96|                   59.99|\n",
       "|        87945|              35212|                 1014|                  1|              49.98|                   49.98|\n",
       "|        87946|              35212|                  191|                  3|             299.97|                   99.99|\n",
       "|        87947|              35212|                 1014|                  5|              249.9|                   49.98|\n",
       "+-------------+-------------------+---------------------+-------------------+-------------------+------------------------+\n",
       "\n"
      ]
     },
     "execution_count": 44,
     "metadata": {},
     "output_type": "execute_result"
    }
   ],
   "source": [
    "%%sql \n",
    "\n",
    "SELECT * FROM order_items_stage limit 5"
   ]
  },
  {
   "cell_type": "code",
   "execution_count": 45,
   "id": "8361741a-72d5-4143-85a4-7bd0d3d0a2a5",
   "metadata": {},
   "outputs": [
    {
     "data": {
      "text/plain": [
       "++\n",
       "||\n",
       "++\n",
       "++\n",
       "\n"
      ]
     },
     "execution_count": 45,
     "metadata": {},
     "output_type": "execute_result"
    }
   ],
   "source": [
    "%%sql\n",
    "\n",
    "truncate table order_items"
   ]
  },
  {
   "cell_type": "code",
   "execution_count": 50,
   "id": "879dbce5-4e55-4ce5-8820-fe2929249163",
   "metadata": {},
   "outputs": [
    {
     "data": {
      "text/plain": [
       "++\n",
       "||\n",
       "++\n",
       "++\n",
       "\n"
      ]
     },
     "execution_count": 50,
     "metadata": {},
     "output_type": "execute_result"
    }
   ],
   "source": [
    "%%sql\n",
    "\n",
    "insert into order_items SELECT * FROM order_items_stage"
   ]
  },
  {
   "cell_type": "code",
   "execution_count": 48,
   "id": "821d90de-585f-431e-b581-b9cbee2389a6",
   "metadata": {},
   "outputs": [
    {
     "data": {
      "text/plain": [
       "|            3|                  2|                  502|                  5|              250.0|    ...\n"
      ]
     },
     "metadata": {},
     "output_type": "display_data",
     "source": "user"
    },
    {
     "data": {
      "text/plain": [
       "+-------------+-------------------+---------------------+-------------------+-------------------+------------------------+\n",
       "|order_item_id|order_item_order_id|order_item_product_id|order_item_quantity|order_item_subtotal|order_item_product_price|\n",
       "+-------------+-------------------+---------------------+-------------------+-------------------+------------------------+\n",
       "|            1|                  1|                  957|                  1|             299.98|                  299.98|\n",
       "|            2|                  2|                 1073|                  1|             199.99|                  199.99|\n",
       "|            3|                  2|                  502|                  5|              250.0|                    50.0|\n",
       "|            4|                  2|                  403|                  1|             129.99|                  129.99|\n",
       "|            5|                  4|                  897|                  2|              49.98|                   24.99|\n",
       "+-------------+-------------------+---------------------+-------------------+-------------------+------------------------+\n",
       "\n"
      ]
     },
     "execution_count": 48,
     "metadata": {},
     "output_type": "execute_result"
    }
   ],
   "source": [
    "%%sql \n",
    "\n",
    "SELECT * FROM order_items limit 5"
   ]
  },
  {
   "cell_type": "code",
   "execution_count": 49,
   "id": "60b6d3ae-2d67-4cb9-bb93-74a460503149",
   "metadata": {},
   "outputs": [
    {
     "data": {
      "text/plain": [
       "+--------+\n",
       "|count(1)|\n",
       "+--------+\n",
       "|  172198|\n",
       "+--------+\n",
       "\n"
      ]
     },
     "execution_count": 49,
     "metadata": {},
     "output_type": "execute_result"
    }
   ],
   "source": [
    "%%sql\n",
    "\n",
    "SELECT COUNT(1) from order_items"
   ]
  },
  {
   "cell_type": "code",
   "execution_count": 51,
   "id": "6fbeabc9-ee5e-44ed-8596-6510b832482e",
   "metadata": {},
   "outputs": [
    {
     "data": {
      "text/plain": [
       "+--------+\n",
       "|count(1)|\n",
       "+--------+\n",
       "|  344396|\n",
       "+--------+\n",
       "\n"
      ]
     },
     "execution_count": 51,
     "metadata": {},
     "output_type": "execute_result"
    }
   ],
   "source": [
    "%%sql\n",
    "\n",
    "SELECT COUNT(1) from order_items"
   ]
  },
  {
   "cell_type": "code",
   "execution_count": 54,
   "id": "0e457767-c81a-4708-a0a0-3f291229247f",
   "metadata": {},
   "outputs": [
    {
     "data": {
      "text/plain": [
       "++\n",
       "||\n",
       "++\n",
       "++\n",
       "\n"
      ]
     },
     "execution_count": 54,
     "metadata": {},
     "output_type": "execute_result"
    }
   ],
   "source": [
    "%%sql\n",
    "\n",
    "INSERT OVERWRITE TABLE order_items SELECT * FROM order_items_stage"
   ]
  },
  {
   "cell_type": "code",
   "execution_count": 55,
   "id": "c631218d-fa32-4e40-ae76-8bb9806b821c",
   "metadata": {},
   "outputs": [
    {
     "data": {
      "text/plain": [
       "+--------+\n",
       "|count(1)|\n",
       "+--------+\n",
       "|  172198|\n",
       "+--------+\n",
       "\n"
      ]
     },
     "execution_count": 55,
     "metadata": {},
     "output_type": "execute_result"
    }
   ],
   "source": [
    "%%sql\n",
    "\n",
    "SELECT COUNT(1) from order_items"
   ]
  },
  {
   "cell_type": "code",
   "execution_count": 56,
   "id": "b965b022-ebd6-4768-966e-a523456f1a6f",
   "metadata": {},
   "outputs": [
    {
     "data": {
      "text/plain": [
       "|        87945|              35212|                 1014|                  1|              49.98|    ...\n"
      ]
     },
     "metadata": {},
     "output_type": "display_data",
     "source": "user"
    },
    {
     "data": {
      "text/plain": [
       "+-------------+-------------------+---------------------+-------------------+-------------------+------------------------+\n",
       "|order_item_id|order_item_order_id|order_item_product_id|order_item_quantity|order_item_subtotal|order_item_product_price|\n",
       "+-------------+-------------------+---------------------+-------------------+-------------------+------------------------+\n",
       "|        87943|              35210|                 1014|                  4|             199.92|                   49.98|\n",
       "|        87944|              35211|                  365|                  4|             239.96|                   59.99|\n",
       "|        87945|              35212|                 1014|                  1|              49.98|                   49.98|\n",
       "|        87946|              35212|                  191|                  3|             299.97|                   99.99|\n",
       "|        87947|              35212|                 1014|                  5|              249.9|                   49.98|\n",
       "+-------------+-------------------+---------------------+-------------------+-------------------+------------------------+\n",
       "\n"
      ]
     },
     "execution_count": 56,
     "metadata": {},
     "output_type": "execute_result"
    }
   ],
   "source": [
    "%%sql \n",
    "\n",
    "SELECT * FROM order_items limit 5"
   ]
  },
  {
   "cell_type": "code",
   "execution_count": 57,
   "id": "51b2c513-97c4-4f2f-b33a-3f1a6d530f8a",
   "metadata": {},
   "outputs": [],
   "source": [
    "import sys.process._"
   ]
  },
  {
   "cell_type": "code",
   "execution_count": 59,
   "id": "e0299ace-c4f5-4fdb-adec-0f4977d9fcec",
   "metadata": {},
   "outputs": [
    {
     "name": "stdout",
     "output_type": "stream",
     "text": [
      "Found 3 items\n",
      "-rw-r--r--   1 itversity supergroup          0 2024-02-02 10:19 /user/itversity/warehouse/itversity_retail.db/order_items/_SUCCESS\n",
      "-rw-r--r--   1 itversity supergroup     862839 2024-02-02 10:19 /user/itversity/warehouse/itversity_retail.db/order_items/part-00000-dd2d518c-1104-4531-9683-291bfce225a7-c000.snappy.parquet\n",
      "-rw-r--r--   1 itversity supergroup     858034 2024-02-02 10:19 /user/itversity/warehouse/itversity_retail.db/order_items/part-00001-dd2d518c-1104-4531-9683-291bfce225a7-c000.snappy.parquet\n"
     ]
    },
    {
     "data": {
      "text/plain": [
       "warning: there was one feature warning; re-run with -feature for details\n"
      ]
     },
     "metadata": {},
     "output_type": "display_data",
     "source": "user"
    },
    {
     "data": {
      "text/plain": [
       "0"
      ]
     },
     "execution_count": 59,
     "metadata": {},
     "output_type": "execute_result"
    }
   ],
   "source": [
    "s\"hdfs dfs -ls /user/${username}/warehouse/${username}_retail.db/order_items/\"!"
   ]
  },
  {
   "cell_type": "markdown",
   "id": "a64c57fa-9ca5-41fe-914d-890704ca202c",
   "metadata": {},
   "source": [
    "## 132 Creating Partitioned Table"
   ]
  },
  {
   "cell_type": "code",
   "execution_count": 62,
   "id": "7ef6ce18-98ce-458b-bcdf-cc25a6501d2b",
   "metadata": {},
   "outputs": [
    {
     "data": {
      "text/plain": [
       "++\n",
       "||\n",
       "++\n",
       "++\n",
       "\n"
      ]
     },
     "execution_count": 62,
     "metadata": {},
     "output_type": "execute_result"
    }
   ],
   "source": [
    "%%sql\n",
    "\n",
    "DROP TABLE IF EXISTS orders_part"
   ]
  },
  {
   "cell_type": "code",
   "execution_count": 63,
   "id": "ac6d110c-48fd-4355-ad7a-f079ab80b163",
   "metadata": {},
   "outputs": [
    {
     "data": {
      "text/plain": [
       "++\n",
       "||\n",
       "++\n",
       "++\n",
       "\n"
      ]
     },
     "execution_count": 63,
     "metadata": {},
     "output_type": "execute_result"
    }
   ],
   "source": [
    "%%sql\n",
    "\n",
    "CREATE TABLE orders_part(\n",
    "    order_id INT,\n",
    "    order_date STRING,\n",
    "    order_customer_id INT,\n",
    "    order_status STRING\n",
    ")PARTITIONED BY (ORDER_MONTH INT)\n",
    "ROW FORMAT DELIMITED FIELDS TERMINATED BY ','"
   ]
  },
  {
   "cell_type": "code",
   "execution_count": 64,
   "id": "4d60477a-6644-46c2-89cb-f2706593d6b1",
   "metadata": {},
   "outputs": [
    {
     "data": {
      "text/plain": [
       "+--------------------+---------+-------+\n",
       "|            col_name|data_type|comment|\n",
       "+--------------------+---------+-------+\n",
       "|            order_id|      int|   null|\n",
       "|          order_date|   string|   null|\n",
       "|   order_customer_id|      int|   null|\n",
       "|        order_status|   string|   null|\n",
       "|         ORDER_MONTH|      int|   null|\n",
       "|# Partition Infor...|         |       |\n",
       "|          # col_name|data_type|comment|\n",
       "|         ORDER_MONTH|      int|   null|\n",
       "+--------------------+---------+-------+\n",
       "\n"
      ]
     },
     "execution_count": 64,
     "metadata": {},
     "output_type": "execute_result"
    }
   ],
   "source": [
    "%%SQL\n",
    "DESCRIBE orders_part"
   ]
  },
  {
   "cell_type": "code",
   "execution_count": 67,
   "id": "5016c431-40a4-4628-ae69-1662e1bd3ba9",
   "metadata": {},
   "outputs": [
    {
     "name": "stdout",
     "output_type": "stream",
     "text": [
      "+----------------------------+------------------------------------------------------------------------------+-------+\n",
      "|col_name                    |data_type                                                                     |comment|\n",
      "+----------------------------+------------------------------------------------------------------------------+-------+\n",
      "|order_id                    |int                                                                           |null   |\n",
      "|order_date                  |string                                                                        |null   |\n",
      "|order_customer_id           |int                                                                           |null   |\n",
      "|order_status                |string                                                                        |null   |\n",
      "|ORDER_MONTH                 |int                                                                           |null   |\n",
      "|# Partition Information     |                                                                              |       |\n",
      "|# col_name                  |data_type                                                                     |comment|\n",
      "|ORDER_MONTH                 |int                                                                           |null   |\n",
      "|                            |                                                                              |       |\n",
      "|# Detailed Table Information|                                                                              |       |\n",
      "|Database                    |itversity_retail                                                              |       |\n",
      "|Table                       |orders_part                                                                   |       |\n",
      "|Owner                       |itversity                                                                     |       |\n",
      "|Created Time                |Fri Feb 02 10:26:04 GMT 2024                                                  |       |\n",
      "|Last Access                 |Thu Jan 01 00:00:00 GMT 1970                                                  |       |\n",
      "|Created By                  |Spark 2.4.8                                                                   |       |\n",
      "|Type                        |MANAGED                                                                       |       |\n",
      "|Provider                    |hive                                                                          |       |\n",
      "|Table Properties            |[transient_lastDdlTime=1706869564]                                            |       |\n",
      "|Location                    |hdfs://localhost:9000/user/itversity/warehouse/itversity_retail.db/orders_part|       |\n",
      "|Serde Library               |org.apache.hadoop.hive.serde2.lazy.LazySimpleSerDe                            |       |\n",
      "|InputFormat                 |org.apache.hadoop.mapred.TextInputFormat                                      |       |\n",
      "|OutputFormat                |org.apache.hadoop.hive.ql.io.HiveIgnoreKeyTextOutputFormat                    |       |\n",
      "|Storage Properties          |[field.delim=,, serialization.format=,]                                       |       |\n",
      "|Partition Provider          |Catalog                                                                       |       |\n",
      "+----------------------------+------------------------------------------------------------------------------+-------+\n",
      "\n"
     ]
    }
   ],
   "source": [
    "spark.sql(\"DESCRIBE FORMATTED orders_part\").show(200,false)"
   ]
  },
  {
   "cell_type": "code",
   "execution_count": 68,
   "id": "45a8884a-4a31-4eeb-bff4-01470c9a07b4",
   "metadata": {},
   "outputs": [
    {
     "data": {
      "text/plain": [
       "warning: there was one feature warning; re-run with -feature for details\n"
      ]
     },
     "metadata": {},
     "output_type": "display_data",
     "source": "user"
    },
    {
     "data": {
      "text/plain": [
       "0"
      ]
     },
     "execution_count": 68,
     "metadata": {},
     "output_type": "execute_result"
    }
   ],
   "source": [
    "import sys.process._\n",
    "\n",
    "s\"hdfs dfs -ls /user/${username}/warehouse/${username}_retail.db/orders_part\"!"
   ]
  },
  {
   "cell_type": "markdown",
   "id": "a8467a11-21d7-4b42-b291-df9c6dd5c66f",
   "metadata": {},
   "source": [
    "## 133 Adding partitions to Table"
   ]
  },
  {
   "cell_type": "code",
   "execution_count": 69,
   "id": "c1c5e506-4904-4463-a37b-37da6d94a70b",
   "metadata": {},
   "outputs": [
    {
     "data": {
      "text/plain": [
       "++\n",
       "||\n",
       "++\n",
       "++\n",
       "\n"
      ]
     },
     "execution_count": 69,
     "metadata": {},
     "output_type": "execute_result"
    }
   ],
   "source": [
    "%%sql\n",
    "\n",
    "USE itversity_retail"
   ]
  },
  {
   "cell_type": "code",
   "execution_count": 70,
   "id": "e53ae10f-f8e5-4cd3-afcd-4154334d19b0",
   "metadata": {},
   "outputs": [
    {
     "data": {
      "text/plain": [
       "++\n",
       "||\n",
       "++\n",
       "++\n",
       "\n"
      ]
     },
     "execution_count": 70,
     "metadata": {},
     "output_type": "execute_result"
    }
   ],
   "source": [
    "%%sql\n",
    "\n",
    "DROP TABLE orders_part"
   ]
  },
  {
   "cell_type": "code",
   "execution_count": 71,
   "id": "e4d83885-038f-4ef0-a217-e57e81c6a75c",
   "metadata": {},
   "outputs": [
    {
     "data": {
      "text/plain": [
       "++\n",
       "||\n",
       "++\n",
       "++\n",
       "\n"
      ]
     },
     "execution_count": 71,
     "metadata": {},
     "output_type": "execute_result"
    }
   ],
   "source": [
    "%%sql\n",
    "\n",
    "CREATE TABLE orders_part(\n",
    "    order_id INT,\n",
    "    order_date STRING,\n",
    "    order_customer_id INT,\n",
    "    order_status STRING\n",
    ")PARTITIONED BY (order_month STRING)\n",
    "ROW FORMAT DELIMITED FIELDS TERMINATED BY ','"
   ]
  },
  {
   "cell_type": "code",
   "execution_count": 72,
   "id": "48c91845-c22c-40d3-b913-95175e9ddedc",
   "metadata": {},
   "outputs": [
    {
     "data": {
      "text/plain": [
       "warning: there was one feature warning; re-run with -feature for details\n"
      ]
     },
     "metadata": {},
     "output_type": "display_data",
     "source": "user"
    },
    {
     "data": {
      "text/plain": [
       "0"
      ]
     },
     "execution_count": 72,
     "metadata": {},
     "output_type": "execute_result"
    }
   ],
   "source": [
    "import sys.process._\n",
    "\n",
    "s\"hdfs dfs -ls -R /user/${username}/warehouse/${username}_retail.db/orders_part\"!"
   ]
  },
  {
   "cell_type": "code",
   "execution_count": 73,
   "id": "c2cd79a7-41be-41af-aa85-2434a1a453b5",
   "metadata": {},
   "outputs": [
    {
     "data": {
      "text/plain": [
       "++\n",
       "||\n",
       "++\n",
       "++\n",
       "\n"
      ]
     },
     "execution_count": 73,
     "metadata": {},
     "output_type": "execute_result"
    }
   ],
   "source": [
    "%%sql\n",
    "\n",
    "ALTER TABLE orders_part ADD PARTITION (order_month = '2013-07')"
   ]
  },
  {
   "cell_type": "code",
   "execution_count": 74,
   "id": "66e7594d-507c-49b6-a98f-636d0294e6a2",
   "metadata": {},
   "outputs": [
    {
     "name": "stdout",
     "output_type": "stream",
     "text": [
      "drwxr-xr-x   - itversity supergroup          0 2024-02-02 10:34 /user/itversity/warehouse/itversity_retail.db/orders_part/order_month=2013-07\n"
     ]
    },
    {
     "data": {
      "text/plain": [
       "warning: there was one feature warning; re-run with -feature for details\n"
      ]
     },
     "metadata": {},
     "output_type": "display_data",
     "source": "user"
    },
    {
     "data": {
      "text/plain": [
       "0"
      ]
     },
     "execution_count": 74,
     "metadata": {},
     "output_type": "execute_result"
    }
   ],
   "source": [
    "import sys.process._\n",
    "\n",
    "s\"hdfs dfs -ls -R /user/${username}/warehouse/${username}_retail.db/orders_part\"!"
   ]
  },
  {
   "cell_type": "code",
   "execution_count": 90,
   "id": "45d70aec-057a-437a-99f6-1c11eed035ca",
   "metadata": {},
   "outputs": [
    {
     "data": {
      "text/plain": [
       "++\n",
       "||\n",
       "++\n",
       "++\n",
       "\n"
      ]
     },
     "execution_count": 90,
     "metadata": {},
     "output_type": "execute_result"
    }
   ],
   "source": [
    "%%sql\n",
    "\n",
    "USE itversity_retail"
   ]
  },
  {
   "cell_type": "code",
   "execution_count": 108,
   "id": "733980c2-7dec-4168-a7fd-7ab92ff030d6",
   "metadata": {},
   "outputs": [
    {
     "data": {
      "text/plain": [
       "++\n",
       "||\n",
       "++\n",
       "++\n",
       "\n"
      ]
     },
     "execution_count": 108,
     "metadata": {},
     "output_type": "execute_result"
    }
   ],
   "source": [
    "%%sql\n",
    "\n",
    "DROP TABLE orders_part"
   ]
  },
  {
   "cell_type": "code",
   "execution_count": 109,
   "id": "8708b309-52f2-4475-987f-e4550678d47d",
   "metadata": {},
   "outputs": [
    {
     "data": {
      "text/plain": [
       "++\n",
       "||\n",
       "++\n",
       "++\n",
       "\n"
      ]
     },
     "execution_count": 109,
     "metadata": {},
     "output_type": "execute_result"
    }
   ],
   "source": [
    "%%sql\n",
    "\n",
    "CREATE TABLE orders_part(\n",
    "    order_id INT,\n",
    "    order_date STRING,\n",
    "    order_customer_id INT,\n",
    "    order_status STRING\n",
    ")PARTITIONED BY (order_month INT)\n",
    "ROW FORMAT DELIMITED FIELDS TERMINATED BY ','"
   ]
  },
  {
   "cell_type": "code",
   "execution_count": 110,
   "id": "b2bcfa82-e692-4799-a991-cc3204ec6a81",
   "metadata": {},
   "outputs": [
    {
     "data": {
      "text/plain": [
       "+--------------------+---------+-------+\n",
       "|            col_name|data_type|comment|\n",
       "+--------------------+---------+-------+\n",
       "|            order_id|      int|   null|\n",
       "|          order_date|   string|   null|\n",
       "|   order_customer_id|      int|   null|\n",
       "|        order_status|   string|   null|\n",
       "|         order_month|      int|   null|\n",
       "|# Partition Infor...|         |       |\n",
       "|          # col_name|data_type|comment|\n",
       "|         order_month|      int|   null|\n",
       "+--------------------+---------+-------+\n",
       "\n"
      ]
     },
     "execution_count": 110,
     "metadata": {},
     "output_type": "execute_result"
    }
   ],
   "source": [
    "%%sql\n",
    "\n",
    "DESCRIBE orders_part"
   ]
  },
  {
   "cell_type": "code",
   "execution_count": 111,
   "id": "da4232cc-eb09-4b9e-bec1-02dcd1f4cec3",
   "metadata": {},
   "outputs": [
    {
     "data": {
      "text/plain": [
       "warning: there was one feature warning; re-run with -feature for details\n"
      ]
     },
     "metadata": {},
     "output_type": "display_data",
     "source": "user"
    },
    {
     "data": {
      "text/plain": [
       "0"
      ]
     },
     "execution_count": 111,
     "metadata": {},
     "output_type": "execute_result"
    }
   ],
   "source": [
    "import sys.process._\n",
    "\n",
    "s\"hdfs dfs -ls -R /user/${username}/warehouse/${username}_retail.db/orders_part\"!"
   ]
  },
  {
   "cell_type": "code",
   "execution_count": 112,
   "id": "fd4d492b-003b-491e-91e7-db1cfdfd2a53",
   "metadata": {},
   "outputs": [
    {
     "data": {
      "text/plain": [
       "++\n",
       "||\n",
       "++\n",
       "++\n",
       "\n"
      ]
     },
     "execution_count": 112,
     "metadata": {},
     "output_type": "execute_result"
    }
   ],
   "source": [
    "%%sql\n",
    "\n",
    "ALTER TABLE orders_part ADD PARTITION (order_month=201307)"
   ]
  },
  {
   "cell_type": "code",
   "execution_count": 113,
   "id": "2a98dd91-edfd-4cd4-b836-5f430281399c",
   "metadata": {},
   "outputs": [
    {
     "data": {
      "text/plain": [
       "++\n",
       "||\n",
       "++\n",
       "++\n",
       "\n"
      ]
     },
     "execution_count": 113,
     "metadata": {},
     "output_type": "execute_result"
    }
   ],
   "source": [
    "%%sql\n",
    "\n",
    "ALTER TABLE orders_part ADD\n",
    "    PARTITION (order_month=201308)\n",
    "    PARTITION (order_month=201309)\n",
    "    PARTITION (order_month=201310)"
   ]
  },
  {
   "cell_type": "code",
   "execution_count": 114,
   "id": "860e812d-9879-48f4-9ecd-ede81226def9",
   "metadata": {},
   "outputs": [
    {
     "name": "stdout",
     "output_type": "stream",
     "text": [
      "drwxr-xr-x   - itversity supergroup          0 2024-02-02 10:47 /user/itversity/warehouse/itversity_retail.db/orders_part/order_month=201307\n",
      "drwxr-xr-x   - itversity supergroup          0 2024-02-02 10:47 /user/itversity/warehouse/itversity_retail.db/orders_part/order_month=201308\n",
      "drwxr-xr-x   - itversity supergroup          0 2024-02-02 10:47 /user/itversity/warehouse/itversity_retail.db/orders_part/order_month=201309\n",
      "drwxr-xr-x   - itversity supergroup          0 2024-02-02 10:47 /user/itversity/warehouse/itversity_retail.db/orders_part/order_month=201310\n"
     ]
    },
    {
     "data": {
      "text/plain": [
       "warning: there was one feature warning; re-run with -feature for details\n"
      ]
     },
     "metadata": {},
     "output_type": "display_data",
     "source": "user"
    },
    {
     "data": {
      "text/plain": [
       "0"
      ]
     },
     "execution_count": 114,
     "metadata": {},
     "output_type": "execute_result"
    }
   ],
   "source": [
    "import sys.process._\n",
    "\n",
    "s\"hdfs dfs -ls -R /user/${username}/warehouse/${username}_retail.db/orders_part\"!"
   ]
  },
  {
   "cell_type": "markdown",
   "id": "3bdd9e33-c475-4453-8270-dc60413985cf",
   "metadata": {},
   "source": [
    "## 134 Loading data into Partitioned Table"
   ]
  },
  {
   "cell_type": "code",
   "execution_count": 115,
   "id": "b7a03a01-f594-4d35-b978-c09dff05809c",
   "metadata": {},
   "outputs": [
    {
     "data": {
      "text/plain": [
       "++\n",
       "||\n",
       "++\n",
       "++\n",
       "\n"
      ]
     },
     "execution_count": 115,
     "metadata": {},
     "output_type": "execute_result"
    }
   ],
   "source": [
    "%%sql\n",
    "\n",
    "use itversity_retail"
   ]
  },
  {
   "cell_type": "code",
   "execution_count": 116,
   "id": "63ac9513-e052-4533-9d6f-8ee05fe8558c",
   "metadata": {},
   "outputs": [
    {
     "data": {
      "text/plain": [
       "++\n",
       "||\n",
       "++\n",
       "++\n",
       "\n"
      ]
     },
     "execution_count": 116,
     "metadata": {},
     "output_type": "execute_result"
    }
   ],
   "source": [
    "%%sql\n",
    "\n",
    "LOAD DATA LOCAL INPATH '/home/itversity/orders/orders_201307'\n",
    "    INTO TABLE orders_part PARTITION(order_month=201307)"
   ]
  },
  {
   "cell_type": "code",
   "execution_count": 117,
   "id": "d9c2a81c-699a-48ff-9fa8-a6f94ab7898c",
   "metadata": {},
   "outputs": [
    {
     "name": "stdout",
     "output_type": "stream",
     "text": [
      "drwxr-xr-x   - itversity supergroup          0 2024-02-02 12:08 /user/itversity/warehouse/itversity_retail.db/orders_part/order_month=201307\n",
      "-rwxr-xr-x   1 itversity supergroup      64737 2024-02-02 12:08 /user/itversity/warehouse/itversity_retail.db/orders_part/order_month=201307/orders_201307\n",
      "drwxr-xr-x   - itversity supergroup          0 2024-02-02 10:47 /user/itversity/warehouse/itversity_retail.db/orders_part/order_month=201308\n",
      "drwxr-xr-x   - itversity supergroup          0 2024-02-02 10:47 /user/itversity/warehouse/itversity_retail.db/orders_part/order_month=201309\n",
      "drwxr-xr-x   - itversity supergroup          0 2024-02-02 10:47 /user/itversity/warehouse/itversity_retail.db/orders_part/order_month=201310\n"
     ]
    },
    {
     "data": {
      "text/plain": [
       "warning: there was one feature warning; re-run with -feature for details\n"
      ]
     },
     "metadata": {},
     "output_type": "display_data",
     "source": "user"
    },
    {
     "data": {
      "text/plain": [
       "0"
      ]
     },
     "execution_count": 117,
     "metadata": {},
     "output_type": "execute_result"
    }
   ],
   "source": [
    "import sys.process._\n",
    "\n",
    "s\"hdfs dfs -ls -R /user/${username}/warehouse/${username}_retail.db/orders_part\"!"
   ]
  },
  {
   "cell_type": "code",
   "execution_count": 118,
   "id": "d6fe8e2a-e52d-404f-9a6c-e3e586f658a4",
   "metadata": {},
   "outputs": [
    {
     "data": {
      "text/plain": [
       "++\n",
       "||\n",
       "++\n",
       "++\n",
       "\n"
      ]
     },
     "execution_count": 118,
     "metadata": {},
     "output_type": "execute_result"
    }
   ],
   "source": [
    "%%sql\n",
    "\n",
    "LOAD DATA LOCAL INPATH '/home/itversity/orders/orders_201308'\n",
    "    INTO TABLE orders_part PARTITION(order_month=201308)"
   ]
  },
  {
   "cell_type": "code",
   "execution_count": 119,
   "id": "19030261-e2d7-4349-a2b5-602df26f4722",
   "metadata": {},
   "outputs": [
    {
     "data": {
      "text/plain": [
       "++\n",
       "||\n",
       "++\n",
       "++\n",
       "\n"
      ]
     },
     "execution_count": 119,
     "metadata": {},
     "output_type": "execute_result"
    }
   ],
   "source": [
    "%%sql\n",
    "\n",
    "LOAD DATA LOCAL INPATH '/home/itversity/orders/orders_201309'\n",
    "    INTO TABLE orders_part PARTITION(order_month=201309)"
   ]
  },
  {
   "cell_type": "code",
   "execution_count": 122,
   "id": "fe8fd9fa-3e34-48a7-8d2f-c0261971e7b6",
   "metadata": {},
   "outputs": [
    {
     "data": {
      "text/plain": [
       "++\n",
       "||\n",
       "++\n",
       "++\n",
       "\n"
      ]
     },
     "execution_count": 122,
     "metadata": {},
     "output_type": "execute_result"
    }
   ],
   "source": [
    "%%sql\n",
    "\n",
    "LOAD DATA LOCAL INPATH '/home/itversity/orders/orders_201310'\n",
    "    overwrite INTO TABLE orders_part PARTITION(order_month=201310)"
   ]
  },
  {
   "cell_type": "code",
   "execution_count": 123,
   "id": "0b339d10-1d7b-4c33-a157-912ee60ad0fe",
   "metadata": {},
   "outputs": [
    {
     "name": "stdout",
     "output_type": "stream",
     "text": [
      "drwxr-xr-x   - itversity supergroup          0 2024-02-02 12:08 /user/itversity/warehouse/itversity_retail.db/orders_part/order_month=201307\n",
      "-rwxr-xr-x   1 itversity supergroup      64737 2024-02-02 12:08 /user/itversity/warehouse/itversity_retail.db/orders_part/order_month=201307/orders_201307\n",
      "drwxr-xr-x   - itversity supergroup          0 2024-02-02 12:09 /user/itversity/warehouse/itversity_retail.db/orders_part/order_month=201308\n",
      "-rwxr-xr-x   1 itversity supergroup     243190 2024-02-02 12:09 /user/itversity/warehouse/itversity_retail.db/orders_part/order_month=201308/orders_201308\n",
      "drwxr-xr-x   - itversity supergroup          0 2024-02-02 12:09 /user/itversity/warehouse/itversity_retail.db/orders_part/order_month=201309\n",
      "-rwxr-xr-x   1 itversity supergroup     251262 2024-02-02 12:09 /user/itversity/warehouse/itversity_retail.db/orders_part/order_month=201309/orders_201309\n",
      "drwxr-xr-x   - itversity supergroup          0 2024-02-02 12:10 /user/itversity/warehouse/itversity_retail.db/orders_part/order_month=201310\n",
      "-rwxr-xr-x   1 itversity supergroup     233173 2024-02-02 12:10 /user/itversity/warehouse/itversity_retail.db/orders_part/order_month=201310/orders_201310\n"
     ]
    },
    {
     "data": {
      "text/plain": [
       "warning: there was one feature warning; re-run with -feature for details\n"
      ]
     },
     "metadata": {},
     "output_type": "display_data",
     "source": "user"
    },
    {
     "data": {
      "text/plain": [
       "0"
      ]
     },
     "execution_count": 123,
     "metadata": {},
     "output_type": "execute_result"
    }
   ],
   "source": [
    "import sys.process._\n",
    "\n",
    "s\"hdfs dfs -ls -R /user/${username}/warehouse/${username}_retail.db/orders_part\"!"
   ]
  },
  {
   "cell_type": "code",
   "execution_count": 124,
   "id": "5a1889bb-4264-4e11-a4fc-31ae47132210",
   "metadata": {},
   "outputs": [
    {
     "name": "stdout",
     "output_type": "stream",
     "text": [
      "ETE\n",
      "67755,2013-10-30 00:00:00.0,8386,PENDING_PAYMENT\n",
      "67756,2013-10-31 00:00:00.0,6146,PROCESSING\n",
      "67757,2013-10-31 00:00:00.0,441,CLOSED\n",
      "67758,2013-10-31 00:00:00.0,6750,CLOSED\n",
      "67759,2013-10-31 00:00:00.0,10759,PENDING_PAYMENT\n",
      "68725,2013-10-01 00:00:00.0,7795,PROCESSING\n",
      "68726,2013-10-02 00:00:00.0,8817,PENDING_PAYMENT\n",
      "68727,2013-10-05 00:00:00.0,5880,PENDING_PAYMENT\n",
      "68728,2013-10-07 00:00:00.0,7267,COMPLETE\n",
      "68729,2013-10-09 00:00:00.0,8043,PENDING_PAYMENT\n",
      "68730,2013-10-11 00:00:00.0,3568,PENDING_PAYMENT\n",
      "68731,2013-10-13 00:00:00.0,8102,PENDING_PAYMENT\n",
      "68732,2013-10-14 00:00:00.0,9990,COMPLETE\n",
      "68733,2013-10-16 00:00:00.0,12429,CLOSED\n",
      "68734,2013-10-18 00:00:00.0,8510,ON_HOLD\n",
      "68735,2013-10-21 00:00:00.0,788,COMPLETE\n",
      "68736,2013-10-23 00:00:00.0,8462,COMPLETE\n",
      "68737,2013-10-26 00:00:00.0,10302,PROCESSING\n",
      "68738,2013-10-27 00:00:00.0,1100,COMPLETE\n",
      "68739,2013-10-28 00:00:00.0,2528,PENDING\n",
      "68740,2013-10-29 00:00:00.0,10691,ON_HOLD\n",
      "68741,2013-10-30 00:00:00.0,5974,PENDING_PAYMENT\n",
      "68742,2013-10-31 00:00:00.0,197,COMPLETE\n"
     ]
    },
    {
     "data": {
      "text/plain": [
       "warning: there was one feature warning; re-run with -feature for details\n"
      ]
     },
     "metadata": {},
     "output_type": "display_data",
     "source": "user"
    },
    {
     "data": {
      "text/plain": [
       "0"
      ]
     },
     "execution_count": 124,
     "metadata": {},
     "output_type": "execute_result"
    }
   ],
   "source": [
    "import sys.process._\n",
    "\n",
    "s\"hdfs dfs -tail /user/${username}/warehouse/${username}_retail.db/orders_part/order_month=201310/orders_201310\"!"
   ]
  },
  {
   "cell_type": "code",
   "execution_count": 127,
   "id": "500e5794-7d00-466b-9f12-a2ac04b389b5",
   "metadata": {},
   "outputs": [
    {
     "data": {
      "text/plain": [
       "+--------+--------------------+-----------------+---------------+-----------+\n",
       "|order_id|          order_date|order_customer_id|   order_status|order_month|\n",
       "+--------+--------------------+-----------------+---------------+-----------+\n",
       "|     778|2013-07-29 00:00:...|             5759|       COMPLETE|     201307|\n",
       "|     779|2013-07-29 00:00:...|             2004|PENDING_PAYMENT|     201307|\n",
       "|     780|2013-07-29 00:00:...|             2016|       COMPLETE|     201307|\n",
       "|     781|2013-07-29 00:00:...|             7971|        PENDING|     201307|\n",
       "|     782|2013-07-29 00:00:...|            12213|       COMPLETE|     201307|\n",
       "+--------+--------------------+-----------------+---------------+-----------+\n",
       "\n"
      ]
     },
     "execution_count": 127,
     "metadata": {},
     "output_type": "execute_result"
    }
   ],
   "source": [
    "%%sql\n",
    "\n",
    "SELECT * FROM orders_part LIMIT 5"
   ]
  },
  {
   "cell_type": "markdown",
   "id": "16672fbe-ad90-4e71-a328-b17f3bd41fa5",
   "metadata": {},
   "source": [
    "## 135 Inserting data into Partitions Table "
   ]
  },
  {
   "cell_type": "code",
   "execution_count": 128,
   "id": "0395c4ab-3344-48f2-9f28-7b0363aca02b",
   "metadata": {},
   "outputs": [
    {
     "data": {
      "text/plain": [
       "++\n",
       "||\n",
       "++\n",
       "++\n",
       "\n"
      ]
     },
     "execution_count": 128,
     "metadata": {},
     "output_type": "execute_result"
    }
   ],
   "source": [
    "%%sql\n",
    "\n",
    "USE itversity_retail"
   ]
  },
  {
   "cell_type": "code",
   "execution_count": 129,
   "id": "2399ce7c-2ef1-4f6e-8b26-d3ab63a26cea",
   "metadata": {},
   "outputs": [
    {
     "data": {
      "text/plain": [
       "++\n",
       "||\n",
       "++\n",
       "++\n",
       "\n"
      ]
     },
     "execution_count": 129,
     "metadata": {},
     "output_type": "execute_result"
    }
   ],
   "source": [
    "%%sql\n",
    "\n",
    "ALTER TABLE orders_part ADD PARTITION (order_month=201311)"
   ]
  },
  {
   "cell_type": "code",
   "execution_count": 130,
   "id": "8c62f66b-0353-4799-ad23-7408d3629445",
   "metadata": {},
   "outputs": [
    {
     "data": {
      "text/plain": [
       "+--------+\n",
       "|count(1)|\n",
       "+--------+\n",
       "|   68883|\n",
       "+--------+\n",
       "\n"
      ]
     },
     "execution_count": 130,
     "metadata": {},
     "output_type": "execute_result"
    }
   ],
   "source": [
    "%%sql\n",
    "\n",
    "SELECT COUNT(1) FROM orders"
   ]
  },
  {
   "cell_type": "code",
   "execution_count": 132,
   "id": "fed499cc-1141-4b67-ac3b-06b2b6871839",
   "metadata": {},
   "outputs": [
    {
     "data": {
      "text/plain": [
       "+--------+\n",
       "|count(1)|\n",
       "+--------+\n",
       "|   18389|\n",
       "+--------+\n",
       "\n"
      ]
     },
     "execution_count": 132,
     "metadata": {},
     "output_type": "execute_result"
    }
   ],
   "source": [
    "%%sql\n",
    "\n",
    "SELECT COUNT(1) FROM orders_part"
   ]
  },
  {
   "cell_type": "code",
   "execution_count": 134,
   "id": "0c82335f-dea1-43c7-aaf5-5519c3298e8e",
   "metadata": {},
   "outputs": [
    {
     "data": {
      "text/plain": [
       "++\n",
       "||\n",
       "++\n",
       "++\n",
       "\n"
      ]
     },
     "execution_count": 134,
     "metadata": {},
     "output_type": "execute_result"
    }
   ],
   "source": [
    "%%sql\n",
    "\n",
    "INSERT INTO orders_part PARTITION(order_month=201311) SELECT * FROM orders WHERE order_date LIKE '2013-11%'"
   ]
  },
  {
   "cell_type": "code",
   "execution_count": 135,
   "id": "8f1649dd-a481-411a-8d21-d8f75c5889e3",
   "metadata": {},
   "outputs": [
    {
     "data": {
      "text/plain": [
       "+--------+\n",
       "|count(1)|\n",
       "+--------+\n",
       "|   24770|\n",
       "+--------+\n",
       "\n"
      ]
     },
     "execution_count": 135,
     "metadata": {},
     "output_type": "execute_result"
    }
   ],
   "source": [
    "%%sql\n",
    "\n",
    "SELECT COUNT(1) FROM orders_part"
   ]
  },
  {
   "cell_type": "code",
   "execution_count": 136,
   "id": "07c73c55-7466-4332-a209-0032b6602592",
   "metadata": {},
   "outputs": [
    {
     "name": "stdout",
     "output_type": "stream",
     "text": [
      "drwxr-xr-x   - itversity supergroup          0 2024-02-02 12:08 /user/itversity/warehouse/itversity_retail.db/orders_part/order_month=201307\n",
      "-rwxr-xr-x   1 itversity supergroup      64737 2024-02-02 12:08 /user/itversity/warehouse/itversity_retail.db/orders_part/order_month=201307/orders_201307\n",
      "drwxr-xr-x   - itversity supergroup          0 2024-02-02 12:09 /user/itversity/warehouse/itversity_retail.db/orders_part/order_month=201308\n",
      "-rwxr-xr-x   1 itversity supergroup     243190 2024-02-02 12:09 /user/itversity/warehouse/itversity_retail.db/orders_part/order_month=201308/orders_201308\n",
      "drwxr-xr-x   - itversity supergroup          0 2024-02-02 12:09 /user/itversity/warehouse/itversity_retail.db/orders_part/order_month=201309\n",
      "-rwxr-xr-x   1 itversity supergroup     251262 2024-02-02 12:09 /user/itversity/warehouse/itversity_retail.db/orders_part/order_month=201309/orders_201309\n",
      "drwxr-xr-x   - itversity supergroup          0 2024-02-02 12:10 /user/itversity/warehouse/itversity_retail.db/orders_part/order_month=201310\n",
      "-rwxr-xr-x   1 itversity supergroup     233173 2024-02-02 12:10 /user/itversity/warehouse/itversity_retail.db/orders_part/order_month=201310/orders_201310\n",
      "drwxr-xr-x   - itversity supergroup          0 2024-02-02 12:22 /user/itversity/warehouse/itversity_retail.db/orders_part/order_month=201311\n",
      "-rwxr-xr-x   1 itversity supergroup     237275 2024-02-02 12:22 /user/itversity/warehouse/itversity_retail.db/orders_part/order_month=201311/part-00000-1b7a5894-6989-4862-be1c-594b1fef05db-c000\n",
      "-rwxr-xr-x   1 itversity supergroup      41746 2024-02-02 12:22 /user/itversity/warehouse/itversity_retail.db/orders_part/order_month=201311/part-00001-1b7a5894-6989-4862-be1c-594b1fef05db-c000\n"
     ]
    },
    {
     "data": {
      "text/plain": [
       "warning: there was one feature warning; re-run with -feature for details\n"
      ]
     },
     "metadata": {},
     "output_type": "display_data",
     "source": "user"
    },
    {
     "data": {
      "text/plain": [
       "0"
      ]
     },
     "execution_count": 136,
     "metadata": {},
     "output_type": "execute_result"
    }
   ],
   "source": [
    "import sys.process._\n",
    "\n",
    "s\"hdfs dfs -ls -R /user/${username}/warehouse/${username}_retail.db/orders_part\"!"
   ]
  },
  {
   "cell_type": "markdown",
   "id": "65e29719-87f5-4586-a6cf-372f72d0d7bf",
   "metadata": {},
   "source": [
    "## 136 Using Dynamic Partition while Inserting into table"
   ]
  },
  {
   "cell_type": "code",
   "execution_count": 137,
   "id": "688f07d0-8874-4bc0-be35-24669f0e236d",
   "metadata": {},
   "outputs": [
    {
     "data": {
      "text/plain": [
       "++\n",
       "||\n",
       "++\n",
       "++\n",
       "\n"
      ]
     },
     "execution_count": 137,
     "metadata": {},
     "output_type": "execute_result"
    }
   ],
   "source": [
    "%%sql\n",
    "\n",
    "USE itversity_retail"
   ]
  },
  {
   "cell_type": "code",
   "execution_count": 138,
   "id": "1369fc6a-989c-4ba9-ab76-edeb4575c1a0",
   "metadata": {},
   "outputs": [
    {
     "data": {
      "text/plain": [
       "+----------------+-----------------+-----------+\n",
       "|        database|        tableName|isTemporary|\n",
       "+----------------+-----------------+-----------+\n",
       "|itversity_retail|      order_items|      false|\n",
       "|itversity_retail|order_items_stage|      false|\n",
       "|itversity_retail|           orders|      false|\n",
       "|itversity_retail|      orders_part|      false|\n",
       "|itversity_retail|         students|      false|\n",
       "+----------------+-----------------+-----------+\n",
       "\n"
      ]
     },
     "execution_count": 138,
     "metadata": {},
     "output_type": "execute_result"
    }
   ],
   "source": [
    "%%sql\n",
    "\n",
    "SHOW TABLES"
   ]
  },
  {
   "cell_type": "code",
   "execution_count": 139,
   "id": "fc13dfdc-ef0a-4b38-b277-8bafe299eb50",
   "metadata": {},
   "outputs": [
    {
     "data": {
      "text/plain": [
       "+--------+\n",
       "|count(1)|\n",
       "+--------+\n",
       "|    5892|\n",
       "+--------+\n",
       "\n"
      ]
     },
     "execution_count": 139,
     "metadata": {},
     "output_type": "execute_result"
    }
   ],
   "source": [
    "%%sql\n",
    "\n",
    "SELECT COUNT(1) FROM orders WHERE order_date like '2013-12%'"
   ]
  },
  {
   "cell_type": "code",
   "execution_count": 142,
   "id": "08521d53-c5e2-4e2c-b5ca-4a02eeaa6b07",
   "metadata": {},
   "outputs": [
    {
     "data": {
      "text/plain": [
       "+--------+\n",
       "|count(1)|\n",
       "+--------+\n",
       "|   68883|\n",
       "+--------+\n",
       "\n"
      ]
     },
     "execution_count": 142,
     "metadata": {},
     "output_type": "execute_result"
    }
   ],
   "source": [
    "%%sql\n",
    "\n",
    "SELECT COUNT(1) FROM orders"
   ]
  },
  {
   "cell_type": "code",
   "execution_count": 143,
   "id": "1b3358cc-602d-4aac-bfee-47a16f610389",
   "metadata": {},
   "outputs": [
    {
     "data": {
      "text/plain": [
       "+--------+\n",
       "|count(1)|\n",
       "+--------+\n",
       "|   24770|\n",
       "+--------+\n",
       "\n"
      ]
     },
     "execution_count": 143,
     "metadata": {},
     "output_type": "execute_result"
    }
   ],
   "source": [
    "%%sql\n",
    "\n",
    "SELECT COUNT(1) FROM orders_part"
   ]
  },
  {
   "cell_type": "code",
   "execution_count": 140,
   "id": "2d812268-db68-4aa9-9543-9a3be45b203f",
   "metadata": {},
   "outputs": [
    {
     "data": {
      "text/plain": [
       "+--------------------+-----------+\n",
       "|                 key|      value|\n",
       "+--------------------+-----------+\n",
       "|hive.exec.dynamic...|<undefined>|\n",
       "+--------------------+-----------+\n",
       "\n"
      ]
     },
     "execution_count": 140,
     "metadata": {},
     "output_type": "execute_result"
    }
   ],
   "source": [
    "%%sql\n",
    "\n",
    "SET hive.exec.dynamic.partition"
   ]
  },
  {
   "cell_type": "code",
   "execution_count": 141,
   "id": "cf5b0172-d788-481f-862b-94b002587320",
   "metadata": {},
   "outputs": [
    {
     "data": {
      "text/plain": [
       "+--------------------+-----------+\n",
       "|                 key|      value|\n",
       "+--------------------+-----------+\n",
       "|hive.exec.dynamic...|<undefined>|\n",
       "+--------------------+-----------+\n",
       "\n"
      ]
     },
     "execution_count": 141,
     "metadata": {},
     "output_type": "execute_result"
    }
   ],
   "source": [
    "%%sql\n",
    "\n",
    "SET hive.exec.dynamic.partition.mode"
   ]
  },
  {
   "cell_type": "code",
   "execution_count": 144,
   "id": "62ea5ce3-e175-4331-8ab2-2a8c76566f00",
   "metadata": {},
   "outputs": [
    {
     "data": {
      "text/plain": [
       "+--------------------+-----+\n",
       "|                 key|value|\n",
       "+--------------------+-----+\n",
       "|hive.exec.dynamic...| true|\n",
       "+--------------------+-----+\n",
       "\n"
      ]
     },
     "execution_count": 144,
     "metadata": {},
     "output_type": "execute_result"
    }
   ],
   "source": [
    "%%sql\n",
    "\n",
    "SET hive.exec.dynamic.partition=true"
   ]
  },
  {
   "cell_type": "code",
   "execution_count": 145,
   "id": "8ca7f1c3-eb78-4c26-9aa5-10f9c84a81b3",
   "metadata": {},
   "outputs": [
    {
     "data": {
      "text/plain": [
       "+--------------------+---------+\n",
       "|                 key|    value|\n",
       "+--------------------+---------+\n",
       "|hive.exec.dynamic...|nonstrict|\n",
       "+--------------------+---------+\n",
       "\n"
      ]
     },
     "execution_count": 145,
     "metadata": {},
     "output_type": "execute_result"
    }
   ],
   "source": [
    "%%sql\n",
    "\n",
    "SET hive.exec.dynamic.partition.mode=nonstrict"
   ]
  },
  {
   "cell_type": "code",
   "execution_count": 147,
   "id": "8774356a-84f8-45fb-b25b-522c17aba9c5",
   "metadata": {},
   "outputs": [
    {
     "data": {
      "text/plain": [
       "++\n",
       "||\n",
       "++\n",
       "++\n",
       "\n"
      ]
     },
     "execution_count": 147,
     "metadata": {},
     "output_type": "execute_result"
    }
   ],
   "source": [
    "%%sql\n",
    "\n",
    "INSERT INTO orders_part PARTITION(order_month)\n",
    "SELECT *, DATE_FORMAT(order_date, 'YYYYMM') order_month\n",
    "FROM orders\n",
    "WHERE order_date >= '2013-12-01 00:00:00:0'"
   ]
  },
  {
   "cell_type": "code",
   "execution_count": 150,
   "id": "bc7f69eb-e870-4160-94d3-e7681a4381fe",
   "metadata": {},
   "outputs": [
    {
     "name": "stdout",
     "output_type": "stream",
     "text": [
      "drwxr-xr-x   - itversity supergroup          0 2024-02-02 12:08 /user/itversity/warehouse/itversity_retail.db/orders_part/order_month=201307\n",
      "-rwxr-xr-x   1 itversity supergroup      64737 2024-02-02 12:08 /user/itversity/warehouse/itversity_retail.db/orders_part/order_month=201307/orders_201307\n",
      "drwxr-xr-x   - itversity supergroup          0 2024-02-02 12:09 /user/itversity/warehouse/itversity_retail.db/orders_part/order_month=201308\n",
      "-rwxr-xr-x   1 itversity supergroup     243190 2024-02-02 12:09 /user/itversity/warehouse/itversity_retail.db/orders_part/order_month=201308/orders_201308\n",
      "drwxr-xr-x   - itversity supergroup          0 2024-02-02 12:09 /user/itversity/warehouse/itversity_retail.db/orders_part/order_month=201309\n",
      "-rwxr-xr-x   1 itversity supergroup     251262 2024-02-02 12:09 /user/itversity/warehouse/itversity_retail.db/orders_part/order_month=201309/orders_201309\n",
      "drwxr-xr-x   - itversity supergroup          0 2024-02-02 12:10 /user/itversity/warehouse/itversity_retail.db/orders_part/order_month=201310\n",
      "-rwxr-xr-x   1 itversity supergroup     233173 2024-02-02 12:10 /user/itversity/warehouse/itversity_retail.db/orders_part/order_month=201310/orders_201310\n",
      "drwxr-xr-x   - itversity supergroup          0 2024-02-02 12:22 /user/itversity/warehouse/itversity_retail.db/orders_part/order_month=201311\n",
      "-rwxr-xr-x   1 itversity supergroup     237275 2024-02-02 12:22 /user/itversity/warehouse/itversity_retail.db/orders_part/order_month=201311/part-00000-1b7a5894-6989-4862-be1c-594b1fef05db-c000\n",
      "-rwxr-xr-x   1 itversity supergroup      41746 2024-02-02 12:22 /user/itversity/warehouse/itversity_retail.db/orders_part/order_month=201311/part-00001-1b7a5894-6989-4862-be1c-594b1fef05db-c000\n",
      "drwxr-xr-x   - itversity supergroup          0 2024-02-02 12:41 /user/itversity/warehouse/itversity_retail.db/orders_part/order_month=201312\n",
      "-rwxr-xr-x   1 itversity supergroup     186143 2024-02-02 12:41 /user/itversity/warehouse/itversity_retail.db/orders_part/order_month=201312/part-00000-5e36421f-3755-4d21-b7d9-aa976a9adfbf.c000\n",
      "-rwxr-xr-x   1 itversity supergroup      36707 2024-02-02 12:41 /user/itversity/warehouse/itversity_retail.db/orders_part/order_month=201312/part-00001-5e36421f-3755-4d21-b7d9-aa976a9adfbf.c000\n",
      "drwxr-xr-x   - itversity supergroup          0 2024-02-02 12:41 /user/itversity/warehouse/itversity_retail.db/orders_part/order_month=201401\n",
      "-rwxr-xr-x   1 itversity supergroup     214357 2024-02-02 12:41 /user/itversity/warehouse/itversity_retail.db/orders_part/order_month=201401/part-00000-5e36421f-3755-4d21-b7d9-aa976a9adfbf.c000\n",
      "-rwxr-xr-x   1 itversity supergroup      44232 2024-02-02 12:41 /user/itversity/warehouse/itversity_retail.db/orders_part/order_month=201401/part-00001-5e36421f-3755-4d21-b7d9-aa976a9adfbf.c000\n",
      "drwxr-xr-x   - itversity supergroup          0 2024-02-02 12:41 /user/itversity/warehouse/itversity_retail.db/orders_part/order_month=201402\n",
      "-rwxr-xr-x   1 itversity supergroup     165558 2024-02-02 12:41 /user/itversity/warehouse/itversity_retail.db/orders_part/order_month=201402/part-00000-5e36421f-3755-4d21-b7d9-aa976a9adfbf.c000\n",
      "-rwxr-xr-x   1 itversity supergroup      80574 2024-02-02 12:41 /user/itversity/warehouse/itversity_retail.db/orders_part/order_month=201402/part-00001-5e36421f-3755-4d21-b7d9-aa976a9adfbf.c000\n",
      "drwxr-xr-x   - itversity supergroup          0 2024-02-02 12:41 /user/itversity/warehouse/itversity_retail.db/orders_part/order_month=201403\n",
      "-rwxr-xr-x   1 itversity supergroup     252602 2024-02-02 12:41 /user/itversity/warehouse/itversity_retail.db/orders_part/order_month=201403/part-00001-5e36421f-3755-4d21-b7d9-aa976a9adfbf.c000\n",
      "drwxr-xr-x   - itversity supergroup          0 2024-02-02 12:41 /user/itversity/warehouse/itversity_retail.db/orders_part/order_month=201404\n",
      "-rwxr-xr-x   1 itversity supergroup     247346 2024-02-02 12:41 /user/itversity/warehouse/itversity_retail.db/orders_part/order_month=201404/part-00001-5e36421f-3755-4d21-b7d9-aa976a9adfbf.c000\n",
      "drwxr-xr-x   - itversity supergroup          0 2024-02-02 12:41 /user/itversity/warehouse/itversity_retail.db/orders_part/order_month=201405\n",
      "-rwxr-xr-x   1 itversity supergroup     238805 2024-02-02 12:41 /user/itversity/warehouse/itversity_retail.db/orders_part/order_month=201405/part-00001-5e36421f-3755-4d21-b7d9-aa976a9adfbf.c000\n",
      "drwxr-xr-x   - itversity supergroup          0 2024-02-02 12:41 /user/itversity/warehouse/itversity_retail.db/orders_part/order_month=201406\n",
      "-rwxr-xr-x   1 itversity supergroup     231901 2024-02-02 12:41 /user/itversity/warehouse/itversity_retail.db/orders_part/order_month=201406/part-00001-5e36421f-3755-4d21-b7d9-aa976a9adfbf.c000\n",
      "drwxr-xr-x   - itversity supergroup          0 2024-02-02 12:41 /user/itversity/warehouse/itversity_retail.db/orders_part/order_month=201407\n",
      "-rwxr-xr-x   1 itversity supergroup     195396 2024-02-02 12:41 /user/itversity/warehouse/itversity_retail.db/orders_part/order_month=201407/part-00001-5e36421f-3755-4d21-b7d9-aa976a9adfbf.c000\n",
      "drwxr-xr-x   - itversity supergroup          0 2024-02-02 12:41 /user/itversity/warehouse/itversity_retail.db/orders_part/order_month=201412\n",
      "-rwxr-xr-x   1 itversity supergroup      21737 2024-02-02 12:41 /user/itversity/warehouse/itversity_retail.db/orders_part/order_month=201412/part-00000-5e36421f-3755-4d21-b7d9-aa976a9adfbf.c000\n",
      "-rwxr-xr-x   1 itversity supergroup       2675 2024-02-02 12:41 /user/itversity/warehouse/itversity_retail.db/orders_part/order_month=201412/part-00001-5e36421f-3755-4d21-b7d9-aa976a9adfbf.c000\n"
     ]
    },
    {
     "data": {
      "text/plain": [
       "warning: there was one feature warning; re-run with -feature for details\n"
      ]
     },
     "metadata": {},
     "output_type": "display_data",
     "source": "user"
    },
    {
     "data": {
      "text/plain": [
       "0"
      ]
     },
     "execution_count": 150,
     "metadata": {},
     "output_type": "execute_result"
    }
   ],
   "source": [
    "import sys.process._\n",
    "\n",
    "s\"hdfs dfs -ls -R /user/${username}/warehouse/${username}_retail.db/orders_part\"!"
   ]
  },
  {
   "cell_type": "code",
   "execution_count": 159,
   "id": "1ec40baa-5b1c-4d65-abff-437c6f3425ef",
   "metadata": {},
   "outputs": [
    {
     "data": {
      "text/plain": [
       "+--------+\n",
       "|count(1)|\n",
       "+--------+\n",
       "|   68883|\n",
       "+--------+\n",
       "\n"
      ]
     },
     "execution_count": 159,
     "metadata": {},
     "output_type": "execute_result"
    }
   ],
   "source": [
    "%%sql\n",
    "SELECT COUNT(1) FROM orders"
   ]
  },
  {
   "cell_type": "code",
   "execution_count": 151,
   "id": "8ba2b351-a52f-4650-b974-88fc3bdd3edf",
   "metadata": {},
   "outputs": [
    {
     "data": {
      "text/plain": [
       "+--------+\n",
       "|count(1)|\n",
       "+--------+\n",
       "|   68644|\n",
       "+--------+\n",
       "\n"
      ]
     },
     "execution_count": 151,
     "metadata": {},
     "output_type": "execute_result"
    }
   ],
   "source": [
    "%%sql\n",
    "SELECT COUNT(1) FROM orders_part"
   ]
  },
  {
   "cell_type": "code",
   "execution_count": 154,
   "id": "f7ae6752-ad6a-44b7-a764-e8c037b98e86",
   "metadata": {},
   "outputs": [
    {
     "data": {
      "text/plain": [
       "+-----------+--------+\n",
       "|order_month|count(1)|\n",
       "+-----------+--------+\n",
       "|     201405|    5467|\n",
       "|     201401|    5908|\n",
       "|     201312|    5335|\n",
       "|     201310|    5335|\n",
       "|     201412|     557|\n",
       "|     201311|    6381|\n",
       "|     201307|    1533|\n",
       "|     201407|    4468|\n",
       "|     201403|    5778|\n",
       "|     201404|    5657|\n",
       "+-----------+--------+\n",
       "only showing top 10 rows\n",
       "\n"
      ]
     },
     "execution_count": 154,
     "metadata": {},
     "output_type": "execute_result"
    }
   ],
   "source": [
    "%%sql\n",
    "SELECT DATE_FORMAT(order_date,'YYYYMM') order_month, COUNT(1) FROM orders GROUP BY DATE_FORMAT(order_date,'YYYYMM')"
   ]
  },
  {
   "cell_type": "code",
   "execution_count": 156,
   "id": "bb46ef89-9d57-449b-a192-b171498b6208",
   "metadata": {},
   "outputs": [
    {
     "data": {
      "text/plain": [
       "+-----------+--------+\n",
       "|order_month|count(1)|\n",
       "+-----------+--------+\n",
       "|     201402|    5635|\n",
       "|     201309|    5841|\n",
       "|     201406|    5308|\n",
       "|     201312|    5096|\n",
       "|     201403|    5778|\n",
       "|     201311|    6381|\n",
       "|     201405|    5467|\n",
       "|     201404|    5657|\n",
       "|     201308|    5680|\n",
       "|     201407|    4468|\n",
       "+-----------+--------+\n",
       "only showing top 10 rows\n",
       "\n"
      ]
     },
     "execution_count": 156,
     "metadata": {},
     "output_type": "execute_result"
    }
   ],
   "source": [
    "%%sql\n",
    "SELECT order_month, count(1) from orders_part GROUP BY order_month"
   ]
  },
  {
   "cell_type": "code",
   "execution_count": 157,
   "id": "616343a5-a5e5-4d92-89b5-a998f84b17a5",
   "metadata": {},
   "outputs": [
    {
     "data": {
      "text/plain": [
       "+----------+--------+\n",
       "|order_year|count(1)|\n",
       "+----------+--------+\n",
       "|      2014|   38778|\n",
       "|      2013|   30105|\n",
       "+----------+--------+\n",
       "\n"
      ]
     },
     "execution_count": 157,
     "metadata": {},
     "output_type": "execute_result"
    }
   ],
   "source": [
    "%%sql\n",
    "SELECT DATE_FORMAT(order_date,'YYYY') order_year, COUNT(1) FROM orders GROUP BY DATE_FORMAT(order_date,'YYYY')"
   ]
  },
  {
   "cell_type": "code",
   "execution_count": 158,
   "id": "b8ffd27e-978c-4a98-8c57-5c8907aa7610",
   "metadata": {},
   "outputs": [
    {
     "data": {
      "text/plain": [
       "+----------+--------+\n",
       "|order_year|count(1)|\n",
       "+----------+--------+\n",
       "|      2014|   38778|\n",
       "|      2013|   29866|\n",
       "+----------+--------+\n",
       "\n"
      ]
     },
     "execution_count": 158,
     "metadata": {},
     "output_type": "execute_result"
    }
   ],
   "source": [
    "%%sql\n",
    "SELECT DATE_FORMAT(order_date,'YYYY') order_year, COUNT(1) FROM orders_part GROUP BY DATE_FORMAT(order_date,'YYYY')"
   ]
  },
  {
   "cell_type": "code",
   "execution_count": null,
   "id": "ebdaaa92-71f1-4c20-93b1-ec99fdee6aa0",
   "metadata": {},
   "outputs": [],
   "source": []
  }
 ],
 "metadata": {
  "kernelspec": {
   "display_name": "Apache Toree - Scala",
   "language": "scala",
   "name": "apache_toree_scala"
  },
  "language_info": {
   "codemirror_mode": "text/x-scala",
   "file_extension": ".scala",
   "mimetype": "text/x-scala",
   "name": "scala",
   "pygments_lexer": "scala",
   "version": "2.11.12"
  }
 },
 "nbformat": 4,
 "nbformat_minor": 5
}
