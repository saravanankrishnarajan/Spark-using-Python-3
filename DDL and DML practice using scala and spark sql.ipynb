{
 "cells": [
  {
   "cell_type": "code",
   "execution_count": 1,
   "id": "cb47a8de-7db8-4370-b1ba-819f4aab0aee",
   "metadata": {},
   "outputs": [
    {
     "data": {
      "text/plain": [
       "username = itversity\n"
      ]
     },
     "metadata": {},
     "output_type": "display_data",
     "source": "user"
    },
    {
     "data": {
      "text/plain": [
       "itversity"
      ]
     },
     "execution_count": 1,
     "metadata": {},
     "output_type": "execute_result"
    }
   ],
   "source": [
    "val username = System.getProperty(\"user.name\")\n"
   ]
  },
  {
   "cell_type": "code",
   "execution_count": 2,
   "id": "e0d490d7-3a98-475f-8a56-6ab42443d02f",
   "metadata": {},
   "outputs": [
    {
     "data": {
      "text/plain": [
       "username = itversity\n",
       "spark = org.apache.spark.sql.SparkSession@3757f9e7\n"
      ]
     },
     "metadata": {},
     "output_type": "display_data",
     "source": "user"
    },
    {
     "data": {
      "text/plain": [
       "org.apache.spark.sql.SparkSession@3757f9e7"
      ]
     },
     "execution_count": 2,
     "metadata": {},
     "output_type": "execute_result"
    }
   ],
   "source": [
    "import org.apache.spark.sql.SparkSession\n",
    "\n",
    "val username = System.getProperty(\"user.name\")\n",
    "val spark = SparkSession.\n",
    "    builder.\n",
    "    config(\"spark.ui.port\", \"0\").\n",
    "    config(\"spark.sql.warehouse.dir\", s\"/user/${username}/warehouse\").\n",
    "    enableHiveSupport.\n",
    "    appName(s\"${username} | Spark SQL - Managing Tables - Basic DDL and DML\").\n",
    "    master(\"yarn\").\n",
    "    getOrCreate"
   ]
  },
  {
   "cell_type": "code",
   "execution_count": null,
   "id": "53e0c5fc-1e0e-42bd-838f-14f98461a493",
   "metadata": {},
   "outputs": [],
   "source": [
    "%%sql\n",
    "\n",
    "DROP DATABASE IF EXISTS itversity_sms CASCADE"
   ]
  },
  {
   "cell_type": "code",
   "execution_count": null,
   "id": "1b15cc57-925c-4dae-a0b6-fa0d88641a07",
   "metadata": {},
   "outputs": [],
   "source": [
    "%%sql\n",
    "\n",
    "CREATE DATABASE IF NOT EXISTS itversity_sms"
   ]
  },
  {
   "cell_type": "code",
   "execution_count": null,
   "id": "2d008f0d-9a90-4376-bf27-c0790b68f590",
   "metadata": {},
   "outputs": [],
   "source": [
    "%%sql\n",
    "\n",
    "USE itversity_sms"
   ]
  },
  {
   "cell_type": "code",
   "execution_count": null,
   "id": "6bb541b4-f28b-44c9-bba5-3b8428964e15",
   "metadata": {},
   "outputs": [],
   "source": [
    "%%sql\n",
    "\n",
    "CREATE TABLE students(\n",
    "    student_id INT,\n",
    "    student_first_name STRING,\n",
    "    student_last_name STRING,\n",
    "    student_phone_numbers ARRAY<STRING>,\n",
    "    student_address STRUCT<street:STRING, city:STRING, state:STRING, zip:STRING>\n",
    ") STORED AS TEXTFILE\n",
    "ROW FORMAT\n",
    "    DELIMITED FIELDS TERMINATED BY '\\t'\n",
    "    COLLECTION ITEMS TERMINATED BY ','"
   ]
  },
  {
   "cell_type": "code",
   "execution_count": null,
   "id": "24b1819b-d97a-4eaf-b303-dbc3f3a7f480",
   "metadata": {},
   "outputs": [],
   "source": [
    "%%sql\n",
    "DESCRIBE students"
   ]
  },
  {
   "cell_type": "code",
   "execution_count": null,
   "id": "c82950d6-f93f-4b93-aacb-f55bd4ed57e7",
   "metadata": {},
   "outputs": [],
   "source": [
    "%%sql\n",
    "\n",
    "INSERT INTO students VALUES(1,'Scott','Tiger',NULL,NULL)"
   ]
  },
  {
   "cell_type": "code",
   "execution_count": null,
   "id": "a970a595-d78d-40de-a93e-eb0117f40526",
   "metadata": {},
   "outputs": [],
   "source": [
    "%%sql \n",
    "\n",
    "SELECT * FROM students"
   ]
  },
  {
   "cell_type": "code",
   "execution_count": null,
   "id": "cf917409-990e-4dd2-aaac-42db704dbc7c",
   "metadata": {},
   "outputs": [],
   "source": [
    "%%sql\n",
    "\n",
    "INSERT INTO students VALUES (2, 'Donald', 'Duck', ARRAY('1234567890', '2345678901'), NULL)"
   ]
  },
  {
   "cell_type": "code",
   "execution_count": null,
   "id": "3e0883c8-cffd-4529-8adc-f3b201831091",
   "metadata": {},
   "outputs": [],
   "source": [
    "%%sql \n",
    "\n",
    "SELECT * FROM students"
   ]
  },
  {
   "cell_type": "code",
   "execution_count": null,
   "id": "1e18390c-c29b-4fe9-98ea-5993e8bccc49",
   "metadata": {},
   "outputs": [],
   "source": [
    "%%sql\n",
    "\n",
    "INSERT INTO students VALUES \n",
    "    (3, 'Mickey', 'Mouse', ARRAY('1234567890', '2345678901'), STRUCT('A Street', 'One City', 'Some State', '12345')),\n",
    "    (4, 'Bubble', 'Guppy', ARRAY('5678901234', '6789012345'), STRUCT('Bubbly Street', 'Guppy', 'La la land', '45678'))"
   ]
  },
  {
   "cell_type": "code",
   "execution_count": null,
   "id": "427547d3-5592-4f12-b1f6-fb155d55ce21",
   "metadata": {},
   "outputs": [],
   "source": [
    "%%sql \n",
    "\n",
    "SELECT * FROM students"
   ]
  },
  {
   "cell_type": "code",
   "execution_count": null,
   "id": "fbde65da-a325-4423-87a2-5b4e57595a18",
   "metadata": {},
   "outputs": [],
   "source": [
    "val username = System.getProperty(\"user.name\")"
   ]
  },
  {
   "cell_type": "code",
   "execution_count": null,
   "id": "525e870f-b292-40a6-8551-fef13bfe159d",
   "metadata": {},
   "outputs": [],
   "source": [
    "import sys.process._\n",
    "s\"hdfs dfs -ls /user/${username}/warehouse/${username}_sms.db/students\"!"
   ]
  },
  {
   "cell_type": "code",
   "execution_count": null,
   "id": "d8f4b6cb-473b-436e-a178-3706df7f29c8",
   "metadata": {},
   "outputs": [],
   "source": [
    "s\"hdfs dfs -cat /user/${username}/warehouse/${username}_sms.db/students/*\"!"
   ]
  },
  {
   "cell_type": "code",
   "execution_count": null,
   "id": "ba0dee80-e709-46be-9d51-aba20ec5fcda",
   "metadata": {},
   "outputs": [],
   "source": [
    "spark.sql(\"DROP DATABASE IF EXISTS itversity_sms CASCADE\")"
   ]
  },
  {
   "cell_type": "code",
   "execution_count": null,
   "id": "a19d2c46-4743-4265-bea5-48f642fa5c3e",
   "metadata": {},
   "outputs": [],
   "source": [
    "spark.sql(\"CREATE DATABASE IF NOT EXISTS itversity_sms\")"
   ]
  },
  {
   "cell_type": "code",
   "execution_count": null,
   "id": "a6b95220-c5f0-4588-84e3-261356eb2f4a",
   "metadata": {},
   "outputs": [],
   "source": [
    "spark.sql(\"USE itversity_sms\")"
   ]
  },
  {
   "cell_type": "code",
   "execution_count": null,
   "id": "9967e375-1cda-4645-89c2-1ec62e44b881",
   "metadata": {},
   "outputs": [],
   "source": [
    "spark.sql(\"DROP TABLE IF EXISTS students\")"
   ]
  },
  {
   "cell_type": "code",
   "execution_count": null,
   "id": "b309919a-fc86-4442-ab69-59bd8e0f5ef5",
   "metadata": {},
   "outputs": [],
   "source": [
    "spark.sql(\"\"\"\n",
    "CREATE TABLE students (\n",
    "    student_id INT,\n",
    "    student_first_name STRING,\n",
    "    student_last_name STRING,\n",
    "    student_phone_numbers ARRAY<STRING>,\n",
    "    student_address STRUCT<street:STRING, city:STRING, state:STRING, zip:STRING>\n",
    ") STORED AS TEXTFILE\n",
    "ROW FORMAT\n",
    "    DELIMITED FIELDS TERMINATED BY '\\t'\n",
    "    COLLECTION ITEMS TERMINATED BY ','\n",
    "    MAP KEYS TERMINATED BY ':'\n",
    "\"\"\")"
   ]
  },
  {
   "cell_type": "code",
   "execution_count": null,
   "id": "5495e279-2c8c-473b-ae8a-021f792ddc74",
   "metadata": {},
   "outputs": [],
   "source": [
    "spark.sql(\"INSERT INTO students VALUES (1, 'Scott', 'Tiger', NULL, NULL)\")"
   ]
  },
  {
   "cell_type": "code",
   "execution_count": null,
   "id": "0d4e7332-5112-4bfc-ada6-0c801303ef04",
   "metadata": {},
   "outputs": [],
   "source": [
    "spark.sql(\"INSERT INTO students VALUES (2, 'Donald', 'Duck', ARRAY('1234567890', '2345678901'), NULL)\")"
   ]
  },
  {
   "cell_type": "code",
   "execution_count": null,
   "id": "1f893627-0613-4244-b2b4-ba1a687008b9",
   "metadata": {},
   "outputs": [],
   "source": [
    "spark.sql(\"\"\"\n",
    "INSERT INTO students VALUES \n",
    "    (3, 'Mickey', 'Mouse', ARRAY('1234567890', '2345678901'), STRUCT('A Street', 'One City', 'Some State', '12345')),\n",
    "    (4, 'Bubble', 'Guppy', ARRAY('5678901234', '6789012345'), STRUCT('Bubbly Street', 'Guppy', 'La la land', '45678'))\n",
    "\"\"\")"
   ]
  },
  {
   "cell_type": "code",
   "execution_count": null,
   "id": "371ceb49-dc21-419e-b1c5-af4f71c696f8",
   "metadata": {},
   "outputs": [],
   "source": [
    "spark.sql(\"SELECT * FROM students\")"
   ]
  },
  {
   "cell_type": "code",
   "execution_count": null,
   "id": "35f3b3de-cab0-4cc6-9705-9211ffd17795",
   "metadata": {},
   "outputs": [],
   "source": [
    "%%sql\n",
    "\n",
    "SHOW CREATE TABLE students"
   ]
  },
  {
   "cell_type": "markdown",
   "id": "95e284f2-aa51-4c9e-9851-079655b3723e",
   "metadata": {},
   "source": [
    "### Adding comments"
   ]
  },
  {
   "cell_type": "code",
   "execution_count": null,
   "id": "faf94cd0-33fa-410a-b42b-1fb46fa35d6d",
   "metadata": {},
   "outputs": [],
   "source": [
    "%%sql\n",
    "\n",
    "use itversity_retail"
   ]
  },
  {
   "cell_type": "code",
   "execution_count": null,
   "id": "a5474a96-7491-43d2-96d3-8f7a1f81183d",
   "metadata": {},
   "outputs": [],
   "source": [
    "%%sql\n",
    "\n",
    "drop table if exists orders"
   ]
  },
  {
   "cell_type": "code",
   "execution_count": null,
   "id": "bb422eeb-9d0d-4326-8d61-8493dce480f5",
   "metadata": {},
   "outputs": [],
   "source": [
    "%%sql\n",
    "\n",
    "CREATE TABLE orders(\n",
    "    order_id INT COMMENT 'Unique order id',\n",
    "    order_date STRING COMMENT 'Date on which order is placed',\n",
    "    order_customer_id INT COMMENT 'Customer id who placed the order',\n",
    "    order_status STRING COMMENT 'Current status of the order'\n",
    ") COMMENT 'Table to save order level details'"
   ]
  },
  {
   "cell_type": "code",
   "execution_count": null,
   "id": "4f237ca7-5394-47c3-b928-a074de4e8083",
   "metadata": {},
   "outputs": [],
   "source": [
    "spark.sql(\"USE itversity_retail\")"
   ]
  },
  {
   "cell_type": "code",
   "execution_count": null,
   "id": "7ca03453-343f-4810-8dac-e930dae307aa",
   "metadata": {},
   "outputs": [],
   "source": [
    "spark.sql(\"DROP TABLE orders\")"
   ]
  },
  {
   "cell_type": "code",
   "execution_count": null,
   "id": "854d0d3f-1768-43a2-b0bd-f671a48dcc0c",
   "metadata": {},
   "outputs": [],
   "source": [
    "spark.sql(\"\"\"\n",
    "CREATE TABLE orders (\n",
    "  order_id STRING COMMENT 'Unique order id',\n",
    "  order_date STRING COMMENT 'Date on which order is placed',\n",
    "  order_customer_id INT COMMENT 'Customer id who placed the order',\n",
    "  order_status STRING COMMENT 'Current status of the order'\n",
    ") COMMENT 'Table to save order level details'\n",
    "\"\"\")"
   ]
  },
  {
   "cell_type": "code",
   "execution_count": null,
   "id": "6a50aa5e-c150-431e-8463-0b0664257e8c",
   "metadata": {},
   "outputs": [],
   "source": [
    "%%sql\n",
    "\n",
    "DESCRIBE orders"
   ]
  },
  {
   "cell_type": "code",
   "execution_count": null,
   "id": "cb48d2b9-80b3-4d56-afd9-f69ffd44bb1d",
   "metadata": {},
   "outputs": [],
   "source": [
    "%%sql\n",
    "\n",
    "DESCRIBE FORMATTED orders"
   ]
  },
  {
   "cell_type": "code",
   "execution_count": null,
   "id": "f69e3739-3b95-405d-8b2e-912f42e002a6",
   "metadata": {},
   "outputs": [],
   "source": [
    "spark.sql(\"DESCRIBE FORMATTED orders\").show(200, false) // Scala"
   ]
  },
  {
   "cell_type": "markdown",
   "id": "10c7d860-b251-483a-8028-c6bd3809b6a2",
   "metadata": {},
   "source": [
    "### Loading Data into Tables - Local"
   ]
  },
  {
   "cell_type": "code",
   "execution_count": null,
   "id": "91041ef5-5067-4228-8f4a-9993dbc948de",
   "metadata": {},
   "outputs": [],
   "source": [
    "%%sql\n",
    "\n",
    "USE itversity_retail"
   ]
  },
  {
   "cell_type": "code",
   "execution_count": null,
   "id": "dc7f6dac-80c5-46e9-aad4-600a6c0da159",
   "metadata": {},
   "outputs": [],
   "source": [
    "%%sql\n",
    "\n",
    "DROP TABLE orders"
   ]
  },
  {
   "cell_type": "code",
   "execution_count": null,
   "id": "46a5e319-8add-45fa-9205-76ab1b4bf1eb",
   "metadata": {},
   "outputs": [],
   "source": [
    "%%sql\n",
    "\n",
    "CREATE TABLE orders(\n",
    "    order_id INT comment 'Unique order id',\n",
    "    order_date STRING comment 'Date on which order is placed',\n",
    "    order_customer_id int comment 'Customer id who placed the order',\n",
    "    order_status string comment 'Current status of the order'\n",
    ") COMMENT 'Table to save order level details'\n",
    "ROW FORMAT DELIMITED FIELDS TERMINATED BY ','"
   ]
  },
  {
   "cell_type": "code",
   "execution_count": null,
   "id": "32a92e96-bc21-4268-8daf-8ae3f7bc9dbd",
   "metadata": {},
   "outputs": [],
   "source": [
    "%%sql\n",
    "\n",
    "LOAD DATA LOCAL INPATH '/data/retail_db/orders' INTO TABLE orders"
   ]
  },
  {
   "cell_type": "code",
   "execution_count": null,
   "id": "deb1a14d-dddc-4388-851f-0887f5b0d2fa",
   "metadata": {},
   "outputs": [],
   "source": [
    "%%sql\n",
    "\n",
    "SELECT * FROM orders LIMIT 10"
   ]
  },
  {
   "cell_type": "code",
   "execution_count": null,
   "id": "1e43ddc1-1a9c-417a-892d-ea39b99255b2",
   "metadata": {},
   "outputs": [],
   "source": [
    "%%sql\n",
    "\n",
    "SELECT count(1) FROM orders"
   ]
  },
  {
   "cell_type": "markdown",
   "id": "b2e1b9a6-2714-4e69-b4c8-408316b8cc92",
   "metadata": {},
   "source": [
    "## Loading Data into Tables - HDFS"
   ]
  },
  {
   "cell_type": "code",
   "execution_count": null,
   "id": "73fcabc4-0f4a-4b2f-8879-17ee2587760c",
   "metadata": {},
   "outputs": [],
   "source": [
    "import sys.process._\n",
    "\n",
    "val username = System.getProperty(\"user.name\")"
   ]
  },
  {
   "cell_type": "code",
   "execution_count": null,
   "id": "ea5b6a7c-0a4d-4947-b921-35f62d0aa607",
   "metadata": {},
   "outputs": [],
   "source": [
    "s\"hadoop fs -rm -R /user/${username}/retail_db/orders\"!"
   ]
  },
  {
   "cell_type": "code",
   "execution_count": null,
   "id": "7434e924-365f-4534-a52f-f6a239062268",
   "metadata": {},
   "outputs": [],
   "source": [
    "s\"hadoop fs -mkdir  /user/${username}/retail_db\"!"
   ]
  },
  {
   "cell_type": "code",
   "execution_count": null,
   "id": "3d5a5852-17ba-44c6-b5bc-ffd84ada5c80",
   "metadata": {},
   "outputs": [],
   "source": [
    "s\"hadoop fs -put -f /data/retail_db/orders  /user/${username}/retail_db\"!"
   ]
  },
  {
   "cell_type": "code",
   "execution_count": null,
   "id": "d3e5a535-794d-4c27-a132-1f297cefc81f",
   "metadata": {},
   "outputs": [],
   "source": [
    "s\"hadoop fs -ls -h /user/${username}/retail_db/orders\"!"
   ]
  },
  {
   "cell_type": "code",
   "execution_count": null,
   "id": "f94cdae7-f4a4-4167-8541-5e23c6ae5ee5",
   "metadata": {},
   "outputs": [],
   "source": [
    "%%sql\n",
    "\n",
    "USE itversity_retail"
   ]
  },
  {
   "cell_type": "code",
   "execution_count": null,
   "id": "9abe2f17-c90b-4e97-9640-02add7f54430",
   "metadata": {},
   "outputs": [],
   "source": [
    "%%sql\n",
    "\n",
    "select * from orders"
   ]
  },
  {
   "cell_type": "code",
   "execution_count": null,
   "id": "76ecbc4b-044a-45c7-9227-930701200d5e",
   "metadata": {},
   "outputs": [],
   "source": [
    "%%sql\n",
    "\n",
    "TRUNCATE TABLE orders"
   ]
  },
  {
   "cell_type": "code",
   "execution_count": null,
   "id": "2d5a9725-87a1-44e5-ae58-25f7d2415f1f",
   "metadata": {},
   "outputs": [],
   "source": [
    "%%sql\n",
    "\n",
    "LOAD DATA INPATH '/user/itversity/retail_db/orders' into table orders"
   ]
  },
  {
   "cell_type": "code",
   "execution_count": null,
   "id": "14e68940-1927-4a88-bf00-77556c18279c",
   "metadata": {},
   "outputs": [],
   "source": [
    "s\"hadoop fs -ls /user/${username}/warehouse/${username}_retail.db/orders\"!"
   ]
  },
  {
   "cell_type": "code",
   "execution_count": null,
   "id": "fdec194d-384b-42d5-898b-a2bb44ce2e9b",
   "metadata": {},
   "outputs": [],
   "source": [
    "s\"hadoop fs -ls /user/${username}/retail_db/orders\"!"
   ]
  },
  {
   "cell_type": "code",
   "execution_count": null,
   "id": "37ce91c9-1b7d-4145-bbfc-c76404057d9d",
   "metadata": {},
   "outputs": [],
   "source": [
    "spark.sql(\"select count(1) from ORDERS\").show()"
   ]
  },
  {
   "cell_type": "code",
   "execution_count": null,
   "id": "c628dd99-434d-44ec-a48a-a616b6f679de",
   "metadata": {},
   "outputs": [],
   "source": [
    "s\"hadoop fs -rm -R /user/${username}/retail_db/orders\"!"
   ]
  },
  {
   "cell_type": "code",
   "execution_count": null,
   "id": "bd0a0a98-df34-46ba-9057-d3da10d7404b",
   "metadata": {},
   "outputs": [],
   "source": [
    "s\"hadoop fs -mkdir  /user/${username}/retail_db\"!"
   ]
  },
  {
   "cell_type": "code",
   "execution_count": null,
   "id": "a4fc29ae-b65a-4c27-9b09-1e9249c8bdff",
   "metadata": {},
   "outputs": [],
   "source": [
    "s\"hadoop fs -put /data/retail_db/orders /user/${username}/retail_db\""
   ]
  },
  {
   "cell_type": "code",
   "execution_count": null,
   "id": "07b158ff-29a0-4c7f-a6c6-3852c439608e",
   "metadata": {},
   "outputs": [],
   "source": [
    "s\"hadoop fs -put -f /data/retail_db/orders /user/${username}/retail_db\" !"
   ]
  },
  {
   "cell_type": "code",
   "execution_count": null,
   "id": "adf1cb30-61a0-4c62-9477-83e4ca7ef7a9",
   "metadata": {},
   "outputs": [],
   "source": [
    "spark.sql(\"USE itversity_retail\")"
   ]
  },
  {
   "cell_type": "code",
   "execution_count": null,
   "id": "3be97682-0923-49ea-b635-df871b5839a9",
   "metadata": {},
   "outputs": [],
   "source": [
    "spark.sql(\"TRUNCATE TABLE orders\")"
   ]
  },
  {
   "cell_type": "code",
   "execution_count": null,
   "id": "3577d184-9afe-48b7-b425-88aedf0f9fc6",
   "metadata": {},
   "outputs": [],
   "source": [
    "spark.sql(\"\"\"\n",
    "LOAD DATA INPATH '/user/itversity/retail_db/orders' \n",
    "  INTO TABLE orders\"\"\")"
   ]
  },
  {
   "cell_type": "code",
   "execution_count": null,
   "id": "e08de11d-0303-404b-936f-044bf6f9eded",
   "metadata": {},
   "outputs": [],
   "source": [
    "s\"hadoop fs -ls /user/${username}/retail_db/orders\" !"
   ]
  },
  {
   "cell_type": "code",
   "execution_count": null,
   "id": "75fd5ad1-377b-4210-b122-75ba8a94a060",
   "metadata": {},
   "outputs": [],
   "source": [
    "spark.sql(\"SELECT * FROM orders LIMIT 10\").show()"
   ]
  },
  {
   "cell_type": "code",
   "execution_count": null,
   "id": "7c6f6c28-aea3-4a01-91f8-f66841f98e95",
   "metadata": {},
   "outputs": [],
   "source": [
    "spark.sql(\"SELECT count(1) FROM orders\").show()"
   ]
  },
  {
   "cell_type": "markdown",
   "id": "be491648-c579-435d-8208-d046d5c67516",
   "metadata": {},
   "source": [
    "## Loading Data - Append and Overwrite"
   ]
  },
  {
   "cell_type": "code",
   "execution_count": null,
   "id": "63810177-d076-498d-9578-3ac64c88cb5c",
   "metadata": {},
   "outputs": [],
   "source": [
    "%%sql\n",
    "\n",
    "USE itversity_retail"
   ]
  },
  {
   "cell_type": "code",
   "execution_count": null,
   "id": "107049f7-8e3b-4267-bc2f-860279dec864",
   "metadata": {},
   "outputs": [],
   "source": [
    "%%sql\n",
    "\n",
    "SELECT count(1) FROM orders"
   ]
  },
  {
   "cell_type": "code",
   "execution_count": null,
   "id": "fad86ce6-c793-46be-a3f7-c24614525220",
   "metadata": {},
   "outputs": [],
   "source": [
    "s\"hdfs dfs -ls /user/${username}/warehouse/${username}_retail.db/orders\" !"
   ]
  },
  {
   "cell_type": "code",
   "execution_count": null,
   "id": "16e0dcaa-27a3-4fc9-be9e-109dc627c25d",
   "metadata": {},
   "outputs": [],
   "source": [
    "%%sql \n",
    "\n",
    "LOAD DATA LOCAL INPATH '/data/retail_db/orders' INTO TABLE orders"
   ]
  },
  {
   "cell_type": "code",
   "execution_count": null,
   "id": "e93601c6-de7e-402d-adae-9c9f95ad8d86",
   "metadata": {},
   "outputs": [],
   "source": [
    "%%sql\n",
    "\n",
    "SELECT count(1) FROM orders"
   ]
  },
  {
   "cell_type": "code",
   "execution_count": null,
   "id": "9dac17b4-db40-4d76-b799-e0421e3c5a2c",
   "metadata": {},
   "outputs": [],
   "source": [
    "s\"hdfs dfs -ls /user/${username}/warehouse/${username}_retail.db/orders\" !"
   ]
  },
  {
   "cell_type": "code",
   "execution_count": null,
   "id": "4241ef9d-252a-40ca-9300-4c9f68b689ea",
   "metadata": {},
   "outputs": [],
   "source": [
    "%%sql\n",
    "\n",
    "LOAD DATA LOCAL INPATH '/data/retail_db/orders' \n",
    "  OVERWRITE INTO TABLE orders"
   ]
  },
  {
   "cell_type": "code",
   "execution_count": null,
   "id": "4b6a2ed5-e95a-45e7-ad3f-255100d2daad",
   "metadata": {},
   "outputs": [],
   "source": [
    "s\"hdfs dfs -ls /user/${username}/warehouse/${username}_retail.db/orders\" !"
   ]
  },
  {
   "cell_type": "code",
   "execution_count": null,
   "id": "b281f40d-ae57-422f-9c84-5172a165650f",
   "metadata": {},
   "outputs": [],
   "source": [
    "%%sql\n",
    "\n",
    "SELECT count(1) FROM orders"
   ]
  },
  {
   "cell_type": "code",
   "execution_count": null,
   "id": "d6ce3629-6455-43fa-a8e8-8593ba9e28be",
   "metadata": {},
   "outputs": [],
   "source": [
    "spark.sql(\"USE itversity_retail\")"
   ]
  },
  {
   "cell_type": "code",
   "execution_count": null,
   "id": "a719fc70-c032-4abd-9a38-4ae78258d158",
   "metadata": {},
   "outputs": [],
   "source": [
    "spark.sql(\"SELECT count(1) FROM orders\").show()"
   ]
  },
  {
   "cell_type": "code",
   "execution_count": null,
   "id": "4a0bce3a-76c0-4651-8f4f-f4e181458642",
   "metadata": {},
   "outputs": [],
   "source": [
    "s\"hdfs dfs -ls /user/${username}/warehouse/${username}_retail.db/orders\" !"
   ]
  },
  {
   "cell_type": "code",
   "execution_count": null,
   "id": "f2486f09-0afa-4e44-8c58-c1f83cad6fab",
   "metadata": {},
   "outputs": [],
   "source": [
    "spark.sql(\"\"\"\n",
    "LOAD DATA LOCAL INPATH '/data/retail_db/orders' \n",
    "  INTO TABLE orders\n",
    "\"\"\")"
   ]
  },
  {
   "cell_type": "code",
   "execution_count": null,
   "id": "3e133a59-0c07-4c07-96f4-b6c587bd422f",
   "metadata": {},
   "outputs": [],
   "source": [
    "s\"hdfs dfs -ls /user/${username}/warehouse/${username}_retail.db/orders\" !"
   ]
  },
  {
   "cell_type": "code",
   "execution_count": null,
   "id": "22d5e55b-5c26-4d5d-ba3b-8255b87239c2",
   "metadata": {},
   "outputs": [],
   "source": [
    "spark.sql(\"SELECT count(1) FROM orders\").show()"
   ]
  },
  {
   "cell_type": "code",
   "execution_count": null,
   "id": "5552b9b2-bce5-484e-859a-d9732f1c7ca3",
   "metadata": {},
   "outputs": [],
   "source": [
    "spark.sql(\"\"\"\n",
    "LOAD DATA LOCAL INPATH '/data/retail_db/orders' \n",
    "  OVERWRITE INTO TABLE orders\n",
    "\"\"\")"
   ]
  },
  {
   "cell_type": "code",
   "execution_count": null,
   "id": "5d74c2cc-5b5f-46eb-8814-a129ab9abecf",
   "metadata": {},
   "outputs": [],
   "source": [
    "s\"hdfs dfs -ls /user/${username}/warehouse/${username}_retail.db/orders\" !"
   ]
  },
  {
   "cell_type": "code",
   "execution_count": null,
   "id": "819be659-9e16-4440-94da-f3bba9df265c",
   "metadata": {},
   "outputs": [],
   "source": [
    "spark.sql(\"SELECT count(1) FROM orders\").show()"
   ]
  },
  {
   "cell_type": "code",
   "execution_count": null,
   "id": "9a113eb7-d28f-48db-ba1e-7e1a522b7391",
   "metadata": {},
   "outputs": [],
   "source": [
    "%%sql\n",
    "\n",
    "DROP TABLE IF EXISTS orders"
   ]
  },
  {
   "cell_type": "code",
   "execution_count": null,
   "id": "5de53658-b051-4e27-9f4d-0a6d44bf19ae",
   "metadata": {},
   "outputs": [],
   "source": [
    "s\"hdfs dfs -rm -R /user/${username}/external/retail_db/orders\"!"
   ]
  },
  {
   "cell_type": "code",
   "execution_count": null,
   "id": "10bf13ce-6690-48e7-b099-41ad1791e562",
   "metadata": {},
   "outputs": [],
   "source": [
    "s\"hdfs dfs -mkdir -p /user/${username}/external/retail_db/orders\"!"
   ]
  },
  {
   "cell_type": "code",
   "execution_count": null,
   "id": "2fa0fa8c-4d95-4064-a79a-1cadd905de0e",
   "metadata": {},
   "outputs": [],
   "source": [
    "import sys.process._\n",
    "\n",
    "val username = System.getProperty(\"user.name\")"
   ]
  },
  {
   "cell_type": "code",
   "execution_count": null,
   "id": "88e6a773-94ee-4c7e-b3fa-1394adf665a9",
   "metadata": {},
   "outputs": [],
   "source": [
    "%%sql\n",
    "\n",
    "CREATE EXTERNAL TABLE orders(\n",
    "    order_id INT COMMENT 'Unique order id',\n",
    "    order_date STRING COMMENT 'Date on which order is placed',\n",
    "    order_customer_id INT COMMENT 'Customer id who placed the order',\n",
    "    order_status STRING COMMENT 'Current status of the order'\n",
    ") COMMENT 'Table to save order level details'\n",
    "ROW FORMAT DELIMITED FIELDS TERMINATED BY ','\n",
    "LOCATION '/user/itversity/external/retail_db/orders'"
   ]
  },
  {
   "cell_type": "code",
   "execution_count": null,
   "id": "f94ac653-4f94-46d9-af3f-6994857fbc88",
   "metadata": {},
   "outputs": [],
   "source": [
    "s\"hdfs dfs -ls /user/${username}/external/retail_db/orders\"!"
   ]
  },
  {
   "cell_type": "code",
   "execution_count": null,
   "id": "a0354134-b5a7-42d8-bf04-da3874f8487c",
   "metadata": {},
   "outputs": [],
   "source": [
    "%%sql\n",
    "\n",
    "LOAD DATA LOCAL INPATH '/data/retail_db/orders' INTO TABLE orders"
   ]
  },
  {
   "cell_type": "code",
   "execution_count": null,
   "id": "02f3b65b-c574-4460-a7c7-a5729d9376da",
   "metadata": {},
   "outputs": [],
   "source": [
    "%%sql\n",
    "\n",
    "SELECT COUNT(1) FROM orders"
   ]
  },
  {
   "cell_type": "code",
   "execution_count": null,
   "id": "d7f15c79-6ae9-4699-8022-a16d07d99d0b",
   "metadata": {},
   "outputs": [],
   "source": [
    "%%sql\n",
    "\n",
    "select * from orders limit 10"
   ]
  },
  {
   "cell_type": "code",
   "execution_count": null,
   "id": "56d55e04-a319-4a7a-9e31-5f8b97350a88",
   "metadata": {},
   "outputs": [],
   "source": [
    "spark.sql(\"DESCRIBE FORMATTED orders\").show(200, false)"
   ]
  },
  {
   "cell_type": "code",
   "execution_count": null,
   "id": "c25466ba-1a6c-49f2-8001-da21ea3e43e7",
   "metadata": {},
   "outputs": [],
   "source": [
    "spark.sql(\"DESCRIBE FORMATTED order_items\").show(200, false)"
   ]
  },
  {
   "cell_type": "markdown",
   "id": "1eca2728-ba9c-4731-ae4b-cd5b8c8ba111",
   "metadata": {},
   "source": [
    "## Managed Tables vs. External Tables"
   ]
  },
  {
   "cell_type": "code",
   "execution_count": null,
   "id": "dde64304-04f0-432c-93ab-7f677aae4fb3",
   "metadata": {},
   "outputs": [],
   "source": [
    "%%sql\n",
    "\n",
    "USE itversity_retail"
   ]
  },
  {
   "cell_type": "code",
   "execution_count": null,
   "id": "73667026-1f2a-4083-a1a4-5326ff996b56",
   "metadata": {},
   "outputs": [],
   "source": [
    "%%sql\n",
    "\n",
    "show tables"
   ]
  },
  {
   "cell_type": "code",
   "execution_count": null,
   "id": "ba28d1e6-b877-4476-885d-1a793dc04a47",
   "metadata": {},
   "outputs": [],
   "source": [
    "spark.sql(\"DESCRIBE FORMATTED orders\").show(200, false)"
   ]
  },
  {
   "cell_type": "code",
   "execution_count": null,
   "id": "ff0d0134-2475-44cd-b9da-3ed2c88f2114",
   "metadata": {},
   "outputs": [],
   "source": [
    "%%sql\n",
    "\n",
    "TRUNCATE TABLE orders"
   ]
  },
  {
   "cell_type": "code",
   "execution_count": null,
   "id": "189fb5cb-c7a8-4ec0-8c8c-bdba62fee2b5",
   "metadata": {},
   "outputs": [],
   "source": [
    "%%sql\n",
    "\n",
    "show tables"
   ]
  },
  {
   "cell_type": "code",
   "execution_count": null,
   "id": "03e456d0-5f45-433c-9eb9-72a36f6451b3",
   "metadata": {},
   "outputs": [],
   "source": [
    "spark.sql(\"DESCRIBE FORMATTED order_items\").show(200, false)"
   ]
  },
  {
   "cell_type": "code",
   "execution_count": null,
   "id": "7ceba014-a358-47c7-8180-e182498dc530",
   "metadata": {},
   "outputs": [],
   "source": [
    "%%sql\n",
    "\n",
    "TRUNCATE TABLE order_items"
   ]
  },
  {
   "cell_type": "code",
   "execution_count": null,
   "id": "9dbd21b3-cbfd-468a-ad15-dc8d66454a41",
   "metadata": {},
   "outputs": [],
   "source": [
    "%%sql\n",
    "\n",
    "SELECT COUNT(1) FROM orders"
   ]
  },
  {
   "cell_type": "code",
   "execution_count": null,
   "id": "1bd9d041-be2e-4bd0-b775-60ae86fd0205",
   "metadata": {},
   "outputs": [],
   "source": [
    "%%sql\n",
    "\n",
    "SELECT COUNT(1) FROM order_items"
   ]
  },
  {
   "cell_type": "code",
   "execution_count": null,
   "id": "e112f0df-b2b5-4fb0-adc2-3e38ed88ba88",
   "metadata": {},
   "outputs": [],
   "source": [
    "%%sql\n",
    "\n",
    "DROP TABLE orders"
   ]
  },
  {
   "cell_type": "code",
   "execution_count": null,
   "id": "69313899-28d3-44cf-bd66-314e7573e4f5",
   "metadata": {},
   "outputs": [],
   "source": [
    "import sys.process._\n",
    "\n",
    "s\"hdfs dfs -ls /user/${username}/external/retail_db/orders\" !"
   ]
  },
  {
   "cell_type": "code",
   "execution_count": null,
   "id": "c77b8b40-2d23-49cc-8da2-4a8bc189548b",
   "metadata": {},
   "outputs": [],
   "source": [
    "import sys.process._\n",
    "\n",
    "s\"hdfs dfs -ls /user/${username}/warehouse/itversity_retail.db\" !"
   ]
  },
  {
   "cell_type": "code",
   "execution_count": null,
   "id": "19aaa2b2-93b9-481d-8559-2050e674a0f9",
   "metadata": {},
   "outputs": [],
   "source": [
    "%%sql\n",
    "\n",
    "DROP TABLE order_items"
   ]
  },
  {
   "cell_type": "code",
   "execution_count": null,
   "id": "eca9e014-1603-452d-93ae-d04482d7d217",
   "metadata": {},
   "outputs": [],
   "source": [
    "import sys.process._\n",
    "\n",
    "s\"hdfs dfs -ls /user/${username}/warehouse/itversity_retail.db\" !"
   ]
  },
  {
   "cell_type": "code",
   "execution_count": null,
   "id": "b6528946-c4c5-40f2-b346-53de8aa9aadc",
   "metadata": {},
   "outputs": [],
   "source": [
    "%%sql\n",
    "\n",
    "CREATE EXTERNAL TABLE orders(\n",
    "    order_id INT COMMENT 'Unique order id',\n",
    "    order_date STRING COMMENT 'Date on which order is placed',\n",
    "    order_customer_id INT COMMENT 'Customer id who placed the order',\n",
    "    order_status STRING COMMENT 'Current status of the order'\n",
    ") COMMENT 'Table to save order level details'\n",
    "ROW FORMAT DELIMITED FIELDS TERMINATED BY ','\n",
    "LOCATION '/user/itversity/external/retail_db/orders'"
   ]
  },
  {
   "cell_type": "code",
   "execution_count": null,
   "id": "8bba23e2-07e0-4291-995f-cee03248d0c7",
   "metadata": {},
   "outputs": [],
   "source": [
    "%%sql\n",
    "\n",
    "SELECT COUNT(1) FROM orders"
   ]
  },
  {
   "cell_type": "code",
   "execution_count": null,
   "id": "8f91ae71-241c-45e7-9573-a9a0a7053213",
   "metadata": {},
   "outputs": [],
   "source": [
    "%%sql\n",
    "\n",
    "SELECT COUNT(1) FROM orders"
   ]
  },
  {
   "cell_type": "markdown",
   "id": "8eeca25b-adc7-46a7-9034-08f4295e42fc",
   "metadata": {},
   "source": [
    "## Overview of File Formats"
   ]
  },
  {
   "cell_type": "code",
   "execution_count": null,
   "id": "3055a20c-2433-49a7-ae89-336f10367662",
   "metadata": {},
   "outputs": [],
   "source": [
    "%%sql\n",
    "\n",
    "DROP DATABASE IF EXISTS itversity_sms CASCADE"
   ]
  },
  {
   "cell_type": "code",
   "execution_count": null,
   "id": "aa79e34b-efc5-4d67-849b-481723d1071e",
   "metadata": {},
   "outputs": [],
   "source": [
    "%%sql\n",
    "CREATE DATABASE IF NOT EXISTS itversity_sms"
   ]
  },
  {
   "cell_type": "code",
   "execution_count": null,
   "id": "878780d9-de9f-44b7-b855-99e1d6880cf4",
   "metadata": {},
   "outputs": [],
   "source": [
    "%%sql\n",
    "\n",
    "USE itversity_sms"
   ]
  },
  {
   "cell_type": "code",
   "execution_count": null,
   "id": "e6f1b849-7a82-4c48-a890-79626e3a4aae",
   "metadata": {},
   "outputs": [],
   "source": [
    "%%sql\n",
    "\n",
    "CREATE TABLE students(\n",
    "    student_id INT,\n",
    "    student_first_name STRING,\n",
    "    student_last_name STRING,\n",
    "    student_phone_numbers ARRAY<STRING>,\n",
    "    student_address STRUCT<street:STRING, city:STRING, state:STRING, zip:STRING>\n",
    ")stored as parquet"
   ]
  },
  {
   "cell_type": "code",
   "execution_count": null,
   "id": "eca7f1fa-263e-473e-8264-739dbe5211f2",
   "metadata": {},
   "outputs": [],
   "source": [
    "%%sql\n",
    "INSERT INTO students values (1,'Scott','Tiger', NULL, NULL)"
   ]
  },
  {
   "cell_type": "code",
   "execution_count": null,
   "id": "8294da87-8ba9-4d25-b29b-7783dee72df9",
   "metadata": {},
   "outputs": [],
   "source": [
    "%%sql\n",
    "\n",
    "INSERT INTO students VALUES(2, 'Donald', 'Duck', ARRAY('1234567890', '2345678901'),NULL)"
   ]
  },
  {
   "cell_type": "code",
   "execution_count": null,
   "id": "d08d2148-af6e-489e-935f-591bf27508fc",
   "metadata": {},
   "outputs": [],
   "source": [
    "%%sql\n",
    "\n",
    "INSERT INTO students VALUES \n",
    "    (3, 'Mickey', 'Mouse', ARRAY('1234567890', '2345678901'), STRUCT('A Street', 'One City', 'Some State', '12345')),\n",
    "    (4, 'Bubble', 'Guppy', ARRAY('5678901234', '6789012345'), STRUCT('Bubbly Street', 'Guppy', 'La la land', '45678'))"
   ]
  },
  {
   "cell_type": "code",
   "execution_count": null,
   "id": "4261a90c-1248-4bc3-b4a6-24b28eb3d331",
   "metadata": {},
   "outputs": [],
   "source": [
    "%%sql\n",
    "\n",
    "CREATE EXTERNAL TABLE students2(\n",
    "    student_id INT,\n",
    "    student_first_name STRING,\n",
    "    student_last_name STRING,\n",
    "    student_phone_numbers ARRAY<STRING>,\n",
    "    student_address STRUCT<street:STRING, city:STRING, state:STRING, zip:STRING>\n",
    ")\n",
    "STORED AS PARQUET\n",
    "LOCATION '/user/itversity/external/sms_db/students2/'\n"
   ]
  },
  {
   "cell_type": "code",
   "execution_count": null,
   "id": "90551210-283b-4ce5-bfa2-b5a725910262",
   "metadata": {},
   "outputs": [],
   "source": [
    "%%sql\n",
    "INSERT INTO students2 values (1,'Scott','Tiger', NULL, NULL)"
   ]
  },
  {
   "cell_type": "code",
   "execution_count": null,
   "id": "b725056d-df3a-41d5-963d-ab2fafa31147",
   "metadata": {},
   "outputs": [],
   "source": [
    "%%sql\n",
    "\n",
    "INSERT INTO students2 VALUES(2, 'Donald', 'Duck', ARRAY('1234567890', '2345678901'),NULL)"
   ]
  },
  {
   "cell_type": "code",
   "execution_count": null,
   "id": "567aa0c9-607a-485e-9324-8cb3fbe45302",
   "metadata": {},
   "outputs": [],
   "source": [
    "%%sql\n",
    "\n",
    "INSERT INTO students2 VALUES \n",
    "    (3, 'Mickey', 'Mouse', ARRAY('1234567890', '2345678901'), STRUCT('A Street', 'One City', 'Some State', '12345')),\n",
    "    (4, 'Bubble', 'Guppy', ARRAY('5678901234', '6789012345'), STRUCT('Bubbly Street', 'Guppy', 'La la land', '45678'))"
   ]
  },
  {
   "cell_type": "code",
   "execution_count": null,
   "id": "798058f5-71c8-423c-a515-da265dc397cd",
   "metadata": {},
   "outputs": [],
   "source": [
    "import sys.process._\n",
    "val username = System.getProperty(\"user.name\")"
   ]
  },
  {
   "cell_type": "code",
   "execution_count": null,
   "id": "350f2224-7f33-459e-8151-70c8c705a407",
   "metadata": {},
   "outputs": [],
   "source": []
  },
  {
   "cell_type": "code",
   "execution_count": null,
   "id": "a64f933d-ea66-4d07-bd4e-963a4cee9fed",
   "metadata": {},
   "outputs": [],
   "source": [
    "s\"hdfs dfs -ls /user/${username}/warehouse/${username}_sms.db/students\"!"
   ]
  },
  {
   "cell_type": "code",
   "execution_count": null,
   "id": "4f4101d0-26f8-4031-a04f-25518477e4d6",
   "metadata": {},
   "outputs": [],
   "source": [
    "s\"hdfs dfs -ls /user/${username}/external/sms_db/students2\"!"
   ]
  },
  {
   "cell_type": "code",
   "execution_count": null,
   "id": "93a856a5-e779-4f8c-92a6-3a4d289a8f55",
   "metadata": {},
   "outputs": [],
   "source": [
    "%%sql\n",
    "\n",
    "select count(1) from students"
   ]
  },
  {
   "cell_type": "code",
   "execution_count": null,
   "id": "d9d8383c-12ab-4e99-a2fe-aac2caa9b79e",
   "metadata": {},
   "outputs": [],
   "source": [
    "%%sql\n",
    "\n",
    "select count(1) from students2"
   ]
  },
  {
   "cell_type": "code",
   "execution_count": null,
   "id": "e82426df-729d-477a-8e48-a201884eb89d",
   "metadata": {},
   "outputs": [],
   "source": [
    "%%sql\n",
    "\n",
    "insert into students2 select * from students"
   ]
  },
  {
   "cell_type": "code",
   "execution_count": null,
   "id": "7f2f4f2d-4471-4383-87f5-0e6731bb3f5b",
   "metadata": {},
   "outputs": [],
   "source": [
    "s\"hdfs dfs -ls /user/${username}/external/sms_db/students2\"!"
   ]
  },
  {
   "cell_type": "code",
   "execution_count": null,
   "id": "bfba2af3-9a33-4e81-9d97-b0ea3ffdd2fb",
   "metadata": {},
   "outputs": [],
   "source": [
    "%%sql\n",
    "\n",
    "select count(1) from students2"
   ]
  },
  {
   "cell_type": "markdown",
   "id": "698f0a11-78a6-482a-9f36-c6343e874427",
   "metadata": {},
   "source": [
    "## Dropping Tables and Databases"
   ]
  },
  {
   "cell_type": "code",
   "execution_count": null,
   "id": "c3dfefd2-5a98-4467-8920-173c6f679df3",
   "metadata": {},
   "outputs": [],
   "source": [
    "%%sql\n",
    "\n",
    "CREATE DATABASE IF NOT EXISTS itversity_retail"
   ]
  },
  {
   "cell_type": "code",
   "execution_count": 4,
   "id": "a0b2c4e6-d3d7-4bae-a29a-03b8f3af3f7a",
   "metadata": {},
   "outputs": [
    {
     "data": {
      "text/plain": [
       "+-----------------+\n",
       "|     databaseName|\n",
       "+-----------------+\n",
       "|          default|\n",
       "|itiversity_retail|\n",
       "|   itversity_demo|\n",
       "|  itversity_demo2|\n",
       "|   itversity_nyse|\n",
       "| itversity_retail|\n",
       "|    itversity_sms|\n",
       "+-----------------+\n",
       "\n"
      ]
     },
     "execution_count": 4,
     "metadata": {},
     "output_type": "execute_result"
    }
   ],
   "source": [
    "%%sql\n",
    "\n",
    "SHOW databases"
   ]
  },
  {
   "cell_type": "code",
   "execution_count": null,
   "id": "dea0a5b2-8445-4c4c-a86d-a1b3c55e581d",
   "metadata": {},
   "outputs": [],
   "source": [
    "%%sql\n",
    "\n",
    "use itversity_retail"
   ]
  },
  {
   "cell_type": "code",
   "execution_count": null,
   "id": "26dfa73c-e44f-45e3-aa0d-2302509e94e4",
   "metadata": {},
   "outputs": [],
   "source": [
    "%%sql\n",
    "\n",
    "select current_database()"
   ]
  },
  {
   "cell_type": "code",
   "execution_count": null,
   "id": "eb6472d7-5490-4cc6-9df6-350773bea1ed",
   "metadata": {},
   "outputs": [],
   "source": [
    "%%sql\n",
    "\n",
    "DROP TABLE IF EXISTS orders"
   ]
  },
  {
   "cell_type": "code",
   "execution_count": null,
   "id": "c623cbec-07b9-466c-a38d-ad97d11730ff",
   "metadata": {},
   "outputs": [],
   "source": [
    "%%sql\n",
    "\n",
    "CREATE TABLE orders (\n",
    "  order_id INT,\n",
    "  order_date STRING,\n",
    "  order_customer_id INT,\n",
    "  order_status STRING\n",
    ") ROW FORMAT DELIMITED \n",
    "FIELDS TERMINATED BY ','"
   ]
  },
  {
   "cell_type": "code",
   "execution_count": null,
   "id": "1b3dd887-050e-4848-bbc2-b63df732784d",
   "metadata": {},
   "outputs": [],
   "source": [
    "%%sql\n",
    "\n",
    "show tables"
   ]
  },
  {
   "cell_type": "code",
   "execution_count": null,
   "id": "402e703e-82c5-4a5e-afa5-a14330f69627",
   "metadata": {},
   "outputs": [],
   "source": [
    "%%sql\n",
    "\n",
    "LOAD DATA LOCAL INPATH '/data/retail_db/orders'\n",
    "  INTO TABLE orders"
   ]
  },
  {
   "cell_type": "code",
   "execution_count": null,
   "id": "aaf2856e-2c84-4435-abc1-eed02afb6bee",
   "metadata": {},
   "outputs": [],
   "source": [
    "%%sql\n",
    "\n",
    "SELECT * FROM orders LIMIT 10"
   ]
  },
  {
   "cell_type": "code",
   "execution_count": null,
   "id": "7593ddaf-71d8-4d61-a9b5-feb84b4d06a8",
   "metadata": {},
   "outputs": [],
   "source": [
    "%%sql\n",
    "\n",
    "TRUNCATE TABLE orders"
   ]
  },
  {
   "cell_type": "code",
   "execution_count": null,
   "id": "4aca23ba-9042-4c01-8388-3b0b797ef3ca",
   "metadata": {},
   "outputs": [],
   "source": [
    "%%sql\n",
    "\n",
    "SELECT * FROM orders LIMIT 10"
   ]
  },
  {
   "cell_type": "code",
   "execution_count": null,
   "id": "c58eb40f-9485-4d15-9a0a-3d099f6f01ed",
   "metadata": {},
   "outputs": [],
   "source": [
    "%%sql\n",
    "\n",
    "DROP TABLE IF EXISTS orders"
   ]
  },
  {
   "cell_type": "code",
   "execution_count": null,
   "id": "7bdad686-9c1d-402f-b770-8adab7c5a4cd",
   "metadata": {},
   "outputs": [],
   "source": [
    "%%sql\n",
    "\n",
    "CREATE EXTERNAL TABLE orders (\n",
    "  order_id INT,\n",
    "  order_date STRING,\n",
    "  order_customer_id INT,\n",
    "  order_status STRING\n",
    ") ROW FORMAT DELIMITED FIELDS TERMINATED BY ','\n",
    "LOCATION '/user/itversity/external/retail_db/orders'"
   ]
  },
  {
   "cell_type": "code",
   "execution_count": null,
   "id": "d68b99a6-f60d-43e7-8d12-d819b0adec27",
   "metadata": {},
   "outputs": [],
   "source": [
    "%%sql\n",
    "\n",
    "LOAD DATA LOCAL INPATH '/data/retail_db/orders'\n",
    "  OVERWRITE INTO TABLE orders"
   ]
  },
  {
   "cell_type": "code",
   "execution_count": null,
   "id": "5e60493e-53ee-4100-85f5-a40896f3b5b7",
   "metadata": {},
   "outputs": [],
   "source": [
    "%%sql\n",
    "\n",
    "SELECT * FROM orders LIMIT 10"
   ]
  },
  {
   "cell_type": "code",
   "execution_count": null,
   "id": "1000041f-7e94-4d8f-b26a-a240ac3846bd",
   "metadata": {},
   "outputs": [],
   "source": [
    "%%sql\n",
    "\n",
    "TRUNCATE TABLE orders"
   ]
  },
  {
   "cell_type": "markdown",
   "id": "55218614-40f7-4c84-8e41-ed733cbec063",
   "metadata": {},
   "source": [
    "## Managed Tables - Exercise"
   ]
  },
  {
   "cell_type": "markdown",
   "id": "0af25740-bb09-4c5f-82c6-ede897c73f54",
   "metadata": {},
   "source": [
    "* Duration: **30 Minutes**\n",
    "* Data Location (Local): /data/nyse_all/nyse_data\n",
    "* Create a database with the name - YOUR_OS_USER_NAME_nyse\n",
    "* Table Name: nyse_eod\n",
    "* File Format: TEXTFILE (default)\n",
    "* Review the files by running Linux commands before using data sets. Data is compressed and we can load the files as is.\n",
    "* Copy one of the zip file to your home directory and preview the data. There should be 7 fields. You need to determine the delimiter.\n",
    "* Field Names: stockticker, tradedate, openprice, highprice, lowprice, closeprice, volume. For example, you need to use `BIGINT` for volume not `INT`.\n",
    "* Determine correct data types based on the values\n",
    "* Create Managed table with default Delimiter.\n",
    "> As delimiters in data and table are not same, you need to figure out how to get data into the target table.\n",
    "* Make sure the data is copied into the table as per the structure defined and validate."
   ]
  },
  {
   "cell_type": "code",
   "execution_count": null,
   "id": "a53aa70c-d50a-4f2f-9460-e3c884d494ba",
   "metadata": {},
   "outputs": [],
   "source": [
    "%%sql\n",
    "\n",
    "CREATE DATABASE itversity_nyse"
   ]
  },
  {
   "cell_type": "code",
   "execution_count": 3,
   "id": "8e666ac3-454c-408f-80f5-292d7f0f5340",
   "metadata": {},
   "outputs": [
    {
     "data": {
      "text/plain": [
       "Waiting for a Spark session to start..."
      ]
     },
     "metadata": {},
     "output_type": "display_data",
     "source": "user"
    },
    {
     "data": {
      "text/plain": [
       "++\n",
       "||\n",
       "++\n",
       "++\n",
       "\n"
      ]
     },
     "execution_count": 3,
     "metadata": {},
     "output_type": "execute_result"
    }
   ],
   "source": [
    "%%sql\n",
    "\n",
    "use itversity_nyse"
   ]
  },
  {
   "cell_type": "code",
   "execution_count": 4,
   "id": "085e0eb1-8f06-438d-b161-374893d6cbe9",
   "metadata": {},
   "outputs": [
    {
     "data": {
      "text/plain": [
       "username = itversity\n"
      ]
     },
     "metadata": {},
     "output_type": "display_data",
     "source": "user"
    },
    {
     "data": {
      "text/plain": [
       "itversity"
      ]
     },
     "execution_count": 4,
     "metadata": {},
     "output_type": "execute_result"
    }
   ],
   "source": [
    "val username = System.getProperty(\"user.name\")"
   ]
  },
  {
   "cell_type": "code",
   "execution_count": 5,
   "id": "54c281b4-e1fb-47e6-b641-92314dd28415",
   "metadata": {},
   "outputs": [
    {
     "name": "stdout",
     "output_type": "stream",
     "text": [
      "Found 6 items\n",
      "drwxr-xr-x   - itversity supergroup          0 2024-01-31 12:56 /user/itversity/.sparkStaging\n",
      "drwxr-xr-x   - itversity supergroup          0 2024-01-30 08:05 /user/itversity/custom\n",
      "drwxr-xr-x   - itversity supergroup          0 2024-01-31 10:46 /user/itversity/external\n",
      "drwxr-xr-x   - itversity supergroup          0 2024-01-31 12:52 /user/itversity/nyse\n",
      "drwxr-xr-x   - itversity supergroup          0 2024-01-31 12:07 /user/itversity/retail_db\n",
      "drwxr-xr-x   - itversity supergroup          0 2024-01-31 12:06 /user/itversity/warehouse\n"
     ]
    },
    {
     "data": {
      "text/plain": [
       "warning: there was one feature warning; re-run with -feature for details\n"
      ]
     },
     "metadata": {},
     "output_type": "display_data",
     "source": "user"
    },
    {
     "data": {
      "text/plain": [
       "0"
      ]
     },
     "execution_count": 5,
     "metadata": {},
     "output_type": "execute_result"
    }
   ],
   "source": [
    "import sys.process._\n",
    "\n",
    "s\"hdfs dfs -ls /user/itversity/\"!"
   ]
  },
  {
   "cell_type": "code",
   "execution_count": 7,
   "id": "efe08dca-e2a0-4d94-921f-0228314708fc",
   "metadata": {},
   "outputs": [
    {
     "name": "stdout",
     "output_type": "stream",
     "text": [
      "put: `/user/itversity/nyse/companylist_noheader.csv': File exists\n",
      "put: `/user/itversity/nyse/nyse_data.tar.gz': File exists\n"
     ]
    },
    {
     "data": {
      "text/plain": [
       "warning: there was one feature warning; re-run with -feature for details\n"
      ]
     },
     "metadata": {},
     "output_type": "display_data",
     "source": "user"
    },
    {
     "data": {
      "text/plain": [
       "1"
      ]
     },
     "execution_count": 7,
     "metadata": {},
     "output_type": "execute_result"
    }
   ],
   "source": [
    "s\"hdfs dfs -put /data/nyse /user/itversity\"!"
   ]
  },
  {
   "cell_type": "code",
   "execution_count": null,
   "id": "e004d3c6-da06-4819-9284-1a29b60cb1f6",
   "metadata": {},
   "outputs": [],
   "source": [
    "s\"hdfs dfs -ls -h /user/itversity/nyse\"!"
   ]
  },
  {
   "cell_type": "code",
   "execution_count": null,
   "id": "2c23edc6-39ae-4b34-98dd-18c93c7cdab2",
   "metadata": {},
   "outputs": [],
   "source": [
    "itversity@itvdelab:/data/nyse$ hadoop fs -cat /user/itversity/nyse/nyse_data.tar.gz | gunzip | head\n",
    "nyse_2009.csv000644 000765 000024 00143612340 12426275613 015600 0ustar00kavithapenmetsastaff000000 000000 A,01-Jan-2009,15.63,15.63,15.63,15.63,0\n",
    "AA,01-Jan-2009,11.26,11.26,11.26,11.26,0\n",
    "AAP,01-Jan-2009,33.65,33.65,33.65,33.65,0\n",
    "AAV,01-Jan-2009,4.21,4.21,4.21,4.21,0\n",
    "AB,01-Jan-2009,20.79,20.79,20.79,20.79,0\n",
    "ABB,01-Jan-2009,15.01,15.01,15.01,15.01,0\n",
    "ABC,01-Jan-2009,17.83,17.83,17.83,17.83,0\n",
    "ABG,01-Jan-2009,4.57,4.57,4.57,4.57,0\n",
    "ABM,01-Jan-2009,19.05,19.05,19.05,19.05,0\n",
    "ABR,01-Jan-2009,2.95,2.95,2.95,2.95,0\n",
    "cat: Unable to write to output stream."
   ]
  },
  {
   "cell_type": "code",
   "execution_count": null,
   "id": "215dad11-ad40-4bc6-bb89-01fd211f6314",
   "metadata": {
    "tags": []
   },
   "outputs": [],
   "source": [
    "s\"hadoop fs -cat /user/itversity/nyse/nyse_data.tar.gz | gunzip | head\"!"
   ]
  },
  {
   "cell_type": "code",
   "execution_count": 7,
   "id": "8700ef6e-57df-4a81-95c8-c9134e20d256",
   "metadata": {},
   "outputs": [
    {
     "data": {
      "text/plain": [
       "++\n",
       "||\n",
       "++\n",
       "++\n",
       "\n"
      ]
     },
     "execution_count": 7,
     "metadata": {},
     "output_type": "execute_result"
    }
   ],
   "source": [
    "%%sql\n",
    "\n",
    "CREATE TABLE nyse_eod(\n",
    "    stockticker STRING, \n",
    "    tradedate STRING, \n",
    "    openprice DOUBLE, \n",
    "    highprice DOUBLE, \n",
    "    lowprice DOUBLE, \n",
    "    closeprice DOUBLE, \n",
    "    volume BIGINT\n",
    ") ROW FORMAT DELIMITED\n",
    "FIELDS TERMINATED BY ','"
   ]
  },
  {
   "cell_type": "code",
   "execution_count": null,
   "id": "8ad8bcb6-996b-4182-9072-64444c6f832c",
   "metadata": {},
   "outputs": [],
   "source": [
    "s\"hadoop fs -cat /user/itversity/nyse/nyse_data.tar.gz | gzip -d | hadoop fs -put - /user/itversity/nyse/nyse_data.txt\"!"
   ]
  },
  {
   "cell_type": "code",
   "execution_count": 8,
   "id": "e080bf7e-6673-44d6-8f87-bb632d88758c",
   "metadata": {},
   "outputs": [
    {
     "data": {
      "text/plain": [
       "++\n",
       "||\n",
       "++\n",
       "++\n",
       "\n"
      ]
     },
     "execution_count": 8,
     "metadata": {},
     "output_type": "execute_result"
    }
   ],
   "source": [
    "%%sql\n",
    "\n",
    "load data inpath '/user/itversity/nyse/nyse_data.txt' into table nyse_eod"
   ]
  },
  {
   "cell_type": "code",
   "execution_count": 13,
   "id": "7fe337b5-ef0b-4ff2-81c8-ced425a78496",
   "metadata": {},
   "outputs": [
    {
     "data": {
      "text/plain": [
       "+--------+\n",
       "|count(1)|\n",
       "+--------+\n",
       "| 3471693|\n",
       "+--------+\n",
       "\n"
      ]
     },
     "execution_count": 13,
     "metadata": {},
     "output_type": "execute_result"
    }
   ],
   "source": [
    "%%sql\n",
    "\n",
    "select count(1) from nyse_eod"
   ]
  },
  {
   "cell_type": "code",
   "execution_count": 15,
   "id": "27cadf91-89c1-42e4-a57d-a45816e867d6",
   "metadata": {},
   "outputs": [
    {
     "data": {
      "text/plain": [
       "|nyse_2009.csv????...|01-Jan-2009|    15.63|    15.63|   15.63|     15.63|     0|\n",
       "|                 ABB|01-Jan-2009|    15.01|    15.01|   15.0...\n"
      ]
     },
     "metadata": {},
     "output_type": "display_data",
     "source": "user"
    },
    {
     "data": {
      "text/plain": [
       "+--------------------+-----------+---------+---------+--------+----------+------+\n",
       "|         stockticker|  tradedate|openprice|highprice|lowprice|closeprice|volume|\n",
       "+--------------------+-----------+---------+---------+--------+----------+------+\n",
       "|nyse_2009.csv\u0000\u0000\u0000\u0000...|01-Jan-2009|    15.63|    15.63|   15.63|     15.63|     0|\n",
       "|                  AA|01-Jan-2009|    11.26|    11.26|   11.26|     11.26|     0|\n",
       "|                 AAP|01-Jan-2009|    33.65|    33.65|   33.65|     33.65|     0|\n",
       "|                 AAV|01-Jan-2009|     4.21|     4.21|    4.21|      4.21|     0|\n",
       "|                  AB|01-Jan-2009|    20.79|    20.79|   20.79|     20.79|     0|\n",
       "|                 ABB|01-Jan-2009|    15.01|    15.01|   15.01|     15.01|     0|\n",
       "|                 ABC|01-Jan-2009|    17.83|    17.83|   17.83|     17.83|     0|\n",
       "|                 ABG|01-Jan-2009|     4.57|     4.57|    4.57|      4.57|     0|\n",
       "|                 ABM|01-Jan-2009|    19.05|    19.05|   19.05|     19.05|     0|\n",
       "|                 ABR|01-Jan-2009|     2.95|     2.95|    2.95|      2.95|     0|\n",
       "+--------------------+-----------+---------+---------+--------+----------+------+\n",
       "only showing top 10 rows\n",
       "\n"
      ]
     },
     "execution_count": 15,
     "metadata": {},
     "output_type": "execute_result"
    }
   ],
   "source": [
    "%%sql \n",
    "\n",
    "select * from nyse_eod"
   ]
  },
  {
   "cell_type": "code",
   "execution_count": null,
   "id": "ad658ffc-3f3d-4c64-b24c-a78699fb1b7f",
   "metadata": {},
   "outputs": [],
   "source": []
  }
 ],
 "metadata": {
  "kernelspec": {
   "display_name": "Apache Toree - Scala",
   "language": "scala",
   "name": "apache_toree_scala"
  },
  "language_info": {
   "codemirror_mode": "text/x-scala",
   "file_extension": ".scala",
   "mimetype": "text/x-scala",
   "name": "scala",
   "pygments_lexer": "scala",
   "version": "2.11.12"
  }
 },
 "nbformat": 4,
 "nbformat_minor": 5
}
