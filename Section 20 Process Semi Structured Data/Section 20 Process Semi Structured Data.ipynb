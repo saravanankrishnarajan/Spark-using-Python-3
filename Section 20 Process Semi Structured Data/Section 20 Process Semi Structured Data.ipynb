{
 "cells": [
  {
   "cell_type": "markdown",
   "id": "532b4756",
   "metadata": {},
   "source": [
    "## Section 20: Process Semi Structured Data"
   ]
  },
  {
   "cell_type": "code",
   "execution_count": 1,
   "id": "4118e3cd",
   "metadata": {},
   "outputs": [
    {
     "name": "stdout",
     "output_type": "stream",
     "text": [
      "total 20156\n",
      "drwxr-xr-x 2 itv011204 students     4096 Feb 21 09:58 products\n",
      "drwxr-xr-x 2 itv011204 students     4096 Feb 21 09:58 categories\n",
      "drwxr-xr-x 2 itv011204 students     4096 Feb 21 09:58 departments\n",
      "drwxr-xr-x 2 itv011204 students     4096 Feb 21 09:58 orders\n",
      "drwxr-xr-x 2 itv011204 students     4096 Feb 21 09:58 customers\n",
      "drwxr-xr-x 2 itv011204 students     4096 Feb 21 09:58 order_items\n",
      "-rw-r--r-- 1 itv011204 students     1748 Feb 21 10:06 create_db_tables_pg.sql\n",
      "-rw-r--r-- 1 itv011204 students      806 Feb 21 10:06 README.md\n",
      "-rw-r--r-- 1 itv011204 students 10303297 Feb 21 10:06 create_db.sql\n",
      "-rw-r--r-- 1 itv011204 students 10297372 Feb 21 10:06 load_db_tables_pg.sql\n"
     ]
    }
   ],
   "source": [
    "!ls -ltr ../data/retail_db"
   ]
  },
  {
   "cell_type": "code",
   "execution_count": 5,
   "id": "7e3965c8",
   "metadata": {},
   "outputs": [
    {
     "name": "stdout",
     "output_type": "stream",
     "text": [
      "total 28\n",
      "drwxr-xr-x 2 itv011204 students 4096 Feb 21 10:06 products\n",
      "drwxr-xr-x 2 itv011204 students 4096 Feb 21 10:06 order_details\n",
      "drwxr-xr-x 2 itv011204 students 4096 Feb 21 10:06 categories\n",
      "drwxr-xr-x 2 itv011204 students 4096 Feb 21 10:06 departments\n",
      "drwxr-xr-x 2 itv011204 students 4096 Feb 21 10:06 orders\n",
      "drwxr-xr-x 2 itv011204 students 4096 Feb 21 10:06 order_items\n",
      "drwxr-xr-x 2 itv011204 students 4096 Feb 21 10:06 customers\n"
     ]
    }
   ],
   "source": [
    "!ls -ltr ../data/retail_db_json/"
   ]
  },
  {
   "cell_type": "code",
   "execution_count": 6,
   "id": "e44bd25a",
   "metadata": {},
   "outputs": [
    {
     "name": "stdout",
     "output_type": "stream",
     "text": [
      "total 3036\n",
      "-rwxr-xr-x 1 itv011204 students       0 Feb 21 10:06 _SUCCESS\n",
      "-rwxr-xr-x 1 itv011204 students 3105168 Feb 21 10:06 part-r-00000-70554560-527b-44f6-9e80-4e2031af5994\n"
     ]
    }
   ],
   "source": [
    "!ls -ltr ../data/retail_db_json/customers"
   ]
  },
  {
   "cell_type": "code",
   "execution_count": 10,
   "id": "d22725f1",
   "metadata": {},
   "outputs": [
    {
     "name": "stdout",
     "output_type": "stream",
     "text": [
      "{\"customer_id\":12431,\"customer_fname\":\"Mary\",\"customer_lname\":\"Rios\",\"customer_email\":\"XXXXXXXXX\",\"customer_password\":\"XXXXXXXXX\",\"customer_street\":\"1221 Cinder Pines\",\"customer_city\":\"Kaneohe\",\"customer_state\":\"HI\",\"customer_zipcode\":\"96744\"}\n",
      "{\"customer_id\":12432,\"customer_fname\":\"Angela\",\"customer_lname\":\"Smith\",\"customer_email\":\"XXXXXXXXX\",\"customer_password\":\"XXXXXXXXX\",\"customer_street\":\"1525 Jagged Barn Highlands\",\"customer_city\":\"Caguas\",\"customer_state\":\"PR\",\"customer_zipcode\":\"00725\"}\n",
      "{\"customer_id\":12433,\"customer_fname\":\"Benjamin\",\"customer_lname\":\"Garcia\",\"customer_email\":\"XXXXXXXXX\",\"customer_password\":\"XXXXXXXXX\",\"customer_street\":\"5459 Noble Brook Landing\",\"customer_city\":\"Levittown\",\"customer_state\":\"NY\",\"customer_zipcode\":\"11756\"}\n",
      "{\"customer_id\":12434,\"customer_fname\":\"Mary\",\"customer_lname\":\"Mills\",\"customer_email\":\"XXXXXXXXX\",\"customer_password\":\"XXXXXXXXX\",\"customer_street\":\"9720 Colonial Parade\",\"customer_city\":\"Caguas\",\"customer_state\":\"PR\",\"customer_zipcode\":\"00725\"}\n",
      "{\"customer_id\":12435,\"customer_fname\":\"Laura\",\"customer_lname\":\"Horton\",\"customer_email\":\"XXXXXXXXX\",\"customer_password\":\"XXXXXXXXX\",\"customer_street\":\"5736 Honey Downs\",\"customer_city\":\"Summerville\",\"customer_state\":\"SC\",\"customer_zipcode\":\"29483\"}\n"
     ]
    }
   ],
   "source": [
    "!tail -n 5 ../data/retail_db_json/customers/part-r-00000-70554560-527b-44f6-9e80-4e2031af5994"
   ]
  },
  {
   "cell_type": "code",
   "execution_count": 11,
   "id": "8471b3b0",
   "metadata": {},
   "outputs": [
    {
     "name": "stdout",
     "output_type": "stream",
     "text": [
      "total 7304\n",
      "-rwxr-xr-x 1 itv011204 students       0 Feb 21 10:06 _SUCCESS\n",
      "-rwxr-xr-x 1 itv011204 students 7477339 Feb 21 10:06 part-r-00000-990f5773-9005-49ba-b670-631286032674\n"
     ]
    }
   ],
   "source": [
    "!ls -ltr ../data/retail_db_json/orders/"
   ]
  },
  {
   "cell_type": "code",
   "execution_count": 12,
   "id": "d6c6bcd3",
   "metadata": {},
   "outputs": [
    {
     "name": "stdout",
     "output_type": "stream",
     "text": [
      "{\"order_id\":68879,\"order_date\":\"2014-07-09 00:00:00.0\",\"order_customer_id\":778,\"order_status\":\"COMPLETE\"}\n",
      "{\"order_id\":68880,\"order_date\":\"2014-07-13 00:00:00.0\",\"order_customer_id\":1117,\"order_status\":\"COMPLETE\"}\n",
      "{\"order_id\":68881,\"order_date\":\"2014-07-19 00:00:00.0\",\"order_customer_id\":2518,\"order_status\":\"PENDING_PAYMENT\"}\n",
      "{\"order_id\":68882,\"order_date\":\"2014-07-22 00:00:00.0\",\"order_customer_id\":10000,\"order_status\":\"ON_HOLD\"}\n",
      "{\"order_id\":68883,\"order_date\":\"2014-07-23 00:00:00.0\",\"order_customer_id\":5533,\"order_status\":\"COMPLETE\"}\n"
     ]
    }
   ],
   "source": [
    "!tail -n 5 ../data/retail_db_json/orders/part-r-00000-990f5773-9005-49ba-b670-631286032674"
   ]
  },
  {
   "cell_type": "code",
   "execution_count": 13,
   "id": "7c6ef0bf",
   "metadata": {},
   "outputs": [
    {
     "name": "stdout",
     "output_type": "stream",
     "text": [
      "{\"order_item_id\":172194,\"order_item_order_id\":68881,\"order_item_product_id\":403,\"order_item_quantity\":1,\"order_item_subtotal\":129.99,\"order_item_product_price\":129.99}\n",
      "{\"order_item_id\":172195,\"order_item_order_id\":68882,\"order_item_product_id\":365,\"order_item_quantity\":1,\"order_item_subtotal\":59.99,\"order_item_product_price\":59.99}\n",
      "{\"order_item_id\":172196,\"order_item_order_id\":68882,\"order_item_product_id\":502,\"order_item_quantity\":1,\"order_item_subtotal\":50.0,\"order_item_product_price\":50.0}\n",
      "{\"order_item_id\":172197,\"order_item_order_id\":68883,\"order_item_product_id\":208,\"order_item_quantity\":1,\"order_item_subtotal\":1999.99,\"order_item_product_price\":1999.99}\n",
      "{\"order_item_id\":172198,\"order_item_order_id\":68883,\"order_item_product_id\":502,\"order_item_quantity\":3,\"order_item_subtotal\":150.0,\"order_item_product_price\":50.0}\n"
     ]
    }
   ],
   "source": [
    "!tail -n 5 ../data/retail_db_json/order_items/part-r-00000-6b83977e-3f20-404b-9b5f-29376ab1419e"
   ]
  },
  {
   "cell_type": "code",
   "execution_count": 14,
   "id": "ea212ea3",
   "metadata": {},
   "outputs": [],
   "source": [
    "!hdfs dfs -put -f ../data/retail_db_json /user/`whoami`"
   ]
  },
  {
   "cell_type": "code",
   "execution_count": 15,
   "id": "e5ad3e9e",
   "metadata": {},
   "outputs": [
    {
     "name": "stdout",
     "output_type": "stream",
     "text": [
      "drwxr-xr-x   - itv011204 supergroup          0 2024-02-21 16:02 /user/itv011204/retail_db_json/categories\n",
      "-rw-r--r--   3 itv011204 supergroup          0 2024-02-21 16:02 /user/itv011204/retail_db_json/categories/_SUCCESS\n",
      "-rw-r--r--   3 itv011204 supergroup       4451 2024-02-21 16:02 /user/itv011204/retail_db_json/categories/part-r-00000-ce1d8208-178d-48d3-bfb2-1a97d9c05094\n",
      "drwxr-xr-x   - itv011204 supergroup          0 2024-02-21 16:02 /user/itv011204/retail_db_json/customers\n",
      "-rw-r--r--   3 itv011204 supergroup          0 2024-02-21 16:02 /user/itv011204/retail_db_json/customers/_SUCCESS\n",
      "-rw-r--r--   3 itv011204 supergroup    3105168 2024-02-21 16:02 /user/itv011204/retail_db_json/customers/part-r-00000-70554560-527b-44f6-9e80-4e2031af5994\n",
      "drwxr-xr-x   - itv011204 supergroup          0 2024-02-21 16:02 /user/itv011204/retail_db_json/departments\n",
      "-rw-r--r--   3 itv011204 supergroup          0 2024-02-21 16:02 /user/itv011204/retail_db_json/departments/_SUCCESS\n",
      "-rw-r--r--   3 itv011204 supergroup        288 2024-02-21 16:02 /user/itv011204/retail_db_json/departments/part-r-00000-3db7cfae-3ad2-4fc7-88ff-afe0ec709f49\n",
      "drwxr-xr-x   - itv011204 supergroup          0 2024-02-21 16:02 /user/itv011204/retail_db_json/order_details\n",
      "-rw-r--r--   3 itv011204 supergroup   31301656 2024-02-21 16:02 /user/itv011204/retail_db_json/order_details/order_details.json\n",
      "drwxr-xr-x   - itv011204 supergroup          0 2024-02-21 16:02 /user/itv011204/retail_db_json/order_items\n",
      "-rw-r--r--   3 itv011204 supergroup          0 2024-02-21 16:02 /user/itv011204/retail_db_json/order_items/_SUCCESS\n",
      "-rw-r--r--   3 itv011204 supergroup   28655610 2024-02-21 16:02 /user/itv011204/retail_db_json/order_items/part-r-00000-6b83977e-3f20-404b-9b5f-29376ab1419e\n",
      "drwxr-xr-x   - itv011204 supergroup          0 2024-02-21 16:02 /user/itv011204/retail_db_json/orders\n",
      "-rw-r--r--   3 itv011204 supergroup          0 2024-02-21 16:02 /user/itv011204/retail_db_json/orders/_SUCCESS\n",
      "-rw-r--r--   3 itv011204 supergroup    7477339 2024-02-21 16:02 /user/itv011204/retail_db_json/orders/part-r-00000-990f5773-9005-49ba-b670-631286032674\n",
      "drwxr-xr-x   - itv011204 supergroup          0 2024-02-21 16:02 /user/itv011204/retail_db_json/products\n",
      "-rw-r--r--   3 itv011204 supergroup          0 2024-02-21 16:02 /user/itv011204/retail_db_json/products/_SUCCESS\n",
      "-rw-r--r--   3 itv011204 supergroup     324978 2024-02-21 16:02 /user/itv011204/retail_db_json/products/part-r-00000-158b7037-4a23-47e6-8cb3-8cbf878beff7\n"
     ]
    }
   ],
   "source": [
    "!hdfs dfs -ls -R /user/`whoami`/retail_db_json"
   ]
  },
  {
   "cell_type": "code",
   "execution_count": 16,
   "id": "44a5f83e",
   "metadata": {},
   "outputs": [],
   "source": [
    "from pyspark.sql import SparkSession\n",
    "\n",
    "import getpass\n",
    "\n",
    "username = getpass.getuser()"
   ]
  },
  {
   "cell_type": "code",
   "execution_count": 17,
   "id": "56751eaf",
   "metadata": {},
   "outputs": [],
   "source": [
    "spark = SparkSession. \\\n",
    "    builder. \\\n",
    "    config('spark.ui.port','0'). \\\n",
    "    config('spark.sql.warehouse.dir',f'/user/{username}/warehouse'). \\\n",
    "    enableHiveSupport(). \\\n",
    "    appName(f'{username} | Section 19 Semi Structured Data'). \\\n",
    "    master('yarn'). \\\n",
    "    getOrCreate()\n",
    "    "
   ]
  },
  {
   "cell_type": "code",
   "execution_count": 19,
   "id": "93f3f605",
   "metadata": {},
   "outputs": [],
   "source": [
    "orders = spark.read.json(f'/user/{username}/retail_db_json/orders')"
   ]
  },
  {
   "cell_type": "code",
   "execution_count": 20,
   "id": "531216f8",
   "metadata": {},
   "outputs": [
    {
     "name": "stdout",
     "output_type": "stream",
     "text": [
      "root\n",
      " |-- order_customer_id: long (nullable = true)\n",
      " |-- order_date: string (nullable = true)\n",
      " |-- order_id: long (nullable = true)\n",
      " |-- order_status: string (nullable = true)\n",
      "\n"
     ]
    }
   ],
   "source": [
    "orders.printSchema()"
   ]
  },
  {
   "cell_type": "code",
   "execution_count": 21,
   "id": "e9595f0e",
   "metadata": {},
   "outputs": [
    {
     "name": "stdout",
     "output_type": "stream",
     "text": [
      "+-----------------+--------------------+--------+---------------+\n",
      "|order_customer_id|          order_date|order_id|   order_status|\n",
      "+-----------------+--------------------+--------+---------------+\n",
      "|            11599|2013-07-25 00:00:...|       1|         CLOSED|\n",
      "|              256|2013-07-25 00:00:...|       2|PENDING_PAYMENT|\n",
      "|            12111|2013-07-25 00:00:...|       3|       COMPLETE|\n",
      "|             8827|2013-07-25 00:00:...|       4|         CLOSED|\n",
      "|            11318|2013-07-25 00:00:...|       5|       COMPLETE|\n",
      "+-----------------+--------------------+--------+---------------+\n",
      "only showing top 5 rows\n",
      "\n"
     ]
    }
   ],
   "source": [
    "orders.show(5)"
   ]
  },
  {
   "cell_type": "code",
   "execution_count": 22,
   "id": "dad66d39",
   "metadata": {},
   "outputs": [],
   "source": [
    "order_items = spark.read.json(f'/user/{username}/retail_db_json/order_items')"
   ]
  },
  {
   "cell_type": "code",
   "execution_count": 23,
   "id": "2bfeee77",
   "metadata": {},
   "outputs": [
    {
     "name": "stdout",
     "output_type": "stream",
     "text": [
      "root\n",
      " |-- order_item_id: long (nullable = true)\n",
      " |-- order_item_order_id: long (nullable = true)\n",
      " |-- order_item_product_id: long (nullable = true)\n",
      " |-- order_item_product_price: double (nullable = true)\n",
      " |-- order_item_quantity: long (nullable = true)\n",
      " |-- order_item_subtotal: double (nullable = true)\n",
      "\n"
     ]
    }
   ],
   "source": [
    "order_items.printSchema()"
   ]
  },
  {
   "cell_type": "code",
   "execution_count": 24,
   "id": "90f16fe0",
   "metadata": {},
   "outputs": [
    {
     "name": "stdout",
     "output_type": "stream",
     "text": [
      "+-------------+-------------------+---------------------+------------------------+-------------------+-------------------+\n",
      "|order_item_id|order_item_order_id|order_item_product_id|order_item_product_price|order_item_quantity|order_item_subtotal|\n",
      "+-------------+-------------------+---------------------+------------------------+-------------------+-------------------+\n",
      "|            1|                  1|                  957|                  299.98|                  1|             299.98|\n",
      "|            2|                  2|                 1073|                  199.99|                  1|             199.99|\n",
      "|            3|                  2|                  502|                    50.0|                  5|              250.0|\n",
      "|            4|                  2|                  403|                  129.99|                  1|             129.99|\n",
      "|            5|                  4|                  897|                   24.99|                  2|              49.98|\n",
      "+-------------+-------------------+---------------------+------------------------+-------------------+-------------------+\n",
      "only showing top 5 rows\n",
      "\n"
     ]
    }
   ],
   "source": [
    "order_items.show(5)"
   ]
  },
  {
   "cell_type": "code",
   "execution_count": 25,
   "id": "eec63430",
   "metadata": {},
   "outputs": [],
   "source": [
    "customers = spark.read.json(f'/user/{username}/retail_db_json/customers')"
   ]
  },
  {
   "cell_type": "code",
   "execution_count": 26,
   "id": "109e2cd8",
   "metadata": {},
   "outputs": [
    {
     "name": "stdout",
     "output_type": "stream",
     "text": [
      "root\n",
      " |-- customer_city: string (nullable = true)\n",
      " |-- customer_email: string (nullable = true)\n",
      " |-- customer_fname: string (nullable = true)\n",
      " |-- customer_id: long (nullable = true)\n",
      " |-- customer_lname: string (nullable = true)\n",
      " |-- customer_password: string (nullable = true)\n",
      " |-- customer_state: string (nullable = true)\n",
      " |-- customer_street: string (nullable = true)\n",
      " |-- customer_zipcode: string (nullable = true)\n",
      "\n"
     ]
    }
   ],
   "source": [
    "customers.printSchema()"
   ]
  },
  {
   "cell_type": "code",
   "execution_count": 27,
   "id": "214cf678",
   "metadata": {},
   "outputs": [
    {
     "name": "stdout",
     "output_type": "stream",
     "text": [
      "+-------------+--------------+--------------+-----------+--------------+-----------------+--------------+--------------------+----------------+\n",
      "|customer_city|customer_email|customer_fname|customer_id|customer_lname|customer_password|customer_state|     customer_street|customer_zipcode|\n",
      "+-------------+--------------+--------------+-----------+--------------+-----------------+--------------+--------------------+----------------+\n",
      "|  Brownsville|     XXXXXXXXX|       Richard|          1|     Hernandez|        XXXXXXXXX|            TX|  6303 Heather Plaza|           78521|\n",
      "|    Littleton|     XXXXXXXXX|          Mary|          2|       Barrett|        XXXXXXXXX|            CO|9526 Noble Embers...|           80126|\n",
      "|       Caguas|     XXXXXXXXX|           Ann|          3|         Smith|        XXXXXXXXX|            PR|3422 Blue Pioneer...|           00725|\n",
      "|   San Marcos|     XXXXXXXXX|          Mary|          4|         Jones|        XXXXXXXXX|            CA|  8324 Little Common|           92069|\n",
      "|       Caguas|     XXXXXXXXX|        Robert|          5|        Hudson|        XXXXXXXXX|            PR|\"10 Crystal River...|           00725|\n",
      "+-------------+--------------+--------------+-----------+--------------+-----------------+--------------+--------------------+----------------+\n",
      "only showing top 5 rows\n",
      "\n"
     ]
    }
   ],
   "source": [
    "customers.show(5)"
   ]
  },
  {
   "cell_type": "code",
   "execution_count": 28,
   "id": "3918d279",
   "metadata": {},
   "outputs": [
    {
     "data": {
      "text/plain": [
       "12435"
      ]
     },
     "execution_count": 28,
     "metadata": {},
     "output_type": "execute_result"
    }
   ],
   "source": [
    "customers.count()"
   ]
  },
  {
   "cell_type": "code",
   "execution_count": 29,
   "id": "604931f9",
   "metadata": {},
   "outputs": [
    {
     "data": {
      "text/plain": [
       "68883"
      ]
     },
     "execution_count": 29,
     "metadata": {},
     "output_type": "execute_result"
    }
   ],
   "source": [
    "orders.count()"
   ]
  },
  {
   "cell_type": "code",
   "execution_count": 30,
   "id": "a9d9f3b6",
   "metadata": {},
   "outputs": [],
   "source": [
    "customer_orders = customers. \\\n",
    "    join(\n",
    "        orders,\n",
    "        on= customers['customer_id']== orders['order_customer_id'] \n",
    "    )"
   ]
  },
  {
   "cell_type": "code",
   "execution_count": 32,
   "id": "69924353",
   "metadata": {},
   "outputs": [
    {
     "data": {
      "text/plain": [
       "68883"
      ]
     },
     "execution_count": 32,
     "metadata": {},
     "output_type": "execute_result"
    }
   ],
   "source": [
    "customer_orders.count()"
   ]
  },
  {
   "cell_type": "code",
   "execution_count": 33,
   "id": "adaacca2",
   "metadata": {},
   "outputs": [
    {
     "name": "stdout",
     "output_type": "stream",
     "text": [
      "+-------------+--------------+--------------+-----------+--------------+-----------------+--------------+--------------------+----------------+-----------------+--------------------+--------+---------------+\n",
      "|customer_city|customer_email|customer_fname|customer_id|customer_lname|customer_password|customer_state|     customer_street|customer_zipcode|order_customer_id|          order_date|order_id|   order_status|\n",
      "+-------------+--------------+--------------+-----------+--------------+-----------------+--------------+--------------------+----------------+-----------------+--------------------+--------+---------------+\n",
      "|      Hickory|     XXXXXXXXX|          Mary|      11599|        Malone|        XXXXXXXXX|            NC|8708 Indian Horse...|           28601|            11599|2013-07-25 00:00:...|       1|         CLOSED|\n",
      "|      Chicago|     XXXXXXXXX|         David|        256|     Rodriguez|        XXXXXXXXX|            IL|7605 Tawny Horse ...|           60625|              256|2013-07-25 00:00:...|       2|PENDING_PAYMENT|\n",
      "|   Santa Cruz|     XXXXXXXXX|         Amber|      12111|        Franco|        XXXXXXXXX|            CA|8766 Clear Prairi...|           95060|            12111|2013-07-25 00:00:...|       3|       COMPLETE|\n",
      "|  San Antonio|     XXXXXXXXX|         Brian|       8827|        Wilson|        XXXXXXXXX|            TX|   8396 High Corners|           78240|             8827|2013-07-25 00:00:...|       4|         CLOSED|\n",
      "|       Caguas|     XXXXXXXXX|          Mary|      11318|         Henry|        XXXXXXXXX|            PR|3047 Silent Ember...|           00725|            11318|2013-07-25 00:00:...|       5|       COMPLETE|\n",
      "+-------------+--------------+--------------+-----------+--------------+-----------------+--------------+--------------------+----------------+-----------------+--------------------+--------+---------------+\n",
      "only showing top 5 rows\n",
      "\n"
     ]
    }
   ],
   "source": [
    "customer_orders.show(5)"
   ]
  },
  {
   "cell_type": "code",
   "execution_count": 34,
   "id": "739245f3",
   "metadata": {},
   "outputs": [
    {
     "name": "stdout",
     "output_type": "stream",
     "text": [
      "+-----------+-----+\n",
      "|customer_id|count|\n",
      "+-----------+-----+\n",
      "|       7747|    7|\n",
      "|      10156|   10|\n",
      "|      10959|    7|\n",
      "|       3764|    7|\n",
      "|      12044|    6|\n",
      "+-----------+-----+\n",
      "only showing top 5 rows\n",
      "\n"
     ]
    }
   ],
   "source": [
    "customer_orders. \\\n",
    "    groupBy('customer_id'). \\\n",
    "    count(). \\\n",
    "    show(5)"
   ]
  },
  {
   "cell_type": "code",
   "execution_count": 36,
   "id": "2c8e2b0c",
   "metadata": {},
   "outputs": [
    {
     "name": "stdout",
     "output_type": "stream",
     "text": [
      "+-----------+--------+--------------------+---------------+\n",
      "|customer_id|order_id|          order_date|   order_status|\n",
      "+-----------+--------+--------------------+---------------+\n",
      "|          1|   22945|2013-12-13 00:00:...|       COMPLETE|\n",
      "|          2|   67863|2013-11-30 00:00:...|       COMPLETE|\n",
      "|          2|   15192|2013-10-29 00:00:...|PENDING_PAYMENT|\n",
      "|          2|   57963|2013-08-02 00:00:...|        ON_HOLD|\n",
      "|          2|   33865|2014-02-18 00:00:...|       COMPLETE|\n",
      "+-----------+--------+--------------------+---------------+\n",
      "only showing top 5 rows\n",
      "\n"
     ]
    }
   ],
   "source": [
    "customer_orders. \\\n",
    "    select('customer_id', 'order_id', 'order_date', 'order_status'). \\\n",
    "    orderBy('customer_id'). \\\n",
    "    show(5)"
   ]
  },
  {
   "cell_type": "code",
   "execution_count": 38,
   "id": "9d46d81e",
   "metadata": {},
   "outputs": [],
   "source": [
    "from pyspark.sql.functions import struct"
   ]
  },
  {
   "cell_type": "code",
   "execution_count": 40,
   "id": "8bb69abc",
   "metadata": {},
   "outputs": [
    {
     "name": "stdout",
     "output_type": "stream",
     "text": [
      "+-----------+-------------------------------------------+\n",
      "|customer_id|order_details                              |\n",
      "+-----------+-------------------------------------------+\n",
      "|11599      |{1, 2013-07-25 00:00:00.0, CLOSED}         |\n",
      "|256        |{2, 2013-07-25 00:00:00.0, PENDING_PAYMENT}|\n",
      "|12111      |{3, 2013-07-25 00:00:00.0, COMPLETE}       |\n",
      "|8827       |{4, 2013-07-25 00:00:00.0, CLOSED}         |\n",
      "|11318      |{5, 2013-07-25 00:00:00.0, COMPLETE}       |\n",
      "+-----------+-------------------------------------------+\n",
      "only showing top 5 rows\n",
      "\n"
     ]
    }
   ],
   "source": [
    "customer_orders. \\\n",
    "    select('customer_id', struct('order_id', 'order_date', 'order_status').alias('order_details')). \\\n",
    "    show(5,truncate=False)\n",
    "    "
   ]
  },
  {
   "cell_type": "code",
   "execution_count": 41,
   "id": "9cfa55c8",
   "metadata": {},
   "outputs": [
    {
     "name": "stdout",
     "output_type": "stream",
     "text": [
      "root\n",
      " |-- customer_id: long (nullable = true)\n",
      " |-- order_details: struct (nullable = false)\n",
      " |    |-- order_id: long (nullable = true)\n",
      " |    |-- order_date: string (nullable = true)\n",
      " |    |-- order_status: string (nullable = true)\n",
      "\n"
     ]
    }
   ],
   "source": [
    "customer_orders. \\\n",
    "    select('customer_id', struct('order_id', 'order_date', 'order_status').alias('order_details')). \\\n",
    "    printSchema()"
   ]
  },
  {
   "cell_type": "code",
   "execution_count": 42,
   "id": "d83f7f16",
   "metadata": {},
   "outputs": [
    {
     "name": "stdout",
     "output_type": "stream",
     "text": [
      "+-----------+-----------------------------------------------+\n",
      "|customer_id|order_details                                  |\n",
      "+-----------+-----------------------------------------------+\n",
      "|1          |{22945, 2013-12-13 00:00:00.0, COMPLETE}       |\n",
      "|2          |{67863, 2013-11-30 00:00:00.0, COMPLETE}       |\n",
      "|2          |{15192, 2013-10-29 00:00:00.0, PENDING_PAYMENT}|\n",
      "|2          |{57963, 2013-08-02 00:00:00.0, ON_HOLD}        |\n",
      "|2          |{33865, 2014-02-18 00:00:00.0, COMPLETE}       |\n",
      "+-----------+-----------------------------------------------+\n",
      "only showing top 5 rows\n",
      "\n"
     ]
    }
   ],
   "source": [
    "customer_orders. \\\n",
    "    select('customer_id', struct('order_id', 'order_date', 'order_status').alias('order_details')). \\\n",
    "    orderBy('customer_id'). \\\n",
    "    show(5,truncate=False)"
   ]
  },
  {
   "cell_type": "code",
   "execution_count": 43,
   "id": "0f8725ce",
   "metadata": {},
   "outputs": [
    {
     "name": "stdout",
     "output_type": "stream",
     "text": [
      "+-----------+-----+\n",
      "|customer_id|count|\n",
      "+-----------+-----+\n",
      "|          1|    1|\n",
      "|          2|    4|\n",
      "|          3|    7|\n",
      "|          4|    6|\n",
      "|          5|    4|\n",
      "+-----------+-----+\n",
      "only showing top 5 rows\n",
      "\n"
     ]
    }
   ],
   "source": [
    "customer_orders. \\\n",
    "    groupBy('customer_id'). \\\n",
    "    count(). \\\n",
    "    orderBy('customer_id'). \\\n",
    "    show(5)"
   ]
  },
  {
   "cell_type": "code",
   "execution_count": 45,
   "id": "4ecaa318",
   "metadata": {},
   "outputs": [],
   "source": [
    "from pyspark.sql.functions import collect_list,count"
   ]
  },
  {
   "cell_type": "code",
   "execution_count": 48,
   "id": "0424c7ed",
   "metadata": {},
   "outputs": [
    {
     "name": "stdout",
     "output_type": "stream",
     "text": [
      "+-----------+-----------+\n",
      "|customer_id|order_count|\n",
      "+-----------+-----------+\n",
      "|          1|          1|\n",
      "|          2|          4|\n",
      "|          3|          7|\n",
      "|          4|          6|\n",
      "|          5|          4|\n",
      "+-----------+-----------+\n",
      "only showing top 5 rows\n",
      "\n"
     ]
    }
   ],
   "source": [
    "customer_orders. \\\n",
    "    groupBy('customer_id'). \\\n",
    "    agg(count('*').alias('order_count')). \\\n",
    "    orderBy('customer_id'). \\\n",
    "    show(5)"
   ]
  },
  {
   "cell_type": "code",
   "execution_count": 49,
   "id": "7fe9a964",
   "metadata": {},
   "outputs": [],
   "source": [
    "from pyspark.sql.functions import collect_list"
   ]
  },
  {
   "cell_type": "code",
   "execution_count": 50,
   "id": "76534373",
   "metadata": {},
   "outputs": [],
   "source": [
    "customer_order_structs =  customer_orders. \\\n",
    "    select('customer_id',struct('order_id','order_date','order_status').alias('order_details'))"
   ]
  },
  {
   "cell_type": "code",
   "execution_count": 53,
   "id": "0cdeb195",
   "metadata": {},
   "outputs": [
    {
     "name": "stdout",
     "output_type": "stream",
     "text": [
      "+-----------+------------+-------------------------------------------------------------------------------------------------------------------------------------------------------------------------------------------------------------------------------------------------------------------------------------------------------+\n",
      "|customer_id|orders_count|collect_list(order_details)                                                                                                                                                                                                                                                                            |\n",
      "+-----------+------------+-------------------------------------------------------------------------------------------------------------------------------------------------------------------------------------------------------------------------------------------------------------------------------------------------------+\n",
      "|1          |1           |[{22945, 2013-12-13 00:00:00.0, COMPLETE}]                                                                                                                                                                                                                                                             |\n",
      "|2          |4           |[{57963, 2013-08-02 00:00:00.0, ON_HOLD}, {67863, 2013-11-30 00:00:00.0, COMPLETE}, {15192, 2013-10-29 00:00:00.0, PENDING_PAYMENT}, {33865, 2014-02-18 00:00:00.0, COMPLETE}]                                                                                                                         |\n",
      "|3          |7           |[{22646, 2013-12-11 00:00:00.0, COMPLETE}, {23662, 2013-12-19 00:00:00.0, COMPLETE}, {35158, 2014-02-26 00:00:00.0, COMPLETE}, {46399, 2014-05-09 00:00:00.0, PROCESSING}, {56178, 2014-07-15 00:00:00.0, PENDING}, {57617, 2014-07-24 00:00:00.0, COMPLETE}, {61453, 2013-12-14 00:00:00.0, COMPLETE}]|\n",
      "|4          |6           |[{9023, 2013-09-19 00:00:00.0, COMPLETE}, {9704, 2013-09-24 00:00:00.0, COMPLETE}, {17253, 2013-11-09 00:00:00.0, PENDING_PAYMENT}, {37878, 2014-03-15 00:00:00.0, COMPLETE}, {49339, 2014-05-28 00:00:00.0, COMPLETE}, {51157, 2014-06-10 00:00:00.0, CLOSED}]                                        |\n",
      "|5          |4           |[{13705, 2013-10-18 00:00:00.0, COMPLETE}, {36472, 2014-03-06 00:00:00.0, PROCESSING}, {41333, 2014-04-05 00:00:00.0, COMPLETE}, {45832, 2014-05-05 00:00:00.0, PENDING_PAYMENT}]                                                                                                                      |\n",
      "+-----------+------------+-------------------------------------------------------------------------------------------------------------------------------------------------------------------------------------------------------------------------------------------------------------------------------------------------------+\n",
      "only showing top 5 rows\n",
      "\n"
     ]
    }
   ],
   "source": [
    "customer_order_structs. \\\n",
    "    groupBy('customer_id'). \\\n",
    "    agg(count('*').alias('orders_count'),collect_list('order_details')). \\\n",
    "    orderBy('customer_id'). \\\n",
    "    show(5,truncate=False)"
   ]
  },
  {
   "cell_type": "code",
   "execution_count": 54,
   "id": "e1e1e2d8",
   "metadata": {},
   "outputs": [
    {
     "name": "stdout",
     "output_type": "stream",
     "text": [
      "root\n",
      " |-- customer_id: long (nullable = true)\n",
      " |-- orders_count: long (nullable = false)\n",
      " |-- collect_list(order_details): array (nullable = false)\n",
      " |    |-- element: struct (containsNull = false)\n",
      " |    |    |-- order_id: long (nullable = true)\n",
      " |    |    |-- order_date: string (nullable = true)\n",
      " |    |    |-- order_status: string (nullable = true)\n",
      "\n"
     ]
    }
   ],
   "source": [
    "customer_order_structs. \\\n",
    "    groupBy('customer_id'). \\\n",
    "    agg(count('*').alias('orders_count'),collect_list('order_details')). \\\n",
    "    orderBy('customer_id'). \\\n",
    "    printSchema()"
   ]
  },
  {
   "cell_type": "code",
   "execution_count": 55,
   "id": "901eb6b8",
   "metadata": {},
   "outputs": [],
   "source": [
    "customer_order_structs. \\\n",
    "    groupBy('customer_id'). \\\n",
    "    agg(collect_list('order_details')). \\\n",
    "    orderBy('customer_id'). \\\n",
    "    coalesce(1). \\\n",
    "    write. \\\n",
    "    json(f'/user/{username}/customer_details')"
   ]
  },
  {
   "cell_type": "code",
   "execution_count": 56,
   "id": "23b07955",
   "metadata": {},
   "outputs": [
    {
     "name": "stdout",
     "output_type": "stream",
     "text": [
      "Found 2 items\n",
      "-rw-r--r--   3 itv011204 supergroup          0 2024-02-21 16:40 /user/itv011204/customer_details/_SUCCESS\n",
      "-rw-r--r--   3 itv011204 supergroup    6406609 2024-02-21 16:40 /user/itv011204/customer_details/part-00000-097c6a1a-6b59-4858-a746-70cba8a9f9b1-c000.json\n"
     ]
    }
   ],
   "source": [
    "!hdfs dfs -ls /user/`whoami`/customer_details"
   ]
  },
  {
   "cell_type": "code",
   "execution_count": 57,
   "id": "e8de5e23",
   "metadata": {},
   "outputs": [
    {
     "name": "stdout",
     "output_type": "stream",
     "text": [
      "us\":\"COMPLETE\"},{\"order_id\":42724,\"order_date\":\"2014-04-15 00:00:00.0\",\"order_status\":\"PENDING\"}]}\n",
      "{\"customer_id\":12434,\"collect_list(order_details)\":[{\"order_id\":1868,\"order_date\":\"2013-08-03 00:00:00.0\",\"order_status\":\"CLOSED\"},{\"order_id\":4799,\"order_date\":\"2013-08-23 00:00:00.0\",\"order_status\":\"PENDING_PAYMENT\"},{\"order_id\":5303,\"order_date\":\"2013-08-26 00:00:00.0\",\"order_status\":\"PENDING\"},{\"order_id\":6160,\"order_date\":\"2013-09-02 00:00:00.0\",\"order_status\":\"COMPLETE\"},{\"order_id\":13544,\"order_date\":\"2013-10-16 00:00:00.0\",\"order_status\":\"PENDING\"},{\"order_id\":42915,\"order_date\":\"2014-04-16 00:00:00.0\",\"order_status\":\"COMPLETE\"},{\"order_id\":51800,\"order_date\":\"2014-06-14 00:00:00.0\",\"order_status\":\"ON_HOLD\"},{\"order_id\":61777,\"order_date\":\"2013-12-26 00:00:00.0\",\"order_status\":\"COMPLETE\"}]}\n",
      "{\"customer_id\":12435,\"collect_list(order_details)\":[{\"order_id\":41643,\"order_date\":\"2014-04-08 00:00:00.0\",\"order_status\":\"PENDING\"},{\"order_id\":61629,\"order_date\":\"2013-12-21 00:00:00.0\",\"order_status\":\"CANCELED\"}]}\n"
     ]
    }
   ],
   "source": [
    "!hdfs dfs -tail /user/itv011204/customer_details/part-00000-097c6a1a-6b59-4858-a746-70cba8a9f9b1-c000.json"
   ]
  },
  {
   "cell_type": "code",
   "execution_count": 58,
   "id": "114ada43",
   "metadata": {},
   "outputs": [],
   "source": [
    "from pyspark.sql.functions import max"
   ]
  },
  {
   "cell_type": "code",
   "execution_count": 59,
   "id": "2d21d671",
   "metadata": {},
   "outputs": [
    {
     "name": "stdout",
     "output_type": "stream",
     "text": [
      "+----------------+\n",
      "|max(customer_id)|\n",
      "+----------------+\n",
      "|           12435|\n",
      "+----------------+\n",
      "\n"
     ]
    }
   ],
   "source": [
    "customers.select(max('customer_id')).show()"
   ]
  },
  {
   "cell_type": "code",
   "execution_count": 1,
   "id": "73d744fa",
   "metadata": {},
   "outputs": [],
   "source": [
    "from pyspark.sql import SparkSession\n",
    "\n",
    "import getpass\n",
    "\n",
    "username = getpass.getuser()"
   ]
  },
  {
   "cell_type": "code",
   "execution_count": 2,
   "id": "05b6980c",
   "metadata": {},
   "outputs": [],
   "source": [
    "spark = SparkSession. \\\n",
    "    builder. \\\n",
    "    config('spark.ui.port','0'). \\\n",
    "    config('spark.sql.warehouse.dir',f'/user/{username}/warehouse'). \\\n",
    "    enableHiveSupport(). \\\n",
    "    appName(f'{username} | Section 19 Semi Structured Data'). \\\n",
    "    master('yarn'). \\\n",
    "    getOrCreate()\n",
    "    "
   ]
  },
  {
   "cell_type": "code",
   "execution_count": 3,
   "id": "d0b5677a",
   "metadata": {},
   "outputs": [],
   "source": [
    "orders = spark.read.json(f'/user/{username}/retail_db_json/orders')"
   ]
  },
  {
   "cell_type": "code",
   "execution_count": 4,
   "id": "ffe23859",
   "metadata": {},
   "outputs": [],
   "source": [
    "customers = spark.read.json(f'/user/{username}/retail_db_json/customers')"
   ]
  },
  {
   "cell_type": "code",
   "execution_count": 5,
   "id": "5a10db24",
   "metadata": {},
   "outputs": [],
   "source": [
    "order_items = spark.read.json(f'/user/{username}/retail_db_json/order_items')"
   ]
  },
  {
   "cell_type": "code",
   "execution_count": 6,
   "id": "c71abadd",
   "metadata": {},
   "outputs": [
    {
     "data": {
      "text/plain": [
       "12435"
      ]
     },
     "execution_count": 6,
     "metadata": {},
     "output_type": "execute_result"
    }
   ],
   "source": [
    "customers.count()"
   ]
  },
  {
   "cell_type": "code",
   "execution_count": 7,
   "id": "da8b992a",
   "metadata": {},
   "outputs": [
    {
     "data": {
      "text/plain": [
       "68883"
      ]
     },
     "execution_count": 7,
     "metadata": {},
     "output_type": "execute_result"
    }
   ],
   "source": [
    "orders.count()"
   ]
  },
  {
   "cell_type": "code",
   "execution_count": 8,
   "id": "f14bc221",
   "metadata": {},
   "outputs": [
    {
     "data": {
      "text/plain": [
       "172198"
      ]
     },
     "execution_count": 8,
     "metadata": {},
     "output_type": "execute_result"
    }
   ],
   "source": [
    "order_items.count()"
   ]
  },
  {
   "cell_type": "code",
   "execution_count": 9,
   "id": "db3a045e",
   "metadata": {},
   "outputs": [],
   "source": [
    "customer_details = customers. \\\n",
    "    join(orders, on= customers['customer_id']==orders['order_customer_id']). \\\n",
    "    join(order_items, on= orders['order_id']==order_items['order_item_order_id'])"
   ]
  },
  {
   "cell_type": "code",
   "execution_count": 10,
   "id": "78b8ce52",
   "metadata": {},
   "outputs": [
    {
     "data": {
      "text/plain": [
       "172198"
      ]
     },
     "execution_count": 10,
     "metadata": {},
     "output_type": "execute_result"
    }
   ],
   "source": [
    "customer_details.count()"
   ]
  },
  {
   "cell_type": "code",
   "execution_count": 11,
   "id": "c5ed412a",
   "metadata": {},
   "outputs": [
    {
     "name": "stdout",
     "output_type": "stream",
     "text": [
      "+-----------+--------------+--------------+--------+--------------------+---------------+-------------+---------------------+-------------------+\n",
      "|customer_id|customer_lname|customer_email|order_id|          order_date|   order_status|order_item_id|order_item_product_id|order_item_subtotal|\n",
      "+-----------+--------------+--------------+--------+--------------------+---------------+-------------+---------------------+-------------------+\n",
      "|          1|     Hernandez|     XXXXXXXXX|   22945|2013-12-13 00:00:...|       COMPLETE|        57439|                  191|             499.95|\n",
      "|          2|       Barrett|     XXXXXXXXX|   15192|2013-10-29 00:00:...|PENDING_PAYMENT|        38007|                 1014|              99.96|\n",
      "|          2|       Barrett|     XXXXXXXXX|   33865|2014-02-18 00:00:...|       COMPLETE|        84536|                  957|             299.98|\n",
      "|          2|       Barrett|     XXXXXXXXX|   33865|2014-02-18 00:00:...|       COMPLETE|        84537|                 1073|             199.99|\n",
      "|          2|       Barrett|     XXXXXXXXX|   33865|2014-02-18 00:00:...|       COMPLETE|        84538|                  502|               50.0|\n",
      "+-----------+--------------+--------------+--------+--------------------+---------------+-------------+---------------------+-------------------+\n",
      "only showing top 5 rows\n",
      "\n"
     ]
    }
   ],
   "source": [
    "customer_details. \\\n",
    "    select( \n",
    "        'customer_id','customer_lname','customer_email',\n",
    "        'order_id','order_date', 'order_status',\n",
    "        'order_item_id', 'order_item_product_id','order_item_subtotal'\n",
    "    ). \\\n",
    "    orderBy('customer_id','order_id','order_item_id'). \\\n",
    "    show(5)"
   ]
  },
  {
   "cell_type": "code",
   "execution_count": 12,
   "id": "296ee0a1",
   "metadata": {},
   "outputs": [],
   "source": [
    "from pyspark.sql.functions import struct, collect_list"
   ]
  },
  {
   "cell_type": "code",
   "execution_count": 13,
   "id": "9301f03a",
   "metadata": {},
   "outputs": [
    {
     "name": "stdout",
     "output_type": "stream",
     "text": [
      "+-----------+--------------+--------------+--------+---------------------+---------------+---------------------------------------------------------------------------------------------------------------------+\n",
      "|customer_id|customer_lname|customer_email|order_id|order_date           |order_status   |order_item_details                                                                                                   |\n",
      "+-----------+--------------+--------------+--------+---------------------+---------------+---------------------------------------------------------------------------------------------------------------------+\n",
      "|1          |Hernandez     |XXXXXXXXX     |22945   |2013-12-13 00:00:00.0|COMPLETE       |[{57439, 191, 499.95}]                                                                                               |\n",
      "|2          |Barrett       |XXXXXXXXX     |15192   |2013-10-29 00:00:00.0|PENDING_PAYMENT|[{38007, 1014, 99.96}]                                                                                               |\n",
      "|2          |Barrett       |XXXXXXXXX     |33865   |2014-02-18 00:00:00.0|COMPLETE       |[{84536, 957, 299.98}, {84537, 1073, 199.99}, {84538, 502, 50.0}]                                                    |\n",
      "|2          |Barrett       |XXXXXXXXX     |57963   |2013-08-02 00:00:00.0|ON_HOLD        |[{145019, 365, 119.98}, {145020, 1073, 199.99}, {145021, 627, 199.95}, {145022, 1014, 99.96}, {145023, 1014, 149.94}]|\n",
      "|2          |Barrett       |XXXXXXXXX     |67863   |2013-11-30 00:00:00.0|COMPLETE       |[{169674, 1004, 399.98}]                                                                                             |\n",
      "+-----------+--------------+--------------+--------+---------------------+---------------+---------------------------------------------------------------------------------------------------------------------+\n",
      "only showing top 5 rows\n",
      "\n"
     ]
    }
   ],
   "source": [
    "customer_details. \\\n",
    "    select(\n",
    "        'customer_id','customer_lname','customer_email',\n",
    "        'order_id','order_date', 'order_status',\n",
    "        struct('order_item_id', 'order_item_product_id','order_item_subtotal').alias('order_item_details')\n",
    "    ). \\\n",
    "    groupBy('customer_id','customer_lname','customer_email','order_id','order_date', 'order_status'). \\\n",
    "    agg(collect_list('order_item_details').alias('order_item_details')). \\\n",
    "    orderBy('customer_id','order_id'). \\\n",
    "    show(5, truncate=False)"
   ]
  },
  {
   "cell_type": "code",
   "execution_count": 14,
   "id": "5eef1d2c",
   "metadata": {},
   "outputs": [],
   "source": [
    "from pyspark.sql.functions import count, lit"
   ]
  },
  {
   "cell_type": "code",
   "execution_count": 15,
   "id": "709c6498",
   "metadata": {},
   "outputs": [
    {
     "name": "stdout",
     "output_type": "stream",
     "text": [
      "+-----------+--------------+--------------+--------+---------------------+---------------+--------+---------------------------------------------------------------------------------------------------------------------+\n",
      "|customer_id|customer_lname|customer_email|order_id|order_date           |order_status   |count(1)|order_item_details                                                                                                   |\n",
      "+-----------+--------------+--------------+--------+---------------------+---------------+--------+---------------------------------------------------------------------------------------------------------------------+\n",
      "|1          |Hernandez     |XXXXXXXXX     |22945   |2013-12-13 00:00:00.0|COMPLETE       |1       |[{57439, 191, 499.95}]                                                                                               |\n",
      "|2          |Barrett       |XXXXXXXXX     |15192   |2013-10-29 00:00:00.0|PENDING_PAYMENT|1       |[{38007, 1014, 99.96}]                                                                                               |\n",
      "|2          |Barrett       |XXXXXXXXX     |33865   |2014-02-18 00:00:00.0|COMPLETE       |3       |[{84536, 957, 299.98}, {84537, 1073, 199.99}, {84538, 502, 50.0}]                                                    |\n",
      "|2          |Barrett       |XXXXXXXXX     |57963   |2013-08-02 00:00:00.0|ON_HOLD        |5       |[{145019, 365, 119.98}, {145020, 1073, 199.99}, {145021, 627, 199.95}, {145022, 1014, 99.96}, {145023, 1014, 149.94}]|\n",
      "|2          |Barrett       |XXXXXXXXX     |67863   |2013-11-30 00:00:00.0|COMPLETE       |1       |[{169674, 1004, 399.98}]                                                                                             |\n",
      "+-----------+--------------+--------------+--------+---------------------+---------------+--------+---------------------------------------------------------------------------------------------------------------------+\n",
      "only showing top 5 rows\n",
      "\n"
     ]
    }
   ],
   "source": [
    "customer_details. \\\n",
    "    select(\n",
    "        'customer_id','customer_lname','customer_email',\n",
    "        'order_id','order_date', 'order_status',\n",
    "        struct('order_item_id', 'order_item_product_id','order_item_subtotal').alias('order_item_details')\n",
    "    ). \\\n",
    "    groupBy('customer_id','customer_lname','customer_email','order_id','order_date', 'order_status'). \\\n",
    "    agg(count(lit('1')),collect_list('order_item_details').alias('order_item_details')). \\\n",
    "    orderBy('customer_id','order_id'). \\\n",
    "    show(5, truncate=False)"
   ]
  },
  {
   "cell_type": "code",
   "execution_count": 16,
   "id": "c5c46972",
   "metadata": {},
   "outputs": [
    {
     "name": "stdout",
     "output_type": "stream",
     "text": [
      "+-----------+--------------+--------------+------------------------------------------------------------------------------------------------------------------------------------------------------------------------------------------------------------------------------------------------------------------------------------------------------------------------------------------------------------------------------------------------------------------------------------------------------------------------------------------------------------------------------------------------------------------------------------------------------------------------------------------------+\n",
      "|customer_id|customer_lname|customer_email|order_details                                                                                                                                                                                                                                                                                                                                                                                                                                                                                                                                                                                                                                   |\n",
      "+-----------+--------------+--------------+------------------------------------------------------------------------------------------------------------------------------------------------------------------------------------------------------------------------------------------------------------------------------------------------------------------------------------------------------------------------------------------------------------------------------------------------------------------------------------------------------------------------------------------------------------------------------------------------------------------------------------------------+\n",
      "|1          |Hernandez     |XXXXXXXXX     |[{22945, 2013-12-13 00:00:00.0, COMPLETE, [{57439, 191, 499.95}]}]                                                                                                                                                                                                                                                                                                                                                                                                                                                                                                                                                                              |\n",
      "|2          |Barrett       |XXXXXXXXX     |[{15192, 2013-10-29 00:00:00.0, PENDING_PAYMENT, [{38007, 1014, 99.96}]}, {33865, 2014-02-18 00:00:00.0, COMPLETE, [{84536, 957, 299.98}, {84537, 1073, 199.99}, {84538, 502, 50.0}]}, {57963, 2013-08-02 00:00:00.0, ON_HOLD, [{145019, 365, 119.98}, {145020, 1073, 199.99}, {145021, 627, 199.95}, {145022, 1014, 99.96}, {145023, 1014, 149.94}]}, {67863, 2013-11-30 00:00:00.0, COMPLETE, [{169674, 1004, 399.98}]}]                                                                                                                                                                                                                      |\n",
      "|3          |Smith         |XXXXXXXXX     |[{23662, 2013-12-19 00:00:00.0, COMPLETE, [{59207, 191, 99.99}, {59208, 502, 100.0}, {59209, 502, 50.0}]}, {35158, 2014-02-26 00:00:00.0, COMPLETE, [{87812, 1004, 399.98}, {87813, 273, 27.99}]}, {56178, 2014-07-15 00:00:00.0, PENDING, [{140506, 502, 100.0}, {140507, 365, 299.95}, {140508, 957, 299.98}, {140509, 502, 150.0}, {140510, 957, 299.98}]}, {57617, 2014-07-24 00:00:00.0, COMPLETE, [{144129, 365, 239.96}, {144130, 365, 239.96}, {144131, 1014, 99.96}, {144132, 1073, 199.99}]}, {61453, 2013-12-14 00:00:00.0, COMPLETE, [{153687, 403, 129.99}, {153688, 957, 299.98}, {153689, 957, 299.98}, {153690, 1073, 199.99}]}]|\n",
      "|4          |Jones         |XXXXXXXXX     |[{9023, 2013-09-19 00:00:00.0, COMPLETE, [{22495, 1014, 99.96}, {22496, 627, 79.98}, {22497, 885, 24.99}, {22498, 1014, 149.94}]}, {9704, 2013-09-24 00:00:00.0, COMPLETE, [{24238, 365, 179.97}, {24239, 905, 124.95}, {24240, 365, 59.99}, {24241, 365, 179.97}]}, {49339, 2014-05-28 00:00:00.0, COMPLETE, [{123338, 502, 100.0}, {123339, 365, 119.98}, {123340, 365, 299.95}]}, {51157, 2014-06-10 00:00:00.0, CLOSED, [{127851, 365, 119.98}, {127852, 365, 119.98}, {127853, 365, 59.99}]}]                                                                                                                                              |\n",
      "|5          |Hudson        |XXXXXXXXX     |[{36472, 2014-03-06 00:00:00.0, PROCESSING, [{91064, 1014, 99.96}, {91065, 403, 129.99}, {91066, 1014, 199.92}, {91067, 235, 174.95}, {91068, 957, 299.98}]}, {41333, 2014-04-05 00:00:00.0, COMPLETE, [{103183, 403, 129.99}]}, {45832, 2014-05-05 00:00:00.0, PENDING_PAYMENT, [{114561, 365, 239.96}]}]                                                                                                                                                                                                                                                                                                                                      |\n",
      "+-----------+--------------+--------------+------------------------------------------------------------------------------------------------------------------------------------------------------------------------------------------------------------------------------------------------------------------------------------------------------------------------------------------------------------------------------------------------------------------------------------------------------------------------------------------------------------------------------------------------------------------------------------------------------------------------------------------------+\n",
      "only showing top 5 rows\n",
      "\n"
     ]
    }
   ],
   "source": [
    "customer_details. \\\n",
    "    select(\n",
    "        'customer_id','customer_lname','customer_email',\n",
    "        'order_id','order_date', 'order_status',\n",
    "        struct('order_item_id', 'order_item_product_id','order_item_subtotal').alias('order_item_details')\n",
    "    ). \\\n",
    "    groupBy('customer_id','customer_lname','customer_email','order_id','order_date', 'order_status'). \\\n",
    "    agg(collect_list('order_item_details').alias('order_item_details')). \\\n",
    "    orderBy('customer_id','order_id'). \\\n",
    "    select(\n",
    "        'customer_id', 'customer_lname','customer_email',\n",
    "        struct('order_id','order_date', 'order_status','order_item_details').alias('order_details')\n",
    "    ). \\\n",
    "    groupBy('customer_id', 'customer_lname','customer_email'). \\\n",
    "    agg(collect_list('order_details').alias('order_details')). \\\n",
    "    orderBy('customer_id'). \\\n",
    "    show(5,truncate=False)"
   ]
  },
  {
   "cell_type": "code",
   "execution_count": 17,
   "id": "8993b047",
   "metadata": {},
   "outputs": [],
   "source": [
    "from pyspark.sql.functions import col"
   ]
  },
  {
   "cell_type": "code",
   "execution_count": 18,
   "id": "8653ae04",
   "metadata": {},
   "outputs": [
    {
     "name": "stdout",
     "output_type": "stream",
     "text": [
      "+-----------+--------------+--------------+------------------------------------------------------------------------------------------------------------------------------------------------------------------------------------------------------------------------------------------------------------------------------------------------------------------------------------------------------------------------------------------------------------------------------------------------------------------------------------------------------------------------------------------------------------------------------------------------------------------------------------------------+\n",
      "|customer_id|customer_lname|customer_email|order_details                                                                                                                                                                                                                                                                                                                                                                                                                                                                                                                                                                                                                                   |\n",
      "+-----------+--------------+--------------+------------------------------------------------------------------------------------------------------------------------------------------------------------------------------------------------------------------------------------------------------------------------------------------------------------------------------------------------------------------------------------------------------------------------------------------------------------------------------------------------------------------------------------------------------------------------------------------------------------------------------------------------+\n",
      "|1          |Hernandez     |XXXXXXXXX     |[{22945, 2013-12-13 00:00:00.0, COMPLETE, [{57439, 191, 499.95}]}]                                                                                                                                                                                                                                                                                                                                                                                                                                                                                                                                                                              |\n",
      "|2          |Barrett       |XXXXXXXXX     |[{33865, 2014-02-18 00:00:00.0, COMPLETE, [{84536, 957, 299.98}, {84537, 1073, 199.99}, {84538, 502, 50.0}]}, {67863, 2013-11-30 00:00:00.0, COMPLETE, [{169674, 1004, 399.98}]}, {15192, 2013-10-29 00:00:00.0, PENDING_PAYMENT, [{38007, 1014, 99.96}]}, {57963, 2013-08-02 00:00:00.0, ON_HOLD, [{145019, 365, 119.98}, {145020, 1073, 199.99}, {145021, 627, 199.95}, {145022, 1014, 99.96}, {145023, 1014, 149.94}]}]                                                                                                                                                                                                                      |\n",
      "|3          |Smith         |XXXXXXXXX     |[{57617, 2014-07-24 00:00:00.0, COMPLETE, [{144129, 365, 239.96}, {144130, 365, 239.96}, {144131, 1014, 99.96}, {144132, 1073, 199.99}]}, {56178, 2014-07-15 00:00:00.0, PENDING, [{140506, 502, 100.0}, {140507, 365, 299.95}, {140508, 957, 299.98}, {140509, 502, 150.0}, {140510, 957, 299.98}]}, {35158, 2014-02-26 00:00:00.0, COMPLETE, [{87812, 1004, 399.98}, {87813, 273, 27.99}]}, {23662, 2013-12-19 00:00:00.0, COMPLETE, [{59207, 191, 99.99}, {59208, 502, 100.0}, {59209, 502, 50.0}]}, {61453, 2013-12-14 00:00:00.0, COMPLETE, [{153687, 403, 129.99}, {153688, 957, 299.98}, {153689, 957, 299.98}, {153690, 1073, 199.99}]}]|\n",
      "|4          |Jones         |XXXXXXXXX     |[{51157, 2014-06-10 00:00:00.0, CLOSED, [{127851, 365, 119.98}, {127852, 365, 119.98}, {127853, 365, 59.99}]}, {49339, 2014-05-28 00:00:00.0, COMPLETE, [{123338, 502, 100.0}, {123339, 365, 119.98}, {123340, 365, 299.95}]}, {9704, 2013-09-24 00:00:00.0, COMPLETE, [{24238, 365, 179.97}, {24239, 905, 124.95}, {24240, 365, 59.99}, {24241, 365, 179.97}]}, {9023, 2013-09-19 00:00:00.0, COMPLETE, [{22495, 1014, 99.96}, {22496, 627, 79.98}, {22497, 885, 24.99}, {22498, 1014, 149.94}]}]                                                                                                                                              |\n",
      "|5          |Hudson        |XXXXXXXXX     |[{45832, 2014-05-05 00:00:00.0, PENDING_PAYMENT, [{114561, 365, 239.96}]}, {41333, 2014-04-05 00:00:00.0, COMPLETE, [{103183, 403, 129.99}]}, {36472, 2014-03-06 00:00:00.0, PROCESSING, [{91064, 1014, 99.96}, {91065, 403, 129.99}, {91066, 1014, 199.92}, {91067, 235, 174.95}, {91068, 957, 299.98}]}]                                                                                                                                                                                                                                                                                                                                      |\n",
      "+-----------+--------------+--------------+------------------------------------------------------------------------------------------------------------------------------------------------------------------------------------------------------------------------------------------------------------------------------------------------------------------------------------------------------------------------------------------------------------------------------------------------------------------------------------------------------------------------------------------------------------------------------------------------------------------------------------------------+\n",
      "only showing top 5 rows\n",
      "\n"
     ]
    }
   ],
   "source": [
    "customer_details. \\\n",
    "    select(\n",
    "        'customer_id','customer_lname','customer_email',\n",
    "        'order_id','order_date', 'order_status',\n",
    "        struct('order_item_id', 'order_item_product_id','order_item_subtotal').alias('order_item_details')\n",
    "    ). \\\n",
    "    groupBy('customer_id','customer_lname','customer_email','order_id','order_date', 'order_status'). \\\n",
    "    agg(collect_list('order_item_details').alias('order_item_details')). \\\n",
    "    orderBy('customer_id','order_id'). \\\n",
    "    select(\n",
    "        'customer_id', 'customer_lname','customer_email',\n",
    "        struct('order_id','order_date', 'order_status','order_item_details').alias('order_details')\n",
    "    ). \\\n",
    "    orderBy('customer_id',col('order_date').desc()). \\\n",
    "    groupBy('customer_id', 'customer_lname','customer_email'). \\\n",
    "    agg(collect_list('order_details').alias('order_details')). \\\n",
    "    orderBy('customer_id'). \\\n",
    "    show(5,truncate=False)"
   ]
  },
  {
   "cell_type": "code",
   "execution_count": 27,
   "id": "df923586",
   "metadata": {},
   "outputs": [],
   "source": [
    "customer_details. \\\n",
    "    select(\n",
    "        'customer_id','customer_lname','customer_email',\n",
    "        'order_id','order_date', 'order_status',\n",
    "        struct('order_item_id', 'order_item_product_id','order_item_subtotal').alias('order_item_details')\n",
    "    ). \\\n",
    "    groupBy('customer_id','customer_lname','customer_email','order_id','order_date', 'order_status'). \\\n",
    "    agg(collect_list('order_item_details').alias('order_item_details')). \\\n",
    "    orderBy('customer_id','order_id'). \\\n",
    "    select(\n",
    "        'customer_id', 'customer_lname','customer_email',\n",
    "        struct('order_id','order_date', 'order_status','order_item_details').alias('order_details')\n",
    "    ). \\\n",
    "    orderBy('customer_id',col('order_date').desc()). \\\n",
    "    groupBy('customer_id', 'customer_lname','customer_email'). \\\n",
    "    agg(collect_list('order_details').alias('order_details')). \\\n",
    "    orderBy('customer_id'). \\\n",
    "    coalesce(1). \\\n",
    "    write. \\\n",
    "    mode('overwrite'). \\\n",
    "    json(f'/user/{username}/customer_details')"
   ]
  },
  {
   "cell_type": "code",
   "execution_count": 30,
   "id": "d7e9d5bd",
   "metadata": {},
   "outputs": [
    {
     "name": "stdout",
     "output_type": "stream",
     "text": [
      "Found 2 items\n",
      "-rw-r--r--   3 itv011204 supergroup          0 2024-02-21 17:25 /user/itv011204/customer_details/_SUCCESS\n",
      "-rw-r--r--   3 itv011204 supergroup   21270203 2024-02-21 17:25 /user/itv011204/customer_details/part-00000-f2c01f62-2723-4c1b-bee9-bb805619d28e-c000.json\n"
     ]
    }
   ],
   "source": [
    "!hdfs dfs -ls /user/`whoami`/customer_details"
   ]
  },
  {
   "cell_type": "code",
   "execution_count": 32,
   "id": "5e3c0b62",
   "metadata": {},
   "outputs": [
    {
     "name": "stdout",
     "output_type": "stream",
     "text": [
      "tus\":\"PENDING_PAYMENT\",\"order_item_details\":[{\"order_item_id\":12003,\"order_item_product_id\":906,\"order_item_subtotal\":74.97}]},{\"order_id\":1868,\"order_date\":\"2013-08-03 00:00:00.0\",\"order_status\":\"CLOSED\",\"order_item_details\":[{\"order_item_id\":4668,\"order_item_product_id\":502,\"order_item_subtotal\":250.0}]}]}\n",
      "{\"customer_id\":12435,\"customer_lname\":\"Horton\",\"customer_email\":\"XXXXXXXXX\",\"order_details\":[{\"order_id\":41643,\"order_date\":\"2014-04-08 00:00:00.0\",\"order_status\":\"PENDING\",\"order_item_details\":[{\"order_item_id\":103950,\"order_item_product_id\":191,\"order_item_subtotal\":499.95},{\"order_item_id\":103951,\"order_item_product_id\":365,\"order_item_subtotal\":239.96},{\"order_item_id\":103952,\"order_item_product_id\":957,\"order_item_subtotal\":299.98}]},{\"order_id\":61629,\"order_date\":\"2013-12-21 00:00:00.0\",\"order_status\":\"CANCELED\",\"order_item_details\":[{\"order_item_id\":154094,\"order_item_product_id\":627,\"order_item_subtotal\":159.96},{\"order_item_id\":154095,\"order_item_product_id\":403,\"order_item_subtotal\":129.99}]}]}\n"
     ]
    }
   ],
   "source": [
    "!hdfs dfs -tail /user/itv011204/customer_details/part-00000-f2c01f62-2723-4c1b-bee9-bb805619d28e-c000.json"
   ]
  },
  {
   "cell_type": "code",
   "execution_count": 29,
   "id": "9b448d89",
   "metadata": {},
   "outputs": [
    {
     "name": "stdout",
     "output_type": "stream",
     "text": [
      "+-----------+--------------+--------------+----------------------------------------------------------------------------------------------------------------------------------------------------------------------------------------------------------+\n",
      "|customer_id|customer_lname|customer_email|order_details                                                                                                                                                                                             |\n",
      "+-----------+--------------+--------------+----------------------------------------------------------------------------------------------------------------------------------------------------------------------------------------------------------+\n",
      "|12435      |Horton        |XXXXXXXXX     |[{41643, 2014-04-08 00:00:00.0, PENDING, [{103950, 191, 499.95}, {103951, 365, 239.96}, {103952, 957, 299.98}]}, {61629, 2013-12-21 00:00:00.0, CANCELED, [{154094, 627, 159.96}, {154095, 403, 129.99}]}]|\n",
      "+-----------+--------------+--------------+----------------------------------------------------------------------------------------------------------------------------------------------------------------------------------------------------------+\n",
      "\n"
     ]
    }
   ],
   "source": [
    "customer_details. \\\n",
    "    filter(col('customer_id')=='12435'). \\\n",
    "    select(\n",
    "        'customer_id','customer_lname','customer_email',\n",
    "        'order_id','order_date', 'order_status',\n",
    "        struct('order_item_id', 'order_item_product_id','order_item_subtotal').alias('order_item_details')\n",
    "    ). \\\n",
    "    groupBy('customer_id','customer_lname','customer_email','order_id','order_date', 'order_status'). \\\n",
    "    agg(collect_list('order_item_details').alias('order_item_details')). \\\n",
    "    orderBy('customer_id','order_id'). \\\n",
    "    select(\n",
    "        'customer_id', 'customer_lname','customer_email',\n",
    "        struct('order_id','order_date', 'order_status','order_item_details').alias('order_details')\n",
    "    ). \\\n",
    "    orderBy('customer_id',col('order_date').desc()). \\\n",
    "    groupBy('customer_id', 'customer_lname','customer_email'). \\\n",
    "    agg(collect_list('order_details').alias('order_details')). \\\n",
    "    orderBy('customer_id'). \\\n",
    "    show(truncate=False)"
   ]
  },
  {
   "cell_type": "markdown",
   "id": "fc217f35",
   "metadata": {},
   "source": [
    "### Read the Denormalized data from Json"
   ]
  },
  {
   "cell_type": "code",
   "execution_count": 1,
   "id": "39d8793b",
   "metadata": {},
   "outputs": [],
   "source": [
    "from pyspark.sql import SparkSession\n",
    "\n",
    "import getpass\n",
    "\n",
    "username = getpass.getuser()"
   ]
  },
  {
   "cell_type": "code",
   "execution_count": 2,
   "id": "5ed3272e",
   "metadata": {},
   "outputs": [],
   "source": [
    "spark = SparkSession. \\\n",
    "    builder. \\\n",
    "    config('spark.ui.port','0'). \\\n",
    "    config('spark.sql.warehouse.dir',f'/user/{username}/warehouse'). \\\n",
    "    enableHiveSupport(). \\\n",
    "    appName(f'{username} | Section 19 Semi Structured Data'). \\\n",
    "    master('yarn'). \\\n",
    "    getOrCreate()\n",
    "    "
   ]
  },
  {
   "cell_type": "code",
   "execution_count": 3,
   "id": "5e187356",
   "metadata": {},
   "outputs": [
    {
     "name": "stdout",
     "output_type": "stream",
     "text": [
      "Found 2 items\n",
      "-rw-r--r--   3 itv011204 supergroup          0 2024-02-21 17:25 /user/itv011204/customer_details/_SUCCESS\n",
      "-rw-r--r--   3 itv011204 supergroup   21270203 2024-02-21 17:25 /user/itv011204/customer_details/part-00000-f2c01f62-2723-4c1b-bee9-bb805619d28e-c000.json\n"
     ]
    }
   ],
   "source": [
    "!hdfs dfs -ls /user/`whoami`/customer_details"
   ]
  },
  {
   "cell_type": "code",
   "execution_count": 4,
   "id": "63954495",
   "metadata": {},
   "outputs": [],
   "source": [
    "customer_details_df = spark.read.json(f'/user/{username}/customer_details')"
   ]
  },
  {
   "cell_type": "code",
   "execution_count": 5,
   "id": "ca07e7ba",
   "metadata": {},
   "outputs": [
    {
     "name": "stdout",
     "output_type": "stream",
     "text": [
      "+--------------+-----------+--------------+--------------------+\n",
      "|customer_email|customer_id|customer_lname|       order_details|\n",
      "+--------------+-----------+--------------+--------------------+\n",
      "|     XXXXXXXXX|          1|     Hernandez|[{2013-12-13 00:0...|\n",
      "|     XXXXXXXXX|          2|       Barrett|[{2014-02-18 00:0...|\n",
      "|     XXXXXXXXX|          3|         Smith|[{2014-07-24 00:0...|\n",
      "|     XXXXXXXXX|          4|         Jones|[{2014-06-10 00:0...|\n",
      "|     XXXXXXXXX|          5|        Hudson|[{2014-05-05 00:0...|\n",
      "+--------------+-----------+--------------+--------------------+\n",
      "only showing top 5 rows\n",
      "\n"
     ]
    }
   ],
   "source": [
    "customer_details_df.show(5)"
   ]
  },
  {
   "cell_type": "code",
   "execution_count": 6,
   "id": "8f061398",
   "metadata": {},
   "outputs": [
    {
     "name": "stdout",
     "output_type": "stream",
     "text": [
      "root\n",
      " |-- customer_email: string (nullable = true)\n",
      " |-- customer_id: long (nullable = true)\n",
      " |-- customer_lname: string (nullable = true)\n",
      " |-- order_details: array (nullable = true)\n",
      " |    |-- element: struct (containsNull = true)\n",
      " |    |    |-- order_date: string (nullable = true)\n",
      " |    |    |-- order_id: long (nullable = true)\n",
      " |    |    |-- order_item_details: array (nullable = true)\n",
      " |    |    |    |-- element: struct (containsNull = true)\n",
      " |    |    |    |    |-- order_item_id: long (nullable = true)\n",
      " |    |    |    |    |-- order_item_product_id: long (nullable = true)\n",
      " |    |    |    |    |-- order_item_subtotal: double (nullable = true)\n",
      " |    |    |-- order_status: string (nullable = true)\n",
      "\n"
     ]
    }
   ],
   "source": [
    "customer_details_df.printSchema()"
   ]
  },
  {
   "cell_type": "code",
   "execution_count": 7,
   "id": "90681baa",
   "metadata": {},
   "outputs": [
    {
     "data": {
      "text/plain": [
       "12331"
      ]
     },
     "execution_count": 7,
     "metadata": {},
     "output_type": "execute_result"
    }
   ],
   "source": [
    "customer_details_df.count()"
   ]
  },
  {
   "cell_type": "code",
   "execution_count": 8,
   "id": "e456ef95",
   "metadata": {},
   "outputs": [],
   "source": [
    "from pyspark.sql.functions import explode"
   ]
  },
  {
   "cell_type": "code",
   "execution_count": 9,
   "id": "96ce2727",
   "metadata": {},
   "outputs": [
    {
     "name": "stdout",
     "output_type": "stream",
     "text": [
      "root\n",
      " |-- customer_id: long (nullable = true)\n",
      " |-- customer_email: string (nullable = true)\n",
      " |-- customer_lname: string (nullable = true)\n",
      " |-- order_details: struct (nullable = true)\n",
      " |    |-- order_date: string (nullable = true)\n",
      " |    |-- order_id: long (nullable = true)\n",
      " |    |-- order_item_details: array (nullable = true)\n",
      " |    |    |-- element: struct (containsNull = true)\n",
      " |    |    |    |-- order_item_id: long (nullable = true)\n",
      " |    |    |    |-- order_item_product_id: long (nullable = true)\n",
      " |    |    |    |-- order_item_subtotal: double (nullable = true)\n",
      " |    |-- order_status: string (nullable = true)\n",
      "\n"
     ]
    }
   ],
   "source": [
    "customer_details_df.\\\n",
    "    select(\n",
    "        'customer_id',\n",
    "        'customer_email',\n",
    "        'customer_lname',\n",
    "        explode('order_details').alias('order_details')\n",
    "    ).\\\n",
    "    printSchema()"
   ]
  },
  {
   "cell_type": "code",
   "execution_count": 10,
   "id": "bc737188",
   "metadata": {},
   "outputs": [
    {
     "data": {
      "text/plain": [
       "57431"
      ]
     },
     "execution_count": 10,
     "metadata": {},
     "output_type": "execute_result"
    }
   ],
   "source": [
    "customer_details_df.\\\n",
    "    select(\n",
    "        'customer_id',\n",
    "        'customer_email',\n",
    "        'customer_lname',\n",
    "        explode('order_details').alias('order_details')\n",
    "    ).\\\n",
    "    count()"
   ]
  },
  {
   "cell_type": "code",
   "execution_count": 11,
   "id": "88337a06",
   "metadata": {},
   "outputs": [
    {
     "name": "stdout",
     "output_type": "stream",
     "text": [
      "+-----------+--------------+--------------+--------------------+\n",
      "|customer_id|customer_email|customer_lname|       order_details|\n",
      "+-----------+--------------+--------------+--------------------+\n",
      "|          1|     XXXXXXXXX|     Hernandez|{2013-12-13 00:00...|\n",
      "|          2|     XXXXXXXXX|       Barrett|{2013-08-02 00:00...|\n",
      "|          2|     XXXXXXXXX|       Barrett|{2013-10-29 00:00...|\n",
      "|          2|     XXXXXXXXX|       Barrett|{2013-11-30 00:00...|\n",
      "|          2|     XXXXXXXXX|       Barrett|{2014-02-18 00:00...|\n",
      "|          3|     XXXXXXXXX|         Smith|{2014-07-15 00:00...|\n",
      "|          3|     XXXXXXXXX|         Smith|{2014-02-26 00:00...|\n",
      "|          3|     XXXXXXXXX|         Smith|{2014-07-24 00:00...|\n",
      "|          3|     XXXXXXXXX|         Smith|{2013-12-19 00:00...|\n",
      "|          3|     XXXXXXXXX|         Smith|{2013-12-14 00:00...|\n",
      "+-----------+--------------+--------------+--------------------+\n",
      "only showing top 10 rows\n",
      "\n"
     ]
    }
   ],
   "source": [
    "customer_details_df.\\\n",
    "    select(\n",
    "        'customer_id',\n",
    "        'customer_email',\n",
    "        'customer_lname',\n",
    "        explode('order_details').alias('order_details')\n",
    "    ).\\\n",
    "    orderBy('customer_id'). \\\n",
    "    show(10)"
   ]
  },
  {
   "cell_type": "code",
   "execution_count": 12,
   "id": "06ffc1ff",
   "metadata": {},
   "outputs": [
    {
     "data": {
      "text/plain": [
       "115"
      ]
     },
     "execution_count": 12,
     "metadata": {},
     "output_type": "execute_result"
    }
   ],
   "source": [
    "customer_details_df.\\\n",
    "    select(\n",
    "        'customer_id',\n",
    "        'customer_email',\n",
    "        'customer_lname',\n",
    "        explode('order_details').alias('order_details')\n",
    "    ).\\\n",
    "    filter('order_details.order_date LIKE \"2014-01-01%\"'). \\\n",
    "    count()"
   ]
  },
  {
   "cell_type": "code",
   "execution_count": 13,
   "id": "6c311cab",
   "metadata": {},
   "outputs": [
    {
     "name": "stdout",
     "output_type": "stream",
     "text": [
      "+-----------+--------------+--------------+--------+---------------------+---------------+\n",
      "|customer_id|customer_email|customer_lname|order_id|order_date           |order_status   |\n",
      "+-----------+--------------+--------------+--------+---------------------+---------------+\n",
      "|206        |XXXXXXXXX     |West          |25966   |2014-01-01 00:00:00.0|CLOSED         |\n",
      "|279        |XXXXXXXXX     |Smith         |25918   |2014-01-01 00:00:00.0|COMPLETE       |\n",
      "|363        |XXXXXXXXX     |Obrien        |25980   |2014-01-01 00:00:00.0|COMPLETE       |\n",
      "|387        |XXXXXXXXX     |Levy          |25970   |2014-01-01 00:00:00.0|COMPLETE       |\n",
      "|470        |XXXXXXXXX     |Cannon        |61904   |2014-01-01 00:00:00.0|COMPLETE       |\n",
      "|492        |XXXXXXXXX     |Mckinney      |25964   |2014-01-01 00:00:00.0|PROCESSING     |\n",
      "|505        |XXXXXXXXX     |Smith         |25925   |2014-01-01 00:00:00.0|PENDING_PAYMENT|\n",
      "|522        |XXXXXXXXX     |Smith         |25972   |2014-01-01 00:00:00.0|PENDING_PAYMENT|\n",
      "|1044       |XXXXXXXXX     |Pope          |25895   |2014-01-01 00:00:00.0|COMPLETE       |\n",
      "|1117       |XXXXXXXXX     |Maddox        |25942   |2014-01-01 00:00:00.0|PROCESSING     |\n",
      "|1132       |XXXXXXXXX     |Smith         |25904   |2014-01-01 00:00:00.0|PENDING_PAYMENT|\n",
      "|1133       |XXXXXXXXX     |Ryan          |61916   |2014-01-01 00:00:00.0|PROCESSING     |\n",
      "|1512       |XXXXXXXXX     |Rowe          |61909   |2014-01-01 00:00:00.0|PROCESSING     |\n",
      "|1708       |XXXXXXXXX     |Booth         |25917   |2014-01-01 00:00:00.0|ON_HOLD        |\n",
      "|1815       |XXXXXXXXX     |Smith         |25947   |2014-01-01 00:00:00.0|PENDING_PAYMENT|\n",
      "|2027       |XXXXXXXXX     |Mills         |25932   |2014-01-01 00:00:00.0|CLOSED         |\n",
      "|2144       |XXXXXXXXX     |Trevino       |25969   |2014-01-01 00:00:00.0|COMPLETE       |\n",
      "|2382       |XXXXXXXXX     |Holloway      |25900   |2014-01-01 00:00:00.0|CLOSED         |\n",
      "|2581       |XXXXXXXXX     |Smith         |25890   |2014-01-01 00:00:00.0|PENDING        |\n",
      "|2602       |XXXXXXXXX     |Smith         |67972   |2014-01-01 00:00:00.0|PENDING        |\n",
      "+-----------+--------------+--------------+--------+---------------------+---------------+\n",
      "only showing top 20 rows\n",
      "\n"
     ]
    }
   ],
   "source": [
    "customer_details_df.\\\n",
    "    select(\n",
    "        'customer_id',\n",
    "        'customer_email',\n",
    "        'customer_lname',\n",
    "        explode('order_details').alias('order_details')\n",
    "    ).\\\n",
    "    filter('order_details.order_date LIKE \"2014-01-01%\"'). \\\n",
    "    orderBy('customer_id'). \\\n",
    "    select(\n",
    "        'customer_id',\n",
    "        'customer_email',\n",
    "        'customer_lname',\n",
    "        'order_details.order_id',\n",
    "        'order_details.order_date',\n",
    "        'order_details.order_status'\n",
    "    ). \\\n",
    "    show(truncate=False)"
   ]
  },
  {
   "cell_type": "code",
   "execution_count": 14,
   "id": "a6fc2a08",
   "metadata": {},
   "outputs": [
    {
     "name": "stdout",
     "output_type": "stream",
     "text": [
      "root\n",
      " |-- customer_id: long (nullable = true)\n",
      " |-- customer_email: string (nullable = true)\n",
      " |-- customer_lname: string (nullable = true)\n",
      " |-- order_id: long (nullable = true)\n",
      " |-- order_date: string (nullable = true)\n",
      " |-- order_status: string (nullable = true)\n",
      "\n"
     ]
    }
   ],
   "source": [
    "customer_details_df.\\\n",
    "    select(\n",
    "        'customer_id',\n",
    "        'customer_email',\n",
    "        'customer_lname',\n",
    "        explode('order_details').alias('order_details')\n",
    "    ).\\\n",
    "    filter('order_details.order_date LIKE \"2014-01-01%\"'). \\\n",
    "    orderBy('customer_id'). \\\n",
    "    select(\n",
    "        'customer_id',\n",
    "        'customer_email',\n",
    "        'customer_lname',\n",
    "        'order_details.order_id',\n",
    "        'order_details.order_date',\n",
    "        'order_details.order_status'\n",
    "    ). \\\n",
    "    printSchema()"
   ]
  },
  {
   "cell_type": "code",
   "execution_count": 15,
   "id": "dd8626dd",
   "metadata": {},
   "outputs": [],
   "source": [
    "from pyspark.sql.functions import size"
   ]
  },
  {
   "cell_type": "code",
   "execution_count": 20,
   "id": "8d91e67a",
   "metadata": {},
   "outputs": [
    {
     "name": "stdout",
     "output_type": "stream",
     "text": [
      "+-----------+--------------+--------------+-----------+\n",
      "|customer_id|customer_email|customer_lname|order_count|\n",
      "+-----------+--------------+--------------+-----------+\n",
      "|          1|     XXXXXXXXX|     Hernandez|          1|\n",
      "|          2|     XXXXXXXXX|       Barrett|          4|\n",
      "|          3|     XXXXXXXXX|         Smith|          5|\n",
      "|          4|     XXXXXXXXX|         Jones|          4|\n",
      "|          5|     XXXXXXXXX|        Hudson|          3|\n",
      "|          6|     XXXXXXXXX|         Smith|          4|\n",
      "|          7|     XXXXXXXXX|        Wilcox|          7|\n",
      "|          8|     XXXXXXXXX|         Smith|          8|\n",
      "|          9|     XXXXXXXXX|         Perez|          5|\n",
      "|         10|     XXXXXXXXX|         Smith|          2|\n",
      "|         11|     XXXXXXXXX|       Huffman|          4|\n",
      "|         12|     XXXXXXXXX|         Smith|          8|\n",
      "|         13|     XXXXXXXXX|       Baldwin|          4|\n",
      "|         14|     XXXXXXXXX|         Smith|          7|\n",
      "|         15|     XXXXXXXXX|          Luna|          1|\n",
      "|         16|     XXXXXXXXX|         Smith|          6|\n",
      "|         17|     XXXXXXXXX|      Robinson|          5|\n",
      "|         18|     XXXXXXXXX|         Smith|          6|\n",
      "|         19|     XXXXXXXXX|      Mitchell|          8|\n",
      "|         20|     XXXXXXXXX|         Ellis|          4|\n",
      "+-----------+--------------+--------------+-----------+\n",
      "only showing top 20 rows\n",
      "\n"
     ]
    }
   ],
   "source": [
    "customer_details_df. \\\n",
    "    select(\n",
    "        'customer_id',\n",
    "        'customer_email',\n",
    "        'customer_lname',\n",
    "        size('order_details').alias('order_count')\n",
    "    ). \\\n",
    "    orderBy('customer_id'). \\\n",
    "    show()"
   ]
  },
  {
   "cell_type": "code",
   "execution_count": 21,
   "id": "30feb927",
   "metadata": {},
   "outputs": [
    {
     "name": "stdout",
     "output_type": "stream",
     "text": [
      "root\n",
      " |-- customer_id: long (nullable = true)\n",
      " |-- customer_email: string (nullable = true)\n",
      " |-- customer_lname: string (nullable = true)\n",
      " |-- order_details: struct (nullable = true)\n",
      " |    |-- order_date: string (nullable = true)\n",
      " |    |-- order_id: long (nullable = true)\n",
      " |    |-- order_item_details: array (nullable = true)\n",
      " |    |    |-- element: struct (containsNull = true)\n",
      " |    |    |    |-- order_item_id: long (nullable = true)\n",
      " |    |    |    |-- order_item_product_id: long (nullable = true)\n",
      " |    |    |    |-- order_item_subtotal: double (nullable = true)\n",
      " |    |-- order_status: string (nullable = true)\n",
      "\n"
     ]
    }
   ],
   "source": [
    "customer_details_df. \\\n",
    "    select(\n",
    "        'customer_id',\n",
    "        'customer_email',\n",
    "        'customer_lname',\n",
    "        explode('order_details').alias('order_details')\n",
    "    ). \\\n",
    "    printSchema()"
   ]
  },
  {
   "cell_type": "code",
   "execution_count": 22,
   "id": "5b851622",
   "metadata": {},
   "outputs": [
    {
     "name": "stdout",
     "output_type": "stream",
     "text": [
      "root\n",
      " |-- customer_id: long (nullable = true)\n",
      " |-- customer_email: string (nullable = true)\n",
      " |-- customer_lname: string (nullable = true)\n",
      " |-- order_item_details: struct (nullable = true)\n",
      " |    |-- order_item_id: long (nullable = true)\n",
      " |    |-- order_item_product_id: long (nullable = true)\n",
      " |    |-- order_item_subtotal: double (nullable = true)\n",
      "\n"
     ]
    }
   ],
   "source": [
    "customer_details_df. \\\n",
    "    select(\n",
    "        'customer_id',\n",
    "        'customer_email',\n",
    "        'customer_lname',\n",
    "        explode('order_details').alias('order_details')\n",
    "    ). \\\n",
    "    select(\n",
    "        'customer_id',\n",
    "        'customer_email',\n",
    "        'customer_lname',\n",
    "        explode('order_details.order_item_details').alias('order_item_details')\n",
    "    ). \\\n",
    "    printSchema()"
   ]
  },
  {
   "cell_type": "code",
   "execution_count": 23,
   "id": "0b6cffef",
   "metadata": {},
   "outputs": [
    {
     "name": "stdout",
     "output_type": "stream",
     "text": [
      "+-----------+--------------+--------------+--------------------+\n",
      "|customer_id|customer_email|customer_lname|  order_item_details|\n",
      "+-----------+--------------+--------------+--------------------+\n",
      "|          1|     XXXXXXXXX|     Hernandez|{57439, 191, 499.95}|\n",
      "|          2|     XXXXXXXXX|       Barrett|{84536, 957, 299.98}|\n",
      "|          2|     XXXXXXXXX|       Barrett|{84537, 1073, 199...|\n",
      "|          2|     XXXXXXXXX|       Barrett|  {84538, 502, 50.0}|\n",
      "|          2|     XXXXXXXXX|       Barrett|{169674, 1004, 39...|\n",
      "|          2|     XXXXXXXXX|       Barrett|{38007, 1014, 99.96}|\n",
      "|          2|     XXXXXXXXX|       Barrett|{145019, 365, 119...|\n",
      "|          2|     XXXXXXXXX|       Barrett|{145020, 1073, 19...|\n",
      "|          2|     XXXXXXXXX|       Barrett|{145021, 627, 199...|\n",
      "|          2|     XXXXXXXXX|       Barrett|{145022, 1014, 99...|\n",
      "|          2|     XXXXXXXXX|       Barrett|{145023, 1014, 14...|\n",
      "|          3|     XXXXXXXXX|         Smith|{144129, 365, 239...|\n",
      "|          3|     XXXXXXXXX|         Smith|{144130, 365, 239...|\n",
      "|          3|     XXXXXXXXX|         Smith|{144131, 1014, 99...|\n",
      "|          3|     XXXXXXXXX|         Smith|{144132, 1073, 19...|\n",
      "|          3|     XXXXXXXXX|         Smith|{140506, 502, 100.0}|\n",
      "|          3|     XXXXXXXXX|         Smith|{140507, 365, 299...|\n",
      "|          3|     XXXXXXXXX|         Smith|{140508, 957, 299...|\n",
      "|          3|     XXXXXXXXX|         Smith|{140509, 502, 150.0}|\n",
      "|          3|     XXXXXXXXX|         Smith|{140510, 957, 299...|\n",
      "+-----------+--------------+--------------+--------------------+\n",
      "only showing top 20 rows\n",
      "\n"
     ]
    }
   ],
   "source": [
    "customer_details_df. \\\n",
    "    select(\n",
    "        'customer_id',\n",
    "        'customer_email',\n",
    "        'customer_lname',\n",
    "        explode('order_details').alias('order_details')\n",
    "    ). \\\n",
    "    select(\n",
    "        'customer_id',\n",
    "        'customer_email',\n",
    "        'customer_lname',\n",
    "        explode('order_details.order_item_details').alias('order_item_details')\n",
    "    ). \\\n",
    "    show()"
   ]
  },
  {
   "cell_type": "code",
   "execution_count": 24,
   "id": "8d9a4c2a",
   "metadata": {},
   "outputs": [
    {
     "name": "stdout",
     "output_type": "stream",
     "text": [
      "+-----------+--------------+--------------+-------------+---------------------+-------------------+\n",
      "|customer_id|customer_email|customer_lname|order_item_id|order_item_product_id|order_item_subtotal|\n",
      "+-----------+--------------+--------------+-------------+---------------------+-------------------+\n",
      "|          1|     XXXXXXXXX|     Hernandez|        57439|                  191|             499.95|\n",
      "|          2|     XXXXXXXXX|       Barrett|        84536|                  957|             299.98|\n",
      "|          2|     XXXXXXXXX|       Barrett|        84537|                 1073|             199.99|\n",
      "|          2|     XXXXXXXXX|       Barrett|        84538|                  502|               50.0|\n",
      "|          2|     XXXXXXXXX|       Barrett|       169674|                 1004|             399.98|\n",
      "|          2|     XXXXXXXXX|       Barrett|        38007|                 1014|              99.96|\n",
      "|          2|     XXXXXXXXX|       Barrett|       145019|                  365|             119.98|\n",
      "|          2|     XXXXXXXXX|       Barrett|       145020|                 1073|             199.99|\n",
      "|          2|     XXXXXXXXX|       Barrett|       145021|                  627|             199.95|\n",
      "|          2|     XXXXXXXXX|       Barrett|       145022|                 1014|              99.96|\n",
      "|          2|     XXXXXXXXX|       Barrett|       145023|                 1014|             149.94|\n",
      "|          3|     XXXXXXXXX|         Smith|       144129|                  365|             239.96|\n",
      "|          3|     XXXXXXXXX|         Smith|       144130|                  365|             239.96|\n",
      "|          3|     XXXXXXXXX|         Smith|       144131|                 1014|              99.96|\n",
      "|          3|     XXXXXXXXX|         Smith|       144132|                 1073|             199.99|\n",
      "|          3|     XXXXXXXXX|         Smith|       140506|                  502|              100.0|\n",
      "|          3|     XXXXXXXXX|         Smith|       140507|                  365|             299.95|\n",
      "|          3|     XXXXXXXXX|         Smith|       140508|                  957|             299.98|\n",
      "|          3|     XXXXXXXXX|         Smith|       140509|                  502|              150.0|\n",
      "|          3|     XXXXXXXXX|         Smith|       140510|                  957|             299.98|\n",
      "+-----------+--------------+--------------+-------------+---------------------+-------------------+\n",
      "only showing top 20 rows\n",
      "\n"
     ]
    }
   ],
   "source": [
    "customer_details_df. \\\n",
    "    select(\n",
    "        'customer_id',\n",
    "        'customer_email',\n",
    "        'customer_lname',\n",
    "        explode('order_details').alias('order_details')\n",
    "    ). \\\n",
    "    select(\n",
    "        'customer_id',\n",
    "        'customer_email',\n",
    "        'customer_lname',\n",
    "        explode('order_details.order_item_details').alias('order_item_details')\n",
    "    ). \\\n",
    "    select(\n",
    "        'customer_id',\n",
    "        'customer_email',\n",
    "        'customer_lname',\n",
    "        'order_item_details.*'\n",
    "    ). \\\n",
    "    show()"
   ]
  },
  {
   "cell_type": "code",
   "execution_count": 25,
   "id": "4c34bc73",
   "metadata": {},
   "outputs": [],
   "source": [
    "from pyspark.sql.functions import sum, round, col"
   ]
  },
  {
   "cell_type": "code",
   "execution_count": 26,
   "id": "bad954e3",
   "metadata": {},
   "outputs": [
    {
     "name": "stdout",
     "output_type": "stream",
     "text": [
      "+-----------+--------------+--------------+----------------+\n",
      "|customer_id|customer_lname|customer_email|customer_revenue|\n",
      "+-----------+--------------+--------------+----------------+\n",
      "|          1|     Hernandez|     XXXXXXXXX|          499.95|\n",
      "|          2|       Barrett|     XXXXXXXXX|         1819.73|\n",
      "|          3|         Smith|     XXXXXXXXX|         3537.68|\n",
      "|          4|         Jones|     XXXXXXXXX|         1719.63|\n",
      "|          5|        Hudson|     XXXXXXXXX|         1274.75|\n",
      "|          6|         Smith|     XXXXXXXXX|         3259.51|\n",
      "|          7|        Wilcox|     XXXXXXXXX|         5569.48|\n",
      "|          8|         Smith|     XXXXXXXXX|          3763.5|\n",
      "|          9|         Perez|     XXXXXXXXX|         3229.68|\n",
      "|         10|         Smith|     XXXXXXXXX|         1264.79|\n",
      "|         11|       Huffman|     XXXXXXXXX|         2429.65|\n",
      "|         12|         Smith|     XXXXXXXXX|         6009.35|\n",
      "|         13|       Baldwin|     XXXXXXXXX|         3185.62|\n",
      "|         14|         Smith|     XXXXXXXXX|         2414.72|\n",
      "|         15|          Luna|     XXXXXXXXX|          239.98|\n",
      "|         16|         Smith|     XXXXXXXXX|         2349.77|\n",
      "|         17|      Robinson|     XXXXXXXXX|         4259.66|\n",
      "|         18|         Smith|     XXXXXXXXX|          3519.6|\n",
      "|         19|      Mitchell|     XXXXXXXXX|         4355.62|\n",
      "|         20|         Ellis|     XXXXXXXXX|         1589.77|\n",
      "+-----------+--------------+--------------+----------------+\n",
      "only showing top 20 rows\n",
      "\n"
     ]
    }
   ],
   "source": [
    "customer_details_df. \\\n",
    "    select(\n",
    "        'customer_id',\n",
    "        'customer_email',\n",
    "        'customer_lname',\n",
    "        explode('order_details').alias('order_details')\n",
    "    ). \\\n",
    "    select(\n",
    "        'customer_id',\n",
    "        'customer_email',\n",
    "        'customer_lname',\n",
    "        explode('order_details.order_item_details').alias('order_item_details')\n",
    "    ). \\\n",
    "    select(\n",
    "        'customer_id',\n",
    "        'customer_email',\n",
    "        'customer_lname',\n",
    "        'order_item_details.*'\n",
    "    ). \\\n",
    "    groupBy(\n",
    "        'customer_id',\n",
    "        'customer_lname',\n",
    "        'customer_email'\n",
    "\n",
    "    ). \\\n",
    "    agg(\n",
    "        round(sum(col('order_item_subtotal')),2).alias('customer_revenue')\n",
    "    ). \\\n",
    "    orderBy('customer_id'). \\\n",
    "    show()"
   ]
  },
  {
   "cell_type": "code",
   "execution_count": 27,
   "id": "f23547e4",
   "metadata": {},
   "outputs": [
    {
     "name": "stdout",
     "output_type": "stream",
     "text": [
      "+-----------+--------------+--------------+----------------+\n",
      "|customer_id|customer_lname|customer_email|customer_revenue|\n",
      "+-----------+--------------+--------------+----------------+\n",
      "|          1|     Hernandez|     XXXXXXXXX|          499.95|\n",
      "|          2|       Barrett|     XXXXXXXXX|         1819.73|\n",
      "|          3|         Smith|     XXXXXXXXX|         3537.68|\n",
      "|          4|         Jones|     XXXXXXXXX|         1719.63|\n",
      "|          5|        Hudson|     XXXXXXXXX|         1274.75|\n",
      "|          6|         Smith|     XXXXXXXXX|         3259.51|\n",
      "|          7|        Wilcox|     XXXXXXXXX|         5569.48|\n",
      "|          8|         Smith|     XXXXXXXXX|          3763.5|\n",
      "|          9|         Perez|     XXXXXXXXX|         3229.68|\n",
      "|         10|         Smith|     XXXXXXXXX|         1264.79|\n",
      "|         11|       Huffman|     XXXXXXXXX|         2429.65|\n",
      "|         12|         Smith|     XXXXXXXXX|         6009.35|\n",
      "|         13|       Baldwin|     XXXXXXXXX|         3185.62|\n",
      "|         14|         Smith|     XXXXXXXXX|         2414.72|\n",
      "|         15|          Luna|     XXXXXXXXX|          239.98|\n",
      "|         16|         Smith|     XXXXXXXXX|         2349.77|\n",
      "|         17|      Robinson|     XXXXXXXXX|         4259.66|\n",
      "|         18|         Smith|     XXXXXXXXX|          3519.6|\n",
      "|         19|      Mitchell|     XXXXXXXXX|         4355.62|\n",
      "|         20|         Ellis|     XXXXXXXXX|         1589.77|\n",
      "+-----------+--------------+--------------+----------------+\n",
      "only showing top 20 rows\n",
      "\n"
     ]
    }
   ],
   "source": [
    "customer_details_df. \\\n",
    "    select(\n",
    "        'customer_id',\n",
    "        'customer_email',\n",
    "        'customer_lname',\n",
    "        explode('order_details').alias('order_details')\n",
    "    ). \\\n",
    "    select(\n",
    "        'customer_id',\n",
    "        'customer_email',\n",
    "        'customer_lname',\n",
    "        explode('order_details.order_item_details').alias('order_item_details')\n",
    "    ). \\\n",
    "    groupBy(\n",
    "        'customer_id',\n",
    "        'customer_lname',\n",
    "        'customer_email'\n",
    "    ). \\\n",
    "    agg(\n",
    "        round(sum('order_item_details.order_item_subtotal'),2).alias('customer_revenue')\n",
    "    ). \\\n",
    "    orderBy('customer_id'). \\\n",
    "    show()"
   ]
  },
  {
   "cell_type": "code",
   "execution_count": 28,
   "id": "3155c450",
   "metadata": {},
   "outputs": [
    {
     "name": "stdout",
     "output_type": "stream",
     "text": [
      "+-----------+--------------+--------------+--------------------+\n",
      "|customer_id|customer_email|customer_lname|       order_details|\n",
      "+-----------+--------------+--------------+--------------------+\n",
      "|          1|     XXXXXXXXX|     Hernandez|{2013-12-13 00:00...|\n",
      "|          2|     XXXXXXXXX|       Barrett|{2014-02-18 00:00...|\n",
      "|          2|     XXXXXXXXX|       Barrett|{2013-11-30 00:00...|\n",
      "|          2|     XXXXXXXXX|       Barrett|{2013-10-29 00:00...|\n",
      "|          2|     XXXXXXXXX|       Barrett|{2013-08-02 00:00...|\n",
      "|          3|     XXXXXXXXX|         Smith|{2014-07-24 00:00...|\n",
      "|          3|     XXXXXXXXX|         Smith|{2014-07-15 00:00...|\n",
      "|          3|     XXXXXXXXX|         Smith|{2014-02-26 00:00...|\n",
      "|          3|     XXXXXXXXX|         Smith|{2013-12-19 00:00...|\n",
      "|          3|     XXXXXXXXX|         Smith|{2013-12-14 00:00...|\n",
      "|          4|     XXXXXXXXX|         Jones|{2014-06-10 00:00...|\n",
      "|          4|     XXXXXXXXX|         Jones|{2014-05-28 00:00...|\n",
      "|          4|     XXXXXXXXX|         Jones|{2013-09-24 00:00...|\n",
      "|          4|     XXXXXXXXX|         Jones|{2013-09-19 00:00...|\n",
      "|          5|     XXXXXXXXX|        Hudson|{2014-05-05 00:00...|\n",
      "|          5|     XXXXXXXXX|        Hudson|{2014-04-05 00:00...|\n",
      "|          5|     XXXXXXXXX|        Hudson|{2014-03-06 00:00...|\n",
      "|          6|     XXXXXXXXX|         Smith|{2014-02-13 00:00...|\n",
      "|          6|     XXXXXXXXX|         Smith|{2013-12-10 00:00...|\n",
      "|          6|     XXXXXXXXX|         Smith|{2013-09-10 00:00...|\n",
      "+-----------+--------------+--------------+--------------------+\n",
      "only showing top 20 rows\n",
      "\n"
     ]
    }
   ],
   "source": [
    "customer_details_df. \\\n",
    "        select(\n",
    "        'customer_id',\n",
    "        'customer_email',\n",
    "        'customer_lname',\n",
    "        explode('order_details').alias('order_details')\n",
    "    ). \\\n",
    "    show()"
   ]
  },
  {
   "cell_type": "code",
   "execution_count": 29,
   "id": "a6526513",
   "metadata": {},
   "outputs": [
    {
     "name": "stdout",
     "output_type": "stream",
     "text": [
      "+--------------+-----------+--------------+--------------------+--------+--------------------+---------------+\n",
      "|customer_email|customer_id|customer_lname|          order_date|order_id|  order_item_details|   order_status|\n",
      "+--------------+-----------+--------------+--------------------+--------+--------------------+---------------+\n",
      "|     XXXXXXXXX|          1|     Hernandez|2013-12-13 00:00:...|   22945|[{57439, 191, 499...|       COMPLETE|\n",
      "|     XXXXXXXXX|          2|       Barrett|2014-02-18 00:00:...|   33865|[{84536, 957, 299...|       COMPLETE|\n",
      "|     XXXXXXXXX|          2|       Barrett|2013-11-30 00:00:...|   67863|[{169674, 1004, 3...|       COMPLETE|\n",
      "|     XXXXXXXXX|          2|       Barrett|2013-10-29 00:00:...|   15192|[{38007, 1014, 99...|PENDING_PAYMENT|\n",
      "|     XXXXXXXXX|          2|       Barrett|2013-08-02 00:00:...|   57963|[{145019, 365, 11...|        ON_HOLD|\n",
      "|     XXXXXXXXX|          3|         Smith|2014-07-24 00:00:...|   57617|[{144129, 365, 23...|       COMPLETE|\n",
      "|     XXXXXXXXX|          3|         Smith|2014-07-15 00:00:...|   56178|[{140506, 502, 10...|        PENDING|\n",
      "|     XXXXXXXXX|          3|         Smith|2014-02-26 00:00:...|   35158|[{87812, 1004, 39...|       COMPLETE|\n",
      "|     XXXXXXXXX|          3|         Smith|2013-12-19 00:00:...|   23662|[{59207, 191, 99....|       COMPLETE|\n",
      "|     XXXXXXXXX|          3|         Smith|2013-12-14 00:00:...|   61453|[{153687, 403, 12...|       COMPLETE|\n",
      "|     XXXXXXXXX|          4|         Jones|2014-06-10 00:00:...|   51157|[{127851, 365, 11...|         CLOSED|\n",
      "|     XXXXXXXXX|          4|         Jones|2014-05-28 00:00:...|   49339|[{123338, 502, 10...|       COMPLETE|\n",
      "|     XXXXXXXXX|          4|         Jones|2013-09-24 00:00:...|    9704|[{24238, 365, 179...|       COMPLETE|\n",
      "|     XXXXXXXXX|          4|         Jones|2013-09-19 00:00:...|    9023|[{22495, 1014, 99...|       COMPLETE|\n",
      "|     XXXXXXXXX|          5|        Hudson|2014-05-05 00:00:...|   45832|[{114561, 365, 23...|PENDING_PAYMENT|\n",
      "|     XXXXXXXXX|          5|        Hudson|2014-04-05 00:00:...|   41333|[{103183, 403, 12...|       COMPLETE|\n",
      "|     XXXXXXXXX|          5|        Hudson|2014-03-06 00:00:...|   36472|[{91064, 1014, 99...|     PROCESSING|\n",
      "|     XXXXXXXXX|          6|         Smith|2014-02-13 00:00:...|   32895|[{82279, 191, 299...|PENDING_PAYMENT|\n",
      "|     XXXXXXXXX|          6|         Smith|2013-12-10 00:00:...|   22457|[{56200, 1014, 99...|PENDING_PAYMENT|\n",
      "|     XXXXXXXXX|          6|         Smith|2013-09-10 00:00:...|    7787|[{19473, 1014, 24...|        PENDING|\n",
      "+--------------+-----------+--------------+--------------------+--------+--------------------+---------------+\n",
      "only showing top 20 rows\n",
      "\n"
     ]
    }
   ],
   "source": [
    "customer_details_df. \\\n",
    "    select(\n",
    "        'customer_id',\n",
    "        'customer_email',\n",
    "        'customer_lname',\n",
    "        explode('order_details').alias('order_details')\n",
    "    ). \\\n",
    "    select(\n",
    "        'customer_email',\n",
    "        'customer_id',\n",
    "        'customer_lname',\n",
    "        'order_details.*'\n",
    "    ). \\\n",
    "    show()\n",
    "    "
   ]
  },
  {
   "cell_type": "code",
   "execution_count": 31,
   "id": "6b475ff0",
   "metadata": {},
   "outputs": [
    {
     "name": "stdout",
     "output_type": "stream",
     "text": [
      "+--------------+-----------+--------------+----------------------+------------------------+--------------------------+--------------------+\n",
      "|customer_email|customer_id|customer_lname|order_details.order_id|order_details.order_date|order_details.order_status|  order_item_details|\n",
      "+--------------+-----------+--------------+----------------------+------------------------+--------------------------+--------------------+\n",
      "|     XXXXXXXXX|          1|     Hernandez|                 22945|    2013-12-13 00:00:...|                  COMPLETE|{57439, 191, 499.95}|\n",
      "|     XXXXXXXXX|          2|       Barrett|                 33865|    2014-02-18 00:00:...|                  COMPLETE|{84536, 957, 299.98}|\n",
      "|     XXXXXXXXX|          2|       Barrett|                 33865|    2014-02-18 00:00:...|                  COMPLETE|{84537, 1073, 199...|\n",
      "|     XXXXXXXXX|          2|       Barrett|                 33865|    2014-02-18 00:00:...|                  COMPLETE|  {84538, 502, 50.0}|\n",
      "|     XXXXXXXXX|          2|       Barrett|                 67863|    2013-11-30 00:00:...|                  COMPLETE|{169674, 1004, 39...|\n",
      "|     XXXXXXXXX|          2|       Barrett|                 15192|    2013-10-29 00:00:...|           PENDING_PAYMENT|{38007, 1014, 99.96}|\n",
      "|     XXXXXXXXX|          2|       Barrett|                 57963|    2013-08-02 00:00:...|                   ON_HOLD|{145019, 365, 119...|\n",
      "|     XXXXXXXXX|          2|       Barrett|                 57963|    2013-08-02 00:00:...|                   ON_HOLD|{145020, 1073, 19...|\n",
      "|     XXXXXXXXX|          2|       Barrett|                 57963|    2013-08-02 00:00:...|                   ON_HOLD|{145021, 627, 199...|\n",
      "|     XXXXXXXXX|          2|       Barrett|                 57963|    2013-08-02 00:00:...|                   ON_HOLD|{145022, 1014, 99...|\n",
      "|     XXXXXXXXX|          2|       Barrett|                 57963|    2013-08-02 00:00:...|                   ON_HOLD|{145023, 1014, 14...|\n",
      "|     XXXXXXXXX|          3|         Smith|                 57617|    2014-07-24 00:00:...|                  COMPLETE|{144129, 365, 239...|\n",
      "|     XXXXXXXXX|          3|         Smith|                 57617|    2014-07-24 00:00:...|                  COMPLETE|{144130, 365, 239...|\n",
      "|     XXXXXXXXX|          3|         Smith|                 57617|    2014-07-24 00:00:...|                  COMPLETE|{144131, 1014, 99...|\n",
      "|     XXXXXXXXX|          3|         Smith|                 57617|    2014-07-24 00:00:...|                  COMPLETE|{144132, 1073, 19...|\n",
      "|     XXXXXXXXX|          3|         Smith|                 56178|    2014-07-15 00:00:...|                   PENDING|{140506, 502, 100.0}|\n",
      "|     XXXXXXXXX|          3|         Smith|                 56178|    2014-07-15 00:00:...|                   PENDING|{140507, 365, 299...|\n",
      "|     XXXXXXXXX|          3|         Smith|                 56178|    2014-07-15 00:00:...|                   PENDING|{140508, 957, 299...|\n",
      "|     XXXXXXXXX|          3|         Smith|                 56178|    2014-07-15 00:00:...|                   PENDING|{140509, 502, 150.0}|\n",
      "|     XXXXXXXXX|          3|         Smith|                 56178|    2014-07-15 00:00:...|                   PENDING|{140510, 957, 299...|\n",
      "+--------------+-----------+--------------+----------------------+------------------------+--------------------------+--------------------+\n",
      "only showing top 20 rows\n",
      "\n"
     ]
    }
   ],
   "source": [
    "customer_details_df. \\\n",
    "    select(\n",
    "        'customer_id',\n",
    "        'customer_email',\n",
    "        'customer_lname',\n",
    "        explode('order_details').alias('order_details')\n",
    "    ). \\\n",
    "    select(\n",
    "        'customer_email',\n",
    "        'customer_id',\n",
    "        'customer_lname',\n",
    "        'order_details.order_id',\n",
    "        'order_details.order_date',\n",
    "        'order_details.order_status',\n",
    "        explode('order_details.order_item_details').alias('order_item_details')\n",
    "    ). \\\n",
    "    show()"
   ]
  },
  {
   "cell_type": "code",
   "execution_count": 34,
   "id": "ebb1cf90",
   "metadata": {},
   "outputs": [],
   "source": [
    "from pyspark.sql.functions import col"
   ]
  },
  {
   "cell_type": "code",
   "execution_count": 37,
   "id": "5abc36e1",
   "metadata": {},
   "outputs": [
    {
     "name": "stdout",
     "output_type": "stream",
     "text": [
      "+--------------+-----------+--------------+--------+--------------------+---------------+-------------+---------------------+-------------------+\n",
      "|customer_email|customer_id|customer_lname|order_id|          order_date|   order_status|order_item_id|order_item_product_id|order_item_subtotal|\n",
      "+--------------+-----------+--------------+--------+--------------------+---------------+-------------+---------------------+-------------------+\n",
      "|     XXXXXXXXX|          1|     Hernandez|   22945|2013-12-13 00:00:...|       COMPLETE|        57439|                  191|             499.95|\n",
      "|     XXXXXXXXX|          2|       Barrett|   33865|2014-02-18 00:00:...|       COMPLETE|        84536|                  957|             299.98|\n",
      "|     XXXXXXXXX|          2|       Barrett|   33865|2014-02-18 00:00:...|       COMPLETE|        84537|                 1073|             199.99|\n",
      "|     XXXXXXXXX|          2|       Barrett|   33865|2014-02-18 00:00:...|       COMPLETE|        84538|                  502|               50.0|\n",
      "|     XXXXXXXXX|          2|       Barrett|   67863|2013-11-30 00:00:...|       COMPLETE|       169674|                 1004|             399.98|\n",
      "|     XXXXXXXXX|          2|       Barrett|   15192|2013-10-29 00:00:...|PENDING_PAYMENT|        38007|                 1014|              99.96|\n",
      "|     XXXXXXXXX|          2|       Barrett|   57963|2013-08-02 00:00:...|        ON_HOLD|       145019|                  365|             119.98|\n",
      "|     XXXXXXXXX|          2|       Barrett|   57963|2013-08-02 00:00:...|        ON_HOLD|       145020|                 1073|             199.99|\n",
      "|     XXXXXXXXX|          2|       Barrett|   57963|2013-08-02 00:00:...|        ON_HOLD|       145021|                  627|             199.95|\n",
      "|     XXXXXXXXX|          2|       Barrett|   57963|2013-08-02 00:00:...|        ON_HOLD|       145022|                 1014|              99.96|\n",
      "|     XXXXXXXXX|          2|       Barrett|   57963|2013-08-02 00:00:...|        ON_HOLD|       145023|                 1014|             149.94|\n",
      "|     XXXXXXXXX|          3|         Smith|   57617|2014-07-24 00:00:...|       COMPLETE|       144129|                  365|             239.96|\n",
      "|     XXXXXXXXX|          3|         Smith|   57617|2014-07-24 00:00:...|       COMPLETE|       144130|                  365|             239.96|\n",
      "|     XXXXXXXXX|          3|         Smith|   57617|2014-07-24 00:00:...|       COMPLETE|       144131|                 1014|              99.96|\n",
      "|     XXXXXXXXX|          3|         Smith|   57617|2014-07-24 00:00:...|       COMPLETE|       144132|                 1073|             199.99|\n",
      "|     XXXXXXXXX|          3|         Smith|   56178|2014-07-15 00:00:...|        PENDING|       140506|                  502|              100.0|\n",
      "|     XXXXXXXXX|          3|         Smith|   56178|2014-07-15 00:00:...|        PENDING|       140507|                  365|             299.95|\n",
      "|     XXXXXXXXX|          3|         Smith|   56178|2014-07-15 00:00:...|        PENDING|       140508|                  957|             299.98|\n",
      "|     XXXXXXXXX|          3|         Smith|   56178|2014-07-15 00:00:...|        PENDING|       140509|                  502|              150.0|\n",
      "|     XXXXXXXXX|          3|         Smith|   56178|2014-07-15 00:00:...|        PENDING|       140510|                  957|             299.98|\n",
      "+--------------+-----------+--------------+--------+--------------------+---------------+-------------+---------------------+-------------------+\n",
      "only showing top 20 rows\n",
      "\n"
     ]
    }
   ],
   "source": [
    "customer_details_df. \\\n",
    "    select(\n",
    "        'customer_id',\n",
    "        'customer_email',\n",
    "        'customer_lname',\n",
    "        explode('order_details').alias('order_details')\n",
    "    ). \\\n",
    "    select(\n",
    "        'customer_email',\n",
    "        'customer_id',\n",
    "        'customer_lname',\n",
    "        col('order_details.order_id').alias('order_id'),\n",
    "        col('order_details.order_date').alias('order_date'),\n",
    "        col('order_details.order_status').alias('order_status'),\n",
    "        explode('order_details.order_item_details').alias('order_item_details')\n",
    "    ). \\\n",
    "    select(\n",
    "        'customer_email',\n",
    "        'customer_id',\n",
    "        'customer_lname',\n",
    "        'order_id',\n",
    "        'order_date',\n",
    "        'order_status',\n",
    "        'order_item_details.*'\n",
    "    ). \\\n",
    "    show()"
   ]
  },
  {
   "cell_type": "code",
   "execution_count": 40,
   "id": "dd210ae2",
   "metadata": {},
   "outputs": [],
   "source": [
    "customer_details = customer_details_df. \\\n",
    "    select(\n",
    "        'customer_id',\n",
    "        'customer_email',\n",
    "        'customer_lname',\n",
    "        explode('order_details').alias('order_details')\n",
    "    ). \\\n",
    "    select(\n",
    "        'customer_email',\n",
    "        'customer_id',\n",
    "        'customer_lname',\n",
    "        col('order_details.order_id').alias('order_id'),\n",
    "        col('order_details.order_date').alias('order_date'),\n",
    "        col('order_details.order_status').alias('order_status'),\n",
    "        explode('order_details.order_item_details').alias('order_item_details')\n",
    "    ). \\\n",
    "    select(\n",
    "        'customer_email',\n",
    "        'customer_id',\n",
    "        'customer_lname',\n",
    "        'order_id',\n",
    "        'order_date',\n",
    "        'order_status',\n",
    "        'order_item_details.*'\n",
    "    )\n"
   ]
  },
  {
   "cell_type": "code",
   "execution_count": 41,
   "id": "8096c1f0",
   "metadata": {},
   "outputs": [
    {
     "name": "stdout",
     "output_type": "stream",
     "text": [
      "root\n",
      " |-- customer_email: string (nullable = true)\n",
      " |-- customer_id: long (nullable = true)\n",
      " |-- customer_lname: string (nullable = true)\n",
      " |-- order_id: long (nullable = true)\n",
      " |-- order_date: string (nullable = true)\n",
      " |-- order_status: string (nullable = true)\n",
      " |-- order_item_id: long (nullable = true)\n",
      " |-- order_item_product_id: long (nullable = true)\n",
      " |-- order_item_subtotal: double (nullable = true)\n",
      "\n"
     ]
    }
   ],
   "source": [
    "customer_details.printSchema()"
   ]
  },
  {
   "cell_type": "code",
   "execution_count": 42,
   "id": "02be8327",
   "metadata": {},
   "outputs": [
    {
     "name": "stdout",
     "output_type": "stream",
     "text": [
      "+--------------+-----------+--------------+--------+--------------------+------------+-------------+---------------------+-------------------+\n",
      "|customer_email|customer_id|customer_lname|order_id|          order_date|order_status|order_item_id|order_item_product_id|order_item_subtotal|\n",
      "+--------------+-----------+--------------+--------+--------------------+------------+-------------+---------------------+-------------------+\n",
      "|     XXXXXXXXX|          1|     Hernandez|   22945|2013-12-13 00:00:...|    COMPLETE|        57439|                  191|             499.95|\n",
      "|     XXXXXXXXX|          2|       Barrett|   33865|2014-02-18 00:00:...|    COMPLETE|        84536|                  957|             299.98|\n",
      "|     XXXXXXXXX|          2|       Barrett|   33865|2014-02-18 00:00:...|    COMPLETE|        84537|                 1073|             199.99|\n",
      "|     XXXXXXXXX|          2|       Barrett|   33865|2014-02-18 00:00:...|    COMPLETE|        84538|                  502|               50.0|\n",
      "|     XXXXXXXXX|          2|       Barrett|   67863|2013-11-30 00:00:...|    COMPLETE|       169674|                 1004|             399.98|\n",
      "+--------------+-----------+--------------+--------+--------------------+------------+-------------+---------------------+-------------------+\n",
      "only showing top 5 rows\n",
      "\n"
     ]
    }
   ],
   "source": [
    "customer_details.show(5)"
   ]
  },
  {
   "cell_type": "code",
   "execution_count": 45,
   "id": "ccd03ea8",
   "metadata": {},
   "outputs": [
    {
     "data": {
      "text/plain": [
       "172198"
      ]
     },
     "execution_count": 45,
     "metadata": {},
     "output_type": "execute_result"
    }
   ],
   "source": [
    "customer_details.count()"
   ]
  },
  {
   "cell_type": "code",
   "execution_count": 46,
   "id": "3a410190",
   "metadata": {},
   "outputs": [
    {
     "name": "stdout",
     "output_type": "stream",
     "text": [
      "+--------------+-----------+--------------+--------------------+---------------+-------------------+\n",
      "|customer_email|customer_id|customer_lname|          order_date|   order_status|order_item_subtotal|\n",
      "+--------------+-----------+--------------+--------------------+---------------+-------------------+\n",
      "|     XXXXXXXXX|          1|     Hernandez|2013-12-13 00:00:...|       COMPLETE|             499.95|\n",
      "|     XXXXXXXXX|          2|       Barrett|2014-02-18 00:00:...|       COMPLETE|             299.98|\n",
      "|     XXXXXXXXX|          2|       Barrett|2014-02-18 00:00:...|       COMPLETE|             199.99|\n",
      "|     XXXXXXXXX|          2|       Barrett|2014-02-18 00:00:...|       COMPLETE|               50.0|\n",
      "|     XXXXXXXXX|          2|       Barrett|2013-11-30 00:00:...|       COMPLETE|             399.98|\n",
      "|     XXXXXXXXX|          2|       Barrett|2013-10-29 00:00:...|PENDING_PAYMENT|              99.96|\n",
      "|     XXXXXXXXX|          2|       Barrett|2013-08-02 00:00:...|        ON_HOLD|             119.98|\n",
      "|     XXXXXXXXX|          2|       Barrett|2013-08-02 00:00:...|        ON_HOLD|             199.99|\n",
      "|     XXXXXXXXX|          2|       Barrett|2013-08-02 00:00:...|        ON_HOLD|             199.95|\n",
      "|     XXXXXXXXX|          2|       Barrett|2013-08-02 00:00:...|        ON_HOLD|              99.96|\n",
      "|     XXXXXXXXX|          2|       Barrett|2013-08-02 00:00:...|        ON_HOLD|             149.94|\n",
      "|     XXXXXXXXX|          3|         Smith|2014-07-24 00:00:...|       COMPLETE|             239.96|\n",
      "|     XXXXXXXXX|          3|         Smith|2014-07-24 00:00:...|       COMPLETE|             239.96|\n",
      "|     XXXXXXXXX|          3|         Smith|2014-07-24 00:00:...|       COMPLETE|              99.96|\n",
      "|     XXXXXXXXX|          3|         Smith|2014-07-24 00:00:...|       COMPLETE|             199.99|\n",
      "|     XXXXXXXXX|          3|         Smith|2014-07-15 00:00:...|        PENDING|              100.0|\n",
      "|     XXXXXXXXX|          3|         Smith|2014-07-15 00:00:...|        PENDING|             299.95|\n",
      "|     XXXXXXXXX|          3|         Smith|2014-07-15 00:00:...|        PENDING|             299.98|\n",
      "|     XXXXXXXXX|          3|         Smith|2014-07-15 00:00:...|        PENDING|              150.0|\n",
      "|     XXXXXXXXX|          3|         Smith|2014-07-15 00:00:...|        PENDING|             299.98|\n",
      "+--------------+-----------+--------------+--------------------+---------------+-------------------+\n",
      "only showing top 20 rows\n",
      "\n"
     ]
    }
   ],
   "source": [
    "customer_details. \\\n",
    "    drop('order_id','order_item_id','order_item_product_id'). \\\n",
    "    show()"
   ]
  },
  {
   "cell_type": "code",
   "execution_count": 47,
   "id": "9027dcea",
   "metadata": {},
   "outputs": [
    {
     "name": "stdout",
     "output_type": "stream",
     "text": [
      "+--------------+-----------+--------------+--------------------+------------+-------------------+\n",
      "|customer_email|customer_id|customer_lname|          order_date|order_status|order_item_subtotal|\n",
      "+--------------+-----------+--------------+--------------------+------------+-------------------+\n",
      "|     XXXXXXXXX|          1|     Hernandez|2013-12-13 00:00:...|    COMPLETE|             499.95|\n",
      "|     XXXXXXXXX|          2|       Barrett|2014-02-18 00:00:...|    COMPLETE|             299.98|\n",
      "|     XXXXXXXXX|          2|       Barrett|2014-02-18 00:00:...|    COMPLETE|             199.99|\n",
      "|     XXXXXXXXX|          2|       Barrett|2014-02-18 00:00:...|    COMPLETE|               50.0|\n",
      "|     XXXXXXXXX|          2|       Barrett|2013-11-30 00:00:...|    COMPLETE|             399.98|\n",
      "|     XXXXXXXXX|          3|         Smith|2014-07-24 00:00:...|    COMPLETE|             239.96|\n",
      "|     XXXXXXXXX|          3|         Smith|2014-07-24 00:00:...|    COMPLETE|             239.96|\n",
      "|     XXXXXXXXX|          3|         Smith|2014-07-24 00:00:...|    COMPLETE|              99.96|\n",
      "|     XXXXXXXXX|          3|         Smith|2014-07-24 00:00:...|    COMPLETE|             199.99|\n",
      "|     XXXXXXXXX|          3|         Smith|2014-02-26 00:00:...|    COMPLETE|             399.98|\n",
      "|     XXXXXXXXX|          3|         Smith|2014-02-26 00:00:...|    COMPLETE|              27.99|\n",
      "|     XXXXXXXXX|          3|         Smith|2013-12-19 00:00:...|    COMPLETE|              99.99|\n",
      "|     XXXXXXXXX|          3|         Smith|2013-12-19 00:00:...|    COMPLETE|              100.0|\n",
      "|     XXXXXXXXX|          3|         Smith|2013-12-19 00:00:...|    COMPLETE|               50.0|\n",
      "|     XXXXXXXXX|          3|         Smith|2013-12-14 00:00:...|    COMPLETE|             129.99|\n",
      "|     XXXXXXXXX|          3|         Smith|2013-12-14 00:00:...|    COMPLETE|             299.98|\n",
      "|     XXXXXXXXX|          3|         Smith|2013-12-14 00:00:...|    COMPLETE|             299.98|\n",
      "|     XXXXXXXXX|          3|         Smith|2013-12-14 00:00:...|    COMPLETE|             199.99|\n",
      "|     XXXXXXXXX|          4|         Jones|2014-06-10 00:00:...|      CLOSED|             119.98|\n",
      "|     XXXXXXXXX|          4|         Jones|2014-06-10 00:00:...|      CLOSED|             119.98|\n",
      "+--------------+-----------+--------------+--------------------+------------+-------------------+\n",
      "only showing top 20 rows\n",
      "\n"
     ]
    }
   ],
   "source": [
    "customer_details. \\\n",
    "    drop('order_id','order_item_id','order_item_product_id'). \\\n",
    "    filter(\"order_status IN ('COMPLETE','CLOSED')\"). \\\n",
    "    show()"
   ]
  },
  {
   "cell_type": "code",
   "execution_count": 48,
   "id": "648bfd33",
   "metadata": {},
   "outputs": [],
   "source": [
    "from pyspark.sql.functions import date_format"
   ]
  },
  {
   "cell_type": "code",
   "execution_count": 49,
   "id": "19a5a669",
   "metadata": {},
   "outputs": [
    {
     "name": "stdout",
     "output_type": "stream",
     "text": [
      "+--------------+-----------+--------------+--------+--------------------+---------------+-------------+---------------------+-------------------+-----------+\n",
      "|customer_email|customer_id|customer_lname|order_id|          order_date|   order_status|order_item_id|order_item_product_id|order_item_subtotal|order_month|\n",
      "+--------------+-----------+--------------+--------+--------------------+---------------+-------------+---------------------+-------------------+-----------+\n",
      "|     XXXXXXXXX|          1|     Hernandez|   22945|2013-12-13 00:00:...|       COMPLETE|        57439|                  191|             499.95|     201312|\n",
      "|     XXXXXXXXX|          2|       Barrett|   33865|2014-02-18 00:00:...|       COMPLETE|        84536|                  957|             299.98|     201402|\n",
      "|     XXXXXXXXX|          2|       Barrett|   33865|2014-02-18 00:00:...|       COMPLETE|        84537|                 1073|             199.99|     201402|\n",
      "|     XXXXXXXXX|          2|       Barrett|   33865|2014-02-18 00:00:...|       COMPLETE|        84538|                  502|               50.0|     201402|\n",
      "|     XXXXXXXXX|          2|       Barrett|   67863|2013-11-30 00:00:...|       COMPLETE|       169674|                 1004|             399.98|     201311|\n",
      "|     XXXXXXXXX|          2|       Barrett|   15192|2013-10-29 00:00:...|PENDING_PAYMENT|        38007|                 1014|              99.96|     201310|\n",
      "|     XXXXXXXXX|          2|       Barrett|   57963|2013-08-02 00:00:...|        ON_HOLD|       145019|                  365|             119.98|     201308|\n",
      "|     XXXXXXXXX|          2|       Barrett|   57963|2013-08-02 00:00:...|        ON_HOLD|       145020|                 1073|             199.99|     201308|\n",
      "|     XXXXXXXXX|          2|       Barrett|   57963|2013-08-02 00:00:...|        ON_HOLD|       145021|                  627|             199.95|     201308|\n",
      "|     XXXXXXXXX|          2|       Barrett|   57963|2013-08-02 00:00:...|        ON_HOLD|       145022|                 1014|              99.96|     201308|\n",
      "|     XXXXXXXXX|          2|       Barrett|   57963|2013-08-02 00:00:...|        ON_HOLD|       145023|                 1014|             149.94|     201308|\n",
      "|     XXXXXXXXX|          3|         Smith|   57617|2014-07-24 00:00:...|       COMPLETE|       144129|                  365|             239.96|     201407|\n",
      "|     XXXXXXXXX|          3|         Smith|   57617|2014-07-24 00:00:...|       COMPLETE|       144130|                  365|             239.96|     201407|\n",
      "|     XXXXXXXXX|          3|         Smith|   57617|2014-07-24 00:00:...|       COMPLETE|       144131|                 1014|              99.96|     201407|\n",
      "|     XXXXXXXXX|          3|         Smith|   57617|2014-07-24 00:00:...|       COMPLETE|       144132|                 1073|             199.99|     201407|\n",
      "|     XXXXXXXXX|          3|         Smith|   56178|2014-07-15 00:00:...|        PENDING|       140506|                  502|              100.0|     201407|\n",
      "|     XXXXXXXXX|          3|         Smith|   56178|2014-07-15 00:00:...|        PENDING|       140507|                  365|             299.95|     201407|\n",
      "|     XXXXXXXXX|          3|         Smith|   56178|2014-07-15 00:00:...|        PENDING|       140508|                  957|             299.98|     201407|\n",
      "|     XXXXXXXXX|          3|         Smith|   56178|2014-07-15 00:00:...|        PENDING|       140509|                  502|              150.0|     201407|\n",
      "|     XXXXXXXXX|          3|         Smith|   56178|2014-07-15 00:00:...|        PENDING|       140510|                  957|             299.98|     201407|\n",
      "+--------------+-----------+--------------+--------+--------------------+---------------+-------------+---------------------+-------------------+-----------+\n",
      "only showing top 20 rows\n",
      "\n"
     ]
    }
   ],
   "source": [
    "customer_details. \\\n",
    "    withColumn('order_month',date_format('order_date','yyyyMM')). \\\n",
    "    show()"
   ]
  },
  {
   "cell_type": "code",
   "execution_count": 54,
   "id": "dc9b764a",
   "metadata": {},
   "outputs": [
    {
     "name": "stdout",
     "output_type": "stream",
     "text": [
      "+-----------+--------------+--------------+-----------+-------------+\n",
      "|customer_id|customer_lname|customer_email|order_month|order_revenue|\n",
      "+-----------+--------------+--------------+-----------+-------------+\n",
      "|          1|     Hernandez|     XXXXXXXXX|    2013-12|       499.95|\n",
      "|          2|       Barrett|     XXXXXXXXX|    2013-11|       399.98|\n",
      "|          2|       Barrett|     XXXXXXXXX|    2014-02|       549.97|\n",
      "|          3|         Smith|     XXXXXXXXX|    2013-12|      1179.93|\n",
      "|          3|         Smith|     XXXXXXXXX|    2014-02|       427.97|\n",
      "|          3|         Smith|     XXXXXXXXX|    2014-07|       779.87|\n",
      "|          4|         Jones|     XXXXXXXXX|    2013-09|       899.75|\n",
      "|          4|         Jones|     XXXXXXXXX|    2014-05|       519.93|\n",
      "|          4|         Jones|     XXXXXXXXX|    2014-06|       299.95|\n",
      "|          5|        Hudson|     XXXXXXXXX|    2014-04|       129.99|\n",
      "|          7|        Wilcox|     XXXXXXXXX|    2013-12|       629.94|\n",
      "|          8|         Smith|     XXXXXXXXX|    2013-09|       849.76|\n",
      "|          8|         Smith|     XXXXXXXXX|    2013-12|       909.94|\n",
      "|          8|         Smith|     XXXXXXXXX|    2014-01|       353.93|\n",
      "|          9|         Perez|     XXXXXXXXX|    2013-10|       224.94|\n",
      "|          9|         Perez|     XXXXXXXXX|    2014-07|       704.92|\n",
      "|         10|         Smith|     XXXXXXXXX|    2014-05|       849.95|\n",
      "|         10|         Smith|     XXXXXXXXX|    2014-07|       414.84|\n",
      "|         11|       Huffman|     XXXXXXXXX|    2013-10|       809.79|\n",
      "|         11|       Huffman|     XXXXXXXXX|    2013-11|       819.91|\n",
      "+-----------+--------------+--------------+-----------+-------------+\n",
      "only showing top 20 rows\n",
      "\n"
     ]
    }
   ],
   "source": [
    "customer_details. \\\n",
    "    drop('order_id','order_item_id','order_item_product_id'). \\\n",
    "    filter(\"order_status IN ('COMPLETE','CLOSED')\"). \\\n",
    "    groupBy(\n",
    "        'customer_id',\n",
    "        'customer_lname',\n",
    "        'customer_email',\n",
    "        date_format('order_date','yyyy-MM').alias('order_month')\n",
    "    ). \\\n",
    "    agg(round(sum('order_item_subtotal'),2).alias('order_revenue')). \\\n",
    "    orderBy('customer_id','order_month',col('order_revenue').desc()). \\\n",
    "    show()"
   ]
  },
  {
   "cell_type": "code",
   "execution_count": null,
   "id": "e1ddb09f",
   "metadata": {},
   "outputs": [],
   "source": []
  }
 ],
 "metadata": {
  "kernelspec": {
   "display_name": "Pyspark 3",
   "language": "python",
   "name": "pyspark3"
  },
  "language_info": {
   "codemirror_mode": {
    "name": "ipython",
    "version": 3
   },
   "file_extension": ".py",
   "mimetype": "text/x-python",
   "name": "python",
   "nbconvert_exporter": "python",
   "pygments_lexer": "ipython3",
   "version": "3.6.12"
  }
 },
 "nbformat": 4,
 "nbformat_minor": 5
}
