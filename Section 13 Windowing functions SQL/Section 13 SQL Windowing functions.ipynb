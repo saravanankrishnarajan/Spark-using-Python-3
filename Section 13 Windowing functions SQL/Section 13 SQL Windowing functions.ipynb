{
 "cells": [
  {
   "cell_type": "markdown",
   "id": "5427bd14-5e5d-4956-9733-145b654e056e",
   "metadata": {},
   "source": [
    "## Section 13 SQL Windowing functions"
   ]
  },
  {
   "cell_type": "code",
   "execution_count": 1,
   "id": "d6da4a11-d0be-4cf9-9bfe-bd63b610acc9",
   "metadata": {},
   "outputs": [
    {
     "data": {
      "text/plain": [
       "spark = org.apache.spark.sql.SparkSession@3ed274\n"
      ]
     },
     "metadata": {},
     "output_type": "display_data",
     "source": "user"
    },
    {
     "data": {
      "text/plain": [
       "org.apache.spark.sql.SparkSession@3ed274"
      ]
     },
     "execution_count": 1,
     "metadata": {},
     "output_type": "execute_result"
    }
   ],
   "source": [
    "import org.apache.spark.sql.SparkSession\n",
    "\n",
    "val spark = SparkSession.\n",
    "            builder.\n",
    "            config(\"spark.ui.port\",0).\n",
    "            config(\"spark.sql.warehouse.dir\",\"/user/itversity/warehouse\").\n",
    "            enableHiveSupport.\n",
    "            appName(\"Spark SQL - Windowing Functions\").\n",
    "            master(\"yarn\").\n",
    "            getOrCreate"
   ]
  },
  {
   "cell_type": "code",
   "execution_count": 3,
   "id": "0d659d1e-cb7d-410b-8721-e36ea854c1a4",
   "metadata": {},
   "outputs": [
    {
     "data": {
      "text/plain": [
       "username = itversity\n"
      ]
     },
     "metadata": {},
     "output_type": "display_data",
     "source": "user"
    },
    {
     "data": {
      "text/plain": [
       "itversity"
      ]
     },
     "execution_count": 3,
     "metadata": {},
     "output_type": "execute_result"
    }
   ],
   "source": [
    "import sys.process._\n",
    "\n",
    "val username = System.getProperty(\"user.name\")"
   ]
  },
  {
   "cell_type": "code",
   "execution_count": 4,
   "id": "b3ead704-4a26-4e94-99a9-354c7f00fb6b",
   "metadata": {},
   "outputs": [
    {
     "data": {
      "text/plain": [
       "Waiting for a Spark session to start..."
      ]
     },
     "metadata": {},
     "output_type": "display_data",
     "source": "user"
    },
    {
     "data": {
      "text/plain": [
       "+--------------------+-----+\n",
       "|                 key|value|\n",
       "+--------------------+-----+\n",
       "|spark.sql.shuffle...|    2|\n",
       "+--------------------+-----+\n",
       "\n"
      ]
     },
     "execution_count": 4,
     "metadata": {},
     "output_type": "execute_result"
    }
   ],
   "source": [
    "%%sql\n",
    "\n",
    "SET spark.sql.shuffle.partitions=2"
   ]
  },
  {
   "cell_type": "markdown",
   "id": "05f7bf4f-b0e3-4387-a4ae-4ae5742bd452",
   "metadata": {
    "tags": []
   },
   "source": [
    "### 149 Prepare HR Database "
   ]
  },
  {
   "cell_type": "code",
   "execution_count": 6,
   "id": "5606116c-84e4-4618-ac08-2496a2811eef",
   "metadata": {},
   "outputs": [
    {
     "data": {
      "text/plain": [
       "++\n",
       "||\n",
       "++\n",
       "++\n",
       "\n"
      ]
     },
     "execution_count": 6,
     "metadata": {},
     "output_type": "execute_result"
    }
   ],
   "source": [
    "%%sql\n",
    "\n",
    "DROP DATABASE IF EXISTS itversity_hr CASCADE"
   ]
  },
  {
   "cell_type": "code",
   "execution_count": 7,
   "id": "ed6d384b-af6d-4310-abe3-981a4a0ae39b",
   "metadata": {},
   "outputs": [
    {
     "data": {
      "text/plain": [
       "++\n",
       "||\n",
       "++\n",
       "++\n",
       "\n"
      ]
     },
     "execution_count": 7,
     "metadata": {},
     "output_type": "execute_result"
    }
   ],
   "source": [
    "%%sql\n",
    "\n",
    "CREATE DATABASE itversity_hr"
   ]
  },
  {
   "cell_type": "code",
   "execution_count": 8,
   "id": "4fe492c3-1065-4566-b323-9b2e3c8f1c98",
   "metadata": {},
   "outputs": [
    {
     "data": {
      "text/plain": [
       "++\n",
       "||\n",
       "++\n",
       "++\n",
       "\n"
      ]
     },
     "execution_count": 8,
     "metadata": {},
     "output_type": "execute_result"
    }
   ],
   "source": [
    "%%sql\n",
    "\n",
    "USE itversity_hr"
   ]
  },
  {
   "cell_type": "code",
   "execution_count": 9,
   "id": "ce9789c7-473c-4287-9796-7a980c18d26f",
   "metadata": {},
   "outputs": [
    {
     "data": {
      "text/plain": [
       "+------------------+\n",
       "|current_database()|\n",
       "+------------------+\n",
       "|      itversity_hr|\n",
       "+------------------+\n",
       "\n"
      ]
     },
     "execution_count": 9,
     "metadata": {},
     "output_type": "execute_result"
    }
   ],
   "source": [
    "%%sql\n",
    "\n",
    "select current_database()"
   ]
  },
  {
   "cell_type": "code",
   "execution_count": 12,
   "id": "ec30c398-afe8-4b3c-bb96-87eb71aa55ee",
   "metadata": {},
   "outputs": [
    {
     "data": {
      "text/plain": [
       "++\n",
       "||\n",
       "++\n",
       "++\n",
       "\n"
      ]
     },
     "execution_count": 12,
     "metadata": {},
     "output_type": "execute_result"
    }
   ],
   "source": [
    "%%sql\n",
    "\n",
    "CREATE TABLE employees\n",
    "   ( employee_id INT,\n",
    "     first_name VARCHAR(20),\n",
    "     last_name VARCHAR(25),\n",
    "     email VARCHAR(25),\n",
    "     phone_number VARCHAR(20),\n",
    "     hire_date DATE,\n",
    "     job_id VARCHAR(10),\n",
    "     salary DECIMAL(8,2),\n",
    "     commission_pct DECIMAL(2,2),\n",
    "     manager_id INT,\n",
    "     department_id INT\n",
    "   ) ROW FORMAT DELIMITED FIELDS TERMINATED BY '\\t'"
   ]
  },
  {
   "cell_type": "code",
   "execution_count": 13,
   "id": "3e227441-375a-4f67-b207-b83496c2eb45",
   "metadata": {},
   "outputs": [
    {
     "data": {
      "text/plain": [
       "++\n",
       "||\n",
       "++\n",
       "++\n",
       "\n"
      ]
     },
     "execution_count": 13,
     "metadata": {},
     "output_type": "execute_result"
    }
   ],
   "source": [
    "%%sql\n",
    "\n",
    "LOAD DATA LOCAL INPATH '/data/hr_db/employees'\n",
    "INTO TABLE employees"
   ]
  },
  {
   "cell_type": "code",
   "execution_count": 14,
   "id": "acf71b22-6517-4757-8379-9c085b4ef082",
   "metadata": {},
   "outputs": [
    {
     "data": {
      "text/plain": [
       "|        156|   Janette|     King|   JKING|011.44.1345.429268|1996-...\n"
      ]
     },
     "metadata": {},
     "output_type": "display_data",
     "source": "user"
    },
    {
     "data": {
      "text/plain": [
       "+-----------+----------+---------+--------+------------------+----------+------+--------+--------------+----------+-------------+\n",
       "|employee_id|first_name|last_name|   email|      phone_number| hire_date|job_id|  salary|commission_pct|manager_id|department_id|\n",
       "+-----------+----------+---------+--------+------------------+----------+------+--------+--------------+----------+-------------+\n",
       "|        154|   Nanette|Cambrault|NCAMBRAU|011.44.1344.987668|1998-12-09|SA_REP| 7500.00|          0.20|       145|           80|\n",
       "|        155|    Oliver|  Tuvault|OTUVAULT|011.44.1344.486508|1999-11-23|SA_REP| 7000.00|          0.15|       145|           80|\n",
       "|        156|   Janette|     King|   JKING|011.44.1345.429268|1996-01-30|SA_REP|10000.00|          0.35|       146|           80|\n",
       "|        157|   Patrick|    Sully|  PSULLY|011.44.1345.929268|1996-03-04|SA_REP| 9500.00|          0.35|       146|           80|\n",
       "|        158|     Allan|   McEwen| AMCEWEN|011.44.1345.829268|1996-08-01|SA_REP| 9000.00|          0.35|       146|           80|\n",
       "|        159|   Lindsey|    Smith|  LSMITH|011.44.1345.729268|1997-03-10|SA_REP| 8000.00|          0.30|       146|           80|\n",
       "|        160|    Louise|    Doran|  LDORAN|011.44.1345.629268|1997-12-15|SA_REP| 7500.00|          0.30|       146|           80|\n",
       "|        161|    Sarath|   Sewall| SSEWALL|011.44.1345.529268|1998-11-03|SA_REP| 7000.00|          0.25|       146|           80|\n",
       "|        162|     Clara|  Vishney|CVISHNEY|011.44.1346.129268|1997-11-11|SA_REP|10500.00|          0.25|       147|           80|\n",
       "|        163|  Danielle|   Greene| DGREENE|011.44.1346.229268|1999-03-19|SA_REP| 9500.00|          0.15|       147|           80|\n",
       "+-----------+----------+---------+--------+------------------+----------+------+--------+--------------+----------+-------------+\n",
       "\n"
      ]
     },
     "execution_count": 14,
     "metadata": {},
     "output_type": "execute_result"
    }
   ],
   "source": [
    "%%sql \n",
    "\n",
    "SELECT * FROM employees LIMIT 10"
   ]
  },
  {
   "cell_type": "code",
   "execution_count": 15,
   "id": "ee1e5306-1af6-48c6-9834-503b3434da9b",
   "metadata": {},
   "outputs": [
    {
     "data": {
      "text/plain": [
       "+--------+\n",
       "|count(1)|\n",
       "+--------+\n",
       "|     107|\n",
       "+--------+\n",
       "\n"
      ]
     },
     "execution_count": 15,
     "metadata": {},
     "output_type": "execute_result"
    }
   ],
   "source": [
    "%%sql\n",
    "\n",
    "SELECT COUNT(1) FROM employees"
   ]
  },
  {
   "cell_type": "code",
   "execution_count": 16,
   "id": "c251fdcd-41b1-4736-8ec6-8a68bbef948c",
   "metadata": {},
   "outputs": [
    {
     "data": {
      "text/plain": [
       "+-----------+-------------+--------+\n",
       "|employee_id|department_id|  salary|\n",
       "+-----------+-------------+--------+\n",
       "|        154|           80| 7500.00|\n",
       "|        155|           80| 7000.00|\n",
       "|        156|           80|10000.00|\n",
       "|        157|           80| 9500.00|\n",
       "|        158|           80| 9000.00|\n",
       "|        159|           80| 8000.00|\n",
       "|        160|           80| 7500.00|\n",
       "|        161|           80| 7000.00|\n",
       "|        162|           80|10500.00|\n",
       "|        163|           80| 9500.00|\n",
       "+-----------+-------------+--------+\n",
       "\n"
      ]
     },
     "execution_count": 16,
     "metadata": {},
     "output_type": "execute_result"
    }
   ],
   "source": [
    "%%sql\n",
    "\n",
    "SELECT employee_id, department_id, salary FROM employees LIMIT 10"
   ]
  },
  {
   "cell_type": "markdown",
   "id": "e9fc3097-132b-423e-9384-879e9fda3561",
   "metadata": {},
   "source": [
    "### Overview of Windowing functions"
   ]
  },
  {
   "cell_type": "code",
   "execution_count": 18,
   "id": "38dbf3fd-d79e-4e75-b223-b13412566f87",
   "metadata": {},
   "outputs": [
    {
     "data": {
      "text/plain": [
       "|        105|           60| 4800.00|             5| 59|        106|  ...\n"
      ]
     },
     "metadata": {},
     "output_type": "display_data",
     "source": "user"
    },
    {
     "data": {
      "text/plain": [
       "+-----------+-------------+--------+--------------+---+-----------+------------+\n",
       "|employee_id|department_id|  salary|employee_count|rnk|lead_emp_id|lead_emp_sal|\n",
       "+-----------+-------------+--------+--------------+---+-----------+------------+\n",
       "|        100|           90|24000.00|             3|  1|        101|    17000.00|\n",
       "|        101|           90|17000.00|             3|  2|        102|    17000.00|\n",
       "|        102|           90|17000.00|             3|  2|       null|        null|\n",
       "|        103|           60| 9000.00|             5| 24|        104|     6000.00|\n",
       "|        104|           60| 6000.00|             5| 56|        105|     4800.00|\n",
       "|        105|           60| 4800.00|             5| 59|        106|     4800.00|\n",
       "|        106|           60| 4800.00|             5| 59|        107|     4200.00|\n",
       "|        107|           60| 4200.00|             5| 62|       null|        null|\n",
       "|        108|          100|12000.00|             6|  7|        109|     9000.00|\n",
       "|        109|          100| 9000.00|             6| 24|        110|     8200.00|\n",
       "+-----------+-------------+--------+--------------+---+-----------+------------+\n",
       "only showing top 10 rows\n",
       "\n"
      ]
     },
     "execution_count": 18,
     "metadata": {},
     "output_type": "execute_result"
    }
   ],
   "source": [
    "%%sql\n",
    "\n",
    "SELECT employee_id, department_id, salary,\n",
    "    count(1) OVER (PARTITION BY department_id) AS employee_count,\n",
    "    rank() OVER (ORDER BY salary DESC) AS rnk,\n",
    "    lead(employee_id) OVER (PARTITION BY department_id ORDER BY salary DESC) AS lead_emp_id,\n",
    "    lead(salary) OVER(PARTITION BY department_id ORDER BY salary DESC) AS lead_emp_sal\n",
    "FROM employees\n",
    "ORDER BY employee_id"
   ]
  },
  {
   "cell_type": "markdown",
   "id": "c107f656-aa8e-422b-b6fa-86261c839e21",
   "metadata": {},
   "source": [
    "### Aggregations using Windows functions"
   ]
  },
  {
   "cell_type": "code",
   "execution_count": 19,
   "id": "66d8d5ef-edc6-4901-8868-5e51d217eb79",
   "metadata": {},
   "outputs": [
    {
     "data": {
      "text/plain": [
       "+-----------+-------------+--------+\n",
       "|employee_id|department_id|  salary|\n",
       "+-----------+-------------+--------+\n",
       "|        178|         null| 7000.00|\n",
       "|        200|           10| 4400.00|\n",
       "|        202|           20| 6000.00|\n",
       "|        201|           20|13000.00|\n",
       "|        119|           30| 2500.00|\n",
       "|        118|           30| 2600.00|\n",
       "|        117|           30| 2800.00|\n",
       "|        116|           30| 2900.00|\n",
       "|        115|           30| 3100.00|\n",
       "|        114|           30|11000.00|\n",
       "+-----------+-------------+--------+\n",
       "\n"
      ]
     },
     "execution_count": 19,
     "metadata": {},
     "output_type": "execute_result"
    }
   ],
   "source": [
    "%%sql\n",
    "\n",
    "SELECT employee_id, department_id, salary\n",
    "FROM employees\n",
    "ORDER BY department_id, salary\n",
    "LIMIT 10"
   ]
  },
  {
   "cell_type": "code",
   "execution_count": 21,
   "id": "a7120edc-ff6c-41ad-af20-bfd75ab9004f",
   "metadata": {},
   "outputs": [
    {
     "data": {
      "text/plain": [
       "+-------------+-------------------------+\n",
       "|department_id|department_salary_expense|\n",
       "+-------------+-------------------------+\n",
       "|         null|                  7000.00|\n",
       "|           10|                  4400.00|\n",
       "|           20|                 19000.00|\n",
       "|           30|                 24900.00|\n",
       "|           40|                  6500.00|\n",
       "|           50|                156400.00|\n",
       "|           60|                 28800.00|\n",
       "|           70|                 10000.00|\n",
       "|           80|                304500.00|\n",
       "|           90|                 58000.00|\n",
       "+-------------+-------------------------+\n",
       "only showing top 10 rows\n",
       "\n"
      ]
     },
     "execution_count": 21,
     "metadata": {},
     "output_type": "execute_result"
    }
   ],
   "source": [
    "%%sql\n",
    "\n",
    "SELECT department_id, sum(salary) AS department_salary_expense\n",
    "FROM employees\n",
    "GROUP BY department_id\n",
    "ORDER BY department_id"
   ]
  },
  {
   "cell_type": "code",
   "execution_count": 25,
   "id": "2d5ff4c6-d587-4b1e-a012-c61ddf3ba619",
   "metadata": {},
   "outputs": [
    {
     "data": {
      "text/plain": [
       "|        119|           30| 2500.00|                 24900.00...\n"
      ]
     },
     "metadata": {},
     "output_type": "display_data",
     "source": "user"
    },
    {
     "data": {
      "text/plain": [
       "+-----------+-------------+--------+-------------------------+------------------+\n",
       "|employee_id|department_id|  salary|department_salary_expense|avg_salary_expense|\n",
       "+-----------+-------------+--------+-------------------------+------------------+\n",
       "|        200|           10| 4400.00|                  4400.00|       4400.000000|\n",
       "|        201|           20|13000.00|                 19000.00|       9500.000000|\n",
       "|        202|           20| 6000.00|                 19000.00|       9500.000000|\n",
       "|        117|           30| 2800.00|                 24900.00|       4150.000000|\n",
       "|        115|           30| 3100.00|                 24900.00|       4150.000000|\n",
       "|        119|           30| 2500.00|                 24900.00|       4150.000000|\n",
       "|        116|           30| 2900.00|                 24900.00|       4150.000000|\n",
       "|        114|           30|11000.00|                 24900.00|       4150.000000|\n",
       "|        118|           30| 2600.00|                 24900.00|       4150.000000|\n",
       "|        203|           40| 6500.00|                  6500.00|       6500.000000|\n",
       "+-----------+-------------+--------+-------------------------+------------------+\n",
       "only showing top 10 rows\n",
       "\n"
      ]
     },
     "execution_count": 25,
     "metadata": {},
     "output_type": "execute_result"
    }
   ],
   "source": [
    "%%sql\n",
    "\n",
    "SELECT e.employee_id, e.department_id, e.salary, ae.department_salary_expense, ae.avg_salary_expense\n",
    "FROM employees e JOIN (\n",
    "    SELECT \n",
    "        department_id, \n",
    "        sum(salary) AS department_salary_expense,\n",
    "        avg(salary) AS avg_salary_expense\n",
    "    FROM employees\n",
    "    GROUP BY department_id\n",
    "    ORDER BY department_id\n",
    "    ) ae\n",
    "ON e.department_id=ae.department_id\n",
    "ORDER BY e.department_id"
   ]
  },
  {
   "cell_type": "code",
   "execution_count": 27,
   "id": "cb6b55b2-2ea2-4763-8c71-4bba9ad90fad",
   "metadata": {
    "collapsed": true,
    "jupyter": {
     "outputs_hidden": true
    },
    "tags": []
   },
   "outputs": [
    {
     "data": {
      "text/plain": [
       "|        117|           ...\n"
      ]
     },
     "metadata": {},
     "output_type": "display_data",
     "source": "user"
    },
    {
     "data": {
      "text/plain": [
       "+-----------+-------------+--------+-------------------------+\n",
       "|employee_id|department_id|  salary|department_salary_expense|\n",
       "+-----------+-------------+--------+-------------------------+\n",
       "|        178|         null| 7000.00|                  7000.00|\n",
       "|        200|           10| 4400.00|                  4400.00|\n",
       "|        202|           20| 6000.00|                 19000.00|\n",
       "|        201|           20|13000.00|                 19000.00|\n",
       "|        116|           30| 2900.00|                 24900.00|\n",
       "|        119|           30| 2500.00|                 24900.00|\n",
       "|        115|           30| 3100.00|                 24900.00|\n",
       "|        118|           30| 2600.00|                 24900.00|\n",
       "|        117|           30| 2800.00|                 24900.00|\n",
       "|        114|           30|11000.00|                 24900.00|\n",
       "+-----------+-------------+--------+-------------------------+\n",
       "only showing top 10 rows\n",
       "\n"
      ]
     },
     "execution_count": 27,
     "metadata": {},
     "output_type": "execute_result"
    }
   ],
   "source": [
    "%%sql\n",
    "\n",
    "SELECT e.employee_id, e.department_id, e.salary,\n",
    "        sum(e.salary)\n",
    "            OVER (PARTITION BY e.department_id)\n",
    "            AS department_salary_expense\n",
    "FROM employees e\n",
    "ORDER BY e.department_id"
   ]
  },
  {
   "cell_type": "code",
   "execution_count": 32,
   "id": "7a70588c-e5c8-4849-9c76-9e41e785f6ac",
   "metadata": {},
   "outputs": [
    {
     "data": {
      "text/plain": [
       "|        202| ...\n"
      ]
     },
     "metadata": {},
     "output_type": "display_data",
     "source": "user"
    },
    {
     "data": {
      "text/plain": [
       "+-----------+-------------+--------+---------------+---------------+---------------+---------------+---------------+\n",
       "|employee_id|department_id|  salary|sum_sal_expense|avg_sal_expense|min_sal_expense|max_sal_expense|cnt_sal_expense|\n",
       "+-----------+-------------+--------+---------------+---------------+---------------+---------------+---------------+\n",
       "|        178|         null| 7000.00|        7000.00|    7000.000000|        7000.00|        7000.00|              1|\n",
       "|        200|           10| 4400.00|        4400.00|    4400.000000|        4400.00|        4400.00|              1|\n",
       "|        201|           20|13000.00|       19000.00|    9500.000000|        6000.00|       13000.00|              2|\n",
       "|        202|           20| 6000.00|       19000.00|    9500.000000|        6000.00|       13000.00|              2|\n",
       "|        115|           30| 3100.00|       24900.00|    4150.000000|        2500.00|       11000.00|              6|\n",
       "|        117|           30| 2800.00|       24900.00|    4150.000000|        2500.00|       11000.00|              6|\n",
       "|        119|           30| 2500.00|       24900.00|    4150.000000|        2500.00|       11000.00|              6|\n",
       "|        114|           30|11000.00|       24900.00|    4150.000000|        2500.00|       11000.00|              6|\n",
       "|        118|           30| 2600.00|       24900.00|    4150.000000|        2500.00|       11000.00|              6|\n",
       "|        116|           30| 2900.00|       24900.00|    4150.000000|        2500.00|       11000.00|              6|\n",
       "+-----------+-------------+--------+---------------+---------------+---------------+---------------+---------------+\n",
       "only showing top 10 rows\n",
       "\n"
      ]
     },
     "execution_count": 32,
     "metadata": {},
     "output_type": "execute_result"
    }
   ],
   "source": [
    "%%sql\n",
    "\n",
    "SELECT e.employee_id, e.department_id, e.salary,\n",
    "        sum(e.salary) OVER (PARTITION BY e.department_id) AS sum_sal_expense,\n",
    "        avg(e.salary) OVER (PARTITION BY e.department_id) AS avg_sal_expense,\n",
    "        min(e.salary) OVER (PARTITION BY e.department_id) AS min_sal_expense,\n",
    "        max(e.salary) OVER (PARTITION BY e.department_id) AS max_sal_expense,\n",
    "        count(e.salary) OVER (PARTITION BY e.department_id) AS cnt_sal_expense\n",
    "FROM employees e\n",
    "ORDER BY e.department_id"
   ]
  },
  {
   "cell_type": "code",
   "execution_count": 33,
   "id": "06950cef-143e-4f87-b735-0bbe8d62005c",
   "metadata": {},
   "outputs": [
    {
     "data": {
      "text/plain": [
       "++\n",
       "||\n",
       "++\n",
       "++\n",
       "\n"
      ]
     },
     "execution_count": 33,
     "metadata": {},
     "output_type": "execute_result"
    }
   ],
   "source": [
    "%%sql\n",
    "\n",
    "USE itversity_retail"
   ]
  },
  {
   "cell_type": "code",
   "execution_count": 34,
   "id": "b44c7caf-d3e1-4e5b-957a-53a6eac09ba5",
   "metadata": {},
   "outputs": [
    {
     "data": {
      "text/plain": [
       "++\n",
       "||\n",
       "++\n",
       "++\n",
       "\n"
      ]
     },
     "execution_count": 34,
     "metadata": {},
     "output_type": "execute_result"
    }
   ],
   "source": [
    "%%sql\n",
    "\n",
    "DROP TABLE IF EXISTS daily_revenue"
   ]
  },
  {
   "cell_type": "code",
   "execution_count": 39,
   "id": "062dcc08-0573-499c-9062-fe666721558c",
   "metadata": {},
   "outputs": [
    {
     "data": {
      "text/plain": [
       "++\n",
       "||\n",
       "++\n",
       "++\n",
       "\n"
      ]
     },
     "execution_count": 39,
     "metadata": {},
     "output_type": "execute_result"
    }
   ],
   "source": [
    "%%sql\n",
    "\n",
    "CREATE TABLE daily_revenue\n",
    "AS\n",
    "SELECT o.order_date, round(sum(oi.order_item_subtotal),2) AS revenue\n",
    "FROM orders o JOIN order_items oi\n",
    "ON o.order_id = oi.order_item_order_id\n",
    "WHERE o.order_status IN('COMPLETE','CLOSED')\n",
    "GROUP BY o.order_date"
   ]
  },
  {
   "cell_type": "code",
   "execution_count": 40,
   "id": "50669cb2-0015-4634-ad42-725312e59424",
   "metadata": {},
   "outputs": [
    {
     "data": {
      "text/plain": [
       "+--------------------+--------+\n",
       "|          order_date| revenue|\n",
       "+--------------------+--------+\n",
       "|2013-07-25 00:00:...|31547.23|\n",
       "|2013-07-26 00:00:...|54713.23|\n",
       "|2013-07-27 00:00:...|48411.48|\n",
       "|2013-07-28 00:00:...|35672.03|\n",
       "|2013-07-29 00:00:...| 54579.7|\n",
       "|2013-07-30 00:00:...|49329.29|\n",
       "|2013-07-31 00:00:...|59212.49|\n",
       "|2013-08-01 00:00:...|49160.08|\n",
       "|2013-08-02 00:00:...|50688.58|\n",
       "|2013-08-03 00:00:...|43416.74|\n",
       "+--------------------+--------+\n",
       "\n"
      ]
     },
     "execution_count": 40,
     "metadata": {},
     "output_type": "execute_result"
    }
   ],
   "source": [
    "%%sql\n",
    "\n",
    "SELECT * FROM daily_revenue\n",
    "ORDER BY order_date\n",
    "LIMIT 10"
   ]
  },
  {
   "cell_type": "code",
   "execution_count": 42,
   "id": "976a4732-8d34-4842-877f-1347e0bd93cd",
   "metadata": {
    "tags": []
   },
   "outputs": [
    {
     "data": {
      "text/plain": [
       "+--------------------+-----...\n"
      ]
     },
     "metadata": {},
     "output_type": "display_data",
     "source": "user"
    },
    {
     "data": {
      "text/plain": [
       "+--------------------+---------------------+-------+\n",
       "|          order_date|order_item_product_id|revenue|\n",
       "+--------------------+---------------------+-------+\n",
       "|2013-07-25 00:00:...|                  957| 4499.7|\n",
       "|2013-07-25 00:00:...|                 1014|2798.88|\n",
       "|2013-07-25 00:00:...|                  365|3359.44|\n",
       "|2013-07-25 00:00:...|                  926|  79.95|\n",
       "|2013-07-25 00:00:...|                 1004|5599.72|\n",
       "|2013-07-25 00:00:...|                  828|  95.97|\n",
       "|2013-07-25 00:00:...|                   93|  74.97|\n",
       "|2013-07-25 00:00:...|                  810|  79.96|\n",
       "|2013-07-25 00:00:...|                  906|  99.96|\n",
       "|2013-07-25 00:00:...|                  835|  63.98|\n",
       "+--------------------+---------------------+-------+\n",
       "only showing top 10 rows\n",
       "\n"
      ]
     },
     "execution_count": 42,
     "metadata": {},
     "output_type": "execute_result"
    }
   ],
   "source": [
    "%%sql\n",
    "\n",
    "SELECT \n",
    "    o.order_date, \n",
    "    oi.order_item_product_id,\n",
    "    round(sum(oi.order_item_subtotal),2) AS revenue\n",
    "FROM orders o JOIN order_items oi\n",
    "ON o.order_id = oi.order_item_order_id\n",
    "WHERE o.order_status IN('COMPLETE','CLOSED')\n",
    "GROUP BY o.order_date, oi.order_item_product_id"
   ]
  },
  {
   "cell_type": "code",
   "execution_count": 43,
   "id": "b8519181-c14f-447c-8855-10b3f102766d",
   "metadata": {},
   "outputs": [
    {
     "data": {
      "text/plain": [
       "++\n",
       "||\n",
       "++\n",
       "++\n",
       "\n"
      ]
     },
     "execution_count": 43,
     "metadata": {},
     "output_type": "execute_result"
    }
   ],
   "source": [
    "%%sql\n",
    "\n",
    "CREATE TABLE daily_product_revenue\n",
    "AS\n",
    "SELECT \n",
    "    o.order_date, \n",
    "    oi.order_item_product_id,\n",
    "    round(sum(oi.order_item_subtotal),2) AS revenue\n",
    "FROM orders o JOIN order_items oi\n",
    "ON o.order_id = oi.order_item_order_id\n",
    "WHERE o.order_status IN('COMPLETE','CLOSED')\n",
    "GROUP BY o.order_date, oi.order_item_product_id"
   ]
  },
  {
   "cell_type": "code",
   "execution_count": 44,
   "id": "a6f4b468-2ae7-49d8-a1ab-b80b9e189c6c",
   "metadata": {},
   "outputs": [
    {
     "data": {
      "text/plain": [
       "+--------------------+-----...\n"
      ]
     },
     "metadata": {},
     "output_type": "display_data",
     "source": "user"
    },
    {
     "data": {
      "text/plain": [
       "+--------------------+---------------------+-------+\n",
       "|          order_date|order_item_product_id|revenue|\n",
       "+--------------------+---------------------+-------+\n",
       "|2013-07-25 00:00:...|                   24| 319.96|\n",
       "|2013-07-25 00:00:...|                   93|  74.97|\n",
       "|2013-07-25 00:00:...|                  134|  100.0|\n",
       "|2013-07-25 00:00:...|                  191|5099.49|\n",
       "|2013-07-25 00:00:...|                  226| 599.99|\n",
       "|2013-07-25 00:00:...|                  365|3359.44|\n",
       "|2013-07-25 00:00:...|                  403|1949.85|\n",
       "|2013-07-25 00:00:...|                  502| 1650.0|\n",
       "|2013-07-25 00:00:...|                  572| 119.97|\n",
       "|2013-07-25 00:00:...|                  625| 199.99|\n",
       "+--------------------+---------------------+-------+\n",
       "only showing top 10 rows\n",
       "\n"
      ]
     },
     "execution_count": 44,
     "metadata": {},
     "output_type": "execute_result"
    }
   ],
   "source": [
    "%%sql\n",
    "\n",
    "SELECT * FROM daily_product_revenue\n",
    "ORDER BY order_date, order_item_product_id"
   ]
  },
  {
   "cell_type": "markdown",
   "id": "23d3e1d2-7743-42e1-8cd9-7d4d99f3958e",
   "metadata": {},
   "source": [
    "### 152 SQL LEAD and LAG "
   ]
  },
  {
   "cell_type": "code",
   "execution_count": 46,
   "id": "532f5382-bc89-403f-b4cf-9ec7486bac2a",
   "metadata": {},
   "outputs": [
    {
     "data": {
      "text/plain": [
       "+--------------------+--------+\n",
       "|          order_date| revenue|\n",
       "+--------------------+--------+\n",
       "|2014-07-24 00:00:...|50885.19|\n",
       "|2014-07-23 00:00:...|38795.23|\n",
       "|2014-07-22 00:00:...|36717.24|\n",
       "|2014-07-21 00:00:...| 51427.7|\n",
       "|2014-07-20 00:00:...|60047.45|\n",
       "|2014-07-19 00:00:...|38420.99|\n",
       "|2014-07-18 00:00:...| 43856.6|\n",
       "|2014-07-17 00:00:...|36384.77|\n",
       "|2014-07-16 00:00:...|43011.92|\n",
       "|2014-07-15 00:00:...|53480.23|\n",
       "+--------------------+--------+\n",
       "\n"
      ]
     },
     "execution_count": 46,
     "metadata": {},
     "output_type": "execute_result"
    }
   ],
   "source": [
    "%%sql\n",
    "\n",
    "SELECT * FROM daily_revenue\n",
    "ORDER by order_date DESC\n",
    "LIMIT 10"
   ]
  },
  {
   "cell_type": "code",
   "execution_count": 54,
   "id": "f5fcfb6e-4795-491f-853a-8e7f38807818",
   "metadata": {},
   "outputs": [
    {
     "data": {
      "text/plain": [
       "|2014-07-21 00:00:...| 51427.7|2014-07-20 00:00:...|     60047.45|2014-07-20 00:...\n"
      ]
     },
     "metadata": {},
     "output_type": "display_data",
     "source": "user"
    },
    {
     "data": {
      "text/plain": [
       "+--------------------+--------+--------------------+-------------+--------------------+-----------------+\n",
       "|          order_date| revenue|          prior_date|PRIOR_revenue|      lag_prior_date|lag_prior_revenue|\n",
       "+--------------------+--------+--------------------+-------------+--------------------+-----------------+\n",
       "|2014-07-24 00:00:...|50885.19|2014-07-23 00:00:...|     38795.23|2014-07-23 00:00:...|         38795.23|\n",
       "|2014-07-23 00:00:...|38795.23|2014-07-22 00:00:...|     36717.24|2014-07-22 00:00:...|         36717.24|\n",
       "|2014-07-22 00:00:...|36717.24|2014-07-21 00:00:...|      51427.7|2014-07-21 00:00:...|          51427.7|\n",
       "|2014-07-21 00:00:...| 51427.7|2014-07-20 00:00:...|     60047.45|2014-07-20 00:00:...|         60047.45|\n",
       "|2014-07-20 00:00:...|60047.45|2014-07-19 00:00:...|     38420.99|2014-07-19 00:00:...|         38420.99|\n",
       "|2014-07-19 00:00:...|38420.99|2014-07-18 00:00:...|      43856.6|2014-07-18 00:00:...|          43856.6|\n",
       "|2014-07-18 00:00:...| 43856.6|2014-07-17 00:00:...|     36384.77|2014-07-17 00:00:...|         36384.77|\n",
       "|2014-07-17 00:00:...|36384.77|2014-07-16 00:00:...|     43011.92|2014-07-16 00:00:...|         43011.92|\n",
       "|2014-07-16 00:00:...|43011.92|2014-07-15 00:00:...|     53480.23|2014-07-15 00:00:...|         53480.23|\n",
       "|2014-07-15 00:00:...|53480.23|2014-07-14 00:00:...|     29937.52|2014-07-14 00:00:...|         29937.52|\n",
       "+--------------------+--------+--------------------+-------------+--------------------+-----------------+\n",
       "\n"
      ]
     },
     "execution_count": 54,
     "metadata": {},
     "output_type": "execute_result"
    }
   ],
   "source": [
    "%%sql\n",
    "\n",
    "SELECT t.*,\n",
    "    lead(order_date) OVER (ORDER BY order_date DESC) AS prior_date,\n",
    "    lead(revenue) OVER (ORDER BY order_date DESC) AS PRIOR_revenue,\n",
    "    lag(order_date) OVER (ORDER BY order_date) AS lag_prior_date,\n",
    "    lag(revenue) OVER (ORDER BY order_date) AS lag_prior_revenue\n",
    "FROM daily_revenue as t\n",
    "ORDER BY order_date DESC\n",
    "LIMIT 10"
   ]
  },
  {
   "cell_type": "code",
   "execution_count": 55,
   "id": "4b98b58b-fee0-47ad-8a81-4c04891be57f",
   "metadata": {},
   "outputs": [
    {
     "data": {
      "text/plain": [
       "|2013-08-01 00:00:...|49160.08|2013-07-31 00:0...\n"
      ]
     },
     "metadata": {},
     "output_type": "display_data",
     "source": "user"
    },
    {
     "data": {
      "text/plain": [
       "+--------------------+--------+--------------------+-------------+\n",
       "|          order_date| revenue|          prior_date|PRIOR_revenue|\n",
       "+--------------------+--------+--------------------+-------------+\n",
       "|2013-07-25 00:00:...|31547.23|                null|         null|\n",
       "|2013-07-26 00:00:...|54713.23|2013-07-25 00:00:...|     31547.23|\n",
       "|2013-07-27 00:00:...|48411.48|2013-07-26 00:00:...|     54713.23|\n",
       "|2013-07-28 00:00:...|35672.03|2013-07-27 00:00:...|     48411.48|\n",
       "|2013-07-29 00:00:...| 54579.7|2013-07-28 00:00:...|     35672.03|\n",
       "|2013-07-30 00:00:...|49329.29|2013-07-29 00:00:...|      54579.7|\n",
       "|2013-07-31 00:00:...|59212.49|2013-07-30 00:00:...|     49329.29|\n",
       "|2013-08-01 00:00:...|49160.08|2013-07-31 00:00:...|     59212.49|\n",
       "|2013-08-02 00:00:...|50688.58|2013-08-01 00:00:...|     49160.08|\n",
       "|2013-08-03 00:00:...|43416.74|2013-08-02 00:00:...|     50688.58|\n",
       "+--------------------+--------+--------------------+-------------+\n",
       "\n"
      ]
     },
     "execution_count": 55,
     "metadata": {},
     "output_type": "execute_result"
    }
   ],
   "source": [
    "%%sql\n",
    "\n",
    "SELECT t.*,\n",
    "    lead(order_date) OVER (ORDER BY order_date DESC) AS prior_date,\n",
    "    lead(revenue) OVER (ORDER BY order_date DESC) AS PRIOR_revenue\n",
    "FROM daily_revenue as t\n",
    "ORDER BY order_date\n",
    "LIMIT 10"
   ]
  },
  {
   "cell_type": "code",
   "execution_count": 57,
   "id": "9b36328f-c02c-4fb9-beeb-6edd5038961a",
   "metadata": {},
   "outputs": [
    {
     "data": {
      "text/plain": [
       "|2014-07-17 00:00:...|36384.77|2014-07-10 00:0...\n"
      ]
     },
     "metadata": {},
     "output_type": "display_data",
     "source": "user"
    },
    {
     "data": {
      "text/plain": [
       "+--------------------+--------+--------------------+-------------+\n",
       "|          order_date| revenue|          prior_date|PRIOR_revenue|\n",
       "+--------------------+--------+--------------------+-------------+\n",
       "|2014-07-24 00:00:...|50885.19|2014-07-17 00:00:...|     36384.77|\n",
       "|2014-07-23 00:00:...|38795.23|2014-07-16 00:00:...|     43011.92|\n",
       "|2014-07-22 00:00:...|36717.24|2014-07-15 00:00:...|     53480.23|\n",
       "|2014-07-21 00:00:...| 51427.7|2014-07-14 00:00:...|     29937.52|\n",
       "|2014-07-20 00:00:...|60047.45|2014-07-13 00:00:...|     40410.99|\n",
       "|2014-07-19 00:00:...|38420.99|2014-07-12 00:00:...|     38449.77|\n",
       "|2014-07-18 00:00:...| 43856.6|2014-07-11 00:00:...|     29596.32|\n",
       "|2014-07-17 00:00:...|36384.77|2014-07-10 00:00:...|     47826.02|\n",
       "|2014-07-16 00:00:...|43011.92|2014-07-09 00:00:...|     36929.91|\n",
       "|2014-07-15 00:00:...|53480.23|2014-07-08 00:00:...|     50434.81|\n",
       "+--------------------+--------+--------------------+-------------+\n",
       "\n"
      ]
     },
     "execution_count": 57,
     "metadata": {},
     "output_type": "execute_result"
    }
   ],
   "source": [
    "%%sql\n",
    "\n",
    "SELECT t.*,\n",
    "    lead(order_date,7) OVER (ORDER BY order_date DESC) AS prior_date,\n",
    "    lead(revenue,7) OVER (ORDER BY order_date DESC) AS PRIOR_revenue\n",
    "FROM daily_revenue as t\n",
    "ORDER BY order_date DESC\n",
    "LIMIT 10"
   ]
  },
  {
   "cell_type": "code",
   "execution_count": 58,
   "id": "e676b597-2556-43d7-90b1-dd463181e21a",
   "metadata": {},
   "outputs": [
    {
     "data": {
      "text/plain": [
       "|2013-08-01 00:00:...|49160.08|2013-07-25 00:0...\n"
      ]
     },
     "metadata": {},
     "output_type": "display_data",
     "source": "user"
    },
    {
     "data": {
      "text/plain": [
       "+--------------------+--------+--------------------+-------------+\n",
       "|          order_date| revenue|          prior_date|PRIOR_revenue|\n",
       "+--------------------+--------+--------------------+-------------+\n",
       "|2013-07-25 00:00:...|31547.23|                null|         null|\n",
       "|2013-07-26 00:00:...|54713.23|                null|         null|\n",
       "|2013-07-27 00:00:...|48411.48|                null|         null|\n",
       "|2013-07-28 00:00:...|35672.03|                null|         null|\n",
       "|2013-07-29 00:00:...| 54579.7|                null|         null|\n",
       "|2013-07-30 00:00:...|49329.29|                null|         null|\n",
       "|2013-07-31 00:00:...|59212.49|                null|         null|\n",
       "|2013-08-01 00:00:...|49160.08|2013-07-25 00:00:...|     31547.23|\n",
       "|2013-08-02 00:00:...|50688.58|2013-07-26 00:00:...|     54713.23|\n",
       "|2013-08-03 00:00:...|43416.74|2013-07-27 00:00:...|     48411.48|\n",
       "+--------------------+--------+--------------------+-------------+\n",
       "\n"
      ]
     },
     "execution_count": 58,
     "metadata": {},
     "output_type": "execute_result"
    }
   ],
   "source": [
    "%%sql\n",
    "\n",
    "SELECT t.*,\n",
    "    lead(order_date,7) OVER (ORDER BY order_date DESC) AS prior_date,\n",
    "    lead(revenue,7) OVER (ORDER BY order_date DESC) AS PRIOR_revenue\n",
    "FROM daily_revenue as t\n",
    "ORDER BY order_date \n",
    "LIMIT 10"
   ]
  },
  {
   "cell_type": "code",
   "execution_count": 59,
   "id": "3e97aa0e-8f66-4009-9684-74059c7fc4dc",
   "metadata": {},
   "outputs": [
    {
     "data": {
      "text/plain": [
       "|2013-08-01 00:00:...|49160.08|2013-07-25 00:0...\n"
      ]
     },
     "metadata": {},
     "output_type": "display_data",
     "source": "user"
    },
    {
     "data": {
      "text/plain": [
       "+--------------------+--------+--------------------+-------------+\n",
       "|          order_date| revenue|          prior_date|PRIOR_revenue|\n",
       "+--------------------+--------+--------------------+-------------+\n",
       "|2013-07-25 00:00:...|31547.23|                null|          0.0|\n",
       "|2013-07-26 00:00:...|54713.23|                null|          0.0|\n",
       "|2013-07-27 00:00:...|48411.48|                null|          0.0|\n",
       "|2013-07-28 00:00:...|35672.03|                null|          0.0|\n",
       "|2013-07-29 00:00:...| 54579.7|                null|          0.0|\n",
       "|2013-07-30 00:00:...|49329.29|                null|          0.0|\n",
       "|2013-07-31 00:00:...|59212.49|                null|          0.0|\n",
       "|2013-08-01 00:00:...|49160.08|2013-07-25 00:00:...|     31547.23|\n",
       "|2013-08-02 00:00:...|50688.58|2013-07-26 00:00:...|     54713.23|\n",
       "|2013-08-03 00:00:...|43416.74|2013-07-27 00:00:...|     48411.48|\n",
       "+--------------------+--------+--------------------+-------------+\n",
       "\n"
      ]
     },
     "execution_count": 59,
     "metadata": {},
     "output_type": "execute_result"
    }
   ],
   "source": [
    "%%sql\n",
    "\n",
    "SELECT t.*,\n",
    "    lead(order_date,7) OVER (ORDER BY order_date DESC) AS prior_date,\n",
    "    lead(revenue,7,0) OVER (ORDER BY order_date DESC) AS PRIOR_revenue\n",
    "FROM daily_revenue as t\n",
    "ORDER BY order_date \n",
    "LIMIT 10"
   ]
  },
  {
   "cell_type": "code",
   "execution_count": 60,
   "id": "c0f044be-2a2d-4181-a961-f56daf3fbfad",
   "metadata": {},
   "outputs": [
    {
     "data": {
      "text/plain": [
       "|2013-08-01 00:00:...|49160.08|2013-07-25 00:0...\n"
      ]
     },
     "metadata": {},
     "output_type": "display_data",
     "source": "user"
    },
    {
     "data": {
      "text/plain": [
       "+--------------------+--------+--------------------+-------------+\n",
       "|          order_date| revenue|          prior_date|PRIOR_revenue|\n",
       "+--------------------+--------+--------------------+-------------+\n",
       "|2013-07-25 00:00:...|31547.23|                  na|          0.0|\n",
       "|2013-07-26 00:00:...|54713.23|                  na|          0.0|\n",
       "|2013-07-27 00:00:...|48411.48|                  na|          0.0|\n",
       "|2013-07-28 00:00:...|35672.03|                  na|          0.0|\n",
       "|2013-07-29 00:00:...| 54579.7|                  na|          0.0|\n",
       "|2013-07-30 00:00:...|49329.29|                  na|          0.0|\n",
       "|2013-07-31 00:00:...|59212.49|                  na|          0.0|\n",
       "|2013-08-01 00:00:...|49160.08|2013-07-25 00:00:...|     31547.23|\n",
       "|2013-08-02 00:00:...|50688.58|2013-07-26 00:00:...|     54713.23|\n",
       "|2013-08-03 00:00:...|43416.74|2013-07-27 00:00:...|     48411.48|\n",
       "+--------------------+--------+--------------------+-------------+\n",
       "\n"
      ]
     },
     "execution_count": 60,
     "metadata": {},
     "output_type": "execute_result"
    }
   ],
   "source": [
    "%%sql\n",
    "\n",
    "SELECT t.*,\n",
    "    lead(order_date,7,'na') OVER (ORDER BY order_date DESC) AS prior_date,\n",
    "    lead(revenue,7,0) OVER (ORDER BY order_date DESC) AS PRIOR_revenue\n",
    "FROM daily_revenue as t\n",
    "ORDER BY order_date \n",
    "LIMIT 10"
   ]
  },
  {
   "cell_type": "code",
   "execution_count": null,
   "id": "e3023cc4-65f1-4d78-a74b-738e9703f8dc",
   "metadata": {},
   "outputs": [],
   "source": []
  }
 ],
 "metadata": {
  "kernelspec": {
   "display_name": "Apache Toree - Scala",
   "language": "scala",
   "name": "apache_toree_scala"
  },
  "language_info": {
   "codemirror_mode": "text/x-scala",
   "file_extension": ".scala",
   "mimetype": "text/x-scala",
   "name": "scala",
   "pygments_lexer": "scala",
   "version": "2.11.12"
  }
 },
 "nbformat": 4,
 "nbformat_minor": 5
}
