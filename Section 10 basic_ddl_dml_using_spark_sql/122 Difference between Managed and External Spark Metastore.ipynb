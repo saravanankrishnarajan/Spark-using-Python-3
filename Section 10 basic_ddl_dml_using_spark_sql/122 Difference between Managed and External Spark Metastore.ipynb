{
 "cells": [
  {
   "cell_type": "markdown",
   "id": "f78f1750-a81b-4a9b-b300-ed7535a59f93",
   "metadata": {},
   "source": [
    "## 122 Difference between Managed and External Spark Metastore"
   ]
  },
  {
   "cell_type": "code",
   "execution_count": null,
   "id": "a80c07ec-a596-4970-a66d-5dc8e3f6847b",
   "metadata": {},
   "outputs": [],
   "source": []
  },
  {
   "cell_type": "code",
   "execution_count": 1,
   "id": "0452b511-630c-4df9-8ae9-7703f82ea05f",
   "metadata": {},
   "outputs": [
    {
     "data": {
      "text/plain": [
       "username = itversity\n",
       "spark = org.apache.spark.sql.SparkSession@403d45e\n"
      ]
     },
     "metadata": {},
     "output_type": "display_data",
     "source": "user"
    },
    {
     "data": {
      "text/plain": [
       "org.apache.spark.sql.SparkSession@403d45e"
      ]
     },
     "execution_count": 1,
     "metadata": {},
     "output_type": "execute_result"
    }
   ],
   "source": [
    "import org.apache.spark.sql.SparkSession\n",
    "\n",
    "val username = System.getProperty(\"user.name\")\n",
    "val spark = SparkSession.\n",
    "    builder.\n",
    "    config(\"spark.ui.port\", \"0\").\n",
    "    config(\"spark.sql.warehouse.dir\", s\"/user/${username}/warehouse\").\n",
    "    enableHiveSupport.\n",
    "    appName(s\"${username} | Spark SQL - Managing Tables - Basic DDL and DML2\").\n",
    "    master(\"yarn\").\n",
    "    getOrCreate"
   ]
  },
  {
   "cell_type": "code",
   "execution_count": 2,
   "id": "3b628862-4fc9-4b13-a061-a53541ba8ef0",
   "metadata": {},
   "outputs": [
    {
     "data": {
      "text/plain": [
       "Waiting for a Spark session to start..."
      ]
     },
     "metadata": {},
     "output_type": "display_data",
     "source": "user"
    },
    {
     "data": {
      "text/plain": [
       "++\n",
       "||\n",
       "++\n",
       "++\n",
       "\n"
      ]
     },
     "execution_count": 2,
     "metadata": {},
     "output_type": "execute_result"
    }
   ],
   "source": [
    "%%sql\n",
    "\n",
    "USE itversity_retail"
   ]
  },
  {
   "cell_type": "code",
   "execution_count": 3,
   "id": "76ab19a5-a5ab-42a5-85f2-14a368fd602e",
   "metadata": {},
   "outputs": [
    {
     "data": {
      "text/plain": [
       "+----------------+-----------+-----------+\n",
       "|        database|  tableName|isTemporary|\n",
       "+----------------+-----------+-----------+\n",
       "|itversity_retail|order_items|      false|\n",
       "|itversity_retail|     orders|      false|\n",
       "|itversity_retail|   students|      false|\n",
       "+----------------+-----------+-----------+\n",
       "\n"
      ]
     },
     "execution_count": 3,
     "metadata": {},
     "output_type": "execute_result"
    }
   ],
   "source": [
    "%%sql \n",
    "\n",
    "SHOW tables"
   ]
  },
  {
   "cell_type": "code",
   "execution_count": 6,
   "id": "9c198ff5-4e4a-4bbb-9274-ba58e82843fe",
   "metadata": {},
   "outputs": [
    {
     "name": "stdout",
     "output_type": "stream",
     "text": [
      "+----------------------------+--------------------------------------------------------------+--------------------------------+\n",
      "|col_name                    |data_type                                                     |comment                         |\n",
      "+----------------------------+--------------------------------------------------------------+--------------------------------+\n",
      "|order_id                    |int                                                           |Unique order id                 |\n",
      "|order_date                  |string                                                        |Date on which order is placed   |\n",
      "|order_customer_id           |int                                                           |Customer id who placed the order|\n",
      "|order_status                |string                                                        |Current status of the order     |\n",
      "|                            |                                                              |                                |\n",
      "|# Detailed Table Information|                                                              |                                |\n",
      "|Database                    |itversity_retail                                              |                                |\n",
      "|Table                       |orders                                                        |                                |\n",
      "|Owner                       |itversity                                                     |                                |\n",
      "|Created Time                |Thu Feb 01 07:57:54 GMT 2024                                  |                                |\n",
      "|Last Access                 |Thu Jan 01 00:00:00 GMT 1970                                  |                                |\n",
      "|Created By                  |Spark 2.4.8                                                   |                                |\n",
      "|Type                        |EXTERNAL                                                      |                                |\n",
      "|Provider                    |hive                                                          |                                |\n",
      "|Comment                     |Table to save order level details                             |                                |\n",
      "|Table Properties            |[transient_lastDdlTime=1706774383]                            |                                |\n",
      "|Location                    |hdfs://localhost:9000/user/itversity/external/retail_db/orders|                                |\n",
      "|Serde Library               |org.apache.hadoop.hive.serde2.lazy.LazySimpleSerDe            |                                |\n",
      "|InputFormat                 |org.apache.hadoop.mapred.TextInputFormat                      |                                |\n",
      "|OutputFormat                |org.apache.hadoop.hive.ql.io.HiveIgnoreKeyTextOutputFormat    |                                |\n",
      "|Storage Properties          |[field.delim=,, serialization.format=,]                       |                                |\n",
      "|Partition Provider          |Catalog                                                       |                                |\n",
      "+----------------------------+--------------------------------------------------------------+--------------------------------+\n",
      "\n"
     ]
    }
   ],
   "source": [
    "import sys.process._\n",
    "\n",
    "spark.sql(\"DESCRIBE FORMATTED orders\").show(200, false)"
   ]
  },
  {
   "cell_type": "code",
   "execution_count": 8,
   "id": "e6308305-42f0-4ff4-8505-437b8ed55ba0",
   "metadata": {},
   "outputs": [
    {
     "data": {
      "text/plain": [
       "Magic sql failed to execute with error: \n",
       "Operation not allowed: TRUNCATE TABLE on external tables: `itversity_retail`.`orders`;"
      ]
     },
     "execution_count": 8,
     "metadata": {},
     "output_type": "execute_result"
    }
   ],
   "source": [
    "%%sql\n",
    "\n",
    "TRUNCATE TABLE orders"
   ]
  },
  {
   "cell_type": "code",
   "execution_count": 9,
   "id": "b0fe3df6-3dfa-492d-b704-b90803a80a49",
   "metadata": {},
   "outputs": [
    {
     "name": "stdout",
     "output_type": "stream",
     "text": [
      "Found 1 items\n",
      "-rwxr-xr-x   1 itversity supergroup    2999944 2024-02-01 07:59 /user/itversity/external/retail_db/orders/part-00000\n"
     ]
    },
    {
     "data": {
      "text/plain": [
       "warning: there was one feature warning; re-run with -feature for details\n"
      ]
     },
     "metadata": {},
     "output_type": "display_data",
     "source": "user"
    },
    {
     "data": {
      "text/plain": [
       "0"
      ]
     },
     "execution_count": 9,
     "metadata": {},
     "output_type": "execute_result"
    }
   ],
   "source": [
    "s\"hdfs dfs -ls /user/${username}/external/retail_db/orders\" !"
   ]
  },
  {
   "cell_type": "code",
   "execution_count": 10,
   "id": "447a5a42-8675-42b1-8a8c-c5a63935cabd",
   "metadata": {},
   "outputs": [
    {
     "name": "stdout",
     "output_type": "stream",
     "text": [
      "Found 1 items\n",
      "-rwxr-xr-x   1 itversity supergroup    5408880 2024-01-31 15:49 /user/itversity/warehouse/itversity_retail.db/order_items/part-00000\n"
     ]
    },
    {
     "data": {
      "text/plain": [
       "warning: there was one feature warning; re-run with -feature for details\n"
      ]
     },
     "metadata": {},
     "output_type": "display_data",
     "source": "user"
    },
    {
     "data": {
      "text/plain": [
       "0"
      ]
     },
     "execution_count": 10,
     "metadata": {},
     "output_type": "execute_result"
    }
   ],
   "source": [
    "s\"hdfs dfs -ls /user/${username}/warehouse/itversity_retail.db/order_items\" !"
   ]
  },
  {
   "cell_type": "code",
   "execution_count": 11,
   "id": "befcc53b-7d42-4ea2-9f84-15e772b9ed62",
   "metadata": {},
   "outputs": [
    {
     "data": {
      "text/plain": [
       "++\n",
       "||\n",
       "++\n",
       "++\n",
       "\n"
      ]
     },
     "execution_count": 11,
     "metadata": {},
     "output_type": "execute_result"
    }
   ],
   "source": [
    "%%sql\n",
    "\n",
    "TRUNCATE TABLE order_items"
   ]
  },
  {
   "cell_type": "code",
   "execution_count": 12,
   "id": "28c6c98e-247e-452d-8428-b57445a55944",
   "metadata": {},
   "outputs": [
    {
     "data": {
      "text/plain": [
       "warning: there was one feature warning; re-run with -feature for details\n"
      ]
     },
     "metadata": {},
     "output_type": "display_data",
     "source": "user"
    },
    {
     "data": {
      "text/plain": [
       "0"
      ]
     },
     "execution_count": 12,
     "metadata": {},
     "output_type": "execute_result"
    }
   ],
   "source": [
    "s\"hdfs dfs -ls /user/${username}/warehouse/itversity_retail.db/order_items\" !"
   ]
  },
  {
   "cell_type": "code",
   "execution_count": null,
   "id": "5b051ef4-2f0b-420f-810f-4e263c6f603e",
   "metadata": {},
   "outputs": [],
   "source": []
  }
 ],
 "metadata": {
  "kernelspec": {
   "display_name": "Apache Toree - Scala",
   "language": "scala",
   "name": "apache_toree_scala"
  },
  "language_info": {
   "codemirror_mode": "text/x-scala",
   "file_extension": ".scala",
   "mimetype": "text/x-scala",
   "name": "scala",
   "pygments_lexer": "scala",
   "version": "2.11.12"
  }
 },
 "nbformat": 4,
 "nbformat_minor": 5
}
