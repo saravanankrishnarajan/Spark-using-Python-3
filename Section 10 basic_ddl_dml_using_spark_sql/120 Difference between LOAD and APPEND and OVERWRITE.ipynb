{
 "cells": [
  {
   "cell_type": "markdown",
   "id": "30cc563b-81ce-4b47-9a74-f42e35916d5f",
   "metadata": {},
   "source": [
    "## 120 Difference between LOAD and APPEND and OVERWRITE"
   ]
  },
  {
   "cell_type": "code",
   "execution_count": null,
   "id": "a027284d-3f40-485f-92ac-6f3d97924d7d",
   "metadata": {},
   "outputs": [],
   "source": []
  },
  {
   "cell_type": "code",
   "execution_count": 1,
   "id": "88821032-0615-49a2-b54f-350fe5ba7e44",
   "metadata": {},
   "outputs": [
    {
     "data": {
      "text/plain": [
       "username = itversity\n",
       "spark = org.apache.spark.sql.SparkSession@74f227a5\n"
      ]
     },
     "metadata": {},
     "output_type": "display_data",
     "source": "user"
    },
    {
     "data": {
      "text/plain": [
       "org.apache.spark.sql.SparkSession@74f227a5"
      ]
     },
     "execution_count": 1,
     "metadata": {},
     "output_type": "execute_result"
    }
   ],
   "source": [
    "import org.apache.spark.sql.SparkSession\n",
    "\n",
    "val username = System.getProperty(\"user.name\")\n",
    "val spark = SparkSession.\n",
    "    builder.\n",
    "    config(\"spark.ui.port\", \"0\").\n",
    "    config(\"spark.sql.warehouse.dir\", s\"/user/${username}/warehouse\").\n",
    "    enableHiveSupport.\n",
    "    appName(s\"${username} | Spark SQL - Managing Tables - Basic DDL and DML2\").\n",
    "    master(\"yarn\").\n",
    "    getOrCreate"
   ]
  },
  {
   "cell_type": "code",
   "execution_count": 2,
   "id": "36a34b6e-ecb7-4978-a0c8-0ef2a60c6056",
   "metadata": {},
   "outputs": [
    {
     "name": "stdout",
     "output_type": "stream",
     "text": [
      "Deleted /user/itversity/retail_db/orders\n"
     ]
    },
    {
     "data": {
      "text/plain": [
       "warning: there was one feature warning; re-run with -feature for details\n"
      ]
     },
     "metadata": {},
     "output_type": "display_data",
     "source": "user"
    },
    {
     "data": {
      "text/plain": [
       "0"
      ]
     },
     "execution_count": 2,
     "metadata": {},
     "output_type": "execute_result"
    }
   ],
   "source": [
    "import sys.process._\n",
    "\n",
    "s\"hadoop fs -rm -R /user/${username}/retail_db/orders\" !"
   ]
  },
  {
   "cell_type": "code",
   "execution_count": 4,
   "id": "50dd00e0-8606-4fb0-ada8-20319fbe10b6",
   "metadata": {},
   "outputs": [
    {
     "data": {
      "text/plain": [
       "++\n",
       "||\n",
       "++\n",
       "++\n",
       "\n"
      ]
     },
     "execution_count": 4,
     "metadata": {},
     "output_type": "execute_result"
    }
   ],
   "source": [
    "%%sql\n",
    "\n",
    "USE itversity_retail"
   ]
  },
  {
   "cell_type": "code",
   "execution_count": 5,
   "id": "710aeb35-0e07-4c11-b4b3-5a6bd05d9266",
   "metadata": {},
   "outputs": [
    {
     "data": {
      "text/plain": [
       "+--------+\n",
       "|count(1)|\n",
       "+--------+\n",
       "|   68883|\n",
       "+--------+\n",
       "\n"
      ]
     },
     "execution_count": 5,
     "metadata": {},
     "output_type": "execute_result"
    }
   ],
   "source": [
    "%%sql\n",
    "\n",
    "SELECT COUNT(1) FROM orders"
   ]
  },
  {
   "cell_type": "code",
   "execution_count": 7,
   "id": "2c88e591-4d36-42bc-9694-111ee0ebbee4",
   "metadata": {},
   "outputs": [
    {
     "name": "stdout",
     "output_type": "stream",
     "text": [
      "Found 1 items\n",
      "-rwxr-xr-x   1 itversity supergroup    2999944 2024-02-01 06:23 /user/itversity/warehouse/itversity_retail.db/orders/part-00000\n"
     ]
    },
    {
     "data": {
      "text/plain": [
       "warning: there was one feature warning; re-run with -feature for details\n"
      ]
     },
     "metadata": {},
     "output_type": "display_data",
     "source": "user"
    },
    {
     "data": {
      "text/plain": [
       "0"
      ]
     },
     "execution_count": 7,
     "metadata": {},
     "output_type": "execute_result"
    }
   ],
   "source": [
    "s\"hadoop fs -ls /user/${username}/warehouse/${username}_retail.db/orders\" !"
   ]
  },
  {
   "cell_type": "code",
   "execution_count": 8,
   "id": "3fcd997f-303a-4009-8925-6b0f88fca0ae",
   "metadata": {},
   "outputs": [
    {
     "data": {
      "text/plain": [
       "++\n",
       "||\n",
       "++\n",
       "++\n",
       "\n"
      ]
     },
     "execution_count": 8,
     "metadata": {},
     "output_type": "execute_result"
    }
   ],
   "source": [
    "%%sql\n",
    "\n",
    "LOAD DATA LOCAL INPATH '/data/retail_db/orders' INTO TABLE orders"
   ]
  },
  {
   "cell_type": "code",
   "execution_count": 9,
   "id": "60a1b065-5510-4eb2-b16a-d13c36bc7bc2",
   "metadata": {},
   "outputs": [
    {
     "name": "stdout",
     "output_type": "stream",
     "text": [
      "Found 2 items\n",
      "-rwxr-xr-x   1 itversity supergroup    2999944 2024-02-01 06:23 /user/itversity/warehouse/itversity_retail.db/orders/part-00000\n",
      "-rwxr-xr-x   1 itversity supergroup    2999944 2024-02-01 06:42 /user/itversity/warehouse/itversity_retail.db/orders/part-00000_copy_1\n"
     ]
    },
    {
     "data": {
      "text/plain": [
       "warning: there was one feature warning; re-run with -feature for details\n"
      ]
     },
     "metadata": {},
     "output_type": "display_data",
     "source": "user"
    },
    {
     "data": {
      "text/plain": [
       "0"
      ]
     },
     "execution_count": 9,
     "metadata": {},
     "output_type": "execute_result"
    }
   ],
   "source": [
    "s\"hadoop fs -ls /user/${username}/warehouse/${username}_retail.db/orders\" !"
   ]
  },
  {
   "cell_type": "code",
   "execution_count": 10,
   "id": "521701d3-7d96-49c0-ae5a-99aaaf489a93",
   "metadata": {},
   "outputs": [
    {
     "data": {
      "text/plain": [
       "+--------+\n",
       "|count(1)|\n",
       "+--------+\n",
       "|  137766|\n",
       "+--------+\n",
       "\n"
      ]
     },
     "execution_count": 10,
     "metadata": {},
     "output_type": "execute_result"
    }
   ],
   "source": [
    "%%sql\n",
    "\n",
    "SELECT COUNT(1) FROM orders"
   ]
  },
  {
   "cell_type": "code",
   "execution_count": 11,
   "id": "8fd27e05-2b0d-4814-980a-886454f52133",
   "metadata": {},
   "outputs": [
    {
     "data": {
      "text/plain": [
       "++\n",
       "||\n",
       "++\n",
       "++\n",
       "\n"
      ]
     },
     "execution_count": 11,
     "metadata": {},
     "output_type": "execute_result"
    }
   ],
   "source": [
    "%%sql\n",
    "\n",
    "LOAD DATA LOCAL INPATH '/data/retail_db/orders' \n",
    "OVERWRITE INTO TABLE orders"
   ]
  },
  {
   "cell_type": "code",
   "execution_count": 12,
   "id": "acc85163-a333-47ac-a074-04e907e16498",
   "metadata": {},
   "outputs": [
    {
     "name": "stdout",
     "output_type": "stream",
     "text": [
      "Found 1 items\n",
      "-rwxr-xr-x   1 itversity supergroup    2999944 2024-02-01 06:43 /user/itversity/warehouse/itversity_retail.db/orders/part-00000\n"
     ]
    },
    {
     "data": {
      "text/plain": [
       "warning: there was one feature warning; re-run with -feature for details\n"
      ]
     },
     "metadata": {},
     "output_type": "display_data",
     "source": "user"
    },
    {
     "data": {
      "text/plain": [
       "0"
      ]
     },
     "execution_count": 12,
     "metadata": {},
     "output_type": "execute_result"
    }
   ],
   "source": [
    "s\"hadoop fs -ls /user/${username}/warehouse/${username}_retail.db/orders\" !"
   ]
  },
  {
   "cell_type": "code",
   "execution_count": 13,
   "id": "37c42342-cf45-4ddf-9a2d-fffdf9d3dd69",
   "metadata": {},
   "outputs": [
    {
     "data": {
      "text/plain": [
       "+--------+\n",
       "|count(1)|\n",
       "+--------+\n",
       "|   68883|\n",
       "+--------+\n",
       "\n"
      ]
     },
     "execution_count": 13,
     "metadata": {},
     "output_type": "execute_result"
    }
   ],
   "source": [
    "%%sql\n",
    "\n",
    "SELECT COUNT(1) FROM orders"
   ]
  },
  {
   "cell_type": "code",
   "execution_count": null,
   "id": "4d99473d-ae43-432e-8a83-d41db2c07332",
   "metadata": {},
   "outputs": [],
   "source": []
  }
 ],
 "metadata": {
  "kernelspec": {
   "display_name": "Apache Toree - Scala",
   "language": "scala",
   "name": "apache_toree_scala"
  },
  "language_info": {
   "codemirror_mode": "text/x-scala",
   "file_extension": ".scala",
   "mimetype": "text/x-scala",
   "name": "scala",
   "pygments_lexer": "scala",
   "version": "2.11.12"
  }
 },
 "nbformat": 4,
 "nbformat_minor": 5
}
