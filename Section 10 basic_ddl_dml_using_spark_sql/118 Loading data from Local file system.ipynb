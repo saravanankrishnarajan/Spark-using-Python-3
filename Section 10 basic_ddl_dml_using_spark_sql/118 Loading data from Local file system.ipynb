{
 "cells": [
  {
   "cell_type": "markdown",
   "id": "bc9ed14c-2d6f-4595-bf7a-1ce9b8efe2e3",
   "metadata": {},
   "source": [
    "## 118 Loading data from Local file system into Tables"
   ]
  },
  {
   "cell_type": "code",
   "execution_count": 1,
   "id": "5c275589-4b62-432a-ae25-07afd5ad6356",
   "metadata": {},
   "outputs": [
    {
     "data": {
      "text/plain": [
       "username = itversity\n",
       "spark = org.apache.spark.sql.SparkSession@7d0f036e\n"
      ]
     },
     "metadata": {},
     "output_type": "display_data",
     "source": "user"
    },
    {
     "data": {
      "text/plain": [
       "org.apache.spark.sql.SparkSession@7d0f036e"
      ]
     },
     "execution_count": 1,
     "metadata": {},
     "output_type": "execute_result"
    }
   ],
   "source": [
    "import org.apache.spark.sql.SparkSession\n",
    "\n",
    "val username = System.getProperty(\"user.name\")\n",
    "val spark = SparkSession.\n",
    "    builder.\n",
    "    config(\"spark.ui.port\", \"0\").\n",
    "    config(\"spark.sql.warehouse.dir\", s\"/user/${username}/warehouse\").\n",
    "    enableHiveSupport.\n",
    "    appName(s\"${username} | Spark SQL - Managing Tables - Basic DDL and DML2\").\n",
    "    master(\"yarn\").\n",
    "    getOrCreate"
   ]
  },
  {
   "cell_type": "code",
   "execution_count": 2,
   "id": "61a290cc-c855-43e5-b36a-d5ba03b17b8e",
   "metadata": {},
   "outputs": [
    {
     "data": {
      "text/plain": [
       "Waiting for a Spark session to start..."
      ]
     },
     "metadata": {},
     "output_type": "display_data",
     "source": "user"
    },
    {
     "data": {
      "text/plain": [
       "++\n",
       "||\n",
       "++\n",
       "++\n",
       "\n"
      ]
     },
     "execution_count": 2,
     "metadata": {},
     "output_type": "execute_result"
    }
   ],
   "source": [
    "%%sql\n",
    "\n",
    "use itversity_retail"
   ]
  },
  {
   "cell_type": "code",
   "execution_count": 3,
   "id": "f06a8d38-d72d-4c44-926a-1267caff28be",
   "metadata": {},
   "outputs": [
    {
     "data": {
      "text/plain": [
       "++\n",
       "||\n",
       "++\n",
       "++\n",
       "\n"
      ]
     },
     "execution_count": 3,
     "metadata": {},
     "output_type": "execute_result"
    }
   ],
   "source": [
    "%%sql\n",
    "\n",
    "DROP TABLE orders"
   ]
  },
  {
   "cell_type": "code",
   "execution_count": 4,
   "id": "32ead9b1-e9b8-4599-bfd1-d629d49b749a",
   "metadata": {},
   "outputs": [
    {
     "data": {
      "text/plain": [
       "++\n",
       "||\n",
       "++\n",
       "++\n",
       "\n"
      ]
     },
     "execution_count": 4,
     "metadata": {},
     "output_type": "execute_result"
    }
   ],
   "source": [
    "%%sql\n",
    "\n",
    "CREATE TABLE orders (\n",
    "  order_id INT COMMENT 'Unique order id',\n",
    "  order_date STRING COMMENT 'Date on which order is placed',\n",
    "  order_customer_id INT COMMENT 'Customer id who placed the order',\n",
    "  order_status STRING COMMENT 'Current status of the order'\n",
    ") COMMENT 'Table to save order level details'\n",
    "ROW FORMAT DELIMITED FIELDS TERMINATED BY ','"
   ]
  },
  {
   "cell_type": "code",
   "execution_count": 5,
   "id": "1f28c9cc-6bfe-43a1-abef-ccc8ef3b1b02",
   "metadata": {},
   "outputs": [
    {
     "data": {
      "text/plain": [
       "++\n",
       "||\n",
       "++\n",
       "++\n",
       "\n"
      ]
     },
     "execution_count": 5,
     "metadata": {},
     "output_type": "execute_result"
    }
   ],
   "source": [
    "%%sql\n",
    "\n",
    "LOAD DATA LOCAL INPATH '/data/retail_db/orders' INTO TABLE orders"
   ]
  },
  {
   "cell_type": "code",
   "execution_count": 6,
   "id": "7f5250b8-f0b0-4888-a60f-a71d6b53c495",
   "metadata": {},
   "outputs": [
    {
     "data": {
      "text/plain": [
       "|   34572|2014-02-23 00:00:...|             8135|        ...\n"
      ]
     },
     "metadata": {},
     "output_type": "display_data",
     "source": "user"
    },
    {
     "data": {
      "text/plain": [
       "+--------+--------------------+-----------------+---------------+\n",
       "|order_id|          order_date|order_customer_id|   order_status|\n",
       "+--------+--------------------+-----------------+---------------+\n",
       "|   34565|2014-02-23 00:00:...|             8702|       COMPLETE|\n",
       "|   34566|2014-02-23 00:00:...|             3066|PENDING_PAYMENT|\n",
       "|   34567|2014-02-23 00:00:...|             7314|SUSPECTED_FRAUD|\n",
       "|   34568|2014-02-23 00:00:...|             1271|       COMPLETE|\n",
       "|   34569|2014-02-23 00:00:...|            11083|       COMPLETE|\n",
       "|   34570|2014-02-23 00:00:...|             3159|         CLOSED|\n",
       "|   34571|2014-02-23 00:00:...|             4551|         CLOSED|\n",
       "|   34572|2014-02-23 00:00:...|             8135|        PENDING|\n",
       "|   34573|2014-02-23 00:00:...|             7497|PENDING_PAYMENT|\n",
       "|   34574|2014-02-23 00:00:...|             1868|        ON_HOLD|\n",
       "+--------+--------------------+-----------------+---------------+\n",
       "\n"
      ]
     },
     "execution_count": 6,
     "metadata": {},
     "output_type": "execute_result"
    }
   ],
   "source": [
    "%%sql\n",
    "\n",
    "SELECT * FROM orders LIMIT 10"
   ]
  },
  {
   "cell_type": "code",
   "execution_count": 7,
   "id": "02b2ebad-56a0-4a3d-8265-f7fe4c21ca86",
   "metadata": {},
   "outputs": [
    {
     "data": {
      "text/plain": [
       "+--------+\n",
       "|count(1)|\n",
       "+--------+\n",
       "|   68883|\n",
       "+--------+\n",
       "\n"
      ]
     },
     "execution_count": 7,
     "metadata": {},
     "output_type": "execute_result"
    }
   ],
   "source": [
    "%%sql\n",
    "\n",
    "SELECT count(1) FROM orders"
   ]
  },
  {
   "cell_type": "code",
   "execution_count": 8,
   "id": "fdfca72d-419d-4449-9811-16f0d2027bd4",
   "metadata": {},
   "outputs": [
    {
     "data": {
      "text/plain": [
       "[]"
      ]
     },
     "execution_count": 8,
     "metadata": {},
     "output_type": "execute_result"
    }
   ],
   "source": [
    "spark.sql(\"USE itversity_retail\")"
   ]
  },
  {
   "cell_type": "code",
   "execution_count": 9,
   "id": "94736275-e156-4418-b0eb-94f7da8c0578",
   "metadata": {},
   "outputs": [
    {
     "data": {
      "text/plain": [
       "[]"
      ]
     },
     "execution_count": 9,
     "metadata": {},
     "output_type": "execute_result"
    }
   ],
   "source": [
    "spark.sql(\"DROP TABLE orders\")"
   ]
  },
  {
   "cell_type": "code",
   "execution_count": 10,
   "id": "c3e798f3-4b3f-42ef-8055-e31855fcebb0",
   "metadata": {},
   "outputs": [
    {
     "data": {
      "text/plain": [
       "[]"
      ]
     },
     "execution_count": 10,
     "metadata": {},
     "output_type": "execute_result"
    }
   ],
   "source": [
    "spark.sql(\"\"\"\n",
    "CREATE TABLE orders (\n",
    "  order_id INT COMMENT 'Unique order id',\n",
    "  order_date STRING COMMENT 'Date on which order is placed',\n",
    "  order_customer_id INT COMMENT 'Customer id who placed the order',\n",
    "  order_status STRING COMMENT 'Current status of the order'\n",
    ") COMMENT 'Table to save order level details'\n",
    "ROW FORMAT DELIMITED FIELDS TERMINATED BY ','\n",
    "\"\"\")"
   ]
  },
  {
   "cell_type": "code",
   "execution_count": 11,
   "id": "242e2a93-dc1e-4b55-b80c-f82795c729f7",
   "metadata": {},
   "outputs": [
    {
     "data": {
      "text/plain": [
       "[]"
      ]
     },
     "execution_count": 11,
     "metadata": {},
     "output_type": "execute_result"
    }
   ],
   "source": [
    "spark.sql(\"LOAD DATA LOCAL INPATH '/data/retail_db/orders' INTO TABLE orders\")"
   ]
  },
  {
   "cell_type": "code",
   "execution_count": null,
   "id": "c0941747-2de4-4d41-8b6f-1a5954e22523",
   "metadata": {},
   "outputs": [],
   "source": []
  }
 ],
 "metadata": {
  "kernelspec": {
   "display_name": "Apache Toree - Scala",
   "language": "scala",
   "name": "apache_toree_scala"
  },
  "language_info": {
   "codemirror_mode": "text/x-scala",
   "file_extension": ".scala",
   "mimetype": "text/x-scala",
   "name": "scala",
   "pygments_lexer": "scala",
   "version": "2.11.12"
  }
 },
 "nbformat": 4,
 "nbformat_minor": 5
}
