{
 "cells": [
  {
   "cell_type": "markdown",
   "id": "bcfabc38-f6f5-47a4-9fb1-d6fbe8d9a284",
   "metadata": {},
   "source": [
    "## 116 Overview of Data Types used in Metastore "
   ]
  },
  {
   "cell_type": "code",
   "execution_count": 1,
   "id": "15ff1e05-acb3-43a4-9900-e05b79e14d3c",
   "metadata": {},
   "outputs": [
    {
     "data": {
      "text/plain": [
       "username = itversity\n"
      ]
     },
     "metadata": {},
     "output_type": "display_data",
     "source": "user"
    },
    {
     "data": {
      "text/plain": [
       "itversity"
      ]
     },
     "execution_count": 1,
     "metadata": {},
     "output_type": "execute_result"
    }
   ],
   "source": [
    "val username = System.getProperty(\"user.name\")"
   ]
  },
  {
   "cell_type": "code",
   "execution_count": 2,
   "id": "4c047082-b2df-437f-bb8b-79e511b0f9d9",
   "metadata": {},
   "outputs": [
    {
     "data": {
      "text/plain": [
       "username = itversity\n",
       "spark = org.apache.spark.sql.SparkSession@63cd2ac4\n"
      ]
     },
     "metadata": {},
     "output_type": "display_data",
     "source": "user"
    },
    {
     "data": {
      "text/plain": [
       "org.apache.spark.sql.SparkSession@63cd2ac4"
      ]
     },
     "execution_count": 2,
     "metadata": {},
     "output_type": "execute_result"
    }
   ],
   "source": [
    "import org.apache.spark.sql.SparkSession\n",
    "\n",
    "val username = System.getProperty(\"user.name\")\n",
    "val spark = SparkSession.\n",
    "    builder.\n",
    "    config(\"spark.ui.port\", \"0\").\n",
    "    config(\"spark.sql.warehouse.dir\", s\"/user/${username}/warehouse\").\n",
    "    enableHiveSupport.\n",
    "    appName(s\"${username} | Spark SQL - Managing Tables - Basic DDL and DML2\").\n",
    "    master(\"yarn\").\n",
    "    getOrCreate"
   ]
  },
  {
   "cell_type": "code",
   "execution_count": 3,
   "id": "89f0bb4b-4d5c-4bc7-89fe-fdc4a1306d40",
   "metadata": {},
   "outputs": [
    {
     "data": {
      "text/plain": [
       "Waiting for a Spark session to start..."
      ]
     },
     "metadata": {},
     "output_type": "display_data",
     "source": "user"
    },
    {
     "data": {
      "text/plain": [
       "++\n",
       "||\n",
       "++\n",
       "++\n",
       "\n"
      ]
     },
     "execution_count": 3,
     "metadata": {},
     "output_type": "execute_result"
    }
   ],
   "source": [
    "%%sql\n",
    "\n",
    "use itversity_retail"
   ]
  },
  {
   "cell_type": "code",
   "execution_count": 11,
   "id": "28b3b211-a5ba-4ca9-bfe3-fa393fa1d59f",
   "metadata": {},
   "outputs": [
    {
     "data": {
      "text/plain": [
       "++\n",
       "||\n",
       "++\n",
       "++\n",
       "\n"
      ]
     },
     "execution_count": 11,
     "metadata": {},
     "output_type": "execute_result"
    }
   ],
   "source": [
    "%%sql\n",
    "\n",
    "drop database if exists itversity_sms cascade"
   ]
  },
  {
   "cell_type": "code",
   "execution_count": 12,
   "id": "f6bd1f19-6717-4b8c-bf7b-52937c1089f2",
   "metadata": {},
   "outputs": [
    {
     "data": {
      "text/plain": [
       "++\n",
       "||\n",
       "++\n",
       "++\n",
       "\n"
      ]
     },
     "execution_count": 12,
     "metadata": {},
     "output_type": "execute_result"
    }
   ],
   "source": [
    "%%sql\n",
    "\n",
    "CREATE DATABASE IF NOT EXISTS itversity_sms"
   ]
  },
  {
   "cell_type": "code",
   "execution_count": 13,
   "id": "47266861-d841-4cbd-a935-2125faa66522",
   "metadata": {},
   "outputs": [
    {
     "data": {
      "text/plain": [
       "++\n",
       "||\n",
       "++\n",
       "++\n",
       "\n"
      ]
     },
     "execution_count": 13,
     "metadata": {},
     "output_type": "execute_result"
    }
   ],
   "source": [
    "%%sql\n",
    "\n",
    "use itversity_sms"
   ]
  },
  {
   "cell_type": "code",
   "execution_count": 14,
   "id": "a92944b0-3dd6-44f5-ac5d-6e16a3d58abe",
   "metadata": {},
   "outputs": [
    {
     "data": {
      "text/plain": [
       "++\n",
       "||\n",
       "++\n",
       "++\n",
       "\n"
      ]
     },
     "execution_count": 14,
     "metadata": {},
     "output_type": "execute_result"
    }
   ],
   "source": [
    "%%sql\n",
    "\n",
    "CREATE TABLE students (\n",
    "    student_id INT,\n",
    "    student_first_name STRING,\n",
    "    student_last_name STRING,\n",
    "    student_phone_numbers ARRAY<STRING>,\n",
    "    student_address STRUCT<street:STRING, city:STRING, state:STRING, zip:STRING>\n",
    ") STORED AS TEXTFILE\n",
    "ROW FORMAT\n",
    "    DELIMITED FIELDS TERMINATED BY '\\t'\n",
    "    COLLECTION ITEMS TERMINATED BY ','"
   ]
  },
  {
   "cell_type": "code",
   "execution_count": 15,
   "id": "ee73dc2d-c9cf-48cf-b094-64fe628d9c93",
   "metadata": {},
   "outputs": [
    {
     "data": {
      "text/plain": [
       "+--------------------+--------------------+-------+\n",
       "|            col_name|           data_type|comment|\n",
       "+--------------------+--------------------+-------+\n",
       "|          student_id|                 int|   null|\n",
       "|  student_first_name|              string|   null|\n",
       "|   student_last_name|              string|   null|\n",
       "|student_phone_num...|       array<string>|   null|\n",
       "|     student_address|struct<street:str...|   null|\n",
       "+--------------------+--------------------+-------+\n",
       "\n"
      ]
     },
     "execution_count": 15,
     "metadata": {},
     "output_type": "execute_result"
    }
   ],
   "source": [
    "%%sql\n",
    "\n",
    "DESCRIBE students"
   ]
  },
  {
   "cell_type": "code",
   "execution_count": 16,
   "id": "927a4b2b-e300-43ac-a0df-760a9ffd98b2",
   "metadata": {},
   "outputs": [
    {
     "data": {
      "text/plain": [
       "++\n",
       "||\n",
       "++\n",
       "++\n",
       "\n"
      ]
     },
     "execution_count": 16,
     "metadata": {},
     "output_type": "execute_result"
    }
   ],
   "source": [
    "%%sql\n",
    "\n",
    "INSERT INTO students VALUES (1, 'Scott', 'Tiger', NULL, NULL)"
   ]
  },
  {
   "cell_type": "code",
   "execution_count": 17,
   "id": "d94b612a-7364-4b45-96d7-e4b0a7e961ac",
   "metadata": {},
   "outputs": [
    {
     "data": {
      "text/plain": [
       "+----------+------------------+-----------------+---------------------+---------------+\n",
       "|student_id|student_first_name|student_last_name|student_phone_numbers|student_address|\n",
       "+----------+------------------+-----------------+---------------------+---------------+\n",
       "|         1|             Scott|            Tiger|                 null|           null|\n",
       "+----------+------------------+-----------------+---------------------+---------------+\n",
       "\n"
      ]
     },
     "execution_count": 17,
     "metadata": {},
     "output_type": "execute_result"
    }
   ],
   "source": [
    "%%sql\n",
    "\n",
    "SELECT * FROM students"
   ]
  },
  {
   "cell_type": "code",
   "execution_count": 18,
   "id": "56139c19-366d-4a6e-9358-814b74fcfedb",
   "metadata": {},
   "outputs": [
    {
     "data": {
      "text/plain": [
       "++\n",
       "||\n",
       "++\n",
       "++\n",
       "\n"
      ]
     },
     "execution_count": 18,
     "metadata": {},
     "output_type": "execute_result"
    }
   ],
   "source": [
    "%%sql\n",
    "\n",
    "INSERT INTO students VALUES (2, 'Donald', 'Duck', ARRAY('1234567890', '2345678901'), NULL)"
   ]
  },
  {
   "cell_type": "code",
   "execution_count": 19,
   "id": "2d4cdfdc-8cdf-4b2f-b171-4f120f11433a",
   "metadata": {},
   "outputs": [
    {
     "data": {
      "text/plain": [
       "++\n",
       "||\n",
       "++\n",
       "++\n",
       "\n"
      ]
     },
     "execution_count": 19,
     "metadata": {},
     "output_type": "execute_result"
    }
   ],
   "source": [
    "%%sql\n",
    "\n",
    "INSERT INTO students VALUES \n",
    "    (3, 'Mickey', 'Mouse', ARRAY('1234567890', '2345678901'), STRUCT('A Street', 'One City', 'Some State', '12345')),\n",
    "    (4, 'Bubble', 'Guppy', ARRAY('5678901234', '6789012345'), STRUCT('Bubbly Street', 'Guppy', 'La la land', '45678'))"
   ]
  },
  {
   "cell_type": "code",
   "execution_count": 20,
   "id": "ce2e0c52-e163-4a88-be31-6fe7e4839f53",
   "metadata": {},
   "outputs": [
    {
     "data": {
      "text/plain": [
       "+----------+------------------+-----------------+-----------------...\n"
      ]
     },
     "metadata": {},
     "output_type": "display_data",
     "source": "user"
    },
    {
     "data": {
      "text/plain": [
       "+----------+------------------+-----------------+---------------------+--------------------+\n",
       "|student_id|student_first_name|student_last_name|student_phone_numbers|     student_address|\n",
       "+----------+------------------+-----------------+---------------------+--------------------+\n",
       "|         2|            Donald|             Duck| [1234567890, 2345...|                null|\n",
       "|         3|            Mickey|            Mouse| [1234567890, 2345...|[A Street, One Ci...|\n",
       "|         1|             Scott|            Tiger|                 null|                null|\n",
       "|         4|            Bubble|            Guppy| [5678901234, 6789...|[Bubbly Street, G...|\n",
       "+----------+------------------+-----------------+---------------------+--------------------+\n",
       "\n"
      ]
     },
     "execution_count": 20,
     "metadata": {},
     "output_type": "execute_result"
    }
   ],
   "source": [
    "%%sql\n",
    "\n",
    "SELECT * FROM students"
   ]
  },
  {
   "cell_type": "code",
   "execution_count": 24,
   "id": "f7fb33ad-8668-450f-bbf6-6f59584e6a28",
   "metadata": {},
   "outputs": [
    {
     "data": {
      "text/plain": [
       "Magic sql failed to execute with error: \n",
       "ALTER TABLE CHANGE COLUMN is not supported for changing column 'student_id' with type 'IntegerType' to 'student_id2' with type 'LongType';"
      ]
     },
     "execution_count": 24,
     "metadata": {},
     "output_type": "execute_result"
    }
   ],
   "source": [
    "%%sql\n",
    "\n",
    "alter table students change student_id student_id2  bigint"
   ]
  },
  {
   "cell_type": "code",
   "execution_count": 25,
   "id": "0bea79fb-5055-4423-ae91-4c74aed9477f",
   "metadata": {},
   "outputs": [
    {
     "data": {
      "text/plain": [
       "+--------------------+--------------------+-------+\n",
       "|            col_name|           data_type|comment|\n",
       "+--------------------+--------------------+-------+\n",
       "|          student_id|                 int|   null|\n",
       "|  student_first_name|              string|   null|\n",
       "|   student_last_name|              string|   null|\n",
       "|student_phone_num...|       array<string>|   null|\n",
       "|     student_address|struct<street:str...|   null|\n",
       "+--------------------+--------------------+-------+\n",
       "\n"
      ]
     },
     "execution_count": 25,
     "metadata": {},
     "output_type": "execute_result"
    }
   ],
   "source": [
    "%%sql\n",
    "\n",
    "describe students"
   ]
  },
  {
   "cell_type": "code",
   "execution_count": 26,
   "id": "77752f1b-926c-4734-933d-e89affb95b49",
   "metadata": {},
   "outputs": [
    {
     "data": {
      "text/plain": [
       "+--------------------+--------------------+-------+\n",
       "|            col_name|           data_type|comment|\n",
       "+--------------------+--------------------+-------+\n",
       "|          student_id|              bigint|   null|\n",
       "|  student_first_name|              string|   null|\n",
       "|   student_last_name|              string|   null|\n",
       "|student_phone_num...|       array<string>|   null|\n",
       "|     student_address|struct<street:str...|   null|\n",
       "+--------------------+--------------------+-------+\n",
       "\n"
      ]
     },
     "execution_count": 26,
     "metadata": {},
     "output_type": "execute_result"
    }
   ],
   "source": [
    "%%sql\n",
    "\n",
    "describe students"
   ]
  },
  {
   "cell_type": "code",
   "execution_count": 27,
   "id": "83a41699-6670-4459-abd6-cbab04fe6345",
   "metadata": {},
   "outputs": [
    {
     "data": {
      "text/plain": [
       "+----------+------------------+-----------------+----------------...\n"
      ]
     },
     "metadata": {},
     "output_type": "display_data",
     "source": "user"
    },
    {
     "data": {
      "text/plain": [
       "+----------+------------------+-----------------+---------------------+--------------------+\n",
       "|student_id|student_first_name|student_last_name|student_phone_numbers|     student_address|\n",
       "+----------+------------------+-----------------+---------------------+--------------------+\n",
       "|         2|            Donald|             Duck| [1234567890, 2345...|                null|\n",
       "|         3|            Mickey|            Mouse| [1234567890, 2345...|[A Street, One Ci...|\n",
       "|         1|             Scott|            Tiger|                 null|                null|\n",
       "|         4|            Bubble|            Guppy| [5678901234, 6789...|[Bubbly Street, G...|\n",
       "+----------+------------------+-----------------+---------------------+--------------------+\n",
       "\n"
      ]
     },
     "execution_count": 27,
     "metadata": {},
     "output_type": "execute_result"
    }
   ],
   "source": [
    "%%sql\n",
    "\n",
    "SELECT * FROM students"
   ]
  },
  {
   "cell_type": "code",
   "execution_count": 30,
   "id": "d4e5063d-038c-4586-b432-32fa9688189a",
   "metadata": {},
   "outputs": [
    {
     "name": "stdout",
     "output_type": "stream",
     "text": [
      "Found 4 items\n",
      "-rwxr-xr-x   1 itversity supergroup         39 2024-02-01 05:35 /user/itversity/warehouse/itversity_sms.db/students/part-00000-0dcb5ba5-bc5b-4ba4-91dd-0708d7f6f11d-c000\n",
      "-rwxr-xr-x   1 itversity supergroup         72 2024-02-01 05:35 /user/itversity/warehouse/itversity_sms.db/students/part-00000-341897d5-a91f-4272-a00f-7ae326ae0802-c000\n",
      "-rwxr-xr-x   1 itversity supergroup         20 2024-02-01 05:33 /user/itversity/warehouse/itversity_sms.db/students/part-00000-6d953d3f-8d9c-4155-b50c-bbb37f1be9f3-c000\n",
      "-rwxr-xr-x   1 itversity supergroup         74 2024-02-01 05:35 /user/itversity/warehouse/itversity_sms.db/students/part-00001-341897d5-a91f-4272-a00f-7ae326ae0802-c000\n"
     ]
    },
    {
     "data": {
      "text/plain": [
       "warning: there was one feature warning; re-run with -feature for details\n"
      ]
     },
     "metadata": {},
     "output_type": "display_data",
     "source": "user"
    },
    {
     "data": {
      "text/plain": [
       "0"
      ]
     },
     "execution_count": 30,
     "metadata": {},
     "output_type": "execute_result"
    }
   ],
   "source": [
    "import sys.process._\n",
    "\n",
    "s\"hdfs dfs -ls /user/${username}/warehouse/${username}_sms.db/students\"!"
   ]
  },
  {
   "cell_type": "code",
   "execution_count": 31,
   "id": "84ff2543-2f4c-46a4-bdf2-d0b9eb47f025",
   "metadata": {},
   "outputs": [
    {
     "name": "stdout",
     "output_type": "stream",
     "text": [
      "2\tDonald\tDuck\t1234567890,2345678901\t\\N\n"
     ]
    },
    {
     "data": {
      "text/plain": [
       "warning: there was one feature warning; re-run with -feature for details\n"
      ]
     },
     "metadata": {},
     "output_type": "display_data",
     "source": "user"
    },
    {
     "data": {
      "text/plain": [
       "0"
      ]
     },
     "execution_count": 31,
     "metadata": {},
     "output_type": "execute_result"
    }
   ],
   "source": [
    "import sys.process._\n",
    "\n",
    "s\"hdfs dfs -cat /user/${username}/warehouse/${username}_sms.db/students/part-00000-0dcb5ba5-bc5b-4ba4-91dd-0708d7f6f11d-c000\"!"
   ]
  },
  {
   "cell_type": "code",
   "execution_count": 32,
   "id": "97b6bac9-1afe-47fa-93c9-4000b19c918b",
   "metadata": {},
   "outputs": [
    {
     "name": "stdout",
     "output_type": "stream",
     "text": [
      "2\tDonald\tDuck\t1234567890,2345678901\t\\N\n",
      "3\tMickey\tMouse\t1234567890,2345678901\tA Street,One City,Some State,12345\n",
      "1\tScott\tTiger\t\\N\t\\N\n",
      "4\tBubble\tGuppy\t5678901234,6789012345\tBubbly Street,Guppy,La la land,45678\n"
     ]
    },
    {
     "data": {
      "text/plain": [
       "warning: there was one feature warning; re-run with -feature for details\n"
      ]
     },
     "metadata": {},
     "output_type": "display_data",
     "source": "user"
    },
    {
     "data": {
      "text/plain": [
       "0"
      ]
     },
     "execution_count": 32,
     "metadata": {},
     "output_type": "execute_result"
    }
   ],
   "source": [
    "import sys.process._\n",
    "\n",
    "s\"hdfs dfs -cat /user/${username}/warehouse/${username}_sms.db/students/*\"!"
   ]
  },
  {
   "cell_type": "code",
   "execution_count": null,
   "id": "5047cc3c-6311-4d9a-8213-cfa2be200494",
   "metadata": {},
   "outputs": [],
   "source": []
  }
 ],
 "metadata": {
  "kernelspec": {
   "display_name": "Apache Toree - Scala",
   "language": "scala",
   "name": "apache_toree_scala"
  },
  "language_info": {
   "codemirror_mode": "text/x-scala",
   "file_extension": ".scala",
   "mimetype": "text/x-scala",
   "name": "scala",
   "pygments_lexer": "scala",
   "version": "2.11.12"
  }
 },
 "nbformat": 4,
 "nbformat_minor": 5
}
