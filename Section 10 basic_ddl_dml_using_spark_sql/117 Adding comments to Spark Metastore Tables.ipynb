{
 "cells": [
  {
   "cell_type": "markdown",
   "id": "1878abdf-381f-4323-b888-48bcbe5f76fe",
   "metadata": {},
   "source": [
    "## 117 Adding comments to Spark Metastore Tables"
   ]
  },
  {
   "cell_type": "code",
   "execution_count": 1,
   "id": "e6031eda-71be-49b8-a865-c7e433e1e443",
   "metadata": {
    "tags": []
   },
   "outputs": [
    {
     "data": {
      "text/plain": [
       "username = itversity\n"
      ]
     },
     "metadata": {},
     "output_type": "display_data",
     "source": "user"
    },
    {
     "data": {
      "text/plain": [
       "itversity"
      ]
     },
     "execution_count": 1,
     "metadata": {},
     "output_type": "execute_result"
    }
   ],
   "source": [
    "val username = System.getProperty(\"user.name\")"
   ]
  },
  {
   "cell_type": "code",
   "execution_count": 2,
   "id": "ff245b40-3eac-4828-9503-bc51701df02e",
   "metadata": {},
   "outputs": [
    {
     "data": {
      "text/plain": [
       "username = itversity\n",
       "spark = org.apache.spark.sql.SparkSession@631a0c89\n"
      ]
     },
     "metadata": {},
     "output_type": "display_data",
     "source": "user"
    },
    {
     "data": {
      "text/plain": [
       "org.apache.spark.sql.SparkSession@631a0c89"
      ]
     },
     "execution_count": 2,
     "metadata": {},
     "output_type": "execute_result"
    }
   ],
   "source": [
    "import org.apache.spark.sql.SparkSession\n",
    "\n",
    "val username = System.getProperty(\"user.name\")\n",
    "val spark = SparkSession.\n",
    "    builder.\n",
    "    config(\"spark.ui.port\", \"0\").\n",
    "    config(\"spark.sql.warehouse.dir\", s\"/user/${username}/warehouse\").\n",
    "    enableHiveSupport.\n",
    "    appName(s\"${username} | Spark SQL - Managing Tables - Basic DDL and DML2\").\n",
    "    master(\"yarn\").\n",
    "    getOrCreate"
   ]
  },
  {
   "cell_type": "code",
   "execution_count": 3,
   "id": "378d438a-cff5-4176-b77a-1a44b501afe2",
   "metadata": {},
   "outputs": [
    {
     "data": {
      "text/plain": [
       "Waiting for a Spark session to start..."
      ]
     },
     "metadata": {},
     "output_type": "display_data",
     "source": "user"
    },
    {
     "data": {
      "text/plain": [
       "++\n",
       "||\n",
       "++\n",
       "++\n",
       "\n"
      ]
     },
     "execution_count": 3,
     "metadata": {},
     "output_type": "execute_result"
    }
   ],
   "source": [
    "%%sql\n",
    "\n",
    "use itversity_retail"
   ]
  },
  {
   "cell_type": "code",
   "execution_count": 4,
   "id": "ad8635c5-7790-43a7-839e-3435f857d6d5",
   "metadata": {},
   "outputs": [
    {
     "data": {
      "text/plain": [
       "++\n",
       "||\n",
       "++\n",
       "++\n",
       "\n"
      ]
     },
     "execution_count": 4,
     "metadata": {},
     "output_type": "execute_result"
    }
   ],
   "source": [
    "%%sql\n",
    "\n",
    "DROP TABLE IF EXISTS orders"
   ]
  },
  {
   "cell_type": "code",
   "execution_count": 5,
   "id": "9f8a0334-0e88-464d-b82f-302071a662ae",
   "metadata": {},
   "outputs": [
    {
     "data": {
      "text/plain": [
       "++\n",
       "||\n",
       "++\n",
       "++\n",
       "\n"
      ]
     },
     "execution_count": 5,
     "metadata": {},
     "output_type": "execute_result"
    }
   ],
   "source": [
    "%%sql\n",
    "\n",
    "CREATE TABLE orders (\n",
    "  order_id INT COMMENT 'Unique order id',\n",
    "  order_date STRING COMMENT 'Date on which order is placed',\n",
    "  order_customer_id INT COMMENT 'Customer id who placed the order',\n",
    "  order_status STRING COMMENT 'Current status of the order'\n",
    ") COMMENT 'Table to save order level details'"
   ]
  },
  {
   "cell_type": "code",
   "execution_count": 6,
   "id": "8f54fc4f-f0ff-4e36-8a36-4783681ae3b4",
   "metadata": {},
   "outputs": [
    {
     "data": {
      "text/plain": [
       "[]"
      ]
     },
     "execution_count": 6,
     "metadata": {},
     "output_type": "execute_result"
    }
   ],
   "source": [
    "spark.sql(\"USE itversity_retail\")"
   ]
  },
  {
   "cell_type": "code",
   "execution_count": 7,
   "id": "94dc02d5-b05a-4e69-8367-082746197bb4",
   "metadata": {},
   "outputs": [
    {
     "data": {
      "text/plain": [
       "[]"
      ]
     },
     "execution_count": 7,
     "metadata": {},
     "output_type": "execute_result"
    }
   ],
   "source": [
    "spark.sql(\"DROP TABLE orders\")"
   ]
  },
  {
   "cell_type": "code",
   "execution_count": 8,
   "id": "f1c30381-ddf4-432e-9d00-38c44ed562ed",
   "metadata": {},
   "outputs": [
    {
     "data": {
      "text/plain": [
       "[]"
      ]
     },
     "execution_count": 8,
     "metadata": {},
     "output_type": "execute_result"
    }
   ],
   "source": [
    "spark.sql(\"\"\"\n",
    "CREATE TABLE orders (\n",
    "  order_id STRING COMMENT 'Unique order id',\n",
    "  order_date STRING COMMENT 'Date on which order is placed',\n",
    "  order_customer_id INT COMMENT 'Customer id who placed the order',\n",
    "  order_status STRING COMMENT 'Current status of the order'\n",
    ") COMMENT 'Table to save order level details'\n",
    "\"\"\")"
   ]
  },
  {
   "cell_type": "code",
   "execution_count": 9,
   "id": "ef6571e8-ec35-4817-b495-16e8638e8fa5",
   "metadata": {},
   "outputs": [
    {
     "data": {
      "text/plain": [
       "+-----------------+---------+--------------------+\n",
       "|         col_name|data_type|             comment|\n",
       "+-----------------+---------+--------------------+\n",
       "|         order_id|   string|     Unique order id|\n",
       "|       order_date|   string|Date on which ord...|\n",
       "|order_customer_id|      int|Customer id who p...|\n",
       "|     order_status|   string|Current status of...|\n",
       "+-----------------+---------+--------------------+\n",
       "\n"
      ]
     },
     "execution_count": 9,
     "metadata": {},
     "output_type": "execute_result"
    }
   ],
   "source": [
    "%%sql\n",
    "\n",
    "DESCRIBE orders"
   ]
  },
  {
   "cell_type": "code",
   "execution_count": 10,
   "id": "36f7323d-d316-42e5-8266-0fe447af3cda",
   "metadata": {},
   "outputs": [
    {
     "data": {
      "text/plain": [
       "| ...\n"
      ]
     },
     "metadata": {},
     "output_type": "display_data",
     "source": "user"
    },
    {
     "data": {
      "text/plain": [
       "+--------------------+--------------------+--------------------+\n",
       "|            col_name|           data_type|             comment|\n",
       "+--------------------+--------------------+--------------------+\n",
       "|            order_id|              string|     Unique order id|\n",
       "|          order_date|              string|Date on which ord...|\n",
       "|   order_customer_id|                 int|Customer id who p...|\n",
       "|        order_status|              string|Current status of...|\n",
       "|                    |                    |                    |\n",
       "|# Detailed Table ...|                    |                    |\n",
       "|            Database|    itversity_retail|                    |\n",
       "|               Table|              orders|                    |\n",
       "|               Owner|           itversity|                    |\n",
       "|        Created Time|Thu Feb 01 05:50:...|                    |\n",
       "+--------------------+--------------------+--------------------+\n",
       "only showing top 10 rows\n",
       "\n"
      ]
     },
     "execution_count": 10,
     "metadata": {},
     "output_type": "execute_result"
    }
   ],
   "source": [
    "%%sql\n",
    "\n",
    "DESCRIBE FORMATTED orders"
   ]
  },
  {
   "cell_type": "code",
   "execution_count": 11,
   "id": "01593db0-5889-4216-8c2a-f14088bd5f60",
   "metadata": {},
   "outputs": [
    {
     "name": "stdout",
     "output_type": "stream",
     "text": [
      "+----------------------------+-------------------------------------------------------------------------+--------------------------------+\n",
      "|col_name                    |data_type                                                                |comment                         |\n",
      "+----------------------------+-------------------------------------------------------------------------+--------------------------------+\n",
      "|order_id                    |string                                                                   |Unique order id                 |\n",
      "|order_date                  |string                                                                   |Date on which order is placed   |\n",
      "|order_customer_id           |int                                                                      |Customer id who placed the order|\n",
      "|order_status                |string                                                                   |Current status of the order     |\n",
      "|                            |                                                                         |                                |\n",
      "|# Detailed Table Information|                                                                         |                                |\n",
      "|Database                    |itversity_retail                                                         |                                |\n",
      "|Table                       |orders                                                                   |                                |\n",
      "|Owner                       |itversity                                                                |                                |\n",
      "|Created Time                |Thu Feb 01 05:50:57 GMT 2024                                             |                                |\n",
      "|Last Access                 |Thu Jan 01 00:00:00 GMT 1970                                             |                                |\n",
      "|Created By                  |Spark 2.4.8                                                              |                                |\n",
      "|Type                        |MANAGED                                                                  |                                |\n",
      "|Provider                    |hive                                                                     |                                |\n",
      "|Comment                     |Table to save order level details                                        |                                |\n",
      "|Table Properties            |[transient_lastDdlTime=1706766657]                                       |                                |\n",
      "|Location                    |hdfs://localhost:9000/user/itversity/warehouse/itversity_retail.db/orders|                                |\n",
      "|Serde Library               |org.apache.hadoop.hive.serde2.lazy.LazySimpleSerDe                       |                                |\n",
      "|InputFormat                 |org.apache.hadoop.mapred.TextInputFormat                                 |                                |\n",
      "|OutputFormat                |org.apache.hadoop.hive.ql.io.HiveIgnoreKeyTextOutputFormat               |                                |\n",
      "|Storage Properties          |[serialization.format=1]                                                 |                                |\n",
      "|Partition Provider          |Catalog                                                                  |                                |\n",
      "+----------------------------+-------------------------------------------------------------------------+--------------------------------+\n",
      "\n"
     ]
    }
   ],
   "source": [
    "spark.sql(\"DESCRIBE FORMATTED orders\").show(200, false) // Scala"
   ]
  },
  {
   "cell_type": "code",
   "execution_count": null,
   "id": "a0652c8c-5199-40a7-868f-aee26a7a3355",
   "metadata": {},
   "outputs": [],
   "source": []
  }
 ],
 "metadata": {
  "kernelspec": {
   "display_name": "Apache Toree - Scala",
   "language": "scala",
   "name": "apache_toree_scala"
  },
  "language_info": {
   "codemirror_mode": "text/x-scala",
   "file_extension": ".scala",
   "mimetype": "text/x-scala",
   "name": "scala",
   "pygments_lexer": "scala",
   "version": "2.11.12"
  }
 },
 "nbformat": 4,
 "nbformat_minor": 5
}
