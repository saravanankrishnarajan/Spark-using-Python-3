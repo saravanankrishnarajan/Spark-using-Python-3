{
 "cells": [
  {
   "cell_type": "code",
   "execution_count": null,
   "id": "de141e46-7064-4426-868b-35ef07074412",
   "metadata": {},
   "outputs": [],
   "source": [
    "Section 12 Predefined Functions"
   ]
  },
  {
   "cell_type": "code",
   "execution_count": 1,
   "id": "33168ebd-abb2-45c2-9cf9-6538fa16f59d",
   "metadata": {},
   "outputs": [
    {
     "data": {
      "text/plain": [
       "spark = org.apache.spark.sql.SparkSession@35fde4e5\n"
      ]
     },
     "metadata": {},
     "output_type": "display_data",
     "source": "user"
    },
    {
     "data": {
      "text/plain": [
       "org.apache.spark.sql.SparkSession@35fde4e5"
      ]
     },
     "execution_count": 1,
     "metadata": {},
     "output_type": "execute_result"
    }
   ],
   "source": [
    "import org.apache.spark.sql.SparkSession\n",
    "\n",
    "val spark = SparkSession.\n",
    "            builder.\n",
    "            config(\"spark.ui.port\",\"0\").\n",
    "            config(\"spark.sql.warehouse.dir\",\"/user/itversity/warehouse\").\n",
    "            enableHiveSupport.\n",
    "            appName(\"Spark SQL Pre-defined functions\").\n",
    "            getOrCreate"
   ]
  },
  {
   "cell_type": "code",
   "execution_count": 2,
   "id": "c3ba6793-ed95-47e7-a3ce-3825106e2aed",
   "metadata": {},
   "outputs": [
    {
     "data": {
      "text/plain": [
       "username = itversity\n"
      ]
     },
     "metadata": {},
     "output_type": "display_data",
     "source": "user"
    },
    {
     "data": {
      "text/plain": [
       "itversity"
      ]
     },
     "execution_count": 2,
     "metadata": {},
     "output_type": "execute_result"
    }
   ],
   "source": [
    "import sys.process._\n",
    "\n",
    "val username = System.getProperty(\"user.name\")"
   ]
  },
  {
   "cell_type": "markdown",
   "id": "c6117154-f30d-4625-b198-ed84e4632e56",
   "metadata": {},
   "source": [
    "## 139 Overview of Predefined functions"
   ]
  },
  {
   "cell_type": "code",
   "execution_count": 3,
   "id": "48d94a3e-7634-48e6-a112-f8d630943646",
   "metadata": {},
   "outputs": [
    {
     "data": {
      "text/plain": [
       "Waiting for a Spark session to start..."
      ]
     },
     "metadata": {},
     "output_type": "display_data",
     "source": "user"
    },
    {
     "data": {
      "text/plain": [
       "+--------+\n",
       "|function|\n",
       "+--------+\n",
       "|       !|\n",
       "|       %|\n",
       "|       &|\n",
       "|       *|\n",
       "|       +|\n",
       "|       -|\n",
       "|       /|\n",
       "|       <|\n",
       "|      <=|\n",
       "|     <=>|\n",
       "+--------+\n",
       "only showing top 10 rows\n",
       "\n"
      ]
     },
     "execution_count": 3,
     "metadata": {},
     "output_type": "execute_result"
    }
   ],
   "source": [
    "%%sql\n",
    "\n",
    "SHOW FUNCTIONS"
   ]
  },
  {
   "cell_type": "code",
   "execution_count": 4,
   "id": "891fc1a8-d91a-4e56-8cd2-5c25f07865e8",
   "metadata": {},
   "outputs": [
    {
     "name": "stdout",
     "output_type": "stream",
     "text": [
      "+---------------------+\n",
      "|function             |\n",
      "+---------------------+\n",
      "|!                    |\n",
      "|%                    |\n",
      "|&                    |\n",
      "|*                    |\n",
      "|+                    |\n",
      "|-                    |\n",
      "|/                    |\n",
      "|<                    |\n",
      "|<=                   |\n",
      "|<=>                  |\n",
      "|=                    |\n",
      "|==                   |\n",
      "|>                    |\n",
      "|>=                   |\n",
      "|^                    |\n",
      "|abs                  |\n",
      "|acos                 |\n",
      "|add_months           |\n",
      "|aggregate            |\n",
      "|and                  |\n",
      "|approx_count_distinct|\n",
      "|approx_percentile    |\n",
      "|array                |\n",
      "|array_contains       |\n",
      "|array_distinct       |\n",
      "|array_except         |\n",
      "|array_intersect      |\n",
      "|array_join           |\n",
      "|array_max            |\n",
      "|array_min            |\n",
      "+---------------------+\n",
      "only showing top 30 rows\n",
      "\n"
     ]
    }
   ],
   "source": [
    "spark.sql(\"show functions\").show(30,false)"
   ]
  },
  {
   "cell_type": "code",
   "execution_count": 5,
   "id": "026c54a3-a309-4521-96e2-8fb5f2d44868",
   "metadata": {},
   "outputs": [
    {
     "name": "stdout",
     "output_type": "stream",
     "text": [
      "+---------------------+--------+-----------+-------------------------------------------------------------------------+-----------+\n",
      "|name                 |database|description|className                                                                |isTemporary|\n",
      "+---------------------+--------+-----------+-------------------------------------------------------------------------+-----------+\n",
      "|!                    |null    |null       |org.apache.spark.sql.catalyst.expressions.Not                            |true       |\n",
      "|%                    |null    |null       |org.apache.spark.sql.catalyst.expressions.Remainder                      |true       |\n",
      "|&                    |null    |null       |org.apache.spark.sql.catalyst.expressions.BitwiseAnd                     |true       |\n",
      "|*                    |null    |null       |org.apache.spark.sql.catalyst.expressions.Multiply                       |true       |\n",
      "|+                    |null    |null       |org.apache.spark.sql.catalyst.expressions.Add                            |true       |\n",
      "|-                    |null    |null       |org.apache.spark.sql.catalyst.expressions.Subtract                       |true       |\n",
      "|/                    |null    |null       |org.apache.spark.sql.catalyst.expressions.Divide                         |true       |\n",
      "|<                    |null    |null       |org.apache.spark.sql.catalyst.expressions.LessThan                       |true       |\n",
      "|<=                   |null    |null       |org.apache.spark.sql.catalyst.expressions.LessThanOrEqual                |true       |\n",
      "|<=>                  |null    |null       |org.apache.spark.sql.catalyst.expressions.EqualNullSafe                  |true       |\n",
      "|=                    |null    |null       |org.apache.spark.sql.catalyst.expressions.EqualTo                        |true       |\n",
      "|==                   |null    |null       |org.apache.spark.sql.catalyst.expressions.EqualTo                        |true       |\n",
      "|>                    |null    |null       |org.apache.spark.sql.catalyst.expressions.GreaterThan                    |true       |\n",
      "|>=                   |null    |null       |org.apache.spark.sql.catalyst.expressions.GreaterThanOrEqual             |true       |\n",
      "|^                    |null    |null       |org.apache.spark.sql.catalyst.expressions.BitwiseXor                     |true       |\n",
      "|abs                  |null    |null       |org.apache.spark.sql.catalyst.expressions.Abs                            |true       |\n",
      "|acos                 |null    |null       |org.apache.spark.sql.catalyst.expressions.Acos                           |true       |\n",
      "|add_months           |null    |null       |org.apache.spark.sql.catalyst.expressions.AddMonths                      |true       |\n",
      "|aggregate            |null    |null       |org.apache.spark.sql.catalyst.expressions.ArrayAggregate                 |true       |\n",
      "|and                  |null    |null       |org.apache.spark.sql.catalyst.expressions.And                            |true       |\n",
      "|approx_count_distinct|null    |null       |org.apache.spark.sql.catalyst.expressions.aggregate.HyperLogLogPlusPlus  |true       |\n",
      "|approx_percentile    |null    |null       |org.apache.spark.sql.catalyst.expressions.aggregate.ApproximatePercentile|true       |\n",
      "|array                |null    |null       |org.apache.spark.sql.catalyst.expressions.CreateArray                    |true       |\n",
      "|array_contains       |null    |null       |org.apache.spark.sql.catalyst.expressions.ArrayContains                  |true       |\n",
      "|array_distinct       |null    |null       |org.apache.spark.sql.catalyst.expressions.ArrayDistinct                  |true       |\n",
      "|array_except         |null    |null       |org.apache.spark.sql.catalyst.expressions.ArrayExcept                    |true       |\n",
      "|array_intersect      |null    |null       |org.apache.spark.sql.catalyst.expressions.ArrayIntersect                 |true       |\n",
      "|array_join           |null    |null       |org.apache.spark.sql.catalyst.expressions.ArrayJoin                      |true       |\n",
      "|array_max            |null    |null       |org.apache.spark.sql.catalyst.expressions.ArrayMax                       |true       |\n",
      "|array_min            |null    |null       |org.apache.spark.sql.catalyst.expressions.ArrayMin                       |true       |\n",
      "+---------------------+--------+-----------+-------------------------------------------------------------------------+-----------+\n",
      "only showing top 30 rows\n",
      "\n"
     ]
    }
   ],
   "source": [
    "spark.catalog.listFunctions.show(30,false)"
   ]
  },
  {
   "cell_type": "code",
   "execution_count": 6,
   "id": "5a8cc1b8-3d64-40d6-a942-59eb109e5b5a",
   "metadata": {},
   "outputs": [
    {
     "data": {
      "text/plain": [
       "+--------------------+\n",
       "|       function_desc|\n",
       "+--------------------+\n",
       "|    Function: substr|\n",
       "|Class: org.apache...|\n",
       "|Usage: substr(str...|\n",
       "+--------------------+\n",
       "\n"
      ]
     },
     "execution_count": 6,
     "metadata": {},
     "output_type": "execute_result"
    }
   ],
   "source": [
    "%%sql\n",
    "\n",
    "DESCRIBE FUNCTION SUBSTR"
   ]
  },
  {
   "cell_type": "code",
   "execution_count": 7,
   "id": "906a6f94-6609-4a0a-9f07-4a1c5634d87c",
   "metadata": {},
   "outputs": [
    {
     "name": "stdout",
     "output_type": "stream",
     "text": [
      "+------------------------------------------------------------------------------------------------------------------------------------------------------------------------------------+\n",
      "|function_desc                                                                                                                                                                       |\n",
      "+------------------------------------------------------------------------------------------------------------------------------------------------------------------------------------+\n",
      "|Function: substr                                                                                                                                                                    |\n",
      "|Class: org.apache.spark.sql.catalyst.expressions.Substring                                                                                                                          |\n",
      "|Usage: substr(str, pos[, len]) - Returns the substring of `str` that starts at `pos` and is of length `len`, or the slice of byte array that starts at `pos` and is of length `len`.|\n",
      "+------------------------------------------------------------------------------------------------------------------------------------------------------------------------------------+\n",
      "\n"
     ]
    }
   ],
   "source": [
    "spark.sql(\"DESCRIBE FUNCTION substr\").show(false)"
   ]
  },
  {
   "cell_type": "markdown",
   "id": "7489ce9c-eba1-4b08-9532-951bb1090ac3",
   "metadata": {},
   "source": [
    "## 140 Validating Spark SQL functions"
   ]
  },
  {
   "cell_type": "code",
   "execution_count": 8,
   "id": "29915ce1-d714-439b-b8dd-9ad086e0f8c2",
   "metadata": {},
   "outputs": [
    {
     "data": {
      "text/plain": [
       "orders = [order_id: int, order_date: string ... 2 more fields]\n"
      ]
     },
     "metadata": {},
     "output_type": "display_data",
     "source": "user"
    },
    {
     "data": {
      "text/plain": [
       "[order_id: int, order_date: string ... 2 more fields]"
      ]
     },
     "execution_count": 8,
     "metadata": {},
     "output_type": "execute_result"
    }
   ],
   "source": [
    "// Using Scala\n",
    "\n",
    "val orders = spark.read.\n",
    "    schema(\"order_id INT, order_date STRING, order_customer_id INT, order_status STRING\").\n",
    "    csv(\"/public/retail_db/orders\")\n",
    "orders.createOrReplaceTempView(\"orders_temp\")"
   ]
  },
  {
   "cell_type": "code",
   "execution_count": null,
   "id": "43d56a2d-0a0b-4d6e-8ac5-8554bae6210a",
   "metadata": {},
   "outputs": [],
   "source": [
    "// Using Python\n",
    "\n",
    "orders = spark.read. \\\n",
    "    schema(\"order_id INT, order_date STRING, order_customer_id INT, order_status STRING\"). \\\n",
    "    csv(\"/public/retail_db/orders\")\n",
    "\n",
    "orders.createOrReplaceTempView(\"orders_temp\")"
   ]
  },
  {
   "cell_type": "code",
   "execution_count": 33,
   "id": "23d7479c-2819-407a-9548-61ca52d07ffc",
   "metadata": {},
   "outputs": [
    {
     "data": {
      "text/plain": [
       "+------------+\n",
       "|current_date|\n",
       "+------------+\n",
       "|  2024-02-02|\n",
       "+------------+\n",
       "\n"
      ]
     },
     "execution_count": 33,
     "metadata": {},
     "output_type": "execute_result"
    }
   ],
   "source": [
    "%%sql\n",
    "\n",
    "SELECT current_date as current_date"
   ]
  },
  {
   "cell_type": "code",
   "execution_count": 34,
   "id": "3dffee70-1a81-4589-be85-8053272ad34c",
   "metadata": {},
   "outputs": [
    {
     "data": {
      "text/plain": [
       "+------+\n",
       "|result|\n",
       "+------+\n",
       "| Hello|\n",
       "+------+\n",
       "\n"
      ]
     },
     "execution_count": 34,
     "metadata": {},
     "output_type": "execute_result"
    }
   ],
   "source": [
    "%%sql\n",
    "\n",
    "SELECT substr('Hello World', 1,5) AS result"
   ]
  },
  {
   "cell_type": "code",
   "execution_count": 35,
   "id": "408cabad-6f61-473c-bf32-2c3e1c77fafc",
   "metadata": {},
   "outputs": [
    {
     "data": {
      "text/plain": [
       "++\n",
       "||\n",
       "++\n",
       "++\n",
       "\n"
      ]
     },
     "execution_count": 35,
     "metadata": {},
     "output_type": "execute_result"
    }
   ],
   "source": [
    "%%sql\n",
    "\n",
    "USE itversity_retail"
   ]
  },
  {
   "cell_type": "code",
   "execution_count": 36,
   "id": "b8c3d64a-7405-4d02-bdc6-536b9f4167e3",
   "metadata": {},
   "outputs": [
    {
     "data": {
      "text/plain": [
       "+------------------+\n",
       "|current_database()|\n",
       "+------------------+\n",
       "|  itversity_retail|\n",
       "+------------------+\n",
       "\n"
      ]
     },
     "execution_count": 36,
     "metadata": {},
     "output_type": "execute_result"
    }
   ],
   "source": [
    "%%sql\n",
    "\n",
    "select current_database()"
   ]
  },
  {
   "cell_type": "code",
   "execution_count": 37,
   "id": "9fba603d-064b-4529-87d0-79fb4173f58b",
   "metadata": {},
   "outputs": [
    {
     "data": {
      "text/plain": [
       "++\n",
       "||\n",
       "++\n",
       "++\n",
       "\n"
      ]
     },
     "execution_count": 37,
     "metadata": {},
     "output_type": "execute_result"
    }
   ],
   "source": [
    "%%sql\n",
    "\n",
    "DROP TABLE IF EXISTS dual"
   ]
  },
  {
   "cell_type": "code",
   "execution_count": 38,
   "id": "5b2ab090-a2d6-4c5a-8e70-c7f0f1b13b33",
   "metadata": {},
   "outputs": [
    {
     "data": {
      "text/plain": [
       "++\n",
       "||\n",
       "++\n",
       "++\n",
       "\n"
      ]
     },
     "execution_count": 38,
     "metadata": {},
     "output_type": "execute_result"
    }
   ],
   "source": [
    "%%sql\n",
    "\n",
    "CREATE TABLE dual(dummy STRING)"
   ]
  },
  {
   "cell_type": "code",
   "execution_count": 39,
   "id": "f4a5e3a1-cb81-4386-9c37-9c4b948931ad",
   "metadata": {},
   "outputs": [
    {
     "data": {
      "text/plain": [
       "++\n",
       "||\n",
       "++\n",
       "++\n",
       "\n"
      ]
     },
     "execution_count": 39,
     "metadata": {},
     "output_type": "execute_result"
    }
   ],
   "source": [
    "%%sql\n",
    "\n",
    "INSERT INTO dual VALUES('X')"
   ]
  },
  {
   "cell_type": "code",
   "execution_count": 40,
   "id": "d9fafb35-8264-45d1-a3e6-477170e49d1e",
   "metadata": {},
   "outputs": [
    {
     "data": {
      "text/plain": [
       "+-----+\n",
       "|dummy|\n",
       "+-----+\n",
       "|    X|\n",
       "+-----+\n",
       "\n"
      ]
     },
     "execution_count": 40,
     "metadata": {},
     "output_type": "execute_result"
    }
   ],
   "source": [
    "%%sql\n",
    "\n",
    "SELECT * FROM dual"
   ]
  },
  {
   "cell_type": "code",
   "execution_count": 41,
   "id": "340ae56d-43a0-4e94-938e-4253b26de62f",
   "metadata": {},
   "outputs": [
    {
     "data": {
      "text/plain": [
       "+---+\n",
       "|  1|\n",
       "+---+\n",
       "|  1|\n",
       "+---+\n",
       "\n"
      ]
     },
     "execution_count": 41,
     "metadata": {},
     "output_type": "execute_result"
    }
   ],
   "source": [
    "%%sql\n",
    "\n",
    "SELECT 1 from dual"
   ]
  },
  {
   "cell_type": "code",
   "execution_count": 42,
   "id": "2704a688-267a-4fe5-b7db-c6c8633cbcdf",
   "metadata": {},
   "outputs": [
    {
     "data": {
      "text/plain": [
       "+------------+\n",
       "|current_date|\n",
       "+------------+\n",
       "|  2024-02-02|\n",
       "+------------+\n",
       "\n"
      ]
     },
     "execution_count": 42,
     "metadata": {},
     "output_type": "execute_result"
    }
   ],
   "source": [
    "%%sql\n",
    "\n",
    "select current_date as current_date FROM dual"
   ]
  },
  {
   "cell_type": "code",
   "execution_count": 43,
   "id": "e62e1a47-c3fb-4c08-bda0-e73fc393de75",
   "metadata": {},
   "outputs": [
    {
     "data": {
      "text/plain": [
       "+------+\n",
       "|result|\n",
       "+------+\n",
       "| Hello|\n",
       "+------+\n",
       "\n"
      ]
     },
     "execution_count": 43,
     "metadata": {},
     "output_type": "execute_result"
    }
   ],
   "source": [
    "%%sql\n",
    "\n",
    "SELECT substr('Hello World!', 1,5) AS result FROM dual"
   ]
  },
  {
   "cell_type": "code",
   "execution_count": 44,
   "id": "67d263ae-059a-4850-996e-4afd41148b85",
   "metadata": {},
   "outputs": [
    {
     "data": {
      "text/plain": [
       "orders = [order_id: int, order_date: string ... 2 more fields]\n"
      ]
     },
     "metadata": {},
     "output_type": "display_data",
     "source": "user"
    },
    {
     "data": {
      "text/plain": [
       "[order_id: int, order_date: string ... 2 more fields]"
      ]
     },
     "execution_count": 44,
     "metadata": {},
     "output_type": "execute_result"
    }
   ],
   "source": [
    "val orders = spark.read.\n",
    "    schema(\"order_id INT, order_date STRING, order_customer_id INT, order_status STRING\").\n",
    "    csv(\"/public/retail_db/orders\")"
   ]
  },
  {
   "cell_type": "code",
   "execution_count": 45,
   "id": "f1ff82f5-ecb0-495e-b14d-a51995f4adda",
   "metadata": {},
   "outputs": [],
   "source": [
    "orders.createOrReplaceTempView(\"orders_temp\")"
   ]
  },
  {
   "cell_type": "code",
   "execution_count": 46,
   "id": "c794d250-6497-4035-b6cd-1d4a756ac342",
   "metadata": {},
   "outputs": [
    {
     "data": {
      "text/plain": [
       "|       6|2013-07-25 00:00:...|             7130|       COMP...\n"
      ]
     },
     "metadata": {},
     "output_type": "display_data",
     "source": "user"
    },
    {
     "data": {
      "text/plain": [
       "+--------+--------------------+-----------------+---------------+---------------+\n",
       "|order_id|          order_date|order_customer_id|   order_status|   order_status|\n",
       "+--------+--------------------+-----------------+---------------+---------------+\n",
       "|       1|2013-07-25 00:00:...|            11599|         CLOSED|         closed|\n",
       "|       2|2013-07-25 00:00:...|              256|PENDING_PAYMENT|pending_payment|\n",
       "|       3|2013-07-25 00:00:...|            12111|       COMPLETE|       complete|\n",
       "|       4|2013-07-25 00:00:...|             8827|         CLOSED|         closed|\n",
       "|       5|2013-07-25 00:00:...|            11318|       COMPLETE|       complete|\n",
       "|       6|2013-07-25 00:00:...|             7130|       COMPLETE|       complete|\n",
       "|       7|2013-07-25 00:00:...|             4530|       COMPLETE|       complete|\n",
       "|       8|2013-07-25 00:00:...|             2911|     PROCESSING|     processing|\n",
       "|       9|2013-07-25 00:00:...|             5657|PENDING_PAYMENT|pending_payment|\n",
       "|      10|2013-07-25 00:00:...|             5648|PENDING_PAYMENT|pending_payment|\n",
       "+--------+--------------------+-----------------+---------------+---------------+\n",
       "\n"
      ]
     },
     "execution_count": 46,
     "metadata": {},
     "output_type": "execute_result"
    }
   ],
   "source": [
    "%%sql\n",
    "\n",
    "SELECT O.*, lower(order_status) AS order_status FROM orders_temp AS o LIMIT 10"
   ]
  },
  {
   "cell_type": "markdown",
   "id": "f480303d-7e29-47bf-b3f6-3faa321c32cf",
   "metadata": {},
   "source": [
    "## 141 String Manipulation using Spark SQL functions"
   ]
  },
  {
   "cell_type": "code",
   "execution_count": 47,
   "id": "5613f9a9-2e30-43d3-9be5-4491d08a0f55",
   "metadata": {},
   "outputs": [
    {
     "data": {
      "text/plain": [
       "+------------+------------+--------------+\n",
       "|lower_result|upper_result|initcap_result|\n",
       "+------------+------------+--------------+\n",
       "| hello world| HELLO WORLD|   Hello World|\n",
       "+------------+------------+--------------+\n",
       "\n"
      ]
     },
     "execution_count": 47,
     "metadata": {},
     "output_type": "execute_result"
    }
   ],
   "source": [
    "%%sql\n",
    "\n",
    "SELECT lower('hEllo wOrlD') as lower_result,\n",
    "    upper('hEllo wOrlD') as upper_result,\n",
    "    initcap('hEllo wOrlD') as initcap_result"
   ]
  },
  {
   "cell_type": "code",
   "execution_count": 48,
   "id": "a4422eed-9bf5-4c30-90b6-1fa7213028d7",
   "metadata": {},
   "outputs": [
    {
     "data": {
      "text/plain": [
       "+------+\n",
       "|result|\n",
       "+------+\n",
       "|    11|\n",
       "+------+\n",
       "\n"
      ]
     },
     "execution_count": 48,
     "metadata": {},
     "output_type": "execute_result"
    }
   ],
   "source": [
    "%%sql\n",
    "\n",
    "SELECT length('hEllo wOrlD') as result"
   ]
  },
  {
   "cell_type": "code",
   "execution_count": 49,
   "id": "24fb53ed-3937-4d64-9b87-3e23e929c963",
   "metadata": {},
   "outputs": [
    {
     "data": {
      "text/plain": [
       "++\n",
       "||\n",
       "++\n",
       "++\n",
       "\n"
      ]
     },
     "execution_count": 49,
     "metadata": {},
     "output_type": "execute_result"
    }
   ],
   "source": [
    "%%sql\n",
    "\n",
    "USE itversity_retail"
   ]
  },
  {
   "cell_type": "code",
   "execution_count": 50,
   "id": "8cdac9a0-cc4d-44fd-9e25-cc39e2954ba4",
   "metadata": {},
   "outputs": [
    {
     "data": {
      "text/plain": [
       "+----------------+-----------------+-----------+\n",
       "|        database|        tableName|isTemporary|\n",
       "+----------------+-----------------+-----------+\n",
       "|itversity_retail|             dual|      false|\n",
       "|itversity_retail|      order_items|      false|\n",
       "|itversity_retail|order_items_stage|      false|\n",
       "|itversity_retail|           orders|      false|\n",
       "|itversity_retail|      orders_part|      false|\n",
       "|itversity_retail|         students|      false|\n",
       "|                |      orders_temp|       true|\n",
       "+----------------+-----------------+-----------+\n",
       "\n"
      ]
     },
     "execution_count": 50,
     "metadata": {},
     "output_type": "execute_result"
    }
   ],
   "source": [
    "%%sql\n",
    "\n",
    "SHOW TABLES"
   ]
  },
  {
   "cell_type": "code",
   "execution_count": 51,
   "id": "9eca8afa-e490-440f-a29d-d5cda52d17ef",
   "metadata": {},
   "outputs": [
    {
     "data": {
      "text/plain": [
       "|   34572|2014-02-23 00:00:...|             8135|       ...\n"
      ]
     },
     "metadata": {},
     "output_type": "display_data",
     "source": "user"
    },
    {
     "data": {
      "text/plain": [
       "+--------+--------------------+-----------------+---------------+\n",
       "|order_id|          order_date|order_customer_id|   order_status|\n",
       "+--------+--------------------+-----------------+---------------+\n",
       "|   34565|2014-02-23 00:00:...|             8702|       COMPLETE|\n",
       "|   34566|2014-02-23 00:00:...|             3066|PENDING_PAYMENT|\n",
       "|   34567|2014-02-23 00:00:...|             7314|SUSPECTED_FRAUD|\n",
       "|   34568|2014-02-23 00:00:...|             1271|       COMPLETE|\n",
       "|   34569|2014-02-23 00:00:...|            11083|       COMPLETE|\n",
       "|   34570|2014-02-23 00:00:...|             3159|         CLOSED|\n",
       "|   34571|2014-02-23 00:00:...|             4551|         CLOSED|\n",
       "|   34572|2014-02-23 00:00:...|             8135|        PENDING|\n",
       "|   34573|2014-02-23 00:00:...|             7497|PENDING_PAYMENT|\n",
       "|   34574|2014-02-23 00:00:...|             1868|        ON_HOLD|\n",
       "+--------+--------------------+-----------------+---------------+\n",
       "\n"
      ]
     },
     "execution_count": 51,
     "metadata": {},
     "output_type": "execute_result"
    }
   ],
   "source": [
    "%%sql\n",
    "\n",
    "SELECT * FROM orders LIMIT 10"
   ]
  },
  {
   "cell_type": "code",
   "execution_count": 52,
   "id": "3ab60499-a627-45b7-9d31-75c056fd01ed",
   "metadata": {},
   "outputs": [
    {
     "data": {
      "text/plain": [
       "|       8|2013-0...\n"
      ]
     },
     "metadata": {},
     "output_type": "display_data",
     "source": "user"
    },
    {
     "data": {
      "text/plain": [
       "+--------+--------------------+-----------------+-------------------+\n",
       "|order_id|          order_date|order_customer_id|lower(order_status)|\n",
       "+--------+--------------------+-----------------+-------------------+\n",
       "|       1|2013-07-25 00:00:...|            11599|             closed|\n",
       "|       2|2013-07-25 00:00:...|              256|    pending_payment|\n",
       "|       3|2013-07-25 00:00:...|            12111|           complete|\n",
       "|       4|2013-07-25 00:00:...|             8827|             closed|\n",
       "|       5|2013-07-25 00:00:...|            11318|           complete|\n",
       "|       6|2013-07-25 00:00:...|             7130|           complete|\n",
       "|       7|2013-07-25 00:00:...|             4530|           complete|\n",
       "|       8|2013-07-25 00:00:...|             2911|         processing|\n",
       "|       9|2013-07-25 00:00:...|             5657|    pending_payment|\n",
       "|      10|2013-07-25 00:00:...|             5648|    pending_payment|\n",
       "+--------+--------------------+-----------------+-------------------+\n",
       "\n"
      ]
     },
     "execution_count": 52,
     "metadata": {},
     "output_type": "execute_result"
    }
   ],
   "source": [
    "%%sql\n",
    "\n",
    "SELECT order_id, order_date, order_customer_id, lower(order_status) FROM orders LIMIT 10"
   ]
  },
  {
   "cell_type": "code",
   "execution_count": 53,
   "id": "00b23147-3c05-4e0f-9a3e-1bab76d5d7ff",
   "metadata": {},
   "outputs": [
    {
     "data": {
      "text/plain": [
       "|       5|2013-07-25 00:00:...|            11318|           complete|          ...\n"
      ]
     },
     "metadata": {},
     "output_type": "display_data",
     "source": "user"
    },
    {
     "data": {
      "text/plain": [
       "+--------+--------------------+-----------------+-------------------+--------------------+\n",
       "|order_id|          order_date|order_customer_id|lower(order_status)|length(order_status)|\n",
       "+--------+--------------------+-----------------+-------------------+--------------------+\n",
       "|       1|2013-07-25 00:00:...|            11599|             closed|                   6|\n",
       "|       2|2013-07-25 00:00:...|              256|    pending_payment|                  15|\n",
       "|       3|2013-07-25 00:00:...|            12111|           complete|                   8|\n",
       "|       4|2013-07-25 00:00:...|             8827|             closed|                   6|\n",
       "|       5|2013-07-25 00:00:...|            11318|           complete|                   8|\n",
       "|       6|2013-07-25 00:00:...|             7130|           complete|                   8|\n",
       "|       7|2013-07-25 00:00:...|             4530|           complete|                   8|\n",
       "|       8|2013-07-25 00:00:...|             2911|         processing|                  10|\n",
       "|       9|2013-07-25 00:00:...|             5657|    pending_payment|                  15|\n",
       "|      10|2013-07-25 00:00:...|             5648|    pending_payment|                  15|\n",
       "+--------+--------------------+-----------------+-------------------+--------------------+\n",
       "\n"
      ]
     },
     "execution_count": 53,
     "metadata": {},
     "output_type": "execute_result"
    }
   ],
   "source": [
    "%%sql\n",
    "\n",
    "SELECT order_id, order_date, order_customer_id, lower(order_status),length(order_status) FROM orders LIMIT 10"
   ]
  },
  {
   "cell_type": "code",
   "execution_count": 56,
   "id": "e4dc250a-75bf-458c-a135-4066070e896d",
   "metadata": {},
   "outputs": [
    {
     "data": {
      "text/plain": [
       "+------------+--------------------+\n",
       "|         key|               value|\n",
       "+------------+--------------------+\n",
       "|hive:datevar|DATE_ADD(current_...|\n",
       "+------------+--------------------+\n",
       "\n"
      ]
     },
     "execution_count": 56,
     "metadata": {},
     "output_type": "execute_result"
    }
   ],
   "source": [
    "%%sql\n",
    "\n",
    "set hive:datevar = DATE_ADD(current_date,1)"
   ]
  },
  {
   "cell_type": "code",
   "execution_count": 60,
   "id": "92cfd6a5-b42e-45f9-9394-8bce5cd63384",
   "metadata": {},
   "outputs": [
    {
     "data": {
      "text/plain": [
       "+--------------------+\n",
       "| current_timestamp()|\n",
       "+--------------------+\n",
       "|2024-02-02 14:54:...|\n",
       "+--------------------+\n",
       "\n"
      ]
     },
     "execution_count": 60,
     "metadata": {},
     "output_type": "execute_result"
    }
   ],
   "source": [
    "%%sql \n",
    "\n",
    "select current_timestamp"
   ]
  },
  {
   "cell_type": "code",
   "execution_count": 61,
   "id": "272f14a3-d542-426b-9dba-c1936b81b7e5",
   "metadata": {},
   "outputs": [
    {
     "data": {
      "text/plain": [
       "+--------------------+\n",
       "|       function_desc|\n",
       "+--------------------+\n",
       "|    Function: substr|\n",
       "|Class: org.apache...|\n",
       "|Usage: substr(str...|\n",
       "+--------------------+\n",
       "\n"
      ]
     },
     "execution_count": 61,
     "metadata": {},
     "output_type": "execute_result"
    }
   ],
   "source": [
    "%%sql\n",
    "\n",
    "DESCRIBE FUNCTION substr"
   ]
  },
  {
   "cell_type": "code",
   "execution_count": 62,
   "id": "a5845c83-b9a2-41c4-a934-e185858cdb68",
   "metadata": {},
   "outputs": [
    {
     "data": {
      "text/plain": [
       "+--------------------+\n",
       "|       function_desc|\n",
       "+--------------------+\n",
       "| Function: substring|\n",
       "|Class: org.apache...|\n",
       "|Usage: substring(...|\n",
       "+--------------------+\n",
       "\n"
      ]
     },
     "execution_count": 62,
     "metadata": {},
     "output_type": "execute_result"
    }
   ],
   "source": [
    "%%sql\n",
    "\n",
    "DESCRIBE FUNCTION substring"
   ]
  },
  {
   "cell_type": "code",
   "execution_count": 65,
   "id": "038517d3-4515-494d-be82-c686db4cbb0d",
   "metadata": {},
   "outputs": [
    {
     "name": "stdout",
     "output_type": "stream",
     "text": [
      "+---------------------------------------------------------------------------------------------------------------------------------------------------------------------------------------+\n",
      "|function_desc                                                                                                                                                                          |\n",
      "+---------------------------------------------------------------------------------------------------------------------------------------------------------------------------------------+\n",
      "|Function: substring                                                                                                                                                                    |\n",
      "|Class: org.apache.spark.sql.catalyst.expressions.Substring                                                                                                                             |\n",
      "|Usage: substring(str, pos[, len]) - Returns the substring of `str` that starts at `pos` and is of length `len`, or the slice of byte array that starts at `pos` and is of length `len`.|\n",
      "+---------------------------------------------------------------------------------------------------------------------------------------------------------------------------------------+\n",
      "\n"
     ]
    }
   ],
   "source": [
    "spark.sql(\"DESCRIBE FUNCTION substring\").show(false)"
   ]
  },
  {
   "cell_type": "code",
   "execution_count": 66,
   "id": "7b07e13d-76c5-45e9-a566-bae9519a91c5",
   "metadata": {},
   "outputs": [
    {
     "data": {
      "text/plain": [
       "+------+\n",
       "|result|\n",
       "+------+\n",
       "| 07-25|\n",
       "+------+\n",
       "\n"
      ]
     },
     "execution_count": 66,
     "metadata": {},
     "output_type": "execute_result"
    }
   ],
   "source": [
    "%%sql\n",
    "\n",
    "SELECT substr('2013-07-25 00:00:00.0', 6, 5) AS result"
   ]
  },
  {
   "cell_type": "code",
   "execution_count": 67,
   "id": "666af3ed-4471-48e0-9d8e-74e201ab8eff",
   "metadata": {},
   "outputs": [
    {
     "data": {
      "text/plain": [
       "+------+\n",
       "|result|\n",
       "+------+\n",
       "|  2013|\n",
       "+------+\n",
       "\n"
      ]
     },
     "execution_count": 67,
     "metadata": {},
     "output_type": "execute_result"
    }
   ],
   "source": [
    "%%sql\n",
    "\n",
    "SELECT substr('2013-07-25 00:00:00.0', 1, 4) AS result"
   ]
  },
  {
   "cell_type": "code",
   "execution_count": 69,
   "id": "2c286456-305d-49a0-a85d-fb743965f8f5",
   "metadata": {},
   "outputs": [
    {
     "data": {
      "text/plain": [
       "+------+\n",
       "|result|\n",
       "+------+\n",
       "|    07|\n",
       "+------+\n",
       "\n"
      ]
     },
     "execution_count": 69,
     "metadata": {},
     "output_type": "execute_result"
    }
   ],
   "source": [
    "%%sql\n",
    "\n",
    "SELECT substr('2013-07-25 00:00:00.0', 6, 2) AS result"
   ]
  },
  {
   "cell_type": "code",
   "execution_count": 70,
   "id": "9e423003-d157-4664-998f-32e9be4fd05d",
   "metadata": {},
   "outputs": [
    {
     "data": {
      "text/plain": [
       "+----------+\n",
       "|    result|\n",
       "+----------+\n",
       "|00:00:00.0|\n",
       "+----------+\n",
       "\n"
      ]
     },
     "execution_count": 70,
     "metadata": {},
     "output_type": "execute_result"
    }
   ],
   "source": [
    "%%sql\n",
    "\n",
    "SELECT substr('2013-07-25 00:00:00.0', 12) AS result"
   ]
  },
  {
   "cell_type": "code",
   "execution_count": 72,
   "id": "29a37de6-2139-4dec-9c64-ce48bfc88d0a",
   "metadata": {},
   "outputs": [
    {
     "data": {
      "text/plain": [
       "|       8|2013-07-25 00:00:...|             2911|     PR...\n"
      ]
     },
     "metadata": {},
     "output_type": "display_data",
     "source": "user"
    },
    {
     "data": {
      "text/plain": [
       "+--------+--------------------+-----------------+---------------+\n",
       "|order_id|          order_date|order_customer_id|   order_status|\n",
       "+--------+--------------------+-----------------+---------------+\n",
       "|       1|2013-07-25 00:00:...|            11599|         CLOSED|\n",
       "|       2|2013-07-25 00:00:...|              256|PENDING_PAYMENT|\n",
       "|       3|2013-07-25 00:00:...|            12111|       COMPLETE|\n",
       "|       4|2013-07-25 00:00:...|             8827|         CLOSED|\n",
       "|       5|2013-07-25 00:00:...|            11318|       COMPLETE|\n",
       "|       6|2013-07-25 00:00:...|             7130|       COMPLETE|\n",
       "|       7|2013-07-25 00:00:...|             4530|       COMPLETE|\n",
       "|       8|2013-07-25 00:00:...|             2911|     PROCESSING|\n",
       "|       9|2013-07-25 00:00:...|             5657|PENDING_PAYMENT|\n",
       "|      10|2013-07-25 00:00:...|             5648|PENDING_PAYMENT|\n",
       "+--------+--------------------+-----------------+---------------+\n",
       "\n"
      ]
     },
     "execution_count": 72,
     "metadata": {},
     "output_type": "execute_result"
    }
   ],
   "source": [
    "%%sql \n",
    "\n",
    "SELECT * from orders limit 10"
   ]
  },
  {
   "cell_type": "code",
   "execution_count": 74,
   "id": "22488069-a47a-4904-9941-4ba57649e236",
   "metadata": {},
   "outputs": [
    {
     "data": {
      "text/plain": [
       "|      10|2013-07-25|             5648|PENDI...\n"
      ]
     },
     "metadata": {},
     "output_type": "display_data",
     "source": "user"
    },
    {
     "data": {
      "text/plain": [
       "+--------+----------+-----------------+---------------+\n",
       "|order_id|order_date|order_customer_id|   order_status|\n",
       "+--------+----------+-----------------+---------------+\n",
       "|       1|2013-07-25|            11599|         CLOSED|\n",
       "|       2|2013-07-25|              256|PENDING_PAYMENT|\n",
       "|       3|2013-07-25|            12111|       COMPLETE|\n",
       "|       4|2013-07-25|             8827|         CLOSED|\n",
       "|       5|2013-07-25|            11318|       COMPLETE|\n",
       "|       6|2013-07-25|             7130|       COMPLETE|\n",
       "|       7|2013-07-25|             4530|       COMPLETE|\n",
       "|       8|2013-07-25|             2911|     PROCESSING|\n",
       "|       9|2013-07-25|             5657|PENDING_PAYMENT|\n",
       "|      10|2013-07-25|             5648|PENDING_PAYMENT|\n",
       "+--------+----------+-----------------+---------------+\n",
       "only showing top 10 rows\n",
       "\n"
      ]
     },
     "execution_count": 74,
     "metadata": {},
     "output_type": "execute_result"
    }
   ],
   "source": [
    "%%sql\n",
    "\n",
    "SELECT order_id, substr(order_date,1,10) as order_date, \n",
    "order_customer_id, order_status\n",
    "from orders"
   ]
  },
  {
   "cell_type": "code",
   "execution_count": 75,
   "id": "279d65e3-2385-4255-b0d3-a1a10f2be005",
   "metadata": {},
   "outputs": [
    {
     "data": {
      "text/plain": [
       "+--------------+\n",
       "|        result|\n",
       "+--------------+\n",
       "|[2013, 07, 25]|\n",
       "+--------------+\n",
       "\n"
      ]
     },
     "execution_count": 75,
     "metadata": {},
     "output_type": "execute_result"
    }
   ],
   "source": [
    "%%sql\n",
    "\n",
    "SELECT split('2013-07-25','-') as result"
   ]
  },
  {
   "cell_type": "code",
   "execution_count": 76,
   "id": "9a9e4b3a-cf83-460c-9b68-2c7089a77f4c",
   "metadata": {},
   "outputs": [
    {
     "data": {
      "text/plain": [
       "+------+\n",
       "|result|\n",
       "+------+\n",
       "|    07|\n",
       "+------+\n",
       "\n"
      ]
     },
     "execution_count": 76,
     "metadata": {},
     "output_type": "execute_result"
    }
   ],
   "source": [
    "%%sql\n",
    "\n",
    "select split('2013-07-25','-')[1] as result"
   ]
  },
  {
   "cell_type": "code",
   "execution_count": 77,
   "id": "ac47f31d-c969-4ddb-8c16-4412aa62703d",
   "metadata": {},
   "outputs": [
    {
     "data": {
      "text/plain": [
       "+------+\n",
       "|result|\n",
       "+------+\n",
       "|  2013|\n",
       "+------+\n",
       "\n"
      ]
     },
     "execution_count": 77,
     "metadata": {},
     "output_type": "execute_result"
    }
   ],
   "source": [
    "%%sql\n",
    "\n",
    "select split('2013-07-25','-')[0] as result"
   ]
  },
  {
   "cell_type": "code",
   "execution_count": 78,
   "id": "5e6406ef-838d-460a-ba0a-bb16c0481a5f",
   "metadata": {},
   "outputs": [
    {
     "data": {
      "text/plain": [
       "+------+\n",
       "|result|\n",
       "+------+\n",
       "|  2013|\n",
       "|    07|\n",
       "|    25|\n",
       "+------+\n",
       "\n"
      ]
     },
     "execution_count": 78,
     "metadata": {},
     "output_type": "execute_result"
    }
   ],
   "source": [
    "%%sql\n",
    "\n",
    "select explode(split('2013-07-25','-')) as result"
   ]
  },
  {
   "cell_type": "code",
   "execution_count": 80,
   "id": "d6e1b5bb-628e-4446-ae01-d51624eebcf3",
   "metadata": {},
   "outputs": [
    {
     "data": {
      "text/plain": [
       "+----+--------+------------+\n",
       "| col|order_id|order_status|\n",
       "+----+--------+------------+\n",
       "|2013|       1|      CLOSED|\n",
       "|  07|       1|      CLOSED|\n",
       "|  25|       1|      CLOSED|\n",
       "+----+--------+------------+\n",
       "\n"
      ]
     },
     "execution_count": 80,
     "metadata": {},
     "output_type": "execute_result"
    }
   ],
   "source": [
    "%%sql\n",
    "\n",
    "select explode(split('2013-07-25','-')),order_id,order_status from orders where order_id=1 "
   ]
  },
  {
   "cell_type": "code",
   "execution_count": 82,
   "id": "0f4fec6d-934a-4370-ab5c-3954812a4277",
   "metadata": {},
   "outputs": [
    {
     "data": {
      "text/plain": [
       "+----+--------+---------------+\n",
       "| col|order_id|   order_status|\n",
       "+----+--------+---------------+\n",
       "|2013|       1|         CLOSED|\n",
       "|  07|       1|         CLOSED|\n",
       "|  25|       1|         CLOSED|\n",
       "|2013|       2|PENDING_PAYMENT|\n",
       "|  07|       2|PENDING_PAYMENT|\n",
       "|  25|       2|PENDING_PAYMENT|\n",
       "+----+--------+---------------+\n",
       "\n"
      ]
     },
     "execution_count": 82,
     "metadata": {},
     "output_type": "execute_result"
    }
   ],
   "source": [
    "%%sql\n",
    "\n",
    "select explode(split('2013-07-25','-')),order_id,order_status from orders where order_id<=2"
   ]
  },
  {
   "cell_type": "markdown",
   "id": "18f5ea7b-6f93-4863-afd5-957201ab680c",
   "metadata": {},
   "source": [
    "#### Trimming "
   ]
  },
  {
   "cell_type": "code",
   "execution_count": 83,
   "id": "f2b7fead-011e-4d7b-a254-552c548591d0",
   "metadata": {},
   "outputs": [
    {
     "data": {
      "text/plain": [
       "+---------------+\n",
       "|         result|\n",
       "+---------------+\n",
       "|Hello World    |\n",
       "+---------------+\n",
       "\n"
      ]
     },
     "execution_count": 83,
     "metadata": {},
     "output_type": "execute_result"
    }
   ],
   "source": [
    "%%sql\n",
    "\n",
    "SELECT ltrim('    Hello World    ') as result"
   ]
  },
  {
   "cell_type": "code",
   "execution_count": 84,
   "id": "0c8af780-629f-45f9-ae06-b09461d5bae9",
   "metadata": {},
   "outputs": [
    {
     "data": {
      "text/plain": [
       "+---------------+\n",
       "|         result|\n",
       "+---------------+\n",
       "|    Hello World|\n",
       "+---------------+\n",
       "\n"
      ]
     },
     "execution_count": 84,
     "metadata": {},
     "output_type": "execute_result"
    }
   ],
   "source": [
    "%%sql\n",
    "\n",
    "SELECT rtrim('    Hello World    ') as result"
   ]
  },
  {
   "cell_type": "code",
   "execution_count": 87,
   "id": "12f30e9b-acf8-434f-8fdc-3886cc0fa018",
   "metadata": {},
   "outputs": [
    {
     "data": {
      "text/plain": [
       "+------+\n",
       "|result|\n",
       "+------+\n",
       "|    11|\n",
       "+------+\n",
       "\n"
      ]
     },
     "execution_count": 87,
     "metadata": {},
     "output_type": "execute_result"
    }
   ],
   "source": [
    "%%sql\n",
    "\n",
    "SELECT length(trim('    Hello World    ')) as result"
   ]
  },
  {
   "cell_type": "code",
   "execution_count": 89,
   "id": "66a664a3-2881-4331-9b91-f9848ec1e546",
   "metadata": {},
   "outputs": [
    {
     "data": {
      "text/plain": [
       "+-----------+\n",
       "|     result|\n",
       "+-----------+\n",
       "|Hello World|\n",
       "+-----------+\n",
       "\n"
      ]
     },
     "execution_count": 89,
     "metadata": {},
     "output_type": "execute_result"
    }
   ],
   "source": [
    "%%sql\n",
    "\n",
    "SELECT trim('    Hello World    ') as result"
   ]
  },
  {
   "cell_type": "markdown",
   "id": "0af0a0f7-07e2-434d-83d9-4c938b24dae6",
   "metadata": {},
   "source": [
    "#### Padding "
   ]
  },
  {
   "cell_type": "code",
   "execution_count": 90,
   "id": "1e12d897-6dc8-40d7-90d1-074974eb9ed9",
   "metadata": {},
   "outputs": [
    {
     "data": {
      "text/plain": [
       "+----+-----+------+\n",
       "|year|month|myDate|\n",
       "+----+-----+------+\n",
       "|2013|    7|    25|\n",
       "+----+-----+------+\n",
       "\n"
      ]
     },
     "execution_count": 90,
     "metadata": {},
     "output_type": "execute_result"
    }
   ],
   "source": [
    "%%sql\n",
    "\n",
    "SELECT 2013 AS year, 7 as month, 25 as myDate"
   ]
  },
  {
   "cell_type": "code",
   "execution_count": 97,
   "id": "d2f50d9d-495b-4e4d-9cc4-ef878c7070ca",
   "metadata": {},
   "outputs": [
    {
     "name": "stdout",
     "output_type": "stream",
     "text": [
      "+-----------------------------------------------------------------------------------------------------------------------------------------------------------------------------------------+\n",
      "|function_desc                                                                                                                                                                            |\n",
      "+-----------------------------------------------------------------------------------------------------------------------------------------------------------------------------------------+\n",
      "|Function: rpad                                                                                                                                                                           |\n",
      "|Class: org.apache.spark.sql.catalyst.expressions.StringRPad                                                                                                                              |\n",
      "|Usage: \n",
      "    rpad(str, len, pad) - Returns `str`, right-padded with `pad` to a length of `len`.\n",
      "      If `str` is longer than `len`, the return value is shortened to `len` characters.\n",
      "  |\n",
      "+-----------------------------------------------------------------------------------------------------------------------------------------------------------------------------------------+\n",
      "\n"
     ]
    }
   ],
   "source": [
    "spark.sql(\"DESCRIBE FUNCTION rpad\").show(false)"
   ]
  },
  {
   "cell_type": "code",
   "execution_count": 91,
   "id": "cfbe9b15-7e88-4cbc-ba4f-7b896ddeebdf",
   "metadata": {},
   "outputs": [
    {
     "data": {
      "text/plain": [
       "+------+\n",
       "|result|\n",
       "+------+\n",
       "|    07|\n",
       "+------+\n",
       "\n"
      ]
     },
     "execution_count": 91,
     "metadata": {},
     "output_type": "execute_result"
    }
   ],
   "source": [
    "%%sql\n",
    "\n",
    "select lpad(7,2,0) AS result"
   ]
  },
  {
   "cell_type": "code",
   "execution_count": 100,
   "id": "c86e58e3-521d-427b-a8cd-48ec2649a8fa",
   "metadata": {},
   "outputs": [
    {
     "data": {
      "text/plain": [
       "+------+\n",
       "|result|\n",
       "+------+\n",
       "|  7AAA|\n",
       "+------+\n",
       "\n"
      ]
     },
     "execution_count": 100,
     "metadata": {},
     "output_type": "execute_result"
    }
   ],
   "source": [
    "%%sql\n",
    "\n",
    "select rpad(7,4,'A') AS result"
   ]
  },
  {
   "cell_type": "code",
   "execution_count": 101,
   "id": "cb5ea360-131c-4346-9cb3-a6270a561d53",
   "metadata": {},
   "outputs": [
    {
     "data": {
      "text/plain": [
       "+------+\n",
       "|result|\n",
       "+------+\n",
       "|    10|\n",
       "+------+\n",
       "\n"
      ]
     },
     "execution_count": 101,
     "metadata": {},
     "output_type": "execute_result"
    }
   ],
   "source": [
    "%%sql\n",
    "\n",
    "select lpad(10,2,0) AS result"
   ]
  },
  {
   "cell_type": "code",
   "execution_count": 102,
   "id": "d4f9e56a-bdac-49c2-8f51-b6226615abe0",
   "metadata": {},
   "outputs": [
    {
     "data": {
      "text/plain": [
       "+------+\n",
       "|result|\n",
       "+------+\n",
       "|    10|\n",
       "+------+\n",
       "\n"
      ]
     },
     "execution_count": 102,
     "metadata": {},
     "output_type": "execute_result"
    }
   ],
   "source": [
    "%%sql\n",
    "\n",
    "select lpad(100,2,0) AS result"
   ]
  },
  {
   "cell_type": "code",
   "execution_count": 103,
   "id": "e84f4ddd-66f8-49ba-b070-863fea7bc9f0",
   "metadata": {},
   "outputs": [
    {
     "data": {
      "text/plain": [
       "+--------------------+\n",
       "|          order_date|\n",
       "+--------------------+\n",
       "|2013-07-25 00:00:...|\n",
       "|2013-07-25 00:00:...|\n",
       "|2013-07-25 00:00:...|\n",
       "|2013-07-25 00:00:...|\n",
       "|2013-07-25 00:00:...|\n",
       "+--------------------+\n",
       "\n"
      ]
     },
     "execution_count": 103,
     "metadata": {},
     "output_type": "execute_result"
    }
   ],
   "source": [
    "%%sql\n",
    "\n",
    "SELECT order_date from orders limit 5"
   ]
  },
  {
   "cell_type": "code",
   "execution_count": 105,
   "id": "4cc43143-356e-42ee-9226-2e63f1fcec1c",
   "metadata": {},
   "outputs": [
    {
     "data": {
      "text/plain": [
       "+----+-----+------+\n",
       "|year|month|mydate|\n",
       "+----+-----+------+\n",
       "|2013|    7|    25|\n",
       "|2013|    7|    25|\n",
       "|2013|    7|    25|\n",
       "|2013|    7|    25|\n",
       "|2013|    7|    25|\n",
       "+----+-----+------+\n",
       "\n"
      ]
     },
     "execution_count": 105,
     "metadata": {},
     "output_type": "execute_result"
    }
   ],
   "source": [
    "%%sql\n",
    "\n",
    "SELECT substr(order_date,1,4) year, int(substr(order_date,6,2)) month, substr(order_date, 9,2) mydate from orders limit 5"
   ]
  },
  {
   "cell_type": "code",
   "execution_count": 107,
   "id": "b8a3be55-9ce8-4d8f-ab31-36cf06961742",
   "metadata": {},
   "outputs": [
    {
     "data": {
      "text/plain": [
       "+----+-----+------+\n",
       "|year|month|mydate|\n",
       "+----+-----+------+\n",
       "|2013|   x7|    25|\n",
       "|2013|   x7|    25|\n",
       "|2013|   x7|    25|\n",
       "|2013|   x7|    25|\n",
       "|2013|   x7|    25|\n",
       "+----+-----+------+\n",
       "\n"
      ]
     },
     "execution_count": 107,
     "metadata": {},
     "output_type": "execute_result"
    }
   ],
   "source": [
    "%%sql\n",
    "\n",
    "SELECT substr(order_date,1,4) year, lpad(int(substr(order_date,6,2)),2,'x') month, substr(order_date, 9,2) mydate from orders limit 5"
   ]
  },
  {
   "cell_type": "markdown",
   "id": "b30e2a36-a0e4-4a3a-9933-ce5794e24341",
   "metadata": {},
   "source": [
    "#### Reverse and Concetenate "
   ]
  },
  {
   "cell_type": "code",
   "execution_count": 109,
   "id": "cbf267f3-eb89-494e-9efb-803b2ad0b08f",
   "metadata": {},
   "outputs": [
    {
     "data": {
      "text/plain": [
       "+-----------+\n",
       "|     Result|\n",
       "+-----------+\n",
       "|dlroW olleH|\n",
       "+-----------+\n",
       "\n"
      ]
     },
     "execution_count": 109,
     "metadata": {},
     "output_type": "execute_result"
    }
   ],
   "source": [
    "%%sql\n",
    "\n",
    "SELECT reverse('Hello World') AS Result"
   ]
  },
  {
   "cell_type": "code",
   "execution_count": 111,
   "id": "77fa012c-240b-48f4-b642-d8c56f552996",
   "metadata": {},
   "outputs": [
    {
     "data": {
      "text/plain": [
       "+-----------+\n",
       "|     result|\n",
       "+-----------+\n",
       "|Hello-World|\n",
       "+-----------+\n",
       "\n"
      ]
     },
     "execution_count": 111,
     "metadata": {},
     "output_type": "execute_result"
    }
   ],
   "source": [
    "%%sql\n",
    "\n",
    "SELECT concat('Hello','-', 'World') AS result"
   ]
  },
  {
   "cell_type": "code",
   "execution_count": 113,
   "id": "69899261-0f92-4497-acd6-2eeba66bcbbe",
   "metadata": {},
   "outputs": [
    {
     "data": {
      "text/plain": [
       "+--------------------+\n",
       "|              result|\n",
       "+--------------------+\n",
       "|Order status is C...|\n",
       "|Order status is P...|\n",
       "|Order status is C...|\n",
       "|Order status is C...|\n",
       "|Order status is C...|\n",
       "+--------------------+\n",
       "\n"
      ]
     },
     "execution_count": 113,
     "metadata": {},
     "output_type": "execute_result"
    }
   ],
   "source": [
    "%%sql\n",
    "\n",
    "SELECT concat('Order status is ',order_status) AS result\n",
    "FROM orders LIMIT 5"
   ]
  },
  {
   "cell_type": "code",
   "execution_count": 115,
   "id": "bdf40b3a-19c5-47f4-b634-c0ed50ae9418",
   "metadata": {},
   "outputs": [
    {
     "name": "stdout",
     "output_type": "stream",
     "text": [
      "+-------------------------------+\n",
      "|result                         |\n",
      "+-------------------------------+\n",
      "|Order status is CLOSED         |\n",
      "|Order status is PENDING_PAYMENT|\n",
      "|Order status is COMPLETE       |\n",
      "|Order status is CLOSED         |\n",
      "|Order status is COMPLETE       |\n",
      "+-------------------------------+\n",
      "\n"
     ]
    }
   ],
   "source": [
    "spark.sql(\"\"\"SELECT concat('Order status is ',order_status) AS result\n",
    "FROM orders LIMIT 5\"\"\").show(false)"
   ]
  },
  {
   "cell_type": "code",
   "execution_count": 116,
   "id": "f98c7baa-25bd-42a3-bd6b-f6c4847dca50",
   "metadata": {},
   "outputs": [
    {
     "data": {
      "text/plain": [
       "+----+-----+------+\n",
       "|year|month|myDate|\n",
       "+----+-----+------+\n",
       "|2013|    7|    25|\n",
       "+----+-----+------+\n",
       "\n"
      ]
     },
     "execution_count": 116,
     "metadata": {},
     "output_type": "execute_result"
    }
   ],
   "source": [
    "%%sql\n",
    "\n",
    "SELECT 2013 AS year, 7 as month, 25 as myDate"
   ]
  },
  {
   "cell_type": "code",
   "execution_count": 121,
   "id": "b4886acf-887c-4cbd-ba45-981629ac666c",
   "metadata": {},
   "outputs": [
    {
     "data": {
      "text/plain": [
       "+----------+\n",
       "|order_date|\n",
       "+----------+\n",
       "|2013-07-25|\n",
       "+----------+\n",
       "\n"
      ]
     },
     "execution_count": 121,
     "metadata": {},
     "output_type": "execute_result"
    }
   ],
   "source": [
    "%%sql\n",
    "\n",
    "SELECT concat(year, '-', lpad(month,2,0), '-',lpad(myDate,2,0)) as order_date\n",
    "FROM\n",
    "    (SELECT 2013 AS year, 7 as month, 25 as myDate) sq"
   ]
  },
  {
   "cell_type": "code",
   "execution_count": 123,
   "id": "04753e9a-ef3e-4aa4-b4c6-942416e0e26f",
   "metadata": {},
   "outputs": [
    {
     "data": {
      "text/plain": [
       "+----------+\n",
       "|order_date|\n",
       "+----------+\n",
       "|2013-07-25|\n",
       "+----------+\n",
       "\n"
      ]
     },
     "execution_count": 123,
     "metadata": {},
     "output_type": "execute_result"
    }
   ],
   "source": [
    "%%sql\n",
    "\n",
    "SELECT concat_ws( '-',year, lpad(month,2,0),lpad(myDate,2,0)) as order_date\n",
    "FROM\n",
    "    (SELECT 2013 AS year, 7 as month, 25 as myDate) sq"
   ]
  },
  {
   "cell_type": "markdown",
   "id": "d24ada8f-6b7b-4067-bb2c-0f87ae9ade13",
   "metadata": {},
   "source": [
    "### 142 Date Manipulation functions"
   ]
  },
  {
   "cell_type": "code",
   "execution_count": 124,
   "id": "0282112d-697a-440c-9b38-787280278894",
   "metadata": {},
   "outputs": [
    {
     "data": {
      "text/plain": [
       "+--------------+\n",
       "|current_date()|\n",
       "+--------------+\n",
       "|    2024-02-02|\n",
       "+--------------+\n",
       "\n"
      ]
     },
     "execution_count": 124,
     "metadata": {},
     "output_type": "execute_result"
    }
   ],
   "source": [
    "%%sql\n",
    "\n",
    "SELECT current_date"
   ]
  },
  {
   "cell_type": "code",
   "execution_count": 125,
   "id": "4f7f9ebb-1e44-45f4-b7df-687b54c31421",
   "metadata": {},
   "outputs": [
    {
     "data": {
      "text/plain": [
       "+--------------+\n",
       "|current_date()|\n",
       "+--------------+\n",
       "|    2024-02-02|\n",
       "+--------------+\n",
       "\n"
      ]
     },
     "execution_count": 125,
     "metadata": {},
     "output_type": "execute_result"
    }
   ],
   "source": [
    "%%sql\n",
    "\n",
    "SELECT current_date()"
   ]
  },
  {
   "cell_type": "code",
   "execution_count": 127,
   "id": "12a5e591-b4d1-4240-88be-5b138d3a74fd",
   "metadata": {},
   "outputs": [
    {
     "data": {
      "text/plain": [
       "+--------------------+\n",
       "| current_timestamp()|\n",
       "+--------------------+\n",
       "|2024-02-02 16:40:...|\n",
       "+--------------------+\n",
       "\n"
      ]
     },
     "execution_count": 127,
     "metadata": {},
     "output_type": "execute_result"
    }
   ],
   "source": [
    "%%sql\n",
    "\n",
    "SELECT current_timestamp"
   ]
  },
  {
   "cell_type": "code",
   "execution_count": 129,
   "id": "668eb013-b9e9-4884-8270-4e2f43be2810",
   "metadata": {},
   "outputs": [
    {
     "data": {
      "text/plain": [
       "+------------+\n",
       "|current_date|\n",
       "+------------+\n",
       "|  2024-02-02|\n",
       "+------------+\n",
       "\n"
      ]
     },
     "execution_count": 129,
     "metadata": {},
     "output_type": "execute_result"
    }
   ],
   "source": [
    "%%sql\n",
    "\n",
    "select current_date as current_date"
   ]
  },
  {
   "cell_type": "code",
   "execution_count": 130,
   "id": "5c2ed1d3-2823-4817-87f8-5ee73a0c1ce1",
   "metadata": {},
   "outputs": [
    {
     "name": "stdout",
     "output_type": "stream",
     "text": [
      "+-----------------------+\n",
      "|current_timestamp      |\n",
      "+-----------------------+\n",
      "|2024-02-02 17:03:17.771|\n",
      "+-----------------------+\n",
      "\n"
     ]
    }
   ],
   "source": [
    "spark.sql(\"SELECT current_timestamp as current_timestamp\").show(false)"
   ]
  },
  {
   "cell_type": "markdown",
   "id": "6e147b34-fd5b-4b81-b35f-3dae008dd0c6",
   "metadata": {},
   "source": [
    "#### Date Arithmetic"
   ]
  },
  {
   "cell_type": "code",
   "execution_count": 131,
   "id": "e62b79f7-d0db-4ba1-bbea-f7d62c3187e2",
   "metadata": {},
   "outputs": [
    {
     "data": {
      "text/plain": [
       "+---------------+\n",
       "|next_month_date|\n",
       "+---------------+\n",
       "|     2024-03-05|\n",
       "+---------------+\n",
       "\n"
      ]
     },
     "execution_count": 131,
     "metadata": {},
     "output_type": "execute_result"
    }
   ],
   "source": [
    "%%sql\n",
    "\n",
    "SELECT date_add(current_date,32) as next_month_date"
   ]
  },
  {
   "cell_type": "code",
   "execution_count": 133,
   "id": "5b5f81c7-df93-4928-a581-2fd6e8a00463",
   "metadata": {},
   "outputs": [
    {
     "data": {
      "text/plain": [
       "+---------------+\n",
       "|after_two_years|\n",
       "+---------------+\n",
       "|     2026-02-06|\n",
       "+---------------+\n",
       "\n"
      ]
     },
     "execution_count": 133,
     "metadata": {},
     "output_type": "execute_result"
    }
   ],
   "source": [
    "%%sql\n",
    "\n",
    "SELECT date_add(current_date,735) as after_two_years"
   ]
  },
  {
   "cell_type": "code",
   "execution_count": 135,
   "id": "6a926466-4868-48f7-bac5-2d06e12f2aa4",
   "metadata": {},
   "outputs": [
    {
     "data": {
      "text/plain": [
       "+----------------+\n",
       "|before_two_years|\n",
       "+----------------+\n",
       "|      2022-01-28|\n",
       "+----------------+\n",
       "\n"
      ]
     },
     "execution_count": 135,
     "metadata": {},
     "output_type": "execute_result"
    }
   ],
   "source": [
    "%%sql\n",
    "\n",
    "SELECT date_add(current_date,-735) as before_two_years"
   ]
  },
  {
   "cell_type": "code",
   "execution_count": 136,
   "id": "54167b52-7337-4f40-9dba-3fa2915db035",
   "metadata": {},
   "outputs": [
    {
     "data": {
      "text/plain": [
       "+----------+\n",
       "|last_month|\n",
       "+----------+\n",
       "|2024-01-03|\n",
       "+----------+\n",
       "\n"
      ]
     },
     "execution_count": 136,
     "metadata": {},
     "output_type": "execute_result"
    }
   ],
   "source": [
    "%%sql\n",
    "\n",
    "SELECT date_sub(current_date,30) as last_month"
   ]
  },
  {
   "cell_type": "code",
   "execution_count": 139,
   "id": "f2b5a8b0-6775-4da8-b3a6-e3684342c3e6",
   "metadata": {},
   "outputs": [
    {
     "data": {
      "text/plain": [
       "+------+\n",
       "|result|\n",
       "+------+\n",
       "|  -705|\n",
       "+------+\n",
       "\n"
      ]
     },
     "execution_count": 139,
     "metadata": {},
     "output_type": "execute_result"
    }
   ],
   "source": [
    "%%sql\n",
    "\n",
    "SELECT datediff('2022-01-28', '2024-01-03') as result"
   ]
  },
  {
   "cell_type": "code",
   "execution_count": 140,
   "id": "9222942a-9627-46ec-9a58-b928d87a5901",
   "metadata": {},
   "outputs": [
    {
     "data": {
      "text/plain": [
       "+------+\n",
       "|result|\n",
       "+------+\n",
       "|   755|\n",
       "+------+\n",
       "\n"
      ]
     },
     "execution_count": 140,
     "metadata": {},
     "output_type": "execute_result"
    }
   ],
   "source": [
    "%%sql\n",
    "\n",
    "SELECT datediff('2024-01-28', '2022-01-03') as result"
   ]
  },
  {
   "cell_type": "code",
   "execution_count": 141,
   "id": "0f7ff5b6-1ee2-468f-b6e7-b3ae1aa40c63",
   "metadata": {},
   "outputs": [
    {
     "data": {
      "text/plain": [
       "+----------+\n",
       "|    result|\n",
       "+----------+\n",
       "|2022-03-28|\n",
       "+----------+\n",
       "\n"
      ]
     },
     "execution_count": 141,
     "metadata": {},
     "output_type": "execute_result"
    }
   ],
   "source": [
    "%%sql\n",
    "\n",
    "SELECT add_months('2022-01-28', 2) as result"
   ]
  },
  {
   "cell_type": "code",
   "execution_count": 143,
   "id": "331035ef-6652-46bb-be05-b6460f0c0333",
   "metadata": {},
   "outputs": [
    {
     "data": {
      "text/plain": [
       "+----------+\n",
       "|    result|\n",
       "+----------+\n",
       "|2022-02-22|\n",
       "+----------+\n",
       "\n"
      ]
     },
     "execution_count": 143,
     "metadata": {},
     "output_type": "execute_result"
    }
   ],
   "source": [
    "%%sql\n",
    "\n",
    "SELECT add_months('2022-01-22', 1) as result"
   ]
  },
  {
   "cell_type": "code",
   "execution_count": 144,
   "id": "8ce809ec-e754-420c-bdc7-01fc8f0a0bc0",
   "metadata": {},
   "outputs": [
    {
     "data": {
      "text/plain": [
       "+----------+\n",
       "|    result|\n",
       "+----------+\n",
       "|2022-03-31|\n",
       "+----------+\n",
       "\n"
      ]
     },
     "execution_count": 144,
     "metadata": {},
     "output_type": "execute_result"
    }
   ],
   "source": [
    "%%sql\n",
    "\n",
    "SELECT add_months('2022-02-28', 1) as result"
   ]
  },
  {
   "cell_type": "code",
   "execution_count": 145,
   "id": "51c7b8f1-6fae-457c-b9a8-798a9b7e29b9",
   "metadata": {},
   "outputs": [
    {
     "data": {
      "text/plain": [
       "+----------+\n",
       "|    result|\n",
       "+----------+\n",
       "|2024-05-02|\n",
       "+----------+\n",
       "\n"
      ]
     },
     "execution_count": 145,
     "metadata": {},
     "output_type": "execute_result"
    }
   ],
   "source": [
    "%%sql\n",
    "\n",
    "SELECT add_months(current_timestamp,3) as result"
   ]
  },
  {
   "cell_type": "markdown",
   "id": "76a45f0e-6d13-4b56-92a5-e5c57e32ed0f",
   "metadata": {},
   "source": [
    "#### Date or Time - trunc and date_trunc"
   ]
  },
  {
   "cell_type": "code",
   "execution_count": 146,
   "id": "4ee3de31-db2b-4456-968f-b646d0ee0f1b",
   "metadata": {},
   "outputs": [
    {
     "name": "stdout",
     "output_type": "stream",
     "text": [
      "+--------------------------------------------------------------------------------------------------------------------------------------------------------------------------------------------------------------------+\n",
      "|function_desc                                                                                                                                                                                                       |\n",
      "+--------------------------------------------------------------------------------------------------------------------------------------------------------------------------------------------------------------------+\n",
      "|Function: trunc                                                                                                                                                                                                     |\n",
      "|Class: org.apache.spark.sql.catalyst.expressions.TruncDate                                                                                                                                                          |\n",
      "|Usage: \n",
      "    trunc(date, fmt) - Returns `date` with the time portion of the day truncated to the unit specified by the format model `fmt`.\n",
      "    `fmt` should be one of [\"year\", \"yyyy\", \"yy\", \"mon\", \"month\", \"mm\"]\n",
      "  |\n",
      "+--------------------------------------------------------------------------------------------------------------------------------------------------------------------------------------------------------------------+\n",
      "\n"
     ]
    }
   ],
   "source": [
    "spark.sql(\"DESCRIBE FUNCTION trunc\").show(false)"
   ]
  },
  {
   "cell_type": "code",
   "execution_count": 147,
   "id": "39741efe-bbd6-460c-b529-5f98f01ac2be",
   "metadata": {},
   "outputs": [
    {
     "data": {
      "text/plain": [
       "+--------------------+\n",
       "|beginning_date_month|\n",
       "+--------------------+\n",
       "|          2024-02-01|\n",
       "+--------------------+\n",
       "\n"
      ]
     },
     "execution_count": 147,
     "metadata": {},
     "output_type": "execute_result"
    }
   ],
   "source": [
    "%%sql\n",
    "\n",
    "SELECT trunc(current_date,'MM')  as beginning_date_month"
   ]
  },
  {
   "cell_type": "code",
   "execution_count": 152,
   "id": "c2d69b5c-5eaa-41eb-8435-d85cdf0486fd",
   "metadata": {},
   "outputs": [
    {
     "data": {
      "text/plain": [
       "+--------------------+\n",
       "|beginning_date_month|\n",
       "+--------------------+\n",
       "|          2019-02-01|\n",
       "+--------------------+\n",
       "\n"
      ]
     },
     "execution_count": 152,
     "metadata": {},
     "output_type": "execute_result"
    }
   ],
   "source": [
    "%%sql\n",
    "\n",
    "SELECT trunc('2019-02-23','MM')  as beginning_date_month"
   ]
  },
  {
   "cell_type": "code",
   "execution_count": 153,
   "id": "41322489-de03-4501-9d54-c87d36f9bcfa",
   "metadata": {},
   "outputs": [
    {
     "data": {
      "text/plain": [
       "+--------------------+\n",
       "|beginning_date_month|\n",
       "+--------------------+\n",
       "|          2019-01-01|\n",
       "+--------------------+\n",
       "\n"
      ]
     },
     "execution_count": 153,
     "metadata": {},
     "output_type": "execute_result"
    }
   ],
   "source": [
    "%%sql\n",
    "\n",
    "SELECT trunc('2019-02-23','YY')  as beginning_date_month"
   ]
  },
  {
   "cell_type": "code",
   "execution_count": 154,
   "id": "f184cb5d-70c7-4b90-87ec-b60c42bd058b",
   "metadata": {},
   "outputs": [
    {
     "data": {
      "text/plain": [
       "+--------------------+\n",
       "|beginning_date_month|\n",
       "+--------------------+\n",
       "|                null|\n",
       "+--------------------+\n",
       "\n"
      ]
     },
     "execution_count": 154,
     "metadata": {},
     "output_type": "execute_result"
    }
   ],
   "source": [
    "%%sql\n",
    "\n",
    "SELECT trunc(current_timestamp,'HH')  as beginning_date_month"
   ]
  },
  {
   "cell_type": "code",
   "execution_count": 155,
   "id": "d4afc0c6-2204-49ea-875e-1b4c0225f3d5",
   "metadata": {},
   "outputs": [
    {
     "name": "stdout",
     "output_type": "stream",
     "text": [
      "+----------------------------------------------------------------------------------------------------------------------------------------------------------------------------------------------------------------------------------------------------------+\n",
      "|function_desc                                                                                                                                                                                                                                             |\n",
      "+----------------------------------------------------------------------------------------------------------------------------------------------------------------------------------------------------------------------------------------------------------+\n",
      "|Function: date_trunc                                                                                                                                                                                                                                      |\n",
      "|Class: org.apache.spark.sql.catalyst.expressions.TruncTimestamp                                                                                                                                                                                           |\n",
      "|Usage: \n",
      "    date_trunc(fmt, ts) - Returns timestamp `ts` truncated to the unit specified by the format model `fmt`.\n",
      "    `fmt` should be one of [\"YEAR\", \"YYYY\", \"YY\", \"MON\", \"MONTH\", \"MM\", \"DAY\", \"DD\", \"HOUR\", \"MINUTE\", \"SECOND\", \"WEEK\", \"QUARTER\"]\n",
      "  |\n",
      "+----------------------------------------------------------------------------------------------------------------------------------------------------------------------------------------------------------------------------------------------------------+\n",
      "\n"
     ]
    }
   ],
   "source": [
    "spark.sql(\"DESCRIBE FUNCTION date_trunc\").show(false)"
   ]
  },
  {
   "cell_type": "code",
   "execution_count": 159,
   "id": "774f4538-34da-4bb6-9ab6-1684c5875c51",
   "metadata": {},
   "outputs": [
    {
     "name": "stdout",
     "output_type": "stream",
     "text": [
      "+-----------------------+-------------------+\n",
      "|current_timestamp()    |result             |\n",
      "+-----------------------+-------------------+\n",
      "|2024-02-02 18:09:25.074|2024-02-02 18:00:00|\n",
      "+-----------------------+-------------------+\n",
      "\n"
     ]
    }
   ],
   "source": [
    "spark.sql(\"SELECT current_timestamp, date_trunc('HOUR',current_timestamp) as result\").show(false)"
   ]
  },
  {
   "cell_type": "code",
   "execution_count": 160,
   "id": "eda93bc3-e605-498e-a9a9-bc6267848199",
   "metadata": {},
   "outputs": [
    {
     "name": "stdout",
     "output_type": "stream",
     "text": [
      "+-----------------------+-------------------+\n",
      "|current_timestamp()    |result             |\n",
      "+-----------------------+-------------------+\n",
      "|2024-02-02 18:09:48.036|2024-02-02 18:09:00|\n",
      "+-----------------------+-------------------+\n",
      "\n"
     ]
    }
   ],
   "source": [
    "spark.sql(\"SELECT current_timestamp, date_trunc('MINUTE',current_timestamp) as result\").show(false)"
   ]
  },
  {
   "cell_type": "code",
   "execution_count": 161,
   "id": "45f001b1-b6c0-4a7c-9a50-356455e1de03",
   "metadata": {},
   "outputs": [
    {
     "name": "stdout",
     "output_type": "stream",
     "text": [
      "+-----------------------+-------------------+\n",
      "|current_timestamp()    |result             |\n",
      "+-----------------------+-------------------+\n",
      "|2024-02-02 18:10:03.566|2024-02-02 18:10:03|\n",
      "+-----------------------+-------------------+\n",
      "\n"
     ]
    }
   ],
   "source": [
    "spark.sql(\"SELECT current_timestamp, date_trunc('SECOND',current_timestamp) as result\").show(false)"
   ]
  },
  {
   "cell_type": "code",
   "execution_count": 162,
   "id": "c4996292-c148-4148-99a4-b0db54e2e0eb",
   "metadata": {},
   "outputs": [
    {
     "name": "stdout",
     "output_type": "stream",
     "text": [
      "+-----------------------+-------------------+\n",
      "|current_timestamp()    |result             |\n",
      "+-----------------------+-------------------+\n",
      "|2024-02-02 18:10:23.839|2024-01-01 00:00:00|\n",
      "+-----------------------+-------------------+\n",
      "\n"
     ]
    }
   ],
   "source": [
    "spark.sql(\"SELECT current_timestamp, date_trunc('YEAR',current_timestamp) as result\").show(false)"
   ]
  },
  {
   "cell_type": "code",
   "execution_count": 163,
   "id": "5229a250-4762-4474-87d3-eea17a41aca2",
   "metadata": {},
   "outputs": [
    {
     "name": "stdout",
     "output_type": "stream",
     "text": [
      "+-----------------------+-------------------+\n",
      "|current_timestamp()    |result             |\n",
      "+-----------------------+-------------------+\n",
      "|2024-02-02 18:10:39.966|2024-02-01 00:00:00|\n",
      "+-----------------------+-------------------+\n",
      "\n"
     ]
    }
   ],
   "source": [
    "spark.sql(\"SELECT current_timestamp, date_trunc('MONTH',current_timestamp) as result\").show(false)"
   ]
  },
  {
   "cell_type": "code",
   "execution_count": 164,
   "id": "983f84bc-00d2-4641-8046-a3c762a5851a",
   "metadata": {},
   "outputs": [
    {
     "name": "stdout",
     "output_type": "stream",
     "text": [
      "+-----------------------+-------------------+\n",
      "|current_timestamp()    |result             |\n",
      "+-----------------------+-------------------+\n",
      "|2024-02-02 18:10:52.691|2024-02-01 00:00:00|\n",
      "+-----------------------+-------------------+\n",
      "\n"
     ]
    }
   ],
   "source": [
    "spark.sql(\"SELECT current_timestamp, date_trunc('MON',current_timestamp) as result\").show(false)"
   ]
  },
  {
   "cell_type": "markdown",
   "id": "692560ce-6bcb-49ed-9e6a-4800f2a253f3",
   "metadata": {},
   "source": [
    "### Date Format"
   ]
  },
  {
   "cell_type": "code",
   "execution_count": 165,
   "id": "f616280f-73db-4f3c-8059-b495e4f792b1",
   "metadata": {},
   "outputs": [
    {
     "name": "stdout",
     "output_type": "stream",
     "text": [
      "+--------------------------------------------------------------------------------------------------------------------------------+\n",
      "|function_desc                                                                                                                   |\n",
      "+--------------------------------------------------------------------------------------------------------------------------------+\n",
      "|Function: date_format                                                                                                           |\n",
      "|Class: org.apache.spark.sql.catalyst.expressions.DateFormatClass                                                                |\n",
      "|Usage: date_format(timestamp, fmt) - Converts `timestamp` to a value of string in the format specified by the date format `fmt`.|\n",
      "+--------------------------------------------------------------------------------------------------------------------------------+\n",
      "\n"
     ]
    }
   ],
   "source": [
    "spark.sql(\"DESCRIBE FUNCTION date_format\").show(false)"
   ]
  },
  {
   "cell_type": "code",
   "execution_count": 166,
   "id": "005f7ced-17da-4ece-9a0e-b66fdb73347a",
   "metadata": {},
   "outputs": [
    {
     "name": "stdout",
     "output_type": "stream",
     "text": [
      "+-----------------------+------+\n",
      "|current_timestamp()    |result|\n",
      "+-----------------------+------+\n",
      "|2024-02-02 18:13:33.188|2024  |\n",
      "+-----------------------+------+\n",
      "\n"
     ]
    }
   ],
   "source": [
    "spark.sql(\"SELECT current_timestamp, date_format(current_timestamp, 'yyyy') as result\").show(false)"
   ]
  },
  {
   "cell_type": "code",
   "execution_count": 167,
   "id": "49d7cffc-93bd-4982-95c0-aac703993104",
   "metadata": {},
   "outputs": [
    {
     "name": "stdout",
     "output_type": "stream",
     "text": [
      "+-----------------------+------+\n",
      "|current_timestamp()    |result|\n",
      "+-----------------------+------+\n",
      "|2024-02-02 18:13:47.664|202402|\n",
      "+-----------------------+------+\n",
      "\n"
     ]
    }
   ],
   "source": [
    "spark.sql(\"SELECT current_timestamp, date_format(current_timestamp, 'yyyyMM') as result\").show(false)"
   ]
  },
  {
   "cell_type": "code",
   "execution_count": 168,
   "id": "cde3c84b-410d-4d65-be75-631fb3f87e95",
   "metadata": {},
   "outputs": [
    {
     "name": "stdout",
     "output_type": "stream",
     "text": [
      "+----------------------+------+\n",
      "|current_timestamp()   |result|\n",
      "+----------------------+------+\n",
      "|2024-02-02 18:13:56.99|02    |\n",
      "+----------------------+------+\n",
      "\n"
     ]
    }
   ],
   "source": [
    "spark.sql(\"SELECT current_timestamp, date_format(current_timestamp, 'MM') as result\").show(false)"
   ]
  },
  {
   "cell_type": "code",
   "execution_count": 169,
   "id": "8d098f62-c022-494a-80f8-a27e6aa5a079",
   "metadata": {},
   "outputs": [
    {
     "name": "stdout",
     "output_type": "stream",
     "text": [
      "+-----------------------+------+\n",
      "|current_timestamp()    |result|\n",
      "+-----------------------+------+\n",
      "|2024-02-02 18:14:09.357|24    |\n",
      "+-----------------------+------+\n",
      "\n"
     ]
    }
   ],
   "source": [
    "spark.sql(\"SELECT current_timestamp, date_format(current_timestamp, 'YY') as result\").show(false)"
   ]
  },
  {
   "cell_type": "code",
   "execution_count": 170,
   "id": "81f84640-669b-469e-8c76-0e553bbd205a",
   "metadata": {},
   "outputs": [
    {
     "name": "stdout",
     "output_type": "stream",
     "text": [
      "+-----------------------+------+\n",
      "|current_timestamp()    |result|\n",
      "+-----------------------+------+\n",
      "|2024-02-02 18:14:30.572|02    |\n",
      "+-----------------------+------+\n",
      "\n"
     ]
    }
   ],
   "source": [
    "spark.sql(\"SELECT current_timestamp, date_format(current_timestamp, 'dd') as result\").show(false)"
   ]
  },
  {
   "cell_type": "code",
   "execution_count": 171,
   "id": "51158ef4-d1de-4f94-95c9-c972a5ed31cb",
   "metadata": {},
   "outputs": [
    {
     "name": "stdout",
     "output_type": "stream",
     "text": [
      "+-----------------------+------+\n",
      "|current_timestamp()    |result|\n",
      "+-----------------------+------+\n",
      "|2024-02-02 18:14:51.621|33    |\n",
      "+-----------------------+------+\n",
      "\n"
     ]
    }
   ],
   "source": [
    "spark.sql(\"SELECT current_timestamp, date_format(current_timestamp, 'DD') as result\").show(false)"
   ]
  },
  {
   "cell_type": "code",
   "execution_count": 172,
   "id": "91df1d35-82a1-447a-89f4-8a8c0f2f89ef",
   "metadata": {},
   "outputs": [
    {
     "name": "stdout",
     "output_type": "stream",
     "text": [
      "+-----------------------+------+\n",
      "|current_timestamp()    |result|\n",
      "+-----------------------+------+\n",
      "|2024-02-02 18:15:25.021|Feb   |\n",
      "+-----------------------+------+\n",
      "\n"
     ]
    }
   ],
   "source": [
    "spark.sql(\"SELECT current_timestamp, date_format(current_timestamp, 'MMM') as result\").show(false)"
   ]
  },
  {
   "cell_type": "code",
   "execution_count": 173,
   "id": "16714b76-8788-4a52-a3af-e58a9d4e994f",
   "metadata": {},
   "outputs": [
    {
     "name": "stdout",
     "output_type": "stream",
     "text": [
      "+-----------------------+--------+\n",
      "|current_timestamp()    |result  |\n",
      "+-----------------------+--------+\n",
      "|2024-02-02 18:15:32.374|February|\n",
      "+-----------------------+--------+\n",
      "\n"
     ]
    }
   ],
   "source": [
    "spark.sql(\"SELECT current_timestamp, date_format(current_timestamp, 'MMMM') as result\").show(false)"
   ]
  },
  {
   "cell_type": "code",
   "execution_count": 174,
   "id": "1a977ebb-d5a0-4ca0-b1a0-935b10f6d07c",
   "metadata": {},
   "outputs": [
    {
     "name": "stdout",
     "output_type": "stream",
     "text": [
      "+-----------------------+------+\n",
      "|current_timestamp()    |result|\n",
      "+-----------------------+------+\n",
      "|2024-02-02 18:17:31.019|Fri   |\n",
      "+-----------------------+------+\n",
      "\n"
     ]
    }
   ],
   "source": [
    "spark.sql(\"SELECT current_timestamp, date_format(current_timestamp, 'EE') as result\").show(false)"
   ]
  },
  {
   "cell_type": "code",
   "execution_count": 175,
   "id": "b7788d99-5fca-4518-a724-46f7e6e90d6c",
   "metadata": {},
   "outputs": [
    {
     "name": "stdout",
     "output_type": "stream",
     "text": [
      "+-----------------------+------+\n",
      "|current_timestamp()    |result|\n",
      "+-----------------------+------+\n",
      "|2024-02-02 18:17:36.806|Friday|\n",
      "+-----------------------+------+\n",
      "\n"
     ]
    }
   ],
   "source": [
    "spark.sql(\"SELECT current_timestamp, date_format(current_timestamp, 'EEEE') as result\").show(false)"
   ]
  },
  {
   "cell_type": "code",
   "execution_count": 176,
   "id": "8cf9f00b-99e3-4fe1-82aa-3ab8396ac7df",
   "metadata": {},
   "outputs": [
    {
     "name": "stdout",
     "output_type": "stream",
     "text": [
      "+-----------------------+------+\n",
      "|current_timestamp()    |result|\n",
      "+-----------------------+------+\n",
      "|2024-02-02 18:18:06.427|18    |\n",
      "+-----------------------+------+\n",
      "\n"
     ]
    }
   ],
   "source": [
    "spark.sql(\"SELECT current_timestamp, date_format(current_timestamp, 'HH') as result\").show(false)"
   ]
  },
  {
   "cell_type": "code",
   "execution_count": 177,
   "id": "f15044f7-2baf-46e4-8eb1-7222bf94a41c",
   "metadata": {},
   "outputs": [
    {
     "name": "stdout",
     "output_type": "stream",
     "text": [
      "+-----------------------+------+\n",
      "|current_timestamp()    |result|\n",
      "+-----------------------+------+\n",
      "|2024-02-02 18:18:12.515|18    |\n",
      "+-----------------------+------+\n",
      "\n"
     ]
    }
   ],
   "source": [
    "spark.sql(\"SELECT current_timestamp, date_format(current_timestamp, 'mm') as result\").show(false)"
   ]
  },
  {
   "cell_type": "code",
   "execution_count": 178,
   "id": "c173ef5d-2e4d-4b9a-be6f-6a96efde4ceb",
   "metadata": {},
   "outputs": [
    {
     "name": "stdout",
     "output_type": "stream",
     "text": [
      "+-----------------------+------+\n",
      "|current_timestamp()    |result|\n",
      "+-----------------------+------+\n",
      "|2024-02-02 18:18:51.098|06    |\n",
      "+-----------------------+------+\n",
      "\n"
     ]
    }
   ],
   "source": [
    "spark.sql(\"SELECT current_timestamp, date_format(current_timestamp, 'hh') as result\").show(false)"
   ]
  },
  {
   "cell_type": "code",
   "execution_count": 179,
   "id": "8ba07988-bb20-4b5a-8b5f-abb453a1f472",
   "metadata": {},
   "outputs": [
    {
     "name": "stdout",
     "output_type": "stream",
     "text": [
      "+-----------------------+------+\n",
      "|current_timestamp()    |result|\n",
      "+-----------------------+------+\n",
      "|2024-02-02 18:19:18.268|19    |\n",
      "+-----------------------+------+\n",
      "\n"
     ]
    }
   ],
   "source": [
    "spark.sql(\"SELECT current_timestamp, date_format(current_timestamp, 'mm') as result\").show(false)"
   ]
  },
  {
   "cell_type": "code",
   "execution_count": 181,
   "id": "5be10740-639c-4502-8eff-da1ea7223bb2",
   "metadata": {},
   "outputs": [
    {
     "name": "stdout",
     "output_type": "stream",
     "text": [
      "+-----------------------+------+\n",
      "|current_timestamp()    |result|\n",
      "+-----------------------+------+\n",
      "|2024-02-02 18:19:30.405|30    |\n",
      "+-----------------------+------+\n",
      "\n"
     ]
    }
   ],
   "source": [
    "spark.sql(\"SELECT current_timestamp, date_format(current_timestamp, 'ss') as result\").show(false)"
   ]
  },
  {
   "cell_type": "code",
   "execution_count": 182,
   "id": "9993faad-d9a6-420d-ae55-d6671e0e48b2",
   "metadata": {},
   "outputs": [
    {
     "name": "stdout",
     "output_type": "stream",
     "text": [
      "+-----------------------+------+\n",
      "|current_timestamp()    |result|\n",
      "+-----------------------+------+\n",
      "|2024-02-02 18:19:57.453|453   |\n",
      "+-----------------------+------+\n",
      "\n"
     ]
    }
   ],
   "source": [
    "spark.sql(\"SELECT current_timestamp, date_format(current_timestamp, 'SS') as result\").show(false)"
   ]
  },
  {
   "cell_type": "code",
   "execution_count": 183,
   "id": "68b3a330-ae5d-4536-bc55-c4ee58786eb8",
   "metadata": {},
   "outputs": [
    {
     "name": "stdout",
     "output_type": "stream",
     "text": [
      "+-----------------------+------+\n",
      "|current_timestamp()    |result|\n",
      "+-----------------------+------+\n",
      "|2024-02-02 18:20:26.882|202402|\n",
      "+-----------------------+------+\n",
      "\n"
     ]
    }
   ],
   "source": [
    "spark.sql(\"SELECT current_timestamp, date_format(current_timestamp, 'yyyyMM') as result\").show(false)"
   ]
  },
  {
   "cell_type": "code",
   "execution_count": 184,
   "id": "8812d833-568a-4c6e-91ce-ba74b080af8b",
   "metadata": {},
   "outputs": [
    {
     "name": "stdout",
     "output_type": "stream",
     "text": [
      "+----------------------+--------+\n",
      "|current_timestamp()   |result  |\n",
      "+----------------------+--------+\n",
      "|2024-02-02 18:20:46.25|20240202|\n",
      "+----------------------+--------+\n",
      "\n"
     ]
    }
   ],
   "source": [
    "spark.sql(\"SELECT current_timestamp, date_format(current_timestamp, 'yyyyMMdd') as result\").show(false)"
   ]
  },
  {
   "cell_type": "code",
   "execution_count": 185,
   "id": "aff9028e-6fc3-417a-8bc4-6a50510e9f44",
   "metadata": {},
   "outputs": [
    {
     "name": "stdout",
     "output_type": "stream",
     "text": [
      "+-----------------------+----------+\n",
      "|current_timestamp()    |result    |\n",
      "+-----------------------+----------+\n",
      "|2024-02-02 18:21:28.472|2024/02/02|\n",
      "+-----------------------+----------+\n",
      "\n"
     ]
    }
   ],
   "source": [
    "spark.sql(\"SELECT current_timestamp, date_format(current_timestamp, 'yyyy/MM/dd') as result\").show(false)"
   ]
  },
  {
   "cell_type": "code",
   "execution_count": 187,
   "id": "fffadfb0-3b87-4f67-b21d-d9d2d96a6b35",
   "metadata": {},
   "outputs": [
    {
     "name": "stdout",
     "output_type": "stream",
     "text": [
      "+------------------------------------------------------------------+\n",
      "|function_desc                                                     |\n",
      "+------------------------------------------------------------------+\n",
      "|Function: day                                                     |\n",
      "|Class: org.apache.spark.sql.catalyst.expressions.DayOfMonth       |\n",
      "|Usage: day(date) - Returns the day of month of the date/timestamp.|\n",
      "+------------------------------------------------------------------+\n",
      "\n"
     ]
    }
   ],
   "source": [
    "spark.sql(\"DESCRIBE FUNCTION day\").show(false)"
   ]
  },
  {
   "cell_type": "code",
   "execution_count": 188,
   "id": "bd559715-08d5-44a0-b1c6-262326c9a527",
   "metadata": {},
   "outputs": [
    {
     "name": "stdout",
     "output_type": "stream",
     "text": [
      "+-----------------------+------+\n",
      "|current_timestamp()    |result|\n",
      "+-----------------------+------+\n",
      "|2024-02-02 18:22:37.514|2     |\n",
      "+-----------------------+------+\n",
      "\n"
     ]
    }
   ],
   "source": [
    "spark.sql(\"SELECT current_timestamp, day(current_timestamp) as result\").show(false)"
   ]
  },
  {
   "cell_type": "code",
   "execution_count": 189,
   "id": "d4ffec10-1364-48ab-9cb6-99ee087e27cc",
   "metadata": {},
   "outputs": [
    {
     "name": "stdout",
     "output_type": "stream",
     "text": [
      "+-------------------------------------------------------------------------+\n",
      "|function_desc                                                            |\n",
      "+-------------------------------------------------------------------------+\n",
      "|Function: dayofmonth                                                     |\n",
      "|Class: org.apache.spark.sql.catalyst.expressions.DayOfMonth              |\n",
      "|Usage: dayofmonth(date) - Returns the day of month of the date/timestamp.|\n",
      "+-------------------------------------------------------------------------+\n",
      "\n"
     ]
    }
   ],
   "source": [
    "spark.sql(\"DESCRIBE FUNCTION dayofmonth\").show(false)"
   ]
  },
  {
   "cell_type": "code",
   "execution_count": 190,
   "id": "76dd5af1-8bac-4642-b9fc-fd8a8921e15e",
   "metadata": {},
   "outputs": [
    {
     "name": "stdout",
     "output_type": "stream",
     "text": [
      "+-----------------------+------+\n",
      "|current_timestamp()    |result|\n",
      "+-----------------------+------+\n",
      "|2024-02-02 18:23:09.842|2     |\n",
      "+-----------------------+------+\n",
      "\n"
     ]
    }
   ],
   "source": [
    "spark.sql(\"SELECT current_timestamp, dayofmonth(current_timestamp) as result\").show(false)"
   ]
  },
  {
   "cell_type": "code",
   "execution_count": 191,
   "id": "f4bf423c-14c1-4be9-95cb-8f9d03a425f8",
   "metadata": {},
   "outputs": [
    {
     "name": "stdout",
     "output_type": "stream",
     "text": [
      "+-----------------------------------------------------------------------+\n",
      "|function_desc                                                          |\n",
      "+-----------------------------------------------------------------------+\n",
      "|Function: month                                                        |\n",
      "|Class: org.apache.spark.sql.catalyst.expressions.Month                 |\n",
      "|Usage: month(date) - Returns the month component of the date/timestamp.|\n",
      "+-----------------------------------------------------------------------+\n",
      "\n"
     ]
    }
   ],
   "source": [
    "spark.sql(\"DESCRIBE FUNCTION month\").show(false)"
   ]
  },
  {
   "cell_type": "code",
   "execution_count": 192,
   "id": "acbfb9ef-cd9d-4d54-8f43-05ec45cd81db",
   "metadata": {},
   "outputs": [
    {
     "name": "stdout",
     "output_type": "stream",
     "text": [
      "+-----------------------+------+\n",
      "|current_timestamp()    |result|\n",
      "+-----------------------+------+\n",
      "|2024-02-02 18:23:48.492|2     |\n",
      "+-----------------------+------+\n",
      "\n"
     ]
    }
   ],
   "source": [
    "spark.sql(\"SELECT current_timestamp, month(current_timestamp) as result\").show(false)"
   ]
  },
  {
   "cell_type": "code",
   "execution_count": 195,
   "id": "b8665bb0-0112-41d1-8d2b-311415165c9c",
   "metadata": {},
   "outputs": [
    {
     "name": "stdout",
     "output_type": "stream",
     "text": [
      "+--------------------------------------------------------------------------------------------------------------------------------------------------------------+\n",
      "|function_desc                                                                                                                                                 |\n",
      "+--------------------------------------------------------------------------------------------------------------------------------------------------------------+\n",
      "|Function: weekofyear                                                                                                                                          |\n",
      "|Class: org.apache.spark.sql.catalyst.expressions.WeekOfYear                                                                                                   |\n",
      "|Usage: weekofyear(date) - Returns the week of the year of the given date. A week is considered to start on a Monday and week 1 is the first week with >3 days.|\n",
      "+--------------------------------------------------------------------------------------------------------------------------------------------------------------+\n",
      "\n"
     ]
    }
   ],
   "source": [
    "spark.sql(\"DESCRIBE FUNCTION weekofyear\").show(false)"
   ]
  },
  {
   "cell_type": "code",
   "execution_count": 193,
   "id": "2cf1c40b-5be0-46bd-9715-2c2c6282ea31",
   "metadata": {},
   "outputs": [
    {
     "name": "stdout",
     "output_type": "stream",
     "text": [
      "+-----------------------+------+\n",
      "|current_timestamp()    |result|\n",
      "+-----------------------+------+\n",
      "|2024-02-02 18:24:15.709|5     |\n",
      "+-----------------------+------+\n",
      "\n"
     ]
    }
   ],
   "source": [
    "spark.sql(\"SELECT current_timestamp, weekofyear(current_timestamp) as result\").show(false)"
   ]
  },
  {
   "cell_type": "code",
   "execution_count": 194,
   "id": "b1e4ccd3-e514-4506-9738-5ffbc080d986",
   "metadata": {},
   "outputs": [
    {
     "name": "stdout",
     "output_type": "stream",
     "text": [
      "+-----------------------+------+\n",
      "|current_timestamp()    |result|\n",
      "+-----------------------+------+\n",
      "|2024-02-02 18:24:22.882|2024  |\n",
      "+-----------------------+------+\n",
      "\n"
     ]
    }
   ],
   "source": [
    "spark.sql(\"SELECT current_timestamp, year(current_timestamp) as result\").show(false)"
   ]
  },
  {
   "cell_type": "code",
   "execution_count": 196,
   "id": "9fc4569f-9841-463f-bb91-a02f8f81b66c",
   "metadata": {},
   "outputs": [
    {
     "name": "stdout",
     "output_type": "stream",
     "text": [
      "+-----------------------+------+\n",
      "|current_timestamp()    |result|\n",
      "+-----------------------+------+\n",
      "|2024-02-02 18:29:20.225|2     |\n",
      "+-----------------------+------+\n",
      "\n"
     ]
    }
   ],
   "source": [
    "spark.sql(\"SELECT current_timestamp, month(current_timestamp) as result\").show(false)"
   ]
  },
  {
   "cell_type": "code",
   "execution_count": 199,
   "id": "40d526c6-38ff-4c66-bbe9-a746e749f457",
   "metadata": {},
   "outputs": [
    {
     "name": "stdout",
     "output_type": "stream",
     "text": [
      "+-----------------------+------+\n",
      "|current_timestamp()    |result|\n",
      "+-----------------------+------+\n",
      "|2024-02-03 02:55:16.744|3     |\n",
      "+-----------------------+------+\n",
      "\n"
     ]
    }
   ],
   "source": [
    "spark.sql(\"SELECT current_timestamp, day(current_timestamp) as result\").show(false)"
   ]
  },
  {
   "cell_type": "markdown",
   "id": "8bffe187-3b27-4103-931d-313db87627b0",
   "metadata": {},
   "source": [
    "### Dealing with Unix Timestamp"
   ]
  },
  {
   "cell_type": "code",
   "execution_count": 200,
   "id": "52c80762-0d0b-4044-9408-ff2b5c410100",
   "metadata": {},
   "outputs": [
    {
     "name": "stdout",
     "output_type": "stream",
     "text": [
      "date: invalid date '\\'+%s\\''\n"
     ]
    },
    {
     "data": {
      "text/plain": [
       "warning: there was one feature warning; re-run with -feature for details\n"
      ]
     },
     "metadata": {},
     "output_type": "display_data",
     "source": "user"
    },
    {
     "data": {
      "text/plain": [
       "1"
      ]
     },
     "execution_count": 200,
     "metadata": {},
     "output_type": "execute_result"
    }
   ],
   "source": [
    "import sys.process._\n",
    "\n",
    "s\"date '+%s'\"!"
   ]
  },
  {
   "cell_type": "code",
   "execution_count": 201,
   "id": "6d2dcb25-e09c-4f00-bbc8-e2e40b85fb76",
   "metadata": {},
   "outputs": [
    {
     "name": "stdout",
     "output_type": "stream",
     "text": [
      "date: invalid date '`+%s`'\n"
     ]
    },
    {
     "data": {
      "text/plain": [
       "warning: there was one feature warning; re-run with -feature for details\n"
      ]
     },
     "metadata": {},
     "output_type": "display_data",
     "source": "user"
    },
    {
     "data": {
      "text/plain": [
       "1"
      ]
     },
     "execution_count": 201,
     "metadata": {},
     "output_type": "execute_result"
    }
   ],
   "source": [
    "s\"date `+%s`\"!"
   ]
  },
  {
   "cell_type": "code",
   "execution_count": 204,
   "id": "e9d55b18-b57d-4bd0-92d1-bdf43e479315",
   "metadata": {},
   "outputs": [
    {
     "data": {
      "text/plain": [
       "lastException: Throwable = null\n"
      ]
     },
     "metadata": {},
     "output_type": "display_data",
     "source": "user"
    },
    {
     "data": {
      "text/plain": [
       "+-------------------+\n",
       "|          timestamp|\n",
       "+-------------------+\n",
       "|2024-02-03 03:20:35|\n",
       "+-------------------+\n",
       "\n"
      ]
     },
     "execution_count": 204,
     "metadata": {},
     "output_type": "execute_result"
    }
   ],
   "source": [
    "%%sql\n",
    "\n",
    "SELECT from_unixtime(1706930435) AS timestamp"
   ]
  },
  {
   "cell_type": "code",
   "execution_count": 205,
   "id": "aee39929-1da3-4a57-b74a-f65bbc8a214a",
   "metadata": {},
   "outputs": [
    {
     "data": {
      "text/plain": [
       "+----------+\n",
       "|  unixtime|\n",
       "+----------+\n",
       "|1706930435|\n",
       "+----------+\n",
       "\n"
      ]
     },
     "execution_count": 205,
     "metadata": {},
     "output_type": "execute_result"
    }
   ],
   "source": [
    "%%sql\n",
    "\n",
    "SELECT to_unix_timestamp('2024-02-03 03:20:35') as unixtime"
   ]
  },
  {
   "cell_type": "code",
   "execution_count": 206,
   "id": "31c55bee-5677-47b7-8043-54e8d493e252",
   "metadata": {},
   "outputs": [
    {
     "data": {
      "text/plain": [
       "+----------+\n",
       "|  unixtime|\n",
       "+----------+\n",
       "|1706930435|\n",
       "+----------+\n",
       "\n"
      ]
     },
     "execution_count": 206,
     "metadata": {},
     "output_type": "execute_result"
    }
   ],
   "source": [
    "%%sql\n",
    "\n",
    "SELECT to_unix_timestamp('2024-02-03 03:20:35.133') as unixtime"
   ]
  },
  {
   "cell_type": "code",
   "execution_count": 207,
   "id": "57885feb-7597-481a-ad9e-d167f8419ab1",
   "metadata": {},
   "outputs": [
    {
     "data": {
      "text/plain": [
       "+------+\n",
       "| month|\n",
       "+------+\n",
       "|202402|\n",
       "+------+\n",
       "\n"
      ]
     },
     "execution_count": 207,
     "metadata": {},
     "output_type": "execute_result"
    }
   ],
   "source": [
    "%%sql\n",
    "\n",
    "SELECT from_unixtime(1706930435,'yyyyMM') as month"
   ]
  },
  {
   "cell_type": "code",
   "execution_count": 209,
   "id": "173b069e-4369-4af3-9687-0725d073a43f",
   "metadata": {},
   "outputs": [
    {
     "data": {
      "text/plain": [
       "+----------+\n",
       "|      date|\n",
       "+----------+\n",
       "|2024-02-03|\n",
       "+----------+\n",
       "\n"
      ]
     },
     "execution_count": 209,
     "metadata": {},
     "output_type": "execute_result"
    }
   ],
   "source": [
    "%%sql\n",
    "\n",
    "SELECT from_unixtime(1706930435,'yyyy-MM-dd') as date"
   ]
  },
  {
   "cell_type": "code",
   "execution_count": 233,
   "id": "13e65e02-bf07-45c6-a4a8-855333bbfee4",
   "metadata": {},
   "outputs": [
    {
     "data": {
      "text/plain": [
       "+-------------------+\n",
       "|               date|\n",
       "+-------------------+\n",
       "|2024-02-03 03:20:35|\n",
       "+-------------------+\n",
       "\n"
      ]
     },
     "execution_count": 233,
     "metadata": {},
     "output_type": "execute_result"
    }
   ],
   "source": [
    "%%sql\n",
    "\n",
    "SELECT from_unixtime(1706930435,'yyyy-MM-dd HH:mm:ss') as date"
   ]
  },
  {
   "cell_type": "code",
   "execution_count": 234,
   "id": "fbf32e4f-43b6-4670-89d3-f9023e05935c",
   "metadata": {},
   "outputs": [
    {
     "data": {
      "text/plain": [
       "+----------+\n",
       "| timestamp|\n",
       "+----------+\n",
       "|1706930435|\n",
       "+----------+\n",
       "\n"
      ]
     },
     "execution_count": 234,
     "metadata": {},
     "output_type": "execute_result"
    }
   ],
   "source": [
    "%%sql\n",
    "\n",
    "SELECT to_unix_timestamp('2024-02-03 03:20:35') as timestamp"
   ]
  },
  {
   "cell_type": "code",
   "execution_count": 235,
   "id": "1456e3ea-13e2-427e-8297-917805240daa",
   "metadata": {},
   "outputs": [
    {
     "data": {
      "text/plain": [
       "+---------+\n",
       "|timestamp|\n",
       "+---------+\n",
       "|     null|\n",
       "+---------+\n",
       "\n"
      ]
     },
     "execution_count": 235,
     "metadata": {},
     "output_type": "execute_result"
    }
   ],
   "source": [
    "%%sql\n",
    "\n",
    "SELECT to_unix_timestamp('20240203 03:20:35') as timestamp"
   ]
  },
  {
   "cell_type": "code",
   "execution_count": 236,
   "id": "767f4ce5-6c38-4da3-9bc1-936a13a40516",
   "metadata": {},
   "outputs": [
    {
     "data": {
      "text/plain": [
       "+----------+\n",
       "| timestamp|\n",
       "+----------+\n",
       "|1706918400|\n",
       "+----------+\n",
       "\n"
      ]
     },
     "execution_count": 236,
     "metadata": {},
     "output_type": "execute_result"
    }
   ],
   "source": [
    "%%sql\n",
    "\n",
    "SELECT to_unix_timestamp('20240203 03:20:35','yyyyMMdd') as timestamp"
   ]
  },
  {
   "cell_type": "code",
   "execution_count": 237,
   "id": "8893a27d-0258-4230-8ee7-dd59725dc1a3",
   "metadata": {},
   "outputs": [
    {
     "data": {
      "text/plain": [
       "+----------+\n",
       "| timestamp|\n",
       "+----------+\n",
       "|1706930435|\n",
       "+----------+\n",
       "\n"
      ]
     },
     "execution_count": 237,
     "metadata": {},
     "output_type": "execute_result"
    }
   ],
   "source": [
    "%%sql\n",
    "\n",
    "SELECT to_unix_timestamp('20240203 03:20:35','yyyyMMdd HH:mm:ss') as timestamp"
   ]
  },
  {
   "cell_type": "markdown",
   "id": "4e6126d1-0ed7-4f35-b3e8-63b12debe9e8",
   "metadata": {},
   "source": [
    "### 143 Numeric functions"
   ]
  },
  {
   "cell_type": "code",
   "execution_count": 238,
   "id": "9353a026-dc4c-4c27-bec9-ea79cd706c2b",
   "metadata": {},
   "outputs": [
    {
     "data": {
      "text/plain": [
       "+----------+-------+\n",
       "|abs(-10.5)|abs(10)|\n",
       "+----------+-------+\n",
       "|      10.5|     10|\n",
       "+----------+-------+\n",
       "\n"
      ]
     },
     "execution_count": 238,
     "metadata": {},
     "output_type": "execute_result"
    }
   ],
   "source": [
    "%%sql\n",
    "\n",
    "SELECT abs(-10.5), abs(10)"
   ]
  },
  {
   "cell_type": "code",
   "execution_count": 240,
   "id": "60376f73-3406-4cdf-9bb4-213a00a78bde",
   "metadata": {},
   "outputs": [
    {
     "data": {
      "text/plain": [
       "+-------------------+-------------------+\n",
       "|order_item_order_id|order_item_subtotal|\n",
       "+-------------------+-------------------+\n",
       "|                  2|             199.99|\n",
       "|                  2|              250.0|\n",
       "|                  2|             129.99|\n",
       "+-------------------+-------------------+\n",
       "\n"
      ]
     },
     "execution_count": 240,
     "metadata": {},
     "output_type": "execute_result"
    }
   ],
   "source": [
    "%%sql\n",
    "\n",
    "SELECT order_item_order_id, order_item_subtotal FROM order_items\n",
    "WHERE order_item_order_id=2"
   ]
  },
  {
   "cell_type": "code",
   "execution_count": 241,
   "id": "0b2b0ded-e417-4a50-ac1d-eebd5a46c69c",
   "metadata": {},
   "outputs": [
    {
     "data": {
      "text/plain": [
       "+------------------------+\n",
       "|avg(order_item_subtotal)|\n",
       "+------------------------+\n",
       "|      193.32667032877603|\n",
       "+------------------------+\n",
       "\n"
      ]
     },
     "execution_count": 241,
     "metadata": {},
     "output_type": "execute_result"
    }
   ],
   "source": [
    "%%sql\n",
    "\n",
    "SELECT avg(order_item_subtotal) FROM order_items\n",
    "WHERE order_item_order_id=2"
   ]
  },
  {
   "cell_type": "code",
   "execution_count": 242,
   "id": "18303282-64af-46e5-b968-559da5a83934",
   "metadata": {},
   "outputs": [
    {
     "data": {
      "text/plain": [
       "+-------------------+-----------------+\n",
       "|order_item_order_id| order_revenu_avg|\n",
       "+-------------------+-----------------+\n",
       "|                  2|579.9800109863281|\n",
       "+-------------------+-----------------+\n",
       "\n"
      ]
     },
     "execution_count": 242,
     "metadata": {},
     "output_type": "execute_result"
    }
   ],
   "source": [
    "%%sql\n",
    "\n",
    "SELECT order_item_order_id,\n",
    "    sum(order_item_subtotal) as order_revenu_avg\n",
    "FROM order_items\n",
    "WHERE order_item_order_id=2\n",
    "GROUP BY order_item_order_id"
   ]
  },
  {
   "cell_type": "code",
   "execution_count": 243,
   "id": "d6745e85-f038-4ee2-9f40-fccea4928cde",
   "metadata": {},
   "outputs": [
    {
     "data": {
      "text/plain": [
       "+---+---+-----------+\n",
       "|rnd|flr|CEIL(10.58)|\n",
       "+---+---+-----------+\n",
       "| 11| 10|         11|\n",
       "+---+---+-----------+\n",
       "\n"
      ]
     },
     "execution_count": 243,
     "metadata": {},
     "output_type": "execute_result"
    }
   ],
   "source": [
    "%%sql\n",
    "\n",
    "SELECT \n",
    "    round(10.58) rnd,\n",
    "    floor(10.58) flr,\n",
    "    ceil(10.58)"
   ]
  },
  {
   "cell_type": "code",
   "execution_count": 244,
   "id": "9359361e-9b32-4fa5-9876-16b7001e5e3b",
   "metadata": {},
   "outputs": [
    {
     "data": {
      "text/plain": [
       "+----+----+----+---+-----------+\n",
       "|rnd1|rnd2|rnd3|flr|CEIL(10.44)|\n",
       "+----+----+----+---+-----------+\n",
       "|  10|10.4|10.5| 10|         11|\n",
       "+----+----+----+---+-----------+\n",
       "\n"
      ]
     },
     "execution_count": 244,
     "metadata": {},
     "output_type": "execute_result"
    }
   ],
   "source": [
    "%%sql\n",
    "\n",
    "SELECT \n",
    "    round(10.44) rnd1,\n",
    "    round(10.44,1) rnd2,\n",
    "    round(10.46,1) rnd3,\n",
    "    floor(10.44) flr,\n",
    "    ceil(10.44)"
   ]
  },
  {
   "cell_type": "code",
   "execution_count": 247,
   "id": "8a2f3d43-cadf-4f19-8298-6c075f726d56",
   "metadata": {},
   "outputs": [
    {
     "data": {
      "text/plain": [
       "      +- Relation[order_item_id#1986,order_item_order_id#1987,order_item_product_id#1...\n"
      ]
     },
     "metadata": {},
     "output_type": "display_data",
     "source": "user"
    },
    {
     "data": {
      "text/plain": [
       "Magic sql failed to execute with error: \n",
       "grouping expressions sequence is empty, and 'itversity_retail.order_items.`order_item_order_id`' is not an aggregate function. Wrap '(avg(CAST(itversity_retail.order_items.`order_item_subtotal` AS DOUBLE)) AS `order_revenue_avg`)' in windowing function(s) or wrap 'itversity_retail.order_items.`order_item_order_id`' in first() (or first_value) if you don't care which value you get.;;\n",
       "Aggregate [order_item_order_id#1987, avg(cast(order_item_subtotal#1990 as double)) AS order_revenue_avg#1985]\n",
       "+- Filter (order_item_order_id#1987 = 2)\n",
       "   +- SubqueryAlias `itversity_retail`.`order_items`\n",
       "      +- Relation[order_item_id#1986,order_item_order_id#1987,order_item_product_id#1988,order_item_quantity#1989,order_item_subtotal#1990,order_item_product_price#1991] parquet\n"
      ]
     },
     "execution_count": 247,
     "metadata": {},
     "output_type": "execute_result"
    }
   ],
   "source": [
    "%%sql\n",
    "\n",
    "SELECT order_item_order_id, avg(order_item_subtotal) AS order_revenue_avg\n",
    "FROM order_items\n",
    "WHERE order_item_order_id = 2"
   ]
  },
  {
   "cell_type": "code",
   "execution_count": 248,
   "id": "196541a9-22b1-49fc-a4c5-93ccb6bd14ca",
   "metadata": {},
   "outputs": [
    {
     "data": {
      "text/plain": [
       "+-------------------+------------------+\n",
       "|order_item_order_id| order_revenue_avg|\n",
       "+-------------------+------------------+\n",
       "|                  2|193.32667032877603|\n",
       "+-------------------+------------------+\n",
       "\n"
      ]
     },
     "execution_count": 248,
     "metadata": {},
     "output_type": "execute_result"
    }
   ],
   "source": [
    "%%sql\n",
    "\n",
    "SELECT order_item_order_id, avg(order_item_subtotal) AS order_revenue_avg\n",
    "FROM order_items\n",
    "WHERE order_item_order_id = 2\n",
    "GROUP BY order_item_order_id"
   ]
  },
  {
   "cell_type": "code",
   "execution_count": 251,
   "id": "0e486008-6c0a-48d0-a0c2-26ce70588700",
   "metadata": {},
   "outputs": [
    {
     "data": {
      "text/plain": [
       "+-------------------+---+------------------+\n",
       "|order_item_order_id|cnt| order_revenue_avg|\n",
       "+-------------------+---+------------------+\n",
       "|                  2|  3|193.32667032877603|\n",
       "+-------------------+---+------------------+\n",
       "\n"
      ]
     },
     "execution_count": 251,
     "metadata": {},
     "output_type": "execute_result"
    }
   ],
   "source": [
    "%%sql\n",
    "\n",
    "SELECT order_item_order_id,count(1) cnt, avg(order_item_subtotal) AS order_revenue_avg\n",
    "FROM order_items\n",
    "WHERE order_item_order_id = 2\n",
    "GROUP BY order_item_order_id"
   ]
  },
  {
   "cell_type": "code",
   "execution_count": 252,
   "id": "6de5bf69-8c85-46f8-adce-fedf76dac547",
   "metadata": {},
   "outputs": [
    {
     "data": {
      "text/plain": [
       "+-------------------+---+-----------------+\n",
       "|order_item_order_id|cnt|order_revenue_avg|\n",
       "+-------------------+---+-----------------+\n",
       "|                  2|  3|            193.0|\n",
       "+-------------------+---+-----------------+\n",
       "\n"
      ]
     },
     "execution_count": 252,
     "metadata": {},
     "output_type": "execute_result"
    }
   ],
   "source": [
    "%%sql\n",
    "\n",
    "SELECT order_item_order_id,count(1) cnt, round(avg(order_item_subtotal)) AS order_revenue_avg\n",
    "FROM order_items\n",
    "WHERE order_item_order_id = 2\n",
    "GROUP BY order_item_order_id"
   ]
  },
  {
   "cell_type": "code",
   "execution_count": 253,
   "id": "0eea39df-7450-4c0f-8b7e-b1b9ad8b9676",
   "metadata": {},
   "outputs": [
    {
     "data": {
      "text/plain": [
       "+-------------------+---+-----------------+\n",
       "|order_item_order_id|cnt|order_revenue_avg|\n",
       "+-------------------+---+-----------------+\n",
       "|                  2|  3|           193.33|\n",
       "+-------------------+---+-----------------+\n",
       "\n"
      ]
     },
     "execution_count": 253,
     "metadata": {},
     "output_type": "execute_result"
    }
   ],
   "source": [
    "%%sql\n",
    "\n",
    "SELECT order_item_order_id,count(1) cnt, round(avg(order_item_subtotal),2) AS order_revenue_avg\n",
    "FROM order_items\n",
    "WHERE order_item_order_id = 2\n",
    "GROUP BY order_item_order_id"
   ]
  },
  {
   "cell_type": "code",
   "execution_count": 254,
   "id": "0dbe5944-7a67-4341-988c-cf8f0564a5bd",
   "metadata": {},
   "outputs": [
    {
     "data": {
      "text/plain": [
       "+-------------------+---+-----------------+\n",
       "|order_item_order_id|cnt|order_revenue_avg|\n",
       "+-------------------+---+-----------------+\n",
       "|                243|  5|           235.98|\n",
       "|                392|  5|           241.97|\n",
       "|                540|  4|           152.48|\n",
       "|                623|  1|           239.96|\n",
       "|                737|  1|            49.98|\n",
       "|                858|  1|            100.0|\n",
       "|                897|  4|           282.48|\n",
       "|               1025|  3|           176.63|\n",
       "|               1084|  1|            100.0|\n",
       "|               1127|  1|            200.0|\n",
       "+-------------------+---+-----------------+\n",
       "\n"
      ]
     },
     "execution_count": 254,
     "metadata": {},
     "output_type": "execute_result"
    }
   ],
   "source": [
    "%%sql\n",
    "\n",
    "SELECT order_item_order_id,count(1) cnt, round(avg(order_item_subtotal),2) AS order_revenue_avg\n",
    "FROM order_items\n",
    "GROUP BY order_item_order_id\n",
    "limit 10"
   ]
  },
  {
   "cell_type": "code",
   "execution_count": 255,
   "id": "7df9e546-4bc5-4ec0-9ae9-20f32346a990",
   "metadata": {},
   "outputs": [
    {
     "data": {
      "text/plain": [
       "+-------------------+---+-----------------+\n",
       "|order_item_order_id|cnt|order_revenue_avg|\n",
       "+-------------------+---+-----------------+\n",
       "|              35450|  3|           579.94|\n",
       "|              35654|  4|           449.96|\n",
       "|              35800|  1|           129.99|\n",
       "|              35868|  4|           529.93|\n",
       "|              36106|  5|           839.86|\n",
       "|              36312|  2|           479.94|\n",
       "|              36655|  2|           379.93|\n",
       "|              36706|  4|          1399.86|\n",
       "|              36783|  4|           824.95|\n",
       "|              36982|  2|           559.94|\n",
       "+-------------------+---+-----------------+\n",
       "\n"
      ]
     },
     "execution_count": 255,
     "metadata": {},
     "output_type": "execute_result"
    }
   ],
   "source": [
    "%%sql\n",
    "\n",
    "SELECT order_item_order_id,count(1) cnt, round(sum(order_item_subtotal),2) AS order_revenue_avg\n",
    "FROM order_items\n",
    "GROUP BY order_item_order_id\n",
    "limit 10"
   ]
  },
  {
   "cell_type": "code",
   "execution_count": 257,
   "id": "0cdc372e-dc4e-4296-a96c-02bb3b580e65",
   "metadata": {},
   "outputs": [
    {
     "data": {
      "text/plain": [
       "+-----------------------+\n",
       "|greatest(10, 11, 13, 5)|\n",
       "+-----------------------+\n",
       "|                     13|\n",
       "+-----------------------+\n",
       "\n"
      ]
     },
     "execution_count": 257,
     "metadata": {},
     "output_type": "execute_result"
    }
   ],
   "source": [
    "%%sql\n",
    "\n",
    "SELECT greatest(10,11,13,5)"
   ]
  },
  {
   "cell_type": "code",
   "execution_count": 258,
   "id": "ee2ee9b2-f283-418b-808c-5e0e514aa184",
   "metadata": {},
   "outputs": [
    {
     "data": {
      "text/plain": [
       "+---------------------------+\n",
       "|greatest(-10, -11, -13, -5)|\n",
       "+---------------------------+\n",
       "|                         -5|\n",
       "+---------------------------+\n",
       "\n"
      ]
     },
     "execution_count": 258,
     "metadata": {},
     "output_type": "execute_result"
    }
   ],
   "source": [
    "%%sql\n",
    "\n",
    "SELECT greatest(-10,-11,-13,-5)"
   ]
  },
  {
   "cell_type": "code",
   "execution_count": 259,
   "id": "1d49301c-109e-4e25-9ed3-c4035eb19201",
   "metadata": {},
   "outputs": [
    {
     "data": {
      "text/plain": [
       "+------------------+\n",
       "|              rand|\n",
       "+------------------+\n",
       "|0.5316184803575679|\n",
       "+------------------+\n",
       "\n"
      ]
     },
     "execution_count": 259,
     "metadata": {},
     "output_type": "execute_result"
    }
   ],
   "source": [
    "%%sql\n",
    "\n",
    "SELECT rand() AS rand"
   ]
  },
  {
   "cell_type": "code",
   "execution_count": 262,
   "id": "4a4ba8b5-13e8-4d9f-b592-58b3162cadcb",
   "metadata": {},
   "outputs": [
    {
     "data": {
      "text/plain": [
       "+----+\n",
       "|rand|\n",
       "+----+\n",
       "| 987|\n",
       "+----+\n",
       "\n"
      ]
     },
     "execution_count": 262,
     "metadata": {},
     "output_type": "execute_result"
    }
   ],
   "source": [
    "%%sql\n",
    "\n",
    "SELECT cast(round(rand()*1000) AS INT) AS rand"
   ]
  },
  {
   "cell_type": "code",
   "execution_count": 264,
   "id": "3757e89c-8923-47d1-992d-f6c7c7605f8b",
   "metadata": {},
   "outputs": [
    {
     "data": {
      "text/plain": [
       "|           ...\n"
      ]
     },
     "metadata": {},
     "output_type": "display_data",
     "source": "user"
    },
    {
     "data": {
      "text/plain": [
       "+-------------------+-----------------+-----------------------+-----------------------+\n",
       "|order_item_order_id|order_revenue_avg|order_item_subtotal_min|order_item_subtotal_max|\n",
       "+-------------------+-----------------+-----------------------+-----------------------+\n",
       "|                148|           479.99|                  100.0|                  250.0|\n",
       "|                463|           829.92|                  39.99|                 299.97|\n",
       "|                471|           169.98|                  39.99|                 129.99|\n",
       "|                496|           441.95|                  49.98|                  150.0|\n",
       "|               1088|           249.97|                 119.98|                 129.99|\n",
       "|               1580|           299.95|                 299.95|                 299.95|\n",
       "|               1591|           439.86|                  39.99|                 199.95|\n",
       "|               1645|          1509.79|                 159.96|                 399.98|\n",
       "|               2366|           299.97|                 299.97|                 299.97|\n",
       "|               2659|           724.91|                  49.98|                 299.98|\n",
       "+-------------------+-----------------+-----------------------+-----------------------+\n",
       "\n"
      ]
     },
     "execution_count": 264,
     "metadata": {},
     "output_type": "execute_result"
    }
   ],
   "source": [
    "%%sql\n",
    "\n",
    "SELECT order_item_order_id, round(sum(order_item_subtotal),2) AS order_revenue_avg,\n",
    "    min(order_item_subtotal) AS order_item_subtotal_min,\n",
    "    max(order_item_subtotal) AS order_item_subtotal_max\n",
    "FROM order_items\n",
    "GROUP BY order_item_order_id\n",
    "LIMIT 10"
   ]
  },
  {
   "cell_type": "code",
   "execution_count": 265,
   "id": "28ecad3e-1128-43a9-8bd2-4ba73c19e829",
   "metadata": {},
   "outputs": [
    {
     "data": {
      "text/plain": [
       "+-------------------+-----------------+-----------------------+-----------------------+\n",
       "|order_item_order_id|order_revenue_avg|order_item_subtotal_min|order_item_subtotal_max|\n",
       "+-------------------+-----------------+-----------------------+-----------------------+\n",
       "|                  2|           579.98|                 129.99|                  250.0|\n",
       "+-------------------+-----------------+-----------------------+-----------------------+\n",
       "\n"
      ]
     },
     "execution_count": 265,
     "metadata": {},
     "output_type": "execute_result"
    }
   ],
   "source": [
    "%%sql\n",
    "\n",
    "SELECT order_item_order_id, round(sum(order_item_subtotal),2) AS order_revenue_avg,\n",
    "    min(order_item_subtotal) AS order_item_subtotal_min,\n",
    "    max(order_item_subtotal) AS order_item_subtotal_max\n",
    "FROM order_items\n",
    "where order_item_order_id=2\n",
    "GROUP BY order_item_order_id"
   ]
  },
  {
   "cell_type": "code",
   "execution_count": 267,
   "id": "373ee043-2e51-4747-b8d2-5e835c9be43f",
   "metadata": {},
   "outputs": [
    {
     "data": {
      "text/plain": [
       "+-------------------+\n",
       "|order_item_subtotal|\n",
       "+-------------------+\n",
       "|             199.99|\n",
       "|              250.0|\n",
       "|             129.99|\n",
       "+-------------------+\n",
       "\n"
      ]
     },
     "execution_count": 267,
     "metadata": {},
     "output_type": "execute_result"
    }
   ],
   "source": [
    "%%sql\n",
    "\n",
    "SELECT order_item_subtotal\n",
    "FROM order_items\n",
    "where order_item_order_id=2\n"
   ]
  },
  {
   "cell_type": "markdown",
   "id": "595b5a28-2773-47f4-9994-e7f7cbbcee1d",
   "metadata": {},
   "source": [
    "### 144 Data type conversion"
   ]
  },
  {
   "cell_type": "code",
   "execution_count": 269,
   "id": "d82dc8e6-b474-4339-badb-7789dad96ee6",
   "metadata": {},
   "outputs": [
    {
     "data": {
      "text/plain": [
       "+------------+\n",
       "|current_date|\n",
       "+------------+\n",
       "|  2024-02-03|\n",
       "+------------+\n",
       "\n"
      ]
     },
     "execution_count": 269,
     "metadata": {},
     "output_type": "execute_result"
    }
   ],
   "source": [
    "%%sql\n",
    "\n",
    "SELECT current_date AS current_date"
   ]
  },
  {
   "cell_type": "code",
   "execution_count": 270,
   "id": "daf599cb-e87b-4eb8-b532-a77d92405725",
   "metadata": {},
   "outputs": [
    {
     "data": {
      "text/plain": [
       "+--------------+\n",
       "|    split_date|\n",
       "+--------------+\n",
       "|[2024, 02, 03]|\n",
       "+--------------+\n",
       "\n"
      ]
     },
     "execution_count": 270,
     "metadata": {},
     "output_type": "execute_result"
    }
   ],
   "source": [
    "%%sql\n",
    "\n",
    "SELECT split(current_date,'-') split_date"
   ]
  },
  {
   "cell_type": "code",
   "execution_count": 271,
   "id": "f777dbf7-32fd-4df7-8861-1844dc8f3981",
   "metadata": {},
   "outputs": [
    {
     "data": {
      "text/plain": [
       "+----------+\n",
       "|split_date|\n",
       "+----------+\n",
       "|      2024|\n",
       "|        02|\n",
       "|        03|\n",
       "+----------+\n",
       "\n"
      ]
     },
     "execution_count": 271,
     "metadata": {},
     "output_type": "execute_result"
    }
   ],
   "source": [
    "%%sql\n",
    "\n",
    "SELECT explode(split(current_date,'-')) split_date"
   ]
  },
  {
   "cell_type": "code",
   "execution_count": 273,
   "id": "a36919bb-f41b-4489-b820-c892996e92c4",
   "metadata": {},
   "outputs": [
    {
     "data": {
      "text/plain": [
       "+-----+\n",
       "|month|\n",
       "+-----+\n",
       "|   02|\n",
       "+-----+\n",
       "\n"
      ]
     },
     "execution_count": 273,
     "metadata": {},
     "output_type": "execute_result"
    }
   ],
   "source": [
    "%%sql\n",
    "\n",
    "SELECT split(current_date,'-')[1] as month"
   ]
  },
  {
   "cell_type": "code",
   "execution_count": 274,
   "id": "272f42d2-aa5b-4f22-9937-3e2578e72b35",
   "metadata": {},
   "outputs": [
    {
     "data": {
      "text/plain": [
       "+-----+\n",
       "|month|\n",
       "+-----+\n",
       "|    2|\n",
       "+-----+\n",
       "\n"
      ]
     },
     "execution_count": 274,
     "metadata": {},
     "output_type": "execute_result"
    }
   ],
   "source": [
    "%%sql\n",
    "\n",
    "SELECT CAST(split(current_date,'-')[1] AS INT) as month"
   ]
  },
  {
   "cell_type": "code",
   "execution_count": 275,
   "id": "fbbef0de-40ae-460d-8a00-44426c75c171",
   "metadata": {},
   "outputs": [
    {
     "data": {
      "text/plain": [
       "+------+\n",
       "|result|\n",
       "+------+\n",
       "|  0.04|\n",
       "+------+\n",
       "\n"
      ]
     },
     "execution_count": 275,
     "metadata": {},
     "output_type": "execute_result"
    }
   ],
   "source": [
    "%%sql\n",
    "\n",
    "SELECT CAST('0.04' as FLOAT) AS result"
   ]
  },
  {
   "cell_type": "code",
   "execution_count": 277,
   "id": "1fd13f74-1c55-4363-bd62-15aa6a276116",
   "metadata": {},
   "outputs": [
    {
     "data": {
      "text/plain": [
       "+----+\n",
       "|zero|\n",
       "+----+\n",
       "|   0|\n",
       "+----+\n",
       "\n"
      ]
     },
     "execution_count": 277,
     "metadata": {},
     "output_type": "execute_result"
    }
   ],
   "source": [
    "%%sql\n",
    "\n",
    "SELECT CAST('0.04' as INT) AS zero"
   ]
  },
  {
   "cell_type": "code",
   "execution_count": 278,
   "id": "4381a162-0941-4e2e-9ef7-40960f797fd7",
   "metadata": {},
   "outputs": [
    {
     "data": {
      "text/plain": [
       "+------+\n",
       "|asnull|\n",
       "+------+\n",
       "|  null|\n",
       "+------+\n",
       "\n"
      ]
     },
     "execution_count": 278,
     "metadata": {},
     "output_type": "execute_result"
    }
   ],
   "source": [
    "%%sql\n",
    "\n",
    "SELECT CAST('xyz' as INT) AS asnull"
   ]
  },
  {
   "cell_type": "code",
   "execution_count": 279,
   "id": "b246bffa-16bd-4182-a2d4-f8b26a825ca7",
   "metadata": {},
   "outputs": [
    {
     "data": {
      "text/plain": [
       "++\n",
       "||\n",
       "++\n",
       "++\n",
       "\n"
      ]
     },
     "execution_count": 279,
     "metadata": {},
     "output_type": "execute_result"
    }
   ],
   "source": [
    "%%sql\n",
    "\n",
    "CREATE EXTERNAL TABLE IF NOT EXISTS orders_single_column(\n",
    "    s STRING\n",
    ") LOCATION '/user/itversity/warehouse/itversity_retail.db/orders'"
   ]
  },
  {
   "cell_type": "code",
   "execution_count": 280,
   "id": "c80ee41e-e2b1-4d92-9532-95a8305e0fd0",
   "metadata": {},
   "outputs": [
    {
     "data": {
      "text/plain": [
       "+--------------------+\n",
       "|                   s|\n",
       "+--------------------+\n",
       "|1,2013-07-25 00:0...|\n",
       "|2,2013-07-25 00:0...|\n",
       "|3,2013-07-25 00:0...|\n",
       "|4,2013-07-25 00:0...|\n",
       "|5,2013-07-25 00:0...|\n",
       "+--------------------+\n",
       "\n"
      ]
     },
     "execution_count": 280,
     "metadata": {},
     "output_type": "execute_result"
    }
   ],
   "source": [
    "%%sql\n",
    "\n",
    "SELECT * FROM orders_single_column LIMIT 5"
   ]
  },
  {
   "cell_type": "code",
   "execution_count": 288,
   "id": "53aa0c1f-7048-4460-8fb9-7baa4f470ac9",
   "metadata": {},
   "outputs": [
    {
     "data": {
      "text/plain": [
       "+--------+--------------------+-----------------+---------------+\n",
       "|order_id|          order_date|order_customer_id|   order_status|\n",
       "+--------+--------------------+-----------------+---------------+\n",
       "|       1|2013-07-25 00:00:...|            11599|         CLOSED|\n",
       "|       2|2013-07-25 00:00:...|              256|PENDING_PAYMENT|\n",
       "|       3|2013-07-25 00:00:...|            12111|       COMPLETE|\n",
       "|       4|2013-07-25 00:00:...|             8827|         CLOSED|\n",
       "|       5|2013-07-25 00:00:...|            11318|       COMPLETE|\n",
       "+--------+--------------------+-----------------+---------------+\n",
       "\n"
      ]
     },
     "execution_count": 288,
     "metadata": {},
     "output_type": "execute_result"
    }
   ],
   "source": [
    "%%sql\n",
    "\n",
    "SELECT \n",
    "    CAST(SPLIT(s,',')[0] as INT) AS order_id,\n",
    "    CAST(SPLIT(s,',')[1] as STRING) AS order_date,\n",
    "    CAST(SPLIT(s,',')[2] as INT) AS order_customer_id,\n",
    "    CAST(SPLIT(s,',')[3] as STRING) AS order_status\n",
    "FROM orders_single_column\n",
    "limit 5"
   ]
  },
  {
   "cell_type": "code",
   "execution_count": null,
   "id": "21139e5d-97ef-459b-9a8c-e04ece39f672",
   "metadata": {},
   "outputs": [],
   "source": [
    "%%sql"
   ]
  },
  {
   "cell_type": "markdown",
   "id": "cb20ecd7-0ec2-4969-98b7-fd66a67dfd5d",
   "metadata": {},
   "source": [
    "### 145 Dealing with NUlls"
   ]
  },
  {
   "cell_type": "code",
   "execution_count": 289,
   "id": "839ecaf7-7819-4289-801e-e28069303fab",
   "metadata": {},
   "outputs": [
    {
     "data": {
      "text/plain": [
       "+------+\n",
       "|result|\n",
       "+------+\n",
       "|  null|\n",
       "+------+\n",
       "\n"
      ]
     },
     "execution_count": 289,
     "metadata": {},
     "output_type": "execute_result"
    }
   ],
   "source": [
    "%%sql\n",
    "\n",
    "SELECT 1 + null as result"
   ]
  },
  {
   "cell_type": "code",
   "execution_count": 290,
   "id": "efcd9d8b-03b8-4ea3-a8ce-5eb4bf333f82",
   "metadata": {},
   "outputs": [
    {
     "data": {
      "text/plain": [
       "+------+\n",
       "|result|\n",
       "+------+\n",
       "|  null|\n",
       "+------+\n",
       "\n"
      ]
     },
     "execution_count": 290,
     "metadata": {},
     "output_type": "execute_result"
    }
   ],
   "source": [
    "%%sql\n",
    "\n",
    "SELECT concat('Hello', NULL) as result"
   ]
  },
  {
   "cell_type": "code",
   "execution_count": 291,
   "id": "a5af3158-d237-4b48-a159-81cdcbe10a6a",
   "metadata": {},
   "outputs": [
    {
     "data": {
      "text/plain": [
       "+---+--------+\n",
       "|nvl|coalesce|\n",
       "+---+--------+\n",
       "|  1|       1|\n",
       "+---+--------+\n",
       "\n"
      ]
     },
     "execution_count": 291,
     "metadata": {},
     "output_type": "execute_result"
    }
   ],
   "source": [
    "%%sql\n",
    "\n",
    "SELECT nvl(1,0) nvl, coalesce(1,0) AS coalesce"
   ]
  },
  {
   "cell_type": "code",
   "execution_count": 292,
   "id": "c86e1169-d37d-4b84-a2ec-2446c29c3df2",
   "metadata": {},
   "outputs": [
    {
     "data": {
      "text/plain": [
       "+---+--------+\n",
       "|nvl|coalesce|\n",
       "+---+--------+\n",
       "|  0|       1|\n",
       "+---+--------+\n",
       "\n"
      ]
     },
     "execution_count": 292,
     "metadata": {},
     "output_type": "execute_result"
    }
   ],
   "source": [
    "%%sql\n",
    "\n",
    "SELECT nvl(NULL,0) nvl, coalesce(1,0) AS coalesce"
   ]
  },
  {
   "cell_type": "code",
   "execution_count": 293,
   "id": "b3b33459-66e3-49af-b6f7-1690c1f1a32d",
   "metadata": {},
   "outputs": [
    {
     "data": {
      "text/plain": [
       "+------+\n",
       "|result|\n",
       "+------+\n",
       "|     2|\n",
       "+------+\n",
       "\n"
      ]
     },
     "execution_count": 293,
     "metadata": {},
     "output_type": "execute_result"
    }
   ],
   "source": [
    "%%sql\n",
    "\n",
    "SELECT coalesce(NULL,NULL,2,NULL,3) AS result"
   ]
  },
  {
   "cell_type": "code",
   "execution_count": 294,
   "id": "bdb8fc3b-f111-44ed-b13d-a0092fa5d1cf",
   "metadata": {},
   "outputs": [
    {
     "data": {
      "text/plain": [
       "Magic sql failed to execute with error: \n",
       "Invalid number of arguments for function nvl. Expected: 2; Found: 5; line 1 pos 7"
      ]
     },
     "execution_count": 294,
     "metadata": {},
     "output_type": "execute_result"
    }
   ],
   "source": [
    "%%sql\n",
    "\n",
    "SELECT nvl(NULL,NULL,2,NULL,3) AS result"
   ]
  },
  {
   "cell_type": "code",
   "execution_count": 295,
   "id": "1d8ab16b-f4c9-4b10-ac6b-56c624e10ba1",
   "metadata": {},
   "outputs": [
    {
     "data": {
      "text/plain": [
       "++\n",
       "||\n",
       "++\n",
       "++\n",
       "\n"
      ]
     },
     "execution_count": 295,
     "metadata": {},
     "output_type": "execute_result"
    }
   ],
   "source": [
    "%%sql\n",
    "\n",
    "use itversity_retail"
   ]
  },
  {
   "cell_type": "code",
   "execution_count": 296,
   "id": "3f56a584-45a7-447b-b36c-5be8047b7565",
   "metadata": {},
   "outputs": [
    {
     "data": {
      "text/plain": [
       "++\n",
       "||\n",
       "++\n",
       "++\n",
       "\n"
      ]
     },
     "execution_count": 296,
     "metadata": {},
     "output_type": "execute_result"
    }
   ],
   "source": [
    "%%sql\n",
    "\n",
    "DROP TABLE IF EXISTS sales"
   ]
  },
  {
   "cell_type": "code",
   "execution_count": 297,
   "id": "0da01f2e-15f0-40e1-b9bb-974725d8e1d4",
   "metadata": {},
   "outputs": [
    {
     "data": {
      "text/plain": [
       "++\n",
       "||\n",
       "++\n",
       "++\n",
       "\n"
      ]
     },
     "execution_count": 297,
     "metadata": {},
     "output_type": "execute_result"
    }
   ],
   "source": [
    "%%sql\n",
    "\n",
    "CREATE TABLE IF NOT EXISTS sales(\n",
    "    sales_person_id INT,\n",
    "    sales_amount FLOAT,\n",
    "    commission_pct INT\n",
    ")"
   ]
  },
  {
   "cell_type": "code",
   "execution_count": 298,
   "id": "a2f3a056-e6b1-4e4f-8a6a-65e05bb61c99",
   "metadata": {},
   "outputs": [
    {
     "data": {
      "text/plain": [
       "++\n",
       "||\n",
       "++\n",
       "++\n",
       "\n"
      ]
     },
     "execution_count": 298,
     "metadata": {},
     "output_type": "execute_result"
    }
   ],
   "source": [
    "%%sql\n",
    "\n",
    "INSERT INTO sales VALUES\n",
    "    (1, 1000, 10),\n",
    "    (2, 1500, 8),\n",
    "    (3, 500, NULL),\n",
    "    (4, 800, 5),\n",
    "    (5, 250, NULL)"
   ]
  },
  {
   "cell_type": "code",
   "execution_count": 299,
   "id": "da13d0aa-11df-4b84-bebf-70e2585e93d4",
   "metadata": {},
   "outputs": [
    {
     "data": {
      "text/plain": [
       "+---------------+------------+--------------+\n",
       "|sales_person_id|sales_amount|commission_pct|\n",
       "+---------------+------------+--------------+\n",
       "|              1|      1000.0|            10|\n",
       "|              2|      1500.0|             8|\n",
       "|              3|       500.0|          null|\n",
       "|              4|       800.0|             5|\n",
       "|              5|       250.0|          null|\n",
       "+---------------+------------+--------------+\n",
       "\n"
      ]
     },
     "execution_count": 299,
     "metadata": {},
     "output_type": "execute_result"
    }
   ],
   "source": [
    "%%sql\n",
    "\n",
    "SELECT * FROM sales"
   ]
  },
  {
   "cell_type": "code",
   "execution_count": 301,
   "id": "f851c4b1-5199-488f-88d6-6d3cd7a6d102",
   "metadata": {},
   "outputs": [
    {
     "data": {
      "text/plain": [
       "+---------------+------------+--------------+--------------+\n",
       "|sales_person_id|sales_amount|commission_pct|commission_pct|\n",
       "+---------------+------------+--------------+--------------+\n",
       "|              1|      1000.0|            10|            10|\n",
       "|              2|      1500.0|             8|             8|\n",
       "|              3|       500.0|          null|             0|\n",
       "|              4|       800.0|             5|             5|\n",
       "|              5|       250.0|          null|             0|\n",
       "+---------------+------------+--------------+--------------+\n",
       "\n"
      ]
     },
     "execution_count": 301,
     "metadata": {},
     "output_type": "execute_result"
    }
   ],
   "source": [
    "%%sql\n",
    "\n",
    "SELECT S.*,\n",
    "    nvl(commission_pct, 0) AS commission_pct\n",
    "FROM sales as s"
   ]
  },
  {
   "cell_type": "code",
   "execution_count": 302,
   "id": "3559f4c8-b720-4d95-adec-e5758290b7da",
   "metadata": {},
   "outputs": [
    {
     "data": {
      "text/plain": [
       "+---------------+------------+--------------+--------------+\n",
       "|sales_person_id|sales_amount|commission_pct|commission_pct|\n",
       "+---------------+------------+--------------+--------------+\n",
       "|              1|      1000.0|            10|            10|\n",
       "|              2|      1500.0|             8|             8|\n",
       "|              3|       500.0|          null|             0|\n",
       "|              4|       800.0|             5|             5|\n",
       "|              5|       250.0|          null|             0|\n",
       "+---------------+------------+--------------+--------------+\n",
       "\n"
      ]
     },
     "execution_count": 302,
     "metadata": {},
     "output_type": "execute_result"
    }
   ],
   "source": [
    "%%sql\n",
    "\n",
    "SELECT S.*,\n",
    "    coalesce(commission_pct, 0) AS commission_pct\n",
    "FROM sales as s"
   ]
  },
  {
   "cell_type": "code",
   "execution_count": 305,
   "id": "0cd9ad58-eb3b-4318-8621-041894cb4deb",
   "metadata": {},
   "outputs": [
    {
     "data": {
      "text/plain": [
       "+---------------+------------+--------------+---------------------------+\n",
       "|sales_person_id|sales_amount|commission_pct|incorrect_commission_amount|\n",
       "+---------------+------------+--------------+---------------------------+\n",
       "|              1|      1000.0|            10|                      100.0|\n",
       "|              2|      1500.0|             8|                      120.0|\n",
       "|              3|       500.0|          null|                       null|\n",
       "|              4|       800.0|             5|                       40.0|\n",
       "|              5|       250.0|          null|                       null|\n",
       "+---------------+------------+--------------+---------------------------+\n",
       "\n"
      ]
     },
     "execution_count": 305,
     "metadata": {},
     "output_type": "execute_result"
    }
   ],
   "source": [
    "%%sql\n",
    "\n",
    "SELECT S.*,\n",
    "    round(sales_amount*commission_pct/100, 2) AS incorrect_commission_amount\n",
    "FROM sales as s"
   ]
  },
  {
   "cell_type": "code",
   "execution_count": 306,
   "id": "daf7fb3b-ae96-4a81-8c3f-8468dfd966e8",
   "metadata": {},
   "outputs": [
    {
     "data": {
      "text/plain": [
       "+---------------+------------+--------------+---------------------------+\n",
       "|sales_person_id|sales_amount|commission_pct|incorrect_commission_amount|\n",
       "+---------------+------------+--------------+---------------------------+\n",
       "|              1|      1000.0|            10|                      100.0|\n",
       "|              2|      1500.0|             8|                      120.0|\n",
       "|              3|       500.0|          null|                        0.0|\n",
       "|              4|       800.0|             5|                       40.0|\n",
       "|              5|       250.0|          null|                        0.0|\n",
       "+---------------+------------+--------------+---------------------------+\n",
       "\n"
      ]
     },
     "execution_count": 306,
     "metadata": {},
     "output_type": "execute_result"
    }
   ],
   "source": [
    "%%sql\n",
    "\n",
    "SELECT S.*,\n",
    "    round(sales_amount*nvl(commission_pct/100,0), 2) AS incorrect_commission_amount\n",
    "FROM sales as s"
   ]
  },
  {
   "cell_type": "code",
   "execution_count": 307,
   "id": "98b4dbbc-c9c4-46c6-86be-d55ab3c3755f",
   "metadata": {},
   "outputs": [
    {
     "data": {
      "text/plain": [
       "+---------------+------------+--------------+---------------------------+\n",
       "|sales_person_id|sales_amount|commission_pct|incorrect_commission_amount|\n",
       "+---------------+------------+--------------+---------------------------+\n",
       "|              1|      1000.0|            10|                      100.0|\n",
       "|              2|      1500.0|             8|                      120.0|\n",
       "|              3|       500.0|          null|                        0.0|\n",
       "|              4|       800.0|             5|                       40.0|\n",
       "|              5|       250.0|          null|                        0.0|\n",
       "+---------------+------------+--------------+---------------------------+\n",
       "\n"
      ]
     },
     "execution_count": 307,
     "metadata": {},
     "output_type": "execute_result"
    }
   ],
   "source": [
    "%%sql\n",
    "\n",
    "SELECT S.*,\n",
    "    round(sales_amount*coalesce(commission_pct/100,0), 2) AS incorrect_commission_amount\n",
    "FROM sales as s"
   ]
  },
  {
   "cell_type": "code",
   "execution_count": 308,
   "id": "fc992fc6-7ade-4a7d-8d88-e9e30892ef00",
   "metadata": {},
   "outputs": [
    {
     "data": {
      "text/plain": [
       "+---------------+------------+--------------+------------------+\n",
       "|sales_person_id|sales_amount|commission_pct|new_commission_pct|\n",
       "+---------------+------------+--------------+------------------+\n",
       "|              1|      1000.0|            10|                11|\n",
       "|              2|      1500.0|             8|                 9|\n",
       "|              3|       500.0|          null|                 2|\n",
       "|              4|       800.0|             5|                 6|\n",
       "|              5|       250.0|          null|                 2|\n",
       "+---------------+------------+--------------+------------------+\n",
       "\n"
      ]
     },
     "execution_count": 308,
     "metadata": {},
     "output_type": "execute_result"
    }
   ],
   "source": [
    "%%sql\n",
    "\n",
    "SELECT S.*,\n",
    "    nvl2(commission_pct,commission_pct+1, 2) as new_commission_pct\n",
    "FROM sales as s"
   ]
  },
  {
   "cell_type": "code",
   "execution_count": 309,
   "id": "129dcc17-1779-411b-a126-41942193451b",
   "metadata": {},
   "outputs": [
    {
     "data": {
      "text/plain": [
       "+---------------+------------+--------------+---------------------+\n",
       "|sales_person_id|sales_amount|commission_pct|new_commission_amount|\n",
       "+---------------+------------+--------------+---------------------+\n",
       "|              1|      1000.0|            10|                110.0|\n",
       "|              2|      1500.0|             8|                135.0|\n",
       "|              3|       500.0|          null|                 10.0|\n",
       "|              4|       800.0|             5|                 48.0|\n",
       "|              5|       250.0|          null|                  5.0|\n",
       "+---------------+------------+--------------+---------------------+\n",
       "\n"
      ]
     },
     "execution_count": 309,
     "metadata": {},
     "output_type": "execute_result"
    }
   ],
   "source": [
    "%%sql\n",
    "\n",
    "SELECT S.*,\n",
    "    round(sales_amount*nvl2(commission_pct,commission_pct+1, 2)/100,2) as new_commission_amount\n",
    "FROM sales as s"
   ]
  },
  {
   "cell_type": "code",
   "execution_count": 310,
   "id": "6778c69d-0c4c-4be6-aca7-af03e177f3c2",
   "metadata": {},
   "outputs": [
    {
     "data": {
      "text/plain": [
       "+---------------+------------+--------------+-------------+\n",
       "|sales_person_id|sales_amount|commission_pct|comission_pct|\n",
       "+---------------+------------+--------------+-------------+\n",
       "|              1|      1000.0|            10|           11|\n",
       "|              2|      1500.0|             8|            9|\n",
       "|              3|       500.0|          null|            2|\n",
       "|              4|       800.0|             5|            6|\n",
       "|              5|       250.0|          null|            2|\n",
       "+---------------+------------+--------------+-------------+\n",
       "\n"
      ]
     },
     "execution_count": 310,
     "metadata": {},
     "output_type": "execute_result"
    }
   ],
   "source": [
    "%%sql\n",
    "\n",
    "SELECT S.*,\n",
    "    CASE WHEN commission_pct is NULL\n",
    "        THEN 2\n",
    "        ELSE commission_pct + 1\n",
    "    END AS comission_pct\n",
    "FROM sales AS s\n",
    "    "
   ]
  },
  {
   "cell_type": "code",
   "execution_count": 312,
   "id": "2ceecb29-8b8f-4fe7-8409-a35edcbcc550",
   "metadata": {},
   "outputs": [
    {
     "data": {
      "text/plain": [
       "+---------------+------------+--------------+-------------+\n",
       "|sales_person_id|sales_amount|commission_pct|comission_pct|\n",
       "+---------------+------------+--------------+-------------+\n",
       "|              1|      1000.0|            10|        110.0|\n",
       "|              2|      1500.0|             8|        135.0|\n",
       "|              3|       500.0|          null|         10.0|\n",
       "|              4|       800.0|             5|         48.0|\n",
       "|              5|       250.0|          null|          5.0|\n",
       "+---------------+------------+--------------+-------------+\n",
       "\n"
      ]
     },
     "execution_count": 312,
     "metadata": {},
     "output_type": "execute_result"
    }
   ],
   "source": [
    "%%sql\n",
    "\n",
    "SELECT S.*,\n",
    "    CASE WHEN commission_pct is NULL\n",
    "        THEN round(sales_amount * 2/100,2)\n",
    "        ELSE round(sales_amount * (commission_pct + 1)/100, 2)\n",
    "    END AS comission_pct\n",
    "FROM sales AS s\n",
    "    "
   ]
  },
  {
   "cell_type": "markdown",
   "id": "c04768e3-04e2-45a0-85d5-39ce149c2bd1",
   "metadata": {},
   "source": [
    "### 146 CASE WHEN "
   ]
  },
  {
   "cell_type": "code",
   "execution_count": 313,
   "id": "f6ab8e6a-ab2a-465d-837a-cfce42a05bff",
   "metadata": {},
   "outputs": [
    {
     "data": {
      "text/plain": [
       "+---------------+\n",
       "|   order_status|\n",
       "+---------------+\n",
       "|PENDING_PAYMENT|\n",
       "|       COMPLETE|\n",
       "|        ON_HOLD|\n",
       "| PAYMENT_REVIEW|\n",
       "|     PROCESSING|\n",
       "|         CLOSED|\n",
       "|SUSPECTED_FRAUD|\n",
       "|        PENDING|\n",
       "|       CANCELED|\n",
       "+---------------+\n",
       "\n"
      ]
     },
     "execution_count": 313,
     "metadata": {},
     "output_type": "execute_result"
    }
   ],
   "source": [
    "%%sql\n",
    "\n",
    "SELECT DISTINCT order_status FROM orders LIMIT 10"
   ]
  },
  {
   "cell_type": "code",
   "execution_count": 314,
   "id": "6ec3341a-b3cb-4631-be87-e2687a24f058",
   "metadata": {},
   "outputs": [
    {
     "data": {
      "text/plain": [
       "+----------------------------+\n",
       "|count(DISTINCT order_status)|\n",
       "+----------------------------+\n",
       "|                           9|\n",
       "+----------------------------+\n",
       "\n"
      ]
     },
     "execution_count": 314,
     "metadata": {},
     "output_type": "execute_result"
    }
   ],
   "source": [
    "%%sql\n",
    "\n",
    "SELECT count(DISTINCT order_status) FROM orders LIMIT 10"
   ]
  },
  {
   "cell_type": "code",
   "execution_count": 318,
   "id": "08635457-ad4c-4a93-893f-1ae21f2fd109",
   "metadata": {},
   "outputs": [
    {
     "data": {
      "text/plain": [
       "|   34570|2014-02-2...\n"
      ]
     },
     "metadata": {},
     "output_type": "display_data",
     "source": "user"
    },
    {
     "data": {
      "text/plain": [
       "+--------+--------------------+-----------------+---------------+--------------------+\n",
       "|order_id|          order_date|order_customer_id|   order_status|updated_order_status|\n",
       "+--------+--------------------+-----------------+---------------+--------------------+\n",
       "|   34565|2014-02-23 00:00:...|             8702|       COMPLETE|           COMPLETED|\n",
       "|   34566|2014-02-23 00:00:...|             3066|PENDING_PAYMENT|             PENDING|\n",
       "|   34567|2014-02-23 00:00:...|             7314|SUSPECTED_FRAUD|               OTHER|\n",
       "|   34568|2014-02-23 00:00:...|             1271|       COMPLETE|           COMPLETED|\n",
       "|   34569|2014-02-23 00:00:...|            11083|       COMPLETE|           COMPLETED|\n",
       "|   34570|2014-02-23 00:00:...|             3159|         CLOSED|           COMPLETED|\n",
       "|   34571|2014-02-23 00:00:...|             4551|         CLOSED|           COMPLETED|\n",
       "|   34572|2014-02-23 00:00:...|             8135|        PENDING|             PENDING|\n",
       "|   34573|2014-02-23 00:00:...|             7497|PENDING_PAYMENT|             PENDING|\n",
       "|   34574|2014-02-23 00:00:...|             1868|        ON_HOLD|               OTHER|\n",
       "+--------+--------------------+-----------------+---------------+--------------------+\n",
       "\n"
      ]
     },
     "execution_count": 318,
     "metadata": {},
     "output_type": "execute_result"
    }
   ],
   "source": [
    "%%sql\n",
    "\n",
    "SELECT o.*,\n",
    "    CASE \n",
    "        WHEN order_status IN('COMPLETE','CLOSED') THEN 'COMPLETED'\n",
    "        WHEN order_status LIKE '%PENDING%' THEN 'PENDING'\n",
    "        ELSE 'OTHER'\n",
    "    END AS updated_order_status\n",
    "FROM orders AS o\n",
    "LIMIT 10"
   ]
  },
  {
   "cell_type": "code",
   "execution_count": 320,
   "id": "f80bcfa6-3f5c-41cb-a604-8f380a0a88dc",
   "metadata": {},
   "outputs": [
    {
     "data": {
      "text/plain": [
       "|       6|2013-07-2...\n"
      ]
     },
     "metadata": {},
     "output_type": "display_data",
     "source": "user"
    },
    {
     "data": {
      "text/plain": [
       "+--------+--------------------+-----------------+---------------+--------------------+\n",
       "|order_id|          order_date|order_customer_id|   order_status|updated_order_status|\n",
       "+--------+--------------------+-----------------+---------------+--------------------+\n",
       "|       1|2013-07-25 00:00:...|            11599|         CLOSED|           COMPLETED|\n",
       "|       2|2013-07-25 00:00:...|              256|PENDING_PAYMENT|             PENDING|\n",
       "|       3|2013-07-25 00:00:...|            12111|       COMPLETE|           COMPLETED|\n",
       "|       4|2013-07-25 00:00:...|             8827|         CLOSED|           COMPLETED|\n",
       "|       5|2013-07-25 00:00:...|            11318|       COMPLETE|           COMPLETED|\n",
       "|       6|2013-07-25 00:00:...|             7130|       COMPLETE|           COMPLETED|\n",
       "|       7|2013-07-25 00:00:...|             4530|       COMPLETE|           COMPLETED|\n",
       "|       8|2013-07-25 00:00:...|             2911|     PROCESSING|             PENDING|\n",
       "|       9|2013-07-25 00:00:...|             5657|PENDING_PAYMENT|             PENDING|\n",
       "|      10|2013-07-25 00:00:...|             5648|PENDING_PAYMENT|             PENDING|\n",
       "+--------+--------------------+-----------------+---------------+--------------------+\n",
       "\n"
      ]
     },
     "execution_count": 320,
     "metadata": {},
     "output_type": "execute_result"
    }
   ],
   "source": [
    "%%sql\n",
    "\n",
    "SELECT o.*,\n",
    "    CASE \n",
    "        WHEN order_status IN('COMPLETE','CLOSED') THEN 'COMPLETED'\n",
    "        WHEN order_status LIKE '%PENDING%' OR order_status IN ('PROCESSING','PAYMENT_REVIEW') THEN 'PENDING'\n",
    "        ELSE 'OTHER'\n",
    "    END AS updated_order_status\n",
    "FROM orders AS o\n",
    "LIMIT 10"
   ]
  },
  {
   "cell_type": "code",
   "execution_count": 321,
   "id": "9192e980-1e83-478d-8882-9ea90e4de524",
   "metadata": {},
   "outputs": [
    {
     "data": {
      "text/plain": [
       "+---------------+--------------------+\n",
       "|   order_status|updated_order_status|\n",
       "+---------------+--------------------+\n",
       "|         CLOSED|           COMPLETED|\n",
       "|PENDING_PAYMENT|             PENDING|\n",
       "|       COMPLETE|           COMPLETED|\n",
       "|         CLOSED|           COMPLETED|\n",
       "|       COMPLETE|           COMPLETED|\n",
       "|       COMPLETE|           COMPLETED|\n",
       "|       COMPLETE|           COMPLETED|\n",
       "|     PROCESSING|             PENDING|\n",
       "|PENDING_PAYMENT|             PENDING|\n",
       "|PENDING_PAYMENT|             PENDING|\n",
       "+---------------+--------------------+\n",
       "\n"
      ]
     },
     "execution_count": 321,
     "metadata": {},
     "output_type": "execute_result"
    }
   ],
   "source": [
    "%%sql\n",
    "\n",
    "SELECT o.order_status,\n",
    "    CASE \n",
    "        WHEN order_status IN('COMPLETE','CLOSED') THEN 'COMPLETED'\n",
    "        WHEN order_status LIKE '%PENDING%' OR order_status IN ('PROCESSING','PAYMENT_REVIEW') THEN 'PENDING'\n",
    "        ELSE 'OTHER'\n",
    "    END AS updated_order_status\n",
    "FROM orders AS o\n",
    "LIMIT 10"
   ]
  },
  {
   "cell_type": "markdown",
   "id": "e62ee547-7057-47d6-a4b8-a8189bba9425",
   "metadata": {},
   "source": [
    "### 147 Query Word count"
   ]
  },
  {
   "cell_type": "code",
   "execution_count": 3,
   "id": "321c4458-df43-41da-a7c2-04e9b09bf4b1",
   "metadata": {},
   "outputs": [
    {
     "data": {
      "text/plain": [
       "Waiting for a Spark session to start..."
      ]
     },
     "metadata": {},
     "output_type": "display_data",
     "source": "user"
    },
    {
     "data": {
      "text/plain": [
       "++\n",
       "||\n",
       "++\n",
       "++\n",
       "\n"
      ]
     },
     "execution_count": 3,
     "metadata": {},
     "output_type": "execute_result"
    }
   ],
   "source": [
    "%%sql\n",
    "\n",
    "DROP DATABASE IF EXISTS itversity_demo CASCADE"
   ]
  },
  {
   "cell_type": "code",
   "execution_count": 4,
   "id": "67521da0-6704-4579-9422-3d1945d9ff9e",
   "metadata": {},
   "outputs": [
    {
     "data": {
      "text/plain": [
       "++\n",
       "||\n",
       "++\n",
       "++\n",
       "\n"
      ]
     },
     "execution_count": 4,
     "metadata": {},
     "output_type": "execute_result"
    }
   ],
   "source": [
    "%%sql\n",
    "\n",
    "CREATE DATABASE IF NOT EXISTS itversity_demo"
   ]
  },
  {
   "cell_type": "code",
   "execution_count": 5,
   "id": "d400e53e-7090-40e4-be86-3753eef7aa66",
   "metadata": {},
   "outputs": [
    {
     "data": {
      "text/plain": [
       "++\n",
       "||\n",
       "++\n",
       "++\n",
       "\n"
      ]
     },
     "execution_count": 5,
     "metadata": {},
     "output_type": "execute_result"
    }
   ],
   "source": [
    "%%sql\n",
    "\n",
    "USE itversity_demo"
   ]
  },
  {
   "cell_type": "code",
   "execution_count": 6,
   "id": "51d21449-5609-4092-a12a-4bbde81f6180",
   "metadata": {},
   "outputs": [
    {
     "data": {
      "text/plain": [
       "++\n",
       "||\n",
       "++\n",
       "++\n",
       "\n"
      ]
     },
     "execution_count": 6,
     "metadata": {},
     "output_type": "execute_result"
    }
   ],
   "source": [
    "%%sql\n",
    "\n",
    "CREATE TABLE lines (s STRING)"
   ]
  },
  {
   "cell_type": "code",
   "execution_count": 7,
   "id": "c872aabd-e279-4076-bcbf-aaef58bccbaf",
   "metadata": {},
   "outputs": [
    {
     "data": {
      "text/plain": [
       "++\n",
       "||\n",
       "++\n",
       "++\n",
       "\n"
      ]
     },
     "execution_count": 7,
     "metadata": {},
     "output_type": "execute_result"
    }
   ],
   "source": [
    "%%sql\n",
    "\n",
    "INSERT INTO lines VALUES\n",
    "  ('Hello World'),\n",
    "  ('How are you'),\n",
    "  ('Let us perform the word count'),\n",
    "  ('The definition of word count is'),\n",
    "  ('to get the count of each word from this data')"
   ]
  },
  {
   "cell_type": "code",
   "execution_count": 8,
   "id": "566ebcc6-522d-4a2f-a226-1b8dd8e6b2d3",
   "metadata": {},
   "outputs": [
    {
     "data": {
      "text/plain": [
       "+--------------------+\n",
       "|                   s|\n",
       "+--------------------+\n",
       "|         Hello World|\n",
       "|         How are you|\n",
       "|Let us perform th...|\n",
       "|The definition of...|\n",
       "|to get the count ...|\n",
       "+--------------------+\n",
       "\n"
      ]
     },
     "execution_count": 8,
     "metadata": {},
     "output_type": "execute_result"
    }
   ],
   "source": [
    "%%SQL\n",
    "\n",
    "SELECT * FROM lines"
   ]
  },
  {
   "cell_type": "code",
   "execution_count": 9,
   "id": "ee01505c-a801-413b-8bc5-a8e6b2a1a12f",
   "metadata": {},
   "outputs": [
    {
     "data": {
      "text/plain": [
       "+--------------------+\n",
       "|         split(s,  )|\n",
       "+--------------------+\n",
       "|      [Hello, World]|\n",
       "|     [How, are, you]|\n",
       "|[Let, us, perform...|\n",
       "|[The, definition,...|\n",
       "|[to, get, the, co...|\n",
       "+--------------------+\n",
       "\n"
      ]
     },
     "execution_count": 9,
     "metadata": {},
     "output_type": "execute_result"
    }
   ],
   "source": [
    "%%sql \n",
    "\n",
    "SELECT split(s,' ') from lines"
   ]
  },
  {
   "cell_type": "code",
   "execution_count": 10,
   "id": "24026d9d-e2b5-4feb-bbf3-be82cae18810",
   "metadata": {},
   "outputs": [
    {
     "data": {
      "text/plain": [
       "+-------+\n",
       "|    col|\n",
       "+-------+\n",
       "|  Hello|\n",
       "|  World|\n",
       "|    How|\n",
       "|    are|\n",
       "|    you|\n",
       "|    Let|\n",
       "|     us|\n",
       "|perform|\n",
       "|    the|\n",
       "|   word|\n",
       "+-------+\n",
       "only showing top 10 rows\n",
       "\n"
      ]
     },
     "execution_count": 10,
     "metadata": {},
     "output_type": "execute_result"
    }
   ],
   "source": [
    "%%sql \n",
    "\n",
    "SELECT explode(split(s,' ')) from lines"
   ]
  },
  {
   "cell_type": "code",
   "execution_count": 16,
   "id": "4a2a3b9f-8170-4084-b51a-a2a4a71559eb",
   "metadata": {},
   "outputs": [
    {
     "data": {
      "text/plain": [
       "Magic sql failed to execute with error: \n",
       "Generators are not supported outside the SELECT clause, but got: 'Aggregate [explode(split(s#55,  ))], [explode(split(s#55,  )) AS words#53, count(1) AS count(1)#56L];"
      ]
     },
     "execution_count": 16,
     "metadata": {},
     "output_type": "execute_result"
    }
   ],
   "source": [
    "%%sql \n",
    "\n",
    "SELECT explode(split(s,' ')) AS words, COUNT(1) from lines group by explode(split(s,' '))"
   ]
  },
  {
   "cell_type": "code",
   "execution_count": 19,
   "id": "2834ba83-bc9a-4917-9f17-55d8eefd9c94",
   "metadata": {},
   "outputs": [
    {
     "data": {
      "text/plain": [
       "+-----+---------+\n",
       "| word|wordCount|\n",
       "+-----+---------+\n",
       "|count|        3|\n",
       "| word|        3|\n",
       "|  the|        2|\n",
       "|   of|        2|\n",
       "|World|        1|\n",
       "|Hello|        1|\n",
       "|  you|        1|\n",
       "|  How|        1|\n",
       "|   is|        1|\n",
       "| each|        1|\n",
       "+-----+---------+\n",
       "only showing top 10 rows\n",
       "\n"
      ]
     },
     "execution_count": 19,
     "metadata": {},
     "output_type": "execute_result"
    }
   ],
   "source": [
    "%%sql \n",
    "\n",
    "SELECT word, count(1) AS wordCount\n",
    "FROM (SELECT explode(split(s,' ')) AS word FROM lines)\n",
    "GROUP BY word\n",
    "ORDER BY wordCount desc\n",
    "\n"
   ]
  },
  {
   "cell_type": "code",
   "execution_count": null,
   "id": "48b1523c-1749-467a-ba01-78448ad53080",
   "metadata": {},
   "outputs": [],
   "source": []
  }
 ],
 "metadata": {
  "kernelspec": {
   "display_name": "Apache Toree - Scala",
   "language": "scala",
   "name": "apache_toree_scala"
  },
  "language_info": {
   "codemirror_mode": "text/x-scala",
   "file_extension": ".scala",
   "mimetype": "text/x-scala",
   "name": "scala",
   "pygments_lexer": "scala",
   "version": "2.11.12"
  }
 },
 "nbformat": 4,
 "nbformat_minor": 5
}
