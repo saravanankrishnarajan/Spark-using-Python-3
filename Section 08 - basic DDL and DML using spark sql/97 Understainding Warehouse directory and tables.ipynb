{
 "cells": [
  {
   "cell_type": "markdown",
   "id": "43ba84e5-e0cf-488e-bbd7-d0d013603b42",
   "metadata": {},
   "source": [
    "### Understainding Warehouse directory and tables"
   ]
  },
  {
   "cell_type": "markdown",
   "id": "c02b6f60-7afc-441c-bc26-3be9118c583f",
   "metadata": {},
   "source": [
    "* how to create tables in Spark Metastore."
   ]
  },
  {
   "cell_type": "code",
   "execution_count": 1,
   "id": "b3774502-d0dc-462f-af75-0c753ad36ba8",
   "metadata": {},
   "outputs": [
    {
     "data": {
      "text/plain": [
       "Waiting for a Spark session to start..."
      ]
     },
     "metadata": {},
     "output_type": "display_data",
     "source": "user"
    },
    {
     "data": {
      "text/plain": [
       "+--------------------+--------------------+\n",
       "|                 key|               value|\n",
       "+--------------------+--------------------+\n",
       "|spark.sql.warehou...|file:/home/itvers...|\n",
       "+--------------------+--------------------+\n",
       "\n"
      ]
     },
     "execution_count": 1,
     "metadata": {},
     "output_type": "execute_result"
    }
   ],
   "source": [
    "%%sql \n",
    "\n",
    "set spark.sql.warehouse.dir"
   ]
  },
  {
   "cell_type": "code",
   "execution_count": null,
   "id": "3ba42bf5-ec73-4a3b-a8b8-0fd5dd83a3df",
   "metadata": {},
   "outputs": [],
   "source": [
    "%%sql \n",
    "\n",
    "show databases"
   ]
  },
  {
   "cell_type": "code",
   "execution_count": null,
   "id": "82b15e7f-4e3a-45f1-9906-bcc09b6d031f",
   "metadata": {},
   "outputs": [],
   "source": []
  }
 ],
 "metadata": {
  "kernelspec": {
   "display_name": "Apache Toree - Scala",
   "language": "scala",
   "name": "apache_toree_scala"
  },
  "language_info": {
   "codemirror_mode": "text/x-scala",
   "file_extension": ".scala",
   "mimetype": "text/x-scala",
   "name": "scala",
   "pygments_lexer": "scala",
   "version": "2.11.12"
  }
 },
 "nbformat": 4,
 "nbformat_minor": 5
}
