{
 "cells": [
  {
   "cell_type": "markdown",
   "id": "75fcf824-afc8-4f76-8c49-29948e06712b",
   "metadata": {},
   "source": [
    "### 101 Role of Spark or Hive Metastore"
   ]
  },
  {
   "cell_type": "code",
   "execution_count": 1,
   "id": "dac4cf68-dd7c-4a9a-b6c2-55aab79dcb0c",
   "metadata": {},
   "outputs": [
    {
     "data": {
      "text/plain": [
       "spark = org.apache.spark.sql.SparkSession@43f934f6\n"
      ]
     },
     "metadata": {},
     "output_type": "display_data",
     "source": "user"
    },
    {
     "data": {
      "text/plain": [
       "org.apache.spark.sql.SparkSession@43f934f6"
      ]
     },
     "execution_count": 1,
     "metadata": {},
     "output_type": "execute_result"
    }
   ],
   "source": [
    "val spark = SparkSession.\n",
    "    builder.\n",
    "    config(\"spark.ui.port\",\"0\").\n",
    "    config(\"spark.sql.warehouse.dir\",\"/user/itversity/warehouse\").\n",
    "    enableHiveSupport.\n",
    "    master(\"yarn\").\n",
    "    appName(\"Getting Started - Spark SQL\").\n",
    "    getOrCreate"
   ]
  },
  {
   "cell_type": "code",
   "execution_count": 2,
   "id": "d7107c63-13c2-441f-a200-348e6e99180b",
   "metadata": {},
   "outputs": [
    {
     "data": {
      "text/plain": [
       "Waiting for a Spark session to start..."
      ]
     },
     "metadata": {},
     "output_type": "display_data",
     "source": "user"
    },
    {
     "data": {
      "text/plain": [
       "++\n",
       "||\n",
       "++\n",
       "++\n",
       "\n"
      ]
     },
     "execution_count": 2,
     "metadata": {},
     "output_type": "execute_result"
    }
   ],
   "source": [
    "%%sql\n",
    "\n",
    "USE itversity_retail"
   ]
  },
  {
   "cell_type": "code",
   "execution_count": 3,
   "id": "06baa742-d94f-4410-9921-780a40c5de84",
   "metadata": {},
   "outputs": [
    {
     "data": {
      "text/plain": [
       "Magic sql failed to execute with error: \n",
       "\n",
       "missing 'FUNCTIONS' at '<EOF>'(line 1, pos 23)\n",
       "\n",
       "== SQL ==\n",
       "show information_schema\n",
       "-----------------------^^^\n"
      ]
     },
     "execution_count": 3,
     "metadata": {},
     "output_type": "execute_result"
    }
   ],
   "source": [
    "%%sql \n",
    "\n",
    "show information_schema"
   ]
  },
  {
   "cell_type": "code",
   "execution_count": 5,
   "id": "3e0b1500-e787-4ea8-8e4d-2e0182a7ff28",
   "metadata": {},
   "outputs": [
    {
     "data": {
      "text/plain": [
       "Magic sql failed to execute with error: \n",
       "\n",
       "extraneous input ';' expecting <EOF>(line 1, pos 18)\n",
       "\n",
       "== SQL ==\n",
       "SELECT * FROM TBLS;\n",
       "------------------^^^\n"
      ]
     },
     "execution_count": 5,
     "metadata": {},
     "output_type": "execute_result"
    }
   ],
   "source": [
    "%%sql\n",
    "\n",
    "SELECT * FROM TBLS;"
   ]
  },
  {
   "cell_type": "code",
   "execution_count": null,
   "id": "83396554-850a-44be-8483-112da885b5ca",
   "metadata": {},
   "outputs": [],
   "source": []
  }
 ],
 "metadata": {
  "kernelspec": {
   "display_name": "Apache Toree - Scala",
   "language": "scala",
   "name": "apache_toree_scala"
  },
  "language_info": {
   "codemirror_mode": "text/x-scala",
   "file_extension": ".scala",
   "mimetype": "text/x-scala",
   "name": "scala",
   "pygments_lexer": "scala",
   "version": "2.11.12"
  }
 },
 "nbformat": 4,
 "nbformat_minor": 5
}
