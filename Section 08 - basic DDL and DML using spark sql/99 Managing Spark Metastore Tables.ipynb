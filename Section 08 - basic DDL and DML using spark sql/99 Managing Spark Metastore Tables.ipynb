{
 "cells": [
  {
   "cell_type": "markdown",
   "id": "d5a132f7-9f31-4f4e-9a4f-4c54345c7434",
   "metadata": {},
   "source": [
    "### 99 Managing Spark Metastore Tables"
   ]
  },
  {
   "cell_type": "code",
   "execution_count": 1,
   "id": "e45ff3dc-7286-4cf0-87a8-76c59e40dd29",
   "metadata": {},
   "outputs": [
    {
     "data": {
      "text/plain": [
       "spark = org.apache.spark.sql.SparkSession@5ddbd570\n"
      ]
     },
     "metadata": {},
     "output_type": "display_data",
     "source": "user"
    },
    {
     "data": {
      "text/plain": [
       "org.apache.spark.sql.SparkSession@5ddbd570"
      ]
     },
     "execution_count": 1,
     "metadata": {},
     "output_type": "execute_result"
    }
   ],
   "source": [
    "val spark = SparkSession.\n",
    "    builder.\n",
    "    config(\"spark.ui.port\",\"0\").\n",
    "    config(\"spark.sql.warehouse.dir\",\"/user/itversity/warehouse\").\n",
    "    enableHiveSupport.\n",
    "    master(\"yarn\").\n",
    "    appName(\"Getting Started - Spark SQL\").\n",
    "    getOrCreate"
   ]
  },
  {
   "cell_type": "code",
   "execution_count": 2,
   "id": "16b7ea30-421a-4da6-aa8d-d6c939387190",
   "metadata": {},
   "outputs": [
    {
     "data": {
      "text/plain": [
       "Waiting for a Spark session to start..."
      ]
     },
     "metadata": {},
     "output_type": "display_data",
     "source": "user"
    },
    {
     "data": {
      "text/plain": [
       "+------------------+\n",
       "|current_database()|\n",
       "+------------------+\n",
       "|           default|\n",
       "+------------------+\n",
       "\n"
      ]
     },
     "execution_count": 2,
     "metadata": {},
     "output_type": "execute_result"
    }
   ],
   "source": [
    "%%sql\n",
    "\n",
    "SELECT CURRENT_DATABASE()"
   ]
  },
  {
   "cell_type": "code",
   "execution_count": 3,
   "id": "91fc0b7c-e335-46fe-8d9e-9a7a6b70d9b1",
   "metadata": {},
   "outputs": [
    {
     "data": {
      "text/plain": [
       "+-----------------+\n",
       "|     databaseName|\n",
       "+-----------------+\n",
       "|          default|\n",
       "|itiversity_retail|\n",
       "|   itversity_demo|\n",
       "|  itversity_demo2|\n",
       "| itversity_retail|\n",
       "+-----------------+\n",
       "\n"
      ]
     },
     "execution_count": 3,
     "metadata": {},
     "output_type": "execute_result"
    }
   ],
   "source": [
    "%%sql\n",
    "\n",
    "SHOW DATABASES"
   ]
  },
  {
   "cell_type": "code",
   "execution_count": 4,
   "id": "1f8d2c1d-517d-405d-8771-dd915be80395",
   "metadata": {},
   "outputs": [
    {
     "data": {
      "text/plain": [
       "++\n",
       "||\n",
       "++\n",
       "++\n",
       "\n"
      ]
     },
     "execution_count": 4,
     "metadata": {},
     "output_type": "execute_result"
    }
   ],
   "source": [
    "%%sql\n",
    "\n",
    "DROP DATABASE itversity_retail CASCADE"
   ]
  },
  {
   "cell_type": "code",
   "execution_count": 5,
   "id": "33d352a4-a9e1-46c2-99c7-20e9f354c96e",
   "metadata": {},
   "outputs": [
    {
     "data": {
      "text/plain": [
       "++\n",
       "||\n",
       "++\n",
       "++\n",
       "\n"
      ]
     },
     "execution_count": 5,
     "metadata": {},
     "output_type": "execute_result"
    }
   ],
   "source": [
    "%%sql\n",
    "\n",
    "CREATE DATABASE itversity_retail"
   ]
  },
  {
   "cell_type": "code",
   "execution_count": 6,
   "id": "8df42a97-05b1-43a6-bf2a-0d81f827a5cf",
   "metadata": {},
   "outputs": [
    {
     "data": {
      "text/plain": [
       "++\n",
       "||\n",
       "++\n",
       "++\n",
       "\n"
      ]
     },
     "execution_count": 6,
     "metadata": {},
     "output_type": "execute_result"
    }
   ],
   "source": [
    "%%sql\n",
    "\n",
    "USE itversity_retail"
   ]
  },
  {
   "cell_type": "code",
   "execution_count": 7,
   "id": "e7c6c973-9f6e-4345-8b6a-ee5d0c15706f",
   "metadata": {},
   "outputs": [
    {
     "data": {
      "text/plain": [
       "+------------------+\n",
       "|current_database()|\n",
       "+------------------+\n",
       "|  itversity_retail|\n",
       "+------------------+\n",
       "\n"
      ]
     },
     "execution_count": 7,
     "metadata": {},
     "output_type": "execute_result"
    }
   ],
   "source": [
    "%%sql\n",
    "\n",
    "select current_database()"
   ]
  },
  {
   "cell_type": "code",
   "execution_count": 9,
   "id": "3e383615-c0f8-4e63-925c-d9a4053af009",
   "metadata": {},
   "outputs": [
    {
     "data": {
      "text/plain": [
       "++\n",
       "||\n",
       "++\n",
       "++\n",
       "\n"
      ]
     },
     "execution_count": 9,
     "metadata": {},
     "output_type": "execute_result"
    }
   ],
   "source": [
    "%%sql\n",
    "\n",
    "CREATE TABLE orders(\n",
    "    order_id INT,\n",
    "    order_date STRING,\n",
    "    order_customer_id INT,\n",
    "    order_status STRING\n",
    ") ROW FORMAT DELIMITED FIELDS TERMINATED BY ','"
   ]
  },
  {
   "cell_type": "code",
   "execution_count": 10,
   "id": "ba8a1689-3cc2-4f16-b7d0-a5de8712e85b",
   "metadata": {},
   "outputs": [
    {
     "data": {
      "text/plain": [
       "+----------------+---------+-----------+\n",
       "|        database|tableName|isTemporary|\n",
       "+----------------+---------+-----------+\n",
       "|itversity_retail|   orders|      false|\n",
       "+----------------+---------+-----------+\n",
       "\n"
      ]
     },
     "execution_count": 10,
     "metadata": {},
     "output_type": "execute_result"
    }
   ],
   "source": [
    "%%SQL\n",
    "\n",
    "show tables"
   ]
  },
  {
   "cell_type": "code",
   "execution_count": null,
   "id": "5d8eb768-f03e-47d5-a6be-3a4a0b284a92",
   "metadata": {},
   "outputs": [],
   "source": []
  }
 ],
 "metadata": {
  "kernelspec": {
   "display_name": "Apache Toree - Scala",
   "language": "scala",
   "name": "apache_toree_scala"
  },
  "language_info": {
   "codemirror_mode": "text/x-scala",
   "file_extension": ".scala",
   "mimetype": "text/x-scala",
   "name": "scala",
   "pygments_lexer": "scala",
   "version": "2.11.12"
  }
 },
 "nbformat": 4,
 "nbformat_minor": 5
}
