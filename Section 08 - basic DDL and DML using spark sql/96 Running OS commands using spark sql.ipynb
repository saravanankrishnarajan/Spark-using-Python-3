{
 "cells": [
  {
   "cell_type": "markdown",
   "id": "fd5ead2a-18db-4fe4-92ee-9233bfb219c4",
   "metadata": {},
   "source": [
    "### Running OS commands using spark sql"
   ]
  },
  {
   "cell_type": "markdown",
   "id": "1125ab56-1e99-4571-95cc-64a5956ca466",
   "metadata": {},
   "source": [
    "* use ! at the beginning of the OS commands"
   ]
  },
  {
   "cell_type": "code",
   "execution_count": 3,
   "id": "54fddeb7-a3f1-477d-b7c7-8ed25d8a0dda",
   "metadata": {},
   "outputs": [
    {
     "name": "stdout",
     "output_type": "stream",
     "text": [
      "Found 2 items\n",
      "drwxr-xr-x   - itversity supergroup          0 2024-01-30 03:48 /user/itversity/.sparkStaging\n",
      "drwxr-xr-x   - itversity supergroup          0 2024-01-30 01:39 /user/itversity/warehouse\n"
     ]
    },
    {
     "data": {
      "text/plain": [
       "warning: there was one feature warning; re-run with -feature for details\n"
      ]
     },
     "metadata": {},
     "output_type": "display_data",
     "source": "user"
    },
    {
     "data": {
      "text/plain": [
       "0"
      ]
     },
     "execution_count": 3,
     "metadata": {},
     "output_type": "execute_result"
    }
   ],
   "source": [
    "import sys.process._\n",
    "\"hdfs dfs -ls /user/itversity\"!"
   ]
  },
  {
   "cell_type": "code",
   "execution_count": 4,
   "id": "1193c342-f7d5-44cd-8bb1-02cf4fef4786",
   "metadata": {},
   "outputs": [
    {
     "name": "stdout",
     "output_type": "stream",
     "text": [
      "total 16\n",
      "-rw-r--r-- 1 itversity itversity  604 Jan 30 02:06 Untitled.ipynb\n",
      "-rw-r--r-- 1 itversity itversity 4677 Jan 30 03:29 Untitled1.ipynb\n",
      "-rw-r--r-- 1 itversity itversity 1559 Jan 30 03:47 Untitled2.ipynb\n"
     ]
    },
    {
     "data": {
      "text/plain": [
       "warning: there was one feature warning; re-run with -feature for details\n"
      ]
     },
     "metadata": {},
     "output_type": "display_data",
     "source": "user"
    },
    {
     "data": {
      "text/plain": [
       "0"
      ]
     },
     "execution_count": 4,
     "metadata": {},
     "output_type": "execute_result"
    }
   ],
   "source": [
    "\"ls -ltr\"!"
   ]
  },
  {
   "cell_type": "code",
   "execution_count": 5,
   "id": "6cc79c59-8942-4e66-a5e2-c10a3e72ca00",
   "metadata": {},
   "outputs": [
    {
     "data": {
      "text/plain": [
       "Magic sql failed to execute with error: \n",
       "\n",
       "mismatched input '!' expecting {'(', 'SELECT', 'FROM', 'ADD', 'DESC', 'WITH', 'VALUES', 'CREATE', 'TABLE', 'INSERT', 'DELETE', 'DESCRIBE', 'EXPLAIN', 'SHOW', 'USE', 'DROP', 'ALTER', 'MAP', 'SET', 'RESET', 'START', 'COMMIT', 'ROLLBACK', 'REDUCE', 'REFRESH', 'CLEAR', 'CACHE', 'UNCACHE', 'DFS', 'TRUNCATE', 'ANALYZE', 'LIST', 'REVOKE', 'GRANT', 'LOCK', 'UNLOCK', 'MSCK', 'EXPORT', 'IMPORT', 'LOAD'}(line 1, pos 0)\n",
       "\n",
       "== SQL ==\n",
       "!ls -ltr;\n",
       "^^^\n"
      ]
     },
     "execution_count": 5,
     "metadata": {},
     "output_type": "execute_result"
    }
   ],
   "source": [
    "%%sql\n",
    "\n",
    "!ls -ltr;"
   ]
  },
  {
   "cell_type": "code",
   "execution_count": 6,
   "id": "cee29bda-ce49-43cb-844f-d730d7be9f4f",
   "metadata": {},
   "outputs": [
    {
     "name": "stdout",
     "output_type": "stream",
     "text": [
      "total 16\n",
      "-rw-r--r-- 1 itversity itversity  604 Jan 30 02:06 Untitled.ipynb\n",
      "-rw-r--r-- 1 itversity itversity 4677 Jan 30 03:29 Untitled1.ipynb\n",
      "-rw-r--r-- 1 itversity itversity 1559 Jan 30 03:47 Untitled2.ipynb\n"
     ]
    },
    {
     "data": {
      "text/plain": [
       "warning: there was one feature warning; re-run with -feature for details\n"
      ]
     },
     "metadata": {},
     "output_type": "display_data",
     "source": "user"
    },
    {
     "data": {
      "text/plain": [
       "0"
      ]
     },
     "execution_count": 6,
     "metadata": {},
     "output_type": "execute_result"
    }
   ],
   "source": [
    "\"ls -ltr\"!"
   ]
  },
  {
   "cell_type": "code",
   "execution_count": null,
   "id": "3cb67414-b136-442b-a891-5fa80faf7473",
   "metadata": {},
   "outputs": [],
   "source": []
  }
 ],
 "metadata": {
  "kernelspec": {
   "display_name": "Apache Toree - Scala",
   "language": "scala",
   "name": "apache_toree_scala"
  },
  "language_info": {
   "codemirror_mode": "text/x-scala",
   "file_extension": ".scala",
   "mimetype": "text/x-scala",
   "name": "scala",
   "pygments_lexer": "scala",
   "version": "2.11.12"
  }
 },
 "nbformat": 4,
 "nbformat_minor": 5
}
