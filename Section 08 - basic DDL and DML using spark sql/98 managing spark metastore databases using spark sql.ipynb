{
 "cells": [
  {
   "cell_type": "markdown",
   "id": "056a431c-efc1-4c3b-a881-d364f6e89439",
   "metadata": {},
   "source": [
    "### 98 managing spark metastore databases using spark sql"
   ]
  },
  {
   "cell_type": "code",
   "execution_count": 1,
   "id": "4bdc76df-30eb-47fe-bbca-17d6aa102999",
   "metadata": {},
   "outputs": [
    {
     "data": {
      "text/plain": [
       "spark = org.apache.spark.sql.SparkSession@d547893\n"
      ]
     },
     "metadata": {},
     "output_type": "display_data",
     "source": "user"
    },
    {
     "data": {
      "text/plain": [
       "org.apache.spark.sql.SparkSession@d547893"
      ]
     },
     "execution_count": 1,
     "metadata": {},
     "output_type": "execute_result"
    }
   ],
   "source": [
    "val spark = SparkSession.\n",
    "    builder.\n",
    "    config(\"spark.ui.port\",\"0\").\n",
    "    config(\"spark.sql.warehouse.dir\",\"/user/itversity/warehouse\").\n",
    "    enableHiveSupport.\n",
    "    master(\"yarn\").\n",
    "    appName(\"Getting Started - Spark SQL\").\n",
    "    getOrCreate"
   ]
  },
  {
   "cell_type": "code",
   "execution_count": 2,
   "id": "20486f45-854a-4811-9e10-e1afb6d235ee",
   "metadata": {},
   "outputs": [
    {
     "data": {
      "text/plain": [
       "Waiting for a Spark session to start..."
      ]
     },
     "metadata": {},
     "output_type": "display_data",
     "source": "user"
    },
    {
     "data": {
      "text/plain": [
       "+-----------------+\n",
       "|     databaseName|\n",
       "+-----------------+\n",
       "|          default|\n",
       "|itiversity_retail|\n",
       "|   itversity_demo|\n",
       "|  itversity_demo2|\n",
       "| itversity_retail|\n",
       "+-----------------+\n",
       "\n"
      ]
     },
     "execution_count": 2,
     "metadata": {},
     "output_type": "execute_result"
    }
   ],
   "source": [
    "%%sql \n",
    "\n",
    "show databases"
   ]
  },
  {
   "cell_type": "code",
   "execution_count": 3,
   "id": "b27546c1-6565-433c-a2e1-cef996feb71f",
   "metadata": {},
   "outputs": [
    {
     "data": {
      "text/plain": [
       "+--------------------+--------------------+\n",
       "|                 key|               value|\n",
       "+--------------------+--------------------+\n",
       "|spark.sql.warehou...|/user/itversity/w...|\n",
       "+--------------------+--------------------+\n",
       "\n"
      ]
     },
     "execution_count": 3,
     "metadata": {},
     "output_type": "execute_result"
    }
   ],
   "source": [
    "%%sql\n",
    "\n",
    "set spark.sql.warehouse.dir"
   ]
  },
  {
   "cell_type": "code",
   "execution_count": 4,
   "id": "27df115f-c670-4d71-90c5-6fad0f8e2bf9",
   "metadata": {},
   "outputs": [
    {
     "data": {
      "text/plain": [
       "+--------------------+--------------------+\n",
       "|                 key|               value|\n",
       "+--------------------+--------------------+\n",
       "|spark.sql.warehou...|/user/itversity/w...|\n",
       "+--------------------+--------------------+\n",
       "\n"
      ]
     },
     "execution_count": 4,
     "metadata": {},
     "output_type": "execute_result"
    }
   ],
   "source": [
    "%%sql\n",
    "\n",
    "set spark.sql.warehouse.dir"
   ]
  },
  {
   "cell_type": "code",
   "execution_count": 5,
   "id": "49459fc9-a9d0-46ba-b458-ff4ca74c06bc",
   "metadata": {},
   "outputs": [
    {
     "data": {
      "text/plain": [
       "++\n",
       "||\n",
       "++\n",
       "++\n",
       "\n"
      ]
     },
     "execution_count": 5,
     "metadata": {},
     "output_type": "execute_result"
    }
   ],
   "source": [
    "%%sql\n",
    "\n",
    "use itversity_retail"
   ]
  },
  {
   "cell_type": "code",
   "execution_count": 6,
   "id": "a5f486e2-95c6-4fa0-b6ce-55a4ae668616",
   "metadata": {},
   "outputs": [
    {
     "data": {
      "text/plain": [
       "+-----------------+\n",
       "|     databaseName|\n",
       "+-----------------+\n",
       "|          default|\n",
       "|itiversity_retail|\n",
       "|   itversity_demo|\n",
       "|  itversity_demo2|\n",
       "| itversity_retail|\n",
       "+-----------------+\n",
       "\n"
      ]
     },
     "execution_count": 6,
     "metadata": {},
     "output_type": "execute_result"
    }
   ],
   "source": [
    "%%sql\n",
    "\n",
    "show databases"
   ]
  },
  {
   "cell_type": "code",
   "execution_count": 7,
   "id": "10932644-9aa0-4928-a67e-38be32687dc7",
   "metadata": {},
   "outputs": [
    {
     "data": {
      "text/plain": [
       "+------------------+\n",
       "|current_database()|\n",
       "+------------------+\n",
       "|  itversity_retail|\n",
       "+------------------+\n",
       "\n"
      ]
     },
     "execution_count": 7,
     "metadata": {},
     "output_type": "execute_result"
    }
   ],
   "source": [
    "%%sql\n",
    "\n",
    "select current_database()"
   ]
  },
  {
   "cell_type": "code",
   "execution_count": 8,
   "id": "324bef3d-ea5d-45ff-b051-230cfec5d723",
   "metadata": {},
   "outputs": [
    {
     "data": {
      "text/plain": [
       "++\n",
       "||\n",
       "++\n",
       "++\n",
       "\n"
      ]
     },
     "execution_count": 8,
     "metadata": {},
     "output_type": "execute_result"
    }
   ],
   "source": [
    "%%sql\n",
    "\n",
    "DROP DATABASE IF EXISTS itversity_demo"
   ]
  },
  {
   "cell_type": "code",
   "execution_count": 9,
   "id": "73abbf6f-9d8e-4903-9af8-7b4f59fc9acf",
   "metadata": {},
   "outputs": [
    {
     "data": {
      "text/plain": [
       "++\n",
       "||\n",
       "++\n",
       "++\n",
       "\n"
      ]
     },
     "execution_count": 9,
     "metadata": {},
     "output_type": "execute_result"
    }
   ],
   "source": [
    "%%sql\n",
    "\n",
    "CREATE DATABASE IF NOT EXISTS itversity_demo"
   ]
  },
  {
   "cell_type": "code",
   "execution_count": 10,
   "id": "72073a19-fd18-40d5-8479-40c961897728",
   "metadata": {},
   "outputs": [
    {
     "data": {
      "text/plain": [
       "+-----------------+\n",
       "|     databaseName|\n",
       "+-----------------+\n",
       "|          default|\n",
       "|itiversity_retail|\n",
       "|   itversity_demo|\n",
       "|  itversity_demo2|\n",
       "| itversity_retail|\n",
       "+-----------------+\n",
       "\n"
      ]
     },
     "execution_count": 10,
     "metadata": {},
     "output_type": "execute_result"
    }
   ],
   "source": [
    "%%SQL\n",
    "SHOW DATABASES"
   ]
  },
  {
   "cell_type": "code",
   "execution_count": 11,
   "id": "26fc589d-d25e-40e0-8b7a-7b8807c5163e",
   "metadata": {},
   "outputs": [
    {
     "data": {
      "text/plain": [
       "++\n",
       "||\n",
       "++\n",
       "++\n",
       "\n"
      ]
     },
     "execution_count": 11,
     "metadata": {},
     "output_type": "execute_result"
    }
   ],
   "source": [
    "%%sql\n",
    "\n",
    "use itversity_demo"
   ]
  },
  {
   "cell_type": "code",
   "execution_count": 12,
   "id": "d07f1b97-c803-445b-948e-a059fe812c90",
   "metadata": {},
   "outputs": [
    {
     "data": {
      "text/plain": [
       "+------------------+\n",
       "|current_database()|\n",
       "+------------------+\n",
       "|    itversity_demo|\n",
       "+------------------+\n",
       "\n"
      ]
     },
     "execution_count": 12,
     "metadata": {},
     "output_type": "execute_result"
    }
   ],
   "source": [
    "%%sql\n",
    "\n",
    "select current_database()"
   ]
  },
  {
   "cell_type": "code",
   "execution_count": 13,
   "id": "d4fe24d1-5f63-4878-a425-950163152c2a",
   "metadata": {},
   "outputs": [
    {
     "data": {
      "text/plain": [
       "Magic sql failed to execute with error: \n",
       "org.apache.hadoop.hive.metastore.api.AlreadyExistsException: Database itversity_demo2 already exists;"
      ]
     },
     "execution_count": 13,
     "metadata": {},
     "output_type": "execute_result"
    }
   ],
   "source": [
    "%%sql\n",
    "\n",
    "CREATE DATABASE itversity_demo2 LOCATION '/user/itversity/custom/itversity_demo2.db'"
   ]
  },
  {
   "cell_type": "code",
   "execution_count": 14,
   "id": "da3f24ce-62a3-4f1e-9730-de74f92aaa36",
   "metadata": {},
   "outputs": [
    {
     "data": {
      "text/plain": [
       "+-----------------+\n",
       "|     databaseName|\n",
       "+-----------------+\n",
       "|          default|\n",
       "|itiversity_retail|\n",
       "|   itversity_demo|\n",
       "|  itversity_demo2|\n",
       "| itversity_retail|\n",
       "+-----------------+\n",
       "\n"
      ]
     },
     "execution_count": 14,
     "metadata": {},
     "output_type": "execute_result"
    }
   ],
   "source": [
    "%%sql\n",
    "\n",
    "show databases"
   ]
  },
  {
   "cell_type": "code",
   "execution_count": 15,
   "id": "f439a7b5-4e76-4ff7-9e2f-fb9c4ff9d8c7",
   "metadata": {},
   "outputs": [
    {
     "data": {
      "text/plain": [
       "+------------+\n",
       "|databaseName|\n",
       "+------------+\n",
       "+------------+\n",
       "\n"
      ]
     },
     "execution_count": 15,
     "metadata": {},
     "output_type": "execute_result"
    }
   ],
   "source": [
    "%%sql\n",
    "\n",
    "show databases like 'de%'"
   ]
  },
  {
   "cell_type": "code",
   "execution_count": 17,
   "id": "53fb3e73-69fd-419b-ace9-20085ae85cf0",
   "metadata": {},
   "outputs": [
    {
     "data": {
      "text/plain": [
       "username = itversity\n"
      ]
     },
     "metadata": {},
     "output_type": "display_data",
     "source": "user"
    },
    {
     "data": {
      "text/plain": [
       "itversity"
      ]
     },
     "execution_count": 17,
     "metadata": {},
     "output_type": "execute_result"
    }
   ],
   "source": [
    "val username = System.getProperty(\"user.name\")"
   ]
  },
  {
   "cell_type": "code",
   "execution_count": 18,
   "id": "e81fc081-0995-4c89-8ba2-42a8edb89d80",
   "metadata": {},
   "outputs": [
    {
     "data": {
      "text/plain": [
       "warning: there was one feature warning; re-run with -feature for details\n"
      ]
     },
     "metadata": {},
     "output_type": "display_data",
     "source": "user"
    },
    {
     "data": {
      "text/plain": [
       "0"
      ]
     },
     "execution_count": 18,
     "metadata": {},
     "output_type": "execute_result"
    }
   ],
   "source": [
    "import sys.process._\n",
    "s\"hdfs dfs -ls /user/${username}/warehouse/${username}_demo.db\"!"
   ]
  },
  {
   "cell_type": "code",
   "execution_count": 19,
   "id": "d6ab0989-ac21-4a70-9abf-4965a0d34bf9",
   "metadata": {},
   "outputs": [
    {
     "data": {
      "text/plain": [
       "++\n",
       "||\n",
       "++\n",
       "++\n",
       "\n"
      ]
     },
     "execution_count": 19,
     "metadata": {},
     "output_type": "execute_result"
    }
   ],
   "source": [
    "%%sql\n",
    "\n",
    "CREATE TABLE table_demo(i int)"
   ]
  },
  {
   "cell_type": "code",
   "execution_count": 20,
   "id": "6cb7151d-4909-49d4-87f5-b8d2d6e3f6f6",
   "metadata": {},
   "outputs": [
    {
     "name": "stdout",
     "output_type": "stream",
     "text": [
      "Found 1 items\n",
      "drwxr-xr-x   - itversity supergroup          0 2024-01-30 08:02 /user/itversity/warehouse/itversity_demo.db/table_demo\n"
     ]
    },
    {
     "data": {
      "text/plain": [
       "warning: there was one feature warning; re-run with -feature for details\n"
      ]
     },
     "metadata": {},
     "output_type": "display_data",
     "source": "user"
    },
    {
     "data": {
      "text/plain": [
       "0"
      ]
     },
     "execution_count": 20,
     "metadata": {},
     "output_type": "execute_result"
    }
   ],
   "source": [
    "import sys.process._\n",
    "s\"hdfs dfs -ls /user/${username}/warehouse/${username}_demo.db\"!"
   ]
  },
  {
   "cell_type": "code",
   "execution_count": 21,
   "id": "c4fa7d89-0cef-4123-a860-e56f54a8970f",
   "metadata": {},
   "outputs": [
    {
     "data": {
      "text/plain": [
       "++\n",
       "||\n",
       "++\n",
       "++\n",
       "\n"
      ]
     },
     "execution_count": 21,
     "metadata": {},
     "output_type": "execute_result"
    }
   ],
   "source": [
    "%%sql\n",
    "\n",
    "DROP DATABASE itversity_demo CASCADE"
   ]
  },
  {
   "cell_type": "code",
   "execution_count": 22,
   "id": "5b22b503-50da-499c-be95-3e6845ac1bcc",
   "metadata": {},
   "outputs": [
    {
     "name": "stdout",
     "output_type": "stream",
     "text": [
      "ls: `/user/itversity/warehouse/itversity_demo.db': No such file or directory\n"
     ]
    },
    {
     "data": {
      "text/plain": [
       "warning: there was one feature warning; re-run with -feature for details\n"
      ]
     },
     "metadata": {},
     "output_type": "display_data",
     "source": "user"
    },
    {
     "data": {
      "text/plain": [
       "1"
      ]
     },
     "execution_count": 22,
     "metadata": {},
     "output_type": "execute_result"
    }
   ],
   "source": [
    "import sys.process._\n",
    "s\"hdfs dfs -ls /user/${username}/warehouse/${username}_demo.db\"!"
   ]
  },
  {
   "cell_type": "code",
   "execution_count": 23,
   "id": "066a22e9-8543-41e3-a1b2-f8a3cc759585",
   "metadata": {},
   "outputs": [
    {
     "data": {
      "text/plain": [
       "++\n",
       "||\n",
       "++\n",
       "++\n",
       "\n"
      ]
     },
     "execution_count": 23,
     "metadata": {},
     "output_type": "execute_result"
    }
   ],
   "source": [
    "%%sql\n",
    "\n",
    "CREATE DATABASE itversity_demo LOCATION '/user/itversity/custom/itversity_demo.db'"
   ]
  },
  {
   "cell_type": "code",
   "execution_count": 24,
   "id": "85076629-ee0a-45f7-95e6-2c4fe0426c32",
   "metadata": {},
   "outputs": [
    {
     "data": {
      "text/plain": [
       "+-----------------+\n",
       "|     databaseName|\n",
       "+-----------------+\n",
       "|          default|\n",
       "|itiversity_retail|\n",
       "|   itversity_demo|\n",
       "|  itversity_demo2|\n",
       "| itversity_retail|\n",
       "+-----------------+\n",
       "\n"
      ]
     },
     "execution_count": 24,
     "metadata": {},
     "output_type": "execute_result"
    }
   ],
   "source": [
    "%%sql\n",
    "show databases"
   ]
  },
  {
   "cell_type": "code",
   "execution_count": 25,
   "id": "f2587614-dbe3-44ed-9d6c-b0016763e633",
   "metadata": {},
   "outputs": [
    {
     "name": "stdout",
     "output_type": "stream",
     "text": [
      "Found 2 items\n",
      "drwxr-xr-x   - itversity supergroup          0 2024-01-30 08:05 /user/itversity/custom/itversity_demo.db\n",
      "drwxr-xr-x   - itversity supergroup          0 2024-01-30 07:54 /user/itversity/custom/itversity_demo2.db\n"
     ]
    },
    {
     "data": {
      "text/plain": [
       "warning: there was one feature warning; re-run with -feature for details\n"
      ]
     },
     "metadata": {},
     "output_type": "display_data",
     "source": "user"
    },
    {
     "data": {
      "text/plain": [
       "0"
      ]
     },
     "execution_count": 25,
     "metadata": {},
     "output_type": "execute_result"
    }
   ],
   "source": [
    "import sys.process._\n",
    "s\"hdfs dfs -ls /user/${username}/custom\"!"
   ]
  },
  {
   "cell_type": "code",
   "execution_count": 26,
   "id": "053d068d-3853-424a-aa7f-4800811b7b98",
   "metadata": {},
   "outputs": [
    {
     "data": {
      "text/plain": [
       "warning: there was one feature warning; re-run with -feature for details\n"
      ]
     },
     "metadata": {},
     "output_type": "display_data",
     "source": "user"
    },
    {
     "data": {
      "text/plain": [
       "0"
      ]
     },
     "execution_count": 26,
     "metadata": {},
     "output_type": "execute_result"
    }
   ],
   "source": [
    "import sys.process._\n",
    "s\"hdfs dfs -ls /user/${username}/custom/${username}_demo.db\"!"
   ]
  },
  {
   "cell_type": "code",
   "execution_count": null,
   "id": "de9e7f05-a29c-4b24-b5f3-606eb8dbb2f6",
   "metadata": {},
   "outputs": [],
   "source": []
  }
 ],
 "metadata": {
  "kernelspec": {
   "display_name": "Apache Toree - Scala",
   "language": "scala",
   "name": "apache_toree_scala"
  },
  "language_info": {
   "codemirror_mode": "text/x-scala",
   "file_extension": ".scala",
   "mimetype": "text/x-scala",
   "name": "scala",
   "pygments_lexer": "scala",
   "version": "2.11.12"
  }
 },
 "nbformat": 4,
 "nbformat_minor": 5
}
