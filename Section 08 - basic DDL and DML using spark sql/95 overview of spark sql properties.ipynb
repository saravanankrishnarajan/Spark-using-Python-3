{
 "cells": [
  {
   "cell_type": "markdown",
   "id": "aa445e9b-285f-49b6-b838-03ab8d8d0cc6",
   "metadata": {},
   "source": [
    "### Overview of spark sql properties"
   ]
  },
  {
   "cell_type": "code",
   "execution_count": null,
   "id": "87eae83f-d308-451a-af13-640e0708d488",
   "metadata": {},
   "outputs": [],
   "source": [
    "val spark = SparkSession.\n",
    "    builder.\n",
    "    config(\"spark.ui.port\",\"0\").\n",
    "    config(\"spark.sql.warehouse.dir\",\"/user/itversity/warehouse/\").\n",
    "    master(\"yarn\").\n",
    "    appName(\"Getting Started - Spark SQL\").\n",
    "    getOrCreate"
   ]
  },
  {
   "cell_type": "code",
   "execution_count": 2,
   "id": "ff760f47-06c1-47db-9284-3674567fe572",
   "metadata": {},
   "outputs": [
    {
     "data": {
      "text/plain": [
       "Waiting for a Spark session to start..."
      ]
     },
     "metadata": {},
     "output_type": "display_data",
     "source": "user"
    },
    {
     "data": {
      "text/plain": [
       "+--------------------+--------------------+\n",
       "|                 key|               value|\n",
       "+--------------------+--------------------+\n",
       "|        spark.app.id|application_17065...|\n",
       "|      spark.app.name|        Apache Toree|\n",
       "|spark.driver.appU...|http://itvdelab:4...|\n",
       "|spark.driver.extr...|-Dderby.system.ho...|\n",
       "|   spark.driver.host|            itvdelab|\n",
       "|   spark.driver.port|               39841|\n",
       "|  spark.eventLog.dir| hdfs:///spark2-logs|\n",
       "|spark.eventLog.en...|                true|\n",
       "|   spark.executor.id|              driver|\n",
       "|spark.history.fs....| hdfs:///spark2-logs|\n",
       "+--------------------+--------------------+\n",
       "only showing top 10 rows\n",
       "\n"
      ]
     },
     "execution_count": 2,
     "metadata": {},
     "output_type": "execute_result"
    }
   ],
   "source": [
    "%%sql\n",
    "\n",
    "SET"
   ]
  },
  {
   "cell_type": "code",
   "execution_count": 3,
   "id": "4cabfc8c-812f-4574-a95f-b92d81079da2",
   "metadata": {},
   "outputs": [
    {
     "data": {
      "text/plain": [
       "+--------------------+--------------------+\n",
       "|                 key|               value|\n",
       "+--------------------+--------------------+\n",
       "|spark.sql.warehou...|/user/itversity/w...|\n",
       "+--------------------+--------------------+\n",
       "\n"
      ]
     },
     "execution_count": 3,
     "metadata": {},
     "output_type": "execute_result"
    }
   ],
   "source": [
    "%%sql\n",
    "\n",
    "SET spark.sql.warehouse.dir"
   ]
  },
  {
   "cell_type": "code",
   "execution_count": 4,
   "id": "a1b063d9-97a0-424c-a585-85a908cc5977",
   "metadata": {},
   "outputs": [
    {
     "data": {
      "text/plain": [
       "+--------------------+-----+\n",
       "|                 key|value|\n",
       "+--------------------+-----+\n",
       "|spark.sql.shuffle...|  200|\n",
       "+--------------------+-----+\n",
       "\n"
      ]
     },
     "execution_count": 4,
     "metadata": {},
     "output_type": "execute_result"
    }
   ],
   "source": [
    "%%sql\n",
    "\n",
    "SET spark.sql.shuffle.partitions"
   ]
  },
  {
   "cell_type": "code",
   "execution_count": 6,
   "id": "b50fbd7a-4d8c-4f8a-9442-bf5ae5983f02",
   "metadata": {},
   "outputs": [
    {
     "data": {
      "text/plain": [
       "+--------------------+-----+\n",
       "|                 key|value|\n",
       "+--------------------+-----+\n",
       "|spark.sql.shuffle...|    2|\n",
       "+--------------------+-----+\n",
       "\n"
      ]
     },
     "execution_count": 6,
     "metadata": {},
     "output_type": "execute_result"
    }
   ],
   "source": [
    "%%sql\n",
    "\n",
    "SET spark.sql.shuffle.partitions=2"
   ]
  },
  {
   "cell_type": "code",
   "execution_count": null,
   "id": "45687efd-924d-44b7-9386-23e803984ea1",
   "metadata": {},
   "outputs": [],
   "source": []
  }
 ],
 "metadata": {
  "kernelspec": {
   "display_name": "Apache Toree - Scala",
   "language": "scala",
   "name": "apache_toree_scala"
  },
  "language_info": {
   "codemirror_mode": "text/x-scala",
   "file_extension": ".scala",
   "mimetype": "text/x-scala",
   "name": "scala",
   "pygments_lexer": "scala",
   "version": "2.11.12"
  }
 },
 "nbformat": 4,
 "nbformat_minor": 5
}
