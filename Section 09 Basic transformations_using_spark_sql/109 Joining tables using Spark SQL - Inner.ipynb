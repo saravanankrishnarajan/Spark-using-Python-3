{
 "cells": [
  {
   "cell_type": "markdown",
   "id": "1c42f551-b893-47ac-8d13-bda5ba6b00b5",
   "metadata": {},
   "source": [
    "## 109 Joining tables using Spark SQL - Inner"
   ]
  },
  {
   "cell_type": "code",
   "execution_count": 1,
   "id": "681ebaf7-95fc-418f-a737-4529c6d4de21",
   "metadata": {},
   "outputs": [
    {
     "data": {
      "text/plain": [
       "username = itversity\n"
      ]
     },
     "metadata": {},
     "output_type": "display_data",
     "source": "user"
    },
    {
     "data": {
      "text/plain": [
       "itversity"
      ]
     },
     "execution_count": 1,
     "metadata": {},
     "output_type": "execute_result"
    }
   ],
   "source": [
    "val username = System.getProperty(\"user.name\")"
   ]
  },
  {
   "cell_type": "code",
   "execution_count": 2,
   "id": "aabe3655-b4b4-45e3-8469-c8da29fb7e39",
   "metadata": {},
   "outputs": [
    {
     "data": {
      "text/plain": [
       "username = itversity\n",
       "spark = org.apache.spark.sql.SparkSession@16f24ebd\n"
      ]
     },
     "metadata": {},
     "output_type": "display_data",
     "source": "user"
    },
    {
     "data": {
      "text/plain": [
       "org.apache.spark.sql.SparkSession@16f24ebd"
      ]
     },
     "execution_count": 2,
     "metadata": {},
     "output_type": "execute_result"
    }
   ],
   "source": [
    "import org.apache.spark.sql.SparkSession\n",
    "\n",
    "val username = System.getProperty(\"user.name\")\n",
    "val spark = SparkSession.\n",
    "    builder.\n",
    "    config(\"spark.ui.port\", \"0\").\n",
    "    config(\"spark.sql.warehouse.dir\", s\"/user/${username}/warehouse\").\n",
    "    enableHiveSupport.\n",
    "    appName(s\"${username} | Spark SQL - Managing Tables - Basic DDL and DML\").\n",
    "    master(\"yarn\").\n",
    "    getOrCreate"
   ]
  },
  {
   "cell_type": "code",
   "execution_count": 3,
   "id": "b504ee3e-2e12-4608-8511-380af656da1d",
   "metadata": {},
   "outputs": [
    {
     "data": {
      "text/plain": [
       "Waiting for a Spark session to start..."
      ]
     },
     "metadata": {},
     "output_type": "display_data",
     "source": "user"
    },
    {
     "data": {
      "text/plain": [
       "++\n",
       "||\n",
       "++\n",
       "++\n",
       "\n"
      ]
     },
     "execution_count": 3,
     "metadata": {},
     "output_type": "execute_result"
    }
   ],
   "source": [
    "%%sql\n",
    "\n",
    "use itversity_retail"
   ]
  },
  {
   "cell_type": "code",
   "execution_count": 4,
   "id": "33cae552-c6f7-4c63-a805-157956524e30",
   "metadata": {},
   "outputs": [
    {
     "data": {
      "text/plain": [
       "+----------------+---------+-----------+\n",
       "|        database|tableName|isTemporary|\n",
       "+----------------+---------+-----------+\n",
       "|itversity_retail|   orders|      false|\n",
       "|itversity_retail| students|      false|\n",
       "+----------------+---------+-----------+\n",
       "\n"
      ]
     },
     "execution_count": 4,
     "metadata": {},
     "output_type": "execute_result"
    }
   ],
   "source": [
    "%%sql\n",
    "\n",
    "show tables"
   ]
  },
  {
   "cell_type": "code",
   "execution_count": 5,
   "id": "2282abe1-4091-42b1-94fa-423e7cbf3527",
   "metadata": {},
   "outputs": [
    {
     "data": {
      "text/plain": [
       "++\n",
       "||\n",
       "++\n",
       "++\n",
       "\n"
      ]
     },
     "execution_count": 5,
     "metadata": {},
     "output_type": "execute_result"
    }
   ],
   "source": [
    "%%sql \n",
    "\n",
    "CREATE TABLE order_items (\n",
    "    order_item_id INT,\n",
    "    order_item_order_id INT,\n",
    "    order_item_product_id INT,\n",
    "    order_item_quantity INT,\n",
    "    order_item_subtotal FLOAT,\n",
    "    order_item_product_price FLOAT\n",
    ") ROW FORMAT DELIMITED FIELDS TERMINATED BY ','"
   ]
  },
  {
   "cell_type": "code",
   "execution_count": 6,
   "id": "5783d9d6-942c-49a4-8d44-1dee7f3b8f62",
   "metadata": {},
   "outputs": [
    {
     "data": {
      "text/plain": [
       "warning: there was one feature warning; re-run with -feature for details\n"
      ]
     },
     "metadata": {},
     "output_type": "display_data",
     "source": "user"
    },
    {
     "data": {
      "text/plain": [
       "0"
      ]
     },
     "execution_count": 6,
     "metadata": {},
     "output_type": "execute_result"
    }
   ],
   "source": [
    "import sys.process._\n",
    "s\"hdfs dfs -ls /user/itversity/warehouse/itversity_retail.db/order_items\"!"
   ]
  },
  {
   "cell_type": "code",
   "execution_count": 7,
   "id": "35175bb9-97b1-495d-b6ca-b1be73be82cd",
   "metadata": {},
   "outputs": [
    {
     "data": {
      "text/plain": [
       "++\n",
       "||\n",
       "++\n",
       "++\n",
       "\n"
      ]
     },
     "execution_count": 7,
     "metadata": {},
     "output_type": "execute_result"
    }
   ],
   "source": [
    "%%sql\n",
    "\n",
    "LOAD DATA LOCAL INPATH '/data/retail_db/order_items' INTO TABLE order_items"
   ]
  },
  {
   "cell_type": "code",
   "execution_count": 8,
   "id": "2d8bda7e-7066-4fb8-870e-fc33ea835c02",
   "metadata": {},
   "outputs": [
    {
     "data": {
      "text/plain": [
       "+--------+\n",
       "|count(1)|\n",
       "+--------+\n",
       "|  172198|\n",
       "+--------+\n",
       "\n"
      ]
     },
     "execution_count": 8,
     "metadata": {},
     "output_type": "execute_result"
    }
   ],
   "source": [
    "%%sql\n",
    "select count(1) from order_items"
   ]
  },
  {
   "cell_type": "code",
   "execution_count": 9,
   "id": "379863d7-7596-435f-9b01-3b7ae956e1f5",
   "metadata": {},
   "outputs": [
    {
     "data": {
      "text/plain": [
       "|   34571|2014-02-23 00:00:...|      ...\n"
      ]
     },
     "metadata": {},
     "output_type": "display_data",
     "source": "user"
    },
    {
     "data": {
      "text/plain": [
       "+--------+--------------------+---------------+-------------------+\n",
       "|order_id|          order_date|   order_status|order_item_subtotal|\n",
       "+--------+--------------------+---------------+-------------------+\n",
       "|   34566|2014-02-23 00:00:...|PENDING_PAYMENT|             179.97|\n",
       "|   34566|2014-02-23 00:00:...|PENDING_PAYMENT|              250.0|\n",
       "|   34570|2014-02-23 00:00:...|         CLOSED|              49.98|\n",
       "|   34570|2014-02-23 00:00:...|         CLOSED|             119.97|\n",
       "|   34570|2014-02-23 00:00:...|         CLOSED|              200.0|\n",
       "|   34570|2014-02-23 00:00:...|         CLOSED|             239.96|\n",
       "|   34571|2014-02-23 00:00:...|         CLOSED|             399.98|\n",
       "|   34571|2014-02-23 00:00:...|         CLOSED|             299.98|\n",
       "|   34571|2014-02-23 00:00:...|         CLOSED|              59.99|\n",
       "|   34571|2014-02-23 00:00:...|         CLOSED|             299.98|\n",
       "+--------+--------------------+---------------+-------------------+\n",
       "\n"
      ]
     },
     "execution_count": 9,
     "metadata": {},
     "output_type": "execute_result"
    }
   ],
   "source": [
    "%%sql\n",
    "\n",
    "SELECT o.order_id, o.order_date, o.order_status, oi.order_item_subtotal\n",
    "FROM orders o JOIN order_items oi\n",
    "    ON o.order_id = oi.order_item_order_id\n",
    "LIMIT 10"
   ]
  },
  {
   "cell_type": "code",
   "execution_count": 10,
   "id": "30c82f07-371f-48c6-9b3c-a955c5471ea2",
   "metadata": {},
   "outputs": [
    {
     "data": {
      "text/plain": [
       "+--------+\n",
       "|count(1)|\n",
       "+--------+\n",
       "|   68883|\n",
       "+--------+\n",
       "\n"
      ]
     },
     "execution_count": 10,
     "metadata": {},
     "output_type": "execute_result"
    }
   ],
   "source": [
    "%%SQL\n",
    "\n",
    "select count(1) from orders"
   ]
  },
  {
   "cell_type": "code",
   "execution_count": 11,
   "id": "fc12cc3c-85c7-4e06-9eba-91daf3b6f804",
   "metadata": {},
   "outputs": [
    {
     "data": {
      "text/plain": [
       "+--------+\n",
       "|count(1)|\n",
       "+--------+\n",
       "|  172198|\n",
       "+--------+\n",
       "\n"
      ]
     },
     "execution_count": 11,
     "metadata": {},
     "output_type": "execute_result"
    }
   ],
   "source": [
    "%%SQL\n",
    "\n",
    "select count(1) from order_items"
   ]
  },
  {
   "cell_type": "code",
   "execution_count": 12,
   "id": "f79e8adf-0708-4188-bd91-1db76dd27fd2",
   "metadata": {},
   "outputs": [
    {
     "data": {
      "text/plain": [
       "+--------+\n",
       "|count(1)|\n",
       "+--------+\n",
       "|  172198|\n",
       "+--------+\n",
       "\n"
      ]
     },
     "execution_count": 12,
     "metadata": {},
     "output_type": "execute_result"
    }
   ],
   "source": [
    "%%SQL\n",
    "\n",
    "SELECT COUNT(1) \n",
    "FROM orders o JOIN order_items oi\n",
    "    ON o.order_id = oi.order_item_order_id"
   ]
  },
  {
   "cell_type": "code",
   "execution_count": 13,
   "id": "67b80c19-88da-429e-b838-b2c88cb06f4b",
   "metadata": {},
   "outputs": [
    {
     "data": {
      "text/plain": [
       "| ...\n"
      ]
     },
     "metadata": {},
     "output_type": "display_data",
     "source": "user"
    },
    {
     "data": {
      "text/plain": [
       "+--------+--------------------+------------+-------------------+\n",
       "|order_id|          order_date|order_status|order_item_subtotal|\n",
       "+--------+--------------------+------------+-------------------+\n",
       "|   34570|2014-02-23 00:00:...|      CLOSED|              49.98|\n",
       "|   34570|2014-02-23 00:00:...|      CLOSED|             119.97|\n",
       "|   34570|2014-02-23 00:00:...|      CLOSED|              200.0|\n",
       "|   34570|2014-02-23 00:00:...|      CLOSED|             239.96|\n",
       "|   34571|2014-02-23 00:00:...|      CLOSED|             399.98|\n",
       "|   34571|2014-02-23 00:00:...|      CLOSED|             299.98|\n",
       "|   34571|2014-02-23 00:00:...|      CLOSED|              59.99|\n",
       "|   34571|2014-02-23 00:00:...|      CLOSED|             299.98|\n",
       "|   34576|2014-02-23 00:00:...|    COMPLETE|             299.98|\n",
       "|   34576|2014-02-23 00:00:...|    COMPLETE|             124.95|\n",
       "+--------+--------------------+------------+-------------------+\n",
       "\n"
      ]
     },
     "execution_count": 13,
     "metadata": {},
     "output_type": "execute_result"
    }
   ],
   "source": [
    "%%sql\n",
    "\n",
    "SELECT o.order_id, o.order_date, o.order_status, oi.order_item_subtotal\n",
    "FROM orders o JOIN order_items oi\n",
    "    ON o.order_id = oi.order_item_order_id\n",
    "WHERE o.order_status in('COMPLETE','CLOSED')\n",
    "LIMIT 10"
   ]
  },
  {
   "cell_type": "code",
   "execution_count": 15,
   "id": "cc337215-1e70-41a2-99f5-2a548133584b",
   "metadata": {},
   "outputs": [
    {
     "data": {
      "text/plain": [
       "+--------+\n",
       "|count(1)|\n",
       "+--------+\n",
       "|   75408|\n",
       "+--------+\n",
       "\n"
      ]
     },
     "execution_count": 15,
     "metadata": {},
     "output_type": "execute_result"
    }
   ],
   "source": [
    "%%sql\n",
    "\n",
    "SELECT COUNT(1)\n",
    "FROM orders o JOIN order_items oi\n",
    "    ON o.order_id = oi.order_item_order_id\n",
    "WHERE o.order_status in('COMPLETE','CLOSED')"
   ]
  },
  {
   "cell_type": "code",
   "execution_count": 16,
   "id": "4efb690e-0912-48e0-9a3d-a650715347d3",
   "metadata": {},
   "outputs": [
    {
     "data": {
      "text/plain": [
       "| ...\n"
      ]
     },
     "metadata": {},
     "output_type": "display_data",
     "source": "user"
    },
    {
     "data": {
      "text/plain": [
       "+--------+--------------------+------------+-------------------+\n",
       "|order_id|          order_date|order_status|order_item_subtotal|\n",
       "+--------+--------------------+------------+-------------------+\n",
       "|   61898|2014-01-01 00:00:...|    COMPLETE|               50.0|\n",
       "|   61898|2014-01-01 00:00:...|    COMPLETE|             199.92|\n",
       "|   61904|2014-01-01 00:00:...|    COMPLETE|              500.0|\n",
       "|   61907|2014-01-01 00:00:...|    COMPLETE|             299.98|\n",
       "|   61907|2014-01-01 00:00:...|    COMPLETE|             399.96|\n",
       "|   61907|2014-01-01 00:00:...|    COMPLETE|             199.99|\n",
       "|   61907|2014-01-01 00:00:...|    COMPLETE|             399.98|\n",
       "|   61908|2014-01-01 00:00:...|    COMPLETE|             129.99|\n",
       "|   61910|2014-01-01 00:00:...|    COMPLETE|             119.98|\n",
       "|   61910|2014-01-01 00:00:...|    COMPLETE|             399.98|\n",
       "+--------+--------------------+------------+-------------------+\n",
       "\n"
      ]
     },
     "execution_count": 16,
     "metadata": {},
     "output_type": "execute_result"
    }
   ],
   "source": [
    "%%sql\n",
    "\n",
    "SELECT o.order_id, o.order_date, o.order_status, oi.order_item_subtotal\n",
    "FROM orders o JOIN order_items oi\n",
    "    ON o.order_id = oi.order_item_order_id\n",
    "WHERE o.order_status in('COMPLETE','CLOSED') \n",
    "    AND date_format(o.order_date,'YYYY-MM') = '2014-01'\n",
    "LIMIT 10"
   ]
  },
  {
   "cell_type": "code",
   "execution_count": 17,
   "id": "91acd8e6-dfc7-4d57-a1a9-ca38db34bba0",
   "metadata": {},
   "outputs": [
    {
     "data": {
      "text/plain": [
       "+--------+\n",
       "|count(1)|\n",
       "+--------+\n",
       "|    6198|\n",
       "+--------+\n",
       "\n"
      ]
     },
     "execution_count": 17,
     "metadata": {},
     "output_type": "execute_result"
    }
   ],
   "source": [
    "%%sql\n",
    "\n",
    "SELECT count(1)\n",
    "FROM orders o JOIN order_items oi\n",
    "    ON o.order_id = oi.order_item_order_id\n",
    "WHERE o.order_status in('COMPLETE','CLOSED') \n",
    "    AND date_format(o.order_date,'YYYY-MM') = '2014-01'\n",
    "LIMIT 10"
   ]
  },
  {
   "cell_type": "code",
   "execution_count": null,
   "id": "92bd2266-e9aa-4dcb-87d7-4a0593c18420",
   "metadata": {
    "tags": []
   },
   "outputs": [],
   "source": []
  }
 ],
 "metadata": {
  "kernelspec": {
   "display_name": "Apache Toree - Scala",
   "language": "scala",
   "name": "apache_toree_scala"
  },
  "language_info": {
   "codemirror_mode": "text/x-scala",
   "file_extension": ".scala",
   "mimetype": "text/x-scala",
   "name": "scala",
   "pygments_lexer": "scala",
   "version": "2.11.12"
  }
 },
 "nbformat": 4,
 "nbformat_minor": 5
}
