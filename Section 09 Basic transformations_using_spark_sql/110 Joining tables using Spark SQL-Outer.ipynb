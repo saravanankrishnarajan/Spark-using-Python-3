{
 "cells": [
  {
   "cell_type": "markdown",
   "id": "17a455ff-4cfe-4693-99a4-231df1100b70",
   "metadata": {},
   "source": [
    "## 110 Joining tables using Spark SQL-Outer"
   ]
  },
  {
   "cell_type": "code",
   "execution_count": 2,
   "id": "8a28b430-c019-4b74-b516-725976513c7c",
   "metadata": {},
   "outputs": [
    {
     "data": {
      "text/plain": [
       "username = itversity\n"
      ]
     },
     "metadata": {},
     "output_type": "display_data",
     "source": "user"
    },
    {
     "data": {
      "text/plain": [
       "itversity"
      ]
     },
     "execution_count": 2,
     "metadata": {},
     "output_type": "execute_result"
    }
   ],
   "source": [
    "val username = System.getProperty(\"user.name\")"
   ]
  },
  {
   "cell_type": "code",
   "execution_count": 3,
   "id": "2f18f537-961c-4cb3-a40c-5fda02f97862",
   "metadata": {},
   "outputs": [
    {
     "data": {
      "text/plain": [
       "username = itversity\n",
       "spark = org.apache.spark.sql.SparkSession@2cf176a2\n"
      ]
     },
     "metadata": {},
     "output_type": "display_data",
     "source": "user"
    },
    {
     "data": {
      "text/plain": [
       "org.apache.spark.sql.SparkSession@2cf176a2"
      ]
     },
     "execution_count": 3,
     "metadata": {},
     "output_type": "execute_result"
    }
   ],
   "source": [
    "import org.apache.spark.sql.SparkSession\n",
    "\n",
    "val username = System.getProperty(\"user.name\")\n",
    "val spark = SparkSession.\n",
    "    builder.\n",
    "    config(\"spark.ui.port\", \"0\").\n",
    "    config(\"spark.sql.warehouse.dir\", s\"/user/${username}/warehouse\").\n",
    "    enableHiveSupport.\n",
    "    appName(s\"${username} | Spark SQL - Managing Tables - Basic DDL and DML2\").\n",
    "    master(\"yarn\").\n",
    "    getOrCreate"
   ]
  },
  {
   "cell_type": "code",
   "execution_count": 9,
   "id": "05a3ae2e-e9ab-400c-86ab-e321181bae56",
   "metadata": {},
   "outputs": [
    {
     "data": {
      "text/plain": [
       "++\n",
       "||\n",
       "++\n",
       "++\n",
       "\n"
      ]
     },
     "execution_count": 9,
     "metadata": {},
     "output_type": "execute_result"
    }
   ],
   "source": [
    "%%sql\n",
    "\n",
    "use itversity_retail"
   ]
  },
  {
   "cell_type": "code",
   "execution_count": 10,
   "id": "ae7b4828-2157-4613-8727-296dfdde200b",
   "metadata": {},
   "outputs": [
    {
     "data": {
      "text/plain": [
       "+----------------+-----------+-----------+\n",
       "|        database|  tableName|isTemporary|\n",
       "+----------------+-----------+-----------+\n",
       "|itversity_retail|order_items|      false|\n",
       "|itversity_retail|     orders|      false|\n",
       "|itversity_retail|   students|      false|\n",
       "+----------------+-----------+-----------+\n",
       "\n"
      ]
     },
     "execution_count": 10,
     "metadata": {},
     "output_type": "execute_result"
    }
   ],
   "source": [
    "%%sql\n",
    "\n",
    "show tables"
   ]
  },
  {
   "cell_type": "code",
   "execution_count": 18,
   "id": "a1260c46-0cab-472b-b89a-0334563d420a",
   "metadata": {},
   "outputs": [
    {
     "data": {
      "text/plain": [
       "+--------+\n",
       "|count(1)|\n",
       "+--------+\n",
       "|   68883|\n",
       "+--------+\n",
       "\n"
      ]
     },
     "execution_count": 18,
     "metadata": {},
     "output_type": "execute_result"
    }
   ],
   "source": [
    "%%sql\n",
    "\n",
    "SELECT COUNT(1) FROM orders"
   ]
  },
  {
   "cell_type": "code",
   "execution_count": 12,
   "id": "9ccb608a-6d97-499f-94ed-202020b548b7",
   "metadata": {},
   "outputs": [
    {
     "data": {
      "text/plain": [
       "|       4|201...\n"
      ]
     },
     "metadata": {},
     "output_type": "display_data",
     "source": "user"
    },
    {
     "data": {
      "text/plain": [
       "+--------+--------------------+---------------+-------------------+-------------------+\n",
       "|order_id|          order_date|   order_status|order_item_order_id|order_item_subtotal|\n",
       "+--------+--------------------+---------------+-------------------+-------------------+\n",
       "|       1|2013-07-25 00:00:...|         CLOSED|                  1|             299.98|\n",
       "|       2|2013-07-25 00:00:...|PENDING_PAYMENT|                  2|             129.99|\n",
       "|       2|2013-07-25 00:00:...|PENDING_PAYMENT|                  2|              250.0|\n",
       "|       2|2013-07-25 00:00:...|PENDING_PAYMENT|                  2|             199.99|\n",
       "|       3|2013-07-25 00:00:...|       COMPLETE|               null|               null|\n",
       "|       4|2013-07-25 00:00:...|         CLOSED|                  4|             199.92|\n",
       "|       4|2013-07-25 00:00:...|         CLOSED|                  4|              150.0|\n",
       "|       4|2013-07-25 00:00:...|         CLOSED|                  4|             299.95|\n",
       "|       4|2013-07-25 00:00:...|         CLOSED|                  4|              49.98|\n",
       "|       5|2013-07-25 00:00:...|       COMPLETE|                  5|             129.99|\n",
       "+--------+--------------------+---------------+-------------------+-------------------+\n",
       "only showing top 10 rows\n",
       "\n"
      ]
     },
     "execution_count": 12,
     "metadata": {},
     "output_type": "execute_result"
    }
   ],
   "source": [
    "%%sql\n",
    "\n",
    "SELECT o.order_id, o.order_date, o.order_status, oi.order_item_order_id, oi.order_item_subtotal\n",
    "FROM orders o LEFT OUTER JOIN order_items oi\n",
    "    ON o.order_id = oi.order_item_order_id"
   ]
  },
  {
   "cell_type": "code",
   "execution_count": 13,
   "id": "f2421261-ec24-4dbb-b911-3be2dbb45f06",
   "metadata": {},
   "outputs": [
    {
     "data": {
      "text/plain": [
       "+--------+\n",
       "|count(1)|\n",
       "+--------+\n",
       "|  183650|\n",
       "+--------+\n",
       "\n"
      ]
     },
     "execution_count": 13,
     "metadata": {},
     "output_type": "execute_result"
    }
   ],
   "source": [
    "%%sql\n",
    "\n",
    "SELECT count(1)\n",
    "FROM orders o LEFT OUTER JOIN order_items oi\n",
    "    ON o.order_id = oi.order_item_order_id"
   ]
  },
  {
   "cell_type": "code",
   "execution_count": 14,
   "id": "e24c7096-16d7-4c77-97de-6b1e21fe27ec",
   "metadata": {},
   "outputs": [
    {
     "data": {
      "text/plain": [
       "+-----------------+\n",
       "|(183650 - 172198)|\n",
       "+-----------------+\n",
       "|            11452|\n",
       "+-----------------+\n",
       "\n"
      ]
     },
     "execution_count": 14,
     "metadata": {},
     "output_type": "execute_result"
    }
   ],
   "source": [
    "%%sql\n",
    "\n",
    "select 183650-172198"
   ]
  },
  {
   "cell_type": "code",
   "execution_count": 15,
   "id": "8c41e251-c2ad-4db9-824d-c6fe27405a58",
   "metadata": {},
   "outputs": [
    {
     "data": {
      "text/plain": [
       "|      40|201...\n"
      ]
     },
     "metadata": {},
     "output_type": "display_data",
     "source": "user"
    },
    {
     "data": {
      "text/plain": [
       "+--------+--------------------+---------------+-------------------+-------------------+\n",
       "|order_id|          order_date|   order_status|order_item_order_id|order_item_subtotal|\n",
       "+--------+--------------------+---------------+-------------------+-------------------+\n",
       "|       3|2013-07-25 00:00:...|       COMPLETE|               null|               null|\n",
       "|       6|2013-07-25 00:00:...|       COMPLETE|               null|               null|\n",
       "|      22|2013-07-25 00:00:...|       COMPLETE|               null|               null|\n",
       "|      26|2013-07-25 00:00:...|       COMPLETE|               null|               null|\n",
       "|      32|2013-07-25 00:00:...|       COMPLETE|               null|               null|\n",
       "|      40|2013-07-25 00:00:...|PENDING_PAYMENT|               null|               null|\n",
       "|      47|2013-07-25 00:00:...|PENDING_PAYMENT|               null|               null|\n",
       "|      53|2013-07-25 00:00:...|     PROCESSING|               null|               null|\n",
       "|      54|2013-07-25 00:00:...|PENDING_PAYMENT|               null|               null|\n",
       "|      55|2013-07-25 00:00:...|        PENDING|               null|               null|\n",
       "+--------+--------------------+---------------+-------------------+-------------------+\n",
       "only showing top 10 rows\n",
       "\n"
      ]
     },
     "execution_count": 15,
     "metadata": {},
     "output_type": "execute_result"
    }
   ],
   "source": [
    "%%sql\n",
    "\n",
    "SELECT o.order_id, o.order_date, o.order_status, oi.order_item_order_id, oi.order_item_subtotal\n",
    "FROM orders o LEFT OUTER JOIN order_items oi\n",
    "    ON o.order_id = oi.order_item_order_id\n",
    "WHERE oi.order_item_order_id IS NULL"
   ]
  },
  {
   "cell_type": "code",
   "execution_count": 17,
   "id": "3ab50e97-8894-412e-80d6-a8761d346050",
   "metadata": {},
   "outputs": [
    {
     "data": {
      "text/plain": [
       "+--------+\n",
       "|count(1)|\n",
       "+--------+\n",
       "|   11452|\n",
       "+--------+\n",
       "\n"
      ]
     },
     "execution_count": 17,
     "metadata": {},
     "output_type": "execute_result"
    }
   ],
   "source": [
    "%%sql\n",
    "\n",
    "SELECT count(1)\n",
    "FROM orders o LEFT OUTER JOIN order_items oi\n",
    "    ON o.order_id = oi.order_item_order_id\n",
    "WHERE oi.order_item_order_id IS NULL"
   ]
  },
  {
   "cell_type": "code",
   "execution_count": 19,
   "id": "95ed4a12-7fde-462e-b8e1-c954f425a528",
   "metadata": {},
   "outputs": [
    {
     "data": {
      "text/plain": [
       "+--------+\n",
       "|count(1)|\n",
       "+--------+\n",
       "|    5189|\n",
       "+--------+\n",
       "\n"
      ]
     },
     "execution_count": 19,
     "metadata": {},
     "output_type": "execute_result"
    }
   ],
   "source": [
    "%%sql\n",
    "\n",
    "SELECT COUNT(1)\n",
    "FROM orders o LEFT OUTER JOIN order_items oi\n",
    "    ON o.order_id = oi.order_item_order_id\n",
    "WHERE oi.order_item_order_id IS NULL \n",
    "    AND o.order_status IN ('COMPLETE', 'CLOSED')"
   ]
  },
  {
   "cell_type": "code",
   "execution_count": 21,
   "id": "d159daf2-cd8c-4b38-a863-337270b521d4",
   "metadata": {},
   "outputs": [
    {
     "data": {
      "text/plain": [
       "|       4|201...\n"
      ]
     },
     "metadata": {},
     "output_type": "display_data",
     "source": "user"
    },
    {
     "data": {
      "text/plain": [
       "+--------+--------------------+---------------+-------------------+-------------------+\n",
       "|order_id|          order_date|   order_status|order_item_order_id|order_item_subtotal|\n",
       "+--------+--------------------+---------------+-------------------+-------------------+\n",
       "|       1|2013-07-25 00:00:...|         CLOSED|                  1|             299.98|\n",
       "|       2|2013-07-25 00:00:...|PENDING_PAYMENT|                  2|             199.99|\n",
       "|       2|2013-07-25 00:00:...|PENDING_PAYMENT|                  2|              250.0|\n",
       "|       2|2013-07-25 00:00:...|PENDING_PAYMENT|                  2|             129.99|\n",
       "|       4|2013-07-25 00:00:...|         CLOSED|                  4|              49.98|\n",
       "|       4|2013-07-25 00:00:...|         CLOSED|                  4|             299.95|\n",
       "|       4|2013-07-25 00:00:...|         CLOSED|                  4|              150.0|\n",
       "|       4|2013-07-25 00:00:...|         CLOSED|                  4|             199.92|\n",
       "|       5|2013-07-25 00:00:...|       COMPLETE|                  5|             299.98|\n",
       "|       5|2013-07-25 00:00:...|       COMPLETE|                  5|             299.95|\n",
       "+--------+--------------------+---------------+-------------------+-------------------+\n",
       "only showing top 10 rows\n",
       "\n"
      ]
     },
     "execution_count": 21,
     "metadata": {},
     "output_type": "execute_result"
    }
   ],
   "source": [
    "%%sql\n",
    "\n",
    "SELECT o.order_id, o.order_date, o.order_status, oi.order_item_order_id, oi.order_item_subtotal\n",
    "FROM orders o RIGHT OUTER JOIN order_items oi\n",
    "    ON o.order_id = oi.order_item_order_id"
   ]
  },
  {
   "cell_type": "code",
   "execution_count": 22,
   "id": "903a324b-415d-4d00-96af-c1dc6e5570b3",
   "metadata": {},
   "outputs": [
    {
     "data": {
      "text/plain": [
       "+--------+\n",
       "|count(1)|\n",
       "+--------+\n",
       "|  172198|\n",
       "+--------+\n",
       "\n"
      ]
     },
     "execution_count": 22,
     "metadata": {},
     "output_type": "execute_result"
    }
   ],
   "source": [
    "%%sql\n",
    "\n",
    "SELECT COUNT(1)\n",
    "FROM orders o RIGHT OUTER JOIN order_items oi\n",
    "    ON o.order_id = oi.order_item_order_id"
   ]
  },
  {
   "cell_type": "code",
   "execution_count": 23,
   "id": "b82a77da-6b2f-44a3-bf85-f974a9ec6ada",
   "metadata": {},
   "outputs": [
    {
     "data": {
      "text/plain": [
       "+--------+----------+------------+-------------------+-------------------+\n",
       "|order_id|order_date|order_status|order_item_order_id|order_item_subtotal|\n",
       "+--------+----------+------------+-------------------+-------------------+\n",
       "+--------+----------+------------+-------------------+-------------------+\n",
       "\n"
      ]
     },
     "execution_count": 23,
     "metadata": {},
     "output_type": "execute_result"
    }
   ],
   "source": [
    "%%sql\n",
    "\n",
    "SELECT o.order_id, o.order_date, o.order_status, oi.order_item_order_id, oi.order_item_subtotal\n",
    "FROM orders o RIGHT OUTER JOIN order_items oi\n",
    "    ON o.order_id = oi.order_item_order_id\n",
    "WHERE o.order_id IS NULL"
   ]
  },
  {
   "cell_type": "code",
   "execution_count": null,
   "id": "37c3e71a-5aea-4d78-a1a1-9a38e32cfd7c",
   "metadata": {},
   "outputs": [],
   "source": []
  }
 ],
 "metadata": {
  "kernelspec": {
   "display_name": "Apache Toree - Scala",
   "language": "scala",
   "name": "apache_toree_scala"
  },
  "language_info": {
   "codemirror_mode": "text/x-scala",
   "file_extension": ".scala",
   "mimetype": "text/x-scala",
   "name": "scala",
   "pygments_lexer": "scala",
   "version": "2.11.12"
  }
 },
 "nbformat": 4,
 "nbformat_minor": 5
}
