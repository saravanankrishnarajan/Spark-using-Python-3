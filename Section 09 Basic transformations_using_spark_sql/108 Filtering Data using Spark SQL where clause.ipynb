{
 "cells": [
  {
   "cell_type": "markdown",
   "id": "ee7d8c3d-2a23-4c4f-8dd2-20dcc46f48e1",
   "metadata": {},
   "source": [
    "## 108 Filtering Data using Spark SQL where clause"
   ]
  },
  {
   "cell_type": "code",
   "execution_count": 2,
   "id": "6498059a-29ce-4fc4-a7dc-8d980777a6de",
   "metadata": {},
   "outputs": [
    {
     "data": {
      "text/plain": [
       "username = itversity\n"
      ]
     },
     "metadata": {},
     "output_type": "display_data",
     "source": "user"
    },
    {
     "data": {
      "text/plain": [
       "itversity"
      ]
     },
     "execution_count": 2,
     "metadata": {},
     "output_type": "execute_result"
    }
   ],
   "source": [
    "val username = System.getProperty(\"user.name\")"
   ]
  },
  {
   "cell_type": "code",
   "execution_count": 3,
   "id": "1c333889-43ca-48e6-babc-81ba858f53c2",
   "metadata": {},
   "outputs": [
    {
     "data": {
      "text/plain": [
       "username = itversity\n",
       "spark = org.apache.spark.sql.SparkSession@7e6e4764\n"
      ]
     },
     "metadata": {},
     "output_type": "display_data",
     "source": "user"
    },
    {
     "data": {
      "text/plain": [
       "org.apache.spark.sql.SparkSession@7e6e4764"
      ]
     },
     "execution_count": 3,
     "metadata": {},
     "output_type": "execute_result"
    }
   ],
   "source": [
    "import org.apache.spark.sql.SparkSession\n",
    "\n",
    "val username = System.getProperty(\"user.name\")\n",
    "val spark = SparkSession.\n",
    "    builder.\n",
    "    config(\"spark.ui.port\", \"0\").\n",
    "    config(\"spark.sql.warehouse.dir\", s\"/user/${username}/warehouse\").\n",
    "    enableHiveSupport.\n",
    "    appName(s\"${username} | Spark SQL - Managing Tables - Basic DDL and DML\").\n",
    "    master(\"yarn\").\n",
    "    getOrCreate"
   ]
  },
  {
   "cell_type": "code",
   "execution_count": 4,
   "id": "689eca89-000c-4d85-b455-8e08a74629e2",
   "metadata": {},
   "outputs": [
    {
     "data": {
      "text/plain": [
       "Waiting for a Spark session to start..."
      ]
     },
     "metadata": {},
     "output_type": "display_data",
     "source": "user"
    },
    {
     "data": {
      "text/plain": [
       "++\n",
       "||\n",
       "++\n",
       "++\n",
       "\n"
      ]
     },
     "execution_count": 4,
     "metadata": {},
     "output_type": "execute_result"
    }
   ],
   "source": [
    "%%sql\n",
    "\n",
    "use itversity_retail"
   ]
  },
  {
   "cell_type": "code",
   "execution_count": 5,
   "id": "f3f39847-3750-48e1-aefe-501c46cff87c",
   "metadata": {},
   "outputs": [
    {
     "data": {
      "text/plain": [
       "+----------------+---------+-----------+\n",
       "|        database|tableName|isTemporary|\n",
       "+----------------+---------+-----------+\n",
       "|itversity_retail|   orders|      false|\n",
       "+----------------+---------+-----------+\n",
       "\n"
      ]
     },
     "execution_count": 5,
     "metadata": {},
     "output_type": "execute_result"
    }
   ],
   "source": [
    "%%sql\n",
    "\n",
    "show tables"
   ]
  },
  {
   "cell_type": "code",
   "execution_count": 6,
   "id": "a3fdb3d2-a8db-4d20-a8a1-289477c0e77f",
   "metadata": {},
   "outputs": [
    {
     "data": {
      "text/plain": [
       "|      28|2013-07-25 00:...\n"
      ]
     },
     "metadata": {},
     "output_type": "display_data",
     "source": "user"
    },
    {
     "data": {
      "text/plain": [
       "+--------+--------------------+-----------------+------------+\n",
       "|order_id|          order_date|order_customer_id|order_status|\n",
       "+--------+--------------------+-----------------+------------+\n",
       "|       3|2013-07-25 00:00:...|            12111|    COMPLETE|\n",
       "|       5|2013-07-25 00:00:...|            11318|    COMPLETE|\n",
       "|       6|2013-07-25 00:00:...|             7130|    COMPLETE|\n",
       "|       7|2013-07-25 00:00:...|             4530|    COMPLETE|\n",
       "|      15|2013-07-25 00:00:...|             2568|    COMPLETE|\n",
       "|      17|2013-07-25 00:00:...|             2667|    COMPLETE|\n",
       "|      22|2013-07-25 00:00:...|              333|    COMPLETE|\n",
       "|      26|2013-07-25 00:00:...|             7562|    COMPLETE|\n",
       "|      28|2013-07-25 00:00:...|              656|    COMPLETE|\n",
       "|      32|2013-07-25 00:00:...|             3960|    COMPLETE|\n",
       "+--------+--------------------+-----------------+------------+\n",
       "\n"
      ]
     },
     "execution_count": 6,
     "metadata": {},
     "output_type": "execute_result"
    }
   ],
   "source": [
    "%%sql\n",
    "\n",
    "SELECT * FROM orders WHERE order_status ='COMPLETE' LIMIT 10"
   ]
  },
  {
   "cell_type": "code",
   "execution_count": 9,
   "id": "7822353c-3a8e-4c74-b6b9-d1f5ae21ee45",
   "metadata": {},
   "outputs": [
    {
     "data": {
      "text/plain": [
       "+--------+\n",
       "|count(1)|\n",
       "+--------+\n",
       "|   22899|\n",
       "+--------+\n",
       "\n"
      ]
     },
     "execution_count": 9,
     "metadata": {},
     "output_type": "execute_result"
    }
   ],
   "source": [
    "%%sql\n",
    "\n",
    "SELECT COUNT(1) FROM orders where order_status='COMPLETE'"
   ]
  },
  {
   "cell_type": "code",
   "execution_count": 10,
   "id": "122160cc-34cd-4bd5-9b52-d2e49377da1a",
   "metadata": {},
   "outputs": [
    {
     "data": {
      "text/plain": [
       "+---------------+--------+\n",
       "|   order_status|count(1)|\n",
       "+---------------+--------+\n",
       "|PENDING_PAYMENT|   15030|\n",
       "|       COMPLETE|   22899|\n",
       "|        ON_HOLD|    3798|\n",
       "| PAYMENT_REVIEW|     729|\n",
       "|     PROCESSING|    8275|\n",
       "|         CLOSED|    7556|\n",
       "|SUSPECTED_FRAUD|    1558|\n",
       "|        PENDING|    7610|\n",
       "|       CANCELED|    1428|\n",
       "+---------------+--------+\n",
       "\n"
      ]
     },
     "execution_count": 10,
     "metadata": {},
     "output_type": "execute_result"
    }
   ],
   "source": [
    "%%sql\n",
    "\n",
    "SELECT order_status, count(1) FROM orders group by order_status"
   ]
  },
  {
   "cell_type": "code",
   "execution_count": 11,
   "id": "e193265b-3932-480a-9167-e4833df4108d",
   "metadata": {},
   "outputs": [
    {
     "data": {
      "text/plain": [
       "|   34589|2014-02-23 00:...\n"
      ]
     },
     "metadata": {},
     "output_type": "display_data",
     "source": "user"
    },
    {
     "data": {
      "text/plain": [
       "+--------+--------------------+-----------------+------------+\n",
       "|order_id|          order_date|order_customer_id|order_status|\n",
       "+--------+--------------------+-----------------+------------+\n",
       "|   34565|2014-02-23 00:00:...|             8702|    COMPLETE|\n",
       "|   34568|2014-02-23 00:00:...|             1271|    COMPLETE|\n",
       "|   34569|2014-02-23 00:00:...|            11083|    COMPLETE|\n",
       "|   34570|2014-02-23 00:00:...|             3159|      CLOSED|\n",
       "|   34571|2014-02-23 00:00:...|             4551|      CLOSED|\n",
       "|   34576|2014-02-23 00:00:...|             6117|    COMPLETE|\n",
       "|   34580|2014-02-23 00:00:...|             6540|    COMPLETE|\n",
       "|   34581|2014-02-23 00:00:...|             4882|    COMPLETE|\n",
       "|   34589|2014-02-23 00:00:...|               42|    COMPLETE|\n",
       "|   34590|2014-02-23 00:00:...|            10367|    COMPLETE|\n",
       "+--------+--------------------+-----------------+------------+\n",
       "\n"
      ]
     },
     "execution_count": 11,
     "metadata": {},
     "output_type": "execute_result"
    }
   ],
   "source": [
    "%%sql\n",
    "\n",
    "SELECT * FROM orders where order_status IN ('COMPLETE','CLOSED') limit 10"
   ]
  },
  {
   "cell_type": "code",
   "execution_count": 12,
   "id": "8497873e-0fe6-408e-9c71-2f79ebd09e85",
   "metadata": {},
   "outputs": [
    {
     "data": {
      "text/plain": [
       "|   34589|2014-02-23 00:...\n"
      ]
     },
     "metadata": {},
     "output_type": "display_data",
     "source": "user"
    },
    {
     "data": {
      "text/plain": [
       "+--------+--------------------+-----------------+------------+\n",
       "|order_id|          order_date|order_customer_id|order_status|\n",
       "+--------+--------------------+-----------------+------------+\n",
       "|   34565|2014-02-23 00:00:...|             8702|    COMPLETE|\n",
       "|   34568|2014-02-23 00:00:...|             1271|    COMPLETE|\n",
       "|   34569|2014-02-23 00:00:...|            11083|    COMPLETE|\n",
       "|   34570|2014-02-23 00:00:...|             3159|      CLOSED|\n",
       "|   34571|2014-02-23 00:00:...|             4551|      CLOSED|\n",
       "|   34576|2014-02-23 00:00:...|             6117|    COMPLETE|\n",
       "|   34580|2014-02-23 00:00:...|             6540|    COMPLETE|\n",
       "|   34581|2014-02-23 00:00:...|             4882|    COMPLETE|\n",
       "|   34589|2014-02-23 00:00:...|               42|    COMPLETE|\n",
       "|   34590|2014-02-23 00:00:...|            10367|    COMPLETE|\n",
       "+--------+--------------------+-----------------+------------+\n",
       "\n"
      ]
     },
     "execution_count": 12,
     "metadata": {},
     "output_type": "execute_result"
    }
   ],
   "source": [
    "%%sql\n",
    "\n",
    "select * from orders where order_status = 'COMPLETE' or order_status = 'CLOSED' LIMIT 10"
   ]
  },
  {
   "cell_type": "code",
   "execution_count": 14,
   "id": "eeb93aa8-702f-48f5-9c45-2ea37b08cd4f",
   "metadata": {},
   "outputs": [
    {
     "data": {
      "text/plain": [
       "+--------+\n",
       "|count(1)|\n",
       "+--------+\n",
       "|   30455|\n",
       "+--------+\n",
       "\n"
      ]
     },
     "execution_count": 14,
     "metadata": {},
     "output_type": "execute_result"
    }
   ],
   "source": [
    "%%SQL\n",
    "\n",
    "select count(1) from orders where order_status IN ('COMPLETE', 'CLOSED')"
   ]
  },
  {
   "cell_type": "code",
   "execution_count": 15,
   "id": "ebf21bcc-bee6-470d-9137-0a7a5777e6ce",
   "metadata": {},
   "outputs": [
    {
     "data": {
      "text/plain": [
       "+--------+\n",
       "|count(1)|\n",
       "+--------+\n",
       "|   30455|\n",
       "+--------+\n",
       "\n"
      ]
     },
     "execution_count": 15,
     "metadata": {},
     "output_type": "execute_result"
    }
   ],
   "source": [
    "%%SQL\n",
    "\n",
    "select count(1) from orders where order_status = 'COMPLETE' or order_status = 'CLOSED'"
   ]
  },
  {
   "cell_type": "code",
   "execution_count": 16,
   "id": "c9e4b52f-fc95-4560-98dc-aaea58a2630b",
   "metadata": {},
   "outputs": [
    {
     "data": {
      "text/plain": [
       "|   25900|2014-01-01 00:...\n"
      ]
     },
     "metadata": {},
     "output_type": "display_data",
     "source": "user"
    },
    {
     "data": {
      "text/plain": [
       "+--------+--------------------+-----------------+------------+\n",
       "|order_id|          order_date|order_customer_id|order_status|\n",
       "+--------+--------------------+-----------------+------------+\n",
       "|   25882|2014-01-01 00:00:...|             4598|    COMPLETE|\n",
       "|   25888|2014-01-01 00:00:...|             6735|    COMPLETE|\n",
       "|   25889|2014-01-01 00:00:...|            10045|    COMPLETE|\n",
       "|   25891|2014-01-01 00:00:...|             3037|      CLOSED|\n",
       "|   25895|2014-01-01 00:00:...|             1044|    COMPLETE|\n",
       "|   25897|2014-01-01 00:00:...|             6405|    COMPLETE|\n",
       "|   25898|2014-01-01 00:00:...|             3950|    COMPLETE|\n",
       "|   25899|2014-01-01 00:00:...|             8068|      CLOSED|\n",
       "|   25900|2014-01-01 00:00:...|             2382|      CLOSED|\n",
       "|   25901|2014-01-01 00:00:...|             3099|    COMPLETE|\n",
       "+--------+--------------------+-----------------+------------+\n",
       "\n"
      ]
     },
     "execution_count": 16,
     "metadata": {},
     "output_type": "execute_result"
    }
   ],
   "source": [
    "%%sql\n",
    "\n",
    "SELECT * FROM orders\n",
    "WHERE order_status in ('COMPLETE','CLOSED')\n",
    "    AND order_date like '2014-01%'\n",
    "LIMIT 10"
   ]
  },
  {
   "cell_type": "code",
   "execution_count": 18,
   "id": "56680d63-cd39-493e-8a9f-d5d49885123e",
   "metadata": {},
   "outputs": [
    {
     "data": {
      "text/plain": [
       "+--------+\n",
       "|count(1)|\n",
       "+--------+\n",
       "|    2544|\n",
       "+--------+\n",
       "\n"
      ]
     },
     "execution_count": 18,
     "metadata": {},
     "output_type": "execute_result"
    }
   ],
   "source": [
    "%%sql\n",
    "\n",
    "SELECT COUNT(1) FROM orders\n",
    "WHERE order_status in ('COMPLETE','CLOSED')\n",
    "    AND order_date like '2014-01%'\n",
    "LIMIT 10"
   ]
  },
  {
   "cell_type": "code",
   "execution_count": 19,
   "id": "9ca39825-8725-4084-8b5a-f46a4dec0489",
   "metadata": {},
   "outputs": [
    {
     "data": {
      "text/plain": [
       "+--------+\n",
       "|count(1)|\n",
       "+--------+\n",
       "|    2544|\n",
       "+--------+\n",
       "\n"
      ]
     },
     "execution_count": 19,
     "metadata": {},
     "output_type": "execute_result"
    }
   ],
   "source": [
    "%%sql\n",
    "\n",
    "SELECT COUNT(1) FROM orders\n",
    "WHERE (order_status = 'COMPLETE' or order_status = 'CLOSED')\n",
    "    AND order_date like '2014-01%'\n",
    "LIMIT 10"
   ]
  },
  {
   "cell_type": "code",
   "execution_count": 21,
   "id": "e5b81a90-df05-47eb-b3b3-350c2ad1172b",
   "metadata": {},
   "outputs": [
    {
     "data": {
      "text/plain": [
       "|   61920|2014-01-02 00:...\n"
      ]
     },
     "metadata": {},
     "output_type": "display_data",
     "source": "user"
    },
    {
     "data": {
      "text/plain": [
       "+--------+--------------------+-----------------+------------+\n",
       "|order_id|          order_date|order_customer_id|order_status|\n",
       "+--------+--------------------+-----------------+------------+\n",
       "|   61898|2014-01-01 00:00:...|            10152|    COMPLETE|\n",
       "|   61904|2014-01-01 00:00:...|              470|    COMPLETE|\n",
       "|   61907|2014-01-01 00:00:...|            11258|    COMPLETE|\n",
       "|   61908|2014-01-01 00:00:...|             5031|    COMPLETE|\n",
       "|   61910|2014-01-01 00:00:...|            11201|    COMPLETE|\n",
       "|   61913|2014-01-01 00:00:...|            12218|    COMPLETE|\n",
       "|   61914|2014-01-01 00:00:...|             2956|    COMPLETE|\n",
       "|   61919|2014-01-02 00:00:...|            12383|    COMPLETE|\n",
       "|   61920|2014-01-02 00:00:...|             2278|    COMPLETE|\n",
       "|   61921|2014-01-02 00:00:...|             3530|    COMPLETE|\n",
       "+--------+--------------------+-----------------+------------+\n",
       "\n"
      ]
     },
     "execution_count": 21,
     "metadata": {},
     "output_type": "execute_result"
    }
   ],
   "source": [
    "%%sql\n",
    "\n",
    "SELECT * FROM orders\n",
    "WHERE order_status in ('COMPLETE','CLOSED')\n",
    "    AND DATE_FORMAT(order_date,'YYYY-MM') like '2014-01'\n",
    "LIMIT 10"
   ]
  },
  {
   "cell_type": "code",
   "execution_count": 22,
   "id": "7b14dd4c-69f6-4f61-9279-e8d2ed7d7648",
   "metadata": {},
   "outputs": [
    {
     "data": {
      "text/plain": [
       "+--------+\n",
       "|count(1)|\n",
       "+--------+\n",
       "|    2544|\n",
       "+--------+\n",
       "\n"
      ]
     },
     "execution_count": 22,
     "metadata": {},
     "output_type": "execute_result"
    }
   ],
   "source": [
    "%%sql\n",
    "\n",
    "SELECT count(1) FROM orders\n",
    "WHERE order_status in ('COMPLETE','CLOSED')\n",
    "    AND DATE_FORMAT(order_date,'YYYY-MM') like '2014-01'\n",
    "LIMIT 10"
   ]
  },
  {
   "cell_type": "code",
   "execution_count": 24,
   "id": "c1580c37-0a20-4d19-bc54-ad5a6d1c27d8",
   "metadata": {},
   "outputs": [
    {
     "data": {
      "text/plain": [
       "++\n",
       "||\n",
       "++\n",
       "++\n",
       "\n"
      ]
     },
     "execution_count": 24,
     "metadata": {},
     "output_type": "execute_result"
    }
   ],
   "source": [
    "%%sql \n",
    "\n",
    "DROP DATABASE if exists itversity_sms cascade"
   ]
  },
  {
   "cell_type": "code",
   "execution_count": 25,
   "id": "08850f51-c9f5-4f00-94ea-63349136ce5f",
   "metadata": {},
   "outputs": [
    {
     "data": {
      "text/plain": [
       "++\n",
       "||\n",
       "++\n",
       "++\n",
       "\n"
      ]
     },
     "execution_count": 25,
     "metadata": {},
     "output_type": "execute_result"
    }
   ],
   "source": [
    "%%sql\n",
    "\n",
    "CREATE DATABASE IF NOT EXISTS itversity_sms"
   ]
  },
  {
   "cell_type": "code",
   "execution_count": 26,
   "id": "c194d7fe-5ef0-434b-822a-04ea81769820",
   "metadata": {},
   "outputs": [
    {
     "data": {
      "text/plain": [
       "++\n",
       "||\n",
       "++\n",
       "++\n",
       "\n"
      ]
     },
     "execution_count": 26,
     "metadata": {},
     "output_type": "execute_result"
    }
   ],
   "source": [
    "%%sql\n",
    "\n",
    "DROP TABLE IF EXISTS students"
   ]
  },
  {
   "cell_type": "code",
   "execution_count": 27,
   "id": "299b10a2-9341-4cf3-9ca8-0b180777caa9",
   "metadata": {},
   "outputs": [
    {
     "data": {
      "text/plain": [
       "++\n",
       "||\n",
       "++\n",
       "++\n",
       "\n"
      ]
     },
     "execution_count": 27,
     "metadata": {},
     "output_type": "execute_result"
    }
   ],
   "source": [
    "%%sql\n",
    "\n",
    "CREATE TABLE students (\n",
    "    student_id INT,\n",
    "    student_first_name STRING,\n",
    "    student_last_name STRING,\n",
    "    student_phone_number STRING,\n",
    "    student_address STRING\n",
    ") STORED AS avro"
   ]
  },
  {
   "cell_type": "code",
   "execution_count": 28,
   "id": "98f93816-c949-4f21-b295-9ef0baf18308",
   "metadata": {},
   "outputs": [
    {
     "data": {
      "text/plain": [
       "++\n",
       "||\n",
       "++\n",
       "++\n",
       "\n"
      ]
     },
     "execution_count": 28,
     "metadata": {},
     "output_type": "execute_result"
    }
   ],
   "source": [
    "%%sql\n",
    "\n",
    "INSERT INTO students VALUES (1, 'Scott', 'Tiger', NULL, NULL)"
   ]
  },
  {
   "cell_type": "code",
   "execution_count": 29,
   "id": "76cbfbf3-46fd-42b2-b20d-679e9ada5bad",
   "metadata": {},
   "outputs": [
    {
     "data": {
      "text/plain": [
       "++\n",
       "||\n",
       "++\n",
       "++\n",
       "\n"
      ]
     },
     "execution_count": 29,
     "metadata": {},
     "output_type": "execute_result"
    }
   ],
   "source": [
    "%%sql\n",
    "\n",
    "use itversity_sms"
   ]
  },
  {
   "cell_type": "code",
   "execution_count": 30,
   "id": "4e75ce20-9763-4885-84f0-ccefed4ac2e7",
   "metadata": {},
   "outputs": [
    {
     "data": {
      "text/plain": [
       "++\n",
       "||\n",
       "++\n",
       "++\n",
       "\n"
      ]
     },
     "execution_count": 30,
     "metadata": {},
     "output_type": "execute_result"
    }
   ],
   "source": [
    "%%sql\n",
    "\n",
    "CREATE TABLE students (\n",
    "    student_id INT,\n",
    "    student_first_name STRING,\n",
    "    student_last_name STRING,\n",
    "    student_phone_number STRING,\n",
    "    student_address STRING\n",
    ") STORED AS avro"
   ]
  },
  {
   "cell_type": "code",
   "execution_count": 31,
   "id": "72faad05-2277-43a3-9736-3f0af2e28719",
   "metadata": {},
   "outputs": [
    {
     "data": {
      "text/plain": [
       "++\n",
       "||\n",
       "++\n",
       "++\n",
       "\n"
      ]
     },
     "execution_count": 31,
     "metadata": {},
     "output_type": "execute_result"
    }
   ],
   "source": [
    "%%sql\n",
    "\n",
    "INSERT INTO students VALUES (1, 'Scott', 'Tiger', NULL, NULL)"
   ]
  },
  {
   "cell_type": "code",
   "execution_count": 32,
   "id": "77fef6fd-df16-46de-8707-c0d59c960dd7",
   "metadata": {},
   "outputs": [
    {
     "data": {
      "text/plain": [
       "++\n",
       "||\n",
       "++\n",
       "++\n",
       "\n"
      ]
     },
     "execution_count": 32,
     "metadata": {},
     "output_type": "execute_result"
    }
   ],
   "source": [
    "%%sql\n",
    "\n",
    "INSERT INTO students VALUES (2, 'Donald', 'Duck', '1234567890', NULL)"
   ]
  },
  {
   "cell_type": "code",
   "execution_count": 33,
   "id": "8f07bab7-6e85-49ac-bbdd-cdaf2ff664b3",
   "metadata": {},
   "outputs": [
    {
     "data": {
      "text/plain": [
       "++\n",
       "||\n",
       "++\n",
       "++\n",
       "\n"
      ]
     },
     "execution_count": 33,
     "metadata": {},
     "output_type": "execute_result"
    }
   ],
   "source": [
    "%%sql\n",
    "\n",
    "INSERT INTO students VALUES \n",
    "    (3, 'Mickey', 'Mouse', '2345678901', 'A Street, One City, Some State, 12345'),\n",
    "    (4, 'Bubble', 'Guppy', '6789012345', 'Bubbly Street, Guppy, La la land, 45678')"
   ]
  },
  {
   "cell_type": "code",
   "execution_count": 34,
   "id": "e9c23dbe-f217-4e7a-95bf-262a464bfed7",
   "metadata": {},
   "outputs": [
    {
     "data": {
      "text/plain": [
       "+----------+------------------+-----------------+--------------------+--...\n"
      ]
     },
     "metadata": {},
     "output_type": "display_data",
     "source": "user"
    },
    {
     "data": {
      "text/plain": [
       "+----------+------------------+-----------------+--------------------+--------------------+\n",
       "|student_id|student_first_name|student_last_name|student_phone_number|     student_address|\n",
       "+----------+------------------+-----------------+--------------------+--------------------+\n",
       "|         2|            Donald|             Duck|          1234567890|                null|\n",
       "|         3|            Mickey|            Mouse|          2345678901|A Street, One Cit...|\n",
       "|         1|             Scott|            Tiger|                null|                null|\n",
       "|         4|            Bubble|            Guppy|          6789012345|Bubbly Street, Gu...|\n",
       "+----------+------------------+-----------------+--------------------+--------------------+\n",
       "\n"
      ]
     },
     "execution_count": 34,
     "metadata": {},
     "output_type": "execute_result"
    }
   ],
   "source": [
    "%%sql\n",
    "\n",
    "SELECT * FROM students"
   ]
  },
  {
   "cell_type": "code",
   "execution_count": 35,
   "id": "ca6aa4a4-0965-4549-85a5-0180a0b5cc44",
   "metadata": {},
   "outputs": [
    {
     "data": {
      "text/plain": [
       "+----------+------------------+-----------------+--------------------+---------------+\n",
       "|student_id|student_first_name|student_last_name|student_phone_number|student_address|\n",
       "+----------+------------------+-----------------+--------------------+---------------+\n",
       "+----------+------------------+-----------------+--------------------+---------------+\n",
       "\n"
      ]
     },
     "execution_count": 35,
     "metadata": {},
     "output_type": "execute_result"
    }
   ],
   "source": [
    "%%SQL\n",
    "\n",
    "SELECT * FROM students where student_phone_number = NULL"
   ]
  },
  {
   "cell_type": "code",
   "execution_count": 36,
   "id": "455eb6e5-9da2-4120-b32c-53ff73f0c592",
   "metadata": {},
   "outputs": [
    {
     "data": {
      "text/plain": [
       "+----------+------------------+-----------------+--------------------+---------------+\n",
       "|student_id|student_first_name|student_last_name|student_phone_number|student_address|\n",
       "+----------+------------------+-----------------+--------------------+---------------+\n",
       "+----------+------------------+-----------------+--------------------+---------------+\n",
       "\n"
      ]
     },
     "execution_count": 36,
     "metadata": {},
     "output_type": "execute_result"
    }
   ],
   "source": [
    "%%SQL\n",
    "\n",
    "SELECT * FROM students where student_phone_number != NULL"
   ]
  },
  {
   "cell_type": "code",
   "execution_count": 37,
   "id": "3f59aa51-4929-4c1c-9af6-9a0990ab0511",
   "metadata": {},
   "outputs": [
    {
     "data": {
      "text/plain": [
       "+----------+------------------+-----------------+--------------------+---------------+\n",
       "|student_id|student_first_name|student_last_name|student_phone_number|student_address|\n",
       "+----------+------------------+-----------------+--------------------+---------------+\n",
       "|         1|             Scott|            Tiger|                null|           null|\n",
       "+----------+------------------+-----------------+--------------------+---------------+\n",
       "\n"
      ]
     },
     "execution_count": 37,
     "metadata": {},
     "output_type": "execute_result"
    }
   ],
   "source": [
    "%%SQL\n",
    "\n",
    "SELECT * FROM students where student_phone_number is NULL"
   ]
  },
  {
   "cell_type": "code",
   "execution_count": 38,
   "id": "fa3c31da-bb57-420d-aa9e-9ce77d07649b",
   "metadata": {},
   "outputs": [
    {
     "data": {
      "text/plain": [
       "+----------+------------------+-----------------+--------------------+--------------------+\n",
       "|student_id|student_first_name|student_last_name|student_phone_number|     student_address|\n",
       "+----------+------------------+-----------------+--------------------+--------------------+\n",
       "|         2|            Donald|             Duck|          1234567890|                null|\n",
       "|         3|            Mickey|            Mouse|          2345678901|A Street, One Cit...|\n",
       "|         4|            Bubble|            Guppy|          6789012345|Bubbly Street, Gu...|\n",
       "+----------+------------------+-----------------+--------------------+--------------------+\n",
       "\n"
      ]
     },
     "execution_count": 38,
     "metadata": {},
     "output_type": "execute_result"
    }
   ],
   "source": [
    "%%SQL\n",
    "\n",
    "SELECT * FROM students where student_phone_number is not NULL"
   ]
  },
  {
   "cell_type": "code",
   "execution_count": null,
   "id": "1171a4ac-ba2e-4ef3-9fec-71bc1ef9a984",
   "metadata": {},
   "outputs": [],
   "source": []
  }
 ],
 "metadata": {
  "kernelspec": {
   "display_name": "Apache Toree - Scala",
   "language": "scala",
   "name": "apache_toree_scala"
  },
  "language_info": {
   "codemirror_mode": "text/x-scala",
   "file_extension": ".scala",
   "mimetype": "text/x-scala",
   "name": "scala",
   "pygments_lexer": "scala",
   "version": "2.11.12"
  }
 },
 "nbformat": 4,
 "nbformat_minor": 5
}
