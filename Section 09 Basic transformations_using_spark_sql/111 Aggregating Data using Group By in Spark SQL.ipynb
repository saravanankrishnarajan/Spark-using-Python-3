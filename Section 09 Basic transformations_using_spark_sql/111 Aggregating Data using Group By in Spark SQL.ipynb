{
 "cells": [
  {
   "cell_type": "markdown",
   "id": "31389fee-8d07-417f-8020-21361dc9ba99",
   "metadata": {},
   "source": [
    "## 111 Aggregating Data using Group By in Spark SQL"
   ]
  },
  {
   "cell_type": "code",
   "execution_count": 1,
   "id": "076404ba-6be8-4569-8022-7e11335d57c2",
   "metadata": {},
   "outputs": [
    {
     "data": {
      "text/plain": [
       "username = itversity\n"
      ]
     },
     "metadata": {},
     "output_type": "display_data",
     "source": "user"
    },
    {
     "data": {
      "text/plain": [
       "itversity"
      ]
     },
     "execution_count": 1,
     "metadata": {},
     "output_type": "execute_result"
    }
   ],
   "source": [
    "val username = System.getProperty(\"user.name\")"
   ]
  },
  {
   "cell_type": "code",
   "execution_count": 2,
   "id": "a8a8d07d-394f-483b-976a-b8042b4e7c42",
   "metadata": {},
   "outputs": [
    {
     "data": {
      "text/plain": [
       "username = itversity\n",
       "spark = org.apache.spark.sql.SparkSession@7e67777\n"
      ]
     },
     "metadata": {},
     "output_type": "display_data",
     "source": "user"
    },
    {
     "data": {
      "text/plain": [
       "org.apache.spark.sql.SparkSession@7e67777"
      ]
     },
     "execution_count": 2,
     "metadata": {},
     "output_type": "execute_result"
    }
   ],
   "source": [
    "import org.apache.spark.sql.SparkSession\n",
    "\n",
    "val username = System.getProperty(\"user.name\")\n",
    "val spark = SparkSession.\n",
    "    builder.\n",
    "    config(\"spark.ui.port\", \"0\").\n",
    "    config(\"spark.sql.warehouse.dir\", s\"/user/${username}/warehouse\").\n",
    "    enableHiveSupport.\n",
    "    appName(s\"${username} | Spark SQL - Managing Tables - Basic DDL and DML2\").\n",
    "    master(\"yarn\").\n",
    "    getOrCreate"
   ]
  },
  {
   "cell_type": "code",
   "execution_count": 3,
   "id": "9899e593-de8c-4d6c-9c87-d590512cfb46",
   "metadata": {},
   "outputs": [
    {
     "data": {
      "text/plain": [
       "Waiting for a Spark session to start..."
      ]
     },
     "metadata": {},
     "output_type": "display_data",
     "source": "user"
    },
    {
     "data": {
      "text/plain": [
       "++\n",
       "||\n",
       "++\n",
       "++\n",
       "\n"
      ]
     },
     "execution_count": 3,
     "metadata": {},
     "output_type": "execute_result"
    }
   ],
   "source": [
    "%%sql\n",
    "\n",
    "use itversity_retail"
   ]
  },
  {
   "cell_type": "code",
   "execution_count": 4,
   "id": "2880178f-6dc8-45da-a3c3-de6368f27b27",
   "metadata": {},
   "outputs": [
    {
     "data": {
      "text/plain": [
       "+----------------+-----------+-----------+\n",
       "|        database|  tableName|isTemporary|\n",
       "+----------------+-----------+-----------+\n",
       "|itversity_retail|order_items|      false|\n",
       "|itversity_retail|     orders|      false|\n",
       "|itversity_retail|   students|      false|\n",
       "+----------------+-----------+-----------+\n",
       "\n"
      ]
     },
     "execution_count": 4,
     "metadata": {},
     "output_type": "execute_result"
    }
   ],
   "source": [
    "%%sql \n",
    "\n",
    "show tables"
   ]
  },
  {
   "cell_type": "code",
   "execution_count": 5,
   "id": "d0a64fde-557f-4414-bc9f-1fa7e01f5d7e",
   "metadata": {},
   "outputs": [
    {
     "data": {
      "text/plain": [
       "+--------+\n",
       "|count(1)|\n",
       "+--------+\n",
       "|   68883|\n",
       "+--------+\n",
       "\n"
      ]
     },
     "execution_count": 5,
     "metadata": {},
     "output_type": "execute_result"
    }
   ],
   "source": [
    "%%SQL\n",
    "\n",
    "select count(1) from orders"
   ]
  },
  {
   "cell_type": "code",
   "execution_count": 7,
   "id": "78d3dd63-a9c4-4a39-a576-c00fb06c0422",
   "metadata": {},
   "outputs": [
    {
     "data": {
      "text/plain": [
       "+--------------------------+\n",
       "|count(DISTINCT order_date)|\n",
       "+--------------------------+\n",
       "|                       364|\n",
       "+--------------------------+\n",
       "\n"
      ]
     },
     "execution_count": 7,
     "metadata": {},
     "output_type": "execute_result"
    }
   ],
   "source": [
    "%%sql\n",
    "\n",
    "select count(distinct order_date) from orders"
   ]
  },
  {
   "cell_type": "code",
   "execution_count": 10,
   "id": "1aa1108f-2e3f-4b2c-bf4f-9a477a775a9a",
   "metadata": {},
   "outputs": [
    {
     "data": {
      "text/plain": [
       "+--------------------------------------------------+\n",
       "|round(sum(CAST(order_item_subtotal AS DOUBLE)), 2)|\n",
       "+--------------------------------------------------+\n",
       "|                                            579.98|\n",
       "+--------------------------------------------------+\n",
       "\n"
      ]
     },
     "execution_count": 10,
     "metadata": {},
     "output_type": "execute_result"
    }
   ],
   "source": [
    "%%sql\n",
    "\n",
    "select round(sum(order_item_subtotal),2) from order_items \n",
    "where order_item_order_id=2"
   ]
  },
  {
   "cell_type": "code",
   "execution_count": 20,
   "id": "faf8e3d3-2abf-4e32-93d4-bb8cc633ba9e",
   "metadata": {},
   "outputs": [
    {
     "data": {
      "text/plain": [
       "+--------+\n",
       "|count(1)|\n",
       "+--------+\n",
       "|   30455|\n",
       "+--------+\n",
       "\n"
      ]
     },
     "execution_count": 20,
     "metadata": {},
     "output_type": "execute_result"
    }
   ],
   "source": [
    "%%sql\n",
    "\n",
    "select count(1)\n",
    "from orders\n",
    "where order_status in ('COMPLETE','CLOSED')"
   ]
  },
  {
   "cell_type": "code",
   "execution_count": 12,
   "id": "e7bde28c-2481-477d-9a40-924bb66253eb",
   "metadata": {},
   "outputs": [
    {
     "data": {
      "text/plain": [
       "+--------------------+--------+\n",
       "|          order_date|count(1)|\n",
       "+--------------------+--------+\n",
       "|2013-08-13 00:00:...|      73|\n",
       "|2014-03-19 00:00:...|     130|\n",
       "|2014-04-26 00:00:...|     251|\n",
       "|2013-10-12 00:00:...|     162|\n",
       "|2013-11-15 00:00:...|     135|\n",
       "|2013-09-16 00:00:...|     121|\n",
       "|2013-09-20 00:00:...|     139|\n",
       "|2013-12-31 00:00:...|     266|\n",
       "|2013-09-06 00:00:...|     276|\n",
       "|2014-06-15 00:00:...|     128|\n",
       "+--------------------+--------+\n",
       "only showing top 10 rows\n",
       "\n"
      ]
     },
     "execution_count": 12,
     "metadata": {},
     "output_type": "execute_result"
    }
   ],
   "source": [
    "%%SQL\n",
    "\n",
    "SELECT order_date, count(1)\n",
    "from orders\n",
    "group by order_date"
   ]
  },
  {
   "cell_type": "code",
   "execution_count": 13,
   "id": "6cfd6745-35a2-4931-842d-41357461870f",
   "metadata": {},
   "outputs": [
    {
     "data": {
      "text/plain": [
       "+---------------+--------+\n",
       "|   order_status|count(1)|\n",
       "+---------------+--------+\n",
       "|PENDING_PAYMENT|   15030|\n",
       "|       COMPLETE|   22899|\n",
       "|        ON_HOLD|    3798|\n",
       "| PAYMENT_REVIEW|     729|\n",
       "|     PROCESSING|    8275|\n",
       "|         CLOSED|    7556|\n",
       "|SUSPECTED_FRAUD|    1558|\n",
       "|        PENDING|    7610|\n",
       "|       CANCELED|    1428|\n",
       "+---------------+--------+\n",
       "\n"
      ]
     },
     "execution_count": 13,
     "metadata": {},
     "output_type": "execute_result"
    }
   ],
   "source": [
    "%%sql\n",
    "\n",
    "select order_status, count(1) from orders group by order_status"
   ]
  },
  {
   "cell_type": "code",
   "execution_count": 15,
   "id": "b7a13285-431c-4aee-b9e2-b8c3f4cde8cc",
   "metadata": {},
   "outputs": [
    {
     "data": {
      "text/plain": [
       "+-------------------+-------------+\n",
       "|order_item_order_id|order_revenue|\n",
       "+-------------------+-------------+\n",
       "|                148|       479.99|\n",
       "|                463|       829.92|\n",
       "|                471|       169.98|\n",
       "|                496|       441.95|\n",
       "|               1088|       249.97|\n",
       "|               1580|       299.95|\n",
       "|               1591|       439.86|\n",
       "|               1645|      1509.79|\n",
       "|               2366|       299.97|\n",
       "|               2659|       724.91|\n",
       "+-------------------+-------------+\n",
       "\n"
      ]
     },
     "execution_count": 15,
     "metadata": {},
     "output_type": "execute_result"
    }
   ],
   "source": [
    "%%sql\n",
    "\n",
    "select order_item_order_id, round(sum(order_item_subtotal),2) as order_revenue\n",
    "from order_items\n",
    "group by order_item_order_id limit 10"
   ]
  },
  {
   "cell_type": "code",
   "execution_count": 16,
   "id": "c4924cdd-1082-4bf2-a26c-8f87a5eeed85",
   "metadata": {},
   "outputs": [
    {
     "data": {
      "text/plain": [
       "+--------------------+------...\n"
      ]
     },
     "metadata": {},
     "output_type": "display_data",
     "source": "user"
    },
    {
     "data": {
      "text/plain": [
       "+--------------------+---------------------+-------+\n",
       "|          order_date|order_item_product_id|revenue|\n",
       "+--------------------+---------------------+-------+\n",
       "|2013-07-27 00:00:...|                  703|  39.98|\n",
       "|2013-07-29 00:00:...|                  793|  44.97|\n",
       "|2013-08-12 00:00:...|                  627| 3199.2|\n",
       "|2013-08-15 00:00:...|                  926|  15.99|\n",
       "|2013-09-04 00:00:...|                  957|3599.76|\n",
       "|2013-09-07 00:00:...|                  235| 104.97|\n",
       "|2013-09-17 00:00:...|                  792|  14.99|\n",
       "|2013-09-25 00:00:...|                   44| 239.96|\n",
       "|2013-09-27 00:00:...|                  276|  31.99|\n",
       "|2013-10-04 00:00:...|                  792|  44.97|\n",
       "+--------------------+---------------------+-------+\n",
       "\n"
      ]
     },
     "execution_count": 16,
     "metadata": {},
     "output_type": "execute_result"
    }
   ],
   "source": [
    "%%sql\n",
    "\n",
    "SELECT o.order_date,\n",
    "    oi.order_item_product_id, round(sum(oi.order_item_subtotal),2) as revenue\n",
    "FROM orders o JOIN order_items oi\n",
    "    ON o.order_id = oi.order_item_order_id\n",
    "WHERE o.order_status IN ('COMPLETE', 'CLOSED')\n",
    "GROUP BY o.order_date,\n",
    "    oi.order_item_product_id\n",
    "LIMIT 10"
   ]
  },
  {
   "cell_type": "code",
   "execution_count": 17,
   "id": "02c23ae4-0143-4262-9df2-668f5865ce39",
   "metadata": {},
   "outputs": [
    {
     "data": {
      "text/plain": [
       "            :  +- SubqueryAlias...\n"
      ]
     },
     "metadata": {},
     "output_type": "display_data",
     "source": "user"
    },
    {
     "data": {
      "text/plain": [
       "Magic sql failed to execute with error: \n",
       "cannot resolve '`revenue`' given input columns: [oi.order_item_quantity, oi.order_item_product_id, oi.order_item_product_price, oi.order_item_id, o.order_id, o.order_date, o.order_customer_id, oi.order_item_subtotal, o.order_status, oi.order_item_order_id]; line 1 pos 231;\n",
       "'GlobalLimit 10\n",
       "+- 'LocalLimit 10\n",
       "   +- 'Aggregate ['o.order_date, 'oi.order_item_product_id], ['o.order_date, 'oi.order_item_product_id, 'round('sum('oi.order_item_subtotal), 2) AS revenue#183]\n",
       "      +- 'Filter (order_status#187 IN (COMPLETE,CLOSED) && ('revenue >= 500))\n",
       "         +- Join Inner, (order_id#184 = order_item_order_id#189)\n",
       "            :- SubqueryAlias `o`\n",
       "            :  +- SubqueryAlias `itversity_retail`.`orders`\n",
       "            :     +- HiveTableRelation `itversity_retail`.`orders`, org.apache.hadoop.hive.serde2.lazy.LazySimpleSerDe, [order_id#184, order_date#185, order_customer_id#186, order_status#187]\n",
       "            +- SubqueryAlias `oi`\n",
       "               +- SubqueryAlias `itversity_retail`.`order_items`\n",
       "                  +- HiveTableRelation `itversity_retail`.`order_items`, org.apache.hadoop.hive.serde2.lazy.LazySimpleSerDe, [order_item_id#188, order_item_order_id#189, order_item_product_id#190, order_item_quantity#191, order_item_subtotal#192, order_item_product_price#193]\n"
      ]
     },
     "execution_count": 17,
     "metadata": {},
     "output_type": "execute_result"
    }
   ],
   "source": [
    "%%sql\n",
    "\n",
    "SELECT o.order_date,\n",
    "    oi.order_item_product_id, round(sum(oi.order_item_subtotal),2) as revenue\n",
    "FROM orders o JOIN order_items oi\n",
    "    ON o.order_id = oi.order_item_order_id\n",
    "WHERE o.order_status IN ('COMPLETE', 'CLOSED')\n",
    "    AND revenue >=500\n",
    "GROUP BY o.order_date,\n",
    "    oi.order_item_product_id\n",
    "LIMIT 10"
   ]
  },
  {
   "cell_type": "code",
   "execution_count": 22,
   "id": "83aa4583-58cd-4edc-9a3f-115c8afbcfc0",
   "metadata": {},
   "outputs": [
    {
     "data": {
      "text/plain": [
       "               +- *(2) Broad...\n"
      ]
     },
     "metadata": {},
     "output_type": "display_data",
     "source": "user"
    },
    {
     "data": {
      "text/plain": [
       "Magic sql failed to execute with error: \n",
       "execute, tree:\n",
       "Exchange SinglePartition\n",
       "+- *(3) LocalLimit 10\n",
       "   +- *(3) HashAggregate(keys=[order_date#294, order_item_product_id#299], functions=[sum(cast(order_item_subtotal#301 as double))], output=[order_date#294, order_item_product_id#299, revenue#292])\n",
       "      +- Exchange hashpartitioning(order_date#294, order_item_product_id#299, 200)\n",
       "         +- *(2) HashAggregate(keys=[order_date#294, order_item_product_id#299], functions=[partial_sum(cast(order_item_subtotal#301 as double))], output=[order_date#294, order_item_product_id#299, sum#318])\n",
       "            +- *(2) Project [order_date#294, order_item_product_id#299, order_item_subtotal#301]\n",
       "               +- *(2) BroadcastHashJoin [order_id#293], [order_item_order_id#298], Inner, BuildLeft\n",
       "                  :- BroadcastExchange HashedRelationBroadcastMode(List(cast(input[0, int, true] as bigint)))\n",
       "                  :  +- *(1) Project [order_id#293, order_date#294]\n",
       "                  :     +- *(1) Filter (order_status#296 IN (COMPLETE,CLOSED) && isnotnull(order_id#293))\n",
       "                  :        +- Scan hive itversity_retail.orders [order_date#294, order_id#293, order_status#296], HiveTableRelation `itversity_retail`.`orders`, org.apache.hadoop.hive.serde2.lazy.LazySimpleSerDe, [order_id#293, order_date#294, order_customer_id#295, order_status#296]\n",
       "                  +- *(2) Filter ((sum(cast(order_item_subtotal#301 as double)) >= 500.0) && isnotnull(order_item_order_id#298))\n",
       "                     +- Scan hive itversity_retail.order_items [order_item_order_id#298, order_item_product_id#299, order_item_subtotal#301], HiveTableRelation `itversity_retail`.`order_items`, org.apache.hadoop.hive.serde2.lazy.LazySimpleSerDe, [order_item_id#297, order_item_order_id#298, order_item_product_id#299, order_item_quantity#300, order_item_subtotal#301, order_item_product_price#302]\n"
      ]
     },
     "execution_count": 23,
     "metadata": {},
     "output_type": "execute_result"
    }
   ],
   "source": [
    "%%sql\n",
    "\n",
    "SELECT o.order_date,\n",
    "    oi.order_item_product_id, round(sum(oi.order_item_subtotal),2) as revenue\n",
    "FROM orders o JOIN order_items oi\n",
    "    ON o.order_id = oi.order_item_order_id\n",
    "WHERE o.order_status IN ('COMPLETE', 'CLOSED')\n",
    "    AND round(sum(oi.order_item_subtotal),2) >=500\n",
    "GROUP BY o.order_date,\n",
    "    oi.order_item_product_id\n",
    "LIMIT 10"
   ]
  },
  {
   "cell_type": "code",
   "execution_count": 18,
   "id": "c0efb2da-5594-49da-935c-74161c9b2d14",
   "metadata": {},
   "outputs": [
    {
     "data": {
      "text/plain": [
       "+--------------------+------...\n"
      ]
     },
     "metadata": {},
     "output_type": "display_data",
     "source": "user"
    },
    {
     "data": {
      "text/plain": [
       "+--------------------+---------------------+-------+\n",
       "|          order_date|order_item_product_id|revenue|\n",
       "+--------------------+---------------------+-------+\n",
       "|2013-08-04 00:00:...|                  403|3119.76|\n",
       "|2013-09-08 00:00:...|                 1073|3199.84|\n",
       "|2013-09-09 00:00:...|                  957|5399.64|\n",
       "|2013-09-15 00:00:...|                  627|1039.74|\n",
       "|2013-09-22 00:00:...|                  365|6058.99|\n",
       "|2013-10-03 00:00:...|                  565|  700.0|\n",
       "|2013-11-03 00:00:...|                  957|8099.46|\n",
       "|2013-11-25 00:00:...|                 1014|2798.88|\n",
       "|2013-12-19 00:00:...|                  191|2399.76|\n",
       "|2013-12-22 00:00:...|                  403|5069.61|\n",
       "+--------------------+---------------------+-------+\n",
       "\n"
      ]
     },
     "execution_count": 18,
     "metadata": {},
     "output_type": "execute_result"
    }
   ],
   "source": [
    "%%sql\n",
    "\n",
    "SELECT o.order_date,\n",
    "    oi.order_item_product_id, round(sum(oi.order_item_subtotal),2) as revenue\n",
    "FROM orders o JOIN order_items oi\n",
    "    ON o.order_id = oi.order_item_order_id\n",
    "WHERE o.order_status IN ('COMPLETE', 'CLOSED')\n",
    "GROUP BY o.order_date,\n",
    "    oi.order_item_product_id\n",
    "HAVING revenue >=500\n",
    "LIMIT 10"
   ]
  },
  {
   "cell_type": "code",
   "execution_count": null,
   "id": "28f51282-e20e-4861-9d74-b25c9e13ed06",
   "metadata": {},
   "outputs": [],
   "source": []
  }
 ],
 "metadata": {
  "kernelspec": {
   "display_name": "Apache Toree - Scala",
   "language": "scala",
   "name": "apache_toree_scala"
  },
  "language_info": {
   "codemirror_mode": "text/x-scala",
   "file_extension": ".scala",
   "mimetype": "text/x-scala",
   "name": "scala",
   "pygments_lexer": "scala",
   "version": "2.11.12"
  }
 },
 "nbformat": 4,
 "nbformat_minor": 5
}
