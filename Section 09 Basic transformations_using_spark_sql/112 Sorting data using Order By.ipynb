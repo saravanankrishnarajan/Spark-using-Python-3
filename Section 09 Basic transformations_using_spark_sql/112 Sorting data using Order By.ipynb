{
 "cells": [
  {
   "cell_type": "markdown",
   "id": "ef4aa62b-fab6-4dd6-ac41-a039b799a27a",
   "metadata": {},
   "source": [
    "## 112 Sorting data using Order By"
   ]
  },
  {
   "cell_type": "code",
   "execution_count": 1,
   "id": "d2934125-5566-4f34-aecc-d69516f69160",
   "metadata": {},
   "outputs": [
    {
     "data": {
      "text/plain": [
       "username = itversity\n"
      ]
     },
     "metadata": {},
     "output_type": "display_data",
     "source": "user"
    },
    {
     "data": {
      "text/plain": [
       "itversity"
      ]
     },
     "execution_count": 1,
     "metadata": {},
     "output_type": "execute_result"
    }
   ],
   "source": [
    "val username = System.getProperty(\"user.name\")"
   ]
  },
  {
   "cell_type": "code",
   "execution_count": 2,
   "id": "23dc57e0-22fb-41bd-ac81-41197aace8f4",
   "metadata": {},
   "outputs": [
    {
     "data": {
      "text/plain": [
       "username = itversity\n",
       "spark = org.apache.spark.sql.SparkSession@6089ce39\n"
      ]
     },
     "metadata": {},
     "output_type": "display_data",
     "source": "user"
    },
    {
     "data": {
      "text/plain": [
       "org.apache.spark.sql.SparkSession@6089ce39"
      ]
     },
     "execution_count": 2,
     "metadata": {},
     "output_type": "execute_result"
    }
   ],
   "source": [
    "import org.apache.spark.sql.SparkSession\n",
    "\n",
    "val username = System.getProperty(\"user.name\")\n",
    "val spark = SparkSession.\n",
    "    builder.\n",
    "    config(\"spark.ui.port\", \"0\").\n",
    "    config(\"spark.sql.warehouse.dir\", s\"/user/${username}/warehouse\").\n",
    "    enableHiveSupport.\n",
    "    appName(s\"${username} | Spark SQL - Managing Tables - Basic DDL and DML2\").\n",
    "    master(\"yarn\").\n",
    "    getOrCreate"
   ]
  },
  {
   "cell_type": "code",
   "execution_count": 3,
   "id": "5fdf4744-8181-4177-a4a8-8d008128481f",
   "metadata": {},
   "outputs": [
    {
     "data": {
      "text/plain": [
       "Waiting for a Spark session to start..."
      ]
     },
     "metadata": {},
     "output_type": "display_data",
     "source": "user"
    },
    {
     "data": {
      "text/plain": [
       "++\n",
       "||\n",
       "++\n",
       "++\n",
       "\n"
      ]
     },
     "execution_count": 3,
     "metadata": {},
     "output_type": "execute_result"
    }
   ],
   "source": [
    "%%sql\n",
    "\n",
    "use itversity_retail"
   ]
  },
  {
   "cell_type": "code",
   "execution_count": 4,
   "id": "00ad4a5e-6bbd-40ac-994d-b20f8a393ebc",
   "metadata": {},
   "outputs": [
    {
     "data": {
      "text/plain": [
       "|   56178|2014-07-15 00:00:...|                3|        ...\n"
      ]
     },
     "metadata": {},
     "output_type": "display_data",
     "source": "user"
    },
    {
     "data": {
      "text/plain": [
       "+--------+--------------------+-----------------+---------------+\n",
       "|order_id|          order_date|order_customer_id|   order_status|\n",
       "+--------+--------------------+-----------------+---------------+\n",
       "|   22945|2013-12-13 00:00:...|                1|       COMPLETE|\n",
       "|   57963|2013-08-02 00:00:...|                2|        ON_HOLD|\n",
       "|   67863|2013-11-30 00:00:...|                2|       COMPLETE|\n",
       "|   15192|2013-10-29 00:00:...|                2|PENDING_PAYMENT|\n",
       "|   33865|2014-02-18 00:00:...|                2|       COMPLETE|\n",
       "|   35158|2014-02-26 00:00:...|                3|       COMPLETE|\n",
       "|   46399|2014-05-09 00:00:...|                3|     PROCESSING|\n",
       "|   56178|2014-07-15 00:00:...|                3|        PENDING|\n",
       "|   57617|2014-07-24 00:00:...|                3|       COMPLETE|\n",
       "|   61453|2013-12-14 00:00:...|                3|       COMPLETE|\n",
       "+--------+--------------------+-----------------+---------------+\n",
       "\n"
      ]
     },
     "execution_count": 4,
     "metadata": {},
     "output_type": "execute_result"
    }
   ],
   "source": [
    "%%sql\n",
    "\n",
    "SELECT * FROM orders\n",
    "ORDER BY order_customer_id \n",
    "limit 10"
   ]
  },
  {
   "cell_type": "code",
   "execution_count": 5,
   "id": "b634e380-30bb-4153-9ebf-2329752908a6",
   "metadata": {},
   "outputs": [
    {
     "data": {
      "text/plain": [
       "|    5303|2013-08-26 00:00:...|            12434|        ...\n"
      ]
     },
     "metadata": {},
     "output_type": "display_data",
     "source": "user"
    },
    {
     "data": {
      "text/plain": [
       "+--------+--------------------+-----------------+---------------+\n",
       "|order_id|          order_date|order_customer_id|   order_status|\n",
       "+--------+--------------------+-----------------+---------------+\n",
       "|   41643|2014-04-08 00:00:...|            12435|        PENDING|\n",
       "|   61629|2013-12-21 00:00:...|            12435|       CANCELED|\n",
       "|   42915|2014-04-16 00:00:...|            12434|       COMPLETE|\n",
       "|   51800|2014-06-14 00:00:...|            12434|        ON_HOLD|\n",
       "|   61777|2013-12-26 00:00:...|            12434|       COMPLETE|\n",
       "|    1868|2013-08-03 00:00:...|            12434|         CLOSED|\n",
       "|    4799|2013-08-23 00:00:...|            12434|PENDING_PAYMENT|\n",
       "|    5303|2013-08-26 00:00:...|            12434|        PENDING|\n",
       "|    6160|2013-09-02 00:00:...|            12434|       COMPLETE|\n",
       "|   13544|2013-10-16 00:00:...|            12434|        PENDING|\n",
       "+--------+--------------------+-----------------+---------------+\n",
       "\n"
      ]
     },
     "execution_count": 5,
     "metadata": {},
     "output_type": "execute_result"
    }
   ],
   "source": [
    "%%sql\n",
    "\n",
    "SELECT * FROM orders\n",
    "ORDER BY order_customer_id DESC\n",
    "limit 10"
   ]
  },
  {
   "cell_type": "code",
   "execution_count": 6,
   "id": "37583b25-b99e-47f3-a311-5bdae8147137",
   "metadata": {},
   "outputs": [
    {
     "data": {
      "text/plain": [
       "|   46399|2014-05-09 00:00:...|                3|     PRO...\n"
      ]
     },
     "metadata": {},
     "output_type": "display_data",
     "source": "user"
    },
    {
     "data": {
      "text/plain": [
       "+--------+--------------------+-----------------+---------------+\n",
       "|order_id|          order_date|order_customer_id|   order_status|\n",
       "+--------+--------------------+-----------------+---------------+\n",
       "|   22945|2013-12-13 00:00:...|                1|       COMPLETE|\n",
       "|   33865|2014-02-18 00:00:...|                2|       COMPLETE|\n",
       "|   67863|2013-11-30 00:00:...|                2|       COMPLETE|\n",
       "|   15192|2013-10-29 00:00:...|                2|PENDING_PAYMENT|\n",
       "|   57963|2013-08-02 00:00:...|                2|        ON_HOLD|\n",
       "|   57617|2014-07-24 00:00:...|                3|       COMPLETE|\n",
       "|   56178|2014-07-15 00:00:...|                3|        PENDING|\n",
       "|   46399|2014-05-09 00:00:...|                3|     PROCESSING|\n",
       "|   35158|2014-02-26 00:00:...|                3|       COMPLETE|\n",
       "|   23662|2013-12-19 00:00:...|                3|       COMPLETE|\n",
       "+--------+--------------------+-----------------+---------------+\n",
       "\n"
      ]
     },
     "execution_count": 6,
     "metadata": {},
     "output_type": "execute_result"
    }
   ],
   "source": [
    "%%sql\n",
    "\n",
    "SELECT * FROM orders\n",
    "ORDER BY order_customer_id,\n",
    "    order_date DESC\n",
    "LIMIT 10"
   ]
  },
  {
   "cell_type": "code",
   "execution_count": 7,
   "id": "96fe5ff7-b423-4890-bbc8-7ff8231e338d",
   "metadata": {},
   "outputs": [
    {
     "data": {
      "text/plain": [
       "+--------------------+------...\n"
      ]
     },
     "metadata": {},
     "output_type": "display_data",
     "source": "user"
    },
    {
     "data": {
      "text/plain": [
       "+--------------------+---------------------+-------+\n",
       "|          order_date|order_item_product_id|revenue|\n",
       "+--------------------+---------------------+-------+\n",
       "|2013-07-25 00:00:...|                 1004|5599.72|\n",
       "|2013-07-25 00:00:...|                  191|5099.49|\n",
       "|2013-07-25 00:00:...|                  957| 4499.7|\n",
       "|2013-07-25 00:00:...|                  365|3359.44|\n",
       "|2013-07-25 00:00:...|                 1073|2999.85|\n",
       "|2013-07-25 00:00:...|                 1014|2798.88|\n",
       "|2013-07-25 00:00:...|                  403|1949.85|\n",
       "|2013-07-25 00:00:...|                  502| 1650.0|\n",
       "|2013-07-25 00:00:...|                  627|1079.73|\n",
       "|2013-07-25 00:00:...|                  226| 599.99|\n",
       "+--------------------+---------------------+-------+\n",
       "\n"
      ]
     },
     "execution_count": 7,
     "metadata": {},
     "output_type": "execute_result"
    }
   ],
   "source": [
    "%%sql\n",
    "\n",
    "SELECT o.order_date,\n",
    "    oi.order_item_product_id,\n",
    "    round(sum(oi.order_item_subtotal), 2) AS revenue\n",
    "FROM orders o JOIN order_items oi\n",
    "    ON o.order_id = oi.order_item_order_id\n",
    "WHERE o.order_status IN ('COMPLETE', 'CLOSED')\n",
    "GROUP BY o.order_date,\n",
    "    oi.order_item_product_id\n",
    "ORDER BY o.order_date,\n",
    "    revenue DESC\n",
    "LIMIT 10"
   ]
  },
  {
   "cell_type": "code",
   "execution_count": null,
   "id": "1964061a-b11d-41b6-a2cd-b9ea4508036e",
   "metadata": {},
   "outputs": [],
   "source": []
  }
 ],
 "metadata": {
  "kernelspec": {
   "display_name": "Apache Toree - Scala",
   "language": "scala",
   "name": "apache_toree_scala"
  },
  "language_info": {
   "codemirror_mode": "text/x-scala",
   "file_extension": ".scala",
   "mimetype": "text/x-scala",
   "name": "scala",
   "pygments_lexer": "scala",
   "version": "2.11.12"
  }
 },
 "nbformat": 4,
 "nbformat_minor": 5
}
