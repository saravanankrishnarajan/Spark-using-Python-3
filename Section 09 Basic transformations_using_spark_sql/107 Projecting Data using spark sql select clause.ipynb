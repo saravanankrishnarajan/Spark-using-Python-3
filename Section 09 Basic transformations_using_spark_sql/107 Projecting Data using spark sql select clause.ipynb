{
 "cells": [
  {
   "cell_type": "markdown",
   "id": "bc4ff1f0-2de0-4950-a80e-ecd86e06a9b5",
   "metadata": {},
   "source": [
    "### 107 Projecting Data using spark sql select clause"
   ]
  },
  {
   "cell_type": "code",
   "execution_count": 1,
   "id": "aa2ee995-27ad-4010-ae3e-9ffae583b02b",
   "metadata": {},
   "outputs": [
    {
     "data": {
      "text/plain": [
       "username = itversity\n"
      ]
     },
     "metadata": {},
     "output_type": "display_data",
     "source": "user"
    },
    {
     "data": {
      "text/plain": [
       "itversity"
      ]
     },
     "execution_count": 1,
     "metadata": {},
     "output_type": "execute_result"
    }
   ],
   "source": [
    "val username = System.getProperty(\"user.name\")"
   ]
  },
  {
   "cell_type": "code",
   "execution_count": 2,
   "id": "73ac9ccd-bb47-45cb-987b-5416d943a9b5",
   "metadata": {},
   "outputs": [
    {
     "data": {
      "text/plain": [
       "username = itversity\n",
       "spark = org.apache.spark.sql.SparkSession@1df0190a\n"
      ]
     },
     "metadata": {},
     "output_type": "display_data",
     "source": "user"
    },
    {
     "data": {
      "text/plain": [
       "org.apache.spark.sql.SparkSession@1df0190a"
      ]
     },
     "execution_count": 2,
     "metadata": {},
     "output_type": "execute_result"
    }
   ],
   "source": [
    "import org.apache.spark.sql.SparkSession\n",
    "\n",
    "val username = System.getProperty(\"user.name\")\n",
    "val spark = SparkSession.\n",
    "    builder.\n",
    "    config(\"spark.ui.port\", \"0\").\n",
    "    config(\"spark.sql.warehouse.dir\", s\"/user/${username}/warehouse\").\n",
    "    enableHiveSupport.\n",
    "    appName(s\"${username} | Spark SQL - Managing Tables - Basic DDL and DML\").\n",
    "    master(\"yarn\").\n",
    "    getOrCreate"
   ]
  },
  {
   "cell_type": "code",
   "execution_count": 3,
   "id": "a79ae551-2b93-401c-9800-a58056249957",
   "metadata": {},
   "outputs": [
    {
     "data": {
      "text/plain": [
       "Waiting for a Spark session to start..."
      ]
     },
     "metadata": {},
     "output_type": "display_data",
     "source": "user"
    },
    {
     "data": {
      "text/plain": [
       "++\n",
       "||\n",
       "++\n",
       "++\n",
       "\n"
      ]
     },
     "execution_count": 3,
     "metadata": {},
     "output_type": "execute_result"
    }
   ],
   "source": [
    "%%sql\n",
    "\n",
    "USE itversity_retail"
   ]
  },
  {
   "cell_type": "code",
   "execution_count": 5,
   "id": "357d41c9-9e75-40ee-adf2-ad2c744569ed",
   "metadata": {},
   "outputs": [
    {
     "data": {
      "text/plain": [
       "|       8|2013-07-25 00:00:...|             2911|     PRO...\n"
      ]
     },
     "metadata": {},
     "output_type": "display_data",
     "source": "user"
    },
    {
     "data": {
      "text/plain": [
       "+--------+--------------------+-----------------+---------------+\n",
       "|order_id|          order_date|order_customer_id|   order_status|\n",
       "+--------+--------------------+-----------------+---------------+\n",
       "|       1|2013-07-25 00:00:...|            11599|         CLOSED|\n",
       "|       2|2013-07-25 00:00:...|              256|PENDING_PAYMENT|\n",
       "|       3|2013-07-25 00:00:...|            12111|       COMPLETE|\n",
       "|       4|2013-07-25 00:00:...|             8827|         CLOSED|\n",
       "|       5|2013-07-25 00:00:...|            11318|       COMPLETE|\n",
       "|       6|2013-07-25 00:00:...|             7130|       COMPLETE|\n",
       "|       7|2013-07-25 00:00:...|             4530|       COMPLETE|\n",
       "|       8|2013-07-25 00:00:...|             2911|     PROCESSING|\n",
       "|       9|2013-07-25 00:00:...|             5657|PENDING_PAYMENT|\n",
       "|      10|2013-07-25 00:00:...|             5648|PENDING_PAYMENT|\n",
       "+--------+--------------------+-----------------+---------------+\n",
       "\n"
      ]
     },
     "execution_count": 5,
     "metadata": {},
     "output_type": "execute_result"
    }
   ],
   "source": [
    "%%sql \n",
    "select * from orders limit 10"
   ]
  },
  {
   "cell_type": "code",
   "execution_count": 6,
   "id": "451b9a34-2e3a-4313-85e5-86fd09407140",
   "metadata": {},
   "outputs": [
    {
     "data": {
      "text/plain": [
       "+-----------------+---------+--------------------+\n",
       "|         col_name|data_type|             comment|\n",
       "+-----------------+---------+--------------------+\n",
       "|         order_id|      int|     Unique order id|\n",
       "|       order_date|   string|Date on which ord...|\n",
       "|order_customer_id|      int|Customer id who p...|\n",
       "|     order_status|   string|Current status of...|\n",
       "+-----------------+---------+--------------------+\n",
       "\n"
      ]
     },
     "execution_count": 6,
     "metadata": {},
     "output_type": "execute_result"
    }
   ],
   "source": [
    "%%sql\n",
    "\n",
    "DESCRIBE orders"
   ]
  },
  {
   "cell_type": "code",
   "execution_count": 8,
   "id": "76e6812a-42a2-4022-9744-b5dcf42e9510",
   "metadata": {},
   "outputs": [
    {
     "data": {
      "text/plain": [
       "|             5648|2013-07-25 00:...\n"
      ]
     },
     "metadata": {},
     "output_type": "display_data",
     "source": "user"
    },
    {
     "data": {
      "text/plain": [
       "+-----------------+--------------------+---------------+\n",
       "|order_customer_id|          order_date|   order_status|\n",
       "+-----------------+--------------------+---------------+\n",
       "|            11599|2013-07-25 00:00:...|         CLOSED|\n",
       "|              256|2013-07-25 00:00:...|PENDING_PAYMENT|\n",
       "|            12111|2013-07-25 00:00:...|       COMPLETE|\n",
       "|             8827|2013-07-25 00:00:...|         CLOSED|\n",
       "|            11318|2013-07-25 00:00:...|       COMPLETE|\n",
       "|             7130|2013-07-25 00:00:...|       COMPLETE|\n",
       "|             4530|2013-07-25 00:00:...|       COMPLETE|\n",
       "|             2911|2013-07-25 00:00:...|     PROCESSING|\n",
       "|             5657|2013-07-25 00:00:...|PENDING_PAYMENT|\n",
       "|             5648|2013-07-25 00:00:...|PENDING_PAYMENT|\n",
       "+-----------------+--------------------+---------------+\n",
       "only showing top 10 rows\n",
       "\n"
      ]
     },
     "execution_count": 8,
     "metadata": {},
     "output_type": "execute_result"
    }
   ],
   "source": [
    "%%sql\n",
    "\n",
    "select order_customer_id, order_date, order_status from orders"
   ]
  },
  {
   "cell_type": "code",
   "execution_count": 22,
   "id": "a7894e28-f206-4530-9c0d-03e697a26a79",
   "metadata": {},
   "outputs": [
    {
     "data": {
      "text/plain": [
       "|            ...\n"
      ]
     },
     "metadata": {},
     "output_type": "display_data",
     "source": "user"
    },
    {
     "data": {
      "text/plain": [
       "+-----------------+---------------------------------------------------+---------------+\n",
       "|order_customer_id|date_format(CAST(order_date AS TIMESTAMP), YYYY-MM)|   order_status|\n",
       "+-----------------+---------------------------------------------------+---------------+\n",
       "|            11599|                                            2013-07|         CLOSED|\n",
       "|              256|                                            2013-07|PENDING_PAYMENT|\n",
       "|            12111|                                            2013-07|       COMPLETE|\n",
       "|             8827|                                            2013-07|         CLOSED|\n",
       "|            11318|                                            2013-07|       COMPLETE|\n",
       "|             7130|                                            2013-07|       COMPLETE|\n",
       "|             4530|                                            2013-07|       COMPLETE|\n",
       "|             2911|                                            2013-07|     PROCESSING|\n",
       "|             5657|                                            2013-07|PENDING_PAYMENT|\n",
       "|             5648|                                            2013-07|PENDING_PAYMENT|\n",
       "+-----------------+---------------------------------------------------+---------------+\n",
       "\n"
      ]
     },
     "execution_count": 22,
     "metadata": {},
     "output_type": "execute_result"
    }
   ],
   "source": [
    "%%sql\n",
    "\n",
    "SELECT order_customer_id, DATE_FORMAT(order_date, 'YYYY-MM'), order_status from orders limit 10"
   ]
  },
  {
   "cell_type": "code",
   "execution_count": 21,
   "id": "48c806da-8e91-43d5-8472-71387d6fc26c",
   "metadata": {},
   "outputs": [
    {
     "data": {
      "text/plain": [
       "+-----------------+-----------+---------------+\n",
       "|order_customer_id|order_month|   order_status|\n",
       "+-----------------+-----------+---------------+\n",
       "|             8702|    2014-02|       COMPLETE|\n",
       "|             3066|    2014-02|PENDING_PAYMENT|\n",
       "|             7314|    2014-02|SUSPECTED_FRAUD|\n",
       "|             1271|    2014-02|       COMPLETE|\n",
       "|            11083|    2014-02|       COMPLETE|\n",
       "|             3159|    2014-02|         CLOSED|\n",
       "|             4551|    2014-02|         CLOSED|\n",
       "|             8135|    2014-02|        PENDING|\n",
       "|             7497|    2014-02|PENDING_PAYMENT|\n",
       "|             1868|    2014-02|        ON_HOLD|\n",
       "+-----------------+-----------+---------------+\n",
       "\n"
      ]
     },
     "execution_count": 21,
     "metadata": {},
     "output_type": "execute_result"
    }
   ],
   "source": [
    "%%sql\n",
    "\n",
    "SELECT order_customer_id, DATE_FORMAT(order_date, 'YYYY-MM') AS order_month, order_status from orders limit 10"
   ]
  },
  {
   "cell_type": "code",
   "execution_count": 15,
   "id": "f6ff9836-75b0-4302-9f26-77320312dca7",
   "metadata": {},
   "outputs": [
    {
     "data": {
      "text/plain": [
       "+--------+\n",
       "|count(1)|\n",
       "+--------+\n",
       "|   68883|\n",
       "+--------+\n",
       "\n"
      ]
     },
     "execution_count": 15,
     "metadata": {},
     "output_type": "execute_result"
    }
   ],
   "source": [
    "%%sql\n",
    "\n",
    "select count(1) from orders"
   ]
  },
  {
   "cell_type": "code",
   "execution_count": 20,
   "id": "df43d2af-72d7-4c43-999e-cafd71448be8",
   "metadata": {},
   "outputs": [
    {
     "data": {
      "text/plain": [
       "+---------------+\n",
       "|   order_status|\n",
       "+---------------+\n",
       "|PENDING_PAYMENT|\n",
       "|       COMPLETE|\n",
       "|        ON_HOLD|\n",
       "| PAYMENT_REVIEW|\n",
       "|     PROCESSING|\n",
       "|         CLOSED|\n",
       "|SUSPECTED_FRAUD|\n",
       "|        PENDING|\n",
       "|       CANCELED|\n",
       "+---------------+\n",
       "\n"
      ]
     },
     "execution_count": 20,
     "metadata": {},
     "output_type": "execute_result"
    }
   ],
   "source": [
    "%%sql\n",
    "\n",
    "select distinct(order_status) from orders limit 10"
   ]
  },
  {
   "cell_type": "code",
   "execution_count": 19,
   "id": "176e10fb-73c4-4a1e-869d-9278ba50acb3",
   "metadata": {},
   "outputs": [
    {
     "data": {
      "text/plain": [
       "|     974|2013-07-30 00:00:...|             6413|        ...\n"
      ]
     },
     "metadata": {},
     "output_type": "display_data",
     "source": "user"
    },
    {
     "data": {
      "text/plain": [
       "+--------+--------------------+-----------------+---------------+\n",
       "|order_id|          order_date|order_customer_id|   order_status|\n",
       "+--------+--------------------+-----------------+---------------+\n",
       "|     189|2013-07-26 00:00:...|            10177|        PENDING|\n",
       "|     379|2013-07-27 00:00:...|             8735|PENDING_PAYMENT|\n",
       "|     440|2013-07-27 00:00:...|             7290|       COMPLETE|\n",
       "|     471|2013-07-27 00:00:...|            10861|        PENDING|\n",
       "|     599|2013-07-28 00:00:...|             8005|       COMPLETE|\n",
       "|     665|2013-07-28 00:00:...|             5648|        ON_HOLD|\n",
       "|     736|2013-07-29 00:00:...|             8536|       COMPLETE|\n",
       "|     974|2013-07-30 00:00:...|             6413|         CLOSED|\n",
       "|    1052|2013-07-30 00:00:...|              464|     PROCESSING|\n",
       "|    1175|2013-07-31 00:00:...|             1330|       COMPLETE|\n",
       "+--------+--------------------+-----------------+---------------+\n",
       "\n"
      ]
     },
     "execution_count": 19,
     "metadata": {},
     "output_type": "execute_result"
    }
   ],
   "source": [
    "%%sql\n",
    "\n",
    "select distinct * from orders limit 10"
   ]
  },
  {
   "cell_type": "code",
   "execution_count": 23,
   "id": "49ab3538-db68-460b-8708-a9c8fcdf9b29",
   "metadata": {},
   "outputs": [
    {
     "data": {
      "text/plain": [
       "+--------------------+-----------+\n",
       "|                 key|      value|\n",
       "+--------------------+-----------+\n",
       "|hive.support.quot...|<undefined>|\n",
       "+--------------------+-----------+\n",
       "\n"
      ]
     },
     "execution_count": 23,
     "metadata": {},
     "output_type": "execute_result"
    }
   ],
   "source": [
    "%%sql\n",
    "\n",
    "SET hive.support.quoted.identifiers"
   ]
  },
  {
   "cell_type": "code",
   "execution_count": 24,
   "id": "0bd474b2-c6b5-4012-9776-af6c0ae0e5e6",
   "metadata": {},
   "outputs": [
    {
     "data": {
      "text/plain": [
       "+--------------------+-----+\n",
       "|                 key|value|\n",
       "+--------------------+-----+\n",
       "|hive.support.quot...| none|\n",
       "+--------------------+-----+\n",
       "\n"
      ]
     },
     "execution_count": 24,
     "metadata": {},
     "output_type": "execute_result"
    }
   ],
   "source": [
    "%%sql\n",
    "\n",
    "SET hive.support.quoted.identifiers=none"
   ]
  },
  {
   "cell_type": "code",
   "execution_count": 26,
   "id": "d25aada4-3382-4746-8846-56c369e2a949",
   "metadata": {},
   "outputs": [
    {
     "data": {
      "text/plain": [
       "Magic sql failed to execute with error: \n",
       "cannot resolve '`(order_id)?+.+`' given input columns: [itversity_retail.orders.order_id, itversity_retail.orders.order_date, itversity_retail.orders.order_customer_id, itversity_retail.orders.order_status]; line 1 pos 7;\n",
       "'GlobalLimit 10\n",
       "+- 'LocalLimit 10\n",
       "   +- 'Project ['`(order_id)?+.+`]\n",
       "      +- SubqueryAlias `itversity_retail`.`orders`\n",
       "         +- HiveTableRelation `itversity_retail`.`orders`, org.apache.hadoop.hive.serde2.lazy.LazySimpleSerDe, [order_id#255, order_date#256, order_customer_id#257, order_status#258]\n"
      ]
     },
     "execution_count": 26,
     "metadata": {},
     "output_type": "execute_result"
    }
   ],
   "source": [
    "%%sql\n",
    "\n",
    "SELECT `(order_id)?+.+` FROM orders limit 10"
   ]
  },
  {
   "cell_type": "code",
   "execution_count": null,
   "id": "1041ebd1-25fc-425e-b5d2-5d4031f202c4",
   "metadata": {},
   "outputs": [],
   "source": []
  }
 ],
 "metadata": {
  "kernelspec": {
   "display_name": "Apache Toree - Scala",
   "language": "scala",
   "name": "apache_toree_scala"
  },
  "language_info": {
   "codemirror_mode": "text/x-scala",
   "file_extension": ".scala",
   "mimetype": "text/x-scala",
   "name": "scala",
   "pygments_lexer": "scala",
   "version": "2.11.12"
  }
 },
 "nbformat": 4,
 "nbformat_minor": 5
}
